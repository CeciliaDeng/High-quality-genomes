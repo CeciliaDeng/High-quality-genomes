{
 "cells": [
  {
   "cell_type": "markdown",
   "metadata": {},
   "source": [
    "# Synteny between FLYE contigs and 10x contigs\n",
    "\n",
    "The 10x assembly has been scaffolded using HiC data from Ali (manually). However, there are still small contigs left over without any anchoring evidence. Here is to try using FLYE contigs stiching small contigs into chromosomes."
   ]
  },
  {
   "cell_type": "markdown",
   "metadata": {},
   "source": [
    "## 1. input assemblies"
   ]
  },
  {
   "cell_type": "code",
   "execution_count": 2,
   "metadata": {},
   "outputs": [],
   "source": [
    "FLYE_CTG=/workspace/hraczw/github/GA/Gillenia_genome/100.assemblies/Flye_all_i1.assembly.ml1000.fasta\n",
    "X_CTG=/output/genomic/plant/Gillenia/trifoliata/31_ReleaseS4/01_Release/G3_2_S4.1.2KB.fasta"
   ]
  },
  {
   "cell_type": "code",
   "execution_count": 6,
   "metadata": {},
   "outputs": [],
   "source": [
    "mkdir 009.SyntenyBetweenAssemblies"
   ]
  },
  {
   "cell_type": "code",
   "execution_count": 1,
   "metadata": {},
   "outputs": [],
   "source": [
    "WORKDIR=/workspace/hraczw/github/GA/Gillenia_genome/009.SyntenyBetweenAssemblies"
   ]
  },
  {
   "cell_type": "code",
   "execution_count": 9,
   "metadata": {},
   "outputs": [
    {
     "name": "stdout",
     "output_type": "stream",
     "text": [
      "Job <263657> is submitted to default queue <lowpriority>.\n"
     ]
    }
   ],
   "source": [
    "bsub -J nucmer \\\n",
    "-m aklppb39 \\\n",
    "-n 40 \\\n",
    "-o $WORKDIR/nucmer.out \\\n",
    "-e $WORKDIR/nucmer.err \\\n",
    "\"/workspace/hrarnc/software/mummer-4.0.0beta2/bin/nucmer \\\n",
    "--mum \\\n",
    "--delta=$WORKDIR/AssembliesComparison.delta \\\n",
    "-t 40 \\\n",
    "$FLYE_CTG $X_CTG\""
   ]
  },
  {
   "cell_type": "code",
   "execution_count": 12,
   "metadata": {},
   "outputs": [
    {
     "name": "stdout",
     "output_type": "stream",
     "text": [
      "Job <263702> is submitted to default queue <lowpriority>.\n"
     ]
    }
   ],
   "source": [
    "bsub -J show-coords \\\n",
    "-o $WORKDIR/show-coords.out \\\n",
    "-e $WORKDIR/show-coords.err \\\n",
    "\"/workspace/hrarnc/software/mummer-4.0.0beta2/bin/show-coords -l -L 1000 -T \\\n",
    "$WORKDIR/AssembliesComparison.delta\""
   ]
  },
  {
   "cell_type": "code",
   "execution_count": 4,
   "metadata": {},
   "outputs": [
    {
     "name": "stdout",
     "output_type": "stream",
     "text": [
      "Job <264704> is submitted to default queue <lowpriority>.\n"
     ]
    }
   ],
   "source": [
    "bsub -J dnadiff \\\n",
    "-o $WORKDIR/dnadiff.out \\\n",
    "-e $WORKDIR/dnadiff.err \\\n",
    "\"/workspace/hrarnc/software/mummer-4.0.0beta2/bin/dnadiff -d $WORKDIR/AssembliesComparison.delta \\\n",
    "-p $WORKDIR/AssembliesComparison\""
   ]
  }
 ],
 "metadata": {
  "kernelspec": {
   "display_name": "Bash",
   "language": "bash",
   "name": "bash"
  },
  "language_info": {
   "codemirror_mode": "shell",
   "file_extension": ".sh",
   "mimetype": "text/x-sh",
   "name": "bash"
  }
 },
 "nbformat": 4,
 "nbformat_minor": 4
}
