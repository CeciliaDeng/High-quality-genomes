{
 "cells": [
  {
   "cell_type": "markdown",
   "metadata": {},
   "source": [
    "# Gillenia genome kmer analysis"
   ]
  },
  {
   "cell_type": "code",
   "execution_count": 1,
   "metadata": {},
   "outputs": [],
   "source": [
    "R1=/input/genomic/plant/Gillenia/trifoliata/2019_Novogene_10X/customer-6g2hQKfL/BDHX190030841-1a/G3-2-AK3720_S4_L001_R1_001.fastq.gz\n",
    "R2=/input/genomic/plant/Gillenia/trifoliata/2019_Novogene_10X/customer-6g2hQKfL/BDHX190030841-1a/G3-2-AK3720_S4_L001_R2_001.fastq.gz"
   ]
  },
  {
   "cell_type": "code",
   "execution_count": 2,
   "metadata": {},
   "outputs": [],
   "source": [
    "REF=/output/genomic/plant/Gillenia/trifoliata/Assembly/gillenia_genome_v1.NCBI.fasta"
   ]
  },
  {
   "cell_type": "code",
   "execution_count": 3,
   "metadata": {},
   "outputs": [],
   "source": [
    "mkdir 019.kmerAnalysis"
   ]
  },
  {
   "cell_type": "code",
   "execution_count": 4,
   "metadata": {},
   "outputs": [],
   "source": [
    "WDR=019.kmerAnalysis"
   ]
  },
  {
   "cell_type": "code",
   "execution_count": 8,
   "metadata": {},
   "outputs": [
    {
     "name": "stdout",
     "output_type": "stream",
     "text": [
      "Job <587347> is submitted to default queue <lowpriority>.\n"
     ]
    }
   ],
   "source": [
    "bsub -J uncomp \\\n",
    "-o $WDR/uncomp1.out \\\n",
    "-e $WDR/uncomp1.err \\\n",
    "\"gzip -c -d $R1 > $WDR/G3-2-AK3720_S4_L001_R1_001.fastq\""
   ]
  },
  {
   "cell_type": "code",
   "execution_count": 9,
   "metadata": {},
   "outputs": [
    {
     "name": "stdout",
     "output_type": "stream",
     "text": [
      "Job <587348> is submitted to default queue <lowpriority>.\n"
     ]
    }
   ],
   "source": [
    "bsub -J uncomp2 \\\n",
    "-o $WDR/uncomp2.out \\\n",
    "-e $WDR/uncomp2.err \\\n",
    "\"gzip -c -d $R2 > $WDR/G3-2-AK3720_S4_L001_R2_001.fastq\""
   ]
  },
  {
   "cell_type": "code",
   "execution_count": 1,
   "metadata": {},
   "outputs": [
    {
     "name": "stdout",
     "output_type": "stream",
     "text": [
      "Currently Loaded Modulefiles:\n",
      "  1) powerPlant/core    4) git/2.21.0         7) asub/2.1\n",
      "  2) texlive/20151117   5) perlbrew/0.76      8) jellyfish/2.2.10\n",
      "  3) pandoc/1.19.2      6) perl/5.28.0\n"
     ]
    }
   ],
   "source": [
    "module load jellyfish\n",
    "module list"
   ]
  },
  {
   "cell_type": "code",
   "execution_count": 3,
   "metadata": {},
   "outputs": [
    {
     "name": "stdout",
     "output_type": "stream",
     "text": [
      "Usage: jellyfish histo [options] db:path\n",
      "\n",
      "Create an histogram of k-mer occurrences\n",
      "\n",
      "Create an histogram with the number of k-mers having a given\n",
      "count. In bucket 'i' are tallied the k-mers which have a count 'c'\n",
      "satisfying 'low+i*inc <= c < low+(i+1)*inc'. Buckets in the output are\n",
      "labeled by the low end point (low+i*inc).\n",
      "\n",
      "The last bucket in the output behaves as a catchall: it tallies all\n",
      "k-mers with a count greater or equal to the low end point of this\n",
      "bucket.\n",
      "\n",
      "Options (default value in (), *required):\n",
      " -l, --low=uint64                         Low count value of histogram (1)\n",
      " -h, --high=uint64                        High count value of histogram (10000)\n",
      " -i, --increment=uint64                   Increment value for buckets (1)\n",
      " -t, --threads=uint32                     Number of threads (1)\n",
      " -f, --full                               Full histo. Don't skip count 0. (false)\n",
      " -o, --output=string                      Output file\n",
      " -v, --verbose                            Output information (false)\n",
      " -U, --usage                              Usage\n",
      "     --help                               This message\n",
      "     --full-help                          Detailed help\n",
      " -V, --version                            Version\n"
     ]
    }
   ],
   "source": [
    "jellyfish histo --help"
   ]
  },
  {
   "cell_type": "code",
   "execution_count": 13,
   "metadata": {},
   "outputs": [
    {
     "name": "stdout",
     "output_type": "stream",
     "text": [
      "Job <588006> is submitted to default queue <lowpriority>.\n"
     ]
    }
   ],
   "source": [
    "bsub -J count \\\n",
    "-n 20 \\\n",
    "-m wkoppg31 \\\n",
    "-o $WDR/count.out \\\n",
    "-e $WDR/count.err \\\n",
    "\"jellyfish count \\\n",
    "-C -m 21 \\\n",
    "-s 100G \\\n",
    "-t 20 \\\n",
    "-o $WDR/reads.jf \\\n",
    "$WDR/*.fastq\""
   ]
  },
  {
   "cell_type": "code",
   "execution_count": 5,
   "metadata": {},
   "outputs": [
    {
     "name": "stdout",
     "output_type": "stream",
     "text": [
      "Job <636851> is submitted to default queue <lowpriority>.\n"
     ]
    }
   ],
   "source": [
    "bsub -J histo \\\n",
    "-n 10 \\\n",
    "-o $WDR/histo.out \\\n",
    "-e $WDR/histo.err \\\n",
    "\"jellyfish histo \\\n",
    "-t 10 \\\n",
    "$WDR/reads.jf > $WDR/reads.histo\""
   ]
  }
 ],
 "metadata": {
  "kernelspec": {
   "display_name": "Bash",
   "language": "bash",
   "name": "bash"
  },
  "language_info": {
   "codemirror_mode": "shell",
   "file_extension": ".sh",
   "mimetype": "text/x-sh",
   "name": "bash"
  }
 },
 "nbformat": 4,
 "nbformat_minor": 4
}
