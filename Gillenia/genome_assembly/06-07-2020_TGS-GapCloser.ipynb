{
 "cells": [
  {
   "cell_type": "markdown",
   "metadata": {},
   "source": [
    "# Gap closing using TGS-GapCloser\n",
    "\n",
    "It was unclear whether the program could extend contig ends, therefore resolving telomeres to the 10x contigs. Below is the response from the authro:\n",
    "* From the author (Mengyang): TGS-GapCloser is designed for closing the gaps in the assembly, which means both contig ends need to match the long reads. It does not work for a single contig end to extend. In your case, I would suggest that cut off the suspicious sequences at the end of the contig first, align the modified end (>2kbp) to long reads to find the candidate extensions, and find the best matched long-read segment to finally extend the end to telomere. You can choose the best segment based on the alignment length and alignment quality.\n",
    "\n",
    "I'll still run this program to close gaps of contigs and probalby find other alternatives or we'll write scripts coupled with alignment tools to fix the problem.\n"
   ]
  },
  {
   "cell_type": "code",
   "execution_count": 1,
   "metadata": {},
   "outputs": [],
   "source": [
    "export PATH=/workspace/hraczw/github/programs/TGS-GapCloser/:$PATH"
   ]
  },
  {
   "cell_type": "code",
   "execution_count": 2,
   "metadata": {},
   "outputs": [],
   "source": [
    "WORKDIR=/workspace/hraczw/github/GA/Gillenia_genome/005.GapFilling"
   ]
  },
  {
   "cell_type": "code",
   "execution_count": 18,
   "metadata": {},
   "outputs": [],
   "source": [
    "SCAFF_LINKS_I8=/workspace/hraczw/github/GA/Gillenia_genome/004.Scaffolding_10Xcontigs/k21_t20_d5000/scaffolds_k21_t10_d40000.scaffolds.fa"
   ]
  },
  {
   "cell_type": "markdown",
   "metadata": {},
   "source": [
    "## 1. convert ONT fastq to fasta\n",
    "TGS-GapCloser only takes fasta format input"
   ]
  },
  {
   "cell_type": "code",
   "execution_count": 14,
   "metadata": {},
   "outputs": [
    {
     "name": "stdout",
     "output_type": "stream",
     "text": [
      "Currently Loaded Modulefiles:\n",
      "  1) powerPlant/core        4) git/2.21.0             7) asub/2.1\n",
      "  2) texlive/20151117       5) perlbrew/0.76          8) fastx_toolkit/0.0.13\n",
      "  3) pandoc/1.19.2          6) perl/5.28.0            9) seqtk/1.2\n"
     ]
    }
   ],
   "source": [
    "module load seqtk\n",
    "module list"
   ]
  },
  {
   "cell_type": "code",
   "execution_count": 15,
   "metadata": {
    "collapsed": true,
    "jupyter": {
     "outputs_hidden": true
    }
   },
   "outputs": [
    {
     "name": "stdout",
     "output_type": "stream",
     "text": [
      "seq: invalid option -- 'h'\n",
      "\n",
      "Usage:   seqtk seq [options] <in.fq>|<in.fa>\n",
      "\n",
      "Options: -q INT    mask bases with quality lower than INT [0]\n",
      "         -X INT    mask bases with quality higher than INT [255]\n",
      "         -n CHAR   masked bases converted to CHAR; 0 for lowercase [0]\n",
      "         -l INT    number of residues per line; 0 for 2^32-1 [0]\n",
      "         -Q INT    quality shift: ASCII-INT gives base quality [33]\n",
      "         -s INT    random seed (effective with -f) [11]\n",
      "         -f FLOAT  sample FLOAT fraction of sequences [1]\n",
      "         -M FILE   mask regions in BED or name list FILE [null]\n",
      "         -L INT    drop sequences with length shorter than INT [0]\n",
      "         -c        mask complement region (effective with -M)\n",
      "         -r        reverse complement\n",
      "         -A        force FASTA output (discard quality)\n",
      "         -C        drop comments at the header lines\n",
      "         -N        drop sequences containing ambiguous bases\n",
      "         -1        output the 2n-1 reads only\n",
      "         -2        output the 2n reads only\n",
      "         -V        shift quality by '(-Q) - 33'\n",
      "         -U        convert all bases to uppercases\n",
      "         -S        strip of white spaces in sequences\n",
      "\n"
     ]
    }
   ],
   "source": [
    "seqtk seq -h"
   ]
  },
  {
   "cell_type": "code",
   "execution_count": 16,
   "metadata": {},
   "outputs": [
    {
     "name": "stdout",
     "output_type": "stream",
     "text": [
      "Job <231661> is submitted to default queue <lowpriority>.\n"
     ]
    }
   ],
   "source": [
    "bsub -J fq-to-fa \\\n",
    "-o $WORKDIR/fq-to-fa.minion.out \\\n",
    "-e $WORKDIR/fq-to-fa.minion.err \\\n",
    "\"seqtk seq -A Gillenia_MinNION.fastq > Gillenia_MiNION.fasta\""
   ]
  },
  {
   "cell_type": "code",
   "execution_count": 17,
   "metadata": {},
   "outputs": [
    {
     "name": "stdout",
     "output_type": "stream",
     "text": [
      "Job <231662> is submitted to default queue <lowpriority>.\n"
     ]
    }
   ],
   "source": [
    "bsub -J fq-to-fa \\\n",
    "-o $WORKDIR/fq-to-fa.p.out \\\n",
    "-e $WORKDIR/fq-to-fa.p.err \\\n",
    "\"seqtk seq -A Gillenia_PromethION.fastq > Gillenia_PromethION.fasta\""
   ]
  },
  {
   "cell_type": "markdown",
   "metadata": {},
   "source": [
    "## 2. Test run on TGS-GapCloser\n",
    "\n",
    "* this is a test run on the links i8 version of scaffolds\n",
    "* error correction will be done using short reads R1 from S4"
   ]
  },
  {
   "cell_type": "code",
   "execution_count": 19,
   "metadata": {},
   "outputs": [
    {
     "name": "stdout",
     "output_type": "stream",
     "text": [
      "Job <231663> is submitted to default queue <lowpriority>.\n"
     ]
    }
   ],
   "source": [
    "bsub -J merge \\\n",
    "-o merge_to_allLong.out \\\n",
    "-e merge_to_allLong.err \\\n",
    "\"cat Gillenia_MiNION.fasta Gillenia_PromethION.fasta > Gillenia_all_longReads.fasta\""
   ]
  },
  {
   "cell_type": "code",
   "execution_count": 20,
   "metadata": {},
   "outputs": [],
   "source": [
    "rm Gillenia_PromethION.fasta\n",
    "rm Gillenia_MiNION.fasta"
   ]
  },
  {
   "cell_type": "code",
   "execution_count": 22,
   "metadata": {},
   "outputs": [
    {
     "name": "stdout",
     "output_type": "stream",
     "text": [
      "Job <231665> is submitted to default queue <lowpriority>.\n"
     ]
    }
   ],
   "source": [
    "# try a run without correction\n",
    "\n",
    "bsub -J tgs-gapcloser \\\n",
    "-m aklppb34 \\\n",
    "-n 20 \\\n",
    "-o $WORKDIR/tgs-gapcloser_test.out \\\n",
    "-e $WORKDIR/tgs-gapcloser_test.err \\\n",
    "\"TGS-GapCloser.sh \\\n",
    "--scaff $SCAFF_LINKS_I8 \\\n",
    "--reads Gillenia_all_longReads.fasta \\\n",
    "--output $WORKDIR/scaff_links_i8_gapFilled.tgs-gapcloser \\\n",
    "--ne \\\n",
    "--thread 20\""
   ]
  },
  {
   "cell_type": "code",
   "execution_count": 23,
   "metadata": {},
   "outputs": [],
   "source": [
    "R1=/input/genomic/plant/Gillenia/trifoliata/2019_Novogene_10X/customer-6g2hQKfL/BDHX190030841-1a/G3-2-AK3720_S4_L001_R1_001.fastq.gz"
   ]
  },
  {
   "cell_type": "code",
   "execution_count": 24,
   "metadata": {},
   "outputs": [
    {
     "name": "stdout",
     "output_type": "stream",
     "text": [
      "Job <231669> is submitted to default queue <lowpriority>.\n"
     ]
    }
   ],
   "source": [
    "# try a run with Racon and pilon correction\n",
    "\n",
    "bsub -J tgs-gapcloser \\\n",
    "-m aklppb34 \\\n",
    "-n 20 \\\n",
    "-o $WORKDIR/tgs-gapcloser_test.out \\\n",
    "-e $WORKDIR/tgs-gapcloser_test.err \\\n",
    "\"TGS-GapCloser.sh \\\n",
    "--scaff $SCAFF_LINKS_I8 \\\n",
    "--reads Gillenia_all_longReads.fasta \\\n",
    "--output $WORKDIR/scaff_links_i8_gapFilled.corrected.tgs-gapcloser \\\n",
    "--ngs $R1 \\\n",
    "--pilon /software/bioinformatics/pilon-1.23/pilon-1.23.jar \\\n",
    "--samtools /software/bioinformatics/samtools-1.9/bin/samtools \\\n",
    "--java /usr/lib/jvm/java-1.8.0/bin/java \\\n",
    "--thread 20\""
   ]
  },
  {
   "cell_type": "markdown",
   "metadata": {},
   "source": [
    "**This R1 needs to be barcode-trimmed! stop the job!**"
   ]
  },
  {
   "cell_type": "markdown",
   "metadata": {},
   "source": [
    "## 3. official run on TGS-GapCloser\n",
    "\n",
    "* filling gaps on the links_i10 version (d=50000)\n",
    "* using S3 library for error correction (need to trim 10x barcodes first)"
   ]
  },
  {
   "cell_type": "code",
   "execution_count": 25,
   "metadata": {},
   "outputs": [],
   "source": [
    "SCAFF_LINKS_I10=/workspace/hraczw/github/GA/Gillenia_genome/004.Scaffolding_10Xcontigs/k21_t20_d5000/scaffolds_k21_t10_d50000.scaffolds.fa"
   ]
  },
  {
   "cell_type": "code",
   "execution_count": 1,
   "metadata": {},
   "outputs": [],
   "source": [
    "SCAFF_LINKS_I6=/workspace/hraczw/github/GA/Gillenia_genome/004.Scaffolding_10Xcontigs/k21_t20_d5000/scaffolds_k21_t10_d30000.scaffolds.fa"
   ]
  },
  {
   "cell_type": "code",
   "execution_count": 5,
   "metadata": {},
   "outputs": [],
   "source": [
    "SCAFF_LINKS_I4=/workspace/hraczw/github/GA/Gillenia_genome/004.Scaffolding_10Xcontigs/k21_t20_d5000/scaffolds_k21_t10_d20000.scaffolds.fa"
   ]
  },
  {
   "cell_type": "code",
   "execution_count": 14,
   "metadata": {},
   "outputs": [],
   "source": [
    "SCAFF_LINKS_I1=/workspace/hraczw/github/GA/Gillenia_genome/004.Scaffolding_10Xcontigs/k21_t20_d5000/scaffolds_k21_t20_d5000.scaffolds.fa"
   ]
  },
  {
   "cell_type": "code",
   "execution_count": 16,
   "metadata": {},
   "outputs": [],
   "source": [
    "SCAFF_SLR=/workspace/hraczw/github/GA/Gillenia_genome/004.Scaffolding_10Xcontigs/SLR/scaffold_set.fa"
   ]
  },
  {
   "cell_type": "code",
   "execution_count": 7,
   "metadata": {},
   "outputs": [],
   "source": [
    "R1_S3=/workspace/hraczw/github/GA/Gillenia_genome/005.GapFilling/G3-2-AK3719_S3_L001_R1_001.fastq.gz\n",
    "R1_S2=/workspace/hraczw/github/GA/Gillenia_genome/005.GapFilling/G3-2-AK3718_S2_L001_R1_001.fastq.gz\n",
    "R1_S1=/workspace/hraczw/github/GA/Gillenia_genome/005.GapFilling/G3-2-AK3717_S1_L001_R1_001.fastq.gz"
   ]
  },
  {
   "cell_type": "code",
   "execution_count": 32,
   "metadata": {},
   "outputs": [
    {
     "name": "stdout",
     "output_type": "stream",
     "text": [
      "Job <231946> is submitted to default queue <lowpriority>.\n"
     ]
    }
   ],
   "source": [
    "bsub -J merge \\\n",
    "-o $WORKDIR/merge_10x.out \\\n",
    "-e $WORKDIR/merge_10x.err \\\n",
    "\"cat $R1_S3 $R1_S2 $R1_S1 > $WORKDIR/10x_S1-S3_R1.fastq.gz\""
   ]
  },
  {
   "cell_type": "code",
   "execution_count": 33,
   "metadata": {},
   "outputs": [],
   "source": [
    "R1_S1TOS3=$WORKDIR/10x_S1-S3_R1.fastq.gz"
   ]
  },
  {
   "cell_type": "code",
   "execution_count": 34,
   "metadata": {},
   "outputs": [
    {
     "name": "stdout",
     "output_type": "stream",
     "text": [
      "Job <231948> is submitted to default queue <lowpriority>.\n"
     ]
    }
   ],
   "source": [
    "bsub -J tgs-gapcloser \\\n",
    "-m aklppb34 \\\n",
    "-n 60 \\\n",
    "-o $WORKDIR/tgs-gapcloser_links_i10.out \\\n",
    "-e $WORKDIR/tgs-gapcloser_links_i10.err \\\n",
    "\"TGS-GapCloser.sh \\\n",
    "--scaff $SCAFF_LINKS_I10 \\\n",
    "--reads Gillenia_all_longReads.fasta \\\n",
    "--output $WORKDIR/scaff_links_i10_gapFilled.corrected.tgs-gapcloser \\\n",
    "--ngs $R1_S1TOS3 \\\n",
    "--pilon /software/bioinformatics/pilon-1.23/pilon-1.23.jar \\\n",
    "--samtools /software/bioinformatics/samtools-1.9/bin/samtools \\\n",
    "--java /usr/lib/jvm/java-1.8.0/bin/java \\\n",
    "--thread 60\""
   ]
  },
  {
   "cell_type": "code",
   "execution_count": 35,
   "metadata": {},
   "outputs": [
    {
     "name": "stdout",
     "output_type": "stream",
     "text": [
      "Job <231973> is submitted to default queue <lowpriority>.\n"
     ]
    }
   ],
   "source": [
    "bsub -J tgs-gapcloser \\\n",
    "-m wkoppb50 \\\n",
    "-n 60 \\\n",
    "-o $WORKDIR/tgs-gapcloser_links_i10_noCorrection.out \\\n",
    "-e $WORKDIR/tgs-gapcloser_links_i10_noCorrection.err \\\n",
    "\"TGS-GapCloser.sh \\\n",
    "--scaff $SCAFF_LINKS_I10 \\\n",
    "--reads Gillenia_all_longReads.fasta \\\n",
    "--output $WORKDIR/scaff_links_i10_gapFilled.noCorrection.tgs-gapcloser \\\n",
    "--ne \\\n",
    "--thread 60\""
   ]
  },
  {
   "cell_type": "code",
   "execution_count": 4,
   "metadata": {},
   "outputs": [
    {
     "name": "stdout",
     "output_type": "stream",
     "text": [
      "Job <239009> is submitted to default queue <lowpriority>.\n"
     ]
    }
   ],
   "source": [
    "bsub -J tgs-gapcloser \\\n",
    "-m wkoppb50 \\\n",
    "-n 60 \\\n",
    "-o $WORKDIR/tgs-gapcloser_links_i6_noCorrection.out \\\n",
    "-e $WORKDIR/tgs-gapcloser_links_i6_noCorrection.err \\\n",
    "\"TGS-GapCloser.sh \\\n",
    "--scaff $SCAFF_LINKS_I6 \\\n",
    "--reads Gillenia_all_longReads.fasta \\\n",
    "--output $WORKDIR/scaff_links_i6_gapFilled.noCorrection.tgs-gapcloser \\\n",
    "--ne \\\n",
    "--thread 60\""
   ]
  },
  {
   "cell_type": "code",
   "execution_count": 10,
   "metadata": {},
   "outputs": [
    {
     "name": "stdout",
     "output_type": "stream",
     "text": [
      "Job <243749> is submitted to default queue <lowpriority>.\n"
     ]
    }
   ],
   "source": [
    "bsub -J tgs-gapcloser \\\n",
    "-m aklppb34 \\\n",
    "-n 60 \\\n",
    "-o $WORKDIR/tgs-gapcloser_links_i4_noCorrection.out \\\n",
    "-e $WORKDIR/tgs-gapcloser_links_i4_noCorrection.err \\\n",
    "\"TGS-GapCloser.sh \\\n",
    "--scaff $SCAFF_LINKS_I4 \\\n",
    "--reads Gillenia_all_longReads.fasta \\\n",
    "--output $WORKDIR/scaff_links_i4_gapFilled.noCorrection.tgs-gapcloser \\\n",
    "--ne \\\n",
    "--thread 60\""
   ]
  },
  {
   "cell_type": "code",
   "execution_count": 15,
   "metadata": {},
   "outputs": [
    {
     "name": "stdout",
     "output_type": "stream",
     "text": [
      "Job <243752> is submitted to default queue <lowpriority>.\n"
     ]
    }
   ],
   "source": [
    "bsub -J tgs-gapcloser \\\n",
    "-m aklppb39 \\\n",
    "-n 60 \\\n",
    "-o $WORKDIR/tgs-gapcloser_links_i1_noCorrection.out \\\n",
    "-e $WORKDIR/tgs-gapcloser_links_i1_noCorrection.err \\\n",
    "\"TGS-GapCloser.sh \\\n",
    "--scaff $SCAFF_LINKS_I1 \\\n",
    "--reads Gillenia_all_longReads.fasta \\\n",
    "--output $WORKDIR/scaff_links_i1_gapFilled.noCorrection.tgs-gapcloser \\\n",
    "--ne \\\n",
    "--thread 60\""
   ]
  },
  {
   "cell_type": "code",
   "execution_count": 17,
   "metadata": {},
   "outputs": [
    {
     "name": "stdout",
     "output_type": "stream",
     "text": [
      "Job <243753> is submitted to default queue <lowpriority>.\n"
     ]
    }
   ],
   "source": [
    "bsub -J tgs-gapcloser \\\n",
    "-m wkoppb50 \\\n",
    "-n 56 \\\n",
    "-o $WORKDIR/tgs-gapcloser_slr_noCorrection.out \\\n",
    "-e $WORKDIR/tgs-gapcloser_slr_noCorrection.err \\\n",
    "\"TGS-GapCloser.sh \\\n",
    "--scaff $SCAFF_SLR \\\n",
    "--reads Gillenia_all_longReads.fasta \\\n",
    "--output $WORKDIR/scaff_slr_gapFilled.noCorrection.tgs-gapcloser \\\n",
    "--ne \\\n",
    "--thread 60\""
   ]
  },
  {
   "cell_type": "markdown",
   "metadata": {},
   "source": [
    "## 4. gapfilling ragoo assembly"
   ]
  },
  {
   "cell_type": "code",
   "execution_count": 3,
   "metadata": {},
   "outputs": [],
   "source": [
    "RAGOO=/workspace/hraczw/github/GA/Gillenia_genome/011.RagooScaffolding/ragoo_curated_non-haplotigs/ragoo.fasta"
   ]
  },
  {
   "cell_type": "code",
   "execution_count": 4,
   "metadata": {},
   "outputs": [
    {
     "name": "stdout",
     "output_type": "stream",
     "text": [
      "Job <266445> is submitted to default queue <lowpriority>.\n"
     ]
    }
   ],
   "source": [
    "bsub -J tgs-gapcloser \\\n",
    "-m wkoppb50 \\\n",
    "-n 60 \\\n",
    "-o $WORKDIR/tgs-gapcloser_ragoo_noCorrection.out \\\n",
    "-e $WORKDIR/tgs-gapcloser_ragoo_noCorrection.err \\\n",
    "\"TGS-GapCloser.sh \\\n",
    "--scaff $RAGOO \\\n",
    "--reads Gillenia_all_longReads.fasta \\\n",
    "--output $WORKDIR/scaff_ragoo_gapFilled.noCorrection.tgs-gapcloser \\\n",
    "--ne \\\n",
    "--thread 60\""
   ]
  }
 ],
 "metadata": {
  "kernelspec": {
   "display_name": "Bash",
   "language": "bash",
   "name": "bash"
  },
  "language_info": {
   "codemirror_mode": "shell",
   "file_extension": ".sh",
   "mimetype": "text/x-sh",
   "name": "bash"
  }
 },
 "nbformat": 4,
 "nbformat_minor": 4
}
