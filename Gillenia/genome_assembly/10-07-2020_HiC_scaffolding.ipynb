{
 "cells": [
  {
   "cell_type": "markdown",
   "metadata": {},
   "source": [
    "# HiC data scaffolding\n",
    "\n",
    "* map HiC short reads to scaffolds and send bam to Ali for manually scaffolding\n",
    "* also trying HiC scaffolding tools such as ALLHIC"
   ]
  },
  {
   "cell_type": "markdown",
   "metadata": {},
   "source": [
    "## HiC data"
   ]
  },
  {
   "cell_type": "code",
   "execution_count": 5,
   "metadata": {},
   "outputs": [],
   "source": [
    "HICR1_RAW=/workspace/hraczw/github/GA/Gillenia_genome/002.Fastp.trimming/R1.cleaned.specifiedAdapter.short.Q15.fq.gz\n",
    "HICR2_RAW=/workspace/hraczw/github/GA/Gillenia_genome/002.Fastp.trimming/R2.cleaned.specifiedAdapter.short.Q15.fq.gz"
   ]
  },
  {
   "cell_type": "markdown",
   "metadata": {},
   "source": [
    "## Assembly \n",
    "* This assembly was generated using Shasta with 2 iterations of PILON correction"
   ]
  },
  {
   "cell_type": "code",
   "execution_count": 13,
   "metadata": {},
   "outputs": [],
   "source": [
    "ASSEMBLY_LINKS_I8=/workspace/hraczw/github/GA/Gillenia_genome/005.GapFilling/scaff_links_i8_gapFilled.noCorrection.tgs-gapcloser.scaff_seqs.nobacteria.fasta\n",
    "ASSEMBLY_LINKS_I6=/workspace/hraczw/github/GA/Gillenia_genome/005.GapFilling/scaff_links_i6_gapFilled.noCorrection.tgs-gapcloser.scaff_seqs.nobacteria.fasta"
   ]
  },
  {
   "cell_type": "code",
   "execution_count": 1,
   "metadata": {},
   "outputs": [],
   "source": [
    "ASSEMBLY_RAGOO=/powerplant/workspace/hraczw/github/GA/Gillenia_genome/005.GapFilling/scaff_ragoo_gapfilled_noContamination.fasta"
   ]
  },
  {
   "cell_type": "code",
   "execution_count": 1,
   "metadata": {},
   "outputs": [],
   "source": [
    "ASSEMBLY_RAGOO_PLUSTELO=/workspace/hraczw/github/GA/Gillenia_genome/011.RagooScaffolding/scaff_ragoo_gapfilled_noContamination.plusFlyeTelo.fasta"
   ]
  },
  {
   "cell_type": "code",
   "execution_count": 3,
   "metadata": {},
   "outputs": [
    {
     "name": "stdout",
     "output_type": "stream",
     "text": [
      "-p destination: Broken pipe\n",
      "Input and filter stats:\n",
      "\tInput sequences: 4,077\n",
      "\tInput bases: 296,273,741\n",
      "\tInput mean length: 72669.55\n",
      "\tGood sequences: 779 (19.11%)\n",
      "\tGood bases: 281,539,680\n",
      "\tGood mean length: 361411.66\n",
      "\tBad sequences: 3,298 (80.89%)\n",
      "\tBad bases: 14,734,061\n",
      "\tBad mean length: 4467.57\n",
      "\tSequences filtered by specified parameters:\n",
      "\tmin_len: 3298\n"
     ]
    }
   ],
   "source": [
    "perl /workspace/hraczw/github/programs/prinseq-lite-0.20.4/prinseq-lite.pl -fasta $ASSEMBLY_LINKS_I8 -min_len 10000 -out_good \\\n",
    "/workspace/hraczw/github/GA/Gillenia_genome/005.GapFilling/scaff_links_i8_gapFilled.noCorrection.tgs-gapcloser.scaff_seqs.nobacteria.ml10000"
   ]
  },
  {
   "cell_type": "code",
   "execution_count": 4,
   "metadata": {},
   "outputs": [
    {
     "name": "stdout",
     "output_type": "stream",
     "text": [
      "-p destination: Broken pipe\n",
      "Input and filter stats:\n",
      "\tInput sequences: 4,160\n",
      "\tInput bases: 294,655,214\n",
      "\tInput mean length: 70830.58\n",
      "\tGood sequences: 804 (19.33%)\n",
      "\tGood bases: 279,620,331\n",
      "\tGood mean length: 347786.48\n",
      "\tBad sequences: 3,356 (80.67%)\n",
      "\tBad bases: 15,034,883\n",
      "\tBad mean length: 4480.00\n",
      "\tSequences filtered by specified parameters:\n",
      "\tmin_len: 3356\n"
     ]
    }
   ],
   "source": [
    "perl /workspace/hraczw/github/programs/prinseq-lite-0.20.4/prinseq-lite.pl -fasta $ASSEMBLY_LINKS_I6 -min_len 10000 -out_good \\\n",
    "/workspace/hraczw/github/GA/Gillenia_genome/005.GapFilling/scaff_links_i6_gapFilled.noCorrection.tgs-gapcloser.scaff_seqs.nobacteria.ml10000"
   ]
  },
  {
   "cell_type": "code",
   "execution_count": 7,
   "metadata": {},
   "outputs": [],
   "source": [
    "ASSEMBLY_LINKS_I8_ML10000=/workspace/hraczw/github/GA/Gillenia_genome/005.GapFilling/scaff_links_i8_gapFilled.noCorrection.tgs-gapcloser.scaff_seqs.nobacteria.ml10000.fasta\n",
    "ASSEMBLY_LINKS_I6_ML10000=/workspace/hraczw/github/GA/Gillenia_genome/005.GapFilling/scaff_links_i6_gapFilled.noCorrection.tgs-gapcloser.scaff_seqs.nobacteria.ml10000.fasta"
   ]
  },
  {
   "cell_type": "code",
   "execution_count": 2,
   "metadata": {},
   "outputs": [],
   "source": [
    "CHR=/output/genomic/plant/Gillenia/trifoliata/Assembly/gillenia_genome_v1.NCBI.fasta"
   ]
  },
  {
   "cell_type": "markdown",
   "metadata": {},
   "source": [
    "## 1. Mapping - following in steps on ALLHIC wiki"
   ]
  },
  {
   "cell_type": "code",
   "execution_count": 3,
   "metadata": {},
   "outputs": [
    {
     "name": "stdout",
     "output_type": "stream",
     "text": [
      "Currently Loaded Modulefiles:\n",
      "  1) powerPlant/core    4) git/2.21.0         7) asub/2.1\n",
      "  2) texlive/20151117   5) perlbrew/0.76      8) bwa/0.7.17\n",
      "  3) pandoc/1.19.2      6) perl/5.28.0\n"
     ]
    }
   ],
   "source": [
    "module load bwa\n",
    "module list"
   ]
  },
  {
   "cell_type": "code",
   "execution_count": 5,
   "metadata": {},
   "outputs": [],
   "source": [
    "mkdir 008.Allhic.scaffolding"
   ]
  },
  {
   "cell_type": "code",
   "execution_count": 1,
   "metadata": {},
   "outputs": [],
   "source": [
    "WORKDIR=/workspace/hraczw/github/GA/Gillenia_genome/008.Allhic.scaffolding"
   ]
  },
  {
   "cell_type": "code",
   "execution_count": 5,
   "metadata": {},
   "outputs": [
    {
     "name": "stdout",
     "output_type": "stream",
     "text": [
      "Job <266749> is submitted to default queue <lowpriority>.\n"
     ]
    }
   ],
   "source": [
    "bsub -J bwa \\\n",
    "-o $WORKDIR/bwa_index_ragoo.out \\\n",
    "-e $WORKDIR/bwa_index_ragoo.err \\\n",
    "\"bwa index $ASSEMBLY_RAGOO\""
   ]
  },
  {
   "cell_type": "code",
   "execution_count": 9,
   "metadata": {},
   "outputs": [
    {
     "name": "stdout",
     "output_type": "stream",
     "text": [
      "Job <239471> is submitted to default queue <lowpriority>.\n"
     ]
    }
   ],
   "source": [
    "bsub -J bwa \\\n",
    "-o $WORKDIR/bwa_index_i8.out \\\n",
    "-e $WORKDIR/bwa_index_i8.err \\\n",
    "\"bwa index $ASSEMBLY_LINKS_I8_ML10000\""
   ]
  },
  {
   "cell_type": "code",
   "execution_count": 7,
   "metadata": {},
   "outputs": [
    {
     "name": "stdout",
     "output_type": "stream",
     "text": [
      "Job <403470> is submitted to default queue <lowpriority>.\n"
     ]
    }
   ],
   "source": [
    "bsub -J bwa \\\n",
    "-o $WORKDIR/bwa_index_ragoo_plustelo.out \\\n",
    "-e $WORKDIR/bwa_index_ragoo_plustelo.err \\\n",
    "\"bwa index $ASSEMBLY_RAGOO_PLUSTELO\""
   ]
  },
  {
   "cell_type": "code",
   "execution_count": 4,
   "metadata": {},
   "outputs": [
    {
     "name": "stdout",
     "output_type": "stream",
     "text": [
      "Job <587421> is submitted to default queue <lowpriority>.\n"
     ]
    }
   ],
   "source": [
    "bsub -J bwa \\\n",
    "-o $WORKDIR/bwa_index_chrs.out \\\n",
    "-e $WORKDIR/bwa_index_chrs.err \\\n",
    "\"bwa index $CHR\""
   ]
  },
  {
   "cell_type": "code",
   "execution_count": 11,
   "metadata": {},
   "outputs": [
    {
     "name": "stdout",
     "output_type": "stream",
     "text": [
      "Currently Loaded Modulefiles:\n",
      "  1) powerPlant/core    4) git/2.21.0         7) asub/2.1\n",
      "  2) texlive/20151117   5) perlbrew/0.76      8) bwa/0.7.17\n",
      "  3) pandoc/1.19.2      6) perl/5.28.0        9) samtools/1.9\n"
     ]
    }
   ],
   "source": [
    "module load samtools\n",
    "module list"
   ]
  },
  {
   "cell_type": "code",
   "execution_count": 6,
   "metadata": {},
   "outputs": [
    {
     "name": "stdout",
     "output_type": "stream",
     "text": [
      "Job <266750> is submitted to default queue <lowpriority>.\n"
     ]
    }
   ],
   "source": [
    "bsub -J map \\\n",
    "-n 40 \\\n",
    "-o $WORKDIR/map_ragoo.out \\\n",
    "-e $WORKDIR/map_ragoo.err \\\n",
    "\"bwa mem \\\n",
    "-t 40 \\\n",
    "$ASSEMBLY_RAGOO \\\n",
    "$HICR1_RAW \\\n",
    "$HICR2_RAW \\\n",
    "-o $WORKDIR/mapped_ragoo.sam\""
   ]
  },
  {
   "cell_type": "code",
   "execution_count": 15,
   "metadata": {},
   "outputs": [
    {
     "name": "stdout",
     "output_type": "stream",
     "text": [
      "Job <239985> is submitted to default queue <lowpriority>.\n"
     ]
    }
   ],
   "source": [
    "bsub -J map \\\n",
    "-n 40 \\\n",
    "-o $WORKDIR/map_i8.out \\\n",
    "-e $WORKDIR/map_i8.err \\\n",
    "\"bwa mem \\\n",
    "-t 40 \\\n",
    "$ASSEMBLY_LINKS_I8_ML10000 \\\n",
    "$HICR1_RAW \\\n",
    "$HICR2_RAW \\\n",
    "-o $WORKDIR/mapped_i8.sam\""
   ]
  },
  {
   "cell_type": "code",
   "execution_count": 8,
   "metadata": {},
   "outputs": [
    {
     "name": "stdout",
     "output_type": "stream",
     "text": [
      "Job <405868> is submitted to default queue <lowpriority>.\n"
     ]
    }
   ],
   "source": [
    "bsub -J map \\\n",
    "-n 40 \\\n",
    "-o $WORKDIR/map_ragoo_plustelo.out \\\n",
    "-e $WORKDIR/map_ragoo_plustelo.err \\\n",
    "\"bwa mem \\\n",
    "-t 40 \\\n",
    "$ASSEMBLY_RAGOO_PLUSTELO \\\n",
    "$HICR1_RAW \\\n",
    "$HICR2_RAW \\\n",
    "-o $WORKDIR/mapped_ragoo_plustelo.sam\""
   ]
  },
  {
   "cell_type": "code",
   "execution_count": 6,
   "metadata": {},
   "outputs": [
    {
     "name": "stdout",
     "output_type": "stream",
     "text": [
      "Job <587966> is submitted to default queue <lowpriority>.\n"
     ]
    }
   ],
   "source": [
    "bsub -J map \\\n",
    "-n 40 \\\n",
    "-o $WORKDIR/map_ragoo_chrs.out \\\n",
    "-e $WORKDIR/map_ragoo_chrs.err \\\n",
    "\"bwa mem \\\n",
    "-t 40 \\\n",
    "$CHR \\\n",
    "$HICR1_RAW \\\n",
    "$HICR2_RAW \\\n",
    "-o $WORKDIR/mapped_ragoo_chrs.sam\""
   ]
  },
  {
   "cell_type": "code",
   "execution_count": 4,
   "metadata": {},
   "outputs": [],
   "source": [
    "export PATH=/workspace/hraczw/github/programs/ALLHiC/bin/:$PATH"
   ]
  },
  {
   "cell_type": "code",
   "execution_count": 5,
   "metadata": {},
   "outputs": [],
   "source": [
    "export PATH=/workspace/hraczw/github/programs/ALLHiC/scripts/:$PATH"
   ]
  },
  {
   "cell_type": "code",
   "execution_count": 6,
   "metadata": {},
   "outputs": [
    {
     "name": "stdout",
     "output_type": "stream",
     "text": [
      "ALLHiC2ALLMAPS.pl  filterBAM_forHiC.pl\t       partition.pl\n",
      "bam2CLM.pl\t   getFalen.pl\t\t       PreprocessSAMs.pl\n",
      "bam2CLM_simple.pl  gmap2AlleleTable.pl\t       prune.pl\n",
      "bam2net.pl\t   link_superscaffold.pl       release3DDNA.pl\n",
      "bam_HiCplotter.py  make_bed_around_RE_site.pl  remove_reads.pl\n",
      "blastn_parse.pl    mc_bam.pl\t\t       simuCTG.pl\n",
      "classify.pl\t   partition_gmap.pl\t       statAGP.pl\n"
     ]
    }
   ],
   "source": [
    "ls /workspace/hraczw/github/programs/ALLHiC/scripts"
   ]
  },
  {
   "cell_type": "code",
   "execution_count": 7,
   "metadata": {},
   "outputs": [
    {
     "name": "stdout",
     "output_type": "stream",
     "text": [
      "Currently Loaded Modulefiles:\n",
      "  1) powerPlant/core    4) git/2.21.0         7) asub/2.1\n",
      "  2) texlive/20151117   5) perlbrew/0.76      8) bwa/0.7.17\n",
      "  3) pandoc/1.19.2      6) perl/5.28.0\n"
     ]
    }
   ],
   "source": [
    "module list"
   ]
  },
  {
   "cell_type": "code",
   "execution_count": 8,
   "metadata": {},
   "outputs": [
    {
     "name": "stdout",
     "output_type": "stream",
     "text": [
      "Currently Loaded Modulefiles:\n",
      "  1) powerPlant/core    4) git/2.21.0         7) asub/2.1\n",
      "  2) texlive/20151117   5) perlbrew/0.76      8) bwa/0.7.17\n",
      "  3) pandoc/1.19.2      6) perl/5.28.0        9) bedtools/2.27.1\n"
     ]
    }
   ],
   "source": [
    "module load bedtools\n",
    "module list"
   ]
  },
  {
   "cell_type": "code",
   "execution_count": 9,
   "metadata": {},
   "outputs": [
    {
     "name": "stdout",
     "output_type": "stream",
     "text": [
      "Currently Loaded Modulefiles:\n",
      "  1) powerPlant/core    5) perlbrew/0.76      9) bedtools/2.27.1\n",
      "  2) texlive/20151117   6) perl/5.28.0       10) samtools/1.9\n",
      "  3) pandoc/1.19.2      7) asub/2.1\n",
      "  4) git/2.21.0         8) bwa/0.7.17\n"
     ]
    }
   ],
   "source": [
    "module load samtools\n",
    "module list"
   ]
  },
  {
   "cell_type": "code",
   "execution_count": 10,
   "metadata": {},
   "outputs": [
    {
     "name": "stdout",
     "output_type": "stream",
     "text": [
      "\n",
      "PreprocessSAMs.pl: A script to prepare SAM or BAM files for use with Lachesis.\n",
      "\n",
      "Syntax: /workspace/hraczw/github/programs/ALLHiC/scripts/PreprocessSAMs.pl <sam-or-bam-filename> <draft-assembly-fasta> enzyme(HINDIII/MBOI)\n",
      "\n"
     ]
    }
   ],
   "source": [
    "PreprocessSAMs.pl"
   ]
  },
  {
   "cell_type": "code",
   "execution_count": 16,
   "metadata": {},
   "outputs": [
    {
     "name": "stdout",
     "output_type": "stream",
     "text": [
      "Job <266762> is submitted to default queue <lowpriority>.\n"
     ]
    }
   ],
   "source": [
    "bsub -J preprocess \\\n",
    "-o $WORKDIR/preprocess_ragoo.out \\\n",
    "-e $WORKDIR/preprocess_ragoo.err \\\n",
    "\"PreprocessSAMs.pl $WORKDIR/mapped_ragoo.sam $ASSEMBLY_RAGOO MBOI\""
   ]
  },
  {
   "cell_type": "code",
   "execution_count": 25,
   "metadata": {},
   "outputs": [
    {
     "name": "stdout",
     "output_type": "stream",
     "text": [
      "Job <240010> is submitted to default queue <lowpriority>.\n"
     ]
    }
   ],
   "source": [
    "bsub -J preprocess \\\n",
    "-o $WORKDIR/preprocess_i8.out \\\n",
    "-e $WORKDIR/preprocess_i8.err \\\n",
    "\"PreprocessSAMs.pl $WORKDIR/mapped_i8.sam $ASSEMBLY_LINKS_I8 MBOI\""
   ]
  },
  {
   "cell_type": "code",
   "execution_count": 16,
   "metadata": {},
   "outputs": [
    {
     "name": "stdout",
     "output_type": "stream",
     "text": [
      "Job <406871> is submitted to default queue <lowpriority>.\n"
     ]
    }
   ],
   "source": [
    "bsub -J preprocess \\\n",
    "-o $WORKDIR/preprocess_ragoo_plustelo.out \\\n",
    "-e $WORKDIR/preprocess_ragoo_plustelo.err \\\n",
    "\"PreprocessSAMs.pl $WORKDIR/mapped_ragoo_plustelo.sam $ASSEMBLY_RAGOO_PLUSTELO MBOI\""
   ]
  },
  {
   "cell_type": "code",
   "execution_count": 12,
   "metadata": {},
   "outputs": [
    {
     "name": "stdout",
     "output_type": "stream",
     "text": [
      "Job <636818> is submitted to default queue <lowpriority>.\n"
     ]
    }
   ],
   "source": [
    "bsub -J preprocess \\\n",
    "-o $WORKDIR/preprocess_ragoo_chr.out \\\n",
    "-e $WORKDIR/preprocess_ragoo_chr.err \\\n",
    "\"PreprocessSAMs.pl $WORKDIR/mapped_ragoo_chrs.sam $CHR MBOI\""
   ]
  },
  {
   "cell_type": "code",
   "execution_count": 17,
   "metadata": {},
   "outputs": [],
   "source": [
    "rm $WORKDIR/mapped_i6.sam $WORKDIR/mapped_i8.sam"
   ]
  },
  {
   "cell_type": "markdown",
   "metadata": {},
   "source": [
    "### 1.1 trying to filter multiply mapped reads"
   ]
  },
  {
   "cell_type": "code",
   "execution_count": 16,
   "metadata": {},
   "outputs": [
    {
     "name": "stdout",
     "output_type": "stream",
     "text": [
      "Currently Loaded Modulefiles:\n",
      "  1) powerPlant/core    4) git/2.21.0         7) asub/2.1\n",
      "  2) texlive/20151117   5) perlbrew/0.76      8) bwa/0.7.17\n",
      "  3) pandoc/1.19.2      6) perl/5.28.0        9) samtools/1.9\n"
     ]
    }
   ],
   "source": [
    "module list"
   ]
  },
  {
   "cell_type": "code",
   "execution_count": 12,
   "metadata": {},
   "outputs": [
    {
     "name": "stdout",
     "output_type": "stream",
     "text": [
      "Job <234874> is submitted to default queue <lowpriority>.\n"
     ]
    }
   ],
   "source": [
    "bsub -J filter \\\n",
    "-o $WORKDIR/filter_multiplyMapped_i6.out \\\n",
    "-e $WORKDIR/filter_multiplyMapped_i6.err \\\n",
    "\"samtools view -h $WORKDIR/mapped_i6.bam | grep -v -e 'XA:Z:' -e 'SA:Z:' | samtools view -b > $WORKDIR/unique_mapped_i6.bam\""
   ]
  },
  {
   "cell_type": "code",
   "execution_count": 13,
   "metadata": {},
   "outputs": [
    {
     "name": "stdout",
     "output_type": "stream",
     "text": [
      "Job <234876> is submitted to default queue <lowpriority>.\n"
     ]
    }
   ],
   "source": [
    "bsub -J preprocess \\\n",
    "-o $WORKDIR/preprocess_unique.out \\\n",
    "-e $WORKDIR/preprocess_unique.err \\\n",
    "\"PreprocessSAMs.pl $WORKDIR/unique_mapped.bam $ASSEMBLY_ML10000 MBOI\""
   ]
  },
  {
   "cell_type": "markdown",
   "metadata": {},
   "source": [
    "## 2. ALLHIC scaffolding"
   ]
  },
  {
   "cell_type": "code",
   "execution_count": 18,
   "metadata": {},
   "outputs": [
    {
     "name": "stdout",
     "output_type": "stream",
     "text": [
      "Unknown option: h\n",
      "************************************************************************\n",
      "    Usage: ALLHiC_partition -r draft.asm.fasta -e enzyme_sites -k Num of groups\n",
      "      -h : help and usage.\n",
      "      -b : prunned bam (optional, default prunning.bam)\n",
      "      -r : draft.sam.fasta\n",
      "      -e : enzyme_sites (HindIII: AAGCTT; MboI: GATC)\n",
      "      -k : number of groups (user defined K value)\n",
      "      -m : minimum number of restriction sites (default, 25)\n",
      "************************************************************************\n"
     ]
    },
    {
     "ename": "",
     "evalue": "255",
     "output_type": "error",
     "traceback": []
    }
   ],
   "source": [
    "ALLHiC_partition -h"
   ]
  },
  {
   "cell_type": "code",
   "execution_count": 17,
   "metadata": {},
   "outputs": [],
   "source": [
    "cd $WORKDIR/ALLHIC_ragoo_noBac\n",
    "ls"
   ]
  },
  {
   "cell_type": "code",
   "execution_count": 19,
   "metadata": {},
   "outputs": [
    {
     "name": "stdout",
     "output_type": "stream",
     "text": [
      "Job <266847> is submitted to default queue <lowpriority>.\n"
     ]
    }
   ],
   "source": [
    "bsub -J partition \\\n",
    "-o partition.out \\\n",
    "-e partition.out \\\n",
    "\"ALLHiC_partition -b mapped_ragoo.REduced.paired_only.bam -r $ASSEMBLY_RAGOO -e GATC -k 9\""
   ]
  },
  {
   "cell_type": "code",
   "execution_count": 20,
   "metadata": {},
   "outputs": [
    {
     "name": "stdout",
     "output_type": "stream",
     "text": [
      "Job <266851> is submitted to default queue <lowpriority>.\n"
     ]
    }
   ],
   "source": [
    "bsub -J extract \\\n",
    "-o extract.out \\\n",
    "-e extract.err \\\n",
    "\"allhic extract mapped_ragoo.REduced.paired_only.bam $ASSEMBLY_RAGOO --RE GATC\""
   ]
  },
  {
   "cell_type": "code",
   "execution_count": 21,
   "metadata": {},
   "outputs": [
    {
     "name": "stdout",
     "output_type": "stream",
     "text": [
      "Job <266852> is submitted to default queue <lowpriority>.\n",
      "Job <266853> is submitted to default queue <lowpriority>.\n",
      "Job <266854> is submitted to default queue <lowpriority>.\n",
      "Job <266855> is submitted to default queue <lowpriority>.\n",
      "Job <266856> is submitted to default queue <lowpriority>.\n",
      "Job <266857> is submitted to default queue <lowpriority>.\n",
      "Job <266858> is submitted to default queue <lowpriority>.\n",
      "Job <266859> is submitted to default queue <lowpriority>.\n",
      "Job <266860> is submitted to default queue <lowpriority>.\n"
     ]
    }
   ],
   "source": [
    "for i in {1..9}; \\\n",
    "do bsub -J allhicOpt -o allhicOpt_g${i}.out -e allhicOpt_g${i}.err \\\n",
    "\"allhic optimize mapped_ragoo.REduced.paired_only.counts_GATC.9g$i.txt \\\n",
    "mapped_ragoo.REduced.paired_only.clm\"; done"
   ]
  },
  {
   "cell_type": "code",
   "execution_count": 22,
   "metadata": {},
   "outputs": [
    {
     "name": "stdout",
     "output_type": "stream",
     "text": [
      "1. tour format to agp ...\n",
      "Processing mapped_ragoo.REduced.paired_only.counts_GATC.9g1.tour ...\n",
      "Processing mapped_ragoo.REduced.paired_only.counts_GATC.9g2.tour ...\n",
      "Processing mapped_ragoo.REduced.paired_only.counts_GATC.9g3.tour ...\n",
      "Processing mapped_ragoo.REduced.paired_only.counts_GATC.9g4.tour ...\n",
      "Processing mapped_ragoo.REduced.paired_only.counts_GATC.9g5.tour ...\n",
      "Processing mapped_ragoo.REduced.paired_only.counts_GATC.9g6.tour ...\n",
      "Processing mapped_ragoo.REduced.paired_only.counts_GATC.9g7.tour ...\n",
      "Processing mapped_ragoo.REduced.paired_only.counts_GATC.9g8.tour ...\n",
      "Processing mapped_ragoo.REduced.paired_only.counts_GATC.9g9.tour ...\n"
     ]
    }
   ],
   "source": [
    "ALLHiC_build $ASSEMBLY_RAGOO"
   ]
  },
  {
   "cell_type": "code",
   "execution_count": 23,
   "metadata": {},
   "outputs": [],
   "source": [
    "perl /workspace/hraczw/github/programs/ALLHiC/scripts/getFalen.pl \\\n",
    "-i groups.asm.fasta \\\n",
    "-o len.txt"
   ]
  },
  {
   "cell_type": "code",
   "execution_count": 26,
   "metadata": {},
   "outputs": [],
   "source": [
    "grep 'mapped_ragoo.REduced.paired_only.counts_GATC' len.txt > chrn.list"
   ]
  },
  {
   "cell_type": "code",
   "execution_count": 27,
   "metadata": {},
   "outputs": [
    {
     "name": "stdout",
     "output_type": "stream",
     "text": [
      "mapped_ragoo.REduced.paired_only.counts_GATC.9g1\t226375874\n",
      "mapped_ragoo.REduced.paired_only.counts_GATC.9g2\t27914923\n",
      "mapped_ragoo.REduced.paired_only.counts_GATC.9g3\t11085632\n",
      "mapped_ragoo.REduced.paired_only.counts_GATC.9g4\t11057837\n",
      "mapped_ragoo.REduced.paired_only.counts_GATC.9g5\t8849564\n",
      "mapped_ragoo.REduced.paired_only.counts_GATC.9g6\t1818773\n",
      "mapped_ragoo.REduced.paired_only.counts_GATC.9g7\t1645931\n",
      "mapped_ragoo.REduced.paired_only.counts_GATC.9g8\t1615206\n",
      "mapped_ragoo.REduced.paired_only.counts_GATC.9g9\t47180\n"
     ]
    }
   ],
   "source": [
    "cat chrn.list"
   ]
  },
  {
   "cell_type": "code",
   "execution_count": 28,
   "metadata": {},
   "outputs": [],
   "source": [
    "module load pfr-python3/3.6.6"
   ]
  },
  {
   "cell_type": "code",
   "execution_count": 29,
   "metadata": {},
   "outputs": [
    {
     "name": "stdout",
     "output_type": "stream",
     "text": [
      "Currently Loaded Modulefiles:\n",
      "  1) powerPlant/core     5) perlbrew/0.76       9) bedtools/2.27.1\n",
      "  2) texlive/20151117    6) perl/5.28.0        10) samtools/1.9\n",
      "  3) pandoc/1.19.2       7) asub/2.1           11) pfr-python3/3.6.6\n",
      "  4) git/2.21.0          8) bwa/0.7.17\n"
     ]
    }
   ],
   "source": [
    "module list"
   ]
  },
  {
   "cell_type": "code",
   "execution_count": 31,
   "metadata": {},
   "outputs": [
    {
     "name": "stdout",
     "output_type": "stream",
     "text": [
      "Job <266907> is submitted to default queue <lowpriority>.\n"
     ]
    }
   ],
   "source": [
    "bsub -J plot \\\n",
    "-o plot_100k.out \\\n",
    "-e plot_100k.err \\\n",
    "\"ALLHiC_plot mapped_ragoo.REduced.paired_only.bam groups.agp chrn.list 100k pdf\""
   ]
  },
  {
   "cell_type": "code",
   "execution_count": 48,
   "metadata": {},
   "outputs": [
    {
     "name": "stdout",
     "output_type": "stream",
     "text": [
      "allhicOpt_g10.err   mapped.REduced.paired_only.bam\n",
      "allhicOpt_g10.out   mapped.REduced.paired_only.clm\n",
      "allhicOpt_g11.err   mapped.REduced.paired_only.clusters.txt\n",
      "allhicOpt_g11.out   mapped.REduced.paired_only.counts_GATC.12g10.tour\n",
      "allhicOpt_g12.err   mapped.REduced.paired_only.counts_GATC.12g10.txt\n",
      "allhicOpt_g12.out   mapped.REduced.paired_only.counts_GATC.12g11.tour\n",
      "allhicOpt_g1.err    mapped.REduced.paired_only.counts_GATC.12g11.txt\n",
      "allhicOpt_g1.out    mapped.REduced.paired_only.counts_GATC.12g12.tour\n",
      "allhicOpt_g2.err    mapped.REduced.paired_only.counts_GATC.12g12.txt\n",
      "allhicOpt_g2.out    mapped.REduced.paired_only.counts_GATC.12g1.tour\n",
      "allhicOpt_g3.err    mapped.REduced.paired_only.counts_GATC.12g1.txt\n",
      "allhicOpt_g3.out    mapped.REduced.paired_only.counts_GATC.12g2.tour\n",
      "allhicOpt_g4.err    mapped.REduced.paired_only.counts_GATC.12g2.txt\n",
      "allhicOpt_g4.out    mapped.REduced.paired_only.counts_GATC.12g3.tour\n",
      "allhicOpt_g5.err    mapped.REduced.paired_only.counts_GATC.12g3.txt\n",
      "allhicOpt_g5.out    mapped.REduced.paired_only.counts_GATC.12g4.tour\n",
      "allhicOpt_g6.err    mapped.REduced.paired_only.counts_GATC.12g4.txt\n",
      "allhicOpt_g6.out    mapped.REduced.paired_only.counts_GATC.12g5.tour\n",
      "allhicOpt_g7.err    mapped.REduced.paired_only.counts_GATC.12g5.txt\n",
      "allhicOpt_g7.out    mapped.REduced.paired_only.counts_GATC.12g6.tour\n",
      "allhicOpt_g8.err    mapped.REduced.paired_only.counts_GATC.12g6.txt\n",
      "allhicOpt_g8.out    mapped.REduced.paired_only.counts_GATC.12g7.tour\n",
      "allhicOpt_g9.err    mapped.REduced.paired_only.counts_GATC.12g7.txt\n",
      "allhicOpt_g9.out    mapped.REduced.paired_only.counts_GATC.12g8.tour\n",
      "bwa_index.err\t    mapped.REduced.paired_only.counts_GATC.12g8.txt\n",
      "bwa_index.out\t    mapped.REduced.paired_only.counts_GATC.12g9.tour\n",
      "extract.err\t    mapped.REduced.paired_only.counts_GATC.12g9.txt\n",
      "extract.out\t    mapped.REduced.paired_only.counts_GATC.txt\n",
      "groups.agp\t    mapped.REduced.paired_only.distribution.txt\n",
      "groups.asm.fasta    mapped.REduced.paired_only.flagstat\n",
      "len.txt\t\t    mapped.REduced.paired_only.pairs.txt\n",
      "map.err\t\t    mapped.sam\n",
      "map.out\t\t    partition.out\n",
      "mapped.bam\t    preprocess.err\n",
      "mapped.REduced.bam  preprocess.out\n"
     ]
    }
   ],
   "source": [
    "ls"
   ]
  }
 ],
 "metadata": {
  "kernelspec": {
   "display_name": "Bash",
   "language": "bash",
   "name": "bash"
  },
  "language_info": {
   "codemirror_mode": "shell",
   "file_extension": ".sh",
   "mimetype": "text/x-sh",
   "name": "bash"
  }
 },
 "nbformat": 4,
 "nbformat_minor": 4
}
