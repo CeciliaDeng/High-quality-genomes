{
 "cells": [
  {
   "cell_type": "markdown",
   "metadata": {},
   "source": [
    "# generating HiC heatmap on the ALLHIC assembled chromosomes\n",
    "\n",
    "* this is for blueskies project test graphs\n",
    "* instructions: https://github.com/phasegenomics/juicebox_scripts"
   ]
  },
  {
   "cell_type": "markdown",
   "metadata": {},
   "source": [
    "## 1. generating mapping bam file"
   ]
  },
  {
   "cell_type": "code",
   "execution_count": 140,
   "metadata": {},
   "outputs": [],
   "source": [
    "REF=/workspace/hraczw/github/GA/Gillenia_genome/008.Allhic.scaffolding/groups.asm.fasta"
   ]
  },
  {
   "cell_type": "code",
   "execution_count": 141,
   "metadata": {},
   "outputs": [],
   "source": [
    "HICR1_RAW=/workspace/hraczw/github/GA/Gillenia_genome/002.Fastp.trimming/R1.cleaned.specifiedAdapter.short.Q15.fq.gz\n",
    "HICR2_RAW=/workspace/hraczw/github/GA/Gillenia_genome/002.Fastp.trimming/R2.cleaned.specifiedAdapter.short.Q15.fq.gz"
   ]
  },
  {
   "cell_type": "code",
   "execution_count": 142,
   "metadata": {},
   "outputs": [
    {
     "name": "stdout",
     "output_type": "stream",
     "text": [
      "Currently Loaded Modulefiles:\n",
      " 1) \u001b[46mpowerPlant/core\u001b[0m    5) \u001b[100mabatch/0.1\u001b[0m        9) asub/2.2           \n",
      " 2) texlive/20151117   6) \u001b[46mSlurm/21.08.8-2\u001b[0m  10) ncbi-blast/2.11.0  \n",
      " 3) pandoc/1.19.2      7) perlbrew/0.76    11) bwa/0.7.17         \n",
      " 4) git/2.21.0         8) perl/5.36.0      12) samtools/1.12      \n",
      "\n",
      "Key:\n",
      "\u001b[100mauto-loaded\u001b[0m  \u001b[46msticky\u001b[0m  \n"
     ]
    }
   ],
   "source": [
    "module load ncbi-blast\n",
    "module list"
   ]
  },
  {
   "cell_type": "code",
   "execution_count": 143,
   "metadata": {},
   "outputs": [
    {
     "name": "stdout",
     "output_type": "stream",
     "text": [
      "mkdir: cannot create directory ‘021.JuiceBox_visualisation’: File exists\n"
     ]
    },
    {
     "ename": "",
     "evalue": "1",
     "output_type": "error",
     "traceback": []
    }
   ],
   "source": [
    "mkdir 021.JuiceBox_visualisation"
   ]
  },
  {
   "cell_type": "code",
   "execution_count": 144,
   "metadata": {},
   "outputs": [],
   "source": [
    "WDR=021.JuiceBox_visualisation"
   ]
  },
  {
   "cell_type": "code",
   "execution_count": 1,
   "metadata": {},
   "outputs": [
    {
     "name": "stdout",
     "output_type": "stream",
     "text": [
      "total 252373240\n",
      "drwxrwsr-x.  4 hraczw powerplant         2118 Aug 11 13:16 002.Fastp.trimming\n",
      "drwxrwsr-x.  3 hraczw powerplant         6972 Jul 30  2020 0031.Contamination.analysis\n",
      "drwxrwsr-x.  3 hraczw powerplant         2453 Jan 23  2020 003.PG.QC\n",
      "drwxrwsr-x. 10 hraczw powerplant         1109 Jul  5  2020 004.Scaffolding_10Xcontigs\n",
      "drwxrwsr-x.  5 hraczw powerplant        18940 Sep  6  2020 005.GapFilling\n",
      "drwxrwsr-x.  3 hraczw powerplant        15393 Sep  7  2020 006.SyntenyAnalysis\n",
      "drwxrwsr-x.  3 hraczw powerplant          508 Sep 29  2020 007.TelomereCheck\n",
      "drwxrwsr-x.  6 hraczw powerplant         3386 Aug  9 15:27 008.Allhic.scaffolding\n",
      "drwxrwsr-x.  2 hraczw powerplant          747 Aug 17  2020 009.SyntenyBetweenAssemblies\n",
      "-rw-rw-r--.  1 hraczw powerplant        55860 Sep  2  2020 01-09-2020_salsa_scaffolding.ipynb\n",
      "-rw-rw-r--.  1 hraczw powerplant        30103 Sep  2  2020 01-09-2020_scaffhic_scaffolding.ipynb\n",
      "drwxrwsr-x.  8 hraczw powerplant         1645 Aug 21  2020 010.PurgeHaplotigs\n",
      "drwxrwsr-x.  8 hraczw powerplant         2071 Nov  9  2020 011.RagooScaffolding\n",
      "drwxrwsr-x.  4 hraczw powerplant          173 Aug 22  2020 012.Chr_fromAli\n",
      "drwxrwsr-x.  2 hraczw powerplant            0 Aug 23  2020 013.3d-dna.chimericCorrection\n",
      "drwxrwsr-x.  7 hraczw powerplant         1005 Sep  9  2020 014.chr\n",
      "drwxrwsrwx.  5 hraczw powerplant         1723 Sep  2  2020 015.salsa2\n",
      "drwxrwsr-x.  9 hraczw powerplant          830 Sep  2  2020 016.scaffhic\n",
      "drwxrwsr-x.  2 hraczw powerplant          322 Oct 22  2020 017.NCBI_correction\n",
      "drwxrwsr-x.  2 hraczw powerplant          450 Nov 10  2020 018.mappingBackAssessment\n",
      "drwxrwsr-x.  3 hraczw powerplant          510 Mar 12  2021 019.kmerAnalysis\n",
      "drwxrwsr-x.  5 hraczw powerplant         1149 Apr 19  2021 020.circusPlot\n",
      "drwxrwsr-x.  3 hraczw powerplant         1811 Aug 11 14:07 021.JuiceBox_visualisation\n",
      "drwxrwsr-x.  6 hraczw powerplant          550 Apr 29  2021 022.NCBI_submission.annotation\n",
      "-rw-rw-r--.  1 hraczw powerplant         2230 Jul  6  2020 05-07-2020_GMCloser.ipynb\n",
      "-rw-rw-r--.  1 hraczw powerplant         4962 Jul  5  2020 05-07-2020_scaffolding_usingFlyeAssembly.ipynb\n",
      "-rw-rw-r--.  1 hraczw powerplant        16353 Aug 21  2020 06-07-2020_TGS-GapCloser.ipynb\n",
      "-rw-rw-r--.  1 hraczw powerplant        44925 Jul  7  2020 08-06-2020_GapCloser.ipynb\n",
      "-rw-rw-r--.  1 hraczw powerplant         9068 Aug 11 14:24 09-08-2022_hic_heatmap_contigs.ipynb\n",
      "-rw-rw-r--.  1 hraczw powerplant       294819 Sep 28  2020 09-09_2020_Chrs_fix.ipynb\n",
      "-rw-rw-r--.  1 hraczw powerplant        26466 Nov 25  2020 10-07-2020_HiC_scaffolding.ipynb\n",
      "drwxrwsr-x.  3 hraczw powerplant         2525 Mar 23  2021 100.assemblies\n",
      "-rw-rw-r--.  1 hraczw powerplant         5386 Nov 18  2020 10-11-2020_kmerAnalysis_10x.ipynb\n",
      "-rw-rw-r--.  1 hraczw powerplant         3018 Nov 10  2020 10-11-2020_mappingBackAssessment.ipynb\n",
      "-rw-rw-r--.  1 hraczw powerplant        52158 Aug 20  2020 11-08-2020_Purge_haplotigs.ipynb\n",
      "-rw-rw-r--.  1 hraczw powerplant         3105 Aug 17  2020 11-08-2020_syntenyWithFlyeAssembly.ipynb\n",
      "-rw-rw-r--.  1 hraczw powerplant         8362 Mar 15  2021 12-03-2021_hic_heatmap_wholeGenome.ipynb\n",
      "-rw-rw-r--.  1 hraczw powerplant       887958 Sep 22  2020 15-06-2020_SyntenyAnalysis.ipynb\n",
      "-rw-rw-r--.  1 hraczw powerplant         7420 Nov 26  2020 22-07-2020_scaffolding_HiC_Ali.ipynb\n",
      "-rw-rw-r--.  1 hraczw powerplant         4822 Oct 22  2020 22-10-2020_NCBI_correction.ipynb\n",
      "-rw-rw-r--.  1 hraczw powerplant         3166 Aug 23  2020 23-08-2020_3d-dna.ipynb\n",
      "-rw-rw-r--.  1 hraczw powerplant         4552 Sep 29  2020 24-06-2020_telomere_check.ipynb\n",
      "-rw-rw-r--.  1 hraczw powerplant        12312 Apr 28  2021 25-03-2020_assemblyStats_BUSCO.ipynb\n",
      "-rw-rw-r--.  1 hraczw powerplant        29910 Jun  9  2020 26-03-2020_scaffolding_10Xcontigs.ipynb\n",
      "-rw-rw-r--.  1 hraczw powerplant       114184 May 31  2020 26-05-2020_SeqLengthDistributionComparison.ipynb\n",
      "-rw-rw-r--.  1 hraczw powerplant        22606 Apr 20  2021 26-11-2020_circus_plots.ipynb\n",
      "-rw-rw-r--.  1 hraczw powerplant         9477 Jul 30  2020 28-05-2020_ContaminationRemoval.ipynb\n",
      "-rw-r--r--.  1 hraczw powerplant         7120 Jul 21  2020 31-05-2020_ScaffoldLengthDistribution.Rmd\n",
      "-rw-rw-r--.  1 hraczw powerplant         7067 Aug 31  2020 31-08-2020_pretextmap.ipynb\n",
      "-rw-rw-r--.  1 hraczw powerplant         9469 Aug 10 23:08 bilberry_allhic_assembly_asm.scaffold_track.txt\n",
      "-rw-rw-r--.  1 hraczw powerplant         7105 Aug 10 23:08 bilberry_allhic_assembly_asm.superscaf_track.txt\n",
      "drwxrwsr-x.  2 hraczw powerplant        53805 Aug 20  2020 dotplots_reassigned_contigs\n",
      "drwxrwsr-x.  2 hraczw powerplant          736 Aug 20  2020 dotplots_unassigned_contigs\n",
      "-rw-rw-r--.  1 hraczw powerplant       490766 Jan 10  2020 fastp.html\n",
      "-rw-rw-r--.  1 hraczw powerplant       139807 Jan 10  2020 fastp.json\n",
      "-rw-rw-r--.  1 hraczw powerplant  73609096574 Jul  6  2020 Gillenia_all_longReads.fasta\n",
      "-rw-rw-r--.  1 hraczw powerplant  31190436732 Mar 16  2020 Gillenia_MinNION.fastq\n",
      "-rw-rw-r--.  1 hraczw powerplant 114982568536 Mar 16  2020 Gillenia_PromethION.fastq\n",
      "-rw-rw-r--.  1 hraczw powerplant        30661 Jan 23  2020 HiC_scaffolding_trail_dataset1.ipynb\n",
      "drwxrwsr-x. 10 hraaxl powerplant          532 Aug 11 14:03 matlock\n",
      "-rw-rw-r--.  1 hraczw powerplant            0 Mar 16  2020 merge.err\n",
      "-rw-rw-r--.  1 hraczw powerplant         1025 Mar 16  2020 merge.out\n",
      "-rw-rw-r--.  1 hraczw powerplant            0 Jul  6  2020 merge_to_allLong.err\n",
      "-rw-rw-r--.  1 hraczw powerplant          983 Jul  6  2020 merge_to_allLong.out\n",
      "-rw-rw-r--.  1 hraczw powerplant            0 Mar 16  2020 m_merge.err\n",
      "-rw-rw-r--.  1 hraczw powerplant          984 Mar 16  2020 m_merge.out\n",
      "-rw-r--r--.  1 hraczw powerplant       144454 Jun  2  2020 seq_len_dis.png\n",
      "drwxrwsr-x.  2 hraczw powerplant            0 Apr  4  2020 SLR-OutPut-Directory\n",
      "drwxrwsr-x.  2 hraczw powerplant         4355 Jul  5  2020 temp\n",
      "-rw-rw-r--.  1 hraczw powerplant   2892726272 Aug 11 12:19 temp.bilberry_allhic_assembly.asm_mnd.txt\n",
      "-rw-rw-r--.  1 hraczw powerplant   6334859784 Mar 15  2021 temp.bilberry_chrs.asm_mnd.txt\n",
      "drwxrwsr-x.  7 hraczw powerplant          416 Aug 20  2020 tmp_purge_haplotigs\n",
      "drwxrwsr-x.  2 hraczw powerplant           28 Sep  1  2020 tmp_rununik_70020\n",
      "-rw-rw-r--.  1 hraczw powerplant            0 Apr 14  2020 unzip_promethion.err\n",
      "-rw-rw-r--.  1 hraczw powerplant          920 Apr 14  2020 unzip_promethion.out\n"
     ]
    }
   ],
   "source": [
    "ll"
   ]
  },
  {
   "cell_type": "code",
   "execution_count": 145,
   "metadata": {},
   "outputs": [
    {
     "name": "stdout",
     "output_type": "stream",
     "text": [
      "Currently Loaded Modulefiles:\n",
      " 1) \u001b[46mpowerPlant/core\u001b[0m    5) \u001b[100mabatch/0.1\u001b[0m        9) asub/2.2           \n",
      " 2) texlive/20151117   6) \u001b[46mSlurm/21.08.8-2\u001b[0m  10) ncbi-blast/2.11.0  \n",
      " 3) pandoc/1.19.2      7) perlbrew/0.76    11) bwa/0.7.17         \n",
      " 4) git/2.21.0         8) perl/5.36.0      12) samtools/1.12      \n",
      "\n",
      "Key:\n",
      "\u001b[100mauto-loaded\u001b[0m  \u001b[46msticky\u001b[0m  \n"
     ]
    }
   ],
   "source": [
    "# mapping following in steps on ALLHIC wiki\n",
    "\n",
    "module load bwa\n",
    "module list"
   ]
  },
  {
   "cell_type": "code",
   "execution_count": 146,
   "metadata": {},
   "outputs": [
    {
     "name": "stdout",
     "output_type": "stream",
     "text": [
      "Submitted batch job 111126\n"
     ]
    }
   ],
   "source": [
    "sbatch << EOF\n",
    "#!/bin/bash\n",
    "#SBATCH -J bwa\n",
    "#SBATCH -o ${WDR}/%J.out\n",
    "#SBATCH -e ${WDR}/%J.err\n",
    "#SBATCH --cpus-per-task=1\n",
    "#SBATCH --mem=50G\n",
    "#SBATCH --time=01:00:00\n",
    "\n",
    "# load the module inside the job\n",
    "module load bwa/0.7.17\n",
    "\n",
    "bwa index $REF\n",
    "\n",
    "EOF\n",
    "#squeue"
   ]
  },
  {
   "cell_type": "code",
   "execution_count": 147,
   "metadata": {},
   "outputs": [
    {
     "name": "stdout",
     "output_type": "stream",
     "text": [
      "Currently Loaded Modulefiles:\n",
      " 1) \u001b[46mpowerPlant/core\u001b[0m    5) \u001b[100mabatch/0.1\u001b[0m        9) asub/2.2           \n",
      " 2) texlive/20151117   6) \u001b[46mSlurm/21.08.8-2\u001b[0m  10) ncbi-blast/2.11.0  \n",
      " 3) pandoc/1.19.2      7) perlbrew/0.76    11) bwa/0.7.17         \n",
      " 4) git/2.21.0         8) perl/5.36.0      12) samtools/1.12      \n",
      "\n",
      "Key:\n",
      "\u001b[100mauto-loaded\u001b[0m  \u001b[46msticky\u001b[0m  \n"
     ]
    }
   ],
   "source": [
    "module load samtools\n",
    "module list"
   ]
  },
  {
   "cell_type": "code",
   "execution_count": 148,
   "metadata": {},
   "outputs": [
    {
     "name": "stdout",
     "output_type": "stream",
     "text": [
      "Submitted batch job 111127\n"
     ]
    }
   ],
   "source": [
    "sbatch << EOF\n",
    "#!/bin/bash\n",
    "#SBATCH -J map\n",
    "#SBATCH -o ${WDR}/%J.out\n",
    "#SBATCH -e ${WDR}/%J.err\n",
    "#SBATCH --cpus-per-task=20\n",
    "#SBATCH --mem=50G\n",
    "#SBATCH --time=20:00:00\n",
    "\n",
    "# load the module inside the job\n",
    "module load samtools/1.12\n",
    "module load bwa/0.7.17\n",
    "\n",
    "bwa mem -5SP -t 20 $REF $HICR1_RAW $HICR2_RAW | samtools view -S -h -b -F 2316 > $WDR/mapped_allhic_assembly.bam\n",
    "\n",
    "EOF"
   ]
  },
  {
   "cell_type": "markdown",
   "metadata": {},
   "source": [
    "## 2. generating .hic file for juicerbox\n",
    "\n",
    "* using phasegenomics scripts: https://github.com/phasegenomics/juicebox_scripts"
   ]
  },
  {
   "cell_type": "code",
   "execution_count": 149,
   "metadata": {},
   "outputs": [],
   "source": [
    "python /workspace/hraczw/github/programs/juicebox_scripts/juicebox_scripts/makeAgpFromFasta.py $REF $WDR/bilberry_allhic_assembly.agp"
   ]
  },
  {
   "cell_type": "code",
   "execution_count": 150,
   "metadata": {},
   "outputs": [],
   "source": [
    "python /workspace/hraczw/github/programs/juicebox_scripts/juicebox_scripts/agp2assembly.py $WDR/bilberry_allhic_assembly.agp $WDR/bilberry_allhic_assembly.assembly"
   ]
  },
  {
   "cell_type": "code",
   "execution_count": 151,
   "metadata": {},
   "outputs": [],
   "source": [
    "export PATH=/workspace/hraczw/github/programs/matlock/bin/:$PATH"
   ]
  },
  {
   "cell_type": "code",
   "execution_count": 152,
   "metadata": {},
   "outputs": [
    {
     "name": "stdout",
     "output_type": "stream",
     "text": [
      "Submitted batch job 111128\n"
     ]
    }
   ],
   "source": [
    "sbatch << EOF\n",
    "#!/bin/bash\n",
    "#SBATCH -J map\n",
    "#SBATCH -o ${WDR}/%J.out\n",
    "#SBATCH -e ${WDR}/%J.err\n",
    "#SBATCH --cpus-per-task=1\n",
    "#SBATCH --mem=50G\n",
    "#SBATCH --time=10:00:00\n",
    "\n",
    "# load the module inside the job\n",
    "export PATH=/workspace/hraczw/github/programs/matlock/bin/:$PATH\n",
    "\n",
    "matlock bam2 juicer $WDR/mapped_allhic_assembly.bam $WDR/out_allhic_assembly.links.txt\n",
    "\n",
    "EOF"
   ]
  },
  {
   "cell_type": "code",
   "execution_count": 153,
   "metadata": {},
   "outputs": [
    {
     "name": "stdout",
     "output_type": "stream",
     "text": [
      "Submitted batch job 111129\n"
     ]
    }
   ],
   "source": [
    "sbatch << EOF\n",
    "#!/bin/bash\n",
    "#SBATCH -J sort\n",
    "#SBATCH -o ${WDR}/%J.out\n",
    "#SBATCH -e ${WDR}/%J.err\n",
    "#SBATCH --cpus-per-task=1\n",
    "#SBATCH --mem=50G\n",
    "#SBATCH --time=10:00:00\n",
    "\n",
    "# load the module inside the job\n",
    "export PATH=/workspace/hraczw/github/programs/matlock/bin/:$PATH\n",
    "\n",
    "sort -k2,2 -k6,6 $WDR/out_allhic_assembly.links.txt > $WDR/out_allhic_assembly.sorted.links.txt\n",
    "\n",
    "EOF"
   ]
  },
  {
   "cell_type": "code",
   "execution_count": 139,
   "metadata": {},
   "outputs": [
    {
     "name": "stdout",
     "output_type": "stream",
     "text": [
      "Submitted batch job 111124\n"
     ]
    }
   ],
   "source": [
    "sbatch << EOF\n",
    "#!/bin/bash\n",
    "#SBATCH -J convert2hic\n",
    "#SBATCH -o ${WDR}/%J.out\n",
    "#SBATCH -e ${WDR}/%J.err\n",
    "#SBATCH --cpus-per-task=1\n",
    "#SBATCH --mem=100G\n",
    "#SBATCH --time=20:00:00\n",
    "\n",
    "# load the module inside the job\n",
    "export PATH=/workspace/hraczw/github/programs/matlock/bin/:$PATH\n",
    "\n",
    "bash /workspace/hraczw/github/programs/3d-dna/visualize/run-assembly-visualizer.sh -p false $WDR/bilberry_allhic_assembly.assembly $WDR/out_allhic_assembly.sorted.links.txt\n",
    "\n",
    "EOF"
   ]
  },
  {
   "cell_type": "code",
   "execution_count": null,
   "metadata": {},
   "outputs": [],
   "source": []
  },
  {
   "cell_type": "code",
   "execution_count": null,
   "metadata": {},
   "outputs": [],
   "source": []
  }
 ],
 "metadata": {
  "kernelspec": {
   "display_name": "Bash",
   "language": "bash",
   "name": "bash"
  },
  "language_info": {
   "codemirror_mode": "shell",
   "file_extension": ".sh",
   "mimetype": "text/x-sh",
   "name": "bash"
  }
 },
 "nbformat": 4,
 "nbformat_minor": 4
}
