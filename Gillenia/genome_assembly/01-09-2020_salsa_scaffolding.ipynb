{
 "cells": [
  {
   "cell_type": "markdown",
   "metadata": {},
   "source": [
    "# HiC benchmarking - SALSA2\n",
    "\n",
    "* Advantages:\n",
    "  * leverage assembly graph information for scaffolding\n",
    "  * does not require user to specify chromosome number a priori. Run stops when the Hi-C information is exhausted\n",
    "  * insensitive to assembly contiguity and Hi-C library variations\n",
    "  * no need to tune of parameters for each dataset\n",
    "  * better resolve unitig orientations, espetially short unitigs\n",
    "  * show fewer orientation, ordering, and chimeric errors across a wide range of assembly contiguities. also robustness to different Hi-C libraries with varying intra-chromosomal contact frequencies. It generates more accturate scaffolds across all conditions tested compared to 3d-dna\n",
    "  \n",
    "* Cecilia's salsa1 pipeline:\n",
    "  * BUSCO check on the PacBio assembly\n",
    "  * HICUPS quality check on the HI-C data\n",
    "  * mapping using bowtie2 and check mapping stats\n",
    "  * clustering using salsa with raw reads\n",
    "  * result was bad, checking for contamination using Kraken on the PacBio assembly\n",
    "\n",
    "* comments from Cecilia:\n",
    "> The Kraken result for MR is strange. Any contigs classified as bacteria or plant (by Kraken1 or Kraken2) were matched to Puccinia when blasted to NCBI. We decided to keep all sequences and ignore Kraken result.\n",
    "\n",
    "> The latest MR version is at /input/genomic/fungal/Austropuccinia/psidii/PacBioAssembly/20190122 (MR_P2A.fasta, MR_H.fasta.gz and MR_artefacts.fasta) with P and H representing primary and haplotig alleles.\n",
    "\n",
    "> check with Cecilia about double digestion input"
   ]
  },
  {
   "cell_type": "markdown",
   "metadata": {},
   "source": [
    "## previous SALSA result"
   ]
  },
  {
   "cell_type": "code",
   "execution_count": 1,
   "metadata": {},
   "outputs": [
    {
     "name": "stdout",
     "output_type": "stream",
     "text": [
      "Currently Loaded Modulefiles:\n",
      "  1) powerPlant/core                 8) geneid/v1.4.4\n",
      "  2) texlive/20151117                9) wise/2.4.1\n",
      "  3) pandoc/1.19.2                  10) hmmer/3.1b2\n",
      "  4) git/2.21.0                     11) ncbi-blast/2.2.25\n",
      "  5) perlbrew/0.76                  12) cegma/v2.5\n",
      "  6) perl/5.28.0                    13) assemblathon_stats/2011_10_13\n",
      "  7) asub/2.1\n"
     ]
    }
   ],
   "source": [
    "module load assemblathon_stats\n",
    "module list"
   ]
  },
  {
   "cell_type": "code",
   "execution_count": 3,
   "metadata": {},
   "outputs": [
    {
     "name": "stdout",
     "output_type": "stream",
     "text": [
      "Use of qw(...) as parentheses is deprecated at /software/bioinformatics/assemblathon_stats-2011_10_13/assemblathon_stats.pl line 283.\n",
      "Use of qw(...) as parentheses is deprecated at /software/bioinformatics/assemblathon_stats-2011_10_13/assemblathon_stats.pl line 408.\n",
      "\n",
      "---------------- Information for assembly '/workspace/hraczw/github/GA/Gillenia_genome/005.GapFilling/scaff_ragoo_gapfilled_noContamination.ml10000.fasta' ----------------\n",
      "\n",
      "\n",
      "                                         Number of scaffolds        678\n",
      "                                     Total size of scaffolds  292336213\n",
      "                                            Longest scaffold   17261300\n",
      "                                           Shortest scaffold      10017\n",
      "                                 Number of scaffolds > 1K nt        678 100.0%\n",
      "                                Number of scaffolds > 10K nt        678 100.0%\n",
      "                               Number of scaffolds > 100K nt        259  38.2%\n",
      "                                 Number of scaffolds > 1M nt         78  11.5%\n",
      "                                Number of scaffolds > 10M nt          2   0.3%\n",
      "                                          Mean scaffold size     431174\n",
      "                                        Median scaffold size      54325\n",
      "                                         N50 scaffold length    1871451\n",
      "                                          L50 scaffold count         36\n",
      "                                                 scaffold %A      30.82\n",
      "                                                 scaffold %C      19.07\n",
      "                                                 scaffold %G      19.08\n",
      "                                                 scaffold %T      30.85\n",
      "                                                 scaffold %N       0.18\n",
      "                                         scaffold %non-ACGTN       0.00\n",
      "                             Number of scaffold non-ACGTN nt          0\n",
      "\n",
      "                Percentage of assembly in scaffolded contigs      84.1%\n",
      "              Percentage of assembly in unscaffolded contigs      15.9%\n",
      "                      Average number of contigs per scaffold        2.7\n",
      "Average length of break (>25 Ns) between contigs in scaffold        468\n",
      "\n",
      "                                           Number of contigs       1804\n",
      "                              Number of contigs in scaffolds       1427\n",
      "                          Number of contigs not in scaffolds        377\n",
      "                                       Total size of contigs  291807313\n",
      "                                              Longest contig    7412155\n",
      "                                             Shortest contig         48\n",
      "                                   Number of contigs > 1K nt       1751  97.1%\n",
      "                                  Number of contigs > 10K nt       1223  67.8%\n",
      "                                 Number of contigs > 100K nt        435  24.1%\n",
      "                                   Number of contigs > 1M nt         72   4.0%\n",
      "                                  Number of contigs > 10M nt          0   0.0%\n",
      "                                            Mean contig size     161756\n",
      "                                          Median contig size      21676\n",
      "                                           N50 contig length     823255\n",
      "                                            L50 contig count         99\n",
      "                                                   contig %A      30.88\n",
      "                                                   contig %C      19.10\n",
      "                                                   contig %G      19.11\n",
      "                                                   contig %T      30.91\n",
      "                                                   contig %N       0.00\n",
      "                                           contig %non-ACGTN       0.00\n",
      "                               Number of contig non-ACGTN nt          0\n"
     ]
    }
   ],
   "source": [
    "assemblathon_stats.pl /workspace/hraczw/github/GA/Gillenia_genome/005.GapFilling/scaff_ragoo_gapfilled_noContamination.ml10000.fasta"
   ]
  },
  {
   "cell_type": "markdown",
   "metadata": {},
   "source": [
    "## SALSA2"
   ]
  },
  {
   "cell_type": "code",
   "execution_count": 4,
   "metadata": {},
   "outputs": [],
   "source": [
    "mkdir 015.salsa2"
   ]
  },
  {
   "cell_type": "code",
   "execution_count": 5,
   "metadata": {},
   "outputs": [
    {
     "name": "stdout",
     "output_type": "stream",
     "text": [
      "/powerplant/workspace/hraczw/github/GA/Gillenia_genome\n"
     ]
    }
   ],
   "source": [
    "pwd"
   ]
  },
  {
   "cell_type": "code",
   "execution_count": 6,
   "metadata": {},
   "outputs": [],
   "source": [
    "workDir=/powerplant/workspace/hraczw/github/GA/Gillenia_genome/015.salsa2\n",
    "GenomeDir=/workspace/hraczw/github/GA/Gillenia_genome/005.GapFilling\n",
    "genome=scaff_ragoo_gapfilled_noContamination.ml10000.fasta\n",
    "HiC_Dir=/workspace/hraczw/github/GA/Gillenia_genome/002.Fastp.trimming"
   ]
  },
  {
   "cell_type": "markdown",
   "metadata": {},
   "source": [
    "### Read alignment and filtering\n",
    "\n",
    "* mapping steps follow SALSA2 paper: using BWA (parameters: -t 12 -B 8)\n",
    "[mapping details](https://github.com/ArimaGenomics/mapping_pipeline/blob/master/Arima_Mapping_UserGuide_A160146_v00.pdf)"
   ]
  },
  {
   "cell_type": "code",
   "execution_count": 7,
   "metadata": {},
   "outputs": [
    {
     "name": "stdout",
     "output_type": "stream",
     "text": [
      "Currently Loaded Modulefiles:\n",
      "  1) powerPlant/core                 8) geneid/v1.4.4\n",
      "  2) texlive/20151117                9) wise/2.4.1\n",
      "  3) pandoc/1.19.2                  10) hmmer/3.1b2\n",
      "  4) git/2.21.0                     11) ncbi-blast/2.2.25\n",
      "  5) perlbrew/0.76                  12) cegma/v2.5\n",
      "  6) perl/5.28.0                    13) assemblathon_stats/2011_10_13\n",
      "  7) asub/2.1                       14) bwa/0.7.17\n"
     ]
    }
   ],
   "source": [
    "module load bwa\n",
    "module list"
   ]
  },
  {
   "cell_type": "markdown",
   "metadata": {},
   "source": [
    "#### Indexing genome for BWA mapping"
   ]
  },
  {
   "cell_type": "code",
   "execution_count": 14,
   "metadata": {},
   "outputs": [
    {
     "name": "stdout",
     "output_type": "stream",
     "text": [
      "Job <273554> is submitted to default queue <lowpriority>.\n"
     ]
    }
   ],
   "source": [
    "bsub -J bwa_index \\\n",
    "-o $workDir/bwa_index.out \\\n",
    "-e $workDir/bwa_index.err \\\n",
    "\"bwa index \\\n",
    "-p $workDir/ragoo_scaffolds_ml10000 \\\n",
    "$GenomeDir/$genome\""
   ]
  },
  {
   "cell_type": "markdown",
   "metadata": {},
   "source": [
    "#### BWA mapping"
   ]
  },
  {
   "cell_type": "code",
   "execution_count": 15,
   "metadata": {},
   "outputs": [],
   "source": [
    "R1=$HiC_Dir/R1.cleaned.specifiedAdapter.short.Q15.fq.gz\n",
    "R2=$HiC_Dir/R2.cleaned.specifiedAdapter.short.Q15.fq.gz"
   ]
  },
  {
   "cell_type": "code",
   "execution_count": 17,
   "metadata": {},
   "outputs": [
    {
     "name": "stdout",
     "output_type": "stream",
     "text": [
      "No unfinished job found\n"
     ]
    },
    {
     "ename": "",
     "evalue": "255",
     "output_type": "error",
     "traceback": []
    }
   ],
   "source": [
    "bjobs"
   ]
  },
  {
   "cell_type": "code",
   "execution_count": 13,
   "metadata": {},
   "outputs": [
    {
     "name": "stdout",
     "output_type": "stream",
     "text": [
      "Currently Loaded Modulefiles:\n",
      "  1) powerPlant/core                 9) wise/2.4.1\n",
      "  2) texlive/20151117               10) hmmer/3.1b2\n",
      "  3) pandoc/1.19.2                  11) ncbi-blast/2.2.25\n",
      "  4) git/2.21.0                     12) cegma/v2.5\n",
      "  5) perlbrew/0.76                  13) assemblathon_stats/2011_10_13\n",
      "  6) perl/5.28.0                    14) bwa/0.7.17\n",
      "  7) asub/2.1                       15) samtools/1.9\n",
      "  8) geneid/v1.4.4\n"
     ]
    }
   ],
   "source": [
    "module load samtools\n",
    "module list"
   ]
  },
  {
   "cell_type": "code",
   "execution_count": 20,
   "metadata": {},
   "outputs": [
    {
     "name": "stdout",
     "output_type": "stream",
     "text": [
      "Job <276933> is submitted to default queue <lowpriority>.\n"
     ]
    }
   ],
   "source": [
    "# adjust -B: panelty of mismatch\n",
    "\n",
    "bsub -J bwa_R1 \\\n",
    "-n 60 \\\n",
    "-m wkoppb50 \\\n",
    "-o $workDir/bwa_R1.out \\\n",
    "-e $workDir/bwa_R1.err \\\n",
    "\"bwa mem \\\n",
    "-t 60 \\\n",
    "-B 8 \\\n",
    "$workDir/ragoo_scaffolds_ml10000 \\\n",
    "$R1 | \\\n",
    "samtools view \\\n",
    "-Sb - > \\\n",
    "$workDir/R1.bam\""
   ]
  },
  {
   "cell_type": "code",
   "execution_count": 19,
   "metadata": {},
   "outputs": [
    {
     "name": "stdout",
     "output_type": "stream",
     "text": [
      "Job <273567> is submitted to default queue <lowpriority>.\n"
     ]
    }
   ],
   "source": [
    "bsub -J bwa_R2 \\\n",
    "-n 40 \\\n",
    "-o $workDir/bwa_R2.out \\\n",
    "-e $workDir/bwa_R2.err \\\n",
    "\"bwa mem \\\n",
    "-t 40 \\\n",
    "-B 8 \\\n",
    "$workDir/ragoo_scaffolds_ml10000 \\\n",
    "$R2 | \\\n",
    "samtools view \\\n",
    "-Sb - > \\\n",
    "$workDir/R2.bam\""
   ]
  },
  {
   "cell_type": "code",
   "execution_count": 21,
   "metadata": {},
   "outputs": [
    {
     "name": "stdout",
     "output_type": "stream",
     "text": [
      "Job <276937> is submitted to default queue <lowpriority>.\n"
     ]
    }
   ],
   "source": [
    "bsub -J mappingStats \\\n",
    "-o $workDir/mappingStats_R1.out \\\n",
    "-e $workDir/mappingStats_R1.err \\\n",
    "\"samtools flagstat \\\n",
    "$workDir/R1.bam \\\n",
    "> $workDir/R1_mappingStats.txt\""
   ]
  },
  {
   "cell_type": "code",
   "execution_count": 26,
   "metadata": {},
   "outputs": [
    {
     "name": "stdout",
     "output_type": "stream",
     "text": [
      "255955419 + 0 in total (QC-passed reads + QC-failed reads)\n",
      "0 + 0 secondary\n",
      "33362590 + 0 supplementary\n",
      "0 + 0 duplicates\n",
      "253432177 + 0 mapped (99.01% : N/A)\n",
      "0 + 0 paired in sequencing\n",
      "0 + 0 read1\n",
      "0 + 0 read2\n",
      "0 + 0 properly paired (N/A : N/A)\n",
      "0 + 0 with itself and mate mapped\n",
      "0 + 0 singletons (N/A : N/A)\n",
      "0 + 0 with mate mapped to a different chr\n",
      "0 + 0 with mate mapped to a different chr (mapQ>=5)\n"
     ]
    }
   ],
   "source": [
    "cat $workDir/R1_mappingStats.txt"
   ]
  },
  {
   "cell_type": "code",
   "execution_count": 22,
   "metadata": {},
   "outputs": [
    {
     "name": "stdout",
     "output_type": "stream",
     "text": [
      "Job <276938> is submitted to default queue <lowpriority>.\n"
     ]
    }
   ],
   "source": [
    "bsub -J mappingStats \\\n",
    "-o $workDir/mappingStats_R2.out \\\n",
    "-e $workDir/mappingStats_R2.err \\\n",
    "\"samtools flagstat \\\n",
    "$workDir/R2.bam \\\n",
    "> $workDir/R2_mappingStats.txt\""
   ]
  },
  {
   "cell_type": "code",
   "execution_count": 27,
   "metadata": {},
   "outputs": [
    {
     "name": "stdout",
     "output_type": "stream",
     "text": [
      "255272077 + 0 in total (QC-passed reads + QC-failed reads)\n",
      "0 + 0 secondary\n",
      "32679248 + 0 supplementary\n",
      "0 + 0 duplicates\n",
      "251434016 + 0 mapped (98.50% : N/A)\n",
      "0 + 0 paired in sequencing\n",
      "0 + 0 read1\n",
      "0 + 0 read2\n",
      "0 + 0 properly paired (N/A : N/A)\n",
      "0 + 0 with itself and mate mapped\n",
      "0 + 0 singletons (N/A : N/A)\n",
      "0 + 0 with mate mapped to a different chr\n",
      "0 + 0 with mate mapped to a different chr (mapQ>=5)\n"
     ]
    }
   ],
   "source": [
    "cat $workDir/R2_mappingStats.txt"
   ]
  },
  {
   "cell_type": "markdown",
   "metadata": {},
   "source": [
    "#### Filtering \"chimeric\" reads\n",
    "A single read jumping across ligation junction can be mapped with two ends to two different locations, each has high quality mapping score. only the 5'-side should be retained because the 3'-side can originate from the same contiguous DNA as the 5'-side of the reads mate-pair."
   ]
  },
  {
   "cell_type": "code",
   "execution_count": 23,
   "metadata": {},
   "outputs": [],
   "source": [
    "SCRIPTSDIR=/workspace/hraczw/github/programs/mapping_pipeline\n",
    "FILTER=filter_five_end.pl"
   ]
  },
  {
   "cell_type": "code",
   "execution_count": 24,
   "metadata": {},
   "outputs": [
    {
     "name": "stdout",
     "output_type": "stream",
     "text": [
      "Job <276939> is submitted to default queue <lowpriority>.\n"
     ]
    }
   ],
   "source": [
    "bsub -J samtools_R1 \\\n",
    "-o $workDir/filtered_R1.out \\\n",
    "-e $workDir/filtered_R1.err \\\n",
    "\"samtools view \\\n",
    "-h \\\n",
    "$workDir/R1.bam | \\\n",
    "perl $SCRIPTSDIR/$FILTER | \\\n",
    "samtools view \\\n",
    "-Sb - > \\\n",
    "$workDir/R1_filtered.bam\""
   ]
  },
  {
   "cell_type": "code",
   "execution_count": 25,
   "metadata": {},
   "outputs": [
    {
     "name": "stdout",
     "output_type": "stream",
     "text": [
      "Job <276940> is submitted to default queue <lowpriority>.\n"
     ]
    }
   ],
   "source": [
    "bsub -J samtools_R2 \\\n",
    "-o $workDir/filtered_R2.out \\\n",
    "-e $workDir/filtered_R2.err \\\n",
    "\"samtools view \\\n",
    "-h \\\n",
    "$workDir/R2.bam | \\\n",
    "perl $SCRIPTSDIR/$FILTER | \\\n",
    "samtools view \\\n",
    "-Sb - > \\\n",
    "$workDir/R2_filtered.bam\""
   ]
  },
  {
   "cell_type": "markdown",
   "metadata": {},
   "source": [
    "#### Combining read pairs & mapping quality filter"
   ]
  },
  {
   "cell_type": "code",
   "execution_count": 28,
   "metadata": {},
   "outputs": [],
   "source": [
    "# faidx genome\n",
    "COMBINER=$SCRIPTSDIR/two_read_bam_combiner.pl\n",
    "FAIDX=$GenomeDir/$genome.fai"
   ]
  },
  {
   "cell_type": "code",
   "execution_count": 30,
   "metadata": {},
   "outputs": [
    {
     "name": "stdout",
     "output_type": "stream",
     "text": [
      "Job <276967> is submitted to default queue <lowpriority>.\n"
     ]
    }
   ],
   "source": [
    "bsub -J combineReads \\\n",
    "-m wkoppb50 \\\n",
    "-o $workDir/combineReads.out \\\n",
    "-e $workDir/combineReads.err \\\n",
    "\"perl $COMBINER \\\n",
    "$workDir/R1_filtered.bam \\\n",
    "$workDir/R2_filtered.bam \\\n",
    "samtools 10 | \\\n",
    "samtools view \\\n",
    "-bS \\\n",
    "-t $FAIDX - | \\\n",
    "samtools sort \\\n",
    "-o $workDir/pairs.bam -\""
   ]
  },
  {
   "cell_type": "code",
   "execution_count": 31,
   "metadata": {},
   "outputs": [
    {
     "name": "stdout",
     "output_type": "stream",
     "text": [
      "Currently Loaded Modulefiles:\n",
      "  1) powerPlant/core                 9) wise/2.4.1\n",
      "  2) texlive/20151117               10) hmmer/3.1b2\n",
      "  3) pandoc/1.19.2                  11) ncbi-blast/2.2.25\n",
      "  4) git/2.21.0                     12) cegma/v2.5\n",
      "  5) perlbrew/0.76                  13) assemblathon_stats/2011_10_13\n",
      "  6) perl/5.28.0                    14) bwa/0.7.17\n",
      "  7) asub/2.1                       15) samtools/1.9\n",
      "  8) geneid/v1.4.4                  16) picard-tools/2.9.4\n"
     ]
    }
   ],
   "source": [
    "# add read group\n",
    "module load picard-tools\n",
    "module list"
   ]
  },
  {
   "cell_type": "code",
   "execution_count": 32,
   "metadata": {},
   "outputs": [
    {
     "name": "stdout",
     "output_type": "stream",
     "text": [
      "Job <277014> is submitted to default queue <lowpriority>.\n"
     ]
    }
   ],
   "source": [
    "bsub -J picard \\\n",
    "-m wkoppb50 \\\n",
    "-o $workDir/picard.out \\\n",
    "-e $workDir/picard.err \\\n",
    "\"picard AddOrReplaceReadGroups \\\n",
    "INPUT=$workDir/pairs.bam \\\n",
    "OUTPUT=$workDir/pairs_updated.bam \\\n",
    "ID=Gillenia_HIC_clean \\\n",
    "LB=Gillenia_HIC_clean \\\n",
    "SM=GilleniaHiC \\\n",
    "PL=ILLUMINA \\\n",
    "PU=none\""
   ]
  },
  {
   "cell_type": "code",
   "execution_count": 33,
   "metadata": {},
   "outputs": [
    {
     "name": "stdout",
     "output_type": "stream",
     "text": [
      "Job <277034> is submitted to default queue <lowpriority>.\n"
     ]
    }
   ],
   "source": [
    "# mark duplicates\n",
    "\n",
    "bsub -J markDuplicates \\\n",
    "-o $workDir/markDuplicates.out \\\n",
    "-e $workDir/markDuplicates.err \\\n",
    "\"picard MarkDuplicates \\\n",
    "INPUT=$workDir/pairs_updated.bam \\\n",
    "OUTPUT=$workDir/pairs_updated_DuplicatesRemoved.bam \\\n",
    "METRICS_FILE=$workDir/duplicates_metrics.txt \\\n",
    "TMP_DIR=$workDir \\\n",
    "VALIDATION_STRINGENCY=LENIENT \\\n",
    "REMOVE_DUPLICATES=TRUE\""
   ]
  },
  {
   "cell_type": "code",
   "execution_count": 34,
   "metadata": {},
   "outputs": [
    {
     "name": "stdout",
     "output_type": "stream",
     "text": [
      "Job <282391> is submitted to default queue <lowpriority>.\n"
     ]
    }
   ],
   "source": [
    "bsub -J samtoolsIndex \\\n",
    "-o $workDir/samtoolsIndex.out \\\n",
    "-e $workDir/samtoolsIndex.err \\\n",
    "\"samtools index \\\n",
    "$workDir/pairs_updated_DuplicatesRemoved.bam\""
   ]
  },
  {
   "cell_type": "code",
   "execution_count": 41,
   "metadata": {},
   "outputs": [
    {
     "name": "stdout",
     "output_type": "stream",
     "text": [
      "Job <282394> is submitted to default queue <lowpriority>.\n"
     ]
    }
   ],
   "source": [
    "bsub -J stats \\\n",
    "-o $workDir/stats.out \\\n",
    "-e $workDir/stats.err \\\n",
    "\"perl $SCRIPTSDIR/get_stats.pl \\\n",
    "$workDir/pairs_updated_DuplicatesRemoved.bam \\\n",
    "> $workDir/pairs_updated_DuplicatesRemoved.bam.stats\""
   ]
  },
  {
   "cell_type": "code",
   "execution_count": 42,
   "metadata": {},
   "outputs": [
    {
     "name": "stdout",
     "output_type": "stream",
     "text": [
      "All            84749350\n",
      "All intra      64591882\n",
      "All intra 1kb  2786443\n",
      "All intra 10kb 1903137\n",
      "All intra 15kb 1772902\n",
      "All intra 20kb 1682757\n",
      "All inter      20157468\n"
     ]
    }
   ],
   "source": [
    "cat $workDir/pairs_updated_DuplicatesRemoved.bam.stats"
   ]
  },
  {
   "cell_type": "markdown",
   "metadata": {},
   "source": [
    "inter pairs are a lot less than those intra pairs."
   ]
  },
  {
   "cell_type": "markdown",
   "metadata": {},
   "source": [
    "### scaffolding"
   ]
  },
  {
   "cell_type": "code",
   "execution_count": 36,
   "metadata": {},
   "outputs": [
    {
     "name": "stdout",
     "output_type": "stream",
     "text": [
      "Currently Loaded Modulefiles:\n",
      "  1) powerPlant/core                10) hmmer/3.1b2\n",
      "  2) texlive/20151117               11) ncbi-blast/2.2.25\n",
      "  3) pandoc/1.19.2                  12) cegma/v2.5\n",
      "  4) git/2.21.0                     13) assemblathon_stats/2011_10_13\n",
      "  5) perlbrew/0.76                  14) bwa/0.7.17\n",
      "  6) perl/5.28.0                    15) samtools/1.9\n",
      "  7) asub/2.1                       16) picard-tools/2.9.4\n",
      "  8) geneid/v1.4.4                  17) singularity/3\n",
      "  9) wise/2.4.1                     18) salsa/v2.2\n"
     ]
    }
   ],
   "source": [
    "module load salsa\n",
    "module list"
   ]
  },
  {
   "cell_type": "code",
   "execution_count": 37,
   "metadata": {},
   "outputs": [],
   "source": [
    "# prepare files for salsa\n",
    "module load bedtools"
   ]
  },
  {
   "cell_type": "code",
   "execution_count": 38,
   "metadata": {},
   "outputs": [
    {
     "name": "stdout",
     "output_type": "stream",
     "text": [
      "Job <282393> is submitted to default queue <lowpriority>.\n"
     ]
    }
   ],
   "source": [
    "bsub -J bamToBed \\\n",
    "-o $workDir/bamToBed.out \\\n",
    "-e $workDir/bamToBed.err \\\n",
    "\"bamToBed -i \\\n",
    "$workDir/pairs_updated_DuplicatesRemoved.bam \\\n",
    "> $workDir/pairs_updated_DuplicatesRemoved.bed\""
   ]
  },
  {
   "cell_type": "code",
   "execution_count": 43,
   "metadata": {},
   "outputs": [
    {
     "name": "stdout",
     "output_type": "stream",
     "text": [
      "Job <282408> is submitted to default queue <lowpriority>.\n"
     ]
    }
   ],
   "source": [
    "bsub -J bedsort \\\n",
    "-o $workDir/bedsort.out \\\n",
    "-e $workDir/bedsort.err \\\n",
    "\"sort -k 4 $workDir/pairs_updated_DuplicatesRemoved.bed \\\n",
    "> tmp && mv tmp $workDir/pairs_updated_DuplicatesRemoved.bed\""
   ]
  },
  {
   "cell_type": "code",
   "execution_count": 44,
   "metadata": {},
   "outputs": [
    {
     "name": "stdout",
     "output_type": "stream",
     "text": [
      "JOBID   USER    STAT  QUEUE      FROM_HOST   EXEC_HOST   JOB_NAME   SUBMIT_TIME\n",
      "282408  hraczw  RUN   lowpriorit aklppj31    aklppb47    bedsort    Sep  2 17:39\n"
     ]
    }
   ],
   "source": [
    "bjobs"
   ]
  },
  {
   "cell_type": "code",
   "execution_count": 45,
   "metadata": {},
   "outputs": [],
   "source": [
    "# generate contig index\n",
    "samtools faidx $GenomeDir/$genome"
   ]
  },
  {
   "cell_type": "code",
   "execution_count": 46,
   "metadata": {},
   "outputs": [],
   "source": [
    "faiFile=$GenomeDir/$genome.fai"
   ]
  },
  {
   "cell_type": "code",
   "execution_count": 47,
   "metadata": {},
   "outputs": [],
   "source": [
    "mkdir $workDir/salsa2"
   ]
  },
  {
   "cell_type": "code",
   "execution_count": 50,
   "metadata": {},
   "outputs": [
    {
     "name": "stdout",
     "output_type": "stream",
     "text": [
      "usage: run_pipeline.py [-h] -a ASSEMBLY -l LENGTH -b BED [-o OUTPUT]\n",
      "                       [-c CUTOFF] [-g GFA] [-e ENZYME] [-i ITER] [-x DUP]\n",
      "                       [-s EXP] [-m CLEAN] [-f FILTER] [-p PRNT]\n",
      "\n",
      "SALSA Iterative Pipeline\n",
      "\n",
      "optional arguments:\n",
      "  -h, --help            show this help message and exit\n",
      "  -a ASSEMBLY, --assembly ASSEMBLY\n",
      "                        Path to initial assembly\n",
      "  -l LENGTH, --length LENGTH\n",
      "                        Length of contigs at start\n",
      "  -b BED, --bed BED     Bed file of alignments sorted by read names\n",
      "  -o OUTPUT, --output OUTPUT\n",
      "                        Output directory to put results\n",
      "  -c CUTOFF, --cutoff CUTOFF\n",
      "                        Minimum contig length to scaffold, default=1000\n",
      "  -g GFA, --gfa GFA     GFA file for assembly\n",
      "  -e ENZYME, --enzyme ENZYME\n",
      "                        Restriction Enzyme used for experiment\n",
      "  -i ITER, --iter ITER  Number of iterations to run, default = 3\n",
      "  -x DUP, --dup DUP     File containing duplicated contig information\n",
      "  -s EXP, --exp EXP     Expected Genome size of the assembled genome\n",
      "  -m CLEAN, --clean CLEAN\n",
      "                        Set this option to \"yes\" if you want to find\n",
      "                        misassemblies in input assembly\n",
      "  -f FILTER, --filter FILTER\n",
      "                        Filter bed file for contigs present in the assembly\n",
      "  -p PRNT, --prnt PRNT  Set this option to \"yes\" if you want to output the\n",
      "                        scaffolds sequence and agp file for each iteration\n"
     ]
    }
   ],
   "source": [
    "run_pipeline.py -h"
   ]
  },
  {
   "cell_type": "code",
   "execution_count": 56,
   "metadata": {},
   "outputs": [],
   "source": [
    "python /workspace/hraczw/github/programs/juicebox_scripts/juicebox_scripts/makeAgpFromFasta.py \\\n",
    "$GenomeDir/$genome $GenomeDir/$genome.agp"
   ]
  },
  {
   "cell_type": "code",
   "execution_count": null,
   "metadata": {},
   "outputs": [],
   "source": []
  },
  {
   "cell_type": "code",
   "execution_count": 59,
   "metadata": {},
   "outputs": [
    {
     "name": "stdout",
     "output_type": "stream",
     "text": [
      "Job <282435> is submitted to default queue <lowpriority>.\n"
     ]
    }
   ],
   "source": [
    "# run salsa scaffolding, setting is the same with Cecilia's salsa1 in order to compare the results\n",
    "\n",
    "bsub -J salsa \\\n",
    "-o $workDir/salsa2_ml10k_i5_glen/salsa2.out \\\n",
    "-e $workDir/salsa2_ml10k_i5_glen/salsa2.err \\\n",
    "\"run_pipeline.py \\\n",
    "-a $GenomeDir/$genome \\\n",
    "-l $faiFile \\\n",
    "-b $workDir/pairs_updated_DuplicatesRemoved.bed \\\n",
    "-c 10000 \\\n",
    "-e GATC \\\n",
    "-i 5 \\\n",
    "-s 300000000 \\\n",
    "-o $workDir/salsa2_ml10k_i5_glen/Gillenia_ragoo.Scaffolds \\\n",
    "-m yes\""
   ]
  },
  {
   "cell_type": "code",
   "execution_count": 57,
   "metadata": {
    "collapsed": true,
    "jupyter": {
     "outputs_hidden": true
    }
   },
   "outputs": [
    {
     "name": "stdout",
     "output_type": "stream",
     "text": [
      "10x_S1-S3_R1.fastq.gz\n",
      "busco_ragoo_non-haplotigs.err\n",
      "busco_ragoo_non-haplotigs.out\n",
      "fq-to-fa.minion.err\n",
      "fq-to-fa.minion.out\n",
      "fq-to-fa.p.err\n",
      "fq-to-fa.p.out\n",
      "G3-2-AK3717_S1_L001_R1_001.fastq.gz\n",
      "G3-2-AK3717_S1_L001_R1_001_preseq.err\n",
      "G3-2-AK3717_S1_L001_R1_001_preseq.out\n",
      "G3-2-AK3718_S2_L001_R1_001.fastq.gz\n",
      "G3-2-AK3718_S2_L001_R1_001_preseq.err\n",
      "G3-2-AK3718_S2_L001_R1_001_preseq.out\n",
      "G3-2-AK3719_S3_L001_R1_001.fastq.gz\n",
      "G3-2-AK3719_S3_L001_R1_001_preseq.err\n",
      "G3-2-AK3719_S3_L001_R1_001_preseq.out\n",
      "G3-2-AK3720_S4_L001_R1_001.fastq.gz\n",
      "G3-2-AK3720_S4_L001_R1_001_preseq.err\n",
      "G3-2-AK3720_S4_L001_R1_001_preseq.out\n",
      "gapcloser.err\n",
      "gapcloser_links.err\n",
      "gapcloser_links_i8.err\n",
      "gapcloser_links_i8.out\n",
      "gapcloser_links.out\n",
      "gapcloser.out\n",
      "gmcloser_filled-1m.nucmer.delta\n",
      "gmcloser_filled-bowtie_align\n",
      "gmcloser_filled-score.txt\n",
      "gmcloser_filled-subcon.fa\n",
      "gmcloser_filled.submit.log\n",
      "merge_10x.err\n",
      "merge_10x.out\n",
      "ragoo_non-haplotigs_BUSCO_tmp\n",
      "readFiles_R1.txt\n",
      "readFiles.txt\n",
      "run_ragoo_non-haplotigs_BUSCO\n",
      "scaff_links_i10_gapFilled.corrected.tgs-gapcloser.0.0.pilon.log\n",
      "scaff_links_i10_gapFilled.corrected.tgs-gapcloser.bam\n",
      "scaff_links_i10_gapFilled.corrected.tgs-gapcloser.cand.log\n",
      "scaff_links_i10_gapFilled.corrected.tgs-gapcloser.contig\n",
      "scaff_links_i10_gapFilled.corrected.tgs-gapcloser.fiter.sam\n",
      "scaff_links_i10_gapFilled.corrected.tgs-gapcloser.minimap2.01.log\n",
      "scaff_links_i10_gapFilled.corrected.tgs-gapcloser.minimap2.02.0.0.log\n",
      "scaff_links_i10_gapFilled.corrected.tgs-gapcloser.minimap2.03.0.0.log\n",
      "scaff_links_i10_gapFilled.corrected.tgs-gapcloser.mmi\n",
      "scaff_links_i10_gapFilled.corrected.tgs-gapcloser.name_map\n",
      "scaff_links_i10_gapFilled.corrected.tgs-gapcloser.ont.0.0.fasta\n",
      "scaff_links_i10_gapFilled.corrected.tgs-gapcloser.ont.0.1.fasta\n",
      "scaff_links_i10_gapFilled.corrected.tgs-gapcloser.ont.0.2.fasta\n",
      "scaff_links_i10_gapFilled.corrected.tgs-gapcloser.ont.fasta\n",
      "scaff_links_i10_gapFilled.corrected.tgs-gapcloser.orignial_scaff_infos\n",
      "scaff_links_i10_gapFilled.corrected.tgs-gapcloser.pilon.0.0.err\n",
      "scaff_links_i10_gapFilled.corrected.tgs-gapcloser.sam\n",
      "scaff_links_i10_gapFilled.corrected.tgs-gapcloser.samtool_01.0.0.log\n",
      "scaff_links_i10_gapFilled.corrected.tgs-gapcloser.samtool_02.0.0.log\n",
      "scaff_links_i10_gapFilled.corrected.tgs-gapcloser.samtool_03.0.0.log\n",
      "scaff_links_i10_gapFilled.corrected.tgs-gapcloser.seq_split.log\n",
      "scaff_links_i10_gapFilled.corrected.tgs-gapcloser.sort.bam\n",
      "scaff_links_i10_gapFilled.corrected.tgs-gapcloser.sort.bam.bai\n",
      "scaff_links_i10_gapFilled.corrected.tgs-gapcloser.sub.paf\n",
      "scaff_links_i10_gapFilled.noCorrection.tgs-gapcloser.contig\n",
      "scaff_links_i10_gapFilled.noCorrection.tgs-gapcloser.fill.log\n",
      "scaff_links_i10_gapFilled.noCorrection.tgs-gapcloser.fill.paf\n",
      "scaff_links_i10_gapFilled.noCorrection.tgs-gapcloser.gap_fill_detail\n",
      "scaff_links_i10_gapFilled.noCorrection.tgs-gapcloser.i2s.log\n",
      "scaff_links_i10_gapFilled.noCorrection.tgs-gapcloser.minimap2.04.log\n",
      "scaff_links_i10_gapFilled.noCorrection.tgs-gapcloser.ml10000.scaff_seqs\n",
      "scaff_links_i10_gapFilled.noCorrection.tgs-gapcloser.ml10000.scaff_seqs.fasta\n",
      "scaff_links_i10_gapFilled.noCorrection.tgs-gapcloser.name_map\n",
      "scaff_links_i10_gapFilled.noCorrection.tgs-gapcloser.orignial_scaff_infos\n",
      "scaff_links_i10_gapFilled.noCorrection.tgs-gapcloser_prinseq_bad_C2SP.fasta\n",
      "scaff_links_i10_gapFilled.noCorrection.tgs-gapcloser_prinseq_bad_N616.fasta\n",
      "scaff_links_i10_gapFilled.noCorrection.tgs-gapcloser_prinseq_bad_rj7B.fasta\n",
      "scaff_links_i10_gapFilled.noCorrection.tgs-gapcloser_prinseq_bad_vvEj.fasta\n",
      "scaff_links_i10_gapFilled.noCorrection.tgs-gapcloser.scaff_seqs.fa\n",
      "scaff_links_i10_gapFilled.noCorrection.tgs-gapcloser.scaff_seqs.nobacteria.fasta\n",
      "scaff_links_i10_gapFilled.noCorrection.tgs-gapcloser.scaff_seqs.nobacteria.ml10000.fasta\n",
      "scaff_links_i10_gapFilled.noCorrection.tgs-gapcloser.scaff_seqs.nobacteria.ml10000.fasta.amb\n",
      "scaff_links_i10_gapFilled.noCorrection.tgs-gapcloser.scaff_seqs.nobacteria.ml10000.fasta.ann\n",
      "scaff_links_i10_gapFilled.noCorrection.tgs-gapcloser.scaff_seqs.nobacteria.ml10000.fasta.bwt\n",
      "scaff_links_i10_gapFilled.noCorrection.tgs-gapcloser.scaff_seqs.nobacteria.ml10000.fasta.near_GATC.500.bed\n",
      "scaff_links_i10_gapFilled.noCorrection.tgs-gapcloser.scaff_seqs.nobacteria.ml10000.fasta.pac\n",
      "scaff_links_i10_gapFilled.noCorrection.tgs-gapcloser.scaff_seqs.nobacteria.ml10000.fasta.pos_of_GATC.txt\n",
      "scaff_links_i10_gapFilled.noCorrection.tgs-gapcloser.scaff_seqs.nobacteria.ml10000.fasta.sa\n",
      "scaff_links_i10_gapFilled.noCorrection.tgs-gapcloser.scaff_seqs.nobacteria.ml10000_renamedForBusco.fasta\n",
      "scaff_links_i10_gapFilled.noCorrection.tgs-gapcloser.scaff_seqs.nobacteria.ml5000.fasta\n",
      "scaff_links_i10_gapFilled.noCorrection.tgs-gapcloser.scaff_seqs.nobacteria.ml5000_renamedForBusco.fasta\n",
      "scaff_links_i10_gapFilled.noCorrection.tgs-gapcloser.scaff_seqs.nobacteria.ml8000.fasta\n",
      "scaff_links_i10_gapFilled.noCorrection.tgs-gapcloser.scaff_seqs.nobacteria.ml8000_renamedForBusco.fasta\n",
      "scaff_links_i10_gapFilled.noCorrection.tgs-gapcloser.scaff_seqs.nobacteria_renamedForBusco.fasta\n",
      "scaff_links_i10_gapFilled.noCorrection.tgs-gapcloser.seq_split.log\n",
      "scaff_links_i10_gapFilled.noCorrection.tgs-gapcloser.updated_scaff_infos\n",
      "scaff_links_i1_gapFilled.noCorrection.tgs-gapcloser.contig\n",
      "scaff_links_i1_gapFilled.noCorrection.tgs-gapcloser.fill.log\n",
      "scaff_links_i1_gapFilled.noCorrection.tgs-gapcloser.fill.paf\n",
      "scaff_links_i1_gapFilled.noCorrection.tgs-gapcloser.gap_fill_detail\n",
      "scaff_links_i1_gapFilled.noCorrection.tgs-gapcloser.i2s.log\n",
      "scaff_links_i1_gapFilled.noCorrection.tgs-gapcloser.minimap2.04.log\n",
      "scaff_links_i1_gapFilled.noCorrection.tgs-gapcloser.name_map\n",
      "scaff_links_i1_gapFilled.noCorrection.tgs-gapcloser.orignial_scaff_infos\n",
      "scaff_links_i1_gapFilled.noCorrection.tgs-gapcloser.scaff_seqs.fa\n",
      "scaff_links_i1_gapFilled.noCorrection.tgs-gapcloser.seq_split.log\n",
      "scaff_links_i1_gapFilled.noCorrection.tgs-gapcloser.updated_scaff_infos\n",
      "scaff_links_i4_gapFilled.noCorrection.tgs-gapcloser.contig\n",
      "scaff_links_i4_gapFilled.noCorrection.tgs-gapcloser.fill.log\n",
      "scaff_links_i4_gapFilled.noCorrection.tgs-gapcloser.fill.paf\n",
      "scaff_links_i4_gapFilled.noCorrection.tgs-gapcloser.gap_fill_detail\n",
      "scaff_links_i4_gapFilled.noCorrection.tgs-gapcloser.i2s.log\n",
      "scaff_links_i4_gapFilled.noCorrection.tgs-gapcloser.minimap2.04.log\n",
      "scaff_links_i4_gapFilled.noCorrection.tgs-gapcloser.name_map\n",
      "scaff_links_i4_gapFilled.noCorrection.tgs-gapcloser.orignial_scaff_infos\n",
      "scaff_links_i4_gapFilled.noCorrection.tgs-gapcloser.scaff_seqs.fa\n",
      "scaff_links_i4_gapFilled.noCorrection.tgs-gapcloser.seq_split.log\n",
      "scaff_links_i4_gapFilled.noCorrection.tgs-gapcloser.updated_scaff_infos\n",
      "scaff_links_i6_gapFilled.noCorrection.tgs-gapcloser.contig\n",
      "scaff_links_i6_gapFilled.noCorrection.tgs-gapcloser.fill.log\n",
      "scaff_links_i6_gapFilled.noCorrection.tgs-gapcloser.fill.paf\n",
      "scaff_links_i6_gapFilled.noCorrection.tgs-gapcloser.gap_fill_detail\n",
      "scaff_links_i6_gapFilled.noCorrection.tgs-gapcloser.i2s.log\n",
      "scaff_links_i6_gapFilled.noCorrection.tgs-gapcloser.minimap2.04.log\n",
      "scaff_links_i6_gapFilled.noCorrection.tgs-gapcloser.name_map\n",
      "scaff_links_i6_gapFilled.noCorrection.tgs-gapcloser.orignial_scaff_infos\n",
      "scaff_links_i6_gapFilled.noCorrection.tgs-gapcloser_prinseq_bad_rNVW.fasta\n",
      "scaff_links_i6_gapFilled.noCorrection.tgs-gapcloser.scaff_seqs.fa\n",
      "scaff_links_i6_gapFilled.noCorrection.tgs-gapcloser.scaff_seqs.nobacteria.fasta\n",
      "scaff_links_i6_gapFilled.noCorrection.tgs-gapcloser.scaff_seqs.nobacteria.fasta.near_GATC.500.bed\n",
      "scaff_links_i6_gapFilled.noCorrection.tgs-gapcloser.scaff_seqs.nobacteria.fasta.pos_of_GATC.txt\n",
      "scaff_links_i6_gapFilled.noCorrection.tgs-gapcloser.scaff_seqs.nobacteria.ml10000.fasta\n",
      "scaff_links_i6_gapFilled.noCorrection.tgs-gapcloser.scaff_seqs.nobacteria.ml10000.fasta.amb\n",
      "scaff_links_i6_gapFilled.noCorrection.tgs-gapcloser.scaff_seqs.nobacteria.ml10000.fasta.ann\n",
      "scaff_links_i6_gapFilled.noCorrection.tgs-gapcloser.scaff_seqs.nobacteria.ml10000.fasta.bwt\n",
      "scaff_links_i6_gapFilled.noCorrection.tgs-gapcloser.scaff_seqs.nobacteria.ml10000.fasta.pac\n",
      "scaff_links_i6_gapFilled.noCorrection.tgs-gapcloser.scaff_seqs.nobacteria.ml10000.fasta.sa\n",
      "scaff_links_i6_gapFilled.noCorrection.tgs-gapcloser.seq_split.log\n",
      "scaff_links_i6_gapFilled.noCorrection.tgs-gapcloser.updated_scaff_infos\n",
      "scaff_links_i8_gapFilled.corrected.tgs-gapcloser.0.0.pilon.log\n",
      "scaff_links_i8_gapFilled.corrected.tgs-gapcloser.bam\n",
      "scaff_links_i8_gapFilled.corrected.tgs-gapcloser.cand.log\n",
      "scaff_links_i8_gapFilled.corrected.tgs-gapcloser.contig\n",
      "scaff_links_i8_gapFilled.corrected.tgs-gapcloser.fiter.sam\n",
      "scaff_links_i8_gapFilled.corrected.tgs-gapcloser.minimap2.01.log\n",
      "scaff_links_i8_gapFilled.corrected.tgs-gapcloser.minimap2.02.0.0.log\n",
      "scaff_links_i8_gapFilled.corrected.tgs-gapcloser.minimap2.03.0.0.log\n",
      "scaff_links_i8_gapFilled.corrected.tgs-gapcloser.mmi\n",
      "scaff_links_i8_gapFilled.corrected.tgs-gapcloser.name_map\n",
      "scaff_links_i8_gapFilled.corrected.tgs-gapcloser.ont.0.0.fasta\n",
      "scaff_links_i8_gapFilled.corrected.tgs-gapcloser.ont.0.1.fasta\n",
      "scaff_links_i8_gapFilled.corrected.tgs-gapcloser.ont.0.2.fasta\n",
      "scaff_links_i8_gapFilled.corrected.tgs-gapcloser.ont.fasta\n",
      "scaff_links_i8_gapFilled.corrected.tgs-gapcloser.orignial_scaff_infos\n",
      "scaff_links_i8_gapFilled.corrected.tgs-gapcloser.pilon.0.0.err\n",
      "scaff_links_i8_gapFilled.corrected.tgs-gapcloser.sam\n",
      "scaff_links_i8_gapFilled.corrected.tgs-gapcloser.samtool_01.0.0.log\n",
      "scaff_links_i8_gapFilled.corrected.tgs-gapcloser.samtool_02.0.0.log\n",
      "scaff_links_i8_gapFilled.corrected.tgs-gapcloser.samtool_03.0.0.log\n",
      "scaff_links_i8_gapFilled.corrected.tgs-gapcloser.seq_split.log\n",
      "scaff_links_i8_gapFilled.corrected.tgs-gapcloser.sort.bam\n",
      "scaff_links_i8_gapFilled.corrected.tgs-gapcloser.sort.bam.bai\n",
      "scaff_links_i8_gapFilled.corrected.tgs-gapcloser.sub.paf\n",
      "scaff_links_i8_gapFilled.noCorrection.tgs-gapcloser_prinseq_bad_Fl5v.fasta\n",
      "scaff_links_i8_gapFilled.noCorrection.tgs-gapcloser.scaff_seqs.fa\n",
      "scaff_links_i8_gapFilled.noCorrection.tgs-gapcloser.scaff_seqs.nobacteria.fasta\n",
      "scaff_links_i8_gapFilled.noCorrection.tgs-gapcloser.scaff_seqs.nobacteria.fasta.near_GATC.500.bed\n",
      "scaff_links_i8_gapFilled.noCorrection.tgs-gapcloser.scaff_seqs.nobacteria.fasta.pos_of_GATC.txt\n",
      "scaff_links_i8_gapFilled.noCorrection.tgs-gapcloser.scaff_seqs.nobacteria.ml10000.fasta\n",
      "scaff_links_i8_gapFilled.noCorrection.tgs-gapcloser.scaff_seqs.nobacteria.ml10000.fasta.amb\n",
      "scaff_links_i8_gapFilled.noCorrection.tgs-gapcloser.scaff_seqs.nobacteria.ml10000.fasta.ann\n",
      "scaff_links_i8_gapFilled.noCorrection.tgs-gapcloser.scaff_seqs.nobacteria.ml10000.fasta.bwt\n",
      "scaff_links_i8_gapFilled.noCorrection.tgs-gapcloser.scaff_seqs.nobacteria.ml10000.fasta.pac\n",
      "scaff_links_i8_gapFilled.noCorrection.tgs-gapcloser.scaff_seqs.nobacteria.ml10000.fasta.sa\n",
      "scaff_links_i8_gapFilled.tgs-gapcloser.contig\n",
      "scaff_links_i8_gapFilled.tgs-gapcloser.fill.log\n",
      "scaff_links_i8_gapFilled.tgs-gapcloser.fill.paf\n",
      "scaff_links_i8_gapFilled.tgs-gapcloser.gap_fill_detail\n",
      "scaff_links_i8_gapFilled.tgs-gapcloser.i2s.log\n",
      "scaff_links_i8_gapFilled.tgs-gapcloser.minimap2.04.log\n",
      "scaff_links_i8_gapFilled.tgs-gapcloser.name_map\n",
      "scaff_links_i8_gapFilled.tgs-gapcloser.orignial_scaff_infos\n",
      "scaff_links_i8_gapFilled.tgs-gapcloser.seq_split.log\n",
      "scaff_links_i8_gapFilled.tgs-gapcloser.updated_scaff_infos\n",
      "scaffolds_links_i6_gapClosed.fasta\n",
      "scaffolds_links_i6_gapClosed.fasta.fai\n",
      "scaffolds_links_i6_gapClosed.fasta.fill\n",
      "scaffolds_links_i6_gapClosed.nobacteria.1.fasta\n",
      "scaffolds_links_i6_gapClosed.nobacteria.fasta\n",
      "scaffolds_links_i6_gapClosed.nobacteria.fasta.fai\n",
      "scaffolds_links_i6_gapClosed.nobacteria_renamedForBusco.fasta\n",
      "scaffolds_links_i6_gapClosed.noEmptySeqs.fasta\n",
      "scaffolds_links_i6_gapClosed.noEmptySeqs.nobacteria.fasta\n",
      "scaffolds_links_i6_gapClosed_renamedForBusco.fasta\n",
      "scaffolds_links_i8_gapClosed.fasta\n",
      "scaffolds_links_i8_gapClosed.fasta.fill\n",
      "scaffolds_slr_gapClosed.fasta\n",
      "scaffolds_slr_gapClosed.fasta.fill\n",
      "scaffolds_slr_gapClosed.nobacteria.fasta\n",
      "scaffolds_slr_gapClosed.nobacteria_renamedForBusco.fasta\n",
      "scaffolds_slr_gapClosed.noEmptySeqs.fasta\n",
      "scaffolds_slr_gapClosed.noEmptySeqs.nobacteria.fasta\n",
      "scaffolds_slr_gapClosed_renamedForBusco.fasta\n",
      "scaff_ragoo_gapfilled_noContamination.fasta\n",
      "scaff_ragoo_gapfilled_noContamination.fasta.amb\n",
      "scaff_ragoo_gapfilled_noContamination.fasta.ann\n",
      "scaff_ragoo_gapfilled_noContamination.fasta.bwt\n",
      "scaff_ragoo_gapfilled_noContamination.fasta.fai\n",
      "scaff_ragoo_gapfilled_noContamination.fasta.near_GATC.500.bed\n",
      "scaff_ragoo_gapfilled_noContamination.fasta.pac\n",
      "scaff_ragoo_gapfilled_noContamination.fasta.pos_of_GATC.txt\n",
      "scaff_ragoo_gapfilled_noContamination.fasta.sa\n",
      "scaff_ragoo_gapfilled_noContamination_len.txt\n",
      "scaff_ragoo_gapfilled_noContamination.ml10000.fasta\n",
      "scaff_ragoo_gapfilled_noContamination.ml10000.fasta.agp\n",
      "scaff_ragoo_gapfilled_noContamination.ml10000.fasta.fai\n",
      "scaff_ragoo_gapfilled_noContamination_prinseq_bad__AHd.fasta\n",
      "scaff_ragoo_gapFilled.noCorrection.tgs-gapcloser.contig\n",
      "scaff_ragoo_gapFilled.noCorrection.tgs-gapcloser.fill.log\n",
      "scaff_ragoo_gapFilled.noCorrection.tgs-gapcloser.fill.paf\n",
      "scaff_ragoo_gapFilled.noCorrection.tgs-gapcloser.gap_fill_detail\n",
      "scaff_ragoo_gapFilled.noCorrection.tgs-gapcloser.i2s.log\n",
      "scaff_ragoo_gapFilled.noCorrection.tgs-gapcloser.minimap2.04.log\n",
      "scaff_ragoo_gapFilled.noCorrection.tgs-gapcloser.name_map\n",
      "scaff_ragoo_gapFilled.noCorrection.tgs-gapcloser.orignial_scaff_infos\n",
      "scaff_ragoo_gapFilled.noCorrection.tgs-gapcloser.seq_split.log\n",
      "scaff_ragoo_gapFilled.noCorrection.tgs-gapcloser.updated_scaff_infos\n",
      "scaff_slr_gapFilled.noCorrection.tgs-gapcloser.contig\n",
      "scaff_slr_gapFilled.noCorrection.tgs-gapcloser.fill.log\n",
      "scaff_slr_gapFilled.noCorrection.tgs-gapcloser.fill.paf\n",
      "scaff_slr_gapFilled.noCorrection.tgs-gapcloser.gap_fill_detail\n",
      "scaff_slr_gapFilled.noCorrection.tgs-gapcloser.i2s.log\n",
      "scaff_slr_gapFilled.noCorrection.tgs-gapcloser.minimap2.04.log\n",
      "scaff_slr_gapFilled.noCorrection.tgs-gapcloser.name_map\n",
      "scaff_slr_gapFilled.noCorrection.tgs-gapcloser.orignial_scaff_infos\n",
      "scaff_slr_gapFilled.noCorrection.tgs-gapcloser.scaff_seqs\n",
      "scaff_slr_gapFilled.noCorrection.tgs-gapcloser.seq_split.log\n",
      "scaff_slr_gapFilled.noCorrection.tgs-gapcloser.updated_scaff_infos\n",
      "soap.config\n",
      "tgs-gapcloser_links_i10.err\n",
      "tgs-gapcloser_links_i10_noCorrection.err\n",
      "tgs-gapcloser_links_i10_noCorrection.out\n",
      "tgs-gapcloser_links_i10.out\n",
      "tgs-gapcloser_links_i1_noCorrection.err\n",
      "tgs-gapcloser_links_i1_noCorrection.out\n",
      "tgs-gapcloser_links_i4_noCorrection.err\n",
      "tgs-gapcloser_links_i4_noCorrection.out\n",
      "tgs-gapcloser_links_i6_noCorrection.err\n",
      "tgs-gapcloser_links_i6_noCorrection.out\n",
      "tgs-gapcloser_ragoo_noCorrection.err\n",
      "tgs-gapcloser_ragoo_noCorrection.out\n",
      "tgs-gapcloser_slr_noCorrection.err\n",
      "tgs-gapcloser_slr_noCorrection.out\n",
      "tgs-gapcloser_test.err\n",
      "tgs-gapcloser_test.out\n"
     ]
    }
   ],
   "source": [
    "ls $GenomeDir"
   ]
  },
  {
   "cell_type": "code",
   "execution_count": 51,
   "metadata": {},
   "outputs": [],
   "source": [
    "module load assemblathon_stats"
   ]
  },
  {
   "cell_type": "code",
   "execution_count": 52,
   "metadata": {},
   "outputs": [
    {
     "name": "stdout",
     "output_type": "stream",
     "text": [
      "Use of qw(...) as parentheses is deprecated at /software/bioinformatics/assemblathon_stats-2011_10_13/assemblathon_stats.pl line 283.\n",
      "Use of qw(...) as parentheses is deprecated at /software/bioinformatics/assemblathon_stats-2011_10_13/assemblathon_stats.pl line 408.\n",
      "\n",
      "---------------- Information for assembly '/powerplant/workspace/hraczw/github/GA/Gillenia_genome/015.salsa2/salsa2/Gillenia_ragoo.Scaffolds/scaffolds_FINAL.fasta' ----------------\n",
      "\n",
      "\n",
      "                                         Number of scaffolds        669\n",
      "                                     Total size of scaffolds  292351713\n",
      "                                            Longest scaffold   17261300\n",
      "                                           Shortest scaffold      10094\n",
      "                                 Number of scaffolds > 1K nt        669 100.0%\n",
      "                                Number of scaffolds > 10K nt        669 100.0%\n",
      "                               Number of scaffolds > 100K nt        276  41.3%\n",
      "                                 Number of scaffolds > 1M nt         73  10.9%\n",
      "                                Number of scaffolds > 10M nt          2   0.3%\n",
      "                                          Mean scaffold size     436998\n",
      "                                        Median scaffold size      60108\n",
      "                                         N50 scaffold length    1711439\n",
      "                                          L50 scaffold count         38\n",
      "                                                 scaffold %A      30.82\n",
      "                                                 scaffold %C      19.07\n",
      "                                                 scaffold %G      19.07\n",
      "                                                 scaffold %T      30.85\n",
      "                                                 scaffold %N       0.19\n",
      "                                         scaffold %non-ACGTN       0.00\n",
      "                             Number of scaffold non-ACGTN nt          0\n",
      "\n",
      "                Percentage of assembly in scaffolded contigs      84.4%\n",
      "              Percentage of assembly in unscaffolded contigs      15.6%\n",
      "                      Average number of contigs per scaffold        2.7\n",
      "Average length of break (>25 Ns) between contigs in scaffold        469\n",
      "\n",
      "                                           Number of contigs       1826\n",
      "                              Number of contigs in scaffolds       1484\n",
      "                          Number of contigs not in scaffolds        342\n",
      "                                       Total size of contigs  291807313\n",
      "                                              Longest contig    7412155\n",
      "                                             Shortest contig          0\n",
      "                                   Number of contigs > 1K nt       1771  97.0%\n",
      "                                  Number of contigs > 10K nt       1239  67.9%\n",
      "                                 Number of contigs > 100K nt        435  23.8%\n",
      "                                   Number of contigs > 1M nt         71   3.9%\n",
      "                                  Number of contigs > 10M nt          0   0.0%\n",
      "                                            Mean contig size     159807\n",
      "                                          Median contig size      21678\n",
      "                                           N50 contig length     815661\n",
      "                                            L50 contig count         99\n",
      "                                                   contig %A      30.88\n",
      "                                                   contig %C      19.10\n",
      "                                                   contig %G      19.11\n",
      "                                                   contig %T      30.91\n",
      "                                                   contig %N       0.00\n",
      "                                           contig %non-ACGTN       0.00\n",
      "                               Number of contig non-ACGTN nt          0\n"
     ]
    }
   ],
   "source": [
    "# salsa2 assembly without recommended mapping pipeline\n",
    "assemblathon_stats.pl $workDir/salsa2/Gillenia_ragoo.Scaffolds/scaffolds_FINAL.fasta"
   ]
  },
  {
   "cell_type": "code",
   "execution_count": 53,
   "metadata": {},
   "outputs": [
    {
     "name": "stdout",
     "output_type": "stream",
     "text": [
      "Use of qw(...) as parentheses is deprecated at /software/bioinformatics/assemblathon_stats-2011_10_13/assemblathon_stats.pl line 283.\n",
      "Use of qw(...) as parentheses is deprecated at /software/bioinformatics/assemblathon_stats-2011_10_13/assemblathon_stats.pl line 408.\n",
      "\n",
      "---------------- Information for assembly '/workspace/hraczw/github/GA/Gillenia_genome/005.GapFilling/scaff_ragoo_gapfilled_noContamination.ml10000.fasta' ----------------\n",
      "\n",
      "\n",
      "                                         Number of scaffolds        678\n",
      "                                     Total size of scaffolds  292336213\n",
      "                                            Longest scaffold   17261300\n",
      "                                           Shortest scaffold      10017\n",
      "                                 Number of scaffolds > 1K nt        678 100.0%\n",
      "                                Number of scaffolds > 10K nt        678 100.0%\n",
      "                               Number of scaffolds > 100K nt        259  38.2%\n",
      "                                 Number of scaffolds > 1M nt         78  11.5%\n",
      "                                Number of scaffolds > 10M nt          2   0.3%\n",
      "                                          Mean scaffold size     431174\n",
      "                                        Median scaffold size      54325\n",
      "                                         N50 scaffold length    1871451\n",
      "                                          L50 scaffold count         36\n",
      "                                                 scaffold %A      30.82\n",
      "                                                 scaffold %C      19.07\n",
      "                                                 scaffold %G      19.08\n",
      "                                                 scaffold %T      30.85\n",
      "                                                 scaffold %N       0.18\n",
      "                                         scaffold %non-ACGTN       0.00\n",
      "                             Number of scaffold non-ACGTN nt          0\n",
      "\n",
      "                Percentage of assembly in scaffolded contigs      84.1%\n",
      "              Percentage of assembly in unscaffolded contigs      15.9%\n",
      "                      Average number of contigs per scaffold        2.7\n",
      "Average length of break (>25 Ns) between contigs in scaffold        468\n",
      "\n",
      "                                           Number of contigs       1804\n",
      "                              Number of contigs in scaffolds       1427\n",
      "                          Number of contigs not in scaffolds        377\n",
      "                                       Total size of contigs  291807313\n",
      "                                              Longest contig    7412155\n",
      "                                             Shortest contig         48\n",
      "                                   Number of contigs > 1K nt       1751  97.1%\n",
      "                                  Number of contigs > 10K nt       1223  67.8%\n",
      "                                 Number of contigs > 100K nt        435  24.1%\n",
      "                                   Number of contigs > 1M nt         72   4.0%\n",
      "                                  Number of contigs > 10M nt          0   0.0%\n",
      "                                            Mean contig size     161756\n",
      "                                          Median contig size      21676\n",
      "                                           N50 contig length     823255\n",
      "                                            L50 contig count         99\n",
      "                                                   contig %A      30.88\n",
      "                                                   contig %C      19.10\n",
      "                                                   contig %G      19.11\n",
      "                                                   contig %T      30.91\n",
      "                                                   contig %N       0.00\n",
      "                                           contig %non-ACGTN       0.00\n",
      "                               Number of contig non-ACGTN nt          0\n"
     ]
    }
   ],
   "source": [
    "# salsa2 assembly stats\n",
    "assemblathon_stats.pl $GenomeDir/$genome"
   ]
  }
 ],
 "metadata": {
  "kernelspec": {
   "display_name": "Bash",
   "language": "bash",
   "name": "bash"
  },
  "language_info": {
   "codemirror_mode": "shell",
   "file_extension": ".sh",
   "mimetype": "text/x-sh",
   "name": "bash"
  }
 },
 "nbformat": 4,
 "nbformat_minor": 4
}
