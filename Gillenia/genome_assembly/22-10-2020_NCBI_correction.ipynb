{
 "cells": [
  {
   "cell_type": "markdown",
   "metadata": {},
   "source": [
    "# NCBI contamination correction\n",
    "\n",
    "```\n",
    "Trim:\n",
    "Sequence name, length, span(s), apparent source\n",
    "Chr05\t29393857\t25456731..25456751\tadaptor:NGB01088.1\n",
    "\n",
    "\n",
    "Duplicated:\n",
    "Sequence names, length\n",
    "lcl|S4.1.40417_RaGOO lcl|S4.1.39528_RaGOO (4910 bp)\n",
    "lcl|S4.1.35072_RaGOO lcl|S4.1.34484_RaGOO (2768 bp)\n",
    "lcl|S4.1.44870_RaGOO lcl|S4.1.38673_RaGOO (3520 bp)\n",
    "lcl|S4.1.37298_RaGOO lcl|S4.1.32419_RaGOO (2924 bp)\n",
    "lcl|S4.1.46122_RaGOO lcl|S4.1.46092_RaGOO (2325 bp)\n",
    "lcl|S4.1.29250_RaGOO lcl|S4.1.29249_RaGOO (2940 bp)\n",
    "lcl|S4.1.421_RaGOO lcl|S4.1.419_RaGOO (78105 bp)\n",
    "lcl|S4.1.38774_RaGOO lcl|S4.1.38773_RaGOO (6054 bp)\n",
    "lcl|S4.1.39668_RaGOO lcl|S4.1.38571_RaGOO (6151 bp)\n",
    "lcl|S4.1.36404_RaGOO lcl|S4.1.32300_RaGOO (6626 bp)\n",
    "lcl|S4.1.32277_RaGOO lcl|S4.1.30506_RaGOO (2787 bp)\n",
    "lcl|S4.1.44355_RaGOO lcl|S4.1.44325_RaGOO (5984 bp)\n",
    "lcl|S4.1.46265_RaGOO lcl|S4.1.46227_RaGOO (2007 bp)\n",
    "lcl|S4.1.42564_RaGOO lcl|S4.1.39890_RaGOO (4529 bp)\n",
    "lcl|S4.1.31887_RaGOO lcl|S4.1.29060_RaGOO (2165 bp)\n",
    "lcl|S4.1.36940_RaGOO lcl|S4.1.32832_RaGOO (2953 bp)\n",
    "lcl|S4.1.41741_RaGOO lcl|S4.1.41536_RaGOO (4308 bp)\n",
    "lcl|S4.1.46797_RaGOO lcl|S4.1.46663_RaGOO (6784 bp)\n",
    "lcl|S4.1.47122_RaGOO lcl|S4.1.40736_RaGOO (4323 bp)\n",
    "lcl|S4.1.41791_RaGOO lcl|S4.1.33656_RaGOO (3837 bp)\n",
    "lcl|S4.1.46478_RaGOO lcl|S4.1.31931_RaGOO (5237 bp)\n",
    "lcl|S4.1.43435_RaGOO lcl|S4.1.40176_RaGOO (6071 bp)\n",
    "lcl|S4.1.47513_RaGOO lcl|S4.1.47506_RaGOO (4369 bp)\n",
    "lcl|S4.1.44010_RaGOO lcl|S4.1.39482_RaGOO (2046 bp)\n",
    "lcl|S4.1.37610_RaGOO lcl|S4.1.36704_RaGOO (4497 bp)\n",
    "lcl|S4.1.32621_RaGOO lcl|S4.1.31637_RaGOO (5508 bp)\n",
    "lcl|S4.1.35571_RaGOO lcl|S4.1.27618_RaGOO (3937 bp)\n",
    "lcl|S4.1.45542_RaGOO lcl|S4.1.45471_RaGOO (4529 bp)\n",
    "lcl|S4.1.29253_RaGOO lcl|S4.1.29252_RaGOO (2828 bp)\n",
    "```"
   ]
  },
  {
   "cell_type": "code",
   "execution_count": 1,
   "metadata": {},
   "outputs": [],
   "source": [
    "mkdir 017.NCBI_correction"
   ]
  },
  {
   "cell_type": "code",
   "execution_count": 2,
   "metadata": {},
   "outputs": [],
   "source": [
    "cp /output/genomic/plant/Gillenia/trifoliata/Assembly/gillenia_genome_v1.UnanchoredSeparated.fasta \\\n",
    "017.NCBI_correction"
   ]
  },
  {
   "cell_type": "code",
   "execution_count": 3,
   "metadata": {},
   "outputs": [],
   "source": [
    "cd 017.NCBI_correction"
   ]
  },
  {
   "cell_type": "code",
   "execution_count": 4,
   "metadata": {},
   "outputs": [
    {
     "name": "stdout",
     "output_type": "stream",
     "text": [
      "gillenia_genome_v1.UnanchoredSeparated.fasta\n"
     ]
    }
   ],
   "source": [
    "ls"
   ]
  },
  {
   "cell_type": "code",
   "execution_count": 5,
   "metadata": {},
   "outputs": [
    {
     "name": "stdout",
     "output_type": "stream",
     "text": [
      "Currently Loaded Modulefiles:\n",
      "  1) powerPlant/core    4) git/2.21.0         7) asub/2.1\n",
      "  2) texlive/20151117   5) perlbrew/0.76      8) bedtools/2.27.1\n",
      "  3) pandoc/1.19.2      6) perl/5.28.0\n"
     ]
    }
   ],
   "source": [
    "module load bedtools\n",
    "module list"
   ]
  },
  {
   "cell_type": "code",
   "execution_count": 6,
   "metadata": {},
   "outputs": [],
   "source": [
    "bedtools maskfasta -mc E -fi gillenia_genome_v1.UnanchoredSeparated.fasta -bed trim.bed -fo masked.fasta"
   ]
  },
  {
   "cell_type": "code",
   "execution_count": 7,
   "metadata": {},
   "outputs": [],
   "source": [
    "sed -i -e 's/E//g' masked.fasta"
   ]
  },
  {
   "cell_type": "code",
   "execution_count": 8,
   "metadata": {},
   "outputs": [
    {
     "name": "stdout",
     "output_type": "stream",
     "text": [
      "Currently Loaded Modulefiles:\n",
      "  1) powerPlant/core      4) git/2.21.0           7) asub/2.1\n",
      "  2) texlive/20151117     5) perlbrew/0.76        8) bedtools/2.27.1\n",
      "  3) pandoc/1.19.2        6) perl/5.28.0          9) genometools/1.5.10\n"
     ]
    }
   ],
   "source": [
    "module load genometools\n",
    "module list"
   ]
  },
  {
   "cell_type": "code",
   "execution_count": null,
   "metadata": {},
   "outputs": [],
   "source": [
    "gt sequniq -rev -o gillenia_genome_v1.NCBI.fasta masked.fasta"
   ]
  }
 ],
 "metadata": {
  "kernelspec": {
   "display_name": "Bash",
   "language": "bash",
   "name": "bash"
  },
  "language_info": {
   "codemirror_mode": "shell",
   "file_extension": ".sh",
   "mimetype": "text/x-sh",
   "name": "bash"
  }
 },
 "nbformat": 4,
 "nbformat_minor": 4
}
