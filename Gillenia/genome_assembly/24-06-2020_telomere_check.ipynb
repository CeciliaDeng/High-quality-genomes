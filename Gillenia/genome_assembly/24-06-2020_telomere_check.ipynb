{
 "cells": [
  {
   "cell_type": "markdown",
   "metadata": {},
   "source": [
    "# check telomere sequences from both scaffolds and chromosomes"
   ]
  },
  {
   "cell_type": "markdown",
   "metadata": {},
   "source": [
    "## 1. trying Noise-cancelling repeat finder"
   ]
  },
  {
   "cell_type": "code",
   "execution_count": 1,
   "metadata": {},
   "outputs": [],
   "source": [
    "WORKDIR=007.TelomereCheck"
   ]
  },
  {
   "cell_type": "code",
   "execution_count": 2,
   "metadata": {},
   "outputs": [],
   "source": [
    "export PATH=/workspace/hraczw/github/programs/NoiseCancellingRepeatFinder/:$PATH"
   ]
  },
  {
   "cell_type": "code",
   "execution_count": 3,
   "metadata": {},
   "outputs": [
    {
     "name": "stdout",
     "output_type": "stream",
     "text": [
      "NCRF-- Noise Cancelling Repeat Finder, to find tandem repeats in noisy reads\n",
      "  (version 1.01.00 20190426)\n",
      "usage: cat <fasta> | NCRF [options]\n",
      "\n",
      "  <fasta>               fasta file containing sequences; read from stdin\n",
      "  [<name>:]<motif>      dna repeat motif to search for\n",
      "                        (there can be more than one motif)\n",
      "  --minmratio=<ratio>   discard alignments with a low frequency of matches;\n",
      "                        ratio can be between 0 and 1 (e.g. \"0.85\"), or can be\n",
      "                        expressed as a percentage (e.g. \"85%\")\n",
      "  --maxnoise=<ratio>    (same as --minmratio but with 1-ratio)\n",
      "  --minlength=<bp>      discard alignments that don't have long enough repeat\n",
      "                        (default is 500)\n",
      "  --minscore=<score>    discard alignments that don't score high enough\n",
      "                        (default is zero)\n",
      "  --stats=events        show match/mismatch/insert/delete counts\n",
      "  --positionalevents    show match/mismatch/insert/delete counts by motif\n",
      "                        position (independent of --stats=events); this may be\n",
      "                        useful for detecting error non-uniformity, to separate\n",
      "                        perfect repeats from imperfect\n",
      "  --help=scoring        show options relating to alignment scoring\n",
      "  --help=allocation     show options relating to memory allocation\n",
      "  --help=other          show other, less frequently used options\n",
      "\n",
      "  The output is usually passed through a series of the ncrf_* post-processing\n",
      "  scripts.\n"
     ]
    }
   ],
   "source": [
    "NCRF -h"
   ]
  },
  {
   "cell_type": "code",
   "execution_count": 4,
   "metadata": {},
   "outputs": [
    {
     "name": "stdout",
     "output_type": "stream",
     "text": [
      "/workspace/hraczw/github/GA/Gillenia_genome/005.GapFilling/scaffolds_links_i6_gapClosed.nobacteria.fasta\n",
      "/workspace/hraczw/github/GA/Gillenia_genome/100.assemblies/Flye_all_i1.assembly.ml1000.fasta"
     ]
    }
   ],
   "source": [
    "cat $WORKDIR/ContigFiles.txt"
   ]
  },
  {
   "cell_type": "code",
   "execution_count": 5,
   "metadata": {},
   "outputs": [
    {
     "name": "stdout",
     "output_type": "stream",
     "text": [
      "Job <403454> is submitted to default queue <lowpriority>.\n"
     ]
    }
   ],
   "source": [
    "python << EOF\n",
    "\n",
    "import sys, os\n",
    "\n",
    "filename = '$WORKDIR/ContigFiles.txt'\n",
    "f = open(filename,'r')\n",
    "\n",
    "for line in f:\n",
    "    sampleName = line.split('/')[-1].split('.fa')[0]\n",
    "    fileName = line.split('\\n')[0]\n",
    "\n",
    "    os.system('bsub -J telo \\\n",
    "               -o $WORKDIR/' + sampleName + '.out \\\n",
    "               -e $WORKDIR/' + sampleName + '.err \\\n",
    "               \"cat ' + fileName + ' | \\\n",
    "                NCRF TTTAGGG --minmratio=0.8 --minlength=100 --stats=events --positionalevents | \\\n",
    "                ncrf_consensus_filter.py | \\\n",
    "                ncrf_sort.py --sortby=length | \\\n",
    "                ncrf_summary.py \\\n",
    "                > $WORKDIR/' + sampleName + '_TTTAGGG.ml100.id80.ncrf\"')\n",
    "\n",
    "f.close()\n",
    "\n",
    "EOF"
   ]
  }
 ],
 "metadata": {
  "kernelspec": {
   "display_name": "Bash",
   "language": "bash",
   "name": "bash"
  },
  "language_info": {
   "codemirror_mode": "shell",
   "file_extension": ".sh",
   "mimetype": "text/x-sh",
   "name": "bash"
  }
 },
 "nbformat": 4,
 "nbformat_minor": 4
}
