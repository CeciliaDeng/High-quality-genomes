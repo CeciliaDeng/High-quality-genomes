{
 "cells": [
  {
   "cell_type": "markdown",
   "metadata": {},
   "source": [
    "# Final assembly construction according to contact map"
   ]
  },
  {
   "cell_type": "markdown",
   "metadata": {},
   "source": [
    "## 1. generate fasta file"
   ]
  },
  {
   "cell_type": "code",
   "execution_count": 8,
   "metadata": {},
   "outputs": [],
   "source": [
    "cd /workspace/hraczw/github/GA/Gillenia_genome/014.chr/official_chrs_revcomp"
   ]
  },
  {
   "cell_type": "code",
   "execution_count": 2,
   "metadata": {},
   "outputs": [
    {
     "name": "stdout",
     "output_type": "stream",
     "text": [
      "Chr1.txt  Chr3.txt  Chr5.txt  Chr7.txt\tChr9.txt\n",
      "Chr2.txt  Chr4.txt  Chr6.txt  Chr8.txt\n"
     ]
    }
   ],
   "source": [
    "ls"
   ]
  },
  {
   "cell_type": "code",
   "execution_count": 14,
   "metadata": {},
   "outputs": [],
   "source": [
    "python << EOF\n",
    "\n",
    "index = 0\n",
    "\n",
    "while index < 9:\n",
    "\n",
    "    f = open('Chr' + str(index + 1) + '.txt','r')\n",
    "    f1 = open('group' + str(index) + '.ordering','w')\n",
    "\n",
    "    for line in f:\n",
    "        item = line.strip()\n",
    "        strand = item[0]\n",
    "        id = item.split(strand)[1]\n",
    "        if strand == '+':\n",
    "            f1.write(id + '\\t1\\t.\\t.\\n')\n",
    "        else:\n",
    "            f1.write(id + '\\t0\\t.\\t.\\n')\n",
    "\n",
    "    f.close()\n",
    "    f1.close()\n",
    "\n",
    "    index = index + 1\n",
    "\n",
    "\n",
    "EOF"
   ]
  },
  {
   "cell_type": "code",
   "execution_count": 15,
   "metadata": {},
   "outputs": [
    {
     "name": "stdout",
     "output_type": "stream",
     "text": [
      "total 840\n",
      "-rw-rw-r--. 1 hraczw powerplant   394 Sep  9 10:25 Chr1.txt\n",
      "-rw-rw-r--. 1 hraczw powerplant   670 Sep  9 10:25 Chr2.txt\n",
      "-rw-rw-r--. 1 hraczw powerplant   533 Sep  9 10:25 Chr3.txt\n",
      "-rw-rw-r--. 1 hraczw powerplant   537 Sep  9 10:25 Chr4.txt\n",
      "-rw-rw-r--. 1 hraczw powerplant   712 Sep  9 10:25 Chr5.txt\n",
      "-rw-rw-r--. 1 hraczw powerplant   243 Sep  9 10:26 Chr6.txt\n",
      "-rw-rw-r--. 1 hraczw powerplant   598 Sep  9 10:26 Chr7.txt\n",
      "-rw-rw-r--. 1 hraczw powerplant   353 Sep  9 10:26 Chr8.txt\n",
      "-rw-rw-r--. 1 hraczw powerplant   312 Sep  9 10:26 Chr9.txt\n",
      "-rw-rw-r--. 1 hraczw powerplant  7100 Sep  9 10:19 CreateScaffoldedFasta.pl\n",
      "-rw-rw-r--. 1 hraczw powerplant     0 Sep  9 10:23 gillenia_9chrs_official.fasta\n",
      "-rw-rw-r--. 1 hraczw powerplant   504 Sep  9 10:27 group0.ordering\n",
      "-rw-rw-r--. 1 hraczw powerplant   850 Sep  9 10:27 group1.ordering\n",
      "-rw-rw-r--. 1 hraczw powerplant   678 Sep  9 10:27 group2.ordering\n",
      "-rw-rw-r--. 1 hraczw powerplant   687 Sep  9 10:27 group3.ordering\n",
      "-rw-rw-r--. 1 hraczw powerplant   907 Sep  9 10:27 group4.ordering\n",
      "-rw-rw-r--. 1 hraczw powerplant   308 Sep  9 10:27 group5.ordering\n",
      "-rw-rw-r--. 1 hraczw powerplant   763 Sep  9 10:27 group6.ordering\n",
      "-rw-rw-r--. 1 hraczw powerplant   448 Sep  9 10:27 group7.ordering\n",
      "-rw-rw-r--. 1 hraczw powerplant   397 Sep  9 10:27 group8.ordering\n",
      "lrwxrwxrwx. 1 hraczw powerplant   117 Sep  9 10:20 scaff_ragoo_gapfilled_noContamination.revcomp.rename.fasta -> /workspace/hraczw/github/GA/Gillenia_genome/005.GapFilling/scaff_ragoo_gapfilled_noContamination.revcomp.rename.fasta\n",
      "-rw-rw-r--. 1 hraczw powerplant 22265 Sep  9 10:19 unanchoredIDs.txt\n"
     ]
    }
   ],
   "source": [
    "ll"
   ]
  },
  {
   "cell_type": "code",
   "execution_count": 7,
   "metadata": {},
   "outputs": [],
   "source": [
    "ln -s /workspace/hraczw/github/GA/Gillenia_genome/005.GapFilling/scaff_ragoo_gapfilled_noContamination.revcomp.rename.fasta"
   ]
  },
  {
   "cell_type": "code",
   "execution_count": 16,
   "metadata": {},
   "outputs": [
    {
     "name": "stdout",
     "output_type": "stream",
     "text": [
      "Wed Sep  9 10:27:31 2020: CreateScaffoldedFasta.pl with input fasta = scaff_ragoo_gapfilled_noContamination.revcomp.rename.fasta, OUTPUT_DIR = /workspace/hraczw/github/GA/Gillenia_genome/014.chr/official_chrs_revcomp\n",
      "Wed Sep  9 10:27:31 2020: Found 9 ordering files ('group*.ordering' in /workspace/hraczw/github/GA/Gillenia_genome/014.chr/official_chrs_revcomp/).\n",
      "Wed Sep  9 10:27:31 2020: Reading in sequences from assembly file scaff_ragoo_gapfilled_noContamination.revcomp.rename.fasta\n",
      "Wed Sep  9 10:27:33 2020: Found 1524 contigs/scaffolds in assembly.\n",
      "Wed Sep  9 10:27:33 2020: Creating a scaffold from file /workspace/hraczw/github/GA/Gillenia_genome/014.chr/official_chrs_revcomp/group0.ordering...\tlength = 46305054\n",
      "Wed Sep  9 10:27:34 2020: Creating a scaffold from file /workspace/hraczw/github/GA/Gillenia_genome/014.chr/official_chrs_revcomp/group1.ordering...\tlength = 32680979\n",
      "Wed Sep  9 10:27:34 2020: Creating a scaffold from file /workspace/hraczw/github/GA/Gillenia_genome/014.chr/official_chrs_revcomp/group2.ordering...\tlength = 27719576\n",
      "Wed Sep  9 10:27:34 2020: Creating a scaffold from file /workspace/hraczw/github/GA/Gillenia_genome/014.chr/official_chrs_revcomp/group3.ordering...\tlength = 33455105\n",
      "Wed Sep  9 10:27:34 2020: Creating a scaffold from file /workspace/hraczw/github/GA/Gillenia_genome/014.chr/official_chrs_revcomp/group4.ordering...\tlength = 29393857\n",
      "Wed Sep  9 10:27:35 2020: Creating a scaffold from file /workspace/hraczw/github/GA/Gillenia_genome/014.chr/official_chrs_revcomp/group5.ordering...\tlength = 26610424\n",
      "Wed Sep  9 10:27:35 2020: Creating a scaffold from file /workspace/hraczw/github/GA/Gillenia_genome/014.chr/official_chrs_revcomp/group6.ordering...\tlength = 30586256\n",
      "Wed Sep  9 10:27:35 2020: Creating a scaffold from file /workspace/hraczw/github/GA/Gillenia_genome/014.chr/official_chrs_revcomp/group7.ordering...\tlength = 23036381\n",
      "Wed Sep  9 10:27:35 2020: Creating a scaffold from file /workspace/hraczw/github/GA/Gillenia_genome/014.chr/official_chrs_revcomp/group8.ordering...\tlength = 22301293\n",
      "Wed Sep  9 10:27:37 2020: Done!\n"
     ]
    }
   ],
   "source": [
    "perl CreateScaffoldedFasta.pl scaff_ragoo_gapfilled_noContamination.revcomp.rename.fasta \\\n",
    "/workspace/hraczw/github/GA/Gillenia_genome/014.chr/official_chrs_revcomp \\\n",
    "/workspace/hraczw/github/GA/Gillenia_genome/014.chr/official_chrs_revcomp \\\n",
    "gillenia_9chrs_official.fasta"
   ]
  },
  {
   "cell_type": "code",
   "execution_count": 17,
   "metadata": {},
   "outputs": [
    {
     "name": "stdout",
     "output_type": "stream",
     "text": [
      "Chr1.txt\n",
      "Chr2.txt\n",
      "Chr3.txt\n",
      "Chr4.txt\n",
      "Chr5.txt\n",
      "Chr6.txt\n",
      "Chr7.txt\n",
      "Chr8.txt\n",
      "Chr9.txt\n",
      "CreateScaffoldedFasta.pl\n",
      "gillenia_9chrs_official.fasta\n",
      "group0.ordering\n",
      "group1.ordering\n",
      "group2.ordering\n",
      "group3.ordering\n",
      "group4.ordering\n",
      "group5.ordering\n",
      "group6.ordering\n",
      "group7.ordering\n",
      "group8.ordering\n",
      "scaff_ragoo_gapfilled_noContamination.revcomp.rename.fasta\n",
      "unanchoredIDs.txt\n"
     ]
    }
   ],
   "source": [
    "ls "
   ]
  },
  {
   "cell_type": "markdown",
   "metadata": {},
   "source": [
    "## 2. BUSCO"
   ]
  },
  {
   "cell_type": "code",
   "execution_count": 18,
   "metadata": {},
   "outputs": [],
   "source": [
    "source /workspace/hraczw/scriptomics/AssemblyBuscoStatsModules.sh"
   ]
  },
  {
   "cell_type": "code",
   "execution_count": null,
   "metadata": {},
   "outputs": [],
   "source": [
    "bsub -J BUSCO -n 10 -m aklppb38 -o busco.out -e busco.err \"run_BUSCO.py -i gillenia_9chrs_official.fasta -l /workspace/hraczw/scriptomics/BUSCO/embryophyta_odb10 -f -c 10 -o gillenia_9chr_BUSCO -t gillenia_9chr_tmp -m genome\""
   ]
  },
  {
   "cell_type": "markdown",
   "metadata": {},
   "source": [
    "## 4. renaming IDs"
   ]
  },
  {
   "cell_type": "code",
   "execution_count": 4,
   "metadata": {},
   "outputs": [],
   "source": [
    "CHR=/workspace/hraczw/github/GA/Gillenia_genome/014.chr/official_chrs_revcomp/gillenia_9chrs_official.fasta"
   ]
  },
  {
   "cell_type": "code",
   "execution_count": 5,
   "metadata": {},
   "outputs": [
    {
     "name": "stdout",
     "output_type": "stream",
     "text": [
      ">group0__22_contigs__length_46305054\n",
      ">group1__36_contigs__length_32680979\n",
      ">group2__29_contigs__length_27719576\n",
      ">group3__30_contigs__length_33455105\n",
      ">group4__39_contigs__length_29393857\n",
      ">group5__13_contigs__length_26610424\n",
      ">group6__33_contigs__length_30586256\n",
      ">group7__19_contigs__length_23036381\n",
      ">group8__17_contigs__length_22301293\n"
     ]
    }
   ],
   "source": [
    "grep \">\" $CHR"
   ]
  },
  {
   "cell_type": "code",
   "execution_count": null,
   "metadata": {},
   "outputs": [],
   "source": [
    "python << EOF\n",
    "\n",
    "f = open('gillenia_9chrs_official.fasta','r')\n",
    "f1 = open('gillenia_9chrs_official.renamed.fasta','w')\n",
    "\n",
    "index = 1\n",
    "for line in f:\n",
    "\tif '>' in line:\n",
    "\t\tf1.write('>Chr0' + str(index) + '\\n')\n",
    "\t\tindex = index + 1\n",
    "\telse:\n",
    "\t\tf1.write(line)\n",
    "\n",
    "f.close()\n",
    "f1.close()\n",
    "\n",
    "\n",
    "EOF"
   ]
  },
  {
   "cell_type": "code",
   "execution_count": 6,
   "metadata": {},
   "outputs": [],
   "source": [
    "CHR_RENAMED=/workspace/hraczw/github/GA/Gillenia_genome/014.chr/official_chrs_revcomp/gillenia_9chrs_official.renamed.fasta"
   ]
  },
  {
   "cell_type": "markdown",
   "metadata": {},
   "source": [
    "## 3. synteny"
   ]
  },
  {
   "cell_type": "markdown",
   "metadata": {},
   "source": [
    "### 3.1 apple"
   ]
  },
  {
   "cell_type": "code",
   "execution_count": 1,
   "metadata": {},
   "outputs": [],
   "source": [
    "GENOME_PATH=/output/genomic/plant/Gillenia/trifoliata/Synteny\n",
    "APPLE_ASSEMBLY=HFTH1.all.chr.fa\n",
    "PEAR_ASSEMBLY=PyrusCommunis_BartlettDHv2.0.fasta\n",
    "PEACH_ASSEMBLY=Prunus_persica_v2.0.a1_scaffolds.fasta\n",
    "RASPBERRY_ASSEMBLY=/output/genomic/plant/Rubus/occidentalis/Genome/Rubus_occidentalis_Braspberry_v3/Rubus_occ_V3_10-12-17.fasta.gz"
   ]
  },
  {
   "cell_type": "code",
   "execution_count": 2,
   "metadata": {},
   "outputs": [],
   "source": [
    "CHR=/workspace/hraczw/github/GA/Gillenia_genome/014.chr/official_chrs_revcomp/gillenia_9chrs_official.fasta"
   ]
  },
  {
   "cell_type": "code",
   "execution_count": 21,
   "metadata": {},
   "outputs": [],
   "source": [
    "mkdir synteny"
   ]
  },
  {
   "cell_type": "code",
   "execution_count": 38,
   "metadata": {},
   "outputs": [
    {
     "name": "stdout",
     "output_type": "stream",
     "text": [
      "(/workspace/hraczw/github/programs/pretextmap/hraczw_pretextmap) "
     ]
    },
    {
     "ename": "",
     "evalue": "1",
     "output_type": "error",
     "traceback": []
    }
   ],
   "source": [
    "cd .."
   ]
  },
  {
   "cell_type": "code",
   "execution_count": 9,
   "metadata": {},
   "outputs": [],
   "source": [
    "cd synteny"
   ]
  },
  {
   "cell_type": "code",
   "execution_count": 10,
   "metadata": {},
   "outputs": [
    {
     "name": "stdout",
     "output_type": "stream",
     "text": [
      "/workspace/hraczw/github/GA/Gillenia_genome/014.chr/official_chrs_revcomp/synteny\n"
     ]
    }
   ],
   "source": [
    "pwd"
   ]
  },
  {
   "cell_type": "code",
   "execution_count": 11,
   "metadata": {},
   "outputs": [
    {
     "name": "stdout",
     "output_type": "stream",
     "text": [
      "Job <390513> is submitted to default queue <lowpriority>.\n"
     ]
    }
   ],
   "source": [
    "bsub -J nucmer \\\n",
    "-m aklppb38 \\\n",
    "-n 20 \\\n",
    "-o nucmer_chr.apple.out \\\n",
    "-e nucmer_chr.apple.err \\\n",
    "\"/workspace/hrarnc/software/mummer-4.0.0beta2/bin/nucmer \\\n",
    "--mum \\\n",
    "--prefix=chr_apple \\\n",
    "-t 20 \\\n",
    "$GENOME_PATH/$APPLE_ASSEMBLY $CHR_RENAMED\""
   ]
  },
  {
   "cell_type": "code",
   "execution_count": 13,
   "metadata": {},
   "outputs": [
    {
     "name": "stdout",
     "output_type": "stream",
     "text": [
      "Job <390523> is submitted to default queue <lowpriority>.\n"
     ]
    }
   ],
   "source": [
    "bsub -J filter \\\n",
    "-o filter_chr.apple.i70.l5k.out \\\n",
    "-e filter_chr.apple.i70.l5k.err \\\n",
    "\"/workspace/hrarnc/software/mummer-4.0.0beta2/bin/delta-filter \\\n",
    "-i 70 \\\n",
    "-l 5000 \\\n",
    "-m \\\n",
    "chr_apple.delta > chr_apple.i70.l5k.delta\""
   ]
  },
  {
   "cell_type": "code",
   "execution_count": 33,
   "metadata": {},
   "outputs": [
    {
     "name": "stdout",
     "output_type": "stream",
     "text": [
      "Job <391180> is submitted to default queue <lowpriority>.\n"
     ]
    }
   ],
   "source": [
    "bsub -J graph \\\n",
    "-o graph_chr.apple.i70.l5k.out \\\n",
    "-e graph_chr.apple.i70.l5k.err \\\n",
    "\"/workspace/hrarnc/software/mummer-4.0.0beta2/bin/mummerplot \\\n",
    "--large \\\n",
    "--png \\\n",
    "chr_apple.i70.l5k.delta \\\n",
    "--Rfile reference.apple.rids \\\n",
    "--Qfile query.rids \\\n",
    "--filter \\\n",
    "-p chr_apple.i70.l5k.graph\""
   ]
  },
  {
   "cell_type": "code",
   "execution_count": 32,
   "metadata": {},
   "outputs": [
    {
     "name": "stdout",
     "output_type": "stream",
     "text": [
      "bash: /output/genomic/plant/Gillenia/trifoliata/Synteny/HFTH1.all.chr.fa: Permission denied\n"
     ]
    },
    {
     "ename": "",
     "evalue": "126",
     "output_type": "error",
     "traceback": []
    }
   ],
   "source": [
    "$GENOME_PATH/$APPLE_ASSEMBLY"
   ]
  },
  {
   "cell_type": "code",
   "execution_count": 34,
   "metadata": {},
   "outputs": [
    {
     "name": "stdout",
     "output_type": "stream",
     "text": []
    },
    {
     "data": {
      "image/png": "[encoded data removed]"
     },
     "metadata": {},
     "output_type": "display_data"
    }
   ],
   "source": [
    "cat chr_apple.i70.l5k.graph.png | display"
   ]
  },
  {
   "cell_type": "code",
   "execution_count": 46,
   "metadata": {},
   "outputs": [
    {
     "name": "stdout",
     "output_type": "stream",
     "text": [
      "Job <385108> is submitted to default queue <lowpriority>.\n",
      "bash: -b: command not found\n",
      "bash: or: command not found\n",
      "bash: -B: command not found\n",
      "bash: -c: command not found\n",
      "bash: -d: command not found\n",
      "bash: command substitution: line 7: syntax error near unexpected token `('\n",
      "bash: command substitution: line 7: `            FRM columns (default for promer)'\n"
     ]
    },
    {
     "ename": "",
     "evalue": "1",
     "output_type": "error",
     "traceback": []
    }
   ],
   "source": [
    "bsub -J graph \\\n",
    "-o show-coords_chr.apple.i70.l5k.out \\\n",
    "-e show-coords_chr.apple.i70.l5k.err \\\n",
    "\"/workspace/hrarnc/software/mummer-4.0.0beta2/bin/show-coords \\\n",
    "-c \\\n",
    "-d \\\n",
    "-l \\\n",
    "-o \\\n",
    "-r \\\n",
    "-T \\\n",
    "chr_apple.i70.l5k.delta > show-coords_chr.apple.i70.l5k.txt\""
   ]
  },
  {
   "cell_type": "markdown",
   "metadata": {},
   "source": [
    "### 3.2 pear"
   ]
  },
  {
   "cell_type": "code",
   "execution_count": 35,
   "metadata": {},
   "outputs": [
    {
     "name": "stdout",
     "output_type": "stream",
     "text": [
      "Job <392428> is submitted to default queue <lowpriority>.\n"
     ]
    }
   ],
   "source": [
    "bsub -J nucmer \\\n",
    "-m aklppb38 \\\n",
    "-n 20 \\\n",
    "-o nucmer_chr.pear.out \\\n",
    "-e nucmer_chr.pear.err \\\n",
    "\"/workspace/hrarnc/software/mummer-4.0.0beta2/bin/nucmer \\\n",
    "--mum \\\n",
    "--prefix=chr_pear \\\n",
    "-t 20 \\\n",
    "$GENOME_PATH/$PEAR_ASSEMBLY $CHR_RENAMED\""
   ]
  },
  {
   "cell_type": "code",
   "execution_count": 38,
   "metadata": {},
   "outputs": [
    {
     "name": "stdout",
     "output_type": "stream",
     "text": [
      "Job <392668> is submitted to default queue <lowpriority>.\n"
     ]
    }
   ],
   "source": [
    "bsub -J filter \\\n",
    "-o filter_chr.pear.i70.l5k.out \\\n",
    "-e filter_chr.pear.i70.l5k.err \\\n",
    "\"/workspace/hrarnc/software/mummer-4.0.0beta2/bin/delta-filter \\\n",
    "-i 70 \\\n",
    "-l 5000 \\\n",
    "-m \\\n",
    "chr_pear.delta > chr_pear.i70.l5k.delta\""
   ]
  },
  {
   "cell_type": "code",
   "execution_count": 52,
   "metadata": {},
   "outputs": [
    {
     "name": "stdout",
     "output_type": "stream",
     "text": [
      "Job <392690> is submitted to default queue <lowpriority>.\n"
     ]
    }
   ],
   "source": [
    "bsub -J graph \\\n",
    "-o graph_chr.pear.i70.l5k.out \\\n",
    "-e graph_chr.pear.i70.l5k.err \\\n",
    "\"/workspace/hrarnc/software/mummer-4.0.0beta2/bin/mummerplot \\\n",
    "--large \\\n",
    "--png \\\n",
    "chr_pear.i70.l5k.delta \\\n",
    "-R reference.pear.rids \\\n",
    "-Q query.rids \\\n",
    "--filter \\\n",
    "-p chr_pear.i70.l5k.graph\""
   ]
  },
  {
   "cell_type": "code",
   "execution_count": 31,
   "metadata": {
    "collapsed": true,
    "jupyter": {
     "outputs_hidden": true
    }
   },
   "outputs": [
    {
     "name": "stdout",
     "output_type": "stream",
     "text": [
      ">Chr10\n",
      ">Chr11\n",
      ">Chr12\n",
      ">Chr13\n",
      ">Chr14\n",
      ">Chr15\n",
      ">Chr16\n",
      ">Chr17\n",
      ">Chr1\n",
      ">Chr2\n",
      ">Chr3\n",
      ">Chr4\n",
      ">Chr5\n",
      ">Chr6\n",
      ">Chr7\n",
      ">Chr9\n",
      ">Chr8\n",
      ">SuperScaffold_49\n",
      ">SuperScaffold_111\n",
      ">SuperScaffold_243\n",
      ">SuperScaffold_273\n",
      ">SuperScaffold_290\n",
      ">SuperScaffold_420\n",
      ">SuperScaffold_436\n",
      ">SuperScaffold_505\n",
      ">SuperScaffold_520\n",
      ">SuperScaffold_553\n",
      ">SuperScaffold_555\n",
      ">SuperScaffold_581\n",
      ">tig00012527_4311101_to_5153684\n",
      ">tig00012609 quiver pilon_obj\n",
      ">tig00000810 quiver pilon_obj\n",
      ">tig00000394 quiver pilon_obj\n",
      ">tig00001427 quiver pilon_obj\n",
      ">tig00002599 quiver pilon_obj\n",
      ">tig00002749 quiver pilon_obj\n",
      ">tig00012611 quiver pilon_obj\n",
      ">tig00012641 quiver pilon_obj\n",
      ">tig00012433 quiver pilon_obj\n",
      ">tig00001310 quiver pilon_obj\n",
      ">tig00012463 quiver pilon_obj\n",
      ">tig00012549 quiver pilon_obj\n",
      ">tig00012457 quiver pilon_obj\n",
      ">tig00012638 quiver pilon_obj\n",
      ">tig00002985 quiver pilon_obj\n",
      ">tig00002559 quiver pilon_obj\n",
      ">tig00012627 quiver pilon_obj\n",
      ">tig00002789 quiver pilon_obj\n",
      ">tig00012582 quiver pilon_obj\n",
      ">tig00001667 quiver pilon_obj\n",
      ">tig00000076 quiver pilon_obj\n",
      ">tig00001497 quiver pilon_obj\n",
      ">tig00012426 quiver pilon_obj\n",
      ">tig00012561 quiver pilon_obj\n",
      ">tig00002675 quiver pilon_obj\n",
      ">tig00003011 quiver pilon_obj\n",
      ">tig00000435 quiver pilon_obj\n",
      ">tig00002702 quiver pilon_obj\n",
      ">tig00002484 quiver pilon_obj\n",
      ">tig00012626 quiver pilon_obj\n",
      ">tig00003137 quiver pilon_obj\n",
      ">tig00000813 quiver pilon_obj\n",
      ">tig00012590 quiver pilon_obj\n",
      ">tig00012515 quiver pilon_obj\n",
      ">tig00001739 quiver pilon_obj\n",
      ">tig00001609 quiver pilon_obj\n",
      ">tig00000854 quiver pilon_obj\n",
      ">tig00000072 quiver pilon_obj\n",
      ">tig00002769 quiver pilon_obj\n",
      ">tig00000925 quiver pilon_obj\n",
      ">tig00002247 quiver pilon_obj\n",
      ">tig00001729 quiver pilon_obj\n",
      ">tig00012664 quiver pilon_obj\n",
      ">tig00000123 quiver pilon_obj\n",
      ">tig00000580 quiver pilon_obj\n",
      ">tig00002900 quiver pilon_obj\n",
      ">tig00003133 quiver pilon_obj\n",
      ">tig00012502 quiver pilon_obj\n",
      ">tig00001085 quiver pilon_obj\n",
      ">tig00012536 quiver pilon_obj\n",
      ">tig00012624 quiver pilon_obj\n",
      ">tig00002922 quiver pilon_obj\n",
      ">tig00000608 quiver pilon_obj\n",
      ">tig00000234 quiver pilon_obj\n",
      ">tig00000323 quiver pilon_subseq_366398:552071_obj\n",
      ">tig00012501 quiver pilon_obj\n",
      ">tig00012370 quiver pilon_obj\n",
      ">tig00000116 quiver pilon_obj\n",
      ">tig00012556 quiver pilon_obj\n",
      ">tig00002253 quiver pilon_obj\n",
      ">tig00012468 quiver pilon_obj\n",
      ">tig00012652 quiver pilon_obj\n",
      ">tig00002552 quiver pilon_obj\n",
      ">tig00001182 quiver pilon_obj\n",
      ">tig00001825 quiver pilon_obj\n",
      ">tig00002794 quiver pilon_obj\n",
      ">tig00012397 quiver pilon_subseq_1:185781_obj\n",
      ">tig00012668 quiver pilon_obj\n",
      ">tig00001845 quiver pilon_obj\n",
      ">tig00012504 quiver pilon_obj\n",
      ">tig00012424 quiver pilon_obj\n",
      ">tig00012573 quiver pilon_obj\n",
      ">tig00002989 quiver pilon_obj\n",
      ">tig00012404 quiver pilon_obj\n",
      ">tig00000992 quiver pilon_obj\n",
      ">tig00001257 quiver pilon_obj\n",
      ">tig00002712 quiver pilon_obj\n",
      ">tig00012640 quiver pilon_obj\n",
      ">tig00002320 quiver pilon_obj\n",
      ">tig00012494 quiver pilon_obj\n",
      ">tig00002704 quiver pilon_obj\n",
      ">tig00000686 quiver pilon_obj\n",
      ">tig00012571 quiver pilon_obj\n",
      ">tig00000439 quiver pilon_obj\n",
      ">tig00012581 quiver pilon_obj\n",
      ">tig00012535 quiver pilon_obj\n",
      ">tig00000209 quiver pilon_obj\n",
      ">tig00012605 quiver pilon_obj\n",
      ">tig00012406 quiver pilon_obj\n",
      ">tig00000057 quiver pilon_obj\n",
      ">tig00002488 quiver pilon_obj\n",
      ">tig00012534 quiver pilon_obj\n",
      ">tig00002127 quiver pilon_obj\n",
      ">tig00012629 quiver pilon_obj\n",
      ">tig00001755 quiver pilon_obj\n",
      ">tig00002941 quiver pilon_obj\n",
      ">tig00002459 quiver pilon_obj\n",
      ">tig00012621 quiver pilon_obj\n",
      ">tig00000730 quiver pilon_obj\n",
      ">tig00000875 quiver pilon_obj\n",
      ">tig00012531 quiver pilon_obj\n",
      ">tig00012405 quiver pilon_obj\n",
      ">tig00000920 quiver pilon_obj\n",
      ">tig00000629 quiver pilon_obj\n",
      ">tig00003004 quiver pilon_obj\n",
      ">tig00002385 quiver pilon_obj\n",
      ">tig00000775 quiver pilon_obj\n",
      ">tig00002248 quiver pilon_obj\n",
      ">tig00003000 quiver pilon_obj\n",
      ">tig00002438 quiver pilon_obj\n",
      ">tig00001895 quiver pilon_obj\n",
      ">tig00001161 quiver pilon_obj\n",
      ">tig00012517 quiver pilon_obj\n",
      ">tig00002953 quiver pilon_obj\n",
      ">tig00012682 quiver pilon_obj\n",
      ">tig00000215 quiver pilon_obj\n",
      ">tig00001735 quiver pilon_obj\n",
      ">tig00002392 quiver pilon_obj\n",
      ">tig00000576 quiver pilon_obj\n",
      ">tig00001534 quiver pilon_obj\n",
      ">tig00012460 quiver pilon_obj\n",
      ">tig00012623 quiver pilon_obj\n",
      ">tig00002166 quiver pilon_obj\n",
      ">tig00002328 quiver pilon_obj\n",
      ">tig00001134 quiver pilon_obj\n",
      ">tig00012401 quiver pilon_subseq_1202366:1375313_obj\n",
      ">tig00003030 quiver pilon_obj\n",
      ">tig00012444 quiver pilon_obj\n",
      ">tig00002910 quiver pilon_obj\n",
      ">tig00002595 quiver pilon_obj\n",
      ">tig00002185 quiver pilon_obj\n",
      ">tig00012569 quiver pilon_obj\n",
      ">tig00012382 quiver pilon_obj\n",
      ">tig00000115 quiver pilon_obj\n",
      ">tig00000976 quiver pilon_obj\n",
      ">tig00012604 quiver pilon_obj\n",
      ">tig00002249 quiver pilon_obj\n",
      ">tig00012488 quiver pilon_obj\n",
      ">tig00012438 quiver pilon_obj\n",
      ">tig00000442 quiver pilon_obj\n",
      ">tig00002316 quiver pilon_obj\n",
      ">tig00002781 quiver pilon_obj\n",
      ">tig00002205 quiver pilon_obj\n",
      ">tig00001317 quiver pilon_obj\n",
      ">tig00000889 quiver pilon_obj\n",
      ">tig00012684 quiver pilon_obj\n",
      ">tig00000289 quiver pilon_obj\n",
      ">tig00012427 quiver pilon_obj\n",
      ">tig00012552 quiver pilon_obj\n",
      ">tig00002751 quiver pilon_obj\n",
      ">tig00000100 quiver pilon_obj\n",
      ">tig00012420 quiver pilon_obj\n",
      ">tig00000476 quiver pilon_obj\n",
      ">tig00000708 quiver pilon_obj\n",
      ">tig00002616 quiver pilon_obj\n",
      ">tig00012658 quiver pilon_obj\n",
      ">tig00002550 quiver pilon_obj\n",
      ">tig00000348 quiver pilon_obj\n",
      ">tig00012586 quiver pilon_obj\n",
      ">tig00001293 quiver pilon_obj\n",
      ">tig00001248 quiver pilon_obj\n",
      ">tig00012655 quiver pilon_obj\n",
      ">tig00012704 quiver pilon_obj\n",
      ">tig00000443 quiver pilon_obj\n",
      ">tig00001498 quiver pilon_obj\n",
      ">tig00002805 quiver pilon_obj\n",
      ">tig00000808 quiver pilon_obj\n",
      ">tig00012419 quiver pilon_obj\n",
      ">tig00001873 quiver pilon_obj\n",
      ">tig00012583 quiver pilon_obj\n",
      ">tig00002933 quiver pilon_obj\n",
      ">tig00002225 quiver pilon_obj\n",
      ">tig00001157 quiver pilon_obj\n",
      ">tig00012498 quiver pilon_obj\n",
      ">tig00001912 quiver pilon_obj\n",
      ">tig00002951 quiver pilon_obj\n",
      ">tig00012630 quiver pilon_obj\n",
      ">tig00001128 quiver pilon_obj\n",
      ">tig00012423 quiver pilon_obj\n",
      ">tig00000140 quiver pilon_obj\n",
      ">tig00001675 quiver pilon_obj\n",
      ">tig00012620 quiver pilon_obj\n",
      ">tig00012559 quiver pilon_obj\n",
      ">tig00000400 quiver pilon_obj\n",
      ">tig00002165 quiver pilon_obj\n",
      ">tig00001903 quiver pilon_obj\n",
      ">tig00012568 quiver pilon_obj\n",
      ">tig00002853 quiver pilon_obj\n",
      ">tig00000688 quiver pilon_obj\n",
      ">tig00012681 quiver pilon_obj\n",
      ">tig00012603 quiver pilon_obj\n",
      ">tig00012403 quiver pilon_obj\n",
      ">tig00012473 quiver pilon_obj\n",
      ">tig00012492 quiver pilon_obj\n",
      ">tig00001654 quiver pilon_obj\n",
      ">tig00001431 quiver pilon_obj\n",
      ">tig00000908 quiver pilon_obj\n",
      ">tig00002596 quiver pilon_obj\n",
      ">tig00002158 quiver pilon_obj\n",
      ">tig00000253 quiver pilon_obj\n",
      ">tig00002859 quiver pilon_obj\n",
      ">tig00012543 quiver pilon_obj\n",
      ">tig00012691 quiver pilon_obj\n",
      ">tig00012541 quiver pilon_obj\n",
      ">tig00012703 quiver pilon_obj\n",
      ">tig00012490 quiver pilon_obj\n",
      ">tig00002309 quiver pilon_obj\n",
      ">tig00002189 quiver pilon_obj\n",
      ">tig00002548 quiver pilon_obj\n",
      ">tig00012482 quiver pilon_obj\n",
      ">tig00002809 quiver pilon_obj\n",
      ">tig00002957 quiver pilon_obj\n",
      ">tig00012633 quiver pilon_obj\n",
      ">tig00000812 quiver pilon_obj\n",
      ">tig00000212 quiver pilon_obj\n",
      ">tig00002466 quiver pilon_obj\n",
      ">tig00001867 quiver pilon_obj\n",
      ">tig00001302 quiver pilon_obj\n",
      ">tig00002402 quiver pilon_obj\n",
      ">tig00012656 quiver pilon_obj\n",
      ">tig00012700 quiver pilon_obj\n",
      ">tig00001546 quiver pilon_obj\n",
      ">tig00012524 quiver pilon_obj\n",
      ">tig00002218 quiver pilon_obj\n",
      ">tig00012508 quiver pilon_obj\n",
      ">tig00000972 quiver pilon_obj\n",
      ">tig00001049 quiver pilon_obj\n",
      ">tig00000266 quiver pilon_obj\n",
      ">tig00003033 quiver pilon_obj\n",
      ">tig00001844 quiver pilon_obj\n",
      ">tig00002172 quiver pilon_obj\n",
      ">tig00012584 quiver pilon_obj\n",
      ">tig00002811 quiver pilon_obj\n",
      ">tig00012470 quiver pilon_obj\n",
      ">tig00012646 quiver pilon_obj\n",
      ">tig00001958 quiver pilon_obj\n",
      ">tig00000510 quiver pilon_obj\n",
      ">tig00002601 quiver pilon_obj\n",
      ">tig00000037 quiver pilon_obj\n",
      ">tig00012659 quiver pilon_obj\n",
      ">tig00012578 quiver pilon_obj\n",
      ">tig00012680 quiver pilon_obj\n",
      ">tig00002208 quiver pilon_obj\n",
      ">tig00012728 quiver pilon_obj\n",
      ">tig00012618 quiver pilon_obj\n",
      ">tig00000632 quiver pilon_obj\n",
      ">tig00012567 quiver pilon_obj\n",
      ">tig00000274 quiver pilon_obj\n",
      ">tig00000280 quiver pilon_obj\n",
      ">tig00002006 quiver pilon_obj\n",
      ">tig00002923 quiver pilon_obj\n",
      ">tig00012416 quiver pilon_obj\n",
      ">tig00002516 quiver pilon_obj\n",
      ">tig00001094 quiver pilon_obj\n",
      ">tig00012693 quiver pilon_obj\n",
      ">tig00001153 quiver pilon_obj\n",
      ">tig00000196 quiver pilon_obj\n",
      ">tig00000050 quiver pilon_obj\n",
      ">tig00012513 quiver pilon_obj\n",
      ">tig00001434 quiver pilon_obj\n",
      ">tig00002757 quiver pilon_obj\n",
      ">tig00012429 quiver pilon_obj\n",
      ">tig00000574 quiver pilon_obj\n",
      ">tig00002308 quiver pilon_obj\n",
      ">tig00002303 quiver pilon_obj\n",
      ">tig00002954 quiver pilon_obj\n",
      ">tig00000723 quiver pilon_obj\n",
      ">tig00001353 quiver pilon_obj\n",
      ">tig00012439 quiver pilon_obj\n",
      ">tig00012425 quiver pilon_obj\n",
      ">tig00000395 quiver pilon_obj\n",
      ">tig00001785 quiver pilon_obj\n",
      ">tig00001341 quiver pilon_obj\n",
      ">tig00012506 quiver pilon_obj\n",
      ">tig00012650 quiver pilon_obj\n",
      ">tig00002566 quiver pilon_obj\n",
      ">tig00002545 quiver pilon_obj\n",
      ">tig00002229 quiver pilon_obj\n",
      ">tig00001380 quiver pilon_obj\n",
      ">tig00001866 quiver pilon_obj\n",
      ">tig00002861 quiver pilon_obj\n",
      ">tig00001224 quiver pilon_obj\n",
      ">tig00000126 quiver pilon_obj\n",
      ">tig00000899 quiver pilon_obj\n",
      ">tig00000654 quiver pilon_obj\n",
      ">tig00000821 quiver pilon_obj\n",
      ">tig00001204 quiver pilon_obj\n",
      ">tig00003027 quiver pilon_obj\n",
      ">tig00012526 quiver pilon_obj\n",
      ">tig00002424 quiver pilon_obj\n",
      ">tig00002497 quiver pilon_obj\n",
      ">tig00002821 quiver pilon_obj\n",
      ">tig00001080 quiver pilon_obj\n",
      ">tig00002563 quiver pilon_obj\n",
      ">tig00000247 quiver pilon_obj\n",
      ">tig00012745 quiver pilon_obj\n",
      ">tig00002627 quiver pilon_obj\n",
      ">tig00002181 quiver pilon_obj\n",
      ">tig00001314 quiver pilon_obj\n",
      ">tig00012577 quiver pilon_obj\n",
      ">tig00012557 quiver pilon_obj\n",
      ">tig00012599 quiver pilon_obj\n",
      ">tig00012597 quiver pilon_obj\n",
      ">tig00012554 quiver pilon_obj\n",
      ">tig00012672 quiver pilon_obj\n",
      ">tig00001091 quiver pilon_obj\n",
      ">tig00000404 quiver pilon_obj\n",
      ">tig00001777 quiver pilon_obj\n",
      ">tig00002625 quiver pilon_obj\n",
      ">tig00001682 quiver pilon_obj\n",
      ">tig00000728 quiver pilon_obj\n",
      ">tig00002381 quiver pilon_obj\n",
      ">tig00002984 quiver pilon_obj\n",
      ">tig00000645 quiver pilon_obj\n",
      ">tig00012678 quiver pilon_obj\n",
      ">tig00001368 quiver pilon_obj\n",
      ">tig00012415 quiver pilon_obj\n",
      ">tig00012695 quiver pilon_obj\n",
      ">tig00000556 quiver pilon_obj\n",
      ">tig00002167 quiver pilon_obj\n",
      ">tig00012480 quiver pilon_obj\n",
      ">tig00001146 quiver pilon_obj\n",
      ">tig00012495 quiver pilon_obj\n",
      ">tig00001537 quiver pilon_obj\n",
      ">tig00012616 quiver pilon_obj\n",
      ">tig00000582 quiver pilon_obj\n",
      ">tig00000265 quiver pilon_obj\n",
      ">tig00002401 quiver pilon_obj\n",
      ">tig00001681 quiver pilon_obj\n",
      ">tig00012663 quiver pilon_obj\n",
      ">tig00001256 quiver pilon_obj\n",
      ">tig00002505 quiver pilon_obj\n",
      ">tig00012384 quiver pilon_obj\n",
      ">tig00002678 quiver pilon_obj\n",
      ">tig00012634 quiver pilon_obj\n",
      ">tig00012716 quiver pilon_obj\n",
      ">tig00000133 quiver pilon_obj\n",
      ">tig00012499 quiver pilon_obj\n",
      ">tig00002410 quiver pilon_obj\n",
      ">tig00012585 quiver pilon_obj\n",
      ">tig00001604 quiver pilon_obj\n",
      ">tig00002575 quiver pilon_obj\n",
      ">tig00001774 quiver pilon_obj\n",
      ">tig00001078 quiver pilon_obj\n",
      ">tig00002177 quiver pilon_obj\n",
      ">tig00002235 quiver pilon_obj\n",
      ">tig00002889 quiver pilon_obj\n",
      ">tig00000241 quiver pilon_obj\n",
      ">tig00012613 quiver pilon_obj\n",
      ">tig00012550 quiver pilon_obj\n",
      ">tig00001217 quiver pilon_obj\n",
      ">tig00002874 quiver pilon_obj\n",
      ">tig00012437 quiver pilon_obj\n",
      ">tig00002519 quiver pilon_obj\n",
      ">tig00012687 quiver pilon_obj\n",
      ">tig00000826 quiver pilon_obj\n",
      ">tig00001125 quiver pilon_obj\n",
      ">tig00003018 quiver pilon_obj\n",
      ">tig00012379 quiver pilon_obj\n",
      ">tig00012588 quiver pilon_obj\n",
      ">tig00012575 quiver pilon_obj\n",
      ">tig00002982 quiver pilon_obj\n",
      ">tig00012555 quiver pilon_obj\n",
      ">tig00000804 quiver pilon_obj\n",
      ">tig00012674 quiver pilon_obj\n",
      ">tig00012690 quiver pilon_obj\n",
      ">tig00012654 quiver pilon_obj\n",
      ">tig00000578 quiver pilon_obj\n",
      ">tig00002352 quiver pilon_obj\n",
      ">tig00012677 quiver pilon_obj\n",
      ">tig00002495 quiver pilon_obj\n",
      ">tig00001683 quiver pilon_obj\n",
      ">tig00012596 quiver pilon_obj\n",
      ">tig00012563 quiver pilon_obj\n",
      ">tig00000961 quiver pilon_obj\n",
      ">tig00002724 quiver pilon_obj\n",
      ">tig00012529 quiver pilon_obj\n",
      ">tig00001388 quiver pilon_obj\n",
      ">tig00002132 quiver pilon_obj\n",
      ">tig00012469 quiver pilon_obj\n",
      ">tig00002547 quiver pilon_obj\n",
      ">tig00002246 quiver pilon_obj\n",
      ">tig00000516 quiver pilon_obj\n",
      ">tig00001860 quiver pilon_obj\n",
      ">tig00002947 quiver pilon_obj\n",
      ">tig00002271 quiver pilon_obj\n",
      ">tig00001097 quiver pilon_obj\n",
      ">tig00012383 quiver pilon_obj\n",
      ">tig00001242 quiver pilon_obj\n",
      ">tig00002685 quiver pilon_obj\n",
      ">tig00002176 quiver pilon_obj\n",
      ">tig00012565 quiver pilon_obj\n",
      ">tig00002753 quiver pilon_obj\n",
      ">tig00002522 quiver pilon_obj\n",
      ">tig00001141 quiver pilon_obj\n",
      ">tig00012669 quiver pilon_obj\n",
      ">tig00001648 quiver pilon_obj\n",
      ">tig00012547 quiver pilon_obj\n",
      ">tig00012698 quiver pilon_obj\n",
      ">tig00002238 quiver pilon_obj\n",
      ">tig00000782 quiver pilon_obj\n",
      ">tig00000110 quiver pilon_subseq_1333379:1384907_obj\n",
      ">tig00002743 quiver pilon_obj\n",
      ">tig00012503 quiver pilon_obj\n",
      ">tig00001760 quiver pilon_obj\n",
      ">tig00012637 quiver pilon_obj\n",
      ">tig00001891 quiver pilon_obj\n",
      ">tig00012612 quiver pilon_obj\n",
      ">tig00001453 quiver pilon_obj\n",
      ">tig00002848 quiver pilon_obj\n",
      ">tig00001547 quiver pilon_obj\n",
      ">tig00000737 quiver pilon_obj\n",
      ">tig00012459 quiver pilon_obj\n",
      ">tig00000461 quiver pilon_obj\n",
      ">tig00012675 quiver pilon_obj\n",
      ">tig00002647 quiver pilon_obj\n",
      ">tig00012462 quiver pilon_obj\n",
      ">tig00001180 quiver pilon_obj\n",
      ">tig00003016 quiver pilon_obj\n",
      ">tig00002339 quiver pilon_obj\n",
      ">tig00002217 quiver pilon_obj\n",
      ">tig00000560 quiver pilon_obj\n",
      ">tig00000039 quiver pilon_obj\n",
      ">tig00012594 quiver pilon_obj\n",
      ">tig00012409 quiver pilon_obj\n",
      ">tig00000849 quiver pilon_obj\n",
      ">tig00000963 quiver pilon_obj\n",
      ">tig00012661 quiver pilon_obj\n",
      ">tig00002407 quiver pilon_obj\n",
      ">tig00001481 quiver pilon_obj\n",
      ">tig00012589 quiver pilon_obj\n",
      ">tig00002002 quiver pilon_obj\n",
      ">tig00000275 quiver pilon_obj\n",
      ">tig00012564 quiver pilon_obj\n",
      ">tig00000272 quiver pilon_obj\n",
      ">tig00002903 quiver pilon_obj\n",
      ">tig00002418 quiver pilon_obj\n",
      ">tig00012483 quiver pilon_obj\n",
      ">tig00000366 quiver pilon_obj\n",
      ">tig00000531 quiver pilon_obj\n",
      ">tig00000163 quiver pilon_obj\n",
      ">tig00000904 quiver pilon_obj\n",
      ">tig00012625 quiver pilon_obj\n",
      ">tig00001880 quiver pilon_obj\n",
      ">tig00002244 quiver pilon_obj\n",
      ">tig00000429 quiver pilon_obj\n",
      ">tig00000853 quiver pilon_obj\n",
      ">tig00001071 quiver pilon_obj\n",
      ">tig00012731 quiver pilon_obj\n",
      ">tig00012411 quiver pilon_obj\n",
      ">tig00000287 quiver pilon_obj\n",
      ">tig00002182 quiver pilon_obj\n",
      ">tig00002521 quiver pilon_obj\n",
      ">tig00000675 quiver pilon_obj\n",
      ">tig00012486 quiver pilon_obj\n",
      ">tig00001236 quiver pilon_obj\n",
      ">tig00001862 quiver pilon_obj\n",
      ">tig00012670 quiver pilon_obj\n",
      ">tig00000958 quiver pilon_obj\n",
      ">tig00002845 quiver pilon_obj\n",
      ">tig00012562 quiver pilon_obj\n",
      ">tig00001096 quiver pilon_obj\n",
      ">tig00001315 quiver pilon_obj\n",
      ">tig00001800 quiver pilon_obj\n"
     ]
    }
   ],
   "source": [
    "grep '>' $GENOME_PATH/$PEAR_ASSEMBLY"
   ]
  },
  {
   "cell_type": "code",
   "execution_count": 43,
   "metadata": {},
   "outputs": [
    {
     "name": "stdout",
     "output_type": "stream",
     "text": [
      "bash: /output/genomic/plant/Gillenia/trifoliata/Synteny/PyrusCommunis_BartlettDHv2.0.fasta: Permission denied\n"
     ]
    },
    {
     "ename": "",
     "evalue": "126",
     "output_type": "error",
     "traceback": []
    }
   ],
   "source": [
    "$GENOME_PATH/$PEAR_ASSEMBLY"
   ]
  },
  {
   "cell_type": "code",
   "execution_count": 53,
   "metadata": {},
   "outputs": [
    {
     "name": "stdout",
     "output_type": "stream",
     "text": []
    },
    {
     "data": {
      "image/png": "[encoded data removed]"
     },
     "metadata": {},
     "output_type": "display_data"
    }
   ],
   "source": [
    "cat chr_pear.i70.l5k.graph.png | display"
   ]
  },
  {
   "cell_type": "code",
   "execution_count": 47,
   "metadata": {},
   "outputs": [
    {
     "name": "stdout",
     "output_type": "stream",
     "text": [
      "Job <385109> is submitted to default queue <lowpriority>.\n"
     ]
    }
   ],
   "source": [
    "bsub -J graph \\\n",
    "-o show-coords_chr.pear.i70.l5k.out \\\n",
    "-e show-coords_chr.pear.i70.l5k.err \\\n",
    "\"/workspace/hrarnc/software/mummer-4.0.0beta2/bin/show-coords \\\n",
    "-c \\\n",
    "-d \\\n",
    "-l \\\n",
    "-o \\\n",
    "-r \\\n",
    "-T \\\n",
    "chr_pear.i70.l5k.delta > show-coords_chr.pear.i70.l5k.txt\""
   ]
  },
  {
   "cell_type": "markdown",
   "metadata": {},
   "source": [
    "### 3.3 peach"
   ]
  },
  {
   "cell_type": "code",
   "execution_count": 36,
   "metadata": {},
   "outputs": [
    {
     "name": "stdout",
     "output_type": "stream",
     "text": [
      "Job <392429> is submitted to default queue <lowpriority>.\n"
     ]
    }
   ],
   "source": [
    "bsub -J nucmer \\\n",
    "-m aklppb38 \\\n",
    "-n 20 \\\n",
    "-o nucmer_chr.peach.out \\\n",
    "-e nucmer_chr.peach.err \\\n",
    "\"/workspace/hrarnc/software/mummer-4.0.0beta2/bin/nucmer \\\n",
    "--mum \\\n",
    "--prefix=chr_peach \\\n",
    "-t 20 \\\n",
    "$GENOME_PATH/$PEACH_ASSEMBLY $CHR_RENAMED\""
   ]
  },
  {
   "cell_type": "code",
   "execution_count": 39,
   "metadata": {},
   "outputs": [
    {
     "name": "stdout",
     "output_type": "stream",
     "text": [
      "Job <392669> is submitted to default queue <lowpriority>.\n"
     ]
    }
   ],
   "source": [
    "bsub -J filter \\\n",
    "-o filter_chr.peach.i70.l2k.out \\\n",
    "-e filter_chr.peach.i70.l2k.err \\\n",
    "\"/workspace/hrarnc/software/mummer-4.0.0beta2/bin/delta-filter \\\n",
    "-i 70 \\\n",
    "-l 2000 \\\n",
    "-m \\\n",
    "chr_peach.delta > chr_peach.i70.l2k.delta\""
   ]
  },
  {
   "cell_type": "code",
   "execution_count": 42,
   "metadata": {},
   "outputs": [
    {
     "name": "stdout",
     "output_type": "stream",
     "text": [
      "Job <392672> is submitted to default queue <lowpriority>.\n"
     ]
    }
   ],
   "source": [
    "bsub -J filter \\\n",
    "-o filter_chr.peach.i70.l1k.out \\\n",
    "-e filter_chr.peach.i70.l1k.err \\\n",
    "\"/workspace/hrarnc/software/mummer-4.0.0beta2/bin/delta-filter \\\n",
    "-i 70 \\\n",
    "-l 1000 \\\n",
    "-m \\\n",
    "chr_peach.delta > chr_peach.i70.l1k.delta\""
   ]
  },
  {
   "cell_type": "code",
   "execution_count": 51,
   "metadata": {},
   "outputs": [
    {
     "name": "stdout",
     "output_type": "stream",
     "text": [
      "Job <392689> is submitted to default queue <lowpriority>.\n"
     ]
    }
   ],
   "source": [
    "bsub -J graph \\\n",
    "-o graph_chr.peach.i70.l1k.out \\\n",
    "-e graph_chr.peach.i70.l1k.err \\\n",
    "\"/workspace/hrarnc/software/mummer-4.0.0beta2/bin/mummerplot \\\n",
    "--large \\\n",
    "--png \\\n",
    "chr_peach.i70.l1k.delta \\\n",
    "-R reference.peach.rids \\\n",
    "-Q query.rids \\\n",
    "--filter \\\n",
    "-p chr_peach.i70.l1k.graph\""
   ]
  },
  {
   "cell_type": "code",
   "execution_count": 44,
   "metadata": {},
   "outputs": [
    {
     "name": "stdout",
     "output_type": "stream",
     "text": [
      "bash: /output/genomic/plant/Gillenia/trifoliata/Synteny/Prunus_persica_v2.0.a1_scaffolds.fasta: Permission denied\n"
     ]
    },
    {
     "ename": "",
     "evalue": "126",
     "output_type": "error",
     "traceback": []
    }
   ],
   "source": [
    "$GENOME_PATH/$PEACH_ASSEMBLY"
   ]
  },
  {
   "cell_type": "code",
   "execution_count": 54,
   "metadata": {},
   "outputs": [
    {
     "name": "stdout",
     "output_type": "stream",
     "text": []
    },
    {
     "data": {
      "image/png": "[encoded data removed]"
     },
     "metadata": {},
     "output_type": "display_data"
    }
   ],
   "source": [
    "cat chr_peach.i70.l1k.graph.png | display"
   ]
  },
  {
   "cell_type": "code",
   "execution_count": 51,
   "metadata": {},
   "outputs": [
    {
     "name": "stdout",
     "output_type": "stream",
     "text": [
      "Job <385113> is submitted to default queue <lowpriority>.\n"
     ]
    }
   ],
   "source": [
    "bsub -J graph \\\n",
    "-o show-coords_chr.peach.i70.l1k.out \\\n",
    "-e show-coords_chr.peach.i70.l1k.err \\\n",
    "\"/workspace/hrarnc/software/mummer-4.0.0beta2/bin/show-coords \\\n",
    "-c \\\n",
    "-d \\\n",
    "-l \\\n",
    "-o \\\n",
    "-r \\\n",
    "-T \\\n",
    "chr_peach.i70.l1k.delta > show-coords_chr.peach.i70.l1k.txt\""
   ]
  },
  {
   "cell_type": "code",
   "execution_count": 50,
   "metadata": {},
   "outputs": [
    {
     "name": "stdout",
     "output_type": "stream",
     "text": [
      "Job <392688> is submitted to default queue <lowpriority>.\n"
     ]
    }
   ],
   "source": [
    "bsub -J graph \\\n",
    "-o graph_chr.peach.i70.l2k.out \\\n",
    "-e graph_chr.peach.i70.l2k.err \\\n",
    "\"/workspace/hrarnc/software/mummer-4.0.0beta2/bin/mummerplot \\\n",
    "--large \\\n",
    "--png \\\n",
    "chr_peach.i70.l2k.delta \\\n",
    "-R reference.peach.rids \\\n",
    "-Q query.rids \\\n",
    "--filter \\\n",
    "-p chr_peach.i70.l2k.graph\""
   ]
  },
  {
   "cell_type": "code",
   "execution_count": 40,
   "metadata": {
    "collapsed": true,
    "jupyter": {
     "outputs_hidden": true
    }
   },
   "outputs": [
    {
     "name": "stdout",
     "output_type": "stream",
     "text": [
      ">Pp01\n",
      ">Pp02\n",
      ">Pp03\n",
      ">Pp04\n",
      ">Pp05\n",
      ">Pp06\n",
      ">Pp07\n",
      ">Pp08\n",
      ">scaffold_12\n",
      ">scaffold_15\n",
      ">scaffold_13\n",
      ">scaffold_16\n",
      ">scaffold_18\n",
      ">scaffold_19\n",
      ">scaffold_20\n",
      ">scaffold_21\n",
      ">scaffold_23\n",
      ">scaffold_24\n",
      ">scaffold_26\n",
      ">scaffold_32\n",
      ">scaffold_28\n",
      ">scaffold_40\n",
      ">scaffold_30\n",
      ">scaffold_38\n",
      ">scaffold_34\n",
      ">scaffold_33\n",
      ">scaffold_35\n",
      ">scaffold_37\n",
      ">scaffold_39\n",
      ">scaffold_101\n",
      ">scaffold_42\n",
      ">scaffold_58\n",
      ">scaffold_57\n",
      ">scaffold_199\n",
      ">scaffold_51\n",
      ">scaffold_295\n",
      ">scaffold_69\n",
      ">scaffold_53\n",
      ">scaffold_54\n",
      ">scaffold_62\n",
      ">scaffold_55\n",
      ">scaffold_61\n",
      ">scaffold_60\n",
      ">scaffold_67\n",
      ">scaffold_68\n",
      ">scaffold_73\n",
      ">scaffold_66\n",
      ">scaffold_78\n",
      ">scaffold_70\n",
      ">scaffold_104\n",
      ">scaffold_72\n",
      ">scaffold_71\n",
      ">scaffold_77\n",
      ">scaffold_196\n",
      ">scaffold_80\n",
      ">scaffold_84\n",
      ">scaffold_297\n",
      ">scaffold_92\n",
      ">scaffold_90\n",
      ">scaffold_135\n",
      ">scaffold_129\n",
      ">scaffold_121\n",
      ">scaffold_97\n",
      ">scaffold_136\n",
      ">scaffold_144\n",
      ">scaffold_260\n",
      ">scaffold_111\n",
      ">scaffold_108\n",
      ">scaffold_123\n",
      ">scaffold_158\n",
      ">scaffold_112\n",
      ">scaffold_130\n",
      ">scaffold_225\n",
      ">scaffold_167\n",
      ">scaffold_127\n",
      ">scaffold_143\n",
      ">scaffold_116\n",
      ">scaffold_125\n",
      ">scaffold_242\n",
      ">scaffold_157\n",
      ">scaffold_149\n",
      ">scaffold_155\n",
      ">scaffold_353\n",
      ">scaffold_137\n",
      ">scaffold_328\n",
      ">scaffold_200\n",
      ">scaffold_134\n",
      ">scaffold_194\n",
      ">scaffold_302\n",
      ">scaffold_138\n",
      ">scaffold_232\n",
      ">scaffold_139\n",
      ">scaffold_146\n",
      ">scaffold_140\n",
      ">scaffold_141\n",
      ">scaffold_166\n",
      ">scaffold_335\n",
      ">scaffold_147\n",
      ">scaffold_171\n",
      ">scaffold_339\n",
      ">scaffold_325\n",
      ">scaffold_162\n",
      ">scaffold_151\n",
      ">scaffold_164\n",
      ">scaffold_211\n",
      ">scaffold_153\n",
      ">scaffold_165\n",
      ">scaffold_340\n",
      ">scaffold_156\n",
      ">scaffold_202\n",
      ">scaffold_161\n",
      ">scaffold_213\n",
      ">scaffold_187\n",
      ">scaffold_168\n",
      ">scaffold_183\n",
      ">scaffold_163\n",
      ">scaffold_169\n",
      ">scaffold_174\n",
      ">scaffold_249\n",
      ">scaffold_189\n",
      ">scaffold_175\n",
      ">scaffold_181\n",
      ">scaffold_326\n",
      ">scaffold_256\n",
      ">scaffold_332\n",
      ">scaffold_234\n",
      ">scaffold_319\n",
      ">scaffold_272\n",
      ">scaffold_208\n",
      ">scaffold_182\n",
      ">scaffold_219\n",
      ">scaffold_188\n",
      ">scaffold_191\n",
      ">scaffold_192\n",
      ">scaffold_247\n",
      ">scaffold_221\n",
      ">scaffold_220\n",
      ">scaffold_258\n",
      ">scaffold_231\n",
      ">scaffold_203\n",
      ">scaffold_236\n",
      ">scaffold_288\n",
      ">scaffold_237\n",
      ">scaffold_228\n",
      ">scaffold_215\n",
      ">scaffold_281\n",
      ">scaffold_244\n",
      ">scaffold_246\n",
      ">scaffold_285\n",
      ">scaffold_280\n",
      ">scaffold_298\n",
      ">scaffold_286\n",
      ">scaffold_276\n",
      ">scaffold_336\n",
      ">scaffold_259\n",
      ">scaffold_239\n",
      ">scaffold_254\n",
      ">scaffold_248\n",
      ">scaffold_250\n",
      ">scaffold_255\n",
      ">scaffold_330\n",
      ">scaffold_279\n",
      ">scaffold_266\n",
      ">scaffold_337\n",
      ">scaffold_270\n",
      ">scaffold_291\n",
      ">scaffold_324\n",
      ">scaffold_271\n",
      ">scaffold_296\n",
      ">scaffold_307\n",
      ">scaffold_346\n",
      ">scaffold_306\n",
      ">scaffold_284\n",
      ">scaffold_311\n",
      ">scaffold_347\n",
      ">scaffold_321\n",
      ">scaffold_308\n",
      ">scaffold_313\n",
      ">scaffold_312\n",
      ">scaffold_334\n",
      ">scaffold_327\n",
      ">scaffold_331\n",
      ">scaffold_333\n",
      ">scaffold_338\n",
      ">scaffold_343\n",
      ">scaffold_344\n",
      ">scaffold_345\n",
      ">scaffold_349\n",
      ">scaffold_350\n",
      ">scaffold_351\n",
      ">scaffold_352\n"
     ]
    }
   ],
   "source": [
    "grep '>' $GENOME_PATH/$PEACH_ASSEMBLY"
   ]
  },
  {
   "cell_type": "code",
   "execution_count": 55,
   "metadata": {},
   "outputs": [
    {
     "name": "stdout",
     "output_type": "stream",
     "text": []
    },
    {
     "data": {
      "image/png": "[encoded data removed]"
     },
     "metadata": {},
     "output_type": "display_data"
    }
   ],
   "source": [
    "cat chr_peach.i70.l2k.graph.png | display"
   ]
  },
  {
   "cell_type": "code",
   "execution_count": 48,
   "metadata": {},
   "outputs": [
    {
     "name": "stdout",
     "output_type": "stream",
     "text": [
      "Job <385110> is submitted to default queue <lowpriority>.\n"
     ]
    }
   ],
   "source": [
    "bsub -J graph \\\n",
    "-o show-coords_chr.peach.i70.l2k.out \\\n",
    "-e show-coords_chr.peach.i70.l2k.err \\\n",
    "\"/workspace/hrarnc/software/mummer-4.0.0beta2/bin/show-coords \\\n",
    "-c \\\n",
    "-d \\\n",
    "-l \\\n",
    "-o \\\n",
    "-r \\\n",
    "-T \\\n",
    "chr_peach.i70.l2k.delta > show-coords_chr.peach.i70.l2k.txt\""
   ]
  },
  {
   "cell_type": "markdown",
   "metadata": {},
   "source": [
    "### 3.4 with raspberry"
   ]
  },
  {
   "cell_type": "code",
   "execution_count": 5,
   "metadata": {},
   "outputs": [
    {
     "name": "stdout",
     "output_type": "stream",
     "text": [
      "Rubus_occ_V3_10-12-17.fasta.gz\tRubus_occ_V3.proteins.fasta.gz\n",
      "Rubus_occ_V3.all.gff\t\tRubus_occ_V3.transcripts.fasta.gz\n"
     ]
    }
   ],
   "source": [
    "ls /output/genomic/plant/Rubus/occidentalis/Genome/Rubus_occidentalis_Braspberry_v3/"
   ]
  },
  {
   "cell_type": "code",
   "execution_count": 6,
   "metadata": {},
   "outputs": [],
   "source": [
    "gunzip -d -c $RASPBERRY_ASSEMBLY > Rubus_occ_V3_10-12-17.fasta"
   ]
  },
  {
   "cell_type": "code",
   "execution_count": 8,
   "metadata": {},
   "outputs": [],
   "source": [
    "mv Rubus_occ_V3_10-12-17.fasta /workspace/hraczw/github/GA/Gillenia_genome/014.chr/official_chrs_revcomp/synteny"
   ]
  },
  {
   "cell_type": "code",
   "execution_count": 9,
   "metadata": {},
   "outputs": [],
   "source": [
    "cd 014.chr/official_chrs_revcomp/synteny"
   ]
  },
  {
   "cell_type": "code",
   "execution_count": 37,
   "metadata": {},
   "outputs": [
    {
     "name": "stdout",
     "output_type": "stream",
     "text": [
      "Job <392430> is submitted to default queue <lowpriority>.\n"
     ]
    }
   ],
   "source": [
    "bsub -J nucmer \\\n",
    "-m aklppb38 \\\n",
    "-n 20 \\\n",
    "-o nucmer_chr.raspberry_clean.out \\\n",
    "-e nucmer_chr.raspberry_clean.err \\\n",
    "\"/workspace/hrarnc/software/mummer-4.0.0beta2/bin/nucmer \\\n",
    "--mum \\\n",
    "--prefix=chr_raspberry_clean \\\n",
    "-t 20 \\\n",
    "/workspace/hrachd/Raspberry/2020/Rubus_occ_V3_10-12-17.clean.fa $CHR_RENAMED\""
   ]
  },
  {
   "cell_type": "code",
   "execution_count": 41,
   "metadata": {},
   "outputs": [
    {
     "name": "stdout",
     "output_type": "stream",
     "text": [
      "Job <392671> is submitted to default queue <lowpriority>.\n"
     ]
    }
   ],
   "source": [
    "bsub -J filter \\\n",
    "-o filter_chr.raspberry_clean.i70.l1k.out \\\n",
    "-e filter_chr.raspberry_clean.i70.l1k.err \\\n",
    "\"/workspace/hrarnc/software/mummer-4.0.0beta2/bin/delta-filter \\\n",
    "-i 70 \\\n",
    "-l 1000 \\\n",
    "-m \\\n",
    "chr_raspberry_clean.delta > chr_raspberry_clean.i70.l1k.delta\""
   ]
  },
  {
   "cell_type": "code",
   "execution_count": 64,
   "metadata": {},
   "outputs": [
    {
     "name": "stdout",
     "output_type": "stream",
     "text": [
      "Job <392696> is submitted to default queue <lowpriority>.\n"
     ]
    }
   ],
   "source": [
    "bsub -J graph \\\n",
    "-o graph_chr.raspberry.i70.l2k.out \\\n",
    "-e graph_chr.raspberry.i70.l2k.err \\\n",
    "\"/workspace/hrarnc/software/mummer-4.0.0beta2/bin/mummerplot \\\n",
    "--large \\\n",
    "--png \\\n",
    "chr_raspberry_clean.i70.l2k.delta \\\n",
    "-R reference.raspberry.rids \\\n",
    "-Q query.rids \\\n",
    "--filter \\\n",
    "-p chr_raspberry_clean.i70.l2k.graph\""
   ]
  },
  {
   "cell_type": "code",
   "execution_count": 61,
   "metadata": {},
   "outputs": [
    {
     "name": "stdout",
     "output_type": "stream",
     "text": []
    },
    {
     "data": {
      "image/png": "[encoded data removed]"
     },
     "metadata": {},
     "output_type": "display_data"
    }
   ],
   "source": [
    "cat chr_raspberry_clean.i70.l2k.graph.png | display"
   ]
  },
  {
   "cell_type": "code",
   "execution_count": 50,
   "metadata": {},
   "outputs": [
    {
     "name": "stdout",
     "output_type": "stream",
     "text": [
      "Job <385112> is submitted to default queue <lowpriority>.\n"
     ]
    }
   ],
   "source": [
    "bsub -J graph \\\n",
    "-o show-coords_chr.raspberry.i70.l2k.out \\\n",
    "-e show-coords_chr.raspberry.i70.l2k.err \\\n",
    "\"/workspace/hrarnc/software/mummer-4.0.0beta2/bin/show-coords \\\n",
    "-c \\\n",
    "-d \\\n",
    "-l \\\n",
    "-o \\\n",
    "-r \\\n",
    "-T \\\n",
    "chr_raspberry.i70.l2k.delta > show-coords_chr.raspberry.i70.l2k.txt\""
   ]
  },
  {
   "cell_type": "code",
   "execution_count": 63,
   "metadata": {},
   "outputs": [
    {
     "name": "stdout",
     "output_type": "stream",
     "text": []
    },
    {
     "data": {
      "image/png": "[encoded data removed]"
     },
     "metadata": {},
     "output_type": "display_data"
    }
   ],
   "source": [
    "cat chr_raspberry_clean.i70.l1k.graph.png | display"
   ]
  },
  {
   "cell_type": "code",
   "execution_count": 49,
   "metadata": {},
   "outputs": [
    {
     "name": "stdout",
     "output_type": "stream",
     "text": [
      "Job <385111> is submitted to default queue <lowpriority>.\n"
     ]
    }
   ],
   "source": [
    "bsub -J graph \\\n",
    "-o show-coords_chr.raspberry.i70.l1k.out \\\n",
    "-e show-coords_chr.raspberry.i70.l1k.err \\\n",
    "\"/workspace/hrarnc/software/mummer-4.0.0beta2/bin/show-coords \\\n",
    "-c \\\n",
    "-d \\\n",
    "-l \\\n",
    "-o \\\n",
    "-r \\\n",
    "-T \\\n",
    "chr_raspberry.i70.l1k.delta > show-coords_chr.raspberry.i70.l1k.txt\""
   ]
  },
  {
   "cell_type": "markdown",
   "metadata": {},
   "source": [
    "## 4. HiC contact map generation"
   ]
  },
  {
   "cell_type": "markdown",
   "metadata": {},
   "source": [
    "### 4.1 trying pretextmap"
   ]
  },
  {
   "cell_type": "code",
   "execution_count": 31,
   "metadata": {},
   "outputs": [
    {
     "name": "stdout",
     "output_type": "stream",
     "text": [
      "/workspace/hraczw/github/GA/Gillenia_genome/014.chr/official_chrs_revcomp/synteny\n",
      "(/workspace/hraczw/github/programs/pretextmap/hraczw_pretextmap) "
     ]
    },
    {
     "ename": "",
     "evalue": "1",
     "output_type": "error",
     "traceback": []
    }
   ],
   "source": [
    "pwd"
   ]
  },
  {
   "cell_type": "code",
   "execution_count": 32,
   "metadata": {},
   "outputs": [
    {
     "name": "stdout",
     "output_type": "stream",
     "text": [
      "(/workspace/hraczw/github/programs/pretextmap/hraczw_pretextmap) (/workspace/hraczw/github/programs/pretextmap/hraczw_pretextmap) (/workspace/hraczw/github/programs/pretextmap/hraczw_pretextmap) "
     ]
    },
    {
     "ename": "",
     "evalue": "1",
     "output_type": "error",
     "traceback": []
    }
   ],
   "source": [
    "cd ..\n",
    "mkdir pretextmap\n",
    "cd pretextmap"
   ]
  },
  {
   "cell_type": "code",
   "execution_count": 29,
   "metadata": {},
   "outputs": [
    {
     "name": "stdout",
     "output_type": "stream",
     "text": [
      "(base) "
     ]
    },
    {
     "ename": "",
     "evalue": "1",
     "output_type": "error",
     "traceback": []
    }
   ],
   "source": [
    "module unload pfr-python3/3.6.1\n",
    "module load conda"
   ]
  },
  {
   "cell_type": "code",
   "execution_count": 30,
   "metadata": {},
   "outputs": [
    {
     "name": "stdout",
     "output_type": "stream",
     "text": [
      "(/workspace/hraczw/github/programs/pretextmap/hraczw_pretextmap) "
     ]
    },
    {
     "ename": "",
     "evalue": "1",
     "output_type": "error",
     "traceback": []
    }
   ],
   "source": [
    "conda activate /workspace/hraczw/github/programs/pretextmap/hraczw_pretextmap"
   ]
  },
  {
   "cell_type": "code",
   "execution_count": 33,
   "metadata": {},
   "outputs": [
    {
     "name": "stdout",
     "output_type": "stream",
     "text": [
      "(/workspace/hraczw/github/programs/pretextmap/hraczw_pretextmap) (/workspace/hraczw/github/programs/pretextmap/hraczw_pretextmap) "
     ]
    },
    {
     "ename": "",
     "evalue": "1",
     "output_type": "error",
     "traceback": []
    }
   ],
   "source": [
    "HICR1_RAW=/workspace/hraczw/github/GA/Gillenia_genome/002.Fastp.trimming/R1.cleaned.specifiedAdapter.short.Q15.fq.gz\n",
    "HICR2_RAW=/workspace/hraczw/github/GA/Gillenia_genome/002.Fastp.trimming/R2.cleaned.specifiedAdapter.short.Q15.fq.gz"
   ]
  },
  {
   "cell_type": "code",
   "execution_count": 35,
   "metadata": {},
   "outputs": [
    {
     "name": "stdout",
     "output_type": "stream",
     "text": [
      "(/workspace/hraczw/github/programs/pretextmap/hraczw_pretextmap) Currently Loaded Modulefiles:\n",
      "  1) powerPlant/core     5) bamtools/2.4.0      9) ncbi-blast/2.2.30\n",
      "  2) perlbrew/0.76       6) augustus/3.2.2     10) BUSCO/v3.0.2\n",
      "  3) perl/bio-extras     7) emboss/6.5.7       11) conda/4.8.2\n",
      "  4) boost/1_61_0        8) hmmer/3.1b2        12) bwa/0.7.17\n",
      "(/workspace/hraczw/github/programs/pretextmap/hraczw_pretextmap) "
     ]
    },
    {
     "ename": "",
     "evalue": "1",
     "output_type": "error",
     "traceback": []
    }
   ],
   "source": [
    "module load bwa\n",
    "module list"
   ]
  },
  {
   "cell_type": "code",
   "execution_count": 36,
   "metadata": {},
   "outputs": [
    {
     "name": "stdout",
     "output_type": "stream",
     "text": [
      "Job <312207> is submitted to default queue <lowpriority>.\n",
      "(/workspace/hraczw/github/programs/pretextmap/hraczw_pretextmap) "
     ]
    },
    {
     "ename": "",
     "evalue": "1",
     "output_type": "error",
     "traceback": []
    }
   ],
   "source": [
    "bsub -J bwa \\\n",
    "-o bwa_index.out \\\n",
    "-e bwa_index.err \\\n",
    "\"bwa index /workspace/hraczw/github/GA/Gillenia_genome/014.chr/official_chrs_revcomp/gillenia_9chrs_official.fasta\""
   ]
  },
  {
   "cell_type": "code",
   "execution_count": 37,
   "metadata": {},
   "outputs": [
    {
     "name": "stdout",
     "output_type": "stream",
     "text": [
      "Job <312842> is submitted to default queue <lowpriority>.\n",
      "(/workspace/hraczw/github/programs/pretextmap/hraczw_pretextmap) "
     ]
    },
    {
     "ename": "",
     "evalue": "1",
     "output_type": "error",
     "traceback": []
    }
   ],
   "source": [
    "bsub -J map \\\n",
    "-n 40 \\\n",
    "-o bwa_map.out \\\n",
    "-e bwa_map.err \\\n",
    "\"bwa mem \\\n",
    "-t 40 \\\n",
    "/workspace/hraczw/github/GA/Gillenia_genome/014.chr/official_chrs_revcomp/gillenia_9chrs_official.fasta \\\n",
    "$HICR1_RAW \\\n",
    "$HICR2_RAW | PretextMap \\\n",
    "-o gillenia_9chrs.pretext\""
   ]
  },
  {
   "cell_type": "code",
   "execution_count": 39,
   "metadata": {},
   "outputs": [
    {
     "name": "stdout",
     "output_type": "stream",
     "text": [
      "(base) "
     ]
    },
    {
     "ename": "",
     "evalue": "1",
     "output_type": "error",
     "traceback": []
    }
   ],
   "source": [
    "conda deactivate"
   ]
  },
  {
   "cell_type": "code",
   "execution_count": 40,
   "metadata": {},
   "outputs": [],
   "source": [
    "module unload conda"
   ]
  },
  {
   "cell_type": "markdown",
   "metadata": {},
   "source": [
    "### 4.2 using juicerbox\n",
    "\n",
    "* generating a .hic file for visualisation\n",
    " * fasta to gpa file\n",
    " * HiC mapping bam file\n",
    " * from gpa to .assembly file"
   ]
  },
  {
   "cell_type": "code",
   "execution_count": null,
   "metadata": {},
   "outputs": [],
   "source": [
    "bsub -J map \\\n",
    "-n 40 \\\n",
    "-o bwa_map.out \\\n",
    "-e bwa_map.err \\\n",
    "\"bwa mem \\\n",
    "-t 40 \\\n",
    "/workspace/hraczw/github/GA/Gillenia_genome/014.chr/official_chrs_revcomp/gillenia_9chrs_official.fasta \\\n",
    "$HICR1_RAW \\\n",
    "$HICR2_RAW | PretextMap \\\n",
    "-o gillenia_9chrs.pretext\""
   ]
  },
  {
   "cell_type": "code",
   "execution_count": null,
   "metadata": {},
   "outputs": [],
   "source": []
  },
  {
   "cell_type": "markdown",
   "metadata": {},
   "source": [
    "### 5. put together with unanchored seqs"
   ]
  },
  {
   "cell_type": "code",
   "execution_count": 9,
   "metadata": {},
   "outputs": [],
   "source": [
    "# extract unanchored seqs based on unanchored IDs\n",
    "\n",
    "RAGOO_SCAFF_REV=/workspace/hraczw/github/GA/Gillenia_genome/005.GapFilling/scaff_ragoo_gapfilled_noContamination.revcomp.rename.fasta"
   ]
  },
  {
   "cell_type": "code",
   "execution_count": 3,
   "metadata": {},
   "outputs": [
    {
     "name": "stdout",
     "output_type": "stream",
     "text": [
      "Currently Loaded Modulefiles:\n",
      "  1) powerPlant/core    4) git/2.21.0         7) asub/2.1\n",
      "  2) texlive/20151117   5) perlbrew/0.76      8) ncbi-blast/2.6.0\n",
      "  3) pandoc/1.19.2      6) perl/5.28.0\n"
     ]
    }
   ],
   "source": [
    "module load ncbi-blast\n",
    "module list"
   ]
  },
  {
   "cell_type": "code",
   "execution_count": 2,
   "metadata": {},
   "outputs": [],
   "source": [
    "cd /workspace/hraczw/github/GA/Gillenia_genome/014.chr/official_chrs_revcomp/"
   ]
  },
  {
   "cell_type": "code",
   "execution_count": 5,
   "metadata": {},
   "outputs": [
    {
     "name": "stdout",
     "output_type": "stream",
     "text": [
      "contig_1689_RaGOO\n",
      "contig_7_RaGOO\n",
      "contig_12_RaGOO\n",
      "contig_325_RaGOO\n",
      "contig_156_RaGOO\n",
      "contig_952_RaGOO\n",
      "contig_223_RaGOO\n",
      "contig_2218_RaGOO\n",
      "contig_111_RaGOO\n",
      "contig_506_RaGOO\n"
     ]
    }
   ],
   "source": [
    "head unanchoredIDs.txt"
   ]
  },
  {
   "cell_type": "code",
   "execution_count": 8,
   "metadata": {
    "collapsed": true,
    "jupyter": {
     "outputs_hidden": true
    }
   },
   "outputs": [
    {
     "name": "stdout",
     "output_type": "stream",
     "text": [
      "USAGE\n",
      "  makeblastdb [-h] [-help] [-in input_file] [-input_type type]\n",
      "    -dbtype molecule_type [-title database_title] [-parse_seqids]\n",
      "    [-hash_index] [-mask_data mask_data_files] [-mask_id mask_algo_ids]\n",
      "    [-mask_desc mask_algo_descriptions] [-gi_mask]\n",
      "    [-gi_mask_name gi_based_mask_names] [-out database_name]\n",
      "    [-max_file_sz number_of_bytes] [-logfile File_Name] [-taxid TaxID]\n",
      "    [-taxid_map TaxIDMapFile] [-version]\n",
      "\n",
      "DESCRIPTION\n",
      "   Application to create BLAST databases, version 2.6.0+\n",
      "\n",
      "Use '-help' to print detailed descriptions of command line arguments\n"
     ]
    }
   ],
   "source": [
    "makeblastdb -h"
   ]
  },
  {
   "cell_type": "code",
   "execution_count": 10,
   "metadata": {},
   "outputs": [
    {
     "name": "stdout",
     "output_type": "stream",
     "text": [
      "\n",
      "\n",
      "Building a new DB, current time: 09/28/2020 10:17:32\n",
      "New DB name:   /powerplant/workspace/hraczw/github/GA/Gillenia_genome/014.chr/official_chrs_revcomp/scaff_ragoo_gapfilled_noContamination.revcomp.rename\n",
      "New DB title:  /workspace/hraczw/github/GA/Gillenia_genome/005.GapFilling/scaff_ragoo_gapfilled_noContamination.revcomp.rename.fasta\n",
      "Sequence type: Nucleotide\n",
      "Keep MBits: T\n",
      "Maximum file size: 1000000000B\n",
      "Adding sequences from FASTA; added 1524 sequences in 4.37611 seconds.\n"
     ]
    }
   ],
   "source": [
    "makeblastdb -in $RAGOO_SCAFF_REV -dbtype nucl -parse_seqids -out scaff_ragoo_gapfilled_noContamination.revcomp.rename"
   ]
  },
  {
   "cell_type": "code",
   "execution_count": 13,
   "metadata": {},
   "outputs": [],
   "source": [
    "blastdbcmd -db scaff_ragoo_gapfilled_noContamination.revcomp.rename -dbtype nucl -entry_batch unanchoredIDs.txt -out unanchoredSeqs.fasta"
   ]
  },
  {
   "cell_type": "code",
   "execution_count": 14,
   "metadata": {
    "collapsed": true,
    "jupyter": {
     "outputs_hidden": true
    }
   },
   "outputs": [
    {
     "name": "stdout",
     "output_type": "stream",
     "text": [
      ">contig_1689_RaGOO \n",
      "AGGGCTTCAGTTCAAAATGAGCTTTGATATTCAAAGAGTGCTACTAAGACCACTATTTGACTCTATTTTCCCATCCAATT\n",
      "TATAAGTGTATTTGTCATGAATATAGTAGACAACAAGATTAAAAGTACATTCAATGTTTATTTACAATTTATTTAATATG\n",
      "CATATGTCGTTTTATTTAATAATTTGTAACTGGCTCAATTTACAGATGACCTCGTTGAAGGCAGAAGTTGAAGACCTGAA\n",
      "GCAAAAGCTCGCGTCTCAGGAAAGCCGGATGACCCAAATCTTACACGCCCTCCAATTGTCCAGCATTCCATTGAATATGC\n",
      "CATCATCCGATTCCCAGCCCCCTCACTAGTTACTTCGTTTTAGGATTATTTGATTTTATTATTGAATATTTTCTTCGTAT\n",
      "ATTTCTTTATATAATATAATTTGTTTTTCTACATTGTTTATTATATTTTATTGTCTTTTAAATACCAATTAATTAAATAT\n",
      "ATATATAAAATATAAAATATATAAAATATAAAAATATAAAAAAATTAAAAATTAAATATTTTGAGCGACGAAATATTTCG\n",
      "TCACTTAAAGTCTAACAATAACTTAGGCGACGAAATAATTTCATCGCCAAAAATAGTCGCGCGATTGTGAATTGGGCGAC\n",
      "GAACGTATTTCCTTCGTCACCCAAATGTTTGGTCGACGGACTTTGAGCGGCGAATTTTGGGCGACGAATTATTGGTCGCC\n"
     ]
    }
   ],
   "source": [
    "head unanchoredSeqs.fasta"
   ]
  },
  {
   "cell_type": "code",
   "execution_count": 25,
   "metadata": {},
   "outputs": [],
   "source": [
    "python << EOF\n",
    "\n",
    "f = open(\"concatenatedUnanchoredSeqs.fasta\",'w')\n",
    "seqs = []\n",
    "\n",
    "with open(\"unanchoredSeqs.fasta\") as fasta:\n",
    "    prev_seq = []\n",
    "    for line in fasta:\n",
    "        if line.startswith(\">\"):\n",
    "            seqs.append(\"\".join(prev_seq))\n",
    "            prev_seq = []\n",
    "        else:\n",
    "            prev_seq.append(line.rstrip())\n",
    "\n",
    "# This appends the lines after the last \">\"\n",
    "seqs.append(\"\".join(prev_seq))\n",
    "\n",
    "f.write(\">Chr00\\n\")\n",
    "string = \"NNNNNNNNNNNNNNNNNNNNNNNNNNNNNNNNNNNNNNNNNNNNNNNNNNNNNNNNNNNNNNNNNNNNNNNNNNNNNNNNNNNNNNNNNNNNNNNNNNNN\".join(seqs)\n",
    "string_remove_firstGap = string[100:]\n",
    "f.write(string_remove_firstGap)\n",
    "\n",
    "EOF"
   ]
  },
  {
   "cell_type": "code",
   "execution_count": 34,
   "metadata": {},
   "outputs": [],
   "source": [
    "module load BBMap/38.33"
   ]
  },
  {
   "cell_type": "code",
   "execution_count": 38,
   "metadata": {
    "collapsed": true,
    "jupyter": {
     "outputs_hidden": true
    }
   },
   "outputs": [
    {
     "name": "stdout",
     "output_type": "stream",
     "text": [
      "java -ea -Xmx200m -cp /software/bioinformatics/BBMap-38.33/current/ jgi.ReformatReads in=concatenatedUnanchoredSeqs.fasta out=concatenatedUnanchoredSeqs_multilines.fasta fastawrap=80\n",
      "Executing jgi.ReformatReads [in=concatenatedUnanchoredSeqs.fasta, out=concatenatedUnanchoredSeqs_multilines.fasta, fastawrap=80]\n",
      "\n",
      "Input is being processed as unpaired\n",
      "Input:                  \t1 reads          \t24555086 bases\n",
      "Output:                 \t1 reads (100.00%) \t24555086 bases (100.00%)\n",
      "\n",
      "Time:                         \t1.340 seconds.\n",
      "Reads Processed:           1 \t0.00k reads/sec\n",
      "Bases Processed:      24555k \t18.32m bases/sec\n"
     ]
    }
   ],
   "source": [
    "reformat.sh in=concatenatedUnanchoredSeqs.fasta out=concatenatedUnanchoredSeqs_multilines.fasta fastawrap=80"
   ]
  },
  {
   "cell_type": "code",
   "execution_count": 39,
   "metadata": {
    "collapsed": true,
    "jupyter": {
     "outputs_hidden": true
    }
   },
   "outputs": [
    {
     "name": "stdout",
     "output_type": "stream",
     "text": [
      ">Chr00\n",
      "AGGGCTTCAGTTCAAAATGAGCTTTGATATTCAAAGAGTGCTACTAAGACCACTATTTGACTCTATTTTCCCATCCAATT\n",
      "TATAAGTGTATTTGTCATGAATATAGTAGACAACAAGATTAAAAGTACATTCAATGTTTATTTACAATTTATTTAATATG\n",
      "CATATGTCGTTTTATTTAATAATTTGTAACTGGCTCAATTTACAGATGACCTCGTTGAAGGCAGAAGTTGAAGACCTGAA\n",
      "GCAAAAGCTCGCGTCTCAGGAAAGCCGGATGACCCAAATCTTACACGCCCTCCAATTGTCCAGCATTCCATTGAATATGC\n",
      "CATCATCCGATTCCCAGCCCCCTCACTAGTTACTTCGTTTTAGGATTATTTGATTTTATTATTGAATATTTTCTTCGTAT\n",
      "ATTTCTTTATATAATATAATTTGTTTTTCTACATTGTTTATTATATTTTATTGTCTTTTAAATACCAATTAATTAAATAT\n",
      "ATATATAAAATATAAAATATATAAAATATAAAAATATAAAAAAATTAAAAATTAAATATTTTGAGCGACGAAATATTTCG\n",
      "TCACTTAAAGTCTAACAATAACTTAGGCGACGAAATAATTTCATCGCCAAAAATAGTCGCGCGATTGTGAATTGGGCGAC\n",
      "GAACGTATTTCCTTCGTCACCCAAATGTTTGGTCGACGGACTTTGAGCGGCGAATTTTGGGCGACGAATTATTGGTCGCC\n"
     ]
    }
   ],
   "source": [
    "head concatenatedUnanchoredSeqs_multilines.fasta"
   ]
  }
 ],
 "metadata": {
  "kernelspec": {
   "display_name": "Bash",
   "language": "bash",
   "name": "bash"
  },
  "language_info": {
   "codemirror_mode": "shell",
   "file_extension": ".sh",
   "mimetype": "text/x-sh",
   "name": "bash"
  }
 },
 "nbformat": 4,
 "nbformat_minor": 4
}
