{
 "cells": [
  {
   "cell_type": "markdown",
   "metadata": {},
   "source": [
    "# Long read assembly stats & BUSCO"
   ]
  },
  {
   "cell_type": "markdown",
   "metadata": {},
   "source": [
    "## 1. Filter contigs < 1000 bases"
   ]
  },
  {
   "cell_type": "code",
   "execution_count": 1,
   "metadata": {},
   "outputs": [],
   "source": [
    "WORKDIR=/workspace/hraczw/github/GA/Gillenia_genome/100.assemblies"
   ]
  },
  {
   "cell_type": "code",
   "execution_count": 3,
   "metadata": {},
   "outputs": [
    {
     "name": "stdout",
     "output_type": "stream",
     "text": [
      "Job <374708> is submitted to default queue <normal>.\n",
      "Job <374709> is submitted to default queue <normal>.\n"
     ]
    }
   ],
   "source": [
    "# filter short seqs from assemblies\n",
    "\n",
    "python << EOF\n",
    "\n",
    "import sys, os\n",
    "\n",
    "filename = '$WORKDIR/assemblyFileNames.txt'\n",
    "f = open(filename,'r')\n",
    "\n",
    "for line in f:\n",
    "    sampleName = line.split('.fasta')[0]\n",
    "    os.system('bsub -J preseq \\\n",
    "               -o $WORKDIR/' + sampleName + '_preseq.out \\\n",
    "               -e $WORKDIR/' + sampleName + '_preseq.err \\\n",
    "               \"perl /workspace/hraczw/github/programs/prinseq-lite-0.20.4/prinseq-lite.pl \\\n",
    "               -fasta $WORKDIR/' + sampleName + '.fasta \\\n",
    "               -out_good $WORKDIR/' + sampleName + '.ml1000 \\\n",
    "               -out_bad $WORKDIR/' + sampleName + '.short \\\n",
    "               -min_len 1000\"')\n",
    "\n",
    "f.close()\n",
    "\n",
    "EOF"
   ]
  },
  {
   "cell_type": "markdown",
   "metadata": {},
   "source": [
    "## 2. Assembly stats"
   ]
  },
  {
   "cell_type": "code",
   "execution_count": 4,
   "metadata": {},
   "outputs": [],
   "source": [
    "module load assemblathon_stats/14dfdab"
   ]
  },
  {
   "cell_type": "code",
   "execution_count": 5,
   "metadata": {},
   "outputs": [
    {
     "name": "stdout",
     "output_type": "stream",
     "text": [
      "Job <374710> is submitted to default queue <normal>.\n",
      "Job <374711> is submitted to default queue <normal>.\n"
     ]
    }
   ],
   "source": [
    "python << EOF\n",
    "\n",
    "import sys, os\n",
    "\n",
    "filename = '$WORKDIR/assemblyFileNames.txt'\n",
    "f = open(filename,'r')\n",
    "\n",
    "for line in f:\n",
    "    sampleName = line.split('.fasta')[0]\n",
    "    os.system('bsub -J stats \\\n",
    "               -o $WORKDIR/' + sampleName + '_stats.ml1000.out \\\n",
    "               -e $WORKDIR/' + sampleName + '_stats.ml1000.err \\\n",
    "               \"assemblathon_stats.pl $WORKDIR/' + sampleName + '.ml1000.fasta\"')\n",
    "\n",
    "f.close()\n",
    "\n",
    "EOF"
   ]
  },
  {
   "cell_type": "code",
   "execution_count": 6,
   "metadata": {},
   "outputs": [
    {
     "name": "stdout",
     "output_type": "stream",
     "text": [
      "Flye_all_i1.assembly\t\n",
      "                                         Number of scaffolds       2184\n",
      "                                     Total size of scaffolds  315818528\n",
      "                                            Longest scaffold   12730551\n",
      "                                           Shortest scaffold       1022\n",
      "                                Number of scaffolds > 10K nt       1614  73.9%\n",
      "                               Number of scaffolds > 100K nt        636  29.1%\n",
      "                                 Number of scaffolds > 1M nt         42   1.9%\n",
      "                                         N50 scaffold length     511599\n",
      "                                                 scaffold %N       0.00\n",
      "\n",
      "\n",
      "\n",
      "Flye_all_trimmed_i1.assembly\t\n",
      "                                         Number of scaffolds       2167\n",
      "                                     Total size of scaffolds  315804247\n",
      "                                            Longest scaffold    8832208\n",
      "                                           Shortest scaffold       1048\n",
      "                                Number of scaffolds > 10K nt       1586  73.2%\n",
      "                               Number of scaffolds > 100K nt        636  29.3%\n",
      "                                 Number of scaffolds > 1M nt         45   2.1%\n",
      "                                         N50 scaffold length     504287\n",
      "                                                 scaffold %N       0.00\n",
      "\n",
      "\n",
      "\n"
     ]
    }
   ],
   "source": [
    "python << EOF\n",
    "\n",
    "import sys, os\n",
    "\n",
    "filename = '$WORKDIR/assemblyFileNames.txt'\n",
    "f = open(filename,'r')\n",
    "f1 = open('$WORKDIR/assemblyStats.ml1000.txt','w')\n",
    "\n",
    "for line in f:\n",
    "    sampleName = line.split('.fasta')[0]\n",
    "    statsFile = open('$WORKDIR/' + sampleName + '_stats.ml1000.out','r')\n",
    "#    print ('stats for ' + sampleName)\n",
    "    print (sampleName + '\\t')\n",
    "    f1.write(sampleName + '\\t')\n",
    "    for line1 in statsFile:\n",
    "        if 'Number of scaffolds' in line1 and '>' not in line1:\n",
    "            print (line1.split('\\n')[0])\n",
    "            f1.write(line1.split('\\n')[0] + '\\t')\n",
    "        if 'Total size of scaffolds' in line1:\n",
    "            print (line1.split('\\n')[0])\n",
    "            f1.write(line1.split('\\n')[0] + '\\t')\n",
    "        if 'Longest scaffold' in line1:\n",
    "            print (line1.split('\\n')[0])\n",
    "            f1.write(line1.split('\\n')[0] + '\\t')            \n",
    "        if 'Shortest scaffold' in line1:\n",
    "            print (line1.split('\\n')[0])\n",
    "            f1.write(line1.split('\\n')[0] + '\\t')\n",
    "        if 'Number of scaffolds > 10K nt' in line1:\n",
    "            print (line1.split('\\n')[0])\n",
    "            f1.write(line1.split('\\n')[0] + '\\t')\n",
    "        if 'Number of scaffolds > 100K nt' in line1:\n",
    "            print (line1.split('\\n')[0])\n",
    "            f1.write(line1.split('\\n')[0] + '\\t')        \n",
    "        if 'Number of scaffolds > 1M nt' in line1:\n",
    "            print (line1.split('\\n')[0])\n",
    "            f1.write(line1.split('\\n')[0] + '\\t')\n",
    "        if 'N50 scaffold length' in line1:\n",
    "            print (line1.split('\\n')[0])\n",
    "            f1.write(line1.split('\\n')[0] + '\\t')\n",
    "        if 'scaffold %N' in line1:\n",
    "            print (line1)\n",
    "            f1.write(line1 + '\\n')\n",
    "    print ('\\n')\n",
    "    statsFile.close()\n",
    "f1.close()\n",
    "f.close()\n",
    "\n",
    "EOF"
   ]
  },
  {
   "cell_type": "markdown",
   "metadata": {},
   "source": [
    "## 3. BUSCO"
   ]
  },
  {
   "cell_type": "code",
   "execution_count": 7,
   "metadata": {},
   "outputs": [],
   "source": [
    "mkdir $WORKDIR/BUSCO"
   ]
  },
  {
   "cell_type": "code",
   "execution_count": 8,
   "metadata": {},
   "outputs": [],
   "source": [
    "cp /workspace/hraczw/github/GA/Bilberry_genome/100.all.assemblies/BUSCO/config.ini $WORKDIR/BUSCO"
   ]
  },
  {
   "cell_type": "code",
   "execution_count": 9,
   "metadata": {},
   "outputs": [],
   "source": [
    "export BUSCO_CONFIG_FILE=$WORKDIR/BUSCO/config.ini"
   ]
  },
  {
   "cell_type": "code",
   "execution_count": 11,
   "metadata": {},
   "outputs": [
    {
     "name": "stdout",
     "output_type": "stream",
     "text": [
      "Currently Loaded Modulefiles:\n",
      "  1) powerPlant/core             11) cegma/v2.5\n",
      "  2) texlive/20151117            12) assemblathon_stats/14dfdab\n",
      "  3) pandoc/1.19.2               13) pfr-python3/3.6.1\n",
      "  4) git/2.21.0                  14) boost/1_61_0\n",
      "  5) perlbrew/0.76               15) bamtools/2.4.0\n",
      "  6) asub/2.1                    16) perl/bio-extras\n",
      "  7) geneid/v1.4.4               17) augustus/3.2.2\n",
      "  8) wise/2.4.1                  18) emboss/6.5.7\n",
      "  9) hmmer/3.1b2                 19) BUSCO/v3.0.2\n",
      " 10) ncbi-blast/2.2.25\n"
     ]
    }
   ],
   "source": [
    "module unload perl\n",
    "module load BUSCO\n",
    "module list"
   ]
  },
  {
   "cell_type": "code",
   "execution_count": 12,
   "metadata": {},
   "outputs": [],
   "source": [
    "export AUGUSTUS_CONFIG_PATH=/workspace/hraczw/github/GA/Bilberry_genome/100.all.assemblies/BUSCO/config"
   ]
  },
  {
   "cell_type": "code",
   "execution_count": null,
   "metadata": {},
   "outputs": [],
   "source": [
    "# if it is busco v5\n",
    "# export path incorperating with singularity\n",
    "\n",
    "export SINGULARITYENV_AUGUSTUS_CONFIG_PATH=/workspace/hraczw/scriptomics/BUSCO/config/"
   ]
  },
  {
   "cell_type": "code",
   "execution_count": 15,
   "metadata": {},
   "outputs": [
    {
     "name": "stdout",
     "output_type": "stream",
     "text": [
      "Job <374717> is submitted to default queue <normal>.\n",
      "Job <374718> is submitted to default queue <normal>.\n"
     ]
    }
   ],
   "source": [
    "python << EOF\n",
    "\n",
    "import sys, os\n",
    "\n",
    "sampleFile = open('$WORKDIR/assemblyFileNames.txt','r')\n",
    "\n",
    "for line in sampleFile:\n",
    "    sampleName = line.split('.fasta')[0]\n",
    "    os.system('mkdir $WORKDIR/BUSCO/' + sampleName + '_tmp')\n",
    "    os.system('bsub -J BUSCO \\\n",
    "               -n 12 \\\n",
    "               -o $WORKDIR/BUSCO/' + sampleName + '_BUSCO.out \\\n",
    "               -e $WORKDIR/BUSCO/' + sampleName + '_BUSCO.err \\\n",
    "               \"run_BUSCO.py \\\n",
    "                -i $WORKDIR/' + sampleName + '.fasta \\\n",
    "                -l /workspace/hraczw/github/programs/embryophyta_odb10 \\\n",
    "                -f \\\n",
    "                -c 12 \\\n",
    "                -o ' + sampleName + '_BUSCO \\\n",
    "                -t $WORKDIR/BUSCO/' + sampleName + '_tmp \\\n",
    "                -m genome\"')\n",
    "\n",
    "sampleFile.close()\n",
    "\n",
    "EOF"
   ]
  },
  {
   "cell_type": "code",
   "execution_count": null,
   "metadata": {},
   "outputs": [],
   "source": [
    "python << EOF\n",
    "\n",
    "import sys, os\n",
    "\n",
    "sampleFile = open('$WORKDIR/assemblyFileNames.txt','r')\n",
    "statsFile = open('$WORKDIR/BUSCO/BUSCO_stats.txt','w')\n",
    "\n",
    "print ('Complete\\tSingle\\tDuplicate\\n')\n",
    "statsFile.write('SampleID\\tComplete\\tSingle\\tDuplicate\\tFragmented\\tMissing\\n')\n",
    "for line in sampleFile:\n",
    "    sampleName = line.split('.fasta')[0]\n",
    "    print (sampleName + '\\t')\n",
    "    statsFile.write(sampleName + '\\t')\n",
    "    BUSCO_result = open('$WORKDIR/BUSCO/run_' + sampleName + '_BUSCO/short_summary_' + sampleName + '_BUSCO.txt','r')\n",
    "    for line1 in BUSCO_result:\n",
    "        if 'C:' in line1:\n",
    "            print (line1.split('C:')[1].split('[')[0] + '\\t')\n",
    "            print (line1.split('[S:')[1].split(',')[0] + '\\t')\n",
    "            print (line1.split('D:')[1].split(']')[0] + '\\t')\n",
    "            print (line1.split(',F:')[1].split(',')[0] + '\\t')\n",
    "            print (line1.split(',M:')[1].split(',')[0] + '\\n')\n",
    "            statsFile.write(line1.split('C:')[1].split('[')[0] + '\\t' + \\\n",
    "                            line1.split('[S:')[1].split(',')[0] + '\\t' + \\\n",
    "                            line1.split('D:')[1].split(']')[0] + '\\t' + \\\n",
    "                            line1.split(',F:')[1].split(',')[0] + '\\t' + \\\n",
    "                            line1.split(',M:')[1].split(',')[0] + '\\n')\n",
    "    BUSCO_result.close()\n",
    "    \n",
    "sampleFile.close()\n",
    "statsFile.close()\n",
    "\n",
    "EOF"
   ]
  }
 ],
 "metadata": {
  "kernelspec": {
   "display_name": "Bash",
   "language": "bash",
   "name": "bash"
  },
  "language_info": {
   "codemirror_mode": "shell",
   "file_extension": ".sh",
   "mimetype": "text/x-sh",
   "name": "bash"
  }
 },
 "nbformat": 4,
 "nbformat_minor": 4
}
