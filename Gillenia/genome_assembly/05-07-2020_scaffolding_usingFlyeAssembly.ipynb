{
 "cells": [
  {
   "cell_type": "markdown",
   "metadata": {},
   "source": [
    "# Scaffolding long-read scaffolded 10x contigs "
   ]
  },
  {
   "cell_type": "code",
   "execution_count": 1,
   "metadata": {},
   "outputs": [
    {
     "name": "stdout",
     "output_type": "stream",
     "text": [
      "Currently Loaded Modulefiles:\n",
      "  1) powerPlant/core    4) git/2.21.0         7) asub/2.1\n",
      "  2) texlive/20151117   5) perlbrew/0.76      8) links/v1.8.5\n",
      "  3) pandoc/1.19.2      6) perl/5.28.0\n"
     ]
    }
   ],
   "source": [
    "module load links/v1.8.5\n",
    "module list"
   ]
  },
  {
   "cell_type": "code",
   "execution_count": 2,
   "metadata": {},
   "outputs": [
    {
     "name": "stdout",
     "output_type": "stream",
     "text": [
      "Unknown option: h\n",
      "Usage: /software/bioinformatics/links_v1.8.5/LINKS [v1.8.5]\n",
      "-f  sequences to scaffold (Multi-FASTA format, required)\n",
      "-s  file-of-filenames, full path to long sequence reads or MPET pairs [see below] (Multi-FASTA/fastq format, required)\n",
      "-m  MPET reads (default -m 1 = yes, default = no, optional\n",
      "\t! DO NOT SET IF NOT USING MPET. WHEN SET, LINKS WILL EXPECT A SPECIAL FORMAT UNDER -s\n",
      "\t! Paired MPET reads in their original outward orientation <- -> must be separated by \":\"\n",
      "\t  >template_name\n",
      "\t  ACGACACTATGCATAAGCAGACGAGCAGCGACGCAGCACG:ATATATAGCGCACGACGCAGCACAGCAGCAGACGAC\n",
      "-d  distance between k-mer pairs (ie. target distances to re-scaffold on. default -d 4000, optional)\n",
      "\tMultiple distances are separated by comma. eg. -d 500,1000,2000,3000\n",
      "-k  k-mer value (default -k 15, optional)\n",
      "-t  step of sliding window when extracting k-mer pairs from long reads (default -t 2, optional)\n",
      "\tMultiple steps are separated by comma. eg. -t 10,5\n",
      "-o  offset position for extracting k-mer pairs (default -o 0, optional)\n",
      "-e  error (%) allowed on -d distance   e.g. -e 0.1  == distance +/- 10% (default -e 0.1, optional)\n",
      "-l  minimum number of links (k-mer pairs) to compute scaffold (default -l 5, optional)\n",
      "-a  maximum link ratio between two best contig pairs (default -a 0.3, optional)\n",
      "\t *higher values lead to least accurate scaffolding*\n",
      "-z  minimum contig length to consider for scaffolding (default -z 500, optional)\n",
      "-b  base name for your output files (optional)\n",
      "-r  Bloom filter input file for sequences supplied in -s (optional, if none provided will output to .bloom)\n",
      "\t NOTE: BLOOM FILTER MUST BE DERIVED FROM THE SAME FILE SUPPLIED IN -f WITH SAME -k VALUE\n",
      "\t IF YOU DO NOT SUPPLY A BLOOM FILTER, ONE WILL BE CREATED (.bloom)\n",
      "-p  Bloom filter false positive rate (default -p 0.001, optional; increase to prevent memory allocation errors)\n",
      "-x  Turn off Bloom filter functionality (-x 1 = yes, default = no, optional)\n",
      "-v  Runs in verbose mode (-v 1 = yes, default = no, optional)\n",
      "\n",
      "Error: Missing mandatory options -f and -s.\n",
      "\n"
     ]
    },
    {
     "ename": "",
     "evalue": "255",
     "output_type": "error",
     "traceback": []
    }
   ],
   "source": [
    "LINKS -h"
   ]
  },
  {
   "cell_type": "code",
   "execution_count": 3,
   "metadata": {},
   "outputs": [],
   "source": [
    "WORKDIR=/powerplant/workspace/hraczw/github/GA/Gillenia_genome/004.Scaffolding_10Xcontigs"
   ]
  },
  {
   "cell_type": "code",
   "execution_count": 4,
   "metadata": {},
   "outputs": [
    {
     "name": "stdout",
     "output_type": "stream",
     "text": [
      "Job <231622> is submitted to default queue <lowpriority>.\n"
     ]
    }
   ],
   "source": [
    "bsub -J links \\\n",
    "-m aklppb34 \\\n",
    "-o $WORKDIR/k21_t20_d5000/links_d45k21t10.assembly.out \\\n",
    "-e $WORKDIR/k21_t20_d5000/links_d30k21t10.assembly.err \\\n",
    "\"LINKS \\\n",
    "-f /workspace/hraczw/github/GA/Gillenia_genome/004.Scaffolding_10Xcontigs/k21_t20_d5000/scaffolds_k21_t10_d40000.scaffolds.fa \\\n",
    "-s $WORKDIR/ONT_assembly_files.txt \\\n",
    "-d 45000 \\\n",
    "-k 21 \\\n",
    "-t 10 \\\n",
    "-b $WORKDIR/k21_t20_d5000/scaffolds_k21_t10_d45000_assembly\""
   ]
  },
  {
   "cell_type": "code",
   "execution_count": 5,
   "metadata": {},
   "outputs": [
    {
     "name": "stdout",
     "output_type": "stream",
     "text": [
      "/workspace/hraczw/github/GA/Gillenia_genome/100.assemblies/Flye_all_i1.assembly.ml1000.fasta\n"
     ]
    }
   ],
   "source": [
    "cat $WORKDIR/ONT_assembly_files.txt"
   ]
  }
 ],
 "metadata": {
  "kernelspec": {
   "display_name": "Bash",
   "language": "bash",
   "name": "bash"
  },
  "language_info": {
   "codemirror_mode": "shell",
   "file_extension": ".sh",
   "mimetype": "text/x-sh",
   "name": "bash"
  }
 },
 "nbformat": 4,
 "nbformat_minor": 4
}
