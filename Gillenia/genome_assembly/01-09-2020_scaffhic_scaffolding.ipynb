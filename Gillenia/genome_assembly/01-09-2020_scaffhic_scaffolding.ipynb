{
 "cells": [
  {
   "cell_type": "markdown",
   "metadata": {},
   "source": [
    "# Testing scaffhic program for HiC scaffolding\n",
    "\n",
    "Link to [github](https://github.com/wtsi-hpag/scaffHiC)"
   ]
  },
  {
   "cell_type": "code",
   "execution_count": null,
   "metadata": {},
   "outputs": [],
   "source": [
    "$ /full/path/to/scaffhic/src/scaffhic -nodes 30 -score 200 -depth 50 -length 500000 \\\n",
    "             -fq1 GM12878-HiC_1.fastq.gz -fq2 GM12878-HiC_2.fastq.gz genome_assembly.fasta genome-scaffhic.fasta \\\n",
    "      \n",
    "       $ /full/path/to/scaffhic/src/scaffhic -nodes 30 -score 200 -depth 50 -length 500000 \\\n",
    "             -map genome-hic.map -plot genome-hic-length.png -file 0 \\\n",
    "             -fq1 GM12878-HiC_1.fastq.gz -fq2 GM12878-HiC_2.fastq.gz genome-scaffhic.fasta genome-hic2.fasta \\\n",
    "      \n",
    "       After the above two steps, You now have  \n",
    "          1. Scaffolded assembly file: genome-scaffhic.fasta; \n",
    "          2. HiC map: genome-hic.map;  \n",
    "          3. HiC length distribution image: genome-hic-length.png \n",
    "          4. Assembly file produced in the visualization step:  genome-hic2.fasta \n",
    "             This file is not used, but it might be slightly better than genome-scaffhic.fasta \n",
    "             The visualization results are based on genome-scaffhic.fasta \n",
    "             \n",
    "      To view it on a desktop linux or Mac laptop use PretextView https://github.com/wtsi-hpag/PretextView  \\\n",
    "      $ ./PretextView genome-hic.map"
   ]
  },
  {
   "cell_type": "code",
   "execution_count": 1,
   "metadata": {},
   "outputs": [],
   "source": [
    "export PATH=/workspace/hraczw/github/programs/scaffhic/src/:$PATH"
   ]
  },
  {
   "cell_type": "code",
   "execution_count": 73,
   "metadata": {},
   "outputs": [
    {
     "name": "stdout",
     "output_type": "stream",
     "text": [
      "Currently Loaded Modulefiles:\n",
      "  1) powerPlant/core    4) git/2.21.0         7) asub/2.1\n",
      "  2) texlive/20151117   5) perlbrew/0.76      8) bwa/0.7.17\n",
      "  3) pandoc/1.19.2      6) perl/5.28.0\n"
     ]
    }
   ],
   "source": [
    "module unload conda\n",
    "module list"
   ]
  },
  {
   "cell_type": "code",
   "execution_count": 74,
   "metadata": {},
   "outputs": [
    {
     "name": "stdout",
     "output_type": "stream",
     "text": [
      "(base) "
     ]
    },
    {
     "ename": "",
     "evalue": "1",
     "output_type": "error",
     "traceback": []
    }
   ],
   "source": [
    "module load conda"
   ]
  },
  {
   "cell_type": "code",
   "execution_count": 75,
   "metadata": {},
   "outputs": [
    {
     "name": "stdout",
     "output_type": "stream",
     "text": [
      "deactivate does not accept arguments\n",
      "remainder_args: ['/workspace/hraczw/github/programs/pretextmap/hraczw_pretextmap']\n",
      "\n",
      "(base) "
     ]
    },
    {
     "ename": "",
     "evalue": "1",
     "output_type": "error",
     "traceback": []
    }
   ],
   "source": [
    "conda deactivate /workspace/hraczw/github/programs/pretextmap/hraczw_pretextmap"
   ]
  },
  {
   "cell_type": "code",
   "execution_count": 72,
   "metadata": {},
   "outputs": [
    {
     "name": "stdout",
     "output_type": "stream",
     "text": [
      "Usage: scaffhic -nodes 30 -gap 200 -score 200 -depth 50 -length 200000 -fq1 Input_read_1 -fq2 Input_read_2 <input_assembly_fasta/q_file> <Output_scaffold_file>\n",
      "     nodes  (30)     - Number of CPUs requested\n",
      "     depth  (50)     - Number of colums of Partner Matrix\n",
      "     score  (200)    - Score of Contig Distance Index (CDI)\n",
      "     length (200000) - Minimum contig length considering for scaffolding\n",
      "     fq1             - Input fastq read_1\n",
      "     fq2             - Input fastq read_2\n"
     ]
    },
    {
     "ename": "",
     "evalue": "1",
     "output_type": "error",
     "traceback": []
    }
   ],
   "source": [
    "scaffhic"
   ]
  },
  {
   "cell_type": "code",
   "execution_count": 4,
   "metadata": {},
   "outputs": [],
   "source": [
    "mkdir 016.scaffhic"
   ]
  },
  {
   "cell_type": "code",
   "execution_count": 5,
   "metadata": {},
   "outputs": [],
   "source": [
    "WORKDIR=016.scaffhic"
   ]
  },
  {
   "cell_type": "code",
   "execution_count": 30,
   "metadata": {},
   "outputs": [
    {
     "name": "stdout",
     "output_type": "stream",
     "text": [
      "(/workspace/hraczw/github/programs/pretextmap/hraczw_pretextmap) (/workspace/hraczw/github/programs/pretextmap/hraczw_pretextmap) (/workspace/hraczw/github/programs/pretextmap/hraczw_pretextmap) "
     ]
    },
    {
     "ename": "",
     "evalue": "1",
     "output_type": "error",
     "traceback": []
    }
   ],
   "source": [
    "R1=/workspace/hraczw/github/GA/Gillenia_genome/002.Fastp.trimming/R1.cleaned.specifiedAdapter.short.Q15.fq.gz\n",
    "R2=/workspace/hraczw/github/GA/Gillenia_genome/002.Fastp.trimming/R2.cleaned.specifiedAdapter.short.Q15.fq.gz\n",
    "ASSEMBLY=/workspace/hraczw/github/GA/Gillenia_genome/005.GapFilling/scaff_ragoo_gapfilled_noContamination.fasta"
   ]
  },
  {
   "cell_type": "code",
   "execution_count": 20,
   "metadata": {},
   "outputs": [
    {
     "name": "stdout",
     "output_type": "stream",
     "text": [
      "Job <273564> is submitted to default queue <lowpriority>.\n"
     ]
    }
   ],
   "source": [
    "bsub -J scaffhic \\\n",
    "-n 30 \\\n",
    "-m aklppb38 \\\n",
    "-o $WORKDIR/scaffhic_1.s200.d50.l500k.out \\\n",
    "-e $WORKDIR/scaffhic_1.s200.d50.l500k.err \\\n",
    "\"scaffhic \\\n",
    "-nodes 30 \\\n",
    "-score 200 \\\n",
    "-depth 50 \\\n",
    "-length 500000 \\\n",
    "-fq1 $R1 \\\n",
    "-fq2 $R2 \\\n",
    "$ASSEMBLY \\\n",
    "$WORKDIR/genome-scaffhic.s200.d50.l500k.fasta\""
   ]
  },
  {
   "cell_type": "code",
   "execution_count": 23,
   "metadata": {},
   "outputs": [
    {
     "name": "stdout",
     "output_type": "stream",
     "text": [
      "No unfinished job found\n"
     ]
    },
    {
     "ename": "",
     "evalue": "255",
     "output_type": "error",
     "traceback": []
    }
   ],
   "source": [
    "bjobs"
   ]
  },
  {
   "cell_type": "code",
   "execution_count": 25,
   "metadata": {},
   "outputs": [
    {
     "name": "stdout",
     "output_type": "stream",
     "text": [
      "/home/hraczw/.lsbatch/1598915379.273564: line 8:  9971 Segmentation fault      (core dumped) scaffhic -nodes 30 -score 200 -depth 50 -length 500000 -fq1 /workspace/hraczw/github/GA/Gillenia_genome/002.Fastp.trimming/R1.cleaned.specifiedAdapter.short.Q15.fq.gz -fq2 /workspace/hraczw/github/GA/Gillenia_genome/002.Fastp.trimming/R2.cleaned.specifiedAdapter.short.Q15.fq.gz /workspace/hraczw/github/GA/Gillenia_genome/005.GapFilling/scaff_ragoo_gapfilled_noContamination.fasta 016.scaffhic/genome-scaffhic.s200.d50.l500k.fasta\n"
     ]
    }
   ],
   "source": [
    "cat $WORKDIR/scaffhic_1.s200.d50.l500k.err"
   ]
  },
  {
   "cell_type": "markdown",
   "metadata": {},
   "source": [
    "## trying to use .map file"
   ]
  },
  {
   "cell_type": "code",
   "execution_count": 26,
   "metadata": {},
   "outputs": [
    {
     "name": "stdout",
     "output_type": "stream",
     "text": [
      "(base) Currently Loaded Modulefiles:\n",
      "  1) powerPlant/core    4) git/2.21.0         7) asub/2.1\n",
      "  2) texlive/20151117   5) perlbrew/0.76      8) conda/4.8.2\n",
      "  3) pandoc/1.19.2      6) perl/5.28.0\n",
      "(base) "
     ]
    },
    {
     "ename": "",
     "evalue": "1",
     "output_type": "error",
     "traceback": []
    }
   ],
   "source": [
    "module load conda\n",
    "module list"
   ]
  },
  {
   "cell_type": "code",
   "execution_count": 27,
   "metadata": {},
   "outputs": [
    {
     "name": "stdout",
     "output_type": "stream",
     "text": [
      "(/workspace/hraczw/github/programs/pretextmap/hraczw_pretextmap) "
     ]
    },
    {
     "ename": "",
     "evalue": "1",
     "output_type": "error",
     "traceback": []
    }
   ],
   "source": [
    "conda activate /workspace/hraczw/github/programs/pretextmap/hraczw_pretextmap"
   ]
  },
  {
   "cell_type": "code",
   "execution_count": 28,
   "metadata": {},
   "outputs": [
    {
     "name": "stdout",
     "output_type": "stream",
     "text": [
      "[PretextMap status] :: Running with AVX2 CPU extensions\n",
      "\n",
      "PretextMap Version 0.1.4\n",
      "\n",
      "  (...samformat, ...pairsformat |)  PretextMap -o output.pretext\n",
      "                                                        (--sortby ({length}, name, nosort)\n",
      "                                                        --sortorder ({descend}, ascend)\n",
      "                                                        --mapq {10}\n",
      "                                                        --filterInclude \"seq_ [, seq_]*\"\n",
      "                                                        --filterExclude \"seq_ [, seq_]*\")\n",
      "  (< samfile, pairsfile)\n",
      "\n",
      "PretextMap --licence    <- view software licence\n",
      "PretextMap --thirdparty <- view third party software used\n",
      "\n",
      "(/workspace/hraczw/github/programs/pretextmap/hraczw_pretextmap) "
     ]
    },
    {
     "ename": "",
     "evalue": "1",
     "output_type": "error",
     "traceback": []
    }
   ],
   "source": [
    "PretextMap"
   ]
  },
  {
   "cell_type": "code",
   "execution_count": 29,
   "metadata": {},
   "outputs": [
    {
     "name": "stdout",
     "output_type": "stream",
     "text": [
      "(/workspace/hraczw/github/programs/pretextmap/hraczw_pretextmap) Currently Loaded Modulefiles:\n",
      "  1) powerPlant/core    4) git/2.21.0         7) asub/2.1\n",
      "  2) texlive/20151117   5) perlbrew/0.76      8) conda/4.8.2\n",
      "  3) pandoc/1.19.2      6) perl/5.28.0        9) bwa/0.7.17\n",
      "(/workspace/hraczw/github/programs/pretextmap/hraczw_pretextmap) "
     ]
    },
    {
     "ename": "",
     "evalue": "1",
     "output_type": "error",
     "traceback": []
    }
   ],
   "source": [
    "module load bwa\n",
    "module list"
   ]
  },
  {
   "cell_type": "code",
   "execution_count": null,
   "metadata": {},
   "outputs": [],
   "source": [
    "bsub -J bwa \\\n",
    "-o $WORKDIR/bwa_index.out \\\n",
    "-e $WORKDIR/bwa_index.err \\\n",
    "\"bwa index $LINKAGE\""
   ]
  },
  {
   "cell_type": "code",
   "execution_count": 31,
   "metadata": {},
   "outputs": [
    {
     "name": "stdout",
     "output_type": "stream",
     "text": [
      "Job <273568> is submitted to default queue <lowpriority>.\n",
      "(/workspace/hraczw/github/programs/pretextmap/hraczw_pretextmap) "
     ]
    },
    {
     "ename": "",
     "evalue": "1",
     "output_type": "error",
     "traceback": []
    }
   ],
   "source": [
    "bsub -J map \\\n",
    "-n 40 \\\n",
    "-o $WORKDIR/bwa_map.out \\\n",
    "-e $WORKDIR/bwa_map.err \\\n",
    "\"bwa mem \\\n",
    "-t 40 \\\n",
    "$ASSEMBLY \\\n",
    "$R1 \\\n",
    "$R2 | PretextMap \\\n",
    "-o $WORKDIR/ragoo_scaffolds.map\""
   ]
  },
  {
   "cell_type": "code",
   "execution_count": 45,
   "metadata": {
    "collapsed": true,
    "jupyter": {
     "outputs_hidden": true
    }
   },
   "outputs": [
    {
     "name": "stdout",
     "output_type": "stream",
     "text": [
      "JOBID   USER    STAT  QUEUE      FROM_HOST   EXEC_HOST   JOB_NAME   SUBMIT_TIME\n",
      "273566  hraczw  SSUSP lowpriorit aklppj31    aklppb48    bwa_R1     Sep  1 11:15\n",
      "                                             aklppb48\n",
      "                                             aklppb48\n",
      "                                             aklppb48\n",
      "                                             aklppb48\n",
      "                                             aklppb48\n",
      "                                             aklppb48\n",
      "                                             aklppb48\n",
      "                                             aklppb43\n",
      "                                             aklppb43\n",
      "                                             aklppb43\n",
      "                                             aklppb43\n",
      "                                             aklppb42\n",
      "                                             aklppb42\n",
      "                                             aklppb42\n",
      "                                             aklppb42\n",
      "                                             aklppb42\n",
      "                                             aklppb42\n",
      "                                             aklppb42\n",
      "                                             aklppb42\n",
      "                                             aklppb42\n",
      "                                             aklppb42\n",
      "                                             aklppb41\n",
      "                                             aklppb41\n",
      "                                             aklppb41\n",
      "                                             aklppb41\n",
      "                                             aklppb41\n",
      "                                             aklppb41\n",
      "                                             aklppb41\n",
      "                                             aklppb41\n",
      "                                             aklppb41\n",
      "                                             aklppb41\n",
      "                                             aklppb40\n",
      "                                             aklppb40\n",
      "                                             aklppb40\n",
      "                                             aklppb40\n",
      "                                             aklppb40\n",
      "                                             aklppb40\n",
      "                                             aklppb40\n",
      "                                             aklppb40\n",
      "273568  hraczw  RUN   lowpriorit aklppj31    aklppb40    map        Sep  1 11:25\n",
      "                                             aklppb40\n",
      "                                             aklppb36\n",
      "                                             aklppb36\n",
      "                                             aklppb36\n",
      "                                             aklppb36\n",
      "                                             aklppb36\n",
      "                                             aklppb36\n",
      "                                             aklppb36\n",
      "                                             aklppb36\n",
      "                                             aklppb36\n",
      "                                             aklppb36\n",
      "                                             aklppb36\n",
      "                                             aklppb36\n",
      "                                             aklppb36\n",
      "                                             aklppb36\n",
      "                                             aklppb36\n",
      "                                             aklppb36\n",
      "                                             aklppb36\n",
      "                                             aklppb36\n",
      "                                             aklppb36\n",
      "                                             aklppb36\n",
      "                                             aklppb36\n",
      "                                             aklppb36\n",
      "                                             aklppb36\n",
      "                                             aklppb36\n",
      "                                             aklppb36\n",
      "                                             aklppb36\n",
      "                                             aklppb36\n",
      "                                             aklppb36\n",
      "                                             aklppb36\n",
      "                                             aklppb36\n",
      "                                             aklppb36\n",
      "                                             aklppb36\n",
      "                                             aklppb36\n",
      "                                             aklppb36\n",
      "                                             aklppb36\n",
      "                                             aklppb36\n",
      "                                             aklppb36\n",
      "                                             aklppb36\n",
      "(/workspace/hraczw/github/programs/pretextmap/hraczw_pretextmap) "
     ]
    },
    {
     "ename": "",
     "evalue": "1",
     "output_type": "error",
     "traceback": []
    }
   ],
   "source": [
    "bjobs"
   ]
  },
  {
   "cell_type": "code",
   "execution_count": 48,
   "metadata": {},
   "outputs": [
    {
     "name": "stdout",
     "output_type": "stream",
     "text": [
      "total 47160\n",
      "-rw-rw-r--. 1 hraczw powerplant   212705 Sep  1 19:26 bwa_map.err\n",
      "-rw-rw-r--. 1 hraczw powerplant  8181303 Sep  1 19:44 bwa_map.out\n",
      "-rw-rw-r--. 1 hraczw powerplant 31086185 Sep  1 19:44 ragoo_scaffolds.map\n",
      "-rw-rw-r--. 1 hraczw powerplant     1046 Sep  1 11:07 scaffhic_1.s200.d50.l10k.err\n",
      "-rw-rw-r--. 1 hraczw powerplant     2688 Sep  1 11:07 scaffhic_1.s200.d50.l10k.out\n",
      "-rw-rw-r--. 1 hraczw powerplant      525 Sep  1 11:09 scaffhic_1.s200.d50.l500k.err\n",
      "-rw-rw-r--. 1 hraczw powerplant     1346 Sep  1 11:09 scaffhic_1.s200.d50.l500k.out\n",
      "(/workspace/hraczw/github/programs/pretextmap/hraczw_pretextmap) "
     ]
    },
    {
     "ename": "",
     "evalue": "1",
     "output_type": "error",
     "traceback": []
    }
   ],
   "source": [
    "ll $WORKDIR"
   ]
  },
  {
   "cell_type": "code",
   "execution_count": 57,
   "metadata": {},
   "outputs": [
    {
     "name": "stdout",
     "output_type": "stream",
     "text": [
      "(/workspace/hraczw/github/programs/pretextmap/hraczw_pretextmap) "
     ]
    },
    {
     "ename": "",
     "evalue": "1",
     "output_type": "error",
     "traceback": []
    }
   ],
   "source": [
    "cd $WORKDIR"
   ]
  },
  {
   "cell_type": "code",
   "execution_count": 62,
   "metadata": {},
   "outputs": [
    {
     "name": "stdout",
     "output_type": "stream",
     "text": [
      "bwa_map.err\n",
      "bwa_map.out\n",
      "R1.cleaned.specifiedAdapter.short.Q15.fq.gz\n",
      "R2.cleaned.specifiedAdapter.short.Q15.fq.gz\n",
      "ragoo_scaffolds.map\n",
      "scaffhic_1.s200.d50.l10k.err\n",
      "scaffhic_1.s200.d50.l10k.out\n",
      "scaffhic_1.s200.d50.l500k.err\n",
      "scaffhic_1.s200.d50.l500k.out\n",
      "scaffhic_runMap.err\n",
      "scaffhic_runMap.out\n",
      "scaff_ragoo_gapfilled_noContamination.fasta\n",
      "(/workspace/hraczw/github/programs/pretextmap/hraczw_pretextmap) "
     ]
    },
    {
     "ename": "",
     "evalue": "1",
     "output_type": "error",
     "traceback": []
    }
   ],
   "source": [
    "ls"
   ]
  },
  {
   "cell_type": "code",
   "execution_count": 59,
   "metadata": {},
   "outputs": [
    {
     "name": "stdout",
     "output_type": "stream",
     "text": [
      "(/workspace/hraczw/github/programs/pretextmap/hraczw_pretextmap) "
     ]
    },
    {
     "ename": "",
     "evalue": "1",
     "output_type": "error",
     "traceback": []
    }
   ],
   "source": [
    "ln -s $ASSEMBLY ."
   ]
  },
  {
   "cell_type": "code",
   "execution_count": 61,
   "metadata": {},
   "outputs": [
    {
     "name": "stdout",
     "output_type": "stream",
     "text": [
      "(/workspace/hraczw/github/programs/pretextmap/hraczw_pretextmap) (/workspace/hraczw/github/programs/pretextmap/hraczw_pretextmap) "
     ]
    },
    {
     "ename": "",
     "evalue": "1",
     "output_type": "error",
     "traceback": []
    }
   ],
   "source": [
    "ln -s $R1 .\n",
    "ln -s $R2 ."
   ]
  },
  {
   "cell_type": "code",
   "execution_count": 78,
   "metadata": {},
   "outputs": [],
   "source": [
    "module unload conda"
   ]
  },
  {
   "cell_type": "code",
   "execution_count": 81,
   "metadata": {},
   "outputs": [
    {
     "name": "stdout",
     "output_type": "stream",
     "text": [
      "Job <276949> is submitted to default queue <lowpriority>.\n"
     ]
    }
   ],
   "source": [
    "bsub -J scaffhic \\\n",
    "-n 60 \\\n",
    "-m wkoppb50 \\\n",
    "-o scaffhic_runMap.out \\\n",
    "-e scaffhic_runMap.err \\\n",
    "\"/workspace/hraczw/github/programs/scaffhic/src/scaffhic \\\n",
    "-nodes 60 \\\n",
    "-score 200 \\\n",
    "-depth 50 \\\n",
    "-length 10000 \\\n",
    "-map ragoo_scaffolds.map \\\n",
    "-plot genome-hic-length.png \\\n",
    "-file 0 \\\n",
    "-fq1 R1.cleaned.specifiedAdapter.short.Q15.fq.gz \\\n",
    "-fq2 R2.cleaned.specifiedAdapter.short.Q15.fq.gz \\\n",
    "scaff_ragoo_gapfilled_noContamination.fasta \\\n",
    "genome-hic.fasta\""
   ]
  },
  {
   "cell_type": "markdown",
   "metadata": {},
   "source": [
    "NOTE: genome-hic.fasta is the one generated, which should be placed after tested scaffolds"
   ]
  },
  {
   "cell_type": "code",
   "execution_count": 96,
   "metadata": {},
   "outputs": [
    {
     "name": "stdout",
     "output_type": "stream",
     "text": [
      "JOBID   USER    STAT  QUEUE      FROM_HOST   EXEC_HOST   JOB_NAME   SUBMIT_TIME\n",
      "276967  hraczw  RUN   lowpriorit aklppj31    wkoppb50    *bineReads Sep  2 09:29\n",
      "276975  hraczw  RUN   lowpriorit aklppj31    wkoppb50    scaffhic   Sep  2 10:38\n",
      "                                             wkoppb50\n",
      "                                             wkoppb50\n",
      "                                             wkoppb50\n",
      "                                             wkoppb50\n",
      "                                             wkoppb50\n",
      "                                             wkoppb50\n",
      "                                             wkoppb50\n",
      "                                             wkoppb50\n",
      "                                             wkoppb50\n",
      "                                             wkoppb50\n",
      "                                             wkoppb50\n",
      "                                             wkoppb50\n",
      "                                             wkoppb50\n",
      "                                             wkoppb50\n",
      "                                             wkoppb50\n",
      "                                             wkoppb50\n",
      "                                             wkoppb50\n",
      "                                             wkoppb50\n",
      "                                             wkoppb50\n",
      "                                             wkoppb50\n",
      "                                             wkoppb50\n",
      "                                             wkoppb50\n",
      "                                             wkoppb50\n",
      "                                             wkoppb50\n",
      "                                             wkoppb50\n",
      "                                             wkoppb50\n",
      "                                             wkoppb50\n",
      "                                             wkoppb50\n",
      "                                             wkoppb50\n",
      "                                             wkoppb50\n",
      "                                             wkoppb50\n",
      "                                             wkoppb50\n",
      "                                             wkoppb50\n",
      "                                             wkoppb50\n",
      "                                             wkoppb50\n",
      "                                             wkoppb50\n",
      "                                             wkoppb50\n",
      "                                             wkoppb50\n",
      "                                             wkoppb50\n",
      "                                             wkoppb50\n",
      "                                             wkoppb50\n",
      "                                             wkoppb50\n",
      "                                             wkoppb50\n",
      "                                             wkoppb50\n",
      "                                             wkoppb50\n",
      "                                             wkoppb50\n",
      "                                             wkoppb50\n",
      "                                             wkoppb50\n",
      "                                             wkoppb50\n",
      "                                             wkoppb50\n",
      "                                             wkoppb50\n",
      "                                             wkoppb50\n",
      "                                             wkoppb50\n",
      "                                             wkoppb50\n",
      "                                             wkoppb50\n",
      "                                             wkoppb50\n",
      "                                             wkoppb50\n",
      "                                             wkoppb50\n",
      "                                             wkoppb50\n"
     ]
    }
   ],
   "source": [
    "bjobs"
   ]
  },
  {
   "cell_type": "code",
   "execution_count": 85,
   "metadata": {},
   "outputs": [],
   "source": [
    "mkdir s20_l100k"
   ]
  },
  {
   "cell_type": "code",
   "execution_count": 86,
   "metadata": {},
   "outputs": [],
   "source": [
    "cd s20_l100k"
   ]
  },
  {
   "cell_type": "code",
   "execution_count": 89,
   "metadata": {},
   "outputs": [
    {
     "name": "stdout",
     "output_type": "stream",
     "text": [
      "Job <276973> is submitted to default queue <lowpriority>.\n"
     ]
    }
   ],
   "source": [
    "bsub -J scaffhic \\\n",
    "-n 60 \\\n",
    "-m wkoppb50 \\\n",
    "-o scaffhic_runMap.s20.l100k.out \\\n",
    "-e scaffhic_runMap.s20.l100k.err \\\n",
    "\"/workspace/hraczw/github/programs/scaffhic/src/scaffhic \\\n",
    "-nodes 60 \\\n",
    "-score 20 \\\n",
    "-depth 50 \\\n",
    "-length 100000 \\\n",
    "-data /workspace/hraczw/github/GA/Gillenia_genome/016.scaffhic/tmp_rununik_70656/align.dat \\\n",
    "$ASSEMBLY \\\n",
    "genome-hic.s20.l100k.fasta\""
   ]
  },
  {
   "cell_type": "code",
   "execution_count": 91,
   "metadata": {},
   "outputs": [],
   "source": [
    "cd .."
   ]
  },
  {
   "cell_type": "code",
   "execution_count": 93,
   "metadata": {},
   "outputs": [],
   "source": [
    "mkdir s20_d20_l100k"
   ]
  },
  {
   "cell_type": "code",
   "execution_count": 94,
   "metadata": {},
   "outputs": [],
   "source": [
    "cd s20_d20_l100k"
   ]
  },
  {
   "cell_type": "code",
   "execution_count": 95,
   "metadata": {},
   "outputs": [
    {
     "name": "stdout",
     "output_type": "stream",
     "text": [
      "Job <276975> is submitted to default queue <lowpriority>.\n"
     ]
    }
   ],
   "source": [
    "bsub -J scaffhic \\\n",
    "-n 60 \\\n",
    "-m wkoppb50 \\\n",
    "-o scaffhic_runMap.s20.d20.l100k.out \\\n",
    "-e scaffhic_runMap.s20.d20.l100k.err \\\n",
    "\"/workspace/hraczw/github/programs/scaffhic/src/scaffhic \\\n",
    "-nodes 60 \\\n",
    "-score 20 \\\n",
    "-depth 20 \\\n",
    "-length 100000 \\\n",
    "-data /workspace/hraczw/github/GA/Gillenia_genome/016.scaffhic/tmp_rununik_70656/align.dat \\\n",
    "$ASSEMBLY \\\n",
    "genome-hic.s20.d20.l100k.fasta\""
   ]
  },
  {
   "cell_type": "code",
   "execution_count": 97,
   "metadata": {},
   "outputs": [],
   "source": [
    "cd ..\n",
    "cd s20_l10k"
   ]
  },
  {
   "cell_type": "code",
   "execution_count": 98,
   "metadata": {},
   "outputs": [
    {
     "name": "stdout",
     "output_type": "stream",
     "text": [
      "Job <276991> is submitted to default queue <lowpriority>.\n"
     ]
    }
   ],
   "source": [
    "bsub -J scaffhic \\\n",
    "-n 60 \\\n",
    "-m wkoppb50 \\\n",
    "-o scaffhic_runMap.s20.l10k.out \\\n",
    "-e scaffhic_runMap.s20.l10k.err \\\n",
    "\"/workspace/hraczw/github/programs/scaffhic/src/scaffhic \\\n",
    "-nodes 60 \\\n",
    "-score 20 \\\n",
    "-depth 50 \\\n",
    "-length 10000 \\\n",
    "-data /workspace/hraczw/github/GA/Gillenia_genome/016.scaffhic/tmp_rununik_70656/align.dat \\\n",
    "$ASSEMBLY \\\n",
    "genome-hic.s20.l10k.fasta\""
   ]
  },
  {
   "cell_type": "code",
   "execution_count": 99,
   "metadata": {},
   "outputs": [],
   "source": [
    "cd ..\n",
    "mkdir s20_d20_l10k\n",
    "cd s20_d20_l10k"
   ]
  },
  {
   "cell_type": "code",
   "execution_count": 100,
   "metadata": {},
   "outputs": [
    {
     "name": "stdout",
     "output_type": "stream",
     "text": [
      "Job <277000> is submitted to default queue <lowpriority>.\n"
     ]
    }
   ],
   "source": [
    "bsub -J scaffhic \\\n",
    "-n 60 \\\n",
    "-m wkoppb50 \\\n",
    "-o scaffhic_runMap.s20.d20.l10k.out \\\n",
    "-e scaffhic_runMap.s20.d20.l10k.err \\\n",
    "\"/workspace/hraczw/github/programs/scaffhic/src/scaffhic \\\n",
    "-nodes 60 \\\n",
    "-score 20 \\\n",
    "-depth 20 \\\n",
    "-length 10000 \\\n",
    "-data /workspace/hraczw/github/GA/Gillenia_genome/016.scaffhic/tmp_rununik_70656/align.dat \\\n",
    "$ASSEMBLY \\\n",
    "genome-hic.s20.d20.l10k.fasta\""
   ]
  }
 ],
 "metadata": {
  "kernelspec": {
   "display_name": "Bash",
   "language": "bash",
   "name": "bash"
  },
  "language_info": {
   "codemirror_mode": "shell",
   "file_extension": ".sh",
   "mimetype": "text/x-sh",
   "name": "bash"
  }
 },
 "nbformat": 4,
 "nbformat_minor": 4
}
