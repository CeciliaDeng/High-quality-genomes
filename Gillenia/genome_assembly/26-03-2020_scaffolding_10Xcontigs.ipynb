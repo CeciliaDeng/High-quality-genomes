{
 "cells": [
  {
   "cell_type": "markdown",
   "metadata": {},
   "source": [
    "# Scaffolding 10X contigs using long reads\n",
    "\n",
    "* Gellinia genome assembly: initial contigs were assembled from 10x reads. The nanopore MiNION and Premethon long reads (> 30k) will be used for scaffolding contigs\n",
    "* There are two phased assembly sets generated from Supernova for scaffording\n",
    "* Long read scaffolding programs: **LINKS** (recommended by Cecilia) and **SLR** will be tested in this notebook\n",
    "* Bioinformatician: Chen Wu and Cecilia Deng\n"
   ]
  },
  {
   "cell_type": "markdown",
   "metadata": {},
   "source": [
    "## 1. Input file paths"
   ]
  },
  {
   "cell_type": "code",
   "execution_count": 2,
   "metadata": {},
   "outputs": [
    {
     "name": "stdout",
     "output_type": "stream",
     "text": [
      "/powerplant/workspace/hraczw/github/GA/Gillenia_genome\n"
     ]
    }
   ],
   "source": [
    "pwd"
   ]
  },
  {
   "cell_type": "code",
   "execution_count": 3,
   "metadata": {},
   "outputs": [],
   "source": [
    "mkdir 004.Scaffolding_10Xcontigs"
   ]
  },
  {
   "cell_type": "code",
   "execution_count": 1,
   "metadata": {},
   "outputs": [],
   "source": [
    "WORKDIR=/powerplant/workspace/hraczw/github/GA/Gillenia_genome/004.Scaffolding_10Xcontigs"
   ]
  },
  {
   "cell_type": "code",
   "execution_count": 3,
   "metadata": {},
   "outputs": [],
   "source": [
    "ASSEMBLY_P1=/output/genomic/plant/Gillenia/trifoliata/31_ReleaseS4/01_Release/G3_2_S4.1.2KB.fasta\n",
    "ASSEMBLY_P2=/output/genomic/plant/Gillenia/trifoliata/31_ReleaseS4/01_Release/G3_2_S4.2.2KB.fasta"
   ]
  },
  {
   "cell_type": "code",
   "execution_count": 2,
   "metadata": {},
   "outputs": [],
   "source": [
    "ONT_M=/workspace/hraczw/github/GA/Gillenia_genome/Gillenia_MinNION.fastq.gz\n",
    "ONT_P=/workspace/hraczw/github/GA/Gillenia_genome/Gillenia_PromethION.fastq.gz"
   ]
  },
  {
   "cell_type": "markdown",
   "metadata": {},
   "source": [
    "## 1. Filtering out short nanopore reads (length < 30k)"
   ]
  },
  {
   "cell_type": "code",
   "execution_count": 11,
   "metadata": {},
   "outputs": [
    {
     "name": "stdout",
     "output_type": "stream",
     "text": [
      "Job <374964> is submitted to default queue <normal>.\n"
     ]
    }
   ],
   "source": [
    "bsub -J unzip \\\n",
    "-o $WORKDIR/unzip_M.out \\\n",
    "-e $WORKDIR/unzip_M.err \\\n",
    "\"gunzip $ONT_M\""
   ]
  },
  {
   "cell_type": "code",
   "execution_count": 70,
   "metadata": {},
   "outputs": [
    {
     "name": "stdout",
     "output_type": "stream",
     "text": [
      "Job <391586> is submitted to default queue <normal>.\n"
     ]
    }
   ],
   "source": [
    "bsub -J preseq \\\n",
    "-o $WORKDIR/preseq.out \\\n",
    "-e $WORKDIR/preseq.err \\\n",
    "\"perl /workspace/hraczw/github/programs/prinseq-lite-0.20.4/prinseq-lite.pl \\\n",
    "-fastq /workspace/hraczw/github/GA/Gillenia_genome/Gillenia_MinNION.fastq \\\n",
    "-out_good $WORKDIR/Gillenia_MinNION.ml30k \\\n",
    "-out_bad $WORKDIR/Gillenia_MinNION.shortFrom30k \\\n",
    "-min_len 30000\""
   ]
  },
  {
   "cell_type": "code",
   "execution_count": null,
   "metadata": {},
   "outputs": [],
   "source": [
    "bsub -J preseq \\\n",
    "-o $WORKDIR/preseq_promethion.out \\\n",
    "-e $WORKDIR/preseq_promethion.err \\\n",
    "\"perl /workspace/hraczw/github/programs/prinseq-lite-0.20.4/prinseq-lite.pl \\\n",
    "-fastq /workspace/hraczw/github/GA/Gillenia_genome/Gillenia_PromethION.fastq \\\n",
    "-out_good $WORKDIR/Gillenia_PromethION.ml30k \\\n",
    "-out_bad $WORKDIR/Gillenia_PromethION.shortFrom30k \\\n",
    "-min_len 30000\""
   ]
  },
  {
   "cell_type": "markdown",
   "metadata": {},
   "source": [
    "MiNION\n",
    "\n",
    "    Input sequences: 1,093,884\n",
    "\tInput bases: 15,503,735,959\n",
    "\tInput mean length: 14173.11\n",
    "\tGood sequences: 138,583 (12.67%)\n",
    "\tGood bases: 5,513,046,647\n",
    "\tGood mean length: 39781.55"
   ]
  },
  {
   "cell_type": "markdown",
   "metadata": {},
   "source": [
    "PromethION\n",
    "\n",
    "\tInput sequences: 4,010,868\n",
    "\tInput bases: 57,044,858,479\n",
    "\tInput mean length: 14222.57\n",
    "\tGood sequences: 519,509 (12.95%)\n",
    "\tGood bases: 21,341,619,410\n",
    "\tGood mean length: 41080.37"
   ]
  },
  {
   "cell_type": "markdown",
   "metadata": {},
   "source": [
    "## 2. LINKS"
   ]
  },
  {
   "cell_type": "code",
   "execution_count": 68,
   "metadata": {},
   "outputs": [
    {
     "name": "stdout",
     "output_type": "stream",
     "text": [
      "Currently Loaded Modulefiles:\n",
      "  1) powerPlant/core    4) git/2.21.0         7) links/v1.8.5\n",
      "  2) texlive/20151117   5) perlbrew/0.76      8) bwa/0.7.17\n",
      "  3) pandoc/1.19.2      6) asub/2.1           9) samtools/1.9\n"
     ]
    }
   ],
   "source": [
    "module list"
   ]
  },
  {
   "cell_type": "code",
   "execution_count": 4,
   "metadata": {},
   "outputs": [
    {
     "name": "stdout",
     "output_type": "stream",
     "text": [
      "Currently Loaded Modulefiles:\n",
      "  1) powerPlant/core    4) git/2.21.0         7) asub/2.1\n",
      "  2) texlive/20151117   5) perlbrew/0.76      8) links/v1.8.6\n",
      "  3) pandoc/1.19.2      6) perl/5.28.0\n"
     ]
    }
   ],
   "source": [
    "module load links\n",
    "module list"
   ]
  },
  {
   "cell_type": "code",
   "execution_count": 9,
   "metadata": {
    "collapsed": true,
    "jupyter": {
     "outputs_hidden": true
    }
   },
   "outputs": [
    {
     "name": "stdout",
     "output_type": "stream",
     "text": [
      "/software/bioinformatics/links_v1.8.6/bin/LINKS version [unknown] calling Getopt::Std::getopts (version 1.12 [paranoid]),\n",
      "running under Perl version 5.26.2.\n",
      "\n",
      "Usage: LINKS [-OPTIONS [-MORE_OPTIONS]] [--] [PROGRAM_ARG1 ...]\n",
      "\n",
      "The following single-character options are accepted:\n",
      "\tWith arguments: -f -s -d -k -e -l -a -v -b -t -p -o -r -x -m -z\n",
      "\n",
      "Options may be merged together.  -- stops processing of options.\n",
      "Space is not required between options and their arguments.\n",
      "  [Now continuing due to backward compatibility and excessive paranoia.\n",
      "   See 'perldoc Getopt::Std' about $Getopt::Std::STANDARD_HELP_VERSION.]\n",
      "Usage: /software/bioinformatics/links_v1.8.6/bin/LINKS [v1.8.6]\n",
      "-f  sequences to scaffold (Multi-FASTA format, required)\n",
      "-s  file-of-filenames, full path to long sequence reads or MPET pairs [see below] (Multi-FASTA/fastq format, required)\n",
      "-m  MPET reads (default -m 1 = yes, default = no, optional)\n",
      "\t! DO NOT SET IF NOT USING MPET. WHEN SET, LINKS WILL EXPECT A SPECIAL FORMAT UNDER -s\n",
      "\t! Paired MPET reads in their original outward orientation <- -> must be separated by \":\"\n",
      "\t  >template_name\n",
      "\t  ACGACACTATGCATAAGCAGACGAGCAGCGACGCAGCACG:ATATATAGCGCACGACGCAGCACAGCAGCAGACGAC\n",
      "-d  distance between k-mer pairs (ie. target distances to re-scaffold on. default -d 4000, optional)\n",
      "\tMultiple distances are separated by comma. eg. -d 500,1000,2000,3000\n",
      "-k  k-mer value (default -k 15, optional)\n",
      "-t  step of sliding window when extracting k-mer pairs from long reads (default -t 2, optional)\n",
      "\tMultiple steps are separated by comma. eg. -t 10,5\n",
      "-o  offset position for extracting k-mer pairs (default -o 0, optional)\n",
      "-e  error (%) allowed on -d distance   e.g. -e 0.1  == distance +/- 10% (default -e 0.1, optional)\n",
      "-l  minimum number of links (k-mer pairs) to compute scaffold (default -l 5, optional)\n",
      "-a  maximum link ratio between two best contig pairs (default -a 0.3, optional)\n",
      "\t *higher values lead to least accurate scaffolding*\n",
      "-z  minimum contig length to consider for scaffolding (default -z 500, optional)\n",
      "-b  base name for your output files (optional)\n",
      "-r  Bloom filter input file for sequences supplied in -s (optional, if none provided will output to .bloom)\n",
      "\t NOTE: BLOOM FILTER MUST BE DERIVED FROM THE SAME FILE SUPPLIED IN -f WITH SAME -k VALUE\n",
      "\t IF YOU DO NOT SUPPLY A BLOOM FILTER, ONE WILL BE CREATED (.bloom)\n",
      "-p  Bloom filter false positive rate (default -p 0.001, optional; increase to prevent memory allocation errors)\n",
      "-x  Turn off Bloom filter functionality (-x 1 = yes, default = no, optional)\n",
      "-v  Runs in verbose mode (-v 1 = yes, default = no, optional)\n",
      "\n",
      "Error: Missing mandatory options -f and -s.\n",
      "\n"
     ]
    },
    {
     "ename": "",
     "evalue": "255",
     "output_type": "error",
     "traceback": []
    }
   ],
   "source": [
    "LINKS --help"
   ]
  },
  {
   "cell_type": "markdown",
   "metadata": {},
   "source": [
    "**NOTE: when running links v1.8.6, error message as below:**\n",
    "\n",
    "Can't locate object method \"new\" via package \"BloomFilter::BloomFilter\" (perhaps you forgot to load \"BloomFilter::BloomFilter\"?) at /software/bioinformatics/links_v1.8.6/bin/LINKS line 215.\n",
    "\n",
    "Amali clarified this was fixed before, but turn out something wrong with the module again\n",
    "\n",
    "After checking difference between v1.8.5 and v1.8.6, it looks no difference on the algorithm or basic parameter settings. Decide to go with v1.8.5"
   ]
  },
  {
   "cell_type": "markdown",
   "metadata": {},
   "source": [
    "### 1.2 scaffolding phased one assembly\n",
    "\n",
    "**NOTE** Preparing input long read file: creat a ONT_data_files.txt containing all filtered long read files (minion + promethion)\n",
    "\n",
    "* Parameter settings: it was recommended by Cecilia to test paper's parameters on Arobidopsis (four rounds of scaffolding: k - kmer size, d - distance between a kmer pair, t - sliding window size).\n",
    "1.       -d 5000 –t 20 –k 21\n",
    "2.       -d 10000 –t 5 –k 21\n",
    "3.       -d 15000  –t 5 –k 21\n",
    "4.       -d 20000 –t 5 –k 21\n",
    "\n",
    "Notes from author: \n",
    "* ~700-900 GB RAM is the sweet spot for LINKS. The memory panic error is a PERL out-of-memory error, unfortunately. PERL is not efficient with memory allocation and management. This will occur even if you have a 2TB machine. \n",
    "* only way to curb memory usage is to increase the spacing between kmer pair (with the skip parameter -t). It is best to choose values of -t that will place your peak memory usage to 700-900GB zone (machine permitting). This is not an ideal solution, as it makes troubleshooting challenging and decreases available kmer support. That said, you have ~125X ONT coverage of your genome. That's an overkill for LINKS and increasing -t isn't going to discard too many kmer pairs (since the redundancy in the data should capture additional supporting linkages in other reads, which is a better type of scaffolding support). \n",
    "* Alternatively, you could decrease the read coverage to 50X and decrease -t. LINKS will run faster on a smaller ONT data set, but if runtime isn't an issue, you should just keep the whole ONT set and increase -t. \n",
    "* Also, If you increase -d at each round, then you can decrease -t by a similar factor and stay within the RAM"
   ]
  },
  {
   "cell_type": "code",
   "execution_count": 7,
   "metadata": {},
   "outputs": [
    {
     "name": "stdout",
     "output_type": "stream",
     "text": [
      "Currently Loaded Modulefiles:\n",
      "  1) powerPlant/core    4) git/2.21.0         7) asub/2.1\n",
      "  2) texlive/20151117   5) perlbrew/0.76\n",
      "  3) pandoc/1.19.2      6) perl/5.28.0\n"
     ]
    }
   ],
   "source": [
    "module list"
   ]
  },
  {
   "cell_type": "code",
   "execution_count": 6,
   "metadata": {},
   "outputs": [],
   "source": [
    "module unload links/v1.8.6\n",
    "module load links/v1.8.5"
   ]
  },
  {
   "cell_type": "code",
   "execution_count": 7,
   "metadata": {
    "collapsed": true,
    "jupyter": {
     "outputs_hidden": true
    }
   },
   "outputs": [
    {
     "name": "stdout",
     "output_type": "stream",
     "text": [
      "Unknown option: h\n",
      "Usage: /software/bioinformatics/links_v1.8.5/LINKS [v1.8.5]\n",
      "-f  sequences to scaffold (Multi-FASTA format, required)\n",
      "-s  file-of-filenames, full path to long sequence reads or MPET pairs [see below] (Multi-FASTA/fastq format, required)\n",
      "-m  MPET reads (default -m 1 = yes, default = no, optional\n",
      "\t! DO NOT SET IF NOT USING MPET. WHEN SET, LINKS WILL EXPECT A SPECIAL FORMAT UNDER -s\n",
      "\t! Paired MPET reads in their original outward orientation <- -> must be separated by \":\"\n",
      "\t  >template_name\n",
      "\t  ACGACACTATGCATAAGCAGACGAGCAGCGACGCAGCACG:ATATATAGCGCACGACGCAGCACAGCAGCAGACGAC\n",
      "-d  distance between k-mer pairs (ie. target distances to re-scaffold on. default -d 4000, optional)\n",
      "\tMultiple distances are separated by comma. eg. -d 500,1000,2000,3000\n",
      "-k  k-mer value (default -k 15, optional)\n",
      "-t  step of sliding window when extracting k-mer pairs from long reads (default -t 2, optional)\n",
      "\tMultiple steps are separated by comma. eg. -t 10,5\n",
      "-o  offset position for extracting k-mer pairs (default -o 0, optional)\n",
      "-e  error (%) allowed on -d distance   e.g. -e 0.1  == distance +/- 10% (default -e 0.1, optional)\n",
      "-l  minimum number of links (k-mer pairs) to compute scaffold (default -l 5, optional)\n",
      "-a  maximum link ratio between two best contig pairs (default -a 0.3, optional)\n",
      "\t *higher values lead to least accurate scaffolding*\n",
      "-z  minimum contig length to consider for scaffolding (default -z 500, optional)\n",
      "-b  base name for your output files (optional)\n",
      "-r  Bloom filter input file for sequences supplied in -s (optional, if none provided will output to .bloom)\n",
      "\t NOTE: BLOOM FILTER MUST BE DERIVED FROM THE SAME FILE SUPPLIED IN -f WITH SAME -k VALUE\n",
      "\t IF YOU DO NOT SUPPLY A BLOOM FILTER, ONE WILL BE CREATED (.bloom)\n",
      "-p  Bloom filter false positive rate (default -p 0.001, optional; increase to prevent memory allocation errors)\n",
      "-x  Turn off Bloom filter functionality (-x 1 = yes, default = no, optional)\n",
      "-v  Runs in verbose mode (-v 1 = yes, default = no, optional)\n",
      "\n",
      "Error: Missing mandatory options -f and -s.\n",
      "\n"
     ]
    },
    {
     "ename": "",
     "evalue": "255",
     "output_type": "error",
     "traceback": []
    }
   ],
   "source": [
    "LINKS -h"
   ]
  },
  {
   "cell_type": "code",
   "execution_count": 11,
   "metadata": {},
   "outputs": [],
   "source": [
    "mkdir $WORKDIR/k21_t20_d5000"
   ]
  },
  {
   "cell_type": "markdown",
   "metadata": {},
   "source": [
    "#### Round 1"
   ]
  },
  {
   "cell_type": "code",
   "execution_count": 12,
   "metadata": {},
   "outputs": [
    {
     "name": "stdout",
     "output_type": "stream",
     "text": [
      "Job <737780> is submitted to default queue <lowpriority>.\n"
     ]
    }
   ],
   "source": [
    "bsub -J links \\\n",
    "-m wkoppb50 \\\n",
    "-o $WORKDIR/k21_t20_d5000/links.out \\\n",
    "-e $WORKDIR/k21_t20_d5000/links.err \\\n",
    "\"LINKS \\\n",
    "-f $ASSEMBLY_P1 \\\n",
    "-s $WORKDIR/ONT_data_files.txt \\\n",
    "-d 5000 \\\n",
    "-k 21 \\\n",
    "-t 20 \\\n",
    "-b $WORKDIR/k21_t20_d5000/scaffolds_k21_t20_d5000\""
   ]
  },
  {
   "cell_type": "code",
   "execution_count": 22,
   "metadata": {},
   "outputs": [
    {
     "name": "stdout",
     "output_type": "stream",
     "text": [
      "Currently Loaded Modulefiles:\n",
      "  1) powerPlant/core    5) perlbrew/0.76      9) bwa/0.7.17\n",
      "  2) texlive/20151117   6) perl/5.28.0       10) samtools/1.9\n",
      "  3) pandoc/1.19.2      7) asub/2.1\n",
      "  4) git/2.21.0         8) links/v1.8.5\n"
     ]
    }
   ],
   "source": [
    "module load samtools\n",
    "module list"
   ]
  },
  {
   "cell_type": "code",
   "execution_count": 23,
   "metadata": {},
   "outputs": [],
   "source": [
    "samtools faidx $WORKDIR/k21_t20_d5000/scaffolds_k21_t20_d5000.scaffolds.fa"
   ]
  },
  {
   "cell_type": "code",
   "execution_count": 4,
   "metadata": {},
   "outputs": [
    {
     "name": "stdout",
     "output_type": "stream",
     "text": [
      "align-self.bam\t\t   samtools_view_bwa_align.err\n",
      "align-withLongReads.bam    samtools_view_bwa_align.out\n",
      "align-withLongReads.sam    samtools_view.err\n",
      "ambiguous-contig-set.fa    samtools_view.out\n",
      "bwa_align.err\t\t   scaffold_set.fa\n",
      "bwa_align.out\t\t   scaffold_set.fa.fai\n",
      "bwa_index.err\t\t   scaffold_tag.fa\n",
      "bwa_index.out\t\t   shortContigOptimizePathInLongRead.fa\n",
      "graph.fa\t\t   shortContigPathInLongRead.fa\n",
      "graph.GFA2\t\t   slr.err\n",
      "optimizePathInLongRead.fa  slr.out\n",
      "originalPathInLongRead.fa  unique-contig-set.fa\n"
     ]
    }
   ],
   "source": [
    "ls $WORKDIR/SLR"
   ]
  },
  {
   "cell_type": "markdown",
   "metadata": {},
   "source": [
    "d10-k21-t5 produced error message:\n"
   ]
  },
  {
   "cell_type": "markdown",
   "metadata": {},
   "source": [
    "#### Round 2"
   ]
  },
  {
   "cell_type": "code",
   "execution_count": 25,
   "metadata": {},
   "outputs": [
    {
     "name": "stdout",
     "output_type": "stream",
     "text": [
      "Job <739248> is submitted to default queue <lowpriority>.\n"
     ]
    }
   ],
   "source": [
    "bsub -J links \\\n",
    "-m aklppb34 \\\n",
    "-o $WORKDIR/k21_t20_d5000/links_d10k21t10.out \\\n",
    "-e $WORKDIR/k21_t20_d5000/links_d10k21t10.err \\\n",
    "\"LINKS \\\n",
    "-f /workspace/hraczw/github/GA/Gillenia_genome/004.Scaffolding_10Xcontigs/k21_t20_d5000/scaffolds_k21_t20_d5000.scaffolds.fa \\\n",
    "-s $WORKDIR/ONT_data_files.txt \\\n",
    "-d 10000 \\\n",
    "-k 21 \\\n",
    "-t 10 \\\n",
    "-b $WORKDIR/k21_t20_d5000/scaffolds_k21_t10_d10000\""
   ]
  },
  {
   "cell_type": "markdown",
   "metadata": {},
   "source": [
    "**NOTE**: t5 failed"
   ]
  },
  {
   "cell_type": "markdown",
   "metadata": {},
   "source": [
    "#### Round 3"
   ]
  },
  {
   "cell_type": "code",
   "execution_count": 35,
   "metadata": {},
   "outputs": [
    {
     "name": "stdout",
     "output_type": "stream",
     "text": [
      "Job <743665> is submitted to default queue <lowpriority>.\n"
     ]
    }
   ],
   "source": [
    "bsub -J links \\\n",
    "-m aklppb34 \\\n",
    "-o $WORKDIR/k21_t20_d5000/links_d15k21t10.out \\\n",
    "-e $WORKDIR/k21_t20_d5000/links_d15k21t10.err \\\n",
    "\"LINKS \\\n",
    "-f /workspace/hraczw/github/GA/Gillenia_genome/004.Scaffolding_10Xcontigs/k21_t20_d5000/scaffolds_k21_t10_d10000.scaffolds.fa \\\n",
    "-s $WORKDIR/ONT_data_files.txt \\\n",
    "-d 15000 \\\n",
    "-k 21 \\\n",
    "-t 10 \\\n",
    "-b $WORKDIR/k21_t20_d5000/scaffolds_k21_t10_d15000\""
   ]
  },
  {
   "cell_type": "markdown",
   "metadata": {},
   "source": [
    "**NOTE**: t5 failed"
   ]
  },
  {
   "cell_type": "markdown",
   "metadata": {},
   "source": [
    "#### Round 4"
   ]
  },
  {
   "cell_type": "code",
   "execution_count": 38,
   "metadata": {},
   "outputs": [
    {
     "name": "stdout",
     "output_type": "stream",
     "text": [
      "Job <744627> is submitted to default queue <lowpriority>.\n"
     ]
    }
   ],
   "source": [
    "bsub -J links \\\n",
    "-m aklppb34 \\\n",
    "-o $WORKDIR/k21_t20_d5000/links_d20k21t10.out \\\n",
    "-e $WORKDIR/k21_t20_d5000/links_d20k21t10.err \\\n",
    "\"LINKS \\\n",
    "-f /workspace/hraczw/github/GA/Gillenia_genome/004.Scaffolding_10Xcontigs/k21_t20_d5000/scaffolds_k21_t10_d15000.scaffolds.fa \\\n",
    "-s $WORKDIR/ONT_data_files.txt \\\n",
    "-d 20000 \\\n",
    "-k 21 \\\n",
    "-t 10 \\\n",
    "-b $WORKDIR/k21_t20_d5000/scaffolds_k21_t10_d20000\""
   ]
  },
  {
   "cell_type": "markdown",
   "metadata": {},
   "source": [
    "#### Round 5"
   ]
  },
  {
   "cell_type": "code",
   "execution_count": 8,
   "metadata": {},
   "outputs": [
    {
     "name": "stdout",
     "output_type": "stream",
     "text": [
      "Job <746221> is submitted to default queue <lowpriority>.\n"
     ]
    }
   ],
   "source": [
    "bsub -J links \\\n",
    "-m aklppb34 \\\n",
    "-o $WORKDIR/k21_t20_d5000/links_d25k21t10.out \\\n",
    "-e $WORKDIR/k21_t20_d5000/links_d25k21t10.err \\\n",
    "\"LINKS \\\n",
    "-f /workspace/hraczw/github/GA/Gillenia_genome/004.Scaffolding_10Xcontigs/k21_t20_d5000/scaffolds_k21_t10_d20000.scaffolds.fa \\\n",
    "-s $WORKDIR/ONT_data_files.txt \\\n",
    "-d 25000 \\\n",
    "-k 21 \\\n",
    "-t 10 \\\n",
    "-b $WORKDIR/k21_t20_d5000/scaffolds_k21_t10_d25000\""
   ]
  },
  {
   "cell_type": "markdown",
   "metadata": {},
   "source": [
    "#### Round 6"
   ]
  },
  {
   "cell_type": "code",
   "execution_count": 13,
   "metadata": {},
   "outputs": [
    {
     "name": "stdout",
     "output_type": "stream",
     "text": [
      "Job <746466> is submitted to default queue <lowpriority>.\n"
     ]
    }
   ],
   "source": [
    "bsub -J links \\\n",
    "-m aklppb34 \\\n",
    "-o $WORKDIR/k21_t20_d5000/links_d30k21t10.out \\\n",
    "-e $WORKDIR/k21_t20_d5000/links_d30k21t10.err \\\n",
    "\"LINKS \\\n",
    "-f /workspace/hraczw/github/GA/Gillenia_genome/004.Scaffolding_10Xcontigs/k21_t20_d5000/scaffolds_k21_t10_d25000.scaffolds.fa \\\n",
    "-s $WORKDIR/ONT_data_files.txt \\\n",
    "-d 30000 \\\n",
    "-k 21 \\\n",
    "-t 10 \\\n",
    "-b $WORKDIR/k21_t20_d5000/scaffolds_k21_t10_d30000\""
   ]
  },
  {
   "cell_type": "markdown",
   "metadata": {},
   "source": [
    "## 3. SLR\n",
    "\n",
    "SLT employs alignment scaffolding and can do ambiguous contig classification"
   ]
  },
  {
   "cell_type": "code",
   "execution_count": 37,
   "metadata": {},
   "outputs": [
    {
     "name": "stdout",
     "output_type": "stream",
     "text": [
      "Currently Loaded Modulefiles:\n",
      "  1) powerPlant/core    5) perlbrew/0.76      9) bwa/0.7.17\n",
      "  2) texlive/20151117   6) perl/5.28.0       10) samtools/1.9\n",
      "  3) pandoc/1.19.2      7) asub/2.1          11) bamtools/2.4.0\n",
      "  4) git/2.21.0         8) links/v1.8.5\n"
     ]
    }
   ],
   "source": [
    "module load bwa\n",
    "module load samtools\n",
    "module load bamtools\n",
    "module list"
   ]
  },
  {
   "cell_type": "code",
   "execution_count": 33,
   "metadata": {},
   "outputs": [],
   "source": [
    "export PATH=/workspace/hraczw/github/programs/SLR/:$PATH"
   ]
  },
  {
   "cell_type": "code",
   "execution_count": 36,
   "metadata": {},
   "outputs": [],
   "source": [
    "mkdir 004.Scaffolding_10Xcontigs/SLR"
   ]
  },
  {
   "cell_type": "code",
   "execution_count": 10,
   "metadata": {},
   "outputs": [],
   "source": [
    "WORKDIR_SLR=/powerplant/workspace/hraczw/github/GA/Gillenia_genome/004.Scaffolding_10Xcontigs/SLR"
   ]
  },
  {
   "cell_type": "markdown",
   "metadata": {},
   "source": [
    "### 3.1 index contig.fasta"
   ]
  },
  {
   "cell_type": "code",
   "execution_count": 18,
   "metadata": {},
   "outputs": [
    {
     "name": "stdout",
     "output_type": "stream",
     "text": [
      "Currently Loaded Modulefiles:\n",
      "  1) powerPlant/core    4) git/2.21.0         7) asub/2.1\n",
      "  2) texlive/20151117   5) perlbrew/0.76      8) links/v1.8.5\n",
      "  3) pandoc/1.19.2      6) perl/5.28.0        9) bwa/0.7.17\n"
     ]
    }
   ],
   "source": [
    "module load bwa\n",
    "module list"
   ]
  },
  {
   "cell_type": "code",
   "execution_count": 45,
   "metadata": {},
   "outputs": [
    {
     "name": "stdout",
     "output_type": "stream",
     "text": [
      "Job <376496> is submitted to default queue <normal>.\n"
     ]
    }
   ],
   "source": [
    "bsub -J bwa \\\n",
    "-o $WORKDIR_SLR/bwa_index.out \\\n",
    "-e $WORKDIR_SLR/bwa_index.err \\\n",
    "\"bwa index $ASSEMBLY_P1\""
   ]
  },
  {
   "cell_type": "markdown",
   "metadata": {},
   "source": [
    "### 3.2 contig self alignment"
   ]
  },
  {
   "cell_type": "code",
   "execution_count": 55,
   "metadata": {},
   "outputs": [
    {
     "name": "stdout",
     "output_type": "stream",
     "text": [
      "G3_2_S4.1.2KB.fasta\t G3_2_S4.1.2KB.fasta.bwt  G3_2_S4.1.2KB.fasta.sa\n",
      "G3_2_S4.1.2KB.fasta.amb  G3_2_S4.1.2KB.fasta.fai  G3_2_S4.2.2KB.fasta\n",
      "G3_2_S4.1.2KB.fasta.ann  G3_2_S4.1.2KB.fasta.pac  G3_2_S4.2.2KB.fasta.fai\n"
     ]
    }
   ],
   "source": [
    "ls /output/genomic/plant/Gillenia/trifoliata/31_ReleaseS4/01_Release/"
   ]
  },
  {
   "cell_type": "code",
   "execution_count": 15,
   "metadata": {},
   "outputs": [],
   "source": [
    "ASSEMBLY_PATH=/output/genomic/plant/Gillenia/trifoliata/31_ReleaseS4/01_Release/"
   ]
  },
  {
   "cell_type": "code",
   "execution_count": 62,
   "metadata": {},
   "outputs": [
    {
     "name": "stdout",
     "output_type": "stream",
     "text": [
      "Job <376523> is submitted to default queue <normal>.\n"
     ]
    }
   ],
   "source": [
    "bsub -J bwa \\\n",
    "-n 12 \\\n",
    "-o $WORKDIR_SLR/bwa_index.out \\\n",
    "-e $WORKDIR_SLR/bwa_index.err \\\n",
    "\"bwa mem -t 12 -a $ASSEMBLY_PATH/G3_2_S4.1.2KB.fasta $ASSEMBLY_PATH/G3_2_S4.1.2KB.fasta > $WORKDIR_SLR/align-self.sam\""
   ]
  },
  {
   "cell_type": "code",
   "execution_count": 64,
   "metadata": {},
   "outputs": [
    {
     "name": "stdout",
     "output_type": "stream",
     "text": [
      "Currently Loaded Modulefiles:\n",
      "  1) powerPlant/core    4) git/2.21.0         7) links/v1.8.5\n",
      "  2) texlive/20151117   5) perlbrew/0.76      8) bwa/0.7.17\n",
      "  3) pandoc/1.19.2      6) asub/2.1           9) samtools/1.9\n"
     ]
    }
   ],
   "source": [
    "module load samtools\n",
    "module list"
   ]
  },
  {
   "cell_type": "code",
   "execution_count": 65,
   "metadata": {},
   "outputs": [
    {
     "name": "stdout",
     "output_type": "stream",
     "text": [
      "Job <376526> is submitted to default queue <normal>.\n"
     ]
    }
   ],
   "source": [
    "bsub -J view \\\n",
    "-o $WORKDIR_SLR/samtools_view.out \\\n",
    "-e $WORKDIR_SLR/samtools_view.err \\\n",
    "\"samtools view -Sb $WORKDIR_SLR/align-self.sam > $WORKDIR_SLR/align-self.bam\""
   ]
  },
  {
   "cell_type": "markdown",
   "metadata": {},
   "source": [
    "### 3.3 Aligning long reads to contigs"
   ]
  },
  {
   "cell_type": "code",
   "execution_count": 14,
   "metadata": {},
   "outputs": [],
   "source": [
    "LR_P=/workspace/hraczw/github/GA/Gillenia_genome/004.Scaffolding_10Xcontigs/Gillenia_PromethION.ml30k.fastq"
   ]
  },
  {
   "cell_type": "code",
   "execution_count": 19,
   "metadata": {},
   "outputs": [
    {
     "name": "stdout",
     "output_type": "stream",
     "text": [
      "Job <737965> is submitted to default queue <lowpriority>.\n"
     ]
    }
   ],
   "source": [
    "bsub -J align \\\n",
    "-o $WORKDIR_SLR/bwa_align.out \\\n",
    "-e $WORKDIR_SLR/bwa_align.err \\\n",
    "-n 40 \\\n",
    "\"bwa mem -t40 -k11 -W20 -r10 -A1 -B1 -O1 -E1 -L0 -a -Y \\\n",
    "$ASSEMBLY_P1 \\\n",
    "$LR_P \\\n",
    "> $WORKDIR_SLR/align-withLongReads.sam\""
   ]
  },
  {
   "cell_type": "code",
   "execution_count": 24,
   "metadata": {},
   "outputs": [
    {
     "name": "stdout",
     "output_type": "stream",
     "text": [
      "Job <739151> is submitted to default queue <lowpriority>.\n"
     ]
    }
   ],
   "source": [
    "bsub -J view \\\n",
    "-n 40 \\\n",
    "-o $WORKDIR_SLR/samtools_view_bwa_align.out \\\n",
    "-e $WORKDIR_SLR/samtools_view_bwa_align.err \\\n",
    "\"samtools view -Sb -@ 40 $WORKDIR_SLR/align-withLongReads.sam > $WORKDIR_SLR/align-withLongReads.bam\""
   ]
  },
  {
   "cell_type": "code",
   "execution_count": 33,
   "metadata": {},
   "outputs": [
    {
     "name": "stdout",
     "output_type": "stream",
     "text": [
      "Job <740622> is submitted to default queue <lowpriority>.\n"
     ]
    }
   ],
   "source": [
    "bsub -J SLR \\\n",
    "-m aklppb34 \\\n",
    "-o $WORKDIR_SLR/slr.out \\\n",
    "-e $WORKDIR_SLR/slr.err \\\n",
    "\"SLR -c $ASSEMBLY_P1 \\\n",
    "-r $WORKDIR_SLR/align-withLongReads.bam \\\n",
    "-d $WORKDIR_SLR/align-self.bam \\\n",
    "-p $WORKDIR_SLR\""
   ]
  },
  {
   "cell_type": "code",
   "execution_count": 11,
   "metadata": {},
   "outputs": [
    {
     "name": "stdout",
     "output_type": "stream",
     "text": [
      "align-self.bam\t\t     samtools_view_bwa_align.out\n",
      "align-withLongReads.bam      samtools_view.err\n",
      "align-withLongReads.sam      samtools_view.out\n",
      "ambiguous-contig-set.fa      scaffold_set.fa\n",
      "bwa_align.err\t\t     scaffold_set.fa.fai\n",
      "bwa_align.out\t\t     scaffold_set_renamedForBusco.fasta\n",
      "bwa_index.err\t\t     scaffold_tag.fa\n",
      "bwa_index.out\t\t     shortContigOptimizePathInLongRead.fa\n",
      "graph.fa\t\t     shortContigPathInLongRead.fa\n",
      "graph.GFA2\t\t     slr.err\n",
      "optimizePathInLongRead.fa    slr.out\n",
      "originalPathInLongRead.fa    unique-contig-set.fa\n",
      "samtools_view_bwa_align.err\n"
     ]
    }
   ],
   "source": [
    "ls $WORKDIR_SLR"
   ]
  }
 ],
 "metadata": {
  "kernelspec": {
   "display_name": "Bash",
   "language": "bash",
   "name": "bash"
  },
  "language_info": {
   "codemirror_mode": "shell",
   "file_extension": ".sh",
   "mimetype": "text/x-sh",
   "name": "bash"
  }
 },
 "nbformat": 4,
 "nbformat_minor": 4
}
