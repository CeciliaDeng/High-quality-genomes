{
 "cells": [
  {
   "cell_type": "markdown",
   "metadata": {},
   "source": [
    "# Coverage profile and haplotype purging\n",
    "\n",
    "Assemblies were generated from long reads and corrected using short reads for one iteration on PILON"
   ]
  },
  {
   "cell_type": "code",
   "execution_count": 1,
   "metadata": {},
   "outputs": [],
   "source": [
    "mkdir 010.PurgeHaplotigs"
   ]
  },
  {
   "cell_type": "code",
   "execution_count": 1,
   "metadata": {},
   "outputs": [],
   "source": [
    "WORKDIR=/workspace/hraczw/github/GA/Gillenia_genome/010.PurgeHaplotigs\n",
    "ASSEMBLY_PATH=/workspace/hraczw/github/GA/Gillenia_genome/010.PurgeHaplotigs\n",
    "ONT=/output/genomic/plant/Gillenia/trifoliata/Assembly/ONT_trimmed/All_AdapterRemoved.fastq.gz"
   ]
  },
  {
   "cell_type": "code",
   "execution_count": 3,
   "metadata": {},
   "outputs": [
    {
     "name": "stdout",
     "output_type": "stream",
     "text": [
      "/output/genomic/plant/Gillenia/trifoliata/31_ReleaseS4/01_Release/G3_2_S4.1.2KB.fasta\n"
     ]
    }
   ],
   "source": [
    "cat $ASSEMBLY_PATH/assemblies.txt"
   ]
  },
  {
   "cell_type": "code",
   "execution_count": 5,
   "metadata": {},
   "outputs": [
    {
     "name": "stdout",
     "output_type": "stream",
     "text": [
      "(base) (/workspace/appscratch/miniconda/purge_haplotigs_env) "
     ]
    },
    {
     "ename": "",
     "evalue": "1",
     "output_type": "error",
     "traceback": []
    }
   ],
   "source": [
    "module unload perl/5.28.0\n",
    "module load perl/5.28.0-thread-multi\n",
    "module load bedtools/2.27.1\n",
    "module load R/3.6.1\n",
    "export PATH=$PATH:/workspace/hrarnc/GitHub/minimap2\n",
    "module load conda/4.5.1\n",
    "conda activate purge_haplotigs_env"
   ]
  },
  {
   "cell_type": "code",
   "execution_count": 6,
   "metadata": {},
   "outputs": [
    {
     "name": "stdout",
     "output_type": "stream",
     "text": [
      "(/workspace/appscratch/miniconda/purge_haplotigs_env) Currently Loaded Modulefiles:\n",
      "  1) powerPlant/core            9) unixODBC/2.3.0\n",
      "  2) texlive/20151117          10) JAGS/4.2.0\n",
      "  3) pandoc/1.19.2             11) gdal/2.4.0\n",
      "  4) git/2.21.0                12) proj/5.2.0\n",
      "  5) perlbrew/0.76             13) R/3.6.1\n",
      "  6) asub/2.1                  14) conda/4.5.1\n",
      "  7) perl/5.28.0-thread-multi  15) samtools/1.9\n",
      "  8) bedtools/2.27.1\n",
      "(/workspace/appscratch/miniconda/purge_haplotigs_env) "
     ]
    },
    {
     "ename": "",
     "evalue": "1",
     "output_type": "error",
     "traceback": []
    }
   ],
   "source": [
    "module load samtools\n",
    "module list"
   ]
  },
  {
   "cell_type": "code",
   "execution_count": 7,
   "metadata": {},
   "outputs": [
    {
     "name": "stdout",
     "output_type": "stream",
     "text": [
      "Job <263739> is submitted to default queue <lowpriority>.\n",
      "(/workspace/appscratch/miniconda/purge_haplotigs_env) "
     ]
    },
    {
     "ename": "",
     "evalue": "1",
     "output_type": "error",
     "traceback": []
    }
   ],
   "source": [
    "python << EOF\n",
    "\n",
    "import sys, os\n",
    "\n",
    "f = open('$ASSEMBLY_PATH/assemblies.txt', 'r')\n",
    "\n",
    "for line in f:\n",
    "    assembly = line.split('\\n')[0]\n",
    "    assemblyName = line.split('/')[-1].split('.fa')[0]\n",
    "    os.system('bsub -J minimap2 \\\n",
    "            -m aklppb39 \\\n",
    "            -n 40 \\\n",
    "            -o $WORKDIR/' + assemblyName + '_minimap2.out \\\n",
    "            -e $WORKDIR/' + assemblyName + '_minimap2.err \\\n",
    "            \"minimap2 -t 40 --secondary=no -ax map-ont ' + assembly + ' $ONT | \\\n",
    "            samtools sort -@ 40 -o $WORKDIR/' + assemblyName + '.ONT.aligned.sorted.bam -\"')\n",
    "\n",
    "\n",
    "f.close()\n",
    "\n",
    "EOF"
   ]
  },
  {
   "cell_type": "code",
   "execution_count": 8,
   "metadata": {},
   "outputs": [
    {
     "name": "stdout",
     "output_type": "stream",
     "text": [
      "(/workspace/appscratch/miniconda/purge_haplotigs_env) "
     ]
    },
    {
     "ename": "",
     "evalue": "1",
     "output_type": "error",
     "traceback": []
    }
   ],
   "source": [
    "export PATH=/workspace/appscratch/miniconda/purge_haplotigs_env/bin/:$PATH"
   ]
  },
  {
   "cell_type": "code",
   "execution_count": 9,
   "metadata": {},
   "outputs": [
    {
     "name": "stdout",
     "output_type": "stream",
     "text": [
      "[12-08-2020 13:51:27] bedtools OK!\n",
      "[12-08-2020 13:51:27] Rscript OK!\n",
      "[12-08-2020 13:51:27] samtools OK!\n",
      "[12-08-2020 13:51:27] ALL DEPENDENCIES OK\n",
      "\n",
      "\n",
      "\n",
      "USAGE:\n",
      "purge_haplotigs  hist  -b aligned.bam  -g genome.fasta  [ -t threads ]\n",
      "\n",
      "REQUIRED:\n",
      "-b / -bam       BAM file of aligned and sorted reads/subreads to the reference\n",
      "-g / -genome    Reference FASTA for the BAM file.\n",
      "\n",
      "OPTIONAL:\n",
      "-t / -threads   Number of worker threads to use, DEFAULT = 4, MINIMUM = 2\n",
      "-d / -depth     Maximum cutoff for depth. DEFAULT = 200, increase if needed,\n",
      "                set much higher than your expected average coverage.\n",
      "(/workspace/appscratch/miniconda/purge_haplotigs_env) "
     ]
    },
    {
     "ename": "",
     "evalue": "1",
     "output_type": "error",
     "traceback": []
    }
   ],
   "source": [
    "purge_haplotigs hist"
   ]
  },
  {
   "cell_type": "code",
   "execution_count": 10,
   "metadata": {},
   "outputs": [
    {
     "name": "stdout",
     "output_type": "stream",
     "text": [
      "(/workspace/appscratch/miniconda/purge_haplotigs_env) (/workspace/appscratch/miniconda/purge_haplotigs_env) (/workspace/appscratch/miniconda/purge_haplotigs_env) (/workspace/appscratch/miniconda/purge_haplotigs_env) bsub -J hist     -m wkoppg32     -n 20     -o /workspace/hraczw/github/GA/Gillenia_genome/010.PurgeHaplotigs/G3_2_S4.1.2KB_hist.out     -e /workspace/hraczw/github/GA/Gillenia_genome/010.PurgeHaplotigs/G3_2_S4.1.2KB_hist.err     \"purge_haplotigs hist     -b /workspace/hraczw/github/GA/Gillenia_genome/010.PurgeHaplotigs/G3_2_S4.1.2KB.ONT.aligned.sorted.bam     -g /output/genomic/plant/Gillenia/trifoliata/31_ReleaseS4/01_Release/G3_2_S4.1.2KB.fasta -t 20 -d 300\"\n",
      "(/workspace/appscratch/miniconda/purge_haplotigs_env) "
     ]
    },
    {
     "ename": "",
     "evalue": "1",
     "output_type": "error",
     "traceback": []
    }
   ],
   "source": [
    "# this step will generate a temp folder and running multiple jobs with the same folder generating can collapse\n",
    "# better to create different subfolders and then run each job under different folder\n",
    "\n",
    "\n",
    "python << EOF\n",
    "\n",
    "f = open('$ASSEMBLY_PATH/assemblies.txt', 'r')\n",
    "\n",
    "\n",
    "for line in f:\n",
    "    assembly = line.split('\\n')[0]\n",
    "    assemblyName = line.split('/')[-1].split('.fa')[0]\n",
    "    command = 'bsub -J hist \\\n",
    "    -m wkoppg32 \\\n",
    "    -n 20 \\\n",
    "    -o $WORKDIR/' + assemblyName + '_hist.out \\\n",
    "    -e $WORKDIR/' + assemblyName + '_hist.err \\\n",
    "    \"purge_haplotigs hist \\\n",
    "    -b $WORKDIR/' + assemblyName + '.ONT.aligned.sorted.bam \\\n",
    "    -g ' + assembly + ' -t 20 -d 300\"'\n",
    "    print (command)\n",
    "\n",
    "f.close()\n",
    "\n",
    "EOF"
   ]
  },
  {
   "cell_type": "code",
   "execution_count": 11,
   "metadata": {},
   "outputs": [
    {
     "name": "stdout",
     "output_type": "stream",
     "text": [
      "Job <263876> is submitted to default queue <lowpriority>.\n",
      "(/workspace/appscratch/miniconda/purge_haplotigs_env) "
     ]
    },
    {
     "ename": "",
     "evalue": "1",
     "output_type": "error",
     "traceback": []
    }
   ],
   "source": [
    "bsub -J hist     -m wkoppg32     -n 20     -o /workspace/hraczw/github/GA/Gillenia_genome/010.PurgeHaplotigs/G3_2_S4.1.2KB_hist.out     -e /workspace/hraczw/github/GA/Gillenia_genome/010.PurgeHaplotigs/G3_2_S4.1.2KB_hist.err     \"purge_haplotigs hist     -b /workspace/hraczw/github/GA/Gillenia_genome/010.PurgeHaplotigs/G3_2_S4.1.2KB.ONT.aligned.sorted.bam     -g /output/genomic/plant/Gillenia/trifoliata/31_ReleaseS4/01_Release/G3_2_S4.1.2KB.fasta -t 20 -d 300\""
   ]
  },
  {
   "cell_type": "code",
   "execution_count": 12,
   "metadata": {},
   "outputs": [
    {
     "name": "stdout",
     "output_type": "stream",
     "text": []
    },
    {
     "data": {
      "image/png": "[encoded data removed]"
     },
     "metadata": {},
     "output_type": "display_data"
    },
    {
     "name": "stdout",
     "output_type": "stream",
     "text": [
      "(/workspace/appscratch/miniconda/purge_haplotigs_env) "
     ]
    },
    {
     "ename": "",
     "evalue": "1",
     "output_type": "error",
     "traceback": []
    }
   ],
   "source": [
    "cat /workspace/hraczw/github/GA/Gillenia_genome/010.PurgeHaplotigs/G3_2_S4.1.2KB.ONT.aligned.sorted.bam.histogram.png | display"
   ]
  },
  {
   "cell_type": "code",
   "execution_count": 13,
   "metadata": {},
   "outputs": [
    {
     "name": "stdout",
     "output_type": "stream",
     "text": [
      "\n",
      "USAGE:\n",
      "purge_haplotigs  cov  -i aligned.bam.genecov  -l <integer>  -m <integer>  -h <integer>  [-o coverage_stats.csv -j 80  -s 80 ]\n",
      "\n",
      "REQUIRED:\n",
      "-i / -in        The bedtools genomecov output that was produced from 'purge_haplotigs readhist'\n",
      "-l / -low       The read depth low cutoff (use the histogram to eyeball these cutoffs)\n",
      "-h / -high      The read depth high cutoff\n",
      "-m / -mid       The low point between the haploid and diploid peaks\n",
      "\n",
      "OPTIONAL:\n",
      "-o / -out       Choose an output file name (CSV format, DEFAULT = coverage_stats.csv)\n",
      "-j / -junk      Auto-assign contig as \"j\" (junk) if this percentage or greater of the contig is \n",
      "                low/high coverage (DEFAULT = 80, > 100 = don't junk anything)\n",
      "-s / -suspect   Auto-assign contig as \"s\" (suspected haplotig) if this percentage or less of the\n",
      "                contig is diploid level of coverage (DEFAULT = 80)\n",
      "\n",
      "(/workspace/appscratch/miniconda/purge_haplotigs_env) "
     ]
    },
    {
     "ename": "",
     "evalue": "1",
     "output_type": "error",
     "traceback": []
    }
   ],
   "source": [
    "purge_haplotigs cov "
   ]
  },
  {
   "cell_type": "code",
   "execution_count": 14,
   "metadata": {},
   "outputs": [
    {
     "name": "stdout",
     "output_type": "stream",
     "text": [
      "Job <263907> is submitted to default queue <lowpriority>.\n",
      "(/workspace/appscratch/miniconda/purge_haplotigs_env) "
     ]
    },
    {
     "ename": "",
     "evalue": "1",
     "output_type": "error",
     "traceback": []
    }
   ],
   "source": [
    "bsub -J cov \\\n",
    "-o $WORKDIR/cov.out \\\n",
    "-e $WORKDIR/cov.err \\\n",
    "\"purge_haplotigs cov \\\n",
    "-i $WORKDIR/G3_2_S4.1.2KB.ONT.aligned.sorted.bam.gencov \\\n",
    "-l 110 \\\n",
    "-m 236 \\\n",
    "-h 170 \\\n",
    "-o $WORKDIR/G3_2_S4.1.2KB.ONT.aligned.sorted.bam.coverage_stats.csv\""
   ]
  },
  {
   "cell_type": "code",
   "execution_count": 2,
   "metadata": {},
   "outputs": [
    {
     "name": "stdout",
     "output_type": "stream",
     "text": [
      "assemblies.txt\n",
      "cov.err\n",
      "cov.out\n",
      "G3_2_S4.1.2KB.fasta\n",
      "G3_2_S4.1.2KB_hist.err\n",
      "G3_2_S4.1.2KB_hist.out\n",
      "G3_2_S4.1.2KB_minimap2.err\n",
      "G3_2_S4.1.2KB_minimap2.out\n",
      "G3_2_S4.1.2KB.ONT.aligned.sorted.bam\n",
      "G3_2_S4.1.2KB.ONT.aligned.sorted.bam.bai\n",
      "G3_2_S4.1.2KB.ONT.aligned.sorted.bam.coverage_stats.csv\n",
      "G3_2_S4.1.2KB.ONT.aligned.sorted.bam.gencov\n",
      "G3_2_S4.1.2KB.ONT.aligned.sorted.bam.histogram.png\n"
     ]
    }
   ],
   "source": [
    "ls $WORKDIR"
   ]
  },
  {
   "cell_type": "code",
   "execution_count": 33,
   "metadata": {
    "collapsed": true,
    "jupyter": {
     "outputs_hidden": true
    }
   },
   "outputs": [
    {
     "name": "stdout",
     "output_type": "stream",
     "text": [
      "[06-04-2020 22:31:45] bash OK!\n",
      "[06-04-2020 22:31:45] bedtools OK!\n",
      "[06-04-2020 22:31:45] minimap2 OK!\n",
      "[06-04-2020 22:31:45] samtools OK!\n",
      "\n",
      "USAGE:\n",
      "purge_haplotigs  purge  -g genome.fasta  -c coverage_stats.csv\n",
      "\n",
      "REQUIRED:\n",
      "-g / -genome        Genome assembly in fasta format. Needs to be indexed with samtools faidx.\n",
      "-c / -coverage      Contig by contig coverage stats csv file from the previous step.\n",
      "\n",
      "OPTIONAL:\n",
      "-t / -threads       Number of worker threads to use. DEFAULT = 4\n",
      "-o / -outprefix     Prefix for the curated assembly. DEFAULT = \"curated\"\n",
      "-r / -repeats       BED-format file of repeats to ignore during analysis.\n",
      "-d / -dotplots      Generate dotplots for manual inspection.\n",
      "-b / -bam           Samtools-indexed bam file of aligned and sorted reads/subreads to the\n",
      "                    reference, required for generating dotplots.\n",
      "-f / -falconNaming  Rename contigs in the style used by FALCON/FALCON-unzip\n",
      "\n",
      "ADVANCED:\n",
      "-a / -align_cov     Percent cutoff for identifying a contig as a haplotig. DEFAULT = 70\n",
      "-m / -max_match     Percent cutoff for identifying repetitive contigs. Ignored when \n",
      "                    using repeat annotations (-repeats). DEFAULT = 250\n",
      "-I                  Minimap2 indexing, drop minimisers every N bases, DEFAULT = 4G\n",
      "-v / -verbose       Print EVERYTHING.\n",
      "-limit_io           Limit for I/O intensive jobs. DEFAULT = -threads\n",
      "-wind_min           Min window size for BED coverage plots (for dotplots). DEFAULT = 5000\n",
      "-wind_nmax          Max windows per contig for BED coverage plots (for dotplots). DEFAULT = 200\n",
      "\n",
      "(/workspace/appscratch/miniconda/purge_haplotigs_env) "
     ]
    },
    {
     "ename": "",
     "evalue": "1",
     "output_type": "error",
     "traceback": []
    }
   ],
   "source": [
    "purge_haplotigs purge"
   ]
  },
  {
   "cell_type": "code",
   "execution_count": 7,
   "metadata": {},
   "outputs": [
    {
     "name": "stdout",
     "output_type": "stream",
     "text": [
      "Job <265892> is submitted to default queue <lowpriority>.\n",
      "(/workspace/appscratch/miniconda/purge_haplotigs_env) "
     ]
    },
    {
     "ename": "",
     "evalue": "1",
     "output_type": "error",
     "traceback": []
    }
   ],
   "source": [
    "bsub -J purge \\\n",
    "-n 12 \\\n",
    "-o $WORKDIR/purge.out \\\n",
    "-e $WORKDIR/purge.err \\\n",
    "\"purge_haplotigs purge \\\n",
    "-g /output/genomic/plant/Gillenia/trifoliata/31_ReleaseS4/01_Release/G3_2_S4.1.2KB.fasta \\\n",
    "-c $WORKDIR/G3_2_S4.1.2KB.ONT.aligned.sorted.bam.coverage_stats.csv \\\n",
    "-t 12 \\\n",
    "-d \\\n",
    "-b $WORKDIR/G3_2_S4.1.2KB.ONT.aligned.sorted.bam \\\n",
    "-o $WORKDIR/G3_2_S4.1.2KB.curated\""
   ]
  }
 ],
 "metadata": {
  "kernelspec": {
   "display_name": "Bash",
   "language": "bash",
   "name": "bash"
  },
  "language_info": {
   "codemirror_mode": "shell",
   "file_extension": ".sh",
   "mimetype": "text/x-sh",
   "name": "bash"
  }
 },
 "nbformat": 4,
 "nbformat_minor": 4
}
