{
 "cells": [
  {
   "cell_type": "markdown",
   "metadata": {},
   "source": [
    "# HiC scaffolding using Ali's tool - Gillenia\n",
    "\n",
    "## Background and aim\n",
    "\n",
    "ALLHIC did not produce a reasonable chr-level genome assembly from Gillenia scaffolds. We are looking at whether Ali's tool can be used to post-scaffold assemblies. A 10 rounds of LINKS scaffolds have been found with quite a few mis-scaffolds, thus a test on reduced rounds of scaffolds is required. The selection of i1, i4, i6, i8 and SLR assemblies are chosen to look at mis-scaffolding issues. All these scaffold sets have been gap-filled with raw long reads and removed bacteria sequences."
   ]
  },
  {
   "cell_type": "markdown",
   "metadata": {},
   "source": [
    "## 1. generating input files"
   ]
  },
  {
   "cell_type": "code",
   "execution_count": 1,
   "metadata": {},
   "outputs": [],
   "source": [
    "WORKDIR=/workspace/hraczw/github/GA/Gillenia_genome/008.Allhic.scaffolding/Ali_hictool/scaffolds_ragoo"
   ]
  },
  {
   "cell_type": "code",
   "execution_count": 2,
   "metadata": {},
   "outputs": [],
   "source": [
    "ASSEMBLY_RAGOO=/powerplant/workspace/hraczw/github/GA/Gillenia_genome/005.GapFilling/scaff_ragoo_gapfilled_noContamination.fasta\n",
    "ASSEMBLY_RAGOO_ML10K=/powerplant/workspace/hraczw/github/GA/Gillenia_genome/005.GapFilling/scaff_ragoo_gapfilled_noContamination.ml10000.fasta"
   ]
  },
  {
   "cell_type": "code",
   "execution_count": 3,
   "metadata": {},
   "outputs": [],
   "source": [
    "ASSEMBLY_RAGOO_MAP=/workspace/hraczw/github/GA/Gillenia_genome/008.Allhic.scaffolding/mapped_ragoo.REduced.paired_only.bam\n",
    "ASSEMBLY_RAGOO_ML10K_MAP=/workspace/hraczw/github/GA/Gillenia_genome/015.salsa2/pairs_updated_DuplicatesRemoved.bam"
   ]
  },
  {
   "cell_type": "code",
   "execution_count": 1,
   "metadata": {},
   "outputs": [],
   "source": [
    "ASSEMBLY_RAGOO_MAP_PLUSTELO=/workspace/hraczw/github/GA/Gillenia_genome/008.Allhic.scaffolding/mapped_ragoo_plustelo.REduced.paired_only.bam"
   ]
  },
  {
   "cell_type": "code",
   "execution_count": 4,
   "metadata": {},
   "outputs": [],
   "source": [
    "CHR=/workspace/hraczw/github/GA/Gillenia_genome/008.Allhic.scaffolding/mapped_ragoo_chrs.REduced.paired_only.bam"
   ]
  },
  {
   "cell_type": "code",
   "execution_count": 3,
   "metadata": {},
   "outputs": [
    {
     "name": "stdout",
     "output_type": "stream",
     "text": [
      "Currently Loaded Modulefiles:\n",
      "  1) powerPlant/core    4) git/2.21.0         7) asub/2.1\n",
      "  2) texlive/20151117   5) perlbrew/0.76      8) samtools/1.9\n",
      "  3) pandoc/1.19.2      6) perl/5.28.0\n"
     ]
    }
   ],
   "source": [
    "module load samtools\n",
    "module list"
   ]
  },
  {
   "cell_type": "code",
   "execution_count": 5,
   "metadata": {},
   "outputs": [
    {
     "name": "stdout",
     "output_type": "stream",
     "text": [
      "Job <638869> is submitted to default queue <lowpriority>.\n"
     ]
    }
   ],
   "source": [
    "# generating contact file\n",
    "\n",
    "command=\"samtools view $CHR | \\\n",
    "/workspace/hrpazs/bilberry_genome/filter_reads.awk -v isize=0 q=0 | \\\n",
    "/workspace/hrpazs/software/dryhic/inst/src/reads_to_bins_whole.awk -v w=100 > \\\n",
    "$WORKDIR/chr_contact_map_100_qualFilt.txt\"\n",
    "bsub -J convert -o $WORKDIR/chr_convert_to_contactMap100.out -e $WORKDIR/chr_convert_to_contactMap100.err $command\n",
    "\n",
    "\n"
   ]
  },
  {
   "cell_type": "code",
   "execution_count": 5,
   "metadata": {},
   "outputs": [
    {
     "name": "stdout",
     "output_type": "stream",
     "text": [
      "Job <269674> is submitted to default queue <lowpriority>.\n"
     ]
    }
   ],
   "source": [
    "# generating contact file\n",
    "\n",
    "command=\"samtools view $ASSEMBLY_RAGOO_MAP | \\\n",
    "/workspace/hrpazs/bilberry_genome/filter_reads.awk -v isize=0 q=0 | \\\n",
    "/workspace/hrpazs/software/dryhic/inst/src/reads_to_bins_whole.awk -v w=100 > \\\n",
    "$WORKDIR/mapped_ragoo_contact_map_100_qualFilt.txt\"\n",
    "bsub -J convert -o $WORKDIR/mapped_ragoo_convert_to_contactMap_100.out -e $WORKDIR/mapped_ragoo_convert_to_contactMap_100.err $command"
   ]
  },
  {
   "cell_type": "code",
   "execution_count": null,
   "metadata": {},
   "outputs": [],
   "source": [
    "# this is R command to sum the above result up\n",
    "\n",
    "Gillenia_contact.map_ontigs_filt  <- fread(\"/Volumes/workspace/hrpazs/Gillenia_genome/Gillenia_HiC.contact.mat.1kb.filt.txt\", nThread = 5, sep = \"\\t\") %>%\n",
    "  .[, .(n = sum(V5)), by = .(V1, V2, V3, V4)] %>%\n",
    "  setnames(., c(\"V1\", \"V2\",\"V3\", \"V4\"), c(\"rname\", \"pos\", \"mrnm\", \"mpos\")) %>%\n",
    "  filter(n > 1)\n",
    "\n",
    "# this has been put in to a Rscript on Pp:\n",
    "# /workspace/hraczw/github/GA/Gillenia_genome/008.Allhic.scaffolding/Ali_hictool/scaffolds_ragoo/script.R\n",
    "# need to modify and then generate .rds file"
   ]
  },
  {
   "cell_type": "code",
   "execution_count": null,
   "metadata": {},
   "outputs": [],
   "source": [
    "# generating sequence length file\n",
    "\n"
   ]
  },
  {
   "cell_type": "code",
   "execution_count": null,
   "metadata": {},
   "outputs": [],
   "source": [
    "#open the server file from Rstudio:\n",
    "/workspace/hrpazs/petunia_genome/HiC/HicTool/server.R\n",
    "\n",
    "# import files"
   ]
  },
  {
   "cell_type": "markdown",
   "metadata": {},
   "source": [
    "## 2. scaffolding using hictool from Ali"
   ]
  },
  {
   "cell_type": "markdown",
   "metadata": {},
   "source": [
    "## 3. generating fasta linkage group file\n",
    "\n",
    "* script obtained from here, modified by Ali based on LECHESIS script: http://aklisl11.pfr.co.nz/workspace/hrpazs/bilberry_genome/CreateScaffoldedFasta.pl; usage: ./CreateScaffoldedFasta.pl $assembly_fasta, $input_dir, $output_dir, $output_fasta_name\n",
    "* convert input grouping & orientating files into this format: http://aklisl11.pfr.co.nz/workspace/hrpazs/bilberry_genome/groups/"
   ]
  },
  {
   "cell_type": "code",
   "execution_count": null,
   "metadata": {},
   "outputs": [],
   "source": [
    "# script to convert scaffold grouping and orientating files:\n",
    "\n",
    "f = open('Chr9_2.txt','r')\n",
    "f1 = open('Chr9_2_converted.txt','w')\n",
    "\n",
    "for line in f:\n",
    "    item = line.strip()\n",
    "    strand = item[0]\n",
    "    id = item.split(strand)[1]\n",
    "    if strand == '+':\n",
    "        f1.write(id + '\\t1\\t.\\t.\\n')\n",
    "    else:\n",
    "        f1.write(id + '\\t0\\t.\\t.\\n')\n",
    "\n",
    "f.close()\n",
    "f1.close()"
   ]
  },
  {
   "cell_type": "code",
   "execution_count": null,
   "metadata": {},
   "outputs": [],
   "source": [
    "# script to construct chr0\n",
    "\n",
    "f = open('Chr0.txt','r')\n",
    "f1 = open('Chr0_converted.txt','w')\n",
    "\n",
    "for line in f:\n",
    "    id = line.strip()\n",
    "    f1.write(id + '\\t1\\t.\\t.\\n')\n",
    "\n",
    "\n",
    "f.close()\n",
    "f1.close()"
   ]
  }
 ],
 "metadata": {
  "kernelspec": {
   "display_name": "Bash",
   "language": "bash",
   "name": "bash"
  },
  "language_info": {
   "codemirror_mode": "shell",
   "file_extension": ".sh",
   "mimetype": "text/x-sh",
   "name": "bash"
  }
 },
 "nbformat": 4,
 "nbformat_minor": 4
}
