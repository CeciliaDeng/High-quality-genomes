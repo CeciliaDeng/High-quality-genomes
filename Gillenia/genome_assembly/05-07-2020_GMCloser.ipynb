{
 "cells": [
  {
   "cell_type": "markdown",
   "metadata": {},
   "source": [
    "# Gap filling using GMCloser"
   ]
  },
  {
   "cell_type": "code",
   "execution_count": 3,
   "metadata": {},
   "outputs": [
    {
     "name": "stdout",
     "output_type": "stream",
     "text": [
      "Currently Loaded Modulefiles:\n",
      "  1) powerPlant/core    4) git/2.21.0         7) perl/bio-extras\n",
      "  2) texlive/20151117   5) perlbrew/0.76      8) GMcloser/1.6.2\n",
      "  3) pandoc/1.19.2      6) asub/2.1\n"
     ]
    }
   ],
   "source": [
    "module unload perl\n",
    "module load GMcloser/1.6.2\n",
    "module list"
   ]
  },
  {
   "cell_type": "code",
   "execution_count": 4,
   "metadata": {},
   "outputs": [],
   "source": [
    "SCAFF_LINKS_I8=/workspace/hraczw/github/GA/Gillenia_genome/004.Scaffolding_10Xcontigs/k21_t20_d5000/scaffolds_k21_t10_d40000.scaffolds.fa\n",
    "FLYE_CTG=/workspace/hraczw/github/GA/Gillenia_genome/100.assemblies/Flye_all_i1.assembly.ml1000.fasta\n",
    "R1=/input/genomic/plant/Gillenia/trifoliata/2019_Novogene_10X/customer-6g2hQKfL/BDHX190030841-1a/G3-2-AK3720_S4_L001_R1_001.fastq.gz\n",
    "R2=/input/genomic/plant/Gillenia/trifoliata/2019_Novogene_10X/customer-6g2hQKfL/BDHX190030841-1a/G3-2-AK3720_S4_L001_R2_001.fastq.gz"
   ]
  },
  {
   "cell_type": "code",
   "execution_count": 5,
   "metadata": {},
   "outputs": [],
   "source": [
    "WORKDIR=/workspace/hraczw/github/GA/Gillenia_genome/004.Scaffolding_10Xcontigs"
   ]
  },
  {
   "cell_type": "code",
   "execution_count": null,
   "metadata": {},
   "outputs": [],
   "source": [
    "bsub -J gmcloser \\\n",
    "-o $WORKDIR/gmcloser.out\\\n",
    "-e $WORKDIR/gmcloser.err \\\n",
    "-n 40 \\\n",
    "-m aklppb34 \\\n",
    "\"gmcloser -t $SCAFF_LINKS_I8 -q $FLYE_CTG -r $R1 $R2 \\\n",
    "--min_match_len 200 \\\n",
    "--min_identity 95\n",
    "-p gmcloser_filled -l 120 -i 400 -d 40 -c -n 20\""
   ]
  }
 ],
 "metadata": {
  "kernelspec": {
   "display_name": "Bash",
   "language": "bash",
   "name": "bash"
  },
  "language_info": {
   "codemirror_mode": "shell",
   "file_extension": ".sh",
   "mimetype": "text/x-sh",
   "name": "bash"
  }
 },
 "nbformat": 4,
 "nbformat_minor": 4
}
