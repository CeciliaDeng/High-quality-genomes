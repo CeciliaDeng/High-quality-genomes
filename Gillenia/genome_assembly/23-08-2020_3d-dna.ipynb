{
 "cells": [
  {
   "cell_type": "markdown",
   "metadata": {},
   "source": [
    "# chimeric scaffold correction using 3d-dna pipeline"
   ]
  },
  {
   "cell_type": "code",
   "execution_count": 1,
   "metadata": {},
   "outputs": [],
   "source": [
    "mkdir 013.3d-dna.chimericCorrection"
   ]
  },
  {
   "cell_type": "code",
   "execution_count": 2,
   "metadata": {},
   "outputs": [],
   "source": [
    "export PATH=/workspace/hraczw/github/programs/3d-dna/:$PATH"
   ]
  },
  {
   "cell_type": "code",
   "execution_count": 3,
   "metadata": {},
   "outputs": [
    {
     "name": "stdout",
     "output_type": "stream",
     "text": [
      "/powerplant/workspace/hraczw/github/programs/3d-dna/run-asm-pipeline.sh -h\n",
      "version: 180922\n",
      "\n",
      "*****************************************************\n",
      "3D de novo assembly: version 180114\n",
      "\n",
      "USAGE: ./run-asm-pipeline.sh [options] <path_to_input_fasta> <path_to_input_mnd> \n",
      "\n",
      "DESCRIPTION:\n",
      "This is a script to assemble draft assemblies (represented in input by draft fasta and deduplicated list of alignments of Hi-C reads to this fasta as produced by the Juicer pipeline) into chromosome-length scaffolds. The script will produce an output fasta file, a Hi-C map of the final assembly, and a few supplementary annotation files to help review the result in Juicebox.\n",
      "\n",
      "ARGUMENTS:\n",
      "path_to_input_fasta\t\t\tSpecify file path to draft assembly fasta file.\n",
      "path_to_input_mnd\t\t\tSpecify path to deduplicated list of alignments of Hi-C reads to the draft assembly fasta as produced by the Juicer pipeline: the merged_nodups file (mnd).\n",
      "\n",
      "OPTIONS:\n",
      "-m|--mode haploid/diploid\t\t\tRuns in specific mode, either haploid or diploid (default is haploid).\n",
      "-i|--input input_size\t\t\tSpecifies threshold input contig/scaffold size (default is 15000). Contigs/scaffolds smaller than input_size are going to be ignored.\n",
      "-r|--rounds number_of_edit_rounds\t\t\tSpecifies number of iterative rounds for misjoin correction (default is 2).\n",
      "-s|--stage stage\t\t\t\t\tFast forward to later assembly steps, can be polish, split, seal, merge and finalize.\n",
      "-h|--help\t\t\tShows this help. Type --help for a full set of options.\n",
      "*****************************************************\n",
      "\n"
     ]
    }
   ],
   "source": [
    "run-asm-pipeline.sh -h"
   ]
  },
  {
   "cell_type": "code",
   "execution_count": 4,
   "metadata": {},
   "outputs": [],
   "source": [
    "ASSEMBLY_RAGOO=/powerplant/workspace/hraczw/github/GA/Gillenia_genome/005.GapFilling/scaff_ragoo_gapfilled_noContamination.fasta"
   ]
  },
  {
   "cell_type": "code",
   "execution_count": null,
   "metadata": {},
   "outputs": [],
   "source": []
  }
 ],
 "metadata": {
  "kernelspec": {
   "display_name": "Bash",
   "language": "bash",
   "name": "bash"
  },
  "language_info": {
   "codemirror_mode": "shell",
   "file_extension": ".sh",
   "mimetype": "text/x-sh",
   "name": "bash"
  }
 },
 "nbformat": 4,
 "nbformat_minor": 4
}
