{
 "cells": [
  {
   "cell_type": "markdown",
   "metadata": {},
   "source": [
    "# visualisation and correction using pretextmap for linkage groups\n",
    "\n",
    "* github link: https://github.com/wtsi-hpag/PretextMap"
   ]
  },
  {
   "cell_type": "markdown",
   "metadata": {},
   "source": [
    "## 1. mapping hic data to linkage groups and pipe to pretextmap"
   ]
  },
  {
   "cell_type": "code",
   "execution_count": 3,
   "metadata": {},
   "outputs": [
    {
     "name": "stdout",
     "output_type": "stream",
     "text": [
      "(base) (base) (base) "
     ]
    },
    {
     "ename": "",
     "evalue": "1",
     "output_type": "error",
     "traceback": []
    }
   ],
   "source": [
    "LINKAGE=/workspace/hraczw/github/GA/Gillenia_genome/014.chr/Chrs_gillenia.fasta\n",
    "HICR1_RAW=/workspace/hraczw/github/GA/Gillenia_genome/002.Fastp.trimming/R1.cleaned.specifiedAdapter.short.Q15.fq.gz\n",
    "HICR2_RAW=/workspace/hraczw/github/GA/Gillenia_genome/002.Fastp.trimming/R2.cleaned.specifiedAdapter.short.Q15.fq.gz"
   ]
  },
  {
   "cell_type": "code",
   "execution_count": 8,
   "metadata": {},
   "outputs": [
    {
     "name": "stdout",
     "output_type": "stream",
     "text": [
      "(/workspace/hraczw/github/programs/pretextmap/hraczw_pretextmap) "
     ]
    },
    {
     "ename": "",
     "evalue": "1",
     "output_type": "error",
     "traceback": []
    }
   ],
   "source": [
    "WORKDIR=/workspace/hraczw/github/GA/Gillenia_genome/014.chr"
   ]
  },
  {
   "cell_type": "code",
   "execution_count": 1,
   "metadata": {},
   "outputs": [
    {
     "name": "stdout",
     "output_type": "stream",
     "text": [
      "(base) "
     ]
    },
    {
     "ename": "",
     "evalue": "1",
     "output_type": "error",
     "traceback": []
    }
   ],
   "source": [
    "module load conda"
   ]
  },
  {
   "cell_type": "code",
   "execution_count": 2,
   "metadata": {},
   "outputs": [
    {
     "name": "stdout",
     "output_type": "stream",
     "text": [
      "Currently Loaded Modulefiles:\n",
      "  1) powerPlant/core    4) git/2.21.0         7) asub/2.1\n",
      "  2) texlive/20151117   5) perlbrew/0.76      8) conda/4.8.2\n",
      "  3) pandoc/1.19.2      6) perl/5.28.0\n",
      "(base) "
     ]
    },
    {
     "ename": "",
     "evalue": "1",
     "output_type": "error",
     "traceback": []
    }
   ],
   "source": [
    "module list"
   ]
  },
  {
   "cell_type": "code",
   "execution_count": 4,
   "metadata": {},
   "outputs": [
    {
     "name": "stdout",
     "output_type": "stream",
     "text": [
      "(/workspace/hraczw/github/programs/pretextmap/hraczw_pretextmap) "
     ]
    },
    {
     "ename": "",
     "evalue": "1",
     "output_type": "error",
     "traceback": []
    }
   ],
   "source": [
    "conda activate /workspace/hraczw/github/programs/pretextmap/hraczw_pretextmap"
   ]
  },
  {
   "cell_type": "code",
   "execution_count": 6,
   "metadata": {},
   "outputs": [
    {
     "name": "stdout",
     "output_type": "stream",
     "text": [
      "[PretextMap status] :: Running with AVX2 CPU extensions\n",
      "\n",
      "PretextMap Version 0.1.4\n",
      "\n",
      "  (...samformat, ...pairsformat |)  PretextMap -o output.pretext\n",
      "                                                        (--sortby ({length}, name, nosort)\n",
      "                                                        --sortorder ({descend}, ascend)\n",
      "                                                        --mapq {10}\n",
      "                                                        --filterInclude \"seq_ [, seq_]*\"\n",
      "                                                        --filterExclude \"seq_ [, seq_]*\")\n",
      "  (< samfile, pairsfile)\n",
      "\n",
      "PretextMap --licence    <- view software licence\n",
      "PretextMap --thirdparty <- view third party software used\n",
      "\n",
      "(/workspace/hraczw/github/programs/pretextmap/hraczw_pretextmap) "
     ]
    },
    {
     "ename": "",
     "evalue": "1",
     "output_type": "error",
     "traceback": []
    }
   ],
   "source": [
    "PretextMap"
   ]
  },
  {
   "cell_type": "code",
   "execution_count": 7,
   "metadata": {},
   "outputs": [
    {
     "name": "stdout",
     "output_type": "stream",
     "text": [
      "(/workspace/hraczw/github/programs/pretextmap/hraczw_pretextmap) Currently Loaded Modulefiles:\n",
      "  1) powerPlant/core    4) git/2.21.0         7) asub/2.1\n",
      "  2) texlive/20151117   5) perlbrew/0.76      8) conda/4.8.2\n",
      "  3) pandoc/1.19.2      6) perl/5.28.0        9) bwa/0.7.17\n",
      "(/workspace/hraczw/github/programs/pretextmap/hraczw_pretextmap) "
     ]
    },
    {
     "ename": "",
     "evalue": "1",
     "output_type": "error",
     "traceback": []
    }
   ],
   "source": [
    "module load bwa\n",
    "module list"
   ]
  },
  {
   "cell_type": "code",
   "execution_count": 10,
   "metadata": {},
   "outputs": [
    {
     "name": "stdout",
     "output_type": "stream",
     "text": [
      "Job <269676> is submitted to default queue <lowpriority>.\n",
      "(/workspace/hraczw/github/programs/pretextmap/hraczw_pretextmap) "
     ]
    },
    {
     "ename": "",
     "evalue": "1",
     "output_type": "error",
     "traceback": []
    }
   ],
   "source": [
    "bsub -J bwa \\\n",
    "-o $WORKDIR/bwa_index.out \\\n",
    "-e $WORKDIR/bwa_index.err \\\n",
    "\"bwa index $LINKAGE\""
   ]
  },
  {
   "cell_type": "code",
   "execution_count": 12,
   "metadata": {},
   "outputs": [
    {
     "name": "stdout",
     "output_type": "stream",
     "text": [
      "JOBID   USER    STAT  QUEUE      FROM_HOST   EXEC_HOST   JOB_NAME   SUBMIT_TIME\n",
      "269674  hraczw  RUN   lowpriorit aklppj31    aklppb49    convert    Aug 31 09:16\n",
      "(/workspace/hraczw/github/programs/pretextmap/hraczw_pretextmap) "
     ]
    },
    {
     "ename": "",
     "evalue": "1",
     "output_type": "error",
     "traceback": []
    }
   ],
   "source": [
    "bjobs"
   ]
  },
  {
   "cell_type": "code",
   "execution_count": 13,
   "metadata": {},
   "outputs": [
    {
     "name": "stdout",
     "output_type": "stream",
     "text": [
      "Job <269677> is submitted to default queue <lowpriority>.\n",
      "(/workspace/hraczw/github/programs/pretextmap/hraczw_pretextmap) "
     ]
    },
    {
     "ename": "",
     "evalue": "1",
     "output_type": "error",
     "traceback": []
    }
   ],
   "source": [
    "bsub -J map \\\n",
    "-n 40 \\\n",
    "-o $WORKDIR/bwa_map.out \\\n",
    "-e $WORKDIR/bwa_map.err \\\n",
    "\"bwa mem \\\n",
    "-t 40 \\\n",
    "$LINKAGE \\\n",
    "$HICR1_RAW \\\n",
    "$HICR2_RAW | PretextMap \\\n",
    "-o $WORKDIR/linkage.pretext\""
   ]
  }
 ],
 "metadata": {
  "kernelspec": {
   "display_name": "Bash",
   "language": "bash",
   "name": "bash"
  },
  "language_info": {
   "codemirror_mode": "shell",
   "file_extension": ".sh",
   "mimetype": "text/x-sh",
   "name": "bash"
  }
 },
 "nbformat": 4,
 "nbformat_minor": 4
}
