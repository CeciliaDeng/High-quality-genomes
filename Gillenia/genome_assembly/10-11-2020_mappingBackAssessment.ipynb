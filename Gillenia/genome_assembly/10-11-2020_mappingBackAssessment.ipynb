{
 "cells": [
  {
   "cell_type": "markdown",
   "metadata": {},
   "source": [
    "# mapping back assessment"
   ]
  },
  {
   "cell_type": "code",
   "execution_count": 1,
   "metadata": {},
   "outputs": [],
   "source": [
    "R1=/input/genomic/plant/Gillenia/trifoliata/2019_Novogene_10X/customer-6g2hQKfL/BDHX190030841-1a/G3-2-AK3720_S4_L001_R1_001.fastq.gz\n",
    "R2=/input/genomic/plant/Gillenia/trifoliata/2019_Novogene_10X/customer-6g2hQKfL/BDHX190030841-1a/G3-2-AK3720_S4_L001_R2_001.fastq.gz"
   ]
  },
  {
   "cell_type": "code",
   "execution_count": 2,
   "metadata": {},
   "outputs": [],
   "source": [
    "REF=/output/genomic/plant/Gillenia/trifoliata/Assembly/gillenia_genome_v1.NCBI.fasta"
   ]
  },
  {
   "cell_type": "markdown",
   "metadata": {},
   "source": [
    "## mapping using bowtie2"
   ]
  },
  {
   "cell_type": "code",
   "execution_count": 3,
   "metadata": {},
   "outputs": [
    {
     "name": "stdout",
     "output_type": "stream",
     "text": [
      "Currently Loaded Modulefiles:\n",
      "  1) powerPlant/core    4) git/2.21.0         7) asub/2.1\n",
      "  2) texlive/20151117   5) perlbrew/0.76      8) bowtie2/2.3.4.3\n",
      "  3) pandoc/1.19.2      6) perl/5.28.0\n"
     ]
    }
   ],
   "source": [
    "module load bowtie2\n",
    "module list"
   ]
  },
  {
   "cell_type": "code",
   "execution_count": 4,
   "metadata": {},
   "outputs": [],
   "source": [
    "mkdir 018.mappingBackAssessment"
   ]
  },
  {
   "cell_type": "code",
   "execution_count": 6,
   "metadata": {},
   "outputs": [],
   "source": [
    "WDR=018.mappingBackAssessment"
   ]
  },
  {
   "cell_type": "code",
   "execution_count": 7,
   "metadata": {},
   "outputs": [
    {
     "name": "stdout",
     "output_type": "stream",
     "text": [
      "Job <578638> is submitted to default queue <lowpriority>.\n"
     ]
    }
   ],
   "source": [
    "bsub -J index \\\n",
    "-n 10 \\\n",
    "-o $WDR/bowtie-index.out \\\n",
    "-e $WDR/bowtie-index.err \\\n",
    "\"bowtie2-build --threads 10 $REF $WDR/gellenia_genome_v1.NCBI\""
   ]
  },
  {
   "cell_type": "code",
   "execution_count": 8,
   "metadata": {},
   "outputs": [
    {
     "name": "stdout",
     "output_type": "stream",
     "text": [
      "Job <578639> is submitted to default queue <lowpriority>.\n"
     ]
    }
   ],
   "source": [
    "bsub -J align \\\n",
    "-n 20 \\\n",
    "-o $WDR/bowtie-map.out \\\n",
    "-e $WDR/bowtie-map.err \\\n",
    "\"bowtie2 -5 35 -3 10 --end-to-end \\\n",
    "--no-unal -p 20 -x $WDR/gellenia_genome_v1.NCBI \\\n",
    "-1 $R1 -2 $R2 -S $WDR/output.sam\""
   ]
  },
  {
   "cell_type": "code",
   "execution_count": null,
   "metadata": {},
   "outputs": [],
   "source": []
  }
 ],
 "metadata": {
  "kernelspec": {
   "display_name": "Bash",
   "language": "bash",
   "name": "bash"
  },
  "language_info": {
   "codemirror_mode": "shell",
   "file_extension": ".sh",
   "mimetype": "text/x-sh",
   "name": "bash"
  }
 },
 "nbformat": 4,
 "nbformat_minor": 4
}
