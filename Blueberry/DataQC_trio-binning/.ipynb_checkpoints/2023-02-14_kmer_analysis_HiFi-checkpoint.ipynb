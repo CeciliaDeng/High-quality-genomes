{
 "cells": [
  {
   "cell_type": "markdown",
   "id": "41715b13-8586-42c0-9991-cc416504a697",
   "metadata": {},
   "source": [
    "# Blueberry trio dataQC\n",
    "\n",
    "## HiFi\n",
    "```\n",
    "/input/genomic/plant/Vaccinium/corymbosum/ExperimentRequestor10969_NuixM7_TrioBin/Blueberry_M7xNui/SMRTcell1/CCS_Data\n",
    "/input/genomic/plant/Vaccinium/corymbosum/ExperimentRequestor10969_NuixM7_TrioBin/Blueberry_M7xNui/SMRTcell2/CCS_Data\n",
    "```\n",
    "\n",
    "* kmer analysis (Jellyfish)"
   ]
  },
  {
   "cell_type": "markdown",
   "id": "a1e53f03-9a0d-439f-8c98-f43e9b4cbdf9",
   "metadata": {},
   "source": [
    "# Progeny 1 : m64136_221113_041854"
   ]
  },
  {
   "cell_type": "markdown",
   "id": "2bc4e203-e41c-4b8e-9325-bbdbef1d2059",
   "metadata": {},
   "source": [
    "### k-mer analysis\n",
    "#### hash size calculation"
   ]
  },
  {
   "cell_type": "code",
   "execution_count": 12,
   "id": "e71d210d-5e41-4797-99a3-e38e551f6586",
   "metadata": {},
   "outputs": [
    {
     "name": "stdout",
     "output_type": "stream",
     "text": [
      "22.02549339754965073988\n",
      "1276664802.62999999999984930379\n"
     ]
    }
   ],
   "source": [
    "read_len=18862 # from nanostat\n",
    "no_seq=1019315 # from nanostat\n",
    "genome_size=$(bc -l <<< \" 1745824185 / 2 \" )\t # from https://github.com/GenomicsAotearoa/High-quality-genomes/tree/main/Blueberry/M7xNui_Assembly\n",
    "error_rate=0.001\n",
    "\n",
    "# estimated coverage\n",
    "cov=$(bc -l <<< \" ( $no_seq * $read_len ) / $genome_size \" )\n",
    "\n",
    "# hash=$genome_size+($genome_size*$cov*$error_rate*21)\n",
    "# Hash size (s) = G + Gcek\n",
    "s=$(bc -l <<< \"$genome_size + ( $genome_size * $cov * $error_rate * 21 )\" )\n",
    "\n",
    "echo $cov\n",
    "echo $s"
   ]
  },
  {
   "cell_type": "markdown",
   "id": "0914196f-35d5-4f83-88df-b7b76a7f3d74",
   "metadata": {},
   "source": [
    "#### Bloom counter"
   ]
  },
  {
   "cell_type": "code",
   "execution_count": 14,
   "id": "d387ce30-2d9c-47c6-bd72-fec965d6dfba",
   "metadata": {},
   "outputs": [
    {
     "name": "stdout",
     "output_type": "stream",
     "text": [
      "Submitted batch job 1006519\n"
     ]
    }
   ],
   "source": [
    "module load jellyfish/2.2.10\n",
    "\n",
    "# set variables for directories\n",
    "BASE=/powerplant/workspace/hrasrb/Blueberry_trio\n",
    "LOG=${BASE}/log\n",
    "WKDIR=${BASE}/data_qc/hifi/m64136_221113_041854/03.kmer_analysis\n",
    "\n",
    "# set input file\n",
    "INFILE=/powerplant/input/genomic/plant/Vaccinium/corymbosum/ExperimentRequestor10969_NuixM7_TrioBin/Blueberry_M7xNui/SMRTcell1/CCS_Data/*hifi_reads.fastq.gz\n",
    "## 15G\n",
    "HASH=1300M\n",
    "BASE=$(basename ${INFILE} .hifi_reads.fastq.gz)\n",
    "\n",
    "mkdir $WKDIR\n",
    "cd $WKDIR\n",
    "\n",
    "# create and submit bash script\n",
    "sbatch << EOF\n",
    "#!/bin/bash -e\n",
    "\n",
    "#SBATCH -J p1_bloom_counter\n",
    "#SBATCH --output=${LOG}/hrasrb_%j.out\n",
    "#SBATCH --error=${LOG}/hrasrb_%j.err\n",
    "#SBATCH --mail-user=Sarah.Bailey@plantandfood.co.nz\n",
    "#SBATCH --mail-type=ALL\n",
    "#SBATCH --time=01:00:00 # Walltime\n",
    "#SBATCH --mem=3G\n",
    "#SBATCH --cpus-per-task=10\n",
    "\n",
    "pwd\n",
    "\n",
    "echo $INFILE\n",
    "\n",
    "echo ${BASE}.bc\n",
    "\n",
    "jellyfish bc -m 21 -s ${HASH} -t 10 -C -o ${BASE}.bc <(gzip -d -c $INFILE)\n",
    "\n",
    "EOF\n",
    "module unload jellyfish"
   ]
  },
  {
   "cell_type": "markdown",
   "id": "9f5e526e-f8b8-4023-81cf-b5166661115d",
   "metadata": {},
   "source": [
    "#### Resource use"
   ]
  },
  {
   "cell_type": "code",
   "execution_count": 25,
   "id": "35ea6788-fd85-4804-8a33-5a0db83c627f",
   "metadata": {},
   "outputs": [
    {
     "name": "stdout",
     "output_type": "stream",
     "text": [
      "Job ID: 1006519\n",
      "Cluster: powerplant\n",
      "User/Group: hrasrb/hrasrb\n",
      "State: COMPLETED (exit code 0)\n",
      "Nodes: 1\n",
      "Cores per node: 10\n",
      "CPU Utilized: 02:19:33\n",
      "CPU Efficiency: 80.28% of 02:53:50 core-walltime\n",
      "Job Wall-clock time: 00:17:23\n",
      "Memory Utilized: 3.39 GB\n",
      "Memory Efficiency: 113.04% of 3.00 GB\n"
     ]
    }
   ],
   "source": [
    "seff 1006519\n",
    "# job 1006519"
   ]
  },
  {
   "cell_type": "markdown",
   "id": "06c727a9-6972-4704-98c8-98b7d388106f",
   "metadata": {},
   "source": [
    "#### Frequency count of k-mers"
   ]
  },
  {
   "cell_type": "code",
   "execution_count": 19,
   "id": "329cfacd-711a-4b8c-9cac-617e582c0ea2",
   "metadata": {},
   "outputs": [
    {
     "name": "stdout",
     "output_type": "stream",
     "text": [
      "Submitted batch job 1006688\n"
     ]
    }
   ],
   "source": [
    "module load jellyfish/2.2.10\n",
    "\n",
    "# set variables for directories\n",
    "BASE=/powerplant/workspace/hrasrb/Blueberry_trio\n",
    "LOG=${BASE}/log\n",
    "WKDIR=${BASE}/data_qc/hifi/m64136_221113_041854/03.kmer_analysis\n",
    "\n",
    "# set input file\n",
    "INFILE=/powerplant/input/genomic/plant/Vaccinium/corymbosum/ExperimentRequestor10969_NuixM7_TrioBin/Blueberry_M7xNui/SMRTcell1/CCS_Data/*hifi_reads.fastq.gz\n",
    "## 15G\n",
    "HASH=1300M\n",
    "BASE=$(basename ${INFILE} .hifi_reads.fastq.gz)\n",
    "\n",
    "cd $WKDIR\n",
    "\n",
    "# create and submit bash script\n",
    "sbatch --dependency=afterok:1006519 << EOF\n",
    "#!/bin/bash -e\n",
    "\n",
    "#SBATCH -J p1_21mer_counts\n",
    "#SBATCH --output=${LOG}/hrasrb_%j.out\n",
    "#SBATCH --error=${LOG}/hrasrb_%j.err\n",
    "#SBATCH --mail-user=Sarah.Bailey@plantandfood.co.nz\n",
    "#SBATCH --mail-type=ALL\n",
    "#SBATCH --time=01:00:00 # Walltime\n",
    "#SBATCH --mem=8G\n",
    "#SBATCH --cpus-per-task=10\n",
    "\n",
    "pwd\n",
    "\n",
    "echo $INFILE\n",
    "\n",
    "echo ${BASE}_21mer_counts.jf\n",
    "\n",
    "jellyfish count -m 21 -s ${HASH} -t 10 -C --bc ./${BASE}.bc -o ${BASE}_21mer_counts.jf <(gzip -d -c $INFILE)\n",
    "\n",
    "EOF\n",
    "module unload jellyfish"
   ]
  },
  {
   "cell_type": "code",
   "execution_count": 18,
   "id": "174dc424-f9b5-4a79-82ea-f98af6a857c8",
   "metadata": {},
   "outputs": [
    {
     "name": "stdout",
     "output_type": "stream",
     "text": [
      "Job ID: 341776\n",
      "Cluster: powerplant\n",
      "User/Group: hrasrb/hrasrb\n",
      "State: COMPLETED (exit code 0)\n",
      "Nodes: 1\n",
      "Cores per node: 10\n",
      "CPU Utilized: 04:36:12\n",
      "CPU Efficiency: 87.68% of 05:15:00 core-walltime\n",
      "Job Wall-clock time: 00:31:30\n",
      "Memory Utilized: 5.81 GB\n",
      "Memory Efficiency: 29.04% of 20.00 GB\n"
     ]
    }
   ],
   "source": [
    "# job 1006688"
   ]
  },
  {
   "cell_type": "markdown",
   "id": "f32f0d1d-104f-479a-b808-ee24098cfaa9",
   "metadata": {},
   "source": [
    "#### Generating k-mer histogram"
   ]
  },
  {
   "cell_type": "code",
   "execution_count": 20,
   "id": "caf93306-12e1-482f-bea2-784dafda4c6b",
   "metadata": {},
   "outputs": [
    {
     "name": "stdout",
     "output_type": "stream",
     "text": [
      "Submitted batch job 1006689\n"
     ]
    }
   ],
   "source": [
    "module load jellyfish/2.2.10\n",
    "\n",
    "# set variables for directories\n",
    "BASE=/powerplant/workspace/hrasrb/Blueberry_trio\n",
    "LOG=${BASE}/log\n",
    "WKDIR=${BASE}/data_qc/hifi/m64136_221113_041854/03.kmer_analysis\n",
    "\n",
    "# set input file\n",
    "INFILE=/powerplant/input/genomic/plant/Vaccinium/corymbosum/ExperimentRequestor10969_NuixM7_TrioBin/Blueberry_M7xNui/SMRTcell1/CCS_Data/*hifi_reads.fastq.gz\n",
    "## 15G\n",
    "HASH=1300M\n",
    "BASE=$(basename ${INFILE} .hifi_reads.fastq.gz)\n",
    "\n",
    "cd $WKDIR\n",
    "\n",
    "# create and submit bash script\n",
    "sbatch --dependency=afterok:1006688 << EOF\n",
    "#!/bin/bash -e\n",
    "\n",
    "#SBATCH -J p1_histo\n",
    "#SBATCH --output=${LOG}/hrasrb_%j.out\n",
    "#SBATCH --error=${LOG}/hrasrb_%j.err\n",
    "#SBATCH --mail-user=Sarah.Bailey@plantandfood.co.nz\n",
    "#SBATCH --mail-type=ALL\n",
    "#SBATCH --time=00:05:00 # Walltime\n",
    "#SBATCH --mem=1M\n",
    "\n",
    "jellyfish histo -t 10 ${BASE}_21mer_counts.jf > ${BASE}Histogram.out\n",
    "\n",
    "EOF\n",
    "module unload jellyfish"
   ]
  },
  {
   "cell_type": "code",
   "execution_count": 1,
   "id": "4c1e58ea-cb92-415d-ac83-3a2bc07c0518",
   "metadata": {},
   "outputs": [
    {
     "name": "stdout",
     "output_type": "stream",
     "text": [
      "Job ID: 349617\n",
      "Cluster: powerplant\n",
      "User/Group: hrasrb/hrasrb\n",
      "State: COMPLETED (exit code 0)\n",
      "Nodes: 1\n",
      "Cores per node: 10\n",
      "CPU Utilized: 00:00:32\n",
      "CPU Efficiency: 8.65% of 00:06:10 core-walltime\n",
      "Job Wall-clock time: 00:00:37\n",
      "Memory Utilized: 756.00 KB\n",
      "Memory Efficiency: 0.01% of 7.00 GB\n"
     ]
    }
   ],
   "source": [
    "# job 1006689"
   ]
  },
  {
   "cell_type": "markdown",
   "id": "420d59f6-868c-41f4-b29a-a3c71bcfa2c1",
   "metadata": {},
   "source": [
    "# Progeny 2 : m64136_221114_133241"
   ]
  },
  {
   "cell_type": "markdown",
   "id": "da6884fb-576f-4bde-a938-0d11a7cff241",
   "metadata": {},
   "source": [
    "### k-mer analysis"
   ]
  },
  {
   "cell_type": "markdown",
   "id": "84763f22-e4b3-459f-9108-ffdaf68d7162",
   "metadata": {},
   "source": [
    "#### hash size calculation"
   ]
  },
  {
   "cell_type": "code",
   "execution_count": 10,
   "id": "010aed2b-6700-4bfa-aea0-f920ee618158",
   "metadata": {},
   "outputs": [
    {
     "name": "stdout",
     "output_type": "stream",
     "text": [
      "25.48185293446373009204\n",
      "1340023861.38179999999995493379\n"
     ]
    }
   ],
   "source": [
    "read_len=18881.3 # from nanostat\n",
    "no_seq=1178066 # from nanostat\n",
    "genome_size=$(bc -l <<< \" 1745824185 / 2 \" )\t # from https://github.com/GenomicsAotearoa/High-quality-genomes/tree/main/Blueberry/M7xNui_Assembly\n",
    "error_rate=0.001\n",
    "\n",
    "# estimated coverage\n",
    "cov=$(bc -l <<< \" ( $no_seq * $read_len ) / $genome_size \" )\n",
    "\n",
    "# hash=$genome_size+($genome_size*$cov*$error_rate*21)\n",
    "# Hash size (s) = G + Gcek\n",
    "s=$(bc -l <<< \"$genome_size + ( $genome_size * $cov * $error_rate * 21 )\" )\n",
    "\n",
    "echo $cov\n",
    "echo $s"
   ]
  },
  {
   "cell_type": "markdown",
   "id": "cc9725d2-6e8b-4f59-ae6c-346bce6c1df0",
   "metadata": {},
   "source": [
    "#### bloom counter"
   ]
  },
  {
   "cell_type": "code",
   "execution_count": 21,
   "id": "5aed3132-6d05-4f65-bc35-cc0939dc9d9d",
   "metadata": {},
   "outputs": [
    {
     "name": "stdout",
     "output_type": "stream",
     "text": [
      "Submitted batch job 1006690\n"
     ]
    }
   ],
   "source": [
    "module load jellyfish/2.2.10\n",
    "\n",
    "# set variables for directories\n",
    "BASE=/powerplant/workspace/hrasrb/Blueberry_trio\n",
    "LOG=${BASE}/log\n",
    "WKDIR=${BASE}/data_qc/hifi/m64136_221114_133241/03.kmer_analysis\n",
    "\n",
    "mkdir -pv $WKDIR\n",
    "cd $WKDIR\n",
    "\n",
    "HASH=1300M\n",
    "# set input file\n",
    "INFILE=/powerplant/input/genomic/plant/Vaccinium/corymbosum/ExperimentRequestor10969_NuixM7_TrioBin/Blueberry_M7xNui/SMRTcell2/CCS_Data/*hifi_reads.fastq.gz\n",
    "## 19G\n",
    "BASE=$(basename ${INFILE} .hifi_reads.fastq.gz)\n",
    "\n",
    "# create and submit bash script\n",
    "sbatch << EOF\n",
    "#!/bin/bash -e\n",
    "\n",
    "#SBATCH -J p2_bloom_counter\n",
    "#SBATCH --output=${LOG}/hrasrb_%j.out\n",
    "#SBATCH --error=${LOG}/hrasrb_%j.err\n",
    "#SBATCH --mail-user=Sarah.Bailey@plantandfood.co.nz\n",
    "#SBATCH --mail-type=ALL\n",
    "#SBATCH --time=01:00:00 # Walltime\n",
    "#SBATCH --mem=4G\n",
    "#SBATCH --cpus-per-task=10\n",
    "\n",
    "pwd\n",
    "\n",
    "jellyfish bc -m 21 -s ${HASH} -t 10 -C -o ./${BASE}.bc <(gzip -d -c $INFILE)\n",
    "\n",
    "EOF\n",
    "module unload jellyfish"
   ]
  },
  {
   "cell_type": "markdown",
   "id": "c448a8b3-8a6a-4869-bf1a-186fba4abf64",
   "metadata": {},
   "source": [
    "#### Resource use"
   ]
  },
  {
   "cell_type": "code",
   "execution_count": null,
   "id": "03264590-b6df-4c96-b0b4-f4c0b45b02f3",
   "metadata": {},
   "outputs": [],
   "source": [
    "# job 1006690"
   ]
  },
  {
   "cell_type": "markdown",
   "id": "d4467cda-3e84-43d3-b830-a0913d439a96",
   "metadata": {},
   "source": [
    "#### Frequency count k-mers"
   ]
  },
  {
   "cell_type": "code",
   "execution_count": 22,
   "id": "ee446d5c-f836-46b6-88cc-d61dfd1b3247",
   "metadata": {},
   "outputs": [
    {
     "name": "stdout",
     "output_type": "stream",
     "text": [
      "Submitted batch job 1006691\n"
     ]
    }
   ],
   "source": [
    "module load jellyfish/2.2.10\n",
    "\n",
    "# set variables for directories\n",
    "BASE=/powerplant/workspace/hrasrb/Blueberry_trio\n",
    "LOG=${BASE}/log\n",
    "WKDIR=${BASE}/data_qc/hifi/m64136_221114_133241/03.kmer_analysis\n",
    "\n",
    "mkdir -pv $WKDIR\n",
    "cd $WKDIR\n",
    "\n",
    "HASH=1300M\n",
    "# set input file\n",
    "INFILE=/powerplant/input/genomic/plant/Vaccinium/corymbosum/ExperimentRequestor10969_NuixM7_TrioBin/Blueberry_M7xNui/SMRTcell2/CCS_Data/*hifi_reads.fastq.gz\n",
    "## 19G\n",
    "BASE=$(basename ${INFILE} .hifi_reads.fastq.gz)\n",
    "\n",
    "# create and submit bash script\n",
    "sbatch --dependency=afterok:1006690 << EOF\n",
    "#!/bin/bash -e\n",
    "\n",
    "#SBATCH -J p2_21mer_counts\n",
    "#SBATCH --output=${LOG}/hrasrb_%j.out\n",
    "#SBATCH --error=${LOG}/hrasrb_%j.err\n",
    "#SBATCH --mail-user=Sarah.Bailey@plantandfood.co.nz\n",
    "#SBATCH --mail-type=ALL\n",
    "#SBATCH --time=01:00:00 # Walltime\n",
    "#SBATCH --mem=8G\n",
    "#SBATCH --cpus-per-task=10\n",
    "\n",
    "pwd\n",
    "\n",
    "echo $INFILE\n",
    "\n",
    "echo ${BASE}_21mer_counts.jf\n",
    "\n",
    "jellyfish count -m 21 -s ${HASH} -t 10 -C --bc ./${BASE}.bc -o ${BASE}_21mer_counts.jf <(gzip -d -c $INFILE)\n",
    "\n",
    "EOF\n",
    "module unload jellyfish"
   ]
  },
  {
   "cell_type": "code",
   "execution_count": null,
   "id": "3049e965-0846-4856-b6bf-2fca3f2beab1",
   "metadata": {},
   "outputs": [],
   "source": [
    "# job 1006691"
   ]
  },
  {
   "cell_type": "code",
   "execution_count": 23,
   "id": "4a52d234-fb62-4df6-8a2d-d13ee26113dc",
   "metadata": {},
   "outputs": [
    {
     "name": "stdout",
     "output_type": "stream",
     "text": [
      ".hifi_reads.fastq.gz\n"
     ]
    }
   ],
   "source": [
    "echo $BASE"
   ]
  },
  {
   "cell_type": "markdown",
   "id": "2419ef91-b8e0-44a9-bf47-c129d9891eae",
   "metadata": {},
   "source": [
    "#### Generating k-mer histogram"
   ]
  },
  {
   "cell_type": "code",
   "execution_count": 24,
   "id": "49dab3d4-f622-4b17-b2ce-ea99a5b6c236",
   "metadata": {},
   "outputs": [
    {
     "name": "stdout",
     "output_type": "stream",
     "text": [
      "Submitted batch job 1006692\n"
     ]
    }
   ],
   "source": [
    "module load jellyfish/2.2.10\n",
    "\n",
    "# set variables for directories\n",
    "BASE=/powerplant/workspace/hrasrb/Blueberry_trio\n",
    "LOG=${BASE}/log\n",
    "WKDIR=${BASE}/data_qc/hifi/m64136_221114_133241/03.kmer_analysis\n",
    "\n",
    "mkdir -pv $WKDIR\n",
    "cd $WKDIR\n",
    "\n",
    "# set input file\n",
    "INFILE=/powerplant/input/genomic/plant/Vaccinium/corymbosum/ExperimentRequestor10969_NuixM7_TrioBin/Blueberry_M7xNui/SMRTcell2/CCS_Data/*hifi_reads.fastq.gz\n",
    "## 19G\n",
    "BASE=$(basename ${INFILE} .hifi_reads.fastq.gz)\n",
    "\n",
    "# create and submit bash script\n",
    "sbatch --dependency=afterok:1006691 << EOF\n",
    "#!/bin/bash -e\n",
    "\n",
    "#SBATCH -J p2_histo\n",
    "#SBATCH --output=${LOG}/hrasrb_%j.out\n",
    "#SBATCH --error=${LOG}/hrasrb_%j.err\n",
    "#SBATCH --mail-user=Sarah.Bailey@plantandfood.co.nz\n",
    "#SBATCH --mail-type=ALL\n",
    "#SBATCH --time=00:10:00 # Walltime\n",
    "#SBATCH --mem=1M\n",
    "\n",
    "jellyfish histo -t 1 ${BASE}_21mer_counts.jf > ${BASE}Histogram.out\n",
    "\n",
    "EOF\n",
    "module unload jellyfish"
   ]
  },
  {
   "cell_type": "code",
   "execution_count": null,
   "id": "d90635b3-21e4-4e0a-a162-5c5855de1557",
   "metadata": {},
   "outputs": [],
   "source": [
    "# job 1006692"
   ]
  }
 ],
 "metadata": {
  "kernelspec": {
   "display_name": "Bash",
   "language": "bash",
   "name": "bash"
  },
  "language_info": {
   "codemirror_mode": "shell",
   "file_extension": ".sh",
   "mimetype": "text/x-sh",
   "name": "bash"
  }
 },
 "nbformat": 4,
 "nbformat_minor": 5
}
