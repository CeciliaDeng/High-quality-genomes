{
 "cells": [
  {
   "cell_type": "markdown",
   "metadata": {},
   "source": [
    "# Mapping back short reads to assembly"
   ]
  },
  {
   "cell_type": "code",
   "execution_count": 4,
   "metadata": {},
   "outputs": [],
   "source": [
    "R1=/input/genomic/plant/Vaccinium/myrtillus/Genome/Illumina/AGRF_CAGRF20139_HMHTHDSXX/Clean_Billbery_HMHTHDSXX_CTAGCGCT-GTGTAGAC_L001_R1.fastq.gz\n",
    "R2=/input/genomic/plant/Vaccinium/myrtillus/Genome/Illumina/AGRF_CAGRF20139_HMHTHDSXX/Clean_Billbery_HMHTHDSXX_CTAGCGCT-GTGTAGAC_L001_R2.fastq.gz"
   ]
  },
  {
   "cell_type": "code",
   "execution_count": 5,
   "metadata": {},
   "outputs": [],
   "source": [
    "GENOME=/output/genomic/plant/Vaccinium/myrtillus/Genome/Assembly/bilberry_chr01-12_plusUnanchoredSeqs.NCBI.fasta\n",
    "CHRS=022.JuiceBox_visualisation/BilberryGenome_chrs.fasta"
   ]
  },
  {
   "cell_type": "code",
   "execution_count": 6,
   "metadata": {},
   "outputs": [
    {
     "name": "stdout",
     "output_type": "stream",
     "text": [
      "Currently Loaded Modulefiles:\n",
      "  1) powerPlant/core    7) asub/2.2          13) vcflib/73b7f13\n",
      "  2) texlive/20151117   8) unixODBC/2.3.0    14) freebayes/1.1.0\n",
      "  3) pandoc/1.19.2      9) JAGS/4.2.0        15) bwa/0.7.17\n",
      "  4) git/2.21.0        10) gdal/2.4.0        16) samtools/1.9\n",
      "  5) perlbrew/0.76     11) proj/5.2.0\n",
      "  6) perl/5.28.0       12) R/3.3.0\n"
     ]
    }
   ],
   "source": [
    "module load bwa\n",
    "module load samtools\n",
    "module list"
   ]
  },
  {
   "cell_type": "code",
   "execution_count": 6,
   "metadata": {},
   "outputs": [],
   "source": [
    "mkdir 020.mappingBackRateCheck"
   ]
  },
  {
   "cell_type": "code",
   "execution_count": 7,
   "metadata": {},
   "outputs": [],
   "source": [
    "WDR=020.mappingBackRateCheck"
   ]
  },
  {
   "cell_type": "code",
   "execution_count": 14,
   "metadata": {},
   "outputs": [
    {
     "name": "stdout",
     "output_type": "stream",
     "text": [
      "Job <887272> is submitted to default queue <lowpriority>.\n"
     ]
    }
   ],
   "source": [
    "bsub -J bwa_index \\\n",
    "-o $WDR/bwa_index.out \\\n",
    "-e $WOR/bwa_index.err \\\n",
    "\"bwa index $CHRS\""
   ]
  },
  {
   "cell_type": "code",
   "execution_count": 8,
   "metadata": {},
   "outputs": [],
   "source": [
    "WDR=020.mappingBackRateCheck"
   ]
  },
  {
   "cell_type": "code",
   "execution_count": 15,
   "metadata": {},
   "outputs": [
    {
     "name": "stdout",
     "output_type": "stream",
     "text": [
      "Job <887273> is submitted to default queue <lowpriority>.\n"
     ]
    }
   ],
   "source": [
    "bsub -J bwa -n 40 -o $WDR/bwa_chrs.out -e $WDR/bwa_chrs.err \\\n",
    "\"bwa mem -t 40 $CHRS $R1 $R2 \\\n",
    "| samtools view -@ 40 -Sb -o $WDR/mapped_bwa.bam\""
   ]
  },
  {
   "cell_type": "code",
   "execution_count": 4,
   "metadata": {},
   "outputs": [
    {
     "name": "stdout",
     "output_type": "stream",
     "text": [
      "Job <887664> is submitted to default queue <lowpriority>.\n"
     ]
    }
   ],
   "source": [
    "bsub -J sort -n 10 -o $WDR/samtools_sort_chrs.out -e $WDR/samtools_sort_chrs.err \\\n",
    "\"samtools sort -@ 10 -o $WDR/mapped_bwa.sorted.bam $WDR/mapped_bwa.bam\""
   ]
  },
  {
   "cell_type": "code",
   "execution_count": 12,
   "metadata": {},
   "outputs": [
    {
     "name": "stdout",
     "output_type": "stream",
     "text": [
      "Job <887701> is submitted to default queue <lowpriority>.\n"
     ]
    }
   ],
   "source": [
    "bsub -J index -o $WDR/samtools_index_chrs.out -e $WDR/samtools_index_chrs.err \\\n",
    "\"samtools index $WDR/mapped_bwa.sorted.bam\""
   ]
  },
  {
   "cell_type": "markdown",
   "metadata": {},
   "source": [
    "## freebayes calling"
   ]
  },
  {
   "cell_type": "code",
   "execution_count": 17,
   "metadata": {},
   "outputs": [],
   "source": [
    "samtools faidx $CHRS"
   ]
  },
  {
   "cell_type": "code",
   "execution_count": 1,
   "metadata": {},
   "outputs": [
    {
     "name": "stdout",
     "output_type": "stream",
     "text": [
      "Currently Loaded Modulefiles:\n",
      "  1) powerPlant/core    6) perl/5.28.0       11) proj/5.2.0\n",
      "  2) texlive/20151117   7) asub/2.2          12) R/3.3.0\n",
      "  3) pandoc/1.19.2      8) unixODBC/2.3.0    13) vcflib/73b7f13\n",
      "  4) git/2.21.0         9) JAGS/4.2.0        14) freebayes/1.1.0\n",
      "  5) perlbrew/0.76     10) gdal/2.4.0\n"
     ]
    }
   ],
   "source": [
    "module load freebayes/1.1.0\n",
    "module list"
   ]
  },
  {
   "cell_type": "code",
   "execution_count": 2,
   "metadata": {},
   "outputs": [],
   "source": [
    "FREEBAYES=/software/bioinformatics/freebayes-1.1.0/scripts"
   ]
  },
  {
   "cell_type": "code",
   "execution_count": 3,
   "metadata": {},
   "outputs": [],
   "source": [
    "export TMPDIR=/workspace/hraczw/github/hoki_genomics/007.mappingAndCalling"
   ]
  },
  {
   "cell_type": "code",
   "execution_count": 9,
   "metadata": {},
   "outputs": [
    {
     "name": "stdout",
     "output_type": "stream",
     "text": [
      "Job <912948> is submitted to queue <priority>.\n"
     ]
    }
   ],
   "source": [
    "bsub << EOF\n",
    "#!/bin/bash\n",
    "#BSUB -J freebayes\n",
    "#BSUB -o $WDR/freebayes.out \n",
    "#BSUB -e $WDR/freebayes.err\n",
    "#BSUB -R \"span[hosts=1]\"\n",
    "#BSUB -m wkoppg34\n",
    "#BSUB -n 40\n",
    "#BSUB -q priority\n",
    "#BSUB -P P/536002/01\n",
    "\n",
    "$FREEBAYES/freebayes-parallel <($FREEBAYES/fasta_generate_regions.py $CHRS.fai 100000) 80 \\\n",
    "-f $CHRS $WDR/mapped_bwa.sorted.bam -p 4 -C 3 -m 10 \\\n",
    "--min-coverage 15 --max-coverage 500 >$WDR/freebayes_output.vcf\n",
    "\n",
    "EOF\n"
   ]
  }
 ],
 "metadata": {
  "kernelspec": {
   "display_name": "Bash",
   "language": "bash",
   "name": "bash"
  },
  "language_info": {
   "codemirror_mode": "shell",
   "file_extension": ".sh",
   "mimetype": "text/x-sh",
   "name": "bash"
  }
 },
 "nbformat": 4,
 "nbformat_minor": 4
}
