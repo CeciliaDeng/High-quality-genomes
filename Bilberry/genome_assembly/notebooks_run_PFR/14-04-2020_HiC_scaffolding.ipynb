{
 "cells": [
  {
   "cell_type": "markdown",
   "metadata": {},
   "source": [
    "# HiC data scaffolding using ALLHIC\n",
    "\n",
    "## Dataset\n",
    "* **HiC data:** Library was performed by Elena Hilario using the restriction enzyme from the Phase Genomics kit version 1.0. Shawn Sullivan clarified the enzyme used for cutting is Sau3AI, which cuts at GATC (same with Gillenia)\n",
    "\n",
    "## Other information\n",
    "* **Chr number:** 12\n",
    "* **Genome size:** ~600Mb\n",
    "* **Total data:** 163 million reads (intended 120 million). AGRF mixed up Gillenia and Pepino for sequencing, which resulted in more reads for Gillenia, but less reads for Pepino (Actual: 100 M, intended: 180 M).\n",
    "* **Read type:** 150 PE\n"
   ]
  },
  {
   "cell_type": "markdown",
   "metadata": {},
   "source": [
    "## 0. Input"
   ]
  },
  {
   "cell_type": "markdown",
   "metadata": {},
   "source": [
    "### HiC data"
   ]
  },
  {
   "cell_type": "code",
   "execution_count": 14,
   "metadata": {},
   "outputs": [],
   "source": [
    "HICR1_RAW=/workspace/hraczw/github/GA/Bilberry_genome/002.Fastp.trimming/R1.cleaned.specifiedAdapter.short.Q15.fq.gz\n",
    "HICR2_RAW=/workspace/hraczw/github/GA/Bilberry_genome/002.Fastp.trimming/R2.cleaned.specifiedAdapter.short.Q15.fq.gz"
   ]
  },
  {
   "cell_type": "markdown",
   "metadata": {},
   "source": [
    "### Assembly "
   ]
  },
  {
   "cell_type": "code",
   "execution_count": 2,
   "metadata": {},
   "outputs": [],
   "source": [
    "ASSEMBLY_ML1000=/workspace/hraczw/github/GA/Bilberry_genome/100.all.assemblies/Shasta_pilon-1_corrected_pilon-i2_corrected.ml1000.fasta.fasta"
   ]
  },
  {
   "cell_type": "code",
   "execution_count": 1,
   "metadata": {},
   "outputs": [],
   "source": [
    "ASSEMBLY_SHASTA_RI1=/workspace/hraczw/github/GA/Bilberry_genome/0101.Contamination.analysis/Shasta_racon_i1_pilon-2.noBacteria.ml1000.fasta\n",
    "ASSEMBLY_SHASTA_RI3=/workspace/hraczw/github/GA/Bilberry_genome/0101.Contamination.analysis/Shasta_racon_i3_pilon-2.noBacteria.ml1000.fasta\n",
    "ASSEMBLY_FLYE_RI3=/workspace/hraczw/github/GA/Bilberry_genome/0101.Contamination.analysis/Flye_racon_i3_pilon-2.noBacteria.ml1000.fasta"
   ]
  },
  {
   "cell_type": "markdown",
   "metadata": {},
   "source": [
    "## 1. Mapping - following in steps on ALLHIC wiki"
   ]
  },
  {
   "cell_type": "code",
   "execution_count": 2,
   "metadata": {},
   "outputs": [
    {
     "name": "stdout",
     "output_type": "stream",
     "text": [
      "Currently Loaded Modulefiles:\n",
      "  1) powerPlant/core    4) git/2.21.0         7) asub/2.1\n",
      "  2) texlive/20151117   5) perlbrew/0.76      8) bwa/0.7.17\n",
      "  3) pandoc/1.19.2      6) perl/5.28.0\n"
     ]
    }
   ],
   "source": [
    "module load bwa\n",
    "module list"
   ]
  },
  {
   "cell_type": "code",
   "execution_count": 5,
   "metadata": {},
   "outputs": [],
   "source": [
    "mkdir 012.HiC.ALLHIC"
   ]
  },
  {
   "cell_type": "code",
   "execution_count": 3,
   "metadata": {},
   "outputs": [],
   "source": [
    "WORKDIR=/workspace/hraczw/github/GA/Bilberry_genome/012.HiC.ALLHIC"
   ]
  },
  {
   "cell_type": "code",
   "execution_count": 4,
   "metadata": {},
   "outputs": [
    {
     "name": "stdout",
     "output_type": "stream",
     "text": [
      "Job <243177> is submitted to default queue <lowpriority>.\n"
     ]
    }
   ],
   "source": [
    "bsub -J bwa \\\n",
    "-o $WORKDIR/bwa_index_shasta_i1.out \\\n",
    "-e $WORKDIR/bwa_index_shasta_i1.err \\\n",
    "\"bwa index $ASSEMBLY_SHASTA_RI1\""
   ]
  },
  {
   "cell_type": "code",
   "execution_count": 5,
   "metadata": {},
   "outputs": [
    {
     "name": "stdout",
     "output_type": "stream",
     "text": [
      "Job <243178> is submitted to default queue <lowpriority>.\n"
     ]
    }
   ],
   "source": [
    "bsub -J bwa \\\n",
    "-o $WORKDIR/bwa_index_shasta_i3.out \\\n",
    "-e $WORKDIR/bwa_index_shasta_i3.err \\\n",
    "\"bwa index $ASSEMBLY_SHASTA_RI3\""
   ]
  },
  {
   "cell_type": "code",
   "execution_count": 6,
   "metadata": {},
   "outputs": [
    {
     "name": "stdout",
     "output_type": "stream",
     "text": [
      "Job <243179> is submitted to default queue <lowpriority>.\n"
     ]
    }
   ],
   "source": [
    "bsub -J bwa \\\n",
    "-o $WORKDIR/bwa_index_flye_i3.out \\\n",
    "-e $WORKDIR/bwa_index_flye_i3.err \\\n",
    "\"bwa index $ASSEMBLY_FLYE_RI3\""
   ]
  },
  {
   "cell_type": "code",
   "execution_count": 7,
   "metadata": {
    "collapsed": true,
    "jupyter": {
     "outputs_hidden": true
    }
   },
   "outputs": [
    {
     "name": "stdout",
     "output_type": "stream",
     "text": [
      "\n",
      "Usage: bwa mem [options] <idxbase> <in1.fq> [in2.fq]\n",
      "\n",
      "Algorithm options:\n",
      "\n",
      "       -t INT        number of threads [1]\n",
      "       -k INT        minimum seed length [19]\n",
      "       -w INT        band width for banded alignment [100]\n",
      "       -d INT        off-diagonal X-dropoff [100]\n",
      "       -r FLOAT      look for internal seeds inside a seed longer than {-k} * FLOAT [1.5]\n",
      "       -y INT        seed occurrence for the 3rd round seeding [20]\n",
      "       -c INT        skip seeds with more than INT occurrences [500]\n",
      "       -D FLOAT      drop chains shorter than FLOAT fraction of the longest overlapping chain [0.50]\n",
      "       -W INT        discard a chain if seeded bases shorter than INT [0]\n",
      "       -m INT        perform at most INT rounds of mate rescues for each read [50]\n",
      "       -S            skip mate rescue\n",
      "       -P            skip pairing; mate rescue performed unless -S also in use\n",
      "\n",
      "Scoring options:\n",
      "\n",
      "       -A INT        score for a sequence match, which scales options -TdBOELU unless overridden [1]\n",
      "       -B INT        penalty for a mismatch [4]\n",
      "       -O INT[,INT]  gap open penalties for deletions and insertions [6,6]\n",
      "       -E INT[,INT]  gap extension penalty; a gap of size k cost '{-O} + {-E}*k' [1,1]\n",
      "       -L INT[,INT]  penalty for 5'- and 3'-end clipping [5,5]\n",
      "       -U INT        penalty for an unpaired read pair [17]\n",
      "\n",
      "       -x STR        read type. Setting -x changes multiple parameters unless overridden [null]\n",
      "                     pacbio: -k17 -W40 -r10 -A1 -B1 -O1 -E1 -L0  (PacBio reads to ref)\n",
      "                     ont2d: -k14 -W20 -r10 -A1 -B1 -O1 -E1 -L0  (Oxford Nanopore 2D-reads to ref)\n",
      "                     intractg: -B9 -O16 -L5  (intra-species contigs to ref)\n",
      "\n",
      "Input/output options:\n",
      "\n",
      "       -p            smart pairing (ignoring in2.fq)\n",
      "       -R STR        read group header line such as '@RG\\tID:foo\\tSM:bar' [null]\n",
      "       -H STR/FILE   insert STR to header if it starts with @; or insert lines in FILE [null]\n",
      "       -o FILE       sam file to output results to [stdout]\n",
      "       -j            treat ALT contigs as part of the primary assembly (i.e. ignore <idxbase>.alt file)\n",
      "       -5            for split alignment, take the alignment with the smallest coordinate as primary\n",
      "       -q            don't modify mapQ of supplementary alignments\n",
      "       -K INT        process INT input bases in each batch regardless of nThreads (for reproducibility) []\n",
      "\n",
      "       -v INT        verbosity level: 1=error, 2=warning, 3=message, 4+=debugging [3]\n",
      "       -T INT        minimum score to output [30]\n",
      "       -h INT[,INT]  if there are <INT hits with score >80% of the max score, output all in XA [5,200]\n",
      "       -a            output all alignments for SE or unpaired PE\n",
      "       -C            append FASTA/FASTQ comment to SAM output\n",
      "       -V            output the reference FASTA header in the XR tag\n",
      "       -Y            use soft clipping for supplementary alignments\n",
      "       -M            mark shorter split hits as secondary\n",
      "\n",
      "       -I FLOAT[,FLOAT[,INT[,INT]]]\n",
      "                     specify the mean, standard deviation (10% of the mean if absent), max\n",
      "                     (4 sigma from the mean if absent) and min of the insert size distribution.\n",
      "                     FR orientation only. [inferred]\n",
      "\n",
      "Note: Please read the man page for detailed description of the command line and options.\n",
      "\n"
     ]
    },
    {
     "ename": "",
     "evalue": "1",
     "output_type": "error",
     "traceback": []
    }
   ],
   "source": [
    "bwa mem"
   ]
  },
  {
   "cell_type": "code",
   "execution_count": 8,
   "metadata": {},
   "outputs": [
    {
     "name": "stdout",
     "output_type": "stream",
     "text": [
      "Currently Loaded Modulefiles:\n",
      "  1) powerPlant/core    4) git/2.21.0         7) asub/2.1\n",
      "  2) texlive/20151117   5) perlbrew/0.76      8) bwa/0.7.17\n",
      "  3) pandoc/1.19.2      6) perl/5.28.0        9) samtools/1.9\n"
     ]
    }
   ],
   "source": [
    "module load samtools\n",
    "module list"
   ]
  },
  {
   "cell_type": "code",
   "execution_count": 15,
   "metadata": {},
   "outputs": [
    {
     "name": "stdout",
     "output_type": "stream",
     "text": [
      "Job <243193> is submitted to default queue <lowpriority>.\n"
     ]
    }
   ],
   "source": [
    "bsub -J map \\\n",
    "-n 20 \\\n",
    "-o $WORKDIR/map_shasta_i1.out \\\n",
    "-e $WORKDIR/map_shasta_i1.err \\\n",
    "\"bwa mem \\\n",
    "-t 20 \\\n",
    "$ASSEMBLY_SHASTA_RI1 \\\n",
    "$HICR1_RAW \\\n",
    "$HICR2_RAW | \\\n",
    "samtools sort \\\n",
    "-@ 20 \\\n",
    "-o $WORKDIR/mapped_shasta_i1.bam -\""
   ]
  },
  {
   "cell_type": "code",
   "execution_count": 16,
   "metadata": {},
   "outputs": [
    {
     "name": "stdout",
     "output_type": "stream",
     "text": [
      "Job <243194> is submitted to default queue <lowpriority>.\n"
     ]
    }
   ],
   "source": [
    "bsub -J map \\\n",
    "-n 20 \\\n",
    "-o $WORKDIR/map_shasta_i3.out \\\n",
    "-e $WORKDIR/map_shasta_i3.err \\\n",
    "\"bwa mem \\\n",
    "-t 20 \\\n",
    "$ASSEMBLY_SHASTA_RI3 \\\n",
    "$HICR1_RAW \\\n",
    "$HICR2_RAW | \\\n",
    "samtools sort \\\n",
    "-@ 20 \\\n",
    "-o $WORKDIR/mapped_shasta_i3.bam -\""
   ]
  },
  {
   "cell_type": "code",
   "execution_count": 17,
   "metadata": {},
   "outputs": [
    {
     "name": "stdout",
     "output_type": "stream",
     "text": [
      "Job <243195> is submitted to default queue <lowpriority>.\n"
     ]
    }
   ],
   "source": [
    "bsub -J map \\\n",
    "-n 20 \\\n",
    "-o $WORKDIR/map_flye_i3.out \\\n",
    "-e $WORKDIR/map_flye_i3.err \\\n",
    "\"bwa mem \\\n",
    "-t 20 \\\n",
    "$ASSEMBLY_FLYE_RI3 \\\n",
    "$HICR1_RAW \\\n",
    "$HICR2_RAW | \\\n",
    "samtools sort \\\n",
    "-@ 20 \\\n",
    "-o $WORKDIR/mapped_flye_i3.bam -\""
   ]
  },
  {
   "cell_type": "code",
   "execution_count": 18,
   "metadata": {},
   "outputs": [],
   "source": [
    "export PATH=/workspace/hraczw/github/programs/ALLHiC/bin/:$PATH"
   ]
  },
  {
   "cell_type": "code",
   "execution_count": 19,
   "metadata": {},
   "outputs": [],
   "source": [
    "export PATH=/workspace/hraczw/github/programs/ALLHiC/scripts/:$PATH"
   ]
  },
  {
   "cell_type": "code",
   "execution_count": 20,
   "metadata": {},
   "outputs": [
    {
     "name": "stdout",
     "output_type": "stream",
     "text": [
      "ALLHiC2ALLMAPS.pl  filterBAM_forHiC.pl\t       partition.pl\n",
      "bam2CLM.pl\t   getFalen.pl\t\t       PreprocessSAMs.pl\n",
      "bam2CLM_simple.pl  gmap2AlleleTable.pl\t       prune.pl\n",
      "bam2net.pl\t   link_superscaffold.pl       release3DDNA.pl\n",
      "bam_HiCplotter.py  make_bed_around_RE_site.pl  remove_reads.pl\n",
      "blastn_parse.pl    mc_bam.pl\t\t       simuCTG.pl\n",
      "classify.pl\t   partition_gmap.pl\t       statAGP.pl\n"
     ]
    }
   ],
   "source": [
    "ls /workspace/hraczw/github/programs/ALLHiC/scripts"
   ]
  },
  {
   "cell_type": "code",
   "execution_count": 21,
   "metadata": {},
   "outputs": [
    {
     "name": "stdout",
     "output_type": "stream",
     "text": [
      "Currently Loaded Modulefiles:\n",
      "  1) powerPlant/core    4) git/2.21.0         7) asub/2.1\n",
      "  2) texlive/20151117   5) perlbrew/0.76      8) bwa/0.7.17\n",
      "  3) pandoc/1.19.2      6) perl/5.28.0        9) samtools/1.9\n"
     ]
    }
   ],
   "source": [
    "module list"
   ]
  },
  {
   "cell_type": "code",
   "execution_count": 22,
   "metadata": {},
   "outputs": [
    {
     "name": "stdout",
     "output_type": "stream",
     "text": [
      "Currently Loaded Modulefiles:\n",
      "  1) powerPlant/core    5) perlbrew/0.76      9) samtools/1.9\n",
      "  2) texlive/20151117   6) perl/5.28.0       10) bedtools/2.27.1\n",
      "  3) pandoc/1.19.2      7) asub/2.1\n",
      "  4) git/2.21.0         8) bwa/0.7.17\n"
     ]
    }
   ],
   "source": [
    "module load bedtools\n",
    "module list"
   ]
  },
  {
   "cell_type": "code",
   "execution_count": 24,
   "metadata": {},
   "outputs": [
    {
     "name": "stdout",
     "output_type": "stream",
     "text": [
      "\n",
      "PreprocessSAMs.pl: A script to prepare SAM or BAM files for use with Lachesis.\n",
      "\n",
      "Syntax: /workspace/hraczw/github/programs/ALLHiC/scripts/PreprocessSAMs.pl <sam-or-bam-filename> <draft-assembly-fasta> enzyme(HINDIII/MBOI)\n",
      "\n"
     ]
    }
   ],
   "source": [
    "PreprocessSAMs.pl"
   ]
  },
  {
   "cell_type": "code",
   "execution_count": 25,
   "metadata": {},
   "outputs": [
    {
     "name": "stdout",
     "output_type": "stream",
     "text": [
      "Job <243754> is submitted to default queue <lowpriority>.\n"
     ]
    }
   ],
   "source": [
    "bsub -J preprocess \\\n",
    "-o $WORKDIR/preprocess_shasta_i1.out \\\n",
    "-e $WORKDIR/preprocess_shasta_i1.err \\\n",
    "\"PreprocessSAMs.pl $WORKDIR/mapped_shasta_i1.bam $ASSEMBLY_SHASTA_RI1 MBOI\""
   ]
  },
  {
   "cell_type": "code",
   "execution_count": 26,
   "metadata": {},
   "outputs": [
    {
     "name": "stdout",
     "output_type": "stream",
     "text": [
      "Job <243755> is submitted to default queue <lowpriority>.\n"
     ]
    }
   ],
   "source": [
    "bsub -J preprocess \\\n",
    "-o $WORKDIR/preprocess_shasta_i3.out \\\n",
    "-e $WORKDIR/preprocess_shasta_i3.err \\\n",
    "\"PreprocessSAMs.pl $WORKDIR/mapped_shasta_i3.bam $ASSEMBLY_SHASTA_RI3 MBOI\""
   ]
  },
  {
   "cell_type": "code",
   "execution_count": 27,
   "metadata": {},
   "outputs": [
    {
     "name": "stdout",
     "output_type": "stream",
     "text": [
      "Job <243756> is submitted to default queue <lowpriority>.\n"
     ]
    }
   ],
   "source": [
    "bsub -J preprocess \\\n",
    "-o $WORKDIR/preprocess_flye_i3.out \\\n",
    "-e $WORKDIR/preprocess_flye_i3.err \\\n",
    "\"PreprocessSAMs.pl $WORKDIR/mapped_flye_i3.bam $ASSEMBLY_FLYE_RI3 MBOI\""
   ]
  },
  {
   "cell_type": "markdown",
   "metadata": {},
   "source": [
    "## 2. ALLHIC scaffolding"
   ]
  },
  {
   "cell_type": "code",
   "execution_count": 23,
   "metadata": {},
   "outputs": [
    {
     "name": "stdout",
     "output_type": "stream",
     "text": [
      "Unknown option: h\n",
      "************************************************************************\n",
      "    Usage: ALLHiC_partition -r draft.asm.fasta -e enzyme_sites -k Num of groups\n",
      "      -h : help and usage.\n",
      "      -b : prunned bam (optional, default prunning.bam)\n",
      "      -r : draft.sam.fasta\n",
      "      -e : enzyme_sites (HindIII: AAGCTT; MboI: GATC)\n",
      "      -k : number of groups (user defined K value)\n",
      "      -m : minimum number of restriction sites (default, 25)\n",
      "************************************************************************\n"
     ]
    },
    {
     "ename": "",
     "evalue": "255",
     "output_type": "error",
     "traceback": []
    }
   ],
   "source": [
    "ALLHiC_partition -h"
   ]
  },
  {
   "cell_type": "code",
   "execution_count": 24,
   "metadata": {},
   "outputs": [
    {
     "name": "stdout",
     "output_type": "stream",
     "text": [
      "bwa_index.err  mapped.bam\t\t\t    mapped.sam\n",
      "bwa_index.out  mapped.REduced.bam\t\t    preprocess.err\n",
      "map.err        mapped.REduced.paired_only.bam\t    preprocess.out\n",
      "map.out        mapped.REduced.paired_only.flagstat\n"
     ]
    }
   ],
   "source": [
    "cd $WORKDIR\n",
    "ls"
   ]
  },
  {
   "cell_type": "code",
   "execution_count": 25,
   "metadata": {},
   "outputs": [
    {
     "name": "stdout",
     "output_type": "stream",
     "text": [
      "Job <391717> is submitted to default queue <normal>.\n"
     ]
    }
   ],
   "source": [
    "bsub -J partition \\\n",
    "-o partition.out \\\n",
    "-e partition.out \\\n",
    "\"ALLHiC_partition -b mapped.REduced.paired_only.bam -r $ASSEMBLY_ML1000 -e GATC -k 12\""
   ]
  },
  {
   "cell_type": "code",
   "execution_count": 26,
   "metadata": {},
   "outputs": [
    {
     "name": "stdout",
     "output_type": "stream",
     "text": [
      "Job <391751> is submitted to default queue <normal>.\n"
     ]
    }
   ],
   "source": [
    "bsub -J extract \\\n",
    "-o extract.out \\\n",
    "-e extract.err \\\n",
    "\"allhic extract mapped.REduced.paired_only.bam $ASSEMBLY_ML1000 --RE GATC\""
   ]
  },
  {
   "cell_type": "code",
   "execution_count": 27,
   "metadata": {},
   "outputs": [
    {
     "name": "stdout",
     "output_type": "stream",
     "text": [
      "Job <391807> is submitted to default queue <normal>.\n",
      "Job <391808> is submitted to default queue <normal>.\n",
      "Job <391809> is submitted to default queue <normal>.\n",
      "Job <391810> is submitted to default queue <normal>.\n",
      "Job <391811> is submitted to default queue <normal>.\n",
      "Job <391812> is submitted to default queue <normal>.\n",
      "Job <391813> is submitted to default queue <normal>.\n",
      "Job <391814> is submitted to default queue <normal>.\n",
      "Job <391815> is submitted to default queue <normal>.\n",
      "Job <391816> is submitted to default queue <normal>.\n",
      "Job <391817> is submitted to default queue <normal>.\n",
      "Job <391818> is submitted to default queue <normal>.\n"
     ]
    }
   ],
   "source": [
    "for i in {1..12}; \\\n",
    "do bsub -J allhicOpt -o allhicOpt_g${i}.out -e allhicOpt_g${i}.err \\\n",
    "\"allhic optimize mapped.REduced.paired_only.counts_GATC.12g$i.txt \\\n",
    "mapped.REduced.paired_only.clm\"; done"
   ]
  },
  {
   "cell_type": "code",
   "execution_count": 28,
   "metadata": {},
   "outputs": [
    {
     "name": "stdout",
     "output_type": "stream",
     "text": [
      "1. tour format to agp ...\n",
      "Processing mapped.REduced.paired_only.counts_GATC.12g1.tour ...\n",
      "Processing mapped.REduced.paired_only.counts_GATC.12g10.tour ...\n",
      "Processing mapped.REduced.paired_only.counts_GATC.12g11.tour ...\n",
      "Processing mapped.REduced.paired_only.counts_GATC.12g12.tour ...\n",
      "Processing mapped.REduced.paired_only.counts_GATC.12g2.tour ...\n",
      "Processing mapped.REduced.paired_only.counts_GATC.12g3.tour ...\n",
      "Processing mapped.REduced.paired_only.counts_GATC.12g4.tour ...\n",
      "Processing mapped.REduced.paired_only.counts_GATC.12g5.tour ...\n",
      "Processing mapped.REduced.paired_only.counts_GATC.12g6.tour ...\n",
      "Processing mapped.REduced.paired_only.counts_GATC.12g7.tour ...\n",
      "Processing mapped.REduced.paired_only.counts_GATC.12g8.tour ...\n",
      "Processing mapped.REduced.paired_only.counts_GATC.12g9.tour ...\n"
     ]
    }
   ],
   "source": [
    "ALLHiC_build $ASSEMBLY_ML1000"
   ]
  },
  {
   "cell_type": "code",
   "execution_count": 47,
   "metadata": {},
   "outputs": [],
   "source": [
    "perl /workspace/hraczw/github/programs/ALLHiC/scripts/getFalen.pl \\\n",
    "-i groups.asm.fasta \\\n",
    "-o len.txt"
   ]
  },
  {
   "cell_type": "code",
   "execution_count": 52,
   "metadata": {},
   "outputs": [],
   "source": [
    "grep 'mapped.REduced.paired_only.counts_GATC' len.txt > chrn.list"
   ]
  },
  {
   "cell_type": "code",
   "execution_count": 53,
   "metadata": {},
   "outputs": [
    {
     "name": "stdout",
     "output_type": "stream",
     "text": [
      "mapped.REduced.paired_only.counts_GATC.12g1\t106190990\n",
      "mapped.REduced.paired_only.counts_GATC.12g10\t9469300\n",
      "mapped.REduced.paired_only.counts_GATC.12g11\t7367141\n",
      "mapped.REduced.paired_only.counts_GATC.12g12\t917959\n",
      "mapped.REduced.paired_only.counts_GATC.12g2\t82140996\n",
      "mapped.REduced.paired_only.counts_GATC.12g3\t61383071\n",
      "mapped.REduced.paired_only.counts_GATC.12g4\t60208030\n",
      "mapped.REduced.paired_only.counts_GATC.12g5\t58071397\n",
      "mapped.REduced.paired_only.counts_GATC.12g6\t39353152\n",
      "mapped.REduced.paired_only.counts_GATC.12g7\t37222306\n",
      "mapped.REduced.paired_only.counts_GATC.12g8\t30748869\n",
      "mapped.REduced.paired_only.counts_GATC.12g9\t27719198\n"
     ]
    }
   ],
   "source": [
    "cat chrn.list"
   ]
  },
  {
   "cell_type": "code",
   "execution_count": 55,
   "metadata": {},
   "outputs": [],
   "source": [
    "module load pfr-python3/3.6.6"
   ]
  },
  {
   "cell_type": "code",
   "execution_count": 56,
   "metadata": {},
   "outputs": [
    {
     "name": "stdout",
     "output_type": "stream",
     "text": [
      "Currently Loaded Modulefiles:\n",
      "  1) powerPlant/core     5) perlbrew/0.76       9) samtools/1.9\n",
      "  2) texlive/20151117    6) perl/5.28.0        10) bedtools/2.27.1\n",
      "  3) pandoc/1.19.2       7) asub/2.1           11) pfr-python3/3.6.6\n",
      "  4) git/2.21.0          8) bwa/0.7.17\n"
     ]
    }
   ],
   "source": [
    "module list"
   ]
  },
  {
   "cell_type": "code",
   "execution_count": 57,
   "metadata": {},
   "outputs": [
    {
     "name": "stdout",
     "output_type": "stream",
     "text": [
      "Job <391892> is submitted to default queue <normal>.\n"
     ]
    }
   ],
   "source": [
    "bsub -J plot \\\n",
    "-o plot.out \\\n",
    "-e plot.err \\\n",
    "\"ALLHiC_plot mapped.REduced.paired_only.bam groups.agp chrn.list 500k pdf\""
   ]
  },
  {
   "cell_type": "code",
   "execution_count": 48,
   "metadata": {},
   "outputs": [
    {
     "name": "stdout",
     "output_type": "stream",
     "text": [
      "allhicOpt_g10.err   mapped.REduced.paired_only.bam\n",
      "allhicOpt_g10.out   mapped.REduced.paired_only.clm\n",
      "allhicOpt_g11.err   mapped.REduced.paired_only.clusters.txt\n",
      "allhicOpt_g11.out   mapped.REduced.paired_only.counts_GATC.12g10.tour\n",
      "allhicOpt_g12.err   mapped.REduced.paired_only.counts_GATC.12g10.txt\n",
      "allhicOpt_g12.out   mapped.REduced.paired_only.counts_GATC.12g11.tour\n",
      "allhicOpt_g1.err    mapped.REduced.paired_only.counts_GATC.12g11.txt\n",
      "allhicOpt_g1.out    mapped.REduced.paired_only.counts_GATC.12g12.tour\n",
      "allhicOpt_g2.err    mapped.REduced.paired_only.counts_GATC.12g12.txt\n",
      "allhicOpt_g2.out    mapped.REduced.paired_only.counts_GATC.12g1.tour\n",
      "allhicOpt_g3.err    mapped.REduced.paired_only.counts_GATC.12g1.txt\n",
      "allhicOpt_g3.out    mapped.REduced.paired_only.counts_GATC.12g2.tour\n",
      "allhicOpt_g4.err    mapped.REduced.paired_only.counts_GATC.12g2.txt\n",
      "allhicOpt_g4.out    mapped.REduced.paired_only.counts_GATC.12g3.tour\n",
      "allhicOpt_g5.err    mapped.REduced.paired_only.counts_GATC.12g3.txt\n",
      "allhicOpt_g5.out    mapped.REduced.paired_only.counts_GATC.12g4.tour\n",
      "allhicOpt_g6.err    mapped.REduced.paired_only.counts_GATC.12g4.txt\n",
      "allhicOpt_g6.out    mapped.REduced.paired_only.counts_GATC.12g5.tour\n",
      "allhicOpt_g7.err    mapped.REduced.paired_only.counts_GATC.12g5.txt\n",
      "allhicOpt_g7.out    mapped.REduced.paired_only.counts_GATC.12g6.tour\n",
      "allhicOpt_g8.err    mapped.REduced.paired_only.counts_GATC.12g6.txt\n",
      "allhicOpt_g8.out    mapped.REduced.paired_only.counts_GATC.12g7.tour\n",
      "allhicOpt_g9.err    mapped.REduced.paired_only.counts_GATC.12g7.txt\n",
      "allhicOpt_g9.out    mapped.REduced.paired_only.counts_GATC.12g8.tour\n",
      "bwa_index.err\t    mapped.REduced.paired_only.counts_GATC.12g8.txt\n",
      "bwa_index.out\t    mapped.REduced.paired_only.counts_GATC.12g9.tour\n",
      "extract.err\t    mapped.REduced.paired_only.counts_GATC.12g9.txt\n",
      "extract.out\t    mapped.REduced.paired_only.counts_GATC.txt\n",
      "groups.agp\t    mapped.REduced.paired_only.distribution.txt\n",
      "groups.asm.fasta    mapped.REduced.paired_only.flagstat\n",
      "len.txt\t\t    mapped.REduced.paired_only.pairs.txt\n",
      "map.err\t\t    mapped.sam\n",
      "map.out\t\t    partition.out\n",
      "mapped.bam\t    preprocess.err\n",
      "mapped.REduced.bam  preprocess.out\n"
     ]
    }
   ],
   "source": [
    "ls"
   ]
  }
 ],
 "metadata": {
  "kernelspec": {
   "display_name": "Bash",
   "language": "bash",
   "name": "bash"
  },
  "language_info": {
   "codemirror_mode": "shell",
   "file_extension": ".sh",
   "mimetype": "text/x-sh",
   "name": "bash"
  }
 },
 "nbformat": 4,
 "nbformat_minor": 4
}
