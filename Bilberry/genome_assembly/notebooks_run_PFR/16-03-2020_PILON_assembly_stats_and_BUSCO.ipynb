{
 "cells": [
  {
   "cell_type": "markdown",
   "metadata": {},
   "source": [
    "# Assembly assessment\n",
    "\n",
    "* All assemblies were constructed on NeSI system and downloaded in this directory for assessments on stats and BUSCO scores"
   ]
  },
  {
   "cell_type": "markdown",
   "metadata": {},
   "source": [
    "## 1. Stats assessment on raw assemblies"
   ]
  },
  {
   "cell_type": "code",
   "execution_count": 22,
   "metadata": {},
   "outputs": [],
   "source": [
    "module load assemblathon_stats/14dfdab"
   ]
  },
  {
   "cell_type": "code",
   "execution_count": 6,
   "metadata": {},
   "outputs": [],
   "source": [
    "WORKDIR=/workspace/hraczw/github/GA/Bilberry_genome/200.Pilon.correction"
   ]
  },
  {
   "cell_type": "code",
   "execution_count": 4,
   "metadata": {},
   "outputs": [
    {
     "name": "stdout",
     "output_type": "stream",
     "text": [
      "bash: /assemblyFileNames_pilon-1.txt: Permission denied\n"
     ]
    },
    {
     "ename": "",
     "evalue": "1",
     "output_type": "error",
     "traceback": []
    }
   ],
   "source": [
    "ls $WORKDIR/*_pilon-1_corrected.fasta > $WORKDIR/assemblyFileNames_pilon-1.txt"
   ]
  },
  {
   "cell_type": "code",
   "execution_count": 7,
   "metadata": {},
   "outputs": [
    {
     "name": "stdout",
     "output_type": "stream",
     "text": [
      "Flye_pilon-1_corrected.fasta\n",
      "necat_pilon-1_corrected.fasta\n",
      "Shasta_pilon-1_corrected.fasta\n",
      "wtdbg2_pilon-1_corrected.fasta\n"
     ]
    }
   ],
   "source": [
    "head $WORKDIR/assemblyFileNames_pilon-1.txt"
   ]
  },
  {
   "cell_type": "code",
   "execution_count": 23,
   "metadata": {},
   "outputs": [
    {
     "name": "stdout",
     "output_type": "stream",
     "text": [
      "Job <369437> is submitted to default queue <normal>.\n",
      "Job <369438> is submitted to default queue <normal>.\n",
      "Job <369439> is submitted to default queue <normal>.\n",
      "Job <369440> is submitted to default queue <normal>.\n"
     ]
    }
   ],
   "source": [
    "python << EOF\n",
    "\n",
    "import sys, os\n",
    "\n",
    "filename = '$WORKDIR/assemblyFileNames_pilon-1.txt'\n",
    "f = open(filename,'r')\n",
    "\n",
    "for line in f:\n",
    "    sampleName = line.split('.fasta')[0]\n",
    "    os.system('bsub -J stats \\\n",
    "               -o $WORKDIR/' + sampleName + '_stats.out \\\n",
    "               -e $WORKDIR/' + sampleName + '_stats.err \\\n",
    "               \"assemblathon_stats.pl $WORKDIR/' + sampleName + '.fasta\"')\n",
    "\n",
    "f.close()\n",
    "\n",
    "EOF"
   ]
  },
  {
   "cell_type": "code",
   "execution_count": 25,
   "metadata": {},
   "outputs": [
    {
     "name": "stdout",
     "output_type": "stream",
     "text": [
      "                                         Number of scaffolds       6948\n",
      "                                     Total size of scaffolds  728899763\n",
      "                                           Shortest scaffold        470\n",
      "                                                 scaffold %N       0.00\n",
      "\n",
      "\n",
      "\n",
      "                                         Number of scaffolds       3924\n",
      "                                     Total size of scaffolds  976961215\n",
      "                                           Shortest scaffold        503\n",
      "                                                 scaffold %N       0.00\n",
      "\n",
      "\n",
      "\n",
      "                                         Number of scaffolds      30842\n",
      "                                     Total size of scaffolds  529444010\n",
      "                                           Shortest scaffold         11\n",
      "                                                 scaffold %N       0.00\n",
      "\n",
      "\n",
      "\n",
      "                                         Number of scaffolds       7611\n",
      "                                     Total size of scaffolds  655706263\n",
      "                                           Shortest scaffold       2382\n",
      "                                                 scaffold %N       0.00\n",
      "\n",
      "\n",
      "\n"
     ]
    }
   ],
   "source": [
    "python << EOF\n",
    "\n",
    "import sys, os\n",
    "\n",
    "filename = '$WORKDIR/assemblyFileNames_pilon-1.txt'\n",
    "f = open(filename,'r')\n",
    "f1 = open('$WORKDIR/assemblyStats_pilon-1.txt','w')\n",
    "\n",
    "for line in f:\n",
    "    sampleName = line.split('.fasta')[0]\n",
    "    statsFile = open('$WORKDIR/' + sampleName + '_stats.out','r')\n",
    "#    print ('stats for ' + sampleName)\n",
    "    f1.write(sampleName + '\\t')\n",
    "    for line1 in statsFile:\n",
    "        if 'Number of scaffolds' in line1 and '>' not in line1:\n",
    "            print (line1.split('\\n')[0])\n",
    "            f1.write(line1.split('\\n')[0] + '\\t')\n",
    "        if 'Total size of scaffolds' in line1:\n",
    "            print (line1.split('\\n')[0])\n",
    "            f1.write(line1.split('\\n')[0] + '\\t')\n",
    "        if 'Shortest scaffold' in line1:\n",
    "            print (line1.split('\\n')[0])\n",
    "            f1.write(line1.split('\\n')[0] + '\\t')\n",
    "        if 'Number of scaffolds > 1M nt' in line1:\n",
    "            f1.write(line1.split('\\n')[0] + '\\t')\n",
    "        if 'scaffold %N' in line1:\n",
    "            print (line1)\n",
    "            f1.write(line1 + '\\n')\n",
    "    print ('\\n')\n",
    "    statsFile.close()\n",
    "f1.close()\n",
    "f.close()\n",
    "\n",
    "EOF"
   ]
  },
  {
   "cell_type": "markdown",
   "metadata": {},
   "source": [
    "## 2. Stats on contigs > 1000 bp"
   ]
  },
  {
   "cell_type": "code",
   "execution_count": 9,
   "metadata": {},
   "outputs": [
    {
     "name": "stdout",
     "output_type": "stream",
     "text": [
      "Job <369421> is submitted to default queue <normal>.\n",
      "Job <369422> is submitted to default queue <normal>.\n",
      "Job <369423> is submitted to default queue <normal>.\n",
      "Job <369424> is submitted to default queue <normal>.\n"
     ]
    }
   ],
   "source": [
    "# filter short seqs from assemblies\n",
    "\n",
    "python << EOF\n",
    "\n",
    "import sys, os\n",
    "\n",
    "filename = '$WORKDIR/assemblyFileNames_pilon-1.txt'\n",
    "f = open(filename,'r')\n",
    "\n",
    "for line in f:\n",
    "    sampleName = line.split('.fasta')[0]\n",
    "    os.system('bsub -J preseq \\\n",
    "               -o $WORKDIR/' + sampleName + '_preseq.out \\\n",
    "               -e $WORKDIR/' + sampleName + '_preseq.err \\\n",
    "               \"perl /workspace/hraczw/github/programs/prinseq-lite-0.20.4/prinseq-lite.pl \\\n",
    "               -fasta $WORKDIR/' + sampleName + '.fasta \\\n",
    "               -out_good $WORKDIR/' + sampleName + '.ml1000 \\\n",
    "               -out_bad $WORKDIR/' + sampleName + '.short \\\n",
    "               -min_len 1000\"')\n",
    "\n",
    "f.close()\n",
    "\n",
    "EOF"
   ]
  },
  {
   "cell_type": "code",
   "execution_count": 24,
   "metadata": {},
   "outputs": [
    {
     "name": "stdout",
     "output_type": "stream",
     "text": [
      "Job <369441> is submitted to default queue <normal>.\n",
      "Job <369442> is submitted to default queue <normal>.\n",
      "Job <369443> is submitted to default queue <normal>.\n",
      "Job <369444> is submitted to default queue <normal>.\n"
     ]
    }
   ],
   "source": [
    "python << EOF\n",
    "\n",
    "import sys, os\n",
    "\n",
    "filename = '$WORKDIR/assemblyFileNames_pilon-1.txt'\n",
    "f = open(filename,'r')\n",
    "\n",
    "for line in f:\n",
    "    sampleName = line.split('.fasta')[0]\n",
    "    os.system('bsub -J stats \\\n",
    "               -o $WORKDIR/' + sampleName + '_stats.ml1000.out \\\n",
    "               -e $WORKDIR/' + sampleName + '_stats.ml1000.err \\\n",
    "               \"assemblathon_stats.pl $WORKDIR/' + sampleName + '.ml1000.fasta\"')\n",
    "\n",
    "f.close()\n",
    "\n",
    "EOF"
   ]
  },
  {
   "cell_type": "code",
   "execution_count": 9,
   "metadata": {},
   "outputs": [
    {
     "name": "stdout",
     "output_type": "stream",
     "text": [
      "\n",
      "---------------- Information for assembly '/workspace/hraczw/github/GA/Bilberry_genome/100.all.assemblies/Flye_all_i1.assembly.ml1000.fasta.fasta' ----------------\n",
      "\n",
      "\n",
      "                                         Number of scaffolds       6831\n",
      "                                     Total size of scaffolds  728802838\n",
      "                                            Longest scaffold    4182198\n",
      "                                           Shortest scaffold       1006\n",
      "                                 Number of scaffolds > 1K nt       6831 100.0%\n",
      "                                Number of scaffolds > 10K nt       5223  76.5%\n",
      "                               Number of scaffolds > 100K nt       2095  30.7%\n",
      "                                 Number of scaffolds > 1M nt         41   0.6%\n",
      "                                Number of scaffolds > 10M nt          0   0.0%\n",
      "                                          Mean scaffold size     106691\n",
      "                                        Median scaffold size      55089\n",
      "                                         N50 scaffold length     244379\n",
      "                                          L50 scaffold count        748\n",
      "                                                 scaffold %A      30.44\n",
      "                                                 scaffold %C      19.54\n",
      "                                                 scaffold %G      19.55\n",
      "                                                 scaffold %T      30.46\n",
      "                                                 scaffold %N       0.00\n",
      "                                         scaffold %non-ACGTN       0.00\n",
      "                             Number of scaffold non-ACGTN nt          0\n",
      "\n",
      "                Percentage of assembly in scaffolded contigs       1.9%\n",
      "              Percentage of assembly in unscaffolded contigs      98.1%\n",
      "                      Average number of contigs per scaffold        1.0\n",
      "  Mean length of breaks (>=25Ns) between contigs in scaffold        100\n",
      "\n",
      "                                           Number of contigs       6886\n",
      "                              Number of contigs in scaffolds        110\n",
      "                          Number of contigs not in scaffolds       6776\n",
      "                                       Total size of contigs  728797338\n",
      "                                              Longest contig    4182198\n",
      "                                             Shortest contig        831\n",
      "                                   Number of contigs > 1K nt       6885 100.0%\n",
      "                                  Number of contigs > 10K nt       5271  76.5%\n",
      "                                 Number of contigs > 100K nt       2097  30.5%\n",
      "                                   Number of contigs > 1M nt         41   0.6%\n",
      "                                  Number of contigs > 10M nt          0   0.0%\n",
      "                                            Mean contig size     105838\n",
      "                                          Median contig size      55186\n",
      "                                           N50 contig length     241513\n",
      "                                            L50 contig count        756\n",
      "                                                   contig %A      30.44\n",
      "                                                   contig %C      19.54\n",
      "                                                   contig %G      19.55\n",
      "                                                   contig %T      30.46\n",
      "                                                   contig %N       0.00\n",
      "                                           contig %non-ACGTN       0.00\n",
      "                               Number of contig non-ACGTN nt          0\n",
      "\n",
      "------------------------------------------------------------\n",
      "Sender: OpenLava System <openlava@wkoppb43>\n",
      "Subject: Job 335830: <stats> Done\n",
      "\n",
      "Job <stats> was submitted from host <aklppj31> by user <hraczw>.\n",
      "Job was executed on host(s) <wkoppb43>, in queue <normal>, as user <hraczw>.\n",
      "</home/hraczw> was used as the home directory.\n",
      "</powerplant/workspace/hraczw/github/GA/Bilberry_genome/100.all.assemblies> was used as the working directory.\n",
      "Started at Thu Mar  5 14:08:12 2020\n",
      "Results reported at Thu Mar  5 14:08:48 2020\n",
      "\n",
      "Your job looked like:\n",
      "\n",
      "------------------------------------------------------------\n",
      "# LSBATCH: User input\n",
      "assemblathon_stats.pl /workspace/hraczw/github/GA/Bilberry_genome/100.all.assemblies/Flye_all_i1.assembly.ml1000.fasta.fasta\n",
      "------------------------------------------------------------\n",
      "\n",
      "Successfully completed.\n",
      "\n",
      "Resource usage summary:\n",
      "\n",
      "    CPU time   :     19.10 sec.\n",
      "    Max Memory :      2812 MB\n",
      "    Max Swap   :      3072 MB\n",
      "\n",
      "    Max Processes  :         3\n",
      "\n",
      "The output (if any) is above this job summary.\n",
      "\n"
     ]
    }
   ],
   "source": [
    "cat Flye_all_i1.assembly_stats.ml1000.out"
   ]
  },
  {
   "cell_type": "code",
   "execution_count": 26,
   "metadata": {},
   "outputs": [
    {
     "name": "stdout",
     "output_type": "stream",
     "text": [
      "Flye_pilon-1_corrected\t\n",
      "                                         Number of scaffolds       6845\n",
      "                                     Total size of scaffolds  728826619\n",
      "                                            Longest scaffold    4712544\n",
      "                                           Shortest scaffold       1002\n",
      "                                Number of scaffolds > 10K nt       5230  76.4%\n",
      "                               Number of scaffolds > 100K nt       2098  30.7%\n",
      "                                 Number of scaffolds > 1M nt         33   0.5%\n",
      "                                         N50 scaffold length     243997\n",
      "                                                 scaffold %N       0.00\n",
      "\n",
      "\n",
      "\n",
      "necat_pilon-1_corrected\t\n",
      "                                         Number of scaffolds       3887\n",
      "                                     Total size of scaffolds  976932568\n",
      "                                            Longest scaffold    4895527\n",
      "                                           Shortest scaffold       1022\n",
      "                                Number of scaffolds > 10K nt       3597  92.5%\n",
      "                               Number of scaffolds > 100K nt       1802  46.4%\n",
      "                                 Number of scaffolds > 1M nt        221   5.7%\n",
      "                                         N50 scaffold length     671263\n",
      "                                                 scaffold %N       0.00\n",
      "\n",
      "\n",
      "\n",
      "Shasta_pilon-1_corrected\t\n",
      "                                         Number of scaffolds       3005\n",
      "                                     Total size of scaffolds  524049332\n",
      "                                            Longest scaffold    3961255\n",
      "                                           Shortest scaffold       1002\n",
      "                                Number of scaffolds > 10K nt       2550  84.9%\n",
      "                               Number of scaffolds > 100K nt        938  31.2%\n",
      "                                 Number of scaffolds > 1M nt        109   3.6%\n",
      "                                         N50 scaffold length     609803\n",
      "                                                 scaffold %N       0.00\n",
      "\n",
      "\n",
      "\n",
      "wtdbg2_pilon-1_corrected\t\n",
      "                                         Number of scaffolds       7611\n",
      "                                     Total size of scaffolds  655706263\n",
      "                                            Longest scaffold    6799448\n",
      "                                           Shortest scaffold       2382\n",
      "                                Number of scaffolds > 10K nt       5889  77.4%\n",
      "                               Number of scaffolds > 100K nt        968  12.7%\n",
      "                                 Number of scaffolds > 1M nt        127   1.7%\n",
      "                                         N50 scaffold length     518063\n",
      "                                                 scaffold %N       0.00\n",
      "\n",
      "\n",
      "\n"
     ]
    }
   ],
   "source": [
    "python << EOF\n",
    "\n",
    "import sys, os\n",
    "\n",
    "filename = '$WORKDIR/assemblyFileNames_pilon-1.txt'\n",
    "f = open(filename,'r')\n",
    "f1 = open('$WORKDIR/assemblyStats.ml1000_pilon-1.txt','w')\n",
    "\n",
    "for line in f:\n",
    "    sampleName = line.split('.fasta')[0]\n",
    "    statsFile = open('$WORKDIR/' + sampleName + '_stats.ml1000.out','r')\n",
    "#    print ('stats for ' + sampleName)\n",
    "    print (sampleName + '\\t')\n",
    "    f1.write(sampleName + '\\t')\n",
    "    for line1 in statsFile:\n",
    "        if 'Number of scaffolds' in line1 and '>' not in line1:\n",
    "            print (line1.split('\\n')[0])\n",
    "            f1.write(line1.split('\\n')[0] + '\\t')\n",
    "        if 'Total size of scaffolds' in line1:\n",
    "            print (line1.split('\\n')[0])\n",
    "            f1.write(line1.split('\\n')[0] + '\\t')\n",
    "        if 'Longest scaffold' in line1:\n",
    "            print (line1.split('\\n')[0])\n",
    "            f1.write(line1.split('\\n')[0] + '\\t')            \n",
    "        if 'Shortest scaffold' in line1:\n",
    "            print (line1.split('\\n')[0])\n",
    "            f1.write(line1.split('\\n')[0] + '\\t')\n",
    "        if 'Number of scaffolds > 10K nt' in line1:\n",
    "            print (line1.split('\\n')[0])\n",
    "            f1.write(line1.split('\\n')[0] + '\\t')\n",
    "        if 'Number of scaffolds > 100K nt' in line1:\n",
    "            print (line1.split('\\n')[0])\n",
    "            f1.write(line1.split('\\n')[0] + '\\t')        \n",
    "        if 'Number of scaffolds > 1M nt' in line1:\n",
    "            print (line1.split('\\n')[0])\n",
    "            f1.write(line1.split('\\n')[0] + '\\t')\n",
    "        if 'N50 scaffold length' in line1:\n",
    "            print (line1.split('\\n')[0])\n",
    "            f1.write(line1.split('\\n')[0] + '\\t')\n",
    "        if 'scaffold %N' in line1:\n",
    "            print (line1)\n",
    "            f1.write(line1 + '\\n')\n",
    "    print ('\\n')\n",
    "    statsFile.close()\n",
    "f1.close()\n",
    "f.close()\n",
    "\n",
    "EOF"
   ]
  },
  {
   "cell_type": "markdown",
   "metadata": {},
   "source": [
    "## 3. BUSCO assessment"
   ]
  },
  {
   "cell_type": "code",
   "execution_count": 10,
   "metadata": {},
   "outputs": [],
   "source": [
    "mkdir $WORKDIR/BUSCO"
   ]
  },
  {
   "cell_type": "code",
   "execution_count": 11,
   "metadata": {},
   "outputs": [],
   "source": [
    "cp /workspace/hraczw/github/GA/Bilberry_genome/100.all.assemblies/BUSCO/config.ini $WORKDIR/BUSCO"
   ]
  },
  {
   "cell_type": "code",
   "execution_count": 12,
   "metadata": {},
   "outputs": [],
   "source": [
    "export BUSCO_CONFIG_FILE=$WORKDIR/BUSCO/config.ini"
   ]
  },
  {
   "cell_type": "code",
   "execution_count": 14,
   "metadata": {},
   "outputs": [
    {
     "name": "stdout",
     "output_type": "stream",
     "text": [
      "# BUSCO specific configuration\n",
      "# It overrides default values in code and dataset cfg, and is overridden by arguments in command line\n",
      "# Uncomment lines when appropriate\n",
      "[busco]\n",
      "# Input file\n",
      ";in =\n",
      "# Run name, used in output files and folder\n",
      ";out = \n",
      "# Where to store the output directory\n",
      ";out_path = /workspace/hraczw/github/GA/Bilberry_genome/200.Pilon.correction/BUSCO\n",
      "# Path to the BUSCO dataset\n",
      ";lineage_path = /workspace/hraczw/github/programs/embryophyta_odb10\n",
      "# Which mode to run (genome / protein / transcriptome)\n",
      ";mode = genome\n",
      "# How many threads to use for multithreaded steps\n",
      ";cpu = 6\n",
      "# Domain for augustus retraining, eukaryota or prokaryota\n",
      "# Do not change this unless you know exactly why !!!\n",
      ";domain = eukaryota\n",
      "# Force rewrite if files already exist (True/False)\n",
      ";force = False\n",
      "# Restart mode (True/False)\n",
      ";restart = False\n",
      "# Blast e-value\n",
      ";evalue = 1e-3\n",
      "# Species to use with augustus, for old datasets only\n",
      ";species = arabidopsis\n",
      "# Augustus extra parameters\n",
      "# Use single quotes, like this: '--param1=1 --param2=2'\n",
      ";augustus_parameters = ''\n",
      "# Tmp folder\n",
      ";tmp_path = /workspace/hraczw/github/GA/Bilberry_genome/200.Pilon.correction/BUSCO\n",
      "# How many candidate regions (contigs, scaffolds) to consider for each BUSCO\n",
      ";limit = 3\n",
      "# Augustus long mode for retraining (True/False)\n",
      ";long = False\n",
      "# Quiet mode (True/False)\n",
      ";quiet = False\n",
      "# Debug logs (True/False), it needs Quiet to be False\n",
      ";debug = True\n",
      "# tar gzip output files (True/False)\n",
      ";gzip = False\n",
      "# Force single core for the tblastn step\n",
      ";blast_single_core = True\n",
      "\n",
      "[tblastn]\n",
      "# path to tblastn\n",
      "path = /software/bioinformatics/ncbi-blast-2.2.30Plus/bin\n",
      "\n",
      "[makeblastdb]\n",
      "# path to makeblastdb\n",
      "path = /software/bioinformatics/ncbi-blast-2.2.30Plus/bin\n",
      "\n",
      "[augustus]\n",
      "# path to augustus\n",
      "path = /software/bioinformatics/augustus-3.2.2/bin\n",
      "\n",
      "[etraining]\n",
      "# path to augustus etraining\n",
      "path = /software/bioinformatics/augustus-3.2.2/bin\n",
      "\n",
      "# path to augustus perl scripts, redeclare it for each new script\n",
      "[gff2gbSmallDNA.pl]\n",
      "path = /software/bioinformatics/augustus-3.2.2/scripts\n",
      "[new_species.pl]\n",
      "path = /software/bioinformatics/augustus-3.2.2/scripts\n",
      "[optimize_augustus.pl]\n",
      "path = /software/bioinformatics/augustus-3.2.2/scripts\n",
      "\n",
      "[hmmsearch]\n",
      "# path to HMMsearch executable\n",
      "path = /software/bioinformatics/hmmer-3.1b2-linux-intel-x86_64/bin\n",
      "\n",
      "[Rscript]\n",
      "# path to Rscript, if you wish to use the plot tool\n",
      "path = /software/OSutils/modules/share/Modules/modulefiles/R/3.5.0\n"
     ]
    }
   ],
   "source": [
    "cat $WORKDIR/BUSCO/config.ini "
   ]
  },
  {
   "cell_type": "code",
   "execution_count": 15,
   "metadata": {},
   "outputs": [
    {
     "name": "stdout",
     "output_type": "stream",
     "text": [
      "Currently Loaded Modulefiles:\n",
      "  1) powerPlant/core     6) asub/2.1           11) augustus/3.2.2\n",
      "  2) texlive/20151117    7) pfr-python3/3.6.1  12) emboss/6.5.7\n",
      "  3) pandoc/1.19.2       8) boost/1_61_0       13) hmmer/3.1b2\n",
      "  4) git/2.21.0          9) bamtools/2.4.0     14) ncbi-blast/2.2.30\n",
      "  5) perlbrew/0.76      10) perl/bio-extras    15) BUSCO/v3.0.2\n"
     ]
    }
   ],
   "source": [
    "module unload perl\n",
    "module load BUSCO\n",
    "module list"
   ]
  },
  {
   "cell_type": "code",
   "execution_count": 16,
   "metadata": {},
   "outputs": [
    {
     "name": "stdout",
     "output_type": "stream",
     "text": [
      "usage: python BUSCO.py -i [SEQUENCE_FILE] -l [LINEAGE] -o [OUTPUT_NAME] -m [MODE] [OTHER OPTIONS]\n",
      "\n",
      "Welcome to BUSCO 3.0.2: the Benchmarking Universal Single-Copy Ortholog assessment tool.\n",
      "For more detailed usage information, please review the README file provided with this distribution and the BUSCO user guide.\n",
      "\n",
      "optional arguments:\n",
      "  -i FASTA FILE, --in FASTA FILE\n",
      "                        Input sequence file in FASTA format. Can be an assembled genome or transcriptome (DNA), or protein sequences from an annotated gene set.\n",
      "  -c N, --cpu N         Specify the number (N=integer) of threads/cores to use.\n",
      "  -o OUTPUT, --out OUTPUT\n",
      "                        Give your analysis run a recognisable short name. Output folders and files will be labelled with this name. WARNING: do not provide a path\n",
      "  -e N, --evalue N      E-value cutoff for BLAST searches. Allowed formats, 0.001 or 1e-03 (Default: 1e-03)\n",
      "  -m MODE, --mode MODE  Specify which BUSCO analysis mode to run.\n",
      "                        There are three valid modes:\n",
      "                        - geno or genome, for genome assemblies (DNA)\n",
      "                        - tran or transcriptome, for transcriptome assemblies (DNA)\n",
      "                        - prot or proteins, for annotated gene sets (protein)\n",
      "  -l LINEAGE, --lineage_path LINEAGE\n",
      "                        Specify location of the BUSCO lineage data to be used.\n",
      "                        Visit http://busco.ezlab.org for available lineages.\n",
      "  -f, --force           Force rewriting of existing files. Must be used when output files with the provided name already exist.\n",
      "  -r, --restart         Restart an uncompleted run. Not available for the protein mode\n",
      "  -sp SPECIES, --species SPECIES\n",
      "                        Name of existing Augustus species gene finding parameters. See Augustus documentation for available options.\n",
      "  --augustus_parameters AUGUSTUS_PARAMETERS\n",
      "                        Additional parameters for the fine-tuning of Augustus run. For the species, do not use this option.\n",
      "                        Use single quotes as follow: '--param1=1 --param2=2', see Augustus documentation for available options.\n",
      "  -t PATH, --tmp_path PATH\n",
      "                        Where to store temporary files (Default: ./tmp/)\n",
      "  --limit REGION_LIMIT  How many candidate regions (contig or transcript) to consider per BUSCO (default: 3)\n",
      "  --long                Optimization mode Augustus self-training (Default: Off) adds considerably to the run time, but can improve results for some non-model organisms\n",
      "  -q, --quiet           Disable the info logs, displays only errors\n",
      "  -z, --tarzip          Tarzip the output folders likely to contain thousands of files\n",
      "  --blast_single_core   Force tblastn to run on a single core and ignore the --cpu argument for this step only. Useful if inconsistencies when using multiple threads are noticed\n",
      "  -v, --version         Show this version and exit\n",
      "  -h, --help            Show this help message and exit\n"
     ]
    }
   ],
   "source": [
    "run_BUSCO.py -h"
   ]
  },
  {
   "cell_type": "code",
   "execution_count": 31,
   "metadata": {
    "collapsed": true,
    "jupyter": {
     "outputs_hidden": true
    }
   },
   "outputs": [],
   "source": [
    "# cp -r /software/bioinformatics/augustus-3.2.2/config $WORKDIR/BUSCO"
   ]
  },
  {
   "cell_type": "code",
   "execution_count": 17,
   "metadata": {},
   "outputs": [],
   "source": [
    "export AUGUSTUS_CONFIG_PATH=/workspace/hraczw/github/GA/Bilberry_genome/100.all.assemblies/BUSCO/config"
   ]
  },
  {
   "cell_type": "code",
   "execution_count": 18,
   "metadata": {},
   "outputs": [
    {
     "name": "stdout",
     "output_type": "stream",
     "text": [
      "Job <369428> is submitted to default queue <normal>.\n",
      "Job <369429> is submitted to default queue <normal>.\n",
      "Job <369430> is submitted to default queue <normal>.\n",
      "Job <369431> is submitted to default queue <normal>.\n"
     ]
    }
   ],
   "source": [
    "python << EOF\n",
    "\n",
    "import sys, os\n",
    "\n",
    "sampleFile = open('$WORKDIR/assemblyFileNames_pilon-1.txt','r')\n",
    "\n",
    "for line in sampleFile:\n",
    "    sampleName = line.split('.fasta')[0]\n",
    "    os.system('mkdir $WORKDIR/BUSCO/' + sampleName + '_tmp')\n",
    "    os.system('bsub -J BUSCO \\\n",
    "               -n 6 \\\n",
    "               -o $WORKDIR/BUSCO/' + sampleName + '_BUSCO.out \\\n",
    "               -e $WORKDIR/BUSCO/' + sampleName + '_BUSCO.err \\\n",
    "               \"run_BUSCO.py \\\n",
    "                -i $WORKDIR/' + sampleName + '.fasta \\\n",
    "                -l /workspace/hraczw/github/programs/embryophyta_odb10 \\\n",
    "                -f \\\n",
    "                -c 6 \\\n",
    "                -o ' + sampleName + '_BUSCO \\\n",
    "                -t $WORKDIR/BUSCO/' + sampleName + '_tmp \\\n",
    "                -m genome\"')\n",
    "\n",
    "sampleFile.close()\n",
    "\n",
    "EOF"
   ]
  },
  {
   "cell_type": "code",
   "execution_count": 7,
   "metadata": {},
   "outputs": [],
   "source": [
    "# necat assembly ID is very long, need to rename IDs\n",
    "\n",
    "python << EOF\n",
    "\n",
    "f = open('$WORKDIR/necat_all_trimmed.fasta','r')\n",
    "f1 = open('$WORKDIR/necat_all_trimmed.renamed.fasta','w')\n",
    "\n",
    "index = 1\n",
    "for line in f:\n",
    "    if '>' in line:\n",
    "        f1.write('>' + str(index) + '\\n')\n",
    "        index = index + 1\n",
    "    else:\n",
    "        f1.write(line)\n",
    "    \n",
    "f.close()\n",
    "f1.close()\n",
    "\n",
    "EOF"
   ]
  },
  {
   "cell_type": "code",
   "execution_count": 2,
   "metadata": {},
   "outputs": [
    {
     "name": "stdout",
     "output_type": "stream",
     "text": [
      "Job <205814> is submitted to default queue <default>.\n"
     ]
    }
   ],
   "source": [
    "# rerun necat assebmly\n",
    "\n",
    "bsub -J BUSCO \\\n",
    "-n 20 \\\n",
    "-m wkoppg31 \\\n",
    "-o $WORKDIR/BUSCO/necat_all_trimmed_BUSCO.out \\\n",
    "-e $WORKDIR/BUSCO/necat_all_trimmed_BUSCO.err \\\n",
    "\"run_BUSCO.py \\\n",
    "-i $WORKDIR/necat_all_trimmed.renamed.fasta \\\n",
    "-l /workspace/hraczw/github/programs/embryophyta_odb10 \\\n",
    "-f \\\n",
    "-c 20 \\\n",
    "-o necat_all_trimmed_BUSCO \\\n",
    "-t $WORKDIR/BUSCO/necat_all_trimmed_tmp \\\n",
    "-m genome\""
   ]
  },
  {
   "cell_type": "code",
   "execution_count": 36,
   "metadata": {
    "collapsed": true,
    "jupyter": {
     "outputs_hidden": true
    }
   },
   "outputs": [],
   "source": [
    "mv $WORKDIR/run_* $WORKDIR/BUSCO"
   ]
  },
  {
   "cell_type": "code",
   "execution_count": 10,
   "metadata": {},
   "outputs": [
    {
     "name": "stdout",
     "output_type": "stream",
     "text": [
      "Complete\tSingle\tDuplicate\n",
      "\n",
      "Flye_all_i1.assembly\t\n",
      "87.0%\t\n",
      "74.1%\t\n",
      "12.9%\t\n",
      "7.5%\t\n",
      "5.5%\n",
      "\n",
      "Flye_all_i2.assembly\t\n",
      "87.0%\t\n",
      "72.7%\t\n",
      "14.3%\t\n",
      "6.9%\t\n",
      "6.1%\n",
      "\n",
      "Flye_all_trimmed_i1.assembly\t\n",
      "88.7%\t\n",
      "75.7%\t\n",
      "13.0%\t\n",
      "5.9%\t\n",
      "5.4%\n",
      "\n",
      "Flye_all_trimmed_i2.assembly\t\n",
      "88.7%\t\n",
      "74.1%\t\n",
      "14.6%\t\n",
      "6.3%\t\n",
      "5.0%\n",
      "\n",
      "necat_all_trimmed\t\n",
      "89.5%\t\n",
      "47.8%\t\n",
      "41.7%\t\n",
      "4.5%\t\n",
      "6.0%\n",
      "\n",
      "Shasta_all_FiltLong60C_v0.2.0.assembly\t\n",
      "72.7%\t\n",
      "71.2%\t\n",
      "1.5%\t\n",
      "13.9%\t\n",
      "13.4%\n",
      "\n",
      "Shasta_all_trimmed_v0.3.0.assembly\t\n",
      "83.9%\t\n",
      "81.2%\t\n",
      "2.7%\t\n",
      "8.9%\t\n",
      "7.2%\n",
      "\n",
      "Shasta_all_v0.2.0.assembly\t\n",
      "84.8%\t\n",
      "81.8%\t\n",
      "3.0%\t\n",
      "8.5%\t\n",
      "6.7%\n",
      "\n",
      "wtdbg2_all_trimmed.assembly\t\n",
      "70.3%\t\n",
      "68.4%\t\n",
      "1.9%\t\n",
      "12.0%\t\n",
      "17.7%\n",
      "\n"
     ]
    }
   ],
   "source": [
    "python << EOF\n",
    "\n",
    "import sys, os\n",
    "\n",
    "sampleFile = open('$WORKDIR/assemblyFileNames.txt','r')\n",
    "statsFile = open('$WORKDIR/BUSCO/BUSCO_stats.txt','w')\n",
    "\n",
    "print ('Complete\\tSingle\\tDuplicate\\n')\n",
    "statsFile.write('SampleID\\tComplete\\tSingle\\tDuplicate\\tFragmented\\tMissing\\n')\n",
    "for line in sampleFile:\n",
    "    sampleName = line.split('.fasta')[0]\n",
    "    print (sampleName + '\\t')\n",
    "    statsFile.write(sampleName + '\\t')\n",
    "    BUSCO_result = open('$WORKDIR/BUSCO/run_' + sampleName + '_BUSCO/short_summary_' + sampleName + '_BUSCO.txt','r')\n",
    "    for line1 in BUSCO_result:\n",
    "        if 'C:' in line1:\n",
    "            print (line1.split('C:')[1].split('[')[0] + '\\t')\n",
    "            print (line1.split('[S:')[1].split(',')[0] + '\\t')\n",
    "            print (line1.split('D:')[1].split(']')[0] + '\\t')\n",
    "            print (line1.split(',F:')[1].split(',')[0] + '\\t')\n",
    "            print (line1.split(',M:')[1].split(',')[0] + '\\n')\n",
    "            statsFile.write(line1.split('C:')[1].split('[')[0] + '\\t' + \\\n",
    "                            line1.split('[S:')[1].split(',')[0] + '\\t' + \\\n",
    "                            line1.split('D:')[1].split(']')[0] + '\\t' + \\\n",
    "                            line1.split(',F:')[1].split(',')[0] + '\\t' + \\\n",
    "                            line1.split(',M:')[1].split(',')[0] + '\\n')\n",
    "    BUSCO_result.close()\n",
    "    \n",
    "sampleFile.close()\n",
    "statsFile.close()\n",
    "\n",
    "EOF"
   ]
  }
 ],
 "metadata": {
  "kernelspec": {
   "display_name": "Bash",
   "language": "bash",
   "name": "bash"
  },
  "language_info": {
   "codemirror_mode": "shell",
   "file_extension": ".sh",
   "mimetype": "text/x-sh",
   "name": "bash"
  }
 },
 "nbformat": 4,
 "nbformat_minor": 4
}
