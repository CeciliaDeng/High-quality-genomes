{
 "cells": [
  {
   "cell_type": "markdown",
   "metadata": {},
   "source": [
    "# HiC scaffolding strategy (Ali's HiCtool) on bilberry contigs\n",
    "\n",
    "## Background\n",
    "\n",
    "* ALLHIC did not produce a reasonable chr-level assembly of bilberry genome. We have found that bilberry contigs have a very good synteny with blueberry genome and this syntenic result can be used for chr-level assembly. We decide to generate a synteny-based bilberry pseudochromosomes, then use HiC data to correct if any of the links looks like not being supported by synteny. Ali's HiCtool is going to be used for correction based on HiC links.\n",
    "* The HiCtool is still under development from Ali and it is currently in the test."
   ]
  },
  {
   "cell_type": "markdown",
   "metadata": {},
   "source": [
    "## 1. Generating import files for Ali's HiCtool"
   ]
  },
  {
   "cell_type": "code",
   "execution_count": 1,
   "metadata": {},
   "outputs": [],
   "source": [
    "WORKDIR=/workspace/hraczw/github/GA/Bilberry_genome/012.HiC.ALLHIC"
   ]
  },
  {
   "cell_type": "markdown",
   "metadata": {},
   "source": [
    "### 1.1 produce HiC contact map file \n",
    "\n",
    "Bam file will be firstly extracted and converted to qualFilt.txt file and then it was summed up using R script and saved to .rds compressed file"
   ]
  },
  {
   "cell_type": "code",
   "execution_count": 2,
   "metadata": {},
   "outputs": [
    {
     "name": "stdout",
     "output_type": "stream",
     "text": [
      "Currently Loaded Modulefiles:\n",
      "  1) powerPlant/core    4) git/2.21.0         7) asub/2.1\n",
      "  2) texlive/20151117   5) perlbrew/0.76      8) samtools/1.9\n",
      "  3) pandoc/1.19.2      6) perl/5.28.0\n"
     ]
    }
   ],
   "source": [
    "module load samtools\n",
    "module list"
   ]
  },
  {
   "cell_type": "code",
   "execution_count": null,
   "metadata": {},
   "outputs": [],
   "source": [
    "# generating contact file\n",
    "\n",
    "command=\"samtools view $WORKDIR/mapped_shasta_i1.REduced.paired_only.bam | \\\n",
    "/workspace/hrpazs/bilberry_genome/filter_reads.awk -v isize=0 q=0 | \\\n",
    "/workspace/hrpazs/software/dryhic/inst/src/reads_to_bins_whole.awk -v w=1000 > \\\n",
    "$WORKDIR/mapped_shasta_i1_contact_map_1k_qualFilt.txt\"\n",
    "bsub -J convert -o $WORKDIR/shasta_i1_convert_to_contactMap.out -e $WORKDIR/shasta_i1_convert_to_contactMap.err $command"
   ]
  },
  {
   "cell_type": "code",
   "execution_count": 3,
   "metadata": {},
   "outputs": [
    {
     "name": "stdout",
     "output_type": "stream",
     "text": [
      "Job <249447> is submitted to default queue <lowpriority>.\n"
     ]
    }
   ],
   "source": [
    "# generating contact file\n",
    "\n",
    "command=\"samtools view $WORKDIR/mapped_shasta_i3.REduced.paired_only.bam | \\\n",
    "/workspace/hrpazs/bilberry_genome/filter_reads.awk -v isize=0 q=0 | \\\n",
    "/workspace/hrpazs/software/dryhic/inst/src/reads_to_bins_whole.awk -v w=1000 > \\\n",
    "$WORKDIR/mapped_shasta_i3_contact_map_1k_qualFilt.txt\"\n",
    "bsub -J convert -o $WORKDIR/shasta_i3_convert_to_contactMap.out -e $WORKDIR/shasta_i3_convert_to_contactMap.err $command"
   ]
  },
  {
   "cell_type": "code",
   "execution_count": 4,
   "metadata": {},
   "outputs": [
    {
     "name": "stdout",
     "output_type": "stream",
     "text": [
      "Job <249450> is submitted to default queue <lowpriority>.\n"
     ]
    }
   ],
   "source": [
    "# generating contact file\n",
    "\n",
    "command=\"samtools view $WORKDIR/mapped_flye_i3.REduced.paired_only.bam | \\\n",
    "/workspace/hrpazs/bilberry_genome/filter_reads.awk -v isize=0 q=0 | \\\n",
    "/workspace/hrpazs/software/dryhic/inst/src/reads_to_bins_whole.awk -v w=1000 > \\\n",
    "$WORKDIR/mapped_flye_i3_contact_map_1k_qualFilt.txt\"\n",
    "bsub -J convert -o $WORKDIR/flye_i3_convert_to_contactMap.out -e $WORKDIR/flye_i3_convert_to_contactMap.err $command"
   ]
  },
  {
   "cell_type": "code",
   "execution_count": null,
   "metadata": {},
   "outputs": [],
   "source": [
    "# this is R command to sum the above result up\n",
    "# create a script.R file containing the commands below\n",
    "\n",
    "library(dplyr)\n",
    "library(data.table)\n",
    "mapped_shasta_i1_contact_map_1k_qualFilt <- fread(\"/workspace/hraczw/github/GA/Bilberry_genome/012.HiC.ALLHIC/mapped_shasta_i1_contact_map_1k_qualFilt.txt\", nThread = 1, sep = \"\\t\") %>% .[, .(n = sum(V5)), by = .(V1, V2, V3, V4)] %>% setnames(., c(\"V1\", \"V2\",\"V3\", \"V4\"), c(\"rname\", \"pos\", \"mrnm\", \"mpos\")) %>% filter(n > 1)\n",
    "saveRDS(mapped_shasta_i1_contact_map_1k_qualFilt, file = \"mapped_shasta_i1_contact_map_1k_qualFilt.rds\")\n",
    "\n",
    "# then load python3 and run the shell command\n",
    "\n",
    "bsub -J convert -o script.out -e script.err \"Rscript script.R\"\n",
    "\n",
    "# this will produce a rds compressed file as import for contact map, there is a limitation of file size for uploading."
   ]
  },
  {
   "cell_type": "markdown",
   "metadata": {},
   "source": [
    "### 1.2 sequence length file"
   ]
  },
  {
   "cell_type": "code",
   "execution_count": null,
   "metadata": {},
   "outputs": [],
   "source": [
    "# generating sequence length file from .fai\n",
    "\n",
    "python << EOF\n",
    "\n",
    "f = open('Shasta_racon_i1_pilon-2.noBacteria.ml1000.fasta.fai','r')\n",
    "f1 = open('Shasta_racon_i1_pilon-2.noBacteria.ml1000.fasta.csv','w')\n",
    "\n",
    "f1.write('\"rname\",\"len\"\\n')\n",
    "for line in f:\n",
    "\tseqID = line.split('\\t')[0]\n",
    "\tseqLen = line.split('\\t')[1]\n",
    "\tf1.write('\"' + seqID + '\",' + seqLen + '\\n')\n",
    "\n",
    "f.close()\n",
    "\n",
    "EOF"
   ]
  },
  {
   "cell_type": "markdown",
   "metadata": {},
   "source": [
    "## 2. open HiCtool for correcting based on heatmap\n",
    "\n",
    "Download the two files generated above to local and import to the rool"
   ]
  },
  {
   "cell_type": "code",
   "execution_count": null,
   "metadata": {},
   "outputs": [],
   "source": [
    "#open the server file from Rstudio:\n",
    "/workspace/hrpazs/petunia_genome/HiC/HicTool/server.R\n",
    "\n",
    "# then run the R script to open the URL"
   ]
  }
 ],
 "metadata": {
  "kernelspec": {
   "display_name": "Bash",
   "language": "bash",
   "name": "bash"
  },
  "language_info": {
   "codemirror_mode": "shell",
   "file_extension": ".sh",
   "mimetype": "text/x-sh",
   "name": "bash"
  }
 },
 "nbformat": 4,
 "nbformat_minor": 4
}
