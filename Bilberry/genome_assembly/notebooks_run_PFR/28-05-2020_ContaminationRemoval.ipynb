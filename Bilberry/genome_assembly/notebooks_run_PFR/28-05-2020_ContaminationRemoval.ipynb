{
 "cells": [
  {
   "cell_type": "markdown",
   "metadata": {},
   "source": [
    "# contamination removal\n",
    "\n",
    "* Contamination contigs are suggested to erase from the 10x contig sets before further scaffolding\n",
    "* Kraken is used to remove contigs belonging to microbiomes\n",
    "* Workflow adopted from Cecilia\n",
    "\n",
    "**NOTE** from Cecilia:  the DB I used was /input/powerPlant/appsdata/kraken2db/Refseq91 (Dated Feb 2019). It took ages to build the db hence we don’t update it often. There is a newer version, RefSeq93, built about two weeks ago. I’d recommend to use a server with large RAM to avoid the memory issue when loading DB."
   ]
  },
  {
   "cell_type": "markdown",
   "metadata": {},
   "source": [
    "## 1. input contigs"
   ]
  },
  {
   "cell_type": "code",
   "execution_count": 1,
   "metadata": {},
   "outputs": [],
   "source": [
    "mkdir 0101.Contamination.analysis"
   ]
  },
  {
   "cell_type": "code",
   "execution_count": 1,
   "metadata": {},
   "outputs": [],
   "source": [
    "WORKDIR=/workspace/hraczw/github/GA/Bilberry_genome/0101.Contamination.analysis"
   ]
  },
  {
   "cell_type": "markdown",
   "metadata": {},
   "source": [
    "create a file named ContigFiles.txt containing all contig sets required for analysis"
   ]
  },
  {
   "cell_type": "code",
   "execution_count": 2,
   "metadata": {},
   "outputs": [
    {
     "name": "stdout",
     "output_type": "stream",
     "text": [
      "/workspace/hraczw/github/GA/Bilberry_genome/200.Pilon.correction/Shasta_all_v0.2.0.assembly.racon_i1.includeUnpolished.gpu_pilon-1_corrected_pilon-2_corrected.fasta\n",
      "/workspace/hraczw/github/GA/Bilberry_genome/200.Pilon.correction/Shasta_all_v0.2.0.assembly.racon_i3.includeUnpolished.gpu_pilon-1_corrected_pilon-2_corrected.fasta\n",
      "/workspace/hraczw/github/GA/Bilberry_genome/200.Pilon.correction/Flye_all_trimmed_i1.assembly.racon_i3.includeUnpolished.gpu_pilon-1_corrected_pilon-2_corrected.fasta\n"
     ]
    }
   ],
   "source": [
    "cat 0101.Contamination.analysis/ContigFiles.txt"
   ]
  },
  {
   "cell_type": "markdown",
   "metadata": {},
   "source": [
    "## 2. Kraken"
   ]
  },
  {
   "cell_type": "code",
   "execution_count": 4,
   "metadata": {},
   "outputs": [
    {
     "name": "stdout",
     "output_type": "stream",
     "text": [
      "Job <213064> is submitted to default queue <lowpriority>.\n",
      "Job <213065> is submitted to default queue <lowpriority>.\n",
      "Job <213066> is submitted to default queue <lowpriority>.\n"
     ]
    }
   ],
   "source": [
    "python << EOF\n",
    "\n",
    "import sys, os\n",
    "\n",
    "filename = '$WORKDIR/ContigFiles.txt'\n",
    "f = open(filename,'r')\n",
    "\n",
    "for line in f:\n",
    "    sampleName = line.split('/')[-1].split('_')[0] + '_racon' + line.split('racon')[1].split('.')[0] + '_pilon-2'\n",
    "    fileName = line.split('\\n')[0]\n",
    "\n",
    "    os.system('bsub -J kraken \\\n",
    "               -m wkoppb50 \\\n",
    "               -n 20 \\\n",
    "               -o $WORKDIR/' + sampleName + '.out \\\n",
    "               -e $WORKDIR/' + sampleName + '.err \\\n",
    "               \"/workspace/hraaxt/kraken2/kraken2 \\\n",
    "                --output $WORKDIR/' + sampleName + '.kraken2.cut \\\n",
    "                --unclassified-out $WORKDIR/' + sampleName + '.kraken2.unclassified.out \\\n",
    "                --classified-out $WORKDIR/' + sampleName + '.kraken2.classified.out \\\n",
    "                --report $WORKDIR/' + sampleName + '.kraken2.report.txt \\\n",
    "                --use-names \\\n",
    "                --db /input/powerPlant/appsdata/kraken2db/RefSeq93 \\\n",
    "                --threads 20 \\\n",
    "                --memory-mapping \\\n",
    "                ' + fileName + '\"')\n",
    "\n",
    "f.close()\n",
    "\n",
    "EOF\n",
    "\n",
    "# > .log/Try2.G3_2_S3.1.log 2>.log/Try2.G3_2_S3.1.err &\n"
   ]
  },
  {
   "cell_type": "markdown",
   "metadata": {},
   "source": [
    "## 3. Generate report"
   ]
  },
  {
   "cell_type": "code",
   "execution_count": 5,
   "metadata": {},
   "outputs": [],
   "source": [
    "module load Krona/2.7"
   ]
  },
  {
   "cell_type": "code",
   "execution_count": 9,
   "metadata": {},
   "outputs": [],
   "source": [
    "# generate krona input files from kraken output .cut file\n",
    "\n",
    "for i in Flye_racon_i3_pilon-2 Shasta_racon_i1_pilon-2 Shasta_racon_i3_pilon-2\n",
    "do\n",
    "   cutFile=$WORKDIR/$i'.kraken2.cut'\n",
    "   outFile=$WORKDIR/$i'.kraken2.out'\n",
    "   perl -lane '@a=split /\\t/; if ($a[2] =~ /taxid\\s+(\\d+)/) {print \"$a[1]\\t$1\";}' $cutFile > $outFile\n",
    "done"
   ]
  },
  {
   "cell_type": "code",
   "execution_count": 10,
   "metadata": {},
   "outputs": [
    {
     "name": "stdout",
     "output_type": "stream",
     "text": [
      "Job <213639> is submitted to default queue <lowpriority>.\n",
      "Job <213640> is submitted to default queue <lowpriority>.\n",
      "Job <213641> is submitted to default queue <lowpriority>.\n"
     ]
    }
   ],
   "source": [
    "python << EOF\n",
    "\n",
    "import sys, os\n",
    "\n",
    "filename = '$WORKDIR/ContigFiles.txt'\n",
    "f = open(filename,'r')\n",
    "\n",
    "for line in f:\n",
    "    sampleName = line.split('/')[-1].split('_')[0] + '_racon' + line.split('racon')[1].split('.')[0] + '_pilon-2'\n",
    "    os.system('bsub -J krona \\\n",
    "               -o $WORKDIR/' + sampleName + '.krona.out \\\n",
    "               -e $WORKDIR/' + sampleName + '.krona.err \\\n",
    "               \"ktImportTaxonomy \\\n",
    "               $WORKDIR/' + sampleName + '.kraken2.out \\\n",
    "               -i \\\n",
    "               -o $WORKDIR/' + sampleName + '.kraken2.html \\\n",
    "               -tax /software/bioinformatics/Krona-2.7/taxonomy/\"')\n",
    "\n",
    "f.close()\n",
    "\n",
    "EOF"
   ]
  },
  {
   "cell_type": "markdown",
   "metadata": {},
   "source": [
    "## 4. remove contamination seqs"
   ]
  },
  {
   "cell_type": "code",
   "execution_count": 11,
   "metadata": {},
   "outputs": [
    {
     "name": "stdout",
     "output_type": "stream",
     "text": [
      "Currently Loaded Modulefiles:\n",
      "  1) powerPlant/core     4) git/2.21.0          7) asub/2.1\n",
      "  2) texlive/20151117    5) perlbrew/0.76       8) Krona/2.7\n",
      "  3) pandoc/1.19.2       6) perl/5.28.0         9) pfr-python3/3.6.6\n"
     ]
    }
   ],
   "source": [
    "module load pfr-python3\n",
    "module list"
   ]
  },
  {
   "cell_type": "code",
   "execution_count": 12,
   "metadata": {},
   "outputs": [
    {
     "name": "stdout",
     "output_type": "stream",
     "text": [
      "/workspace/hraczw/github/GA/Bilberry_genome/0101.Contamination.analysis/Flye_racon_i3_pilon-2.bacteria.txt\n",
      "/workspace/hraczw/github/GA/Bilberry_genome/0101.Contamination.analysis/Shasta_racon_i1_pilon-2.bacteria.txt\n",
      "/workspace/hraczw/github/GA/Bilberry_genome/0101.Contamination.analysis/Shasta_racon_i3_pilon-2.bacteria.txt\n"
     ]
    }
   ],
   "source": [
    "ls $WORKDIR/*.bacteria.txt"
   ]
  },
  {
   "cell_type": "code",
   "execution_count": 15,
   "metadata": {},
   "outputs": [],
   "source": [
    "python /workspace/hraczw/scriptomics/filter_fasta_by_list_of_headers.py \\\n",
    "/workspace/hraczw/github/GA/Bilberry_genome/200.Pilon.correction/Shasta_all_v0.2.0.assembly.racon_i1.includeUnpolished.gpu_pilon-1_corrected_pilon-2_corrected.fasta \\\n",
    "$WORKDIR/Shasta_racon_i1_pilon-2.bacteria.txt > \\\n",
    "/workspace/hraczw/github/GA/Bilberry_genome/200.Pilon.correction/Shasta_all_v0.2.0.assembly.racon_i1.includeUnpolished.gpu_pilon-1_corrected_pilon-2_corrected.noBacteria.fasta"
   ]
  },
  {
   "cell_type": "code",
   "execution_count": 14,
   "metadata": {},
   "outputs": [
    {
     "name": "stdout",
     "output_type": "stream",
     "text": [
      "3003\n"
     ]
    }
   ],
   "source": [
    "grep -c '>' /workspace/hraczw/github/GA/Bilberry_genome/200.Pilon.correction/Shasta_all_v0.2.0.assembly.racon_i1.includeUnpolished.gpu_pilon-1_corrected_pilon-2_corrected.fasta"
   ]
  },
  {
   "cell_type": "code",
   "execution_count": 16,
   "metadata": {},
   "outputs": [
    {
     "name": "stdout",
     "output_type": "stream",
     "text": [
      "2989\n"
     ]
    }
   ],
   "source": [
    "grep -c '>' /workspace/hraczw/github/GA/Bilberry_genome/200.Pilon.correction/Shasta_all_v0.2.0.assembly.racon_i1.includeUnpolished.gpu_pilon-1_corrected_pilon-2_corrected.noBacteria.fasta"
   ]
  },
  {
   "cell_type": "code",
   "execution_count": 17,
   "metadata": {},
   "outputs": [],
   "source": [
    "python /workspace/hraczw/scriptomics/filter_fasta_by_list_of_headers.py \\\n",
    "/workspace/hraczw/github/GA/Bilberry_genome/200.Pilon.correction/Shasta_all_v0.2.0.assembly.racon_i3.includeUnpolished.gpu_pilon-1_corrected_pilon-2_corrected.fasta \\\n",
    "$WORKDIR/Shasta_racon_i3_pilon-2.bacteria.txt > \\\n",
    "/workspace/hraczw/github/GA/Bilberry_genome/200.Pilon.correction/Shasta_all_v0.2.0.assembly.racon_i3.includeUnpolished.gpu_pilon-1_corrected_pilon-2_corrected.noBacteria.fasta"
   ]
  },
  {
   "cell_type": "code",
   "execution_count": 19,
   "metadata": {},
   "outputs": [],
   "source": [
    "python /workspace/hraczw/scriptomics/filter_fasta_by_list_of_headers.py \\\n",
    "/workspace/hraczw/github/GA/Bilberry_genome/200.Pilon.correction/Flye_all_trimmed_i1.assembly.racon_i3.includeUnpolished.gpu_pilon-1_corrected_pilon-2_corrected.fasta \\\n",
    "$WORKDIR/Flye_racon_i3_pilon-2.bacteria.txt > \\\n",
    "/workspace/hraczw/github/GA/Bilberry_genome/200.Pilon.correction/Flye_all_trimmed_i1.assembly.racon_i3.includeUnpolished.gpu_pilon-1_corrected_pilon-2_corrected.noBacteria.fasta"
   ]
  }
 ],
 "metadata": {
  "kernelspec": {
   "display_name": "Bash",
   "language": "bash",
   "name": "bash"
  },
  "language_info": {
   "codemirror_mode": "shell",
   "file_extension": ".sh",
   "mimetype": "text/x-sh",
   "name": "bash"
  }
 },
 "nbformat": 4,
 "nbformat_minor": 4
}
