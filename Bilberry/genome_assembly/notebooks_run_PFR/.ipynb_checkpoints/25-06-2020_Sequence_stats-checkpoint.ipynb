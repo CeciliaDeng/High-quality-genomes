{
 "cells": [
  {
   "cell_type": "markdown",
   "metadata": {},
   "source": [
    "# sequence statistics"
   ]
  },
  {
   "cell_type": "markdown",
   "metadata": {},
   "source": [
    "## 1. sequence statistics"
   ]
  },
  {
   "cell_type": "code",
   "execution_count": 2,
   "metadata": {},
   "outputs": [],
   "source": [
    "module load assemblathon_stats/14dfdab"
   ]
  },
  {
   "cell_type": "code",
   "execution_count": 3,
   "metadata": {},
   "outputs": [],
   "source": [
    "WORKDIR=/workspace/hraczw/github/GA/Bilberry_genome/0101.Contamination.analysis"
   ]
  },
  {
   "cell_type": "code",
   "execution_count": 1,
   "metadata": {},
   "outputs": [
    {
     "name": "stdout",
     "output_type": "stream",
     "text": [
      "/workspace/hraczw/github/GA/Bilberry_genome/200.Pilon.correction/Shasta_all_v0.2.0.assembly.racon_i1.includeUnpolished.gpu_pilon-1_corrected_pilon-2_corrected.noBacteria.fasta\n",
      "/workspace/hraczw/github/GA/Bilberry_genome/200.Pilon.correction/Shasta_all_v0.2.0.assembly.racon_i3.includeUnpolished.gpu_pilon-1_corrected_pilon-2_corrected.noBacteria.fasta\n",
      "/workspace/hraczw/github/GA/Bilberry_genome/200.Pilon.correction/Flye_all_trimmed_i1.assembly.racon_i3.includeUnpolished.gpu_pilon-1_corrected_pilon-2_corrected.noBacteria.fasta"
     ]
    }
   ],
   "source": [
    "cat /workspace/hraczw/github/GA/Bilberry_genome/100.all.assemblies/assemblyFiles.txt"
   ]
  },
  {
   "cell_type": "code",
   "execution_count": 5,
   "metadata": {},
   "outputs": [
    {
     "name": "stdout",
     "output_type": "stream",
     "text": [
      "Job <213828> is submitted to default queue <lowpriority>.\n",
      "Job <213829> is submitted to default queue <lowpriority>.\n",
      "Job <213830> is submitted to default queue <lowpriority>.\n"
     ]
    }
   ],
   "source": [
    "python << EOF\n",
    "\n",
    "import sys, os\n",
    "\n",
    "filename = '/workspace/hraczw/github/GA/Bilberry_genome/100.all.assemblies/assemblyFiles.txt'\n",
    "f = open(filename,'r')\n",
    "\n",
    "for line in f:\n",
    "    sampleName = line.split('/')[-1].split('_')[0] + '_racon' + line.split('racon')[1].split('.')[0] + '_pilon-2.noBacteria'\n",
    "    fileName = line.split('\\n')[0]\n",
    "\n",
    "    os.system('bsub -J preseq \\\n",
    "               -o $WORKDIR/' + sampleName + '_preseq.out \\\n",
    "               -e $WORKDIR/' + sampleName + '_preseq.err \\\n",
    "               \"perl /workspace/hraczw/github/programs/prinseq-lite-0.20.4/prinseq-lite.pl \\\n",
    "               -fasta ' + fileName + ' \\\n",
    "               -out_good $WORKDIR/' + sampleName + '.ml1000 \\\n",
    "               -out_bad $WORKDIR/' + sampleName + '.short \\\n",
    "               -min_len 1000\"')\n",
    "\n",
    "f.close()\n",
    "\n",
    "EOF"
   ]
  },
  {
   "cell_type": "code",
   "execution_count": 6,
   "metadata": {},
   "outputs": [
    {
     "name": "stdout",
     "output_type": "stream",
     "text": [
      "Job <213831> is submitted to default queue <lowpriority>.\n",
      "Job <213832> is submitted to default queue <lowpriority>.\n",
      "Job <213833> is submitted to default queue <lowpriority>.\n"
     ]
    }
   ],
   "source": [
    "python << EOF\n",
    "\n",
    "import sys, os\n",
    "\n",
    "filename = '/workspace/hraczw/github/GA/Bilberry_genome/100.all.assemblies/assemblyFiles.txt'\n",
    "f = open(filename,'r')\n",
    "\n",
    "for line in f:\n",
    "    sampleName = line.split('/')[-1].split('_')[0] + '_racon' + line.split('racon')[1].split('.')[0] + '_pilon-2.noBacteria'\n",
    "    os.system('bsub -J stats \\\n",
    "               -o $WORKDIR/' + sampleName + '_stats.out \\\n",
    "               -e $WORKDIR/' + sampleName + '_stats.err \\\n",
    "               \"assemblathon_stats.pl $WORKDIR/' + sampleName + '.ml1000.fasta\"')\n",
    "\n",
    "f.close()\n",
    "\n",
    "EOF"
   ]
  },
  {
   "cell_type": "code",
   "execution_count": 11,
   "metadata": {},
   "outputs": [
    {
     "name": "stdout",
     "output_type": "stream",
     "text": [
      "Shasta_racon_i1_pilon-2.noBacteria\t\n",
      "                                         Number of scaffolds       2966\n",
      "                                     Total size of scaffolds  522756845\n",
      "                                            Longest scaffold    3958750\n",
      "                                           Shortest scaffold       1001\n",
      "                                Number of scaffolds > 10K nt       2547  85.9%\n",
      "                               Number of scaffolds > 100K nt        940  31.7%\n",
      "                                 Number of scaffolds > 1M nt        109   3.7%\n",
      "                                         N50 scaffold length     607027\n",
      "                                                 scaffold %N       0.00\n",
      "\n",
      "\n",
      "\n",
      "Shasta_racon_i3_pilon-2.noBacteria\t\n",
      "                                         Number of scaffolds       2937\n",
      "                                     Total size of scaffolds  522483024\n",
      "                                            Longest scaffold    3958547\n",
      "                                           Shortest scaffold       1001\n",
      "                                Number of scaffolds > 10K nt       2544  86.6%\n",
      "                               Number of scaffolds > 100K nt        940  32.0%\n",
      "                                 Number of scaffolds > 1M nt        108   3.7%\n",
      "                                         N50 scaffold length     608918\n",
      "                                                 scaffold %N       0.00\n",
      "\n",
      "\n",
      "\n",
      "Flye_racon_i3_pilon-2.noBacteria\t\n",
      "                                         Number of scaffolds       6773\n",
      "                                     Total size of scaffolds  724567790\n",
      "                                            Longest scaffold    4704042\n",
      "                                           Shortest scaffold       1005\n",
      "                                Number of scaffolds > 10K nt       5178  76.5%\n",
      "                               Number of scaffolds > 100K nt       2087  30.8%\n",
      "                                 Number of scaffolds > 1M nt         33   0.5%\n",
      "                                         N50 scaffold length     244302\n",
      "                                                 scaffold %N       0.00\n",
      "\n",
      "\n",
      "\n"
     ]
    }
   ],
   "source": [
    "python << EOF\n",
    "\n",
    "import sys, os\n",
    "\n",
    "filename = '/workspace/hraczw/github/GA/Bilberry_genome/100.all.assemblies/assemblyFiles.txt'\n",
    "f = open(filename,'r')\n",
    "f1 = open('$WORKDIR/assemblyStats.ml1000.txt','w')\n",
    "\n",
    "for line in f:\n",
    "    sampleName = line.split('/')[-1].split('_')[0] + '_racon' + line.split('racon')[1].split('.')[0] + '_pilon-2.noBacteria'\n",
    "    statsFile = open('$WORKDIR/' + sampleName + '_stats.out','r')\n",
    "#    print ('stats for ' + sampleName)\n",
    "    print (sampleName + '\\t')\n",
    "    f1.write(sampleName + '\\t')\n",
    "    for line1 in statsFile:\n",
    "        if 'Number of scaffolds' in line1 and '>' not in line1:\n",
    "            print (line1.split('\\n')[0])\n",
    "            f1.write(line1.split('\\n')[0] + '\\t')\n",
    "        if 'Total size of scaffolds' in line1:\n",
    "            print (line1.split('\\n')[0])\n",
    "            f1.write(line1.split('\\n')[0] + '\\t')\n",
    "        if 'Longest scaffold' in line1:\n",
    "            print (line1.split('\\n')[0])\n",
    "            f1.write(line1.split('\\n')[0] + '\\t')            \n",
    "        if 'Shortest scaffold' in line1:\n",
    "            print (line1.split('\\n')[0])\n",
    "            f1.write(line1.split('\\n')[0] + '\\t')\n",
    "        if 'Number of scaffolds > 10K nt' in line1:\n",
    "            print (line1.split('\\n')[0])\n",
    "            f1.write(line1.split('\\n')[0] + '\\t')\n",
    "        if 'Number of scaffolds > 100K nt' in line1:\n",
    "            print (line1.split('\\n')[0])\n",
    "            f1.write(line1.split('\\n')[0] + '\\t')        \n",
    "        if 'Number of scaffolds > 1M nt' in line1:\n",
    "            print (line1.split('\\n')[0])\n",
    "            f1.write(line1.split('\\n')[0] + '\\t')\n",
    "        if 'N50 scaffold length' in line1:\n",
    "            print (line1.split('\\n')[0])\n",
    "            f1.write(line1.split('\\n')[0] + '\\t')\n",
    "        if 'scaffold %N' in line1:\n",
    "            print (line1)\n",
    "            f1.write(line1 + '\\n')\n",
    "    print ('\\n')\n",
    "    statsFile.close()\n",
    "f1.close()\n",
    "f.close()\n",
    "\n",
    "EOF"
   ]
  },
  {
   "cell_type": "code",
   "execution_count": 13,
   "metadata": {},
   "outputs": [
    {
     "name": "stdout",
     "output_type": "stream",
     "text": [
      "curated.artefacts\t                                         Number of scaffolds       3488\t                                     Total size of scaffolds  145436128\t                                           Shortest scaffold        470\t                                 Number of scaffolds > 1M nt          0   0.0%\t                                                 scaffold %N       0.00\n",
      "\n",
      "curated\t                                         Number of scaffolds       2392\t                                     Total size of scaffolds  503156161\t                                           Shortest scaffold        506\t                                 Number of scaffolds > 1M nt         33   1.4%\t                                                 scaffold %N       0.00\n",
      "\n",
      "curated.haplotigs\t                                         Number of scaffolds       1068\t                                     Total size of scaffolds   80307493\t                                           Shortest scaffold        493\t                                 Number of scaffolds > 1M nt          0   0.0%\t                                                 scaffold %N       0.00\n",
      "\n"
     ]
    }
   ],
   "source": [
    "cat $WORKDIR/assemblyStats.txt"
   ]
  },
  {
   "cell_type": "code",
   "execution_count": 10,
   "metadata": {},
   "outputs": [
    {
     "name": "stdout",
     "output_type": "stream",
     "text": [
      "head: cannot open ‘/workspace/hraczw/github/GA/Bilberry_genome/005.purge_haplotigs/curated.artefacts_stats.err’ for reading: No such file or directory\n"
     ]
    },
    {
     "ename": "",
     "evalue": "1",
     "output_type": "error",
     "traceback": []
    }
   ],
   "source": [
    "head $WORKDIR/curated.artefacts_stats.err"
   ]
  },
  {
   "cell_type": "markdown",
   "metadata": {},
   "source": [
    "## 2. BUSCO"
   ]
  },
  {
   "cell_type": "code",
   "execution_count": 18,
   "metadata": {},
   "outputs": [],
   "source": [
    "mkdir $WORKDIR/BUSCO"
   ]
  },
  {
   "cell_type": "code",
   "execution_count": 19,
   "metadata": {},
   "outputs": [],
   "source": [
    "cp /workspace/hraczw/github/Arguta_Pan_Genome/005.BUSCO/config.ini $WORKDIR/BUSCO"
   ]
  },
  {
   "cell_type": "code",
   "execution_count": 27,
   "metadata": {},
   "outputs": [],
   "source": [
    "cp -r /software/bioinformatics/augustus-3.2.2/config/ $WORKDIR/BUSCO"
   ]
  },
  {
   "cell_type": "code",
   "execution_count": 38,
   "metadata": {},
   "outputs": [],
   "source": [
    "export BUSCO_CONFIG_FILE=$WORKDIR/BUSCO/config.ini"
   ]
  },
  {
   "cell_type": "code",
   "execution_count": 39,
   "metadata": {},
   "outputs": [],
   "source": [
    "export AUGUSTUS_CONFIG_PATH=$WORKDIR/BUSCO/config"
   ]
  },
  {
   "cell_type": "code",
   "execution_count": 22,
   "metadata": {},
   "outputs": [
    {
     "name": "stdout",
     "output_type": "stream",
     "text": [
      "Currently Loaded Modulefiles:\n",
      "  1) powerPlant/core             11) cegma/v2.5\n",
      "  2) texlive/20151117            12) assemblathon_stats/14dfdab\n",
      "  3) pandoc/1.19.2               13) pfr-python3/3.6.1\n",
      "  4) git/2.21.0                  14) boost/1_61_0\n",
      "  5) perlbrew/0.76               15) bamtools/2.4.0\n",
      "  6) asub/2.1                    16) perl/bio-extras\n",
      "  7) geneid/v1.4.4               17) augustus/3.2.2\n",
      "  8) wise/2.4.1                  18) emboss/6.5.7\n",
      "  9) hmmer/3.1b2                 19) BUSCO/v3.0.2\n",
      " 10) ncbi-blast/2.2.25\n"
     ]
    }
   ],
   "source": [
    "module unload perl/5.28.0\n",
    "module load BUSCO\n",
    "module list"
   ]
  },
  {
   "cell_type": "code",
   "execution_count": 40,
   "metadata": {},
   "outputs": [
    {
     "name": "stdout",
     "output_type": "stream",
     "text": [
      "Job <335564> is submitted to default queue <normal>.\n",
      "Job <335565> is submitted to default queue <normal>.\n",
      "Job <335566> is submitted to default queue <normal>.\n"
     ]
    }
   ],
   "source": [
    "python << EOF\n",
    "\n",
    "import sys, os\n",
    "\n",
    "sampleFile = open('$WORKDIR/assemblyFiles.txt','r')\n",
    "\n",
    "for line in sampleFile:\n",
    "    sampleName = line.split('.fasta')[0].split('/')[-1]\n",
    "    os.system('mkdir $WORKDIR/BUSCO/' + sampleName + '_tmp')\n",
    "    os.system('bsub -J BUSCO \\\n",
    "               -n 6 \\\n",
    "               -o $WORKDIR/BUSCO/' + sampleName + '_BUSCO.out \\\n",
    "               -e $WORKDIR/BUSCO/' + sampleName + '_BUSCO.err \\\n",
    "               \"run_BUSCO.py \\\n",
    "                -i $WORKDIR/' + sampleName + '.fasta \\\n",
    "                -l /workspace/hraczw/github/programs/embryophyta_odb10 \\\n",
    "                -f \\\n",
    "                -c 6 \\\n",
    "                -o ' + sampleName + '_BUSCO \\\n",
    "                -t $WORKDIR/BUSCO/' + sampleName + '_tmp \\\n",
    "                -m genome\"')\n",
    "\n",
    "sampleFile.close()\n",
    "\n",
    "EOF"
   ]
  },
  {
   "cell_type": "code",
   "execution_count": 43,
   "metadata": {},
   "outputs": [
    {
     "name": "stdout",
     "output_type": "stream",
     "text": [
      "config\t\t\t     curated_BUSCO.out\n",
      "config.ini\t\t     curated.haplotigs_BUSCO.err\n",
      "curated.artefacts_BUSCO.err  curated.haplotigs_BUSCO.out\n",
      "curated.artefacts_BUSCO.out  curated.haplotigs_tmp\n",
      "curated.artefacts_tmp\t     curated_tmp\n",
      "curated_BUSCO.err\n"
     ]
    }
   ],
   "source": [
    "ls 005.purge_haplotigs/BUSCO"
   ]
  }
 ],
 "metadata": {
  "kernelspec": {
   "display_name": "Bash",
   "language": "bash",
   "name": "bash"
  },
  "language_info": {
   "codemirror_mode": "shell",
   "file_extension": ".sh",
   "mimetype": "text/x-sh",
   "name": "bash"
  }
 },
 "nbformat": 4,
 "nbformat_minor": 4
}
