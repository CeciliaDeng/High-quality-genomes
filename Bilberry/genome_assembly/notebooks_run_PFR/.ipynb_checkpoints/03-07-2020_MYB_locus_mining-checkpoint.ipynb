{
 "cells": [
  {
   "cell_type": "markdown",
   "metadata": {},
   "source": [
    "# Mining MYB locus"
   ]
  },
  {
   "cell_type": "code",
   "execution_count": 1,
   "metadata": {},
   "outputs": [],
   "source": [
    "WORKDIR=015.MYB_GeneMining"
   ]
  },
  {
   "cell_type": "code",
   "execution_count": 2,
   "metadata": {},
   "outputs": [],
   "source": [
    "MYBA1=/workspace/hraczw/github/GA/Bilberry_genome/015.MYB_GeneMining/VmMYBA1.fasta\n",
    "MYBA2=/workspace/hraczw/github/GA/Bilberry_genome/015.MYB_GeneMining/VmMYBA2.fasta"
   ]
  },
  {
   "cell_type": "code",
   "execution_count": 3,
   "metadata": {},
   "outputs": [],
   "source": [
    "FLYE=/output/genomic/plant/Vaccinium/myrtillus/Genome/Assembly/draft_v1/Flye_r3_p2_clean.fasta\n",
    "SHASTA_R1=/output/genomic/plant/Vaccinium/myrtillus/Genome/Assembly/draft_v1/Shasta_r1_p2_clean.fasta\n",
    "SHASTA_R3=/output/genomic/plant/Vaccinium/myrtillus/Genome/Assembly/draft_v1/Shasta_r3_p2_clean.fasta"
   ]
  },
  {
   "cell_type": "code",
   "execution_count": 4,
   "metadata": {},
   "outputs": [
    {
     "name": "stdout",
     "output_type": "stream",
     "text": [
      "Currently Loaded Modulefiles:\n",
      "  1) powerPlant/core    4) git/2.21.0         7) asub/2.1\n",
      "  2) texlive/20151117   5) perlbrew/0.76      8) ncbi-blast/2.6.0\n",
      "  3) pandoc/1.19.2      6) perl/5.28.0\n"
     ]
    }
   ],
   "source": [
    "module load ncbi-blast\n",
    "module list"
   ]
  },
  {
   "cell_type": "code",
   "execution_count": 6,
   "metadata": {},
   "outputs": [
    {
     "name": "stdout",
     "output_type": "stream",
     "text": [
      "\n",
      "\n",
      "Building a new DB, current time: 07/01/2020 15:35:45\n",
      "New DB name:   /powerplant/workspace/hraczw/github/GA/Bilberry_genome/015.MYB_GeneMining/flye\n",
      "New DB title:  /output/genomic/plant/Vaccinium/myrtillus/Genome/Assembly/draft_v1/Flye_r3_p2_clean.fasta\n",
      "Sequence type: Nucleotide\n",
      "Keep MBits: T\n",
      "Maximum file size: 1000000000B\n",
      "Adding sequences from FASTA; added 6797 sequences in 9.44927 seconds.\n"
     ]
    }
   ],
   "source": [
    "makeblastdb -in $FLYE -dbtype nucl -parse_seqids -out $WORKDIR/flye"
   ]
  },
  {
   "cell_type": "code",
   "execution_count": 7,
   "metadata": {},
   "outputs": [
    {
     "name": "stdout",
     "output_type": "stream",
     "text": [
      "\n",
      "\n",
      "Building a new DB, current time: 07/01/2020 15:36:08\n",
      "New DB name:   /powerplant/workspace/hraczw/github/GA/Bilberry_genome/015.MYB_GeneMining/shasta_r1\n",
      "New DB title:  /output/genomic/plant/Vaccinium/myrtillus/Genome/Assembly/draft_v1/Shasta_r1_p2_clean.fasta\n",
      "Sequence type: Nucleotide\n",
      "Keep MBits: T\n",
      "Maximum file size: 1000000000B\n",
      "Adding sequences from FASTA; added 2989 sequences in 6.6726 seconds.\n"
     ]
    }
   ],
   "source": [
    "makeblastdb -in $SHASTA_R1 -dbtype nucl -parse_seqids -out $WORKDIR/shasta_r1"
   ]
  },
  {
   "cell_type": "code",
   "execution_count": 8,
   "metadata": {},
   "outputs": [
    {
     "name": "stdout",
     "output_type": "stream",
     "text": [
      "\n",
      "\n",
      "Building a new DB, current time: 07/01/2020 15:36:21\n",
      "New DB name:   /powerplant/workspace/hraczw/github/GA/Bilberry_genome/015.MYB_GeneMining/shasta_r3\n",
      "New DB title:  /output/genomic/plant/Vaccinium/myrtillus/Genome/Assembly/draft_v1/Shasta_r3_p2_clean.fasta\n",
      "Sequence type: Nucleotide\n",
      "Keep MBits: T\n",
      "Maximum file size: 1000000000B\n",
      "Adding sequences from FASTA; added 2987 sequences in 6.48476 seconds.\n"
     ]
    }
   ],
   "source": [
    "makeblastdb -in $SHASTA_R3 -dbtype nucl -parse_seqids -out $WORKDIR/shasta_r3"
   ]
  },
  {
   "cell_type": "code",
   "execution_count": null,
   "metadata": {},
   "outputs": [],
   "source": [
    "# create a assembly file\n",
    "ls /output/genomic/plant/Vaccinium/myrtillus/Genome/Assembly/draft_v1/"
   ]
  }
 ],
 "metadata": {
  "kernelspec": {
   "display_name": "Bash",
   "language": "bash",
   "name": "bash"
  },
  "language_info": {
   "codemirror_mode": "shell",
   "file_extension": ".sh",
   "mimetype": "text/x-sh",
   "name": "bash"
  }
 },
 "nbformat": 4,
 "nbformat_minor": 4
}
