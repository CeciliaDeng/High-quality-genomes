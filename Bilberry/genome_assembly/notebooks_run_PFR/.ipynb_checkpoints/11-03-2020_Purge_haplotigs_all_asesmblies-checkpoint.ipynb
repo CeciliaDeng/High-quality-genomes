{
 "cells": [
  {
   "cell_type": "markdown",
   "metadata": {},
   "source": [
    "# Kmer profile and haplotype purging\n",
    "\n",
    "Assemblies were generated from long reads and corrected using short reads for one iteration on PILON"
   ]
  },
  {
   "cell_type": "code",
   "execution_count": 1,
   "metadata": {},
   "outputs": [],
   "source": [
    "WORKDIR=/workspace/hraczw/github/GA/Bilberry_genome/005.purge_haplotigs\n",
    "ASSEMBLY_PATH=/workspace/hraczw/github/GA/Bilberry_genome/200.Pilon.correction\n",
    "ONT=/output/genomic/plant/Vaccinium/myrtillus/Genome/ONT/CleanReads/All_AdapterRemoved.fastq.gz"
   ]
  },
  {
   "cell_type": "code",
   "execution_count": 6,
   "metadata": {},
   "outputs": [],
   "source": [
    "readlink -f $ASSEMBLY_PATH/*.ml1000.fasta > $ASSEMBLY_PATH/assemblies.txt"
   ]
  },
  {
   "cell_type": "code",
   "execution_count": 4,
   "metadata": {},
   "outputs": [
    {
     "name": "stdout",
     "output_type": "stream",
     "text": [
      "/workspace/hraczw/github/GA/Bilberry_genome/100.all.assemblies/Flye_pilon-1_corrected_pilon-i2_corrected.fasta\n",
      "/workspace/hraczw/github/GA/Bilberry_genome/100.all.assemblies/Shasta_pilon-1_corrected_pilon-i2_corrected.fasta\n"
     ]
    }
   ],
   "source": [
    "cat $ASSEMBLY_PATH/assemblies.txt"
   ]
  },
  {
   "cell_type": "code",
   "execution_count": 5,
   "metadata": {},
   "outputs": [
    {
     "name": "stdout",
     "output_type": "stream",
     "text": [
      "(base) (/workspace/appscratch/miniconda/purge_haplotigs_env) "
     ]
    },
    {
     "ename": "",
     "evalue": "1",
     "output_type": "error",
     "traceback": []
    }
   ],
   "source": [
    "module unload perl/5.28.0\n",
    "module load perl/5.28.0-thread-multi\n",
    "module load bedtools/2.27.1\n",
    "module load R/3.6.1\n",
    "export PATH=$PATH:/workspace/hrarnc/GitHub/minimap2\n",
    "module load conda/4.5.1\n",
    "conda activate purge_haplotigs_env"
   ]
  },
  {
   "cell_type": "code",
   "execution_count": 6,
   "metadata": {},
   "outputs": [
    {
     "name": "stdout",
     "output_type": "stream",
     "text": [
      "(/workspace/appscratch/miniconda/purge_haplotigs_env) Currently Loaded Modulefiles:\n",
      "  1) powerPlant/core            9) unixODBC/2.3.0\n",
      "  2) texlive/20151117          10) JAGS/4.2.0\n",
      "  3) pandoc/1.19.2             11) gdal/2.4.0\n",
      "  4) git/2.21.0                12) proj/5.2.0\n",
      "  5) perlbrew/0.76             13) R/3.6.1\n",
      "  6) asub/2.1                  14) conda/4.5.1\n",
      "  7) perl/5.28.0-thread-multi  15) samtools/1.9\n",
      "  8) bedtools/2.27.1\n",
      "(/workspace/appscratch/miniconda/purge_haplotigs_env) "
     ]
    },
    {
     "ename": "",
     "evalue": "1",
     "output_type": "error",
     "traceback": []
    }
   ],
   "source": [
    "module load samtools\n",
    "module list"
   ]
  },
  {
   "cell_type": "code",
   "execution_count": 7,
   "metadata": {},
   "outputs": [
    {
     "name": "stdout",
     "output_type": "stream",
     "text": [
      "Job <376579> is submitted to default queue <normal>.\n",
      "Job <376580> is submitted to default queue <normal>.\n",
      "(/workspace/appscratch/miniconda/purge_haplotigs_env) "
     ]
    },
    {
     "ename": "",
     "evalue": "1",
     "output_type": "error",
     "traceback": []
    }
   ],
   "source": [
    "python << EOF\n",
    "\n",
    "import sys, os\n",
    "\n",
    "f = open('$ASSEMBLY_PATH/assemblies.txt', 'r')\n",
    "\n",
    "for line in f:\n",
    "    assembly = line.split('\\n')[0]\n",
    "    assemblyName = line.split('/')[-1].split('_')[0]\n",
    "    os.system('bsub -J minimap2 \\\n",
    "            -m wkoppg34 \\\n",
    "            -n 20 \\\n",
    "            -o $WORKDIR/' + assemblyName + '_minimap2.out \\\n",
    "            -e $WORKDIR/' + assemblyName + '_minimap2.err \\\n",
    "            \"minimap2 -t 20 --secondary=no -ax map-ont ' + assembly + ' $ONT | \\\n",
    "            samtools sort -@ 20 -o $WORKDIR/' + assemblyName + '.ONT.aligned.sorted.bam -\"')\n",
    "\n",
    "\n",
    "f.close()\n",
    "\n",
    "EOF"
   ]
  },
  {
   "cell_type": "code",
   "execution_count": 8,
   "metadata": {},
   "outputs": [
    {
     "name": "stdout",
     "output_type": "stream",
     "text": [
      "(/workspace/appscratch/miniconda/purge_haplotigs_env) "
     ]
    },
    {
     "ename": "",
     "evalue": "1",
     "output_type": "error",
     "traceback": []
    }
   ],
   "source": [
    "export PATH=/workspace/appscratch/miniconda/purge_haplotigs_env/bin/:$PATH"
   ]
  },
  {
   "cell_type": "code",
   "execution_count": 9,
   "metadata": {},
   "outputs": [
    {
     "name": "stdout",
     "output_type": "stream",
     "text": [
      "[06-04-2020 16:52:16] bedtools OK!\n",
      "[06-04-2020 16:52:16] Rscript OK!\n",
      "[06-04-2020 16:52:16] samtools OK!\n",
      "[06-04-2020 16:52:16] ALL DEPENDENCIES OK\n",
      "\n",
      "\n",
      "\n",
      "USAGE:\n",
      "purge_haplotigs  hist  -b aligned.bam  -g genome.fasta  [ -t threads ]\n",
      "\n",
      "REQUIRED:\n",
      "-b / -bam       BAM file of aligned and sorted reads/subreads to the reference\n",
      "-g / -genome    Reference FASTA for the BAM file.\n",
      "\n",
      "OPTIONAL:\n",
      "-t / -threads   Number of worker threads to use, DEFAULT = 4, MINIMUM = 2\n",
      "-d / -depth     Maximum cutoff for depth. DEFAULT = 200, increase if needed,\n",
      "                set much higher than your expected average coverage.\n",
      "(/workspace/appscratch/miniconda/purge_haplotigs_env) "
     ]
    },
    {
     "ename": "",
     "evalue": "1",
     "output_type": "error",
     "traceback": []
    }
   ],
   "source": [
    "purge_haplotigs hist"
   ]
  },
  {
   "cell_type": "code",
   "execution_count": 14,
   "metadata": {},
   "outputs": [
    {
     "name": "stdout",
     "output_type": "stream",
     "text": [
      "(/workspace/appscratch/miniconda/purge_haplotigs_env) (/workspace/appscratch/miniconda/purge_haplotigs_env) (/workspace/appscratch/miniconda/purge_haplotigs_env) (/workspace/appscratch/miniconda/purge_haplotigs_env) bsub -J hist     -m wkoppg32     -n 20     -o /workspace/hraczw/github/GA/Bilberry_genome/005.purge_haplotigs/Flye_hist.out     -e /workspace/hraczw/github/GA/Bilberry_genome/005.purge_haplotigs/Flye_hist.err     \"purge_haplotigs hist     -b /workspace/hraczw/github/GA/Bilberry_genome/005.purge_haplotigs/Flye.ONT.aligned.sorted.bam     -g /workspace/hraczw/github/GA/Bilberry_genome/100.all.assemblies/Flye_pilon-1_corrected_pilon-i2_corrected.fasta -t 20 -d 300\"\n",
      "bsub -J hist     -m wkoppg32     -n 20     -o /workspace/hraczw/github/GA/Bilberry_genome/005.purge_haplotigs/Shasta_hist.out     -e /workspace/hraczw/github/GA/Bilberry_genome/005.purge_haplotigs/Shasta_hist.err     \"purge_haplotigs hist     -b /workspace/hraczw/github/GA/Bilberry_genome/005.purge_haplotigs/Shasta.ONT.aligned.sorted.bam     -g /workspace/hraczw/github/GA/Bilberry_genome/100.all.assemblies/Shasta_pilon-1_corrected_pilon-i2_corrected.fasta -t 20 -d 300\"\n",
      "(/workspace/appscratch/miniconda/purge_haplotigs_env) "
     ]
    },
    {
     "ename": "",
     "evalue": "1",
     "output_type": "error",
     "traceback": []
    }
   ],
   "source": [
    "# this step will generate a temp folder and running multiple jobs with the same folder generating can collapse\n",
    "# better to create different subfolders and then run each job under different folder\n",
    "\n",
    "\n",
    "python << EOF\n",
    "\n",
    "f = open('$ASSEMBLY_PATH/assemblies.txt', 'r')\n",
    "\n",
    "\n",
    "for line in f:\n",
    "    assembly = line.split('\\n')[0]\n",
    "    assemblyName = line.split('/')[-1].split('_')[0]\n",
    "    command = 'bsub -J hist \\\n",
    "    -m wkoppg32 \\\n",
    "    -n 20 \\\n",
    "    -o $WORKDIR/' + assemblyName + '_hist.out \\\n",
    "    -e $WORKDIR/' + assemblyName + '_hist.err \\\n",
    "    \"purge_haplotigs hist \\\n",
    "    -b $WORKDIR/' + assemblyName + '.ONT.aligned.sorted.bam \\\n",
    "    -g ' + assembly + ' -t 20 -d 300\"'\n",
    "    print (command)\n",
    "\n",
    "f.close()\n",
    "\n",
    "EOF"
   ]
  },
  {
   "cell_type": "code",
   "execution_count": 15,
   "metadata": {},
   "outputs": [
    {
     "name": "stdout",
     "output_type": "stream",
     "text": [
      "Job <376602> is submitted to default queue <normal>.\n",
      "(/workspace/appscratch/miniconda/purge_haplotigs_env) "
     ]
    },
    {
     "ename": "",
     "evalue": "1",
     "output_type": "error",
     "traceback": []
    }
   ],
   "source": [
    "bsub -J hist     -m wkoppg32     -n 20     -o /workspace/hraczw/github/GA/Bilberry_genome/005.purge_haplotigs/Flye_hist.out     -e /workspace/hraczw/github/GA/Bilberry_genome/005.purge_haplotigs/Flye_hist.err     \"purge_haplotigs hist     -b /workspace/hraczw/github/GA/Bilberry_genome/005.purge_haplotigs/Flye.ONT.aligned.sorted.bam     -g /workspace/hraczw/github/GA/Bilberry_genome/100.all.assemblies/Flye_pilon-1_corrected_pilon-i2_corrected.fasta -t 20 -d 300\""
   ]
  },
  {
   "cell_type": "code",
   "execution_count": 17,
   "metadata": {},
   "outputs": [
    {
     "name": "stdout",
     "output_type": "stream",
     "text": [
      "(/workspace/appscratch/miniconda/purge_haplotigs_env) "
     ]
    },
    {
     "ename": "",
     "evalue": "1",
     "output_type": "error",
     "traceback": []
    }
   ],
   "source": [
    "cd 005.purge_haplotigs/shasta_i2_purge"
   ]
  },
  {
   "cell_type": "code",
   "execution_count": 18,
   "metadata": {},
   "outputs": [
    {
     "name": "stdout",
     "output_type": "stream",
     "text": [
      "Job <376603> is submitted to default queue <normal>.\n",
      "(/workspace/appscratch/miniconda/purge_haplotigs_env) "
     ]
    },
    {
     "ename": "",
     "evalue": "1",
     "output_type": "error",
     "traceback": []
    }
   ],
   "source": [
    "bsub -J hist     -m wkoppg33     -n 20     -o /workspace/hraczw/github/GA/Bilberry_genome/005.purge_haplotigs/Shasta_hist.out     -e /workspace/hraczw/github/GA/Bilberry_genome/005.purge_haplotigs/Shasta_hist.err     \"purge_haplotigs hist     -b /workspace/hraczw/github/GA/Bilberry_genome/005.purge_haplotigs/Shasta.ONT.aligned.sorted.bam     -g /workspace/hraczw/github/GA/Bilberry_genome/100.all.assemblies/Shasta_pilon-1_corrected_pilon-i2_corrected.fasta -t 20 -d 300\""
   ]
  },
  {
   "cell_type": "code",
   "execution_count": 19,
   "metadata": {},
   "outputs": [
    {
     "name": "stdout",
     "output_type": "stream",
     "text": []
    },
    {
     "data": {
      "image/png": "[encoded data removed]"
     },
     "metadata": {},
     "output_type": "display_data"
    },
    {
     "name": "stdout",
     "output_type": "stream",
     "text": [
      "(/workspace/appscratch/miniconda/purge_haplotigs_env) "
     ]
    },
    {
     "ename": "",
     "evalue": "1",
     "output_type": "error",
     "traceback": []
    }
   ],
   "source": [
    "cat /workspace/hraczw/github/GA/Bilberry_genome/005.purge_haplotigs/flye_i2_purge/Flye.ONT.aligned.sorted.bam.histogram.png | display"
   ]
  },
  {
   "cell_type": "code",
   "execution_count": 29,
   "metadata": {},
   "outputs": [
    {
     "name": "stdout",
     "output_type": "stream",
     "text": [
      "Job <376621> is submitted to default queue <normal>.\n",
      "(/workspace/appscratch/miniconda/purge_haplotigs_env) "
     ]
    },
    {
     "ename": "",
     "evalue": "1",
     "output_type": "error",
     "traceback": []
    }
   ],
   "source": [
    "bsub -J cov \\\n",
    "-o $WORKDIR/flye_i2_purge/flye_cov.out \\\n",
    "-e $WORKDIR/flye_i2_purge/flye_cov.err \\\n",
    "\"purge_haplotigs cov \\\n",
    "-i $WORKDIR/flye_i2_purge/Flye.ONT.aligned.sorted.bam.gencov \\\n",
    "-l 50 \\\n",
    "-m 102 \\\n",
    "-h 74 \\\n",
    "-o $WORKDIR/flye_i2_purge/Flye_i2.coverage_stats.csv\""
   ]
  },
  {
   "cell_type": "code",
   "execution_count": 25,
   "metadata": {},
   "outputs": [
    {
     "name": "stdout",
     "output_type": "stream",
     "text": [
      "assemblyFiles.txt  flye_hist\t  necat_hist\t   tmp_purge_haplotigs\n",
      "assemblyStats.txt  flye_i2_purge  shasta_hist\t   wtdbg2_hist\n",
      "BUSCO\t\t   flye_purge\t  shasta_i2_purge\n",
      "(/workspace/appscratch/miniconda/purge_haplotigs_env) "
     ]
    },
    {
     "ename": "",
     "evalue": "1",
     "output_type": "error",
     "traceback": []
    }
   ],
   "source": [
    "ls $WORKDIR"
   ]
  },
  {
   "cell_type": "code",
   "execution_count": 23,
   "metadata": {},
   "outputs": [
    {
     "name": "stdout",
     "output_type": "stream",
     "text": [
      "\n",
      "USAGE:\n",
      "purge_haplotigs  cov  -i aligned.bam.genecov  -l <integer>  -m <integer>  -h <integer>  [-o coverage_stats.csv -j 80  -s 80 ]\n",
      "\n",
      "REQUIRED:\n",
      "-i / -in        The bedtools genomecov output that was produced from 'purge_haplotigs readhist'\n",
      "-l / -low       The read depth low cutoff (use the histogram to eyeball these cutoffs)\n",
      "-h / -high      The read depth high cutoff\n",
      "-m / -mid       The low point between the haploid and diploid peaks\n",
      "\n",
      "OPTIONAL:\n",
      "-o / -out       Choose an output file name (CSV format, DEFAULT = coverage_stats.csv)\n",
      "-j / -junk      Auto-assign contig as \"j\" (junk) if this percentage or greater of the contig is \n",
      "                low/high coverage (DEFAULT = 80, > 100 = don't junk anything)\n",
      "-s / -suspect   Auto-assign contig as \"s\" (suspected haplotig) if this percentage or less of the\n",
      "                contig is diploid level of coverage (DEFAULT = 80)\n",
      "\n",
      "(/workspace/appscratch/miniconda/purge_haplotigs_env) "
     ]
    },
    {
     "ename": "",
     "evalue": "1",
     "output_type": "error",
     "traceback": []
    }
   ],
   "source": [
    "purge_haplotigs cov"
   ]
  },
  {
   "cell_type": "code",
   "execution_count": 20,
   "metadata": {},
   "outputs": [
    {
     "name": "stdout",
     "output_type": "stream",
     "text": []
    },
    {
     "data": {
      "image/png": "[encoded data removed]"
     },
     "metadata": {},
     "output_type": "display_data"
    },
    {
     "name": "stdout",
     "output_type": "stream",
     "text": [
      "(/workspace/appscratch/miniconda/purge_haplotigs_env) "
     ]
    },
    {
     "ename": "",
     "evalue": "1",
     "output_type": "error",
     "traceback": []
    }
   ],
   "source": [
    "cat /workspace/hraczw/github/GA/Bilberry_genome/005.purge_haplotigs/shasta_i2_purge/Shasta.ONT.aligned.sorted.bam.histogram.png | display"
   ]
  },
  {
   "cell_type": "code",
   "execution_count": 32,
   "metadata": {},
   "outputs": [
    {
     "name": "stdout",
     "output_type": "stream",
     "text": [
      "Job <376624> is submitted to default queue <normal>.\n",
      "(/workspace/appscratch/miniconda/purge_haplotigs_env) "
     ]
    },
    {
     "ename": "",
     "evalue": "1",
     "output_type": "error",
     "traceback": []
    }
   ],
   "source": [
    "bsub -J cov \\\n",
    "-o $WORKDIR/shasta_i2_purge/shasta_cov.out \\\n",
    "-e $WORKDIR/shasta_i2_purge/shasta_cov.err \\\n",
    "\"purge_haplotigs cov \\\n",
    "-i $WORKDIR/shasta_i2_purge/Shasta.ONT.aligned.sorted.bam.gencov \\\n",
    "-l 53 \\\n",
    "-m 102 \\\n",
    "-h 66 \\\n",
    "-o $WORKDIR/shasta_i2_purge/Shasta_i2.coverage_stats.csv\""
   ]
  },
  {
   "cell_type": "code",
   "execution_count": 33,
   "metadata": {},
   "outputs": [
    {
     "name": "stdout",
     "output_type": "stream",
     "text": [
      "[06-04-2020 22:31:45] bash OK!\n",
      "[06-04-2020 22:31:45] bedtools OK!\n",
      "[06-04-2020 22:31:45] minimap2 OK!\n",
      "[06-04-2020 22:31:45] samtools OK!\n",
      "\n",
      "USAGE:\n",
      "purge_haplotigs  purge  -g genome.fasta  -c coverage_stats.csv\n",
      "\n",
      "REQUIRED:\n",
      "-g / -genome        Genome assembly in fasta format. Needs to be indexed with samtools faidx.\n",
      "-c / -coverage      Contig by contig coverage stats csv file from the previous step.\n",
      "\n",
      "OPTIONAL:\n",
      "-t / -threads       Number of worker threads to use. DEFAULT = 4\n",
      "-o / -outprefix     Prefix for the curated assembly. DEFAULT = \"curated\"\n",
      "-r / -repeats       BED-format file of repeats to ignore during analysis.\n",
      "-d / -dotplots      Generate dotplots for manual inspection.\n",
      "-b / -bam           Samtools-indexed bam file of aligned and sorted reads/subreads to the\n",
      "                    reference, required for generating dotplots.\n",
      "-f / -falconNaming  Rename contigs in the style used by FALCON/FALCON-unzip\n",
      "\n",
      "ADVANCED:\n",
      "-a / -align_cov     Percent cutoff for identifying a contig as a haplotig. DEFAULT = 70\n",
      "-m / -max_match     Percent cutoff for identifying repetitive contigs. Ignored when \n",
      "                    using repeat annotations (-repeats). DEFAULT = 250\n",
      "-I                  Minimap2 indexing, drop minimisers every N bases, DEFAULT = 4G\n",
      "-v / -verbose       Print EVERYTHING.\n",
      "-limit_io           Limit for I/O intensive jobs. DEFAULT = -threads\n",
      "-wind_min           Min window size for BED coverage plots (for dotplots). DEFAULT = 5000\n",
      "-wind_nmax          Max windows per contig for BED coverage plots (for dotplots). DEFAULT = 200\n",
      "\n",
      "(/workspace/appscratch/miniconda/purge_haplotigs_env) "
     ]
    },
    {
     "ename": "",
     "evalue": "1",
     "output_type": "error",
     "traceback": []
    }
   ],
   "source": [
    "purge_haplotigs purge"
   ]
  },
  {
   "cell_type": "code",
   "execution_count": 42,
   "metadata": {},
   "outputs": [
    {
     "name": "stdout",
     "output_type": "stream",
     "text": [
      "Job <379009> is submitted to default queue <normal>.\n",
      "(/workspace/appscratch/miniconda/purge_haplotigs_env) "
     ]
    },
    {
     "ename": "",
     "evalue": "1",
     "output_type": "error",
     "traceback": []
    }
   ],
   "source": [
    "bsub -J purge \\\n",
    "-n 12 \\\n",
    "-o $WORKDIR/flye_i2_purge/purge.out \\\n",
    "-e $WORKDIR/flye_i2_purge/purge.err \\\n",
    "\"purge_haplotigs purge \\\n",
    "-g /workspace/hraczw/github/GA/Bilberry_genome/100.all.assemblies/Flye_pilon-1_corrected_pilon-i2_corrected.fasta \\\n",
    "-c $WORKDIR/flye_i2_purge/Flye_i2.coverage_stats.csv \\\n",
    "-t 12 \\\n",
    "-d \\\n",
    "-b $WORKDIR/flye_i2_purge/Flye.ONT.aligned.sorted.bam \\\n",
    "-o $WORKDIR/flye_i2_purge/Flye_i2.curated\""
   ]
  },
  {
   "cell_type": "code",
   "execution_count": 35,
   "metadata": {},
   "outputs": [
    {
     "name": "stdout",
     "output_type": "stream",
     "text": [
      "Job <376626> is submitted to default queue <normal>.\n",
      "(/workspace/appscratch/miniconda/purge_haplotigs_env) "
     ]
    },
    {
     "ename": "",
     "evalue": "1",
     "output_type": "error",
     "traceback": []
    }
   ],
   "source": [
    "bsub -J purge \\\n",
    "-n 12 \\\n",
    "-o $WORKDIR/shasta_i2_purge/purge.out \\\n",
    "-e $WORKDIR/shasta_i2_purge/purge.err \\\n",
    "\"purge_haplotigs purge \\\n",
    "-g /workspace/hraczw/github/GA/Bilberry_genome/100.all.assemblies/Shasta_pilon-1_corrected_pilon-i2_corrected.fasta \\\n",
    "-c $WORKDIR/shasta_i2_purge/Shasta_i2.coverage_stats.csv \\\n",
    "-t 12 \\\n",
    "-d \\\n",
    "-b $WORKDIR/shasta_i2_purge/Shasta.ONT.aligned.sorted.bam \\\n",
    "-o $WORKDIR/shasta_i2_purge/Shasta_i2.curated\""
   ]
  }
 ],
 "metadata": {
  "kernelspec": {
   "display_name": "Bash",
   "language": "bash",
   "name": "bash"
  },
  "language_info": {
   "codemirror_mode": "shell",
   "file_extension": ".sh",
   "mimetype": "text/x-sh",
   "name": "bash"
  }
 },
 "nbformat": 4,
 "nbformat_minor": 4
}
