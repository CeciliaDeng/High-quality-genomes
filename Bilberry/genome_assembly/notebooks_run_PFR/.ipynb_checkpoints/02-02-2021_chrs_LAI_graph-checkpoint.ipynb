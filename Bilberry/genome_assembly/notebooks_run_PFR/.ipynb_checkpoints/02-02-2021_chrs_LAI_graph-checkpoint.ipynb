{
 "cells": [
  {
   "cell_type": "markdown",
   "metadata": {},
   "source": [
    "# plot chromosome LAI"
   ]
  },
  {
   "cell_type": "code",
   "execution_count": 1,
   "metadata": {},
   "outputs": [],
   "source": [
    "df = read.csv(\"021.LAI_check/bilberry_chr01-12_plusUnanchoredSeqs.NCBI.fasta.out.LAI.chrs.txt\", sep = \"\\t\", header = TRUE)"
   ]
  },
  {
   "cell_type": "code",
   "execution_count": 55,
   "metadata": {},
   "outputs": [
    {
     "data": {
      "text/html": [
       "<table>\n",
       "<caption>A data.frame: 6 × 7</caption>\n",
       "<thead>\n",
       "\t<tr><th scope=col>Chr</th><th scope=col>From</th><th scope=col>To</th><th scope=col>Intact</th><th scope=col>Total</th><th scope=col>raw_LAI</th><th scope=col>LAI</th></tr>\n",
       "\t<tr><th scope=col>&lt;fct&gt;</th><th scope=col>&lt;int&gt;</th><th scope=col>&lt;int&gt;</th><th scope=col>&lt;dbl&gt;</th><th scope=col>&lt;dbl&gt;</th><th scope=col>&lt;dbl&gt;</th><th scope=col>&lt;dbl&gt;</th></tr>\n",
       "</thead>\n",
       "<tbody>\n",
       "\t<tr><td>Chr01</td><td>      1</td><td>3000000</td><td>0.0150</td><td>0.1633</td><td>9.19</td><td>13.69</td></tr>\n",
       "\t<tr><td>Chr01</td><td> 300001</td><td>3300000</td><td>0.0113</td><td>0.1649</td><td>6.83</td><td>11.33</td></tr>\n",
       "\t<tr><td>Chr01</td><td> 600001</td><td>3600000</td><td>0.0180</td><td>0.1832</td><td>9.85</td><td>14.35</td></tr>\n",
       "\t<tr><td>Chr01</td><td> 900001</td><td>3900000</td><td>0.0180</td><td>0.1850</td><td>9.75</td><td>14.25</td></tr>\n",
       "\t<tr><td>Chr01</td><td>1200001</td><td>4200000</td><td>0.0159</td><td>0.1828</td><td>8.70</td><td>13.20</td></tr>\n",
       "\t<tr><td>Chr01</td><td>1500001</td><td>4500000</td><td>0.0159</td><td>0.1900</td><td>8.37</td><td>12.87</td></tr>\n",
       "</tbody>\n",
       "</table>\n"
      ],
      "text/latex": [
       "A data.frame: 6 × 7\n",
       "\\begin{tabular}{r|lllllll}\n",
       " Chr & From & To & Intact & Total & raw\\_LAI & LAI\\\\\n",
       " <fct> & <int> & <int> & <dbl> & <dbl> & <dbl> & <dbl>\\\\\n",
       "\\hline\n",
       "\t Chr01 &       1 & 3000000 & 0.0150 & 0.1633 & 9.19 & 13.69\\\\\n",
       "\t Chr01 &  300001 & 3300000 & 0.0113 & 0.1649 & 6.83 & 11.33\\\\\n",
       "\t Chr01 &  600001 & 3600000 & 0.0180 & 0.1832 & 9.85 & 14.35\\\\\n",
       "\t Chr01 &  900001 & 3900000 & 0.0180 & 0.1850 & 9.75 & 14.25\\\\\n",
       "\t Chr01 & 1200001 & 4200000 & 0.0159 & 0.1828 & 8.70 & 13.20\\\\\n",
       "\t Chr01 & 1500001 & 4500000 & 0.0159 & 0.1900 & 8.37 & 12.87\\\\\n",
       "\\end{tabular}\n"
      ],
      "text/markdown": [
       "\n",
       "A data.frame: 6 × 7\n",
       "\n",
       "| Chr &lt;fct&gt; | From &lt;int&gt; | To &lt;int&gt; | Intact &lt;dbl&gt; | Total &lt;dbl&gt; | raw_LAI &lt;dbl&gt; | LAI &lt;dbl&gt; |\n",
       "|---|---|---|---|---|---|---|\n",
       "| Chr01 |       1 | 3000000 | 0.0150 | 0.1633 | 9.19 | 13.69 |\n",
       "| Chr01 |  300001 | 3300000 | 0.0113 | 0.1649 | 6.83 | 11.33 |\n",
       "| Chr01 |  600001 | 3600000 | 0.0180 | 0.1832 | 9.85 | 14.35 |\n",
       "| Chr01 |  900001 | 3900000 | 0.0180 | 0.1850 | 9.75 | 14.25 |\n",
       "| Chr01 | 1200001 | 4200000 | 0.0159 | 0.1828 | 8.70 | 13.20 |\n",
       "| Chr01 | 1500001 | 4500000 | 0.0159 | 0.1900 | 8.37 | 12.87 |\n",
       "\n"
      ],
      "text/plain": [
       "  Chr   From    To      Intact Total  raw_LAI LAI  \n",
       "1 Chr01       1 3000000 0.0150 0.1633 9.19    13.69\n",
       "2 Chr01  300001 3300000 0.0113 0.1649 6.83    11.33\n",
       "3 Chr01  600001 3600000 0.0180 0.1832 9.85    14.35\n",
       "4 Chr01  900001 3900000 0.0180 0.1850 9.75    14.25\n",
       "5 Chr01 1200001 4200000 0.0159 0.1828 8.70    13.20\n",
       "6 Chr01 1500001 4500000 0.0159 0.1900 8.37    12.87"
      ]
     },
     "metadata": {},
     "output_type": "display_data"
    }
   ],
   "source": [
    "head(df)"
   ]
  },
  {
   "cell_type": "code",
   "execution_count": 3,
   "metadata": {},
   "outputs": [],
   "source": [
    "library(ggplot2)"
   ]
  },
  {
   "cell_type": "code",
   "execution_count": 78,
   "metadata": {},
   "outputs": [],
   "source": [
    "library(scales)"
   ]
  },
  {
   "cell_type": "code",
   "execution_count": 89,
   "metadata": {},
   "outputs": [],
   "source": [
    "p_final = ggplot(df, aes(x = From , y = LAI , color = Chr)) +   \n",
    "      geom_point(colour = \"purple\", size = 0.5) +\n",
    "      facet_wrap(~Chr) + labs(x = \"Position (Mb)\") + \n",
    "      scale_x_continuous(breaks = c(0,10000000, 20000000, 30000000, 40000000), labels = c(\"0\",\"10\",\"20\",\"30\",\"40\"))"
   ]
  },
  {
   "cell_type": "code",
   "execution_count": 90,
   "metadata": {},
   "outputs": [
    {
     "name": "stderr",
     "output_type": "stream",
     "text": [
      "Saving 6.67 x 6.67 in image\n"
     ]
    }
   ],
   "source": [
    "ggsave(filename = \"supp_chrs_LAI.png\", p_final, dpi = 300, units = \"in\", device='png')"
   ]
  }
 ],
 "metadata": {
  "kernelspec": {
   "display_name": "R-3.6.1",
   "language": "R",
   "name": "ir3.6.1"
  },
  "language_info": {
   "codemirror_mode": "r",
   "file_extension": ".r",
   "mimetype": "text/x-r-source",
   "name": "R",
   "pygments_lexer": "r",
   "version": "3.6.1"
  }
 },
 "nbformat": 4,
 "nbformat_minor": 4
}
