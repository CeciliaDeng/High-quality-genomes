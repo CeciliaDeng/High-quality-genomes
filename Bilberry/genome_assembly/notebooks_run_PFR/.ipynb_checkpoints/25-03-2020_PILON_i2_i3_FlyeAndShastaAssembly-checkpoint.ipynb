{
 "cells": [
  {
   "cell_type": "markdown",
   "metadata": {},
   "source": [
    "# PILON iteration 2 & 3 for Shasta and FLYE assembly"
   ]
  },
  {
   "cell_type": "code",
   "execution_count": 1,
   "metadata": {},
   "outputs": [],
   "source": [
    "WORKDIR=/workspace/hraczw/github/GA/Bilberry_genome/200.Pilon.correction/PILON_i2"
   ]
  },
  {
   "cell_type": "code",
   "execution_count": 2,
   "metadata": {},
   "outputs": [],
   "source": [
    "R1=/input/genomic/plant/Vaccinium/myrtillus/Genome/AGRF_CAGRF20139_HMHTHDSXX/Clean_Billbery_HMHTHDSXX_CTAGCGCT-GTGTAGAC_L001_R1.fastq.gz\n",
    "R2=/input/genomic/plant/Vaccinium/myrtillus/Genome/AGRF_CAGRF20139_HMHTHDSXX/Clean_Billbery_HMHTHDSXX_CTAGCGCT-GTGTAGAC_L001_R2.fastq.gz"
   ]
  },
  {
   "cell_type": "markdown",
   "metadata": {},
   "source": [
    "## 1. PILON iteration 2"
   ]
  },
  {
   "cell_type": "code",
   "execution_count": 3,
   "metadata": {},
   "outputs": [
    {
     "name": "stdout",
     "output_type": "stream",
     "text": [
      "Currently Loaded Modulefiles:\n",
      "  1) powerPlant/core    4) git/2.21.0         7) asub/2.1\n",
      "  2) texlive/20151117   5) perlbrew/0.76      8) bowtie2/2.3.4.3\n",
      "  3) pandoc/1.19.2      6) perl/5.28.0\n"
     ]
    }
   ],
   "source": [
    "module load bowtie2\n",
    "module list"
   ]
  },
  {
   "cell_type": "code",
   "execution_count": 4,
   "metadata": {},
   "outputs": [
    {
     "name": "stdout",
     "output_type": "stream",
     "text": [
      "Job <374733> is submitted to default queue <normal>.\n",
      "Job <374734> is submitted to default queue <normal>.\n"
     ]
    }
   ],
   "source": [
    "python << EOF\n",
    "\n",
    "import sys, os\n",
    "\n",
    "f = open('$WORKDIR/assemblies.txt', 'r')\n",
    "\n",
    "for line in f:\n",
    "    assembly = line.split('\\n')[0]\n",
    "    assemblyName = line.split('/')[-1].split('.fasta')[0]\n",
    "    os.system('bsub -J bowtie2-build \\\n",
    "    -n 8 \\\n",
    "    -o $WORKDIR/bowtie2-build_' + assemblyName + '.out \\\n",
    "    -e $WORKDIR/bowtie2-build_' + assemblyName + '.err \\\n",
    "    \"bowtie2-build \\\n",
    "    --threads 8 ' + assembly + ' $WORKDIR/' + assemblyName + '\"')\n",
    "    \n",
    "f.close()\n",
    "\n",
    "EOF"
   ]
  },
  {
   "cell_type": "code",
   "execution_count": 5,
   "metadata": {},
   "outputs": [
    {
     "name": "stdout",
     "output_type": "stream",
     "text": [
      "Currently Loaded Modulefiles:\n",
      "  1) powerPlant/core    4) git/2.21.0         7) asub/2.1\n",
      "  2) texlive/20151117   5) perlbrew/0.76      8) bowtie2/2.3.4.3\n",
      "  3) pandoc/1.19.2      6) perl/5.28.0        9) samtools/1.9\n"
     ]
    }
   ],
   "source": [
    "module load samtools\n",
    "module list"
   ]
  },
  {
   "cell_type": "code",
   "execution_count": 6,
   "metadata": {},
   "outputs": [
    {
     "name": "stdout",
     "output_type": "stream",
     "text": [
      "Job <374735> is submitted to default queue <normal>.\n",
      "Job <374736> is submitted to default queue <normal>.\n"
     ]
    }
   ],
   "source": [
    "python << EOF\n",
    "\n",
    "import sys, os\n",
    "\n",
    "f = open('$WORKDIR/assemblies.txt', 'r')\n",
    "\n",
    "for line in f:\n",
    "    assemblyName = line.split('/')[-1].split('.fasta')[0]\n",
    "    os.system('bsub -J mapping \\\n",
    "                -n 10 \\\n",
    "                -o $WORKDIR/bowtie2_' + assemblyName + '.out \\\n",
    "                -e $WORKDIR/bowtie2_' + assemblyName + '.err \\\n",
    "                \"bowtie2 \\\n",
    "                -p 10 \\\n",
    "                -x $WORKDIR/' + assemblyName + ' \\\n",
    "                -1 $R1 \\\n",
    "                -2 $R2 | \\\n",
    "                samtools view -bS - > $WORKDIR/' + assemblyName + '.bam\"')\n",
    "\n",
    "\n",
    "EOF"
   ]
  },
  {
   "cell_type": "code",
   "execution_count": 7,
   "metadata": {},
   "outputs": [
    {
     "name": "stdout",
     "output_type": "stream",
     "text": [
      "Job <374961> is submitted to default queue <normal>.\n",
      "Job <374962> is submitted to default queue <normal>.\n"
     ]
    }
   ],
   "source": [
    "python << EOF\n",
    "\n",
    "import sys, os\n",
    "\n",
    "f = open('$WORKDIR/assemblies.txt', 'r')\n",
    "\n",
    "for line in f:\n",
    "    assemblyName = line.split('/')[-1].split('.fasta')[0]\n",
    "\n",
    "    os.system('bsub -J sorting \\\n",
    "    -n 10 \\\n",
    "    -o $WORKDIR/sort_' + assemblyName + '.out \\\n",
    "    -e $WORKDIR/sort_' + assemblyName + '.err \\\n",
    "    \"samtools sort \\\n",
    "    -@ 10 \\\n",
    "    -o $WORKDIR/' + assemblyName + '.sorted.bam \\\n",
    "    $WORKDIR/' + assemblyName + '.bam\"')\n",
    "\n",
    "\n",
    "EOF"
   ]
  },
  {
   "cell_type": "code",
   "execution_count": 8,
   "metadata": {},
   "outputs": [
    {
     "name": "stdout",
     "output_type": "stream",
     "text": [
      "Job <374979> is submitted to default queue <normal>.\n",
      "Job <374980> is submitted to default queue <normal>.\n"
     ]
    }
   ],
   "source": [
    "python << EOF\n",
    "\n",
    "import sys, os\n",
    "\n",
    "f = open('$WORKDIR/assemblies.txt', 'r')\n",
    "\n",
    "for line in f:\n",
    "    assemblyName = line.split('/')[-1].split('.fasta')[0]\n",
    "\n",
    "    os.system('bsub -J indexing \\\n",
    "    -o $WORKDIR/index_' + assemblyName + '.out \\\n",
    "    -e $WORKDIR/index_' + assemblyName + '.err \\\n",
    "    \"samtools index $WORKDIR/' + assemblyName + '.sorted.bam\"')\n",
    "\n",
    "\n",
    "EOF"
   ]
  },
  {
   "cell_type": "code",
   "execution_count": 9,
   "metadata": {},
   "outputs": [
    {
     "name": "stdout",
     "output_type": "stream",
     "text": [
      "Job <374987> is submitted to default queue <normal>.\n",
      "Job <374988> is submitted to default queue <normal>.\n"
     ]
    }
   ],
   "source": [
    "python << EOF\n",
    "\n",
    "import sys, os\n",
    "\n",
    "f = open('$WORKDIR/assemblies.txt', 'r')\n",
    "\n",
    "for line in f:\n",
    "    assembly = line.split('\\n')[0]\n",
    "    assemblyName = line.split('/')[-1].split('.fasta')[0]\n",
    "\n",
    "    os.system('bsub -J pilon \\\n",
    "    -m wkoppb50 \\\n",
    "    -n 60 \\\n",
    "    -o $WORKDIR/' + assemblyName + '_pilon-i2.out \\\n",
    "    -e $WORKDIR/' + assemblyName + '_pilon-i2.err \\\n",
    "    \"taskset -a -c 0-60 java -Xmx1500G -jar /software/bioinformatics/pilon-1.23/pilon-1.23.jar \\\n",
    "     --genome ' + assembly + ' \\\n",
    "     --frags $WORKDIR/' + assemblyName + '.sorted.bam \\\n",
    "     --output ' + assemblyName + '_pilon-i2_corrected \\\n",
    "     --outdir $WORKDIR/ \\\n",
    "     --changes \\\n",
    "     --diploid \\\n",
    "     --fix all \\\n",
    "     --threads 60 \\\n",
    "     --flank 5\"')\n",
    "     \n",
    "f.close()\n",
    "\n",
    "EOF"
   ]
  },
  {
   "cell_type": "markdown",
   "metadata": {},
   "source": [
    "## 2. PILION iteration 3"
   ]
  },
  {
   "cell_type": "code",
   "execution_count": 17,
   "metadata": {},
   "outputs": [],
   "source": [
    "WORKDIR=/workspace/hraczw/github/GA/Bilberry_genome/200.Pilon.correction/PILON_i3"
   ]
  },
  {
   "cell_type": "code",
   "execution_count": 18,
   "metadata": {},
   "outputs": [
    {
     "name": "stdout",
     "output_type": "stream",
     "text": [
      "Job <376322> is submitted to default queue <normal>.\n",
      "Job <376323> is submitted to default queue <normal>.\n"
     ]
    }
   ],
   "source": [
    "python << EOF\n",
    "\n",
    "import sys, os\n",
    "\n",
    "f = open('$WORKDIR/assemblies.txt', 'r')\n",
    "\n",
    "for line in f:\n",
    "    assembly = line.split('\\n')[0]\n",
    "    assemblyName = line.split('/')[-1].split('.fasta')[0]\n",
    "    os.system('bsub -J bowtie2-build \\\n",
    "    -n 16 \\\n",
    "    -o $WORKDIR/bowtie2-build_' + assemblyName + '.out \\\n",
    "    -e $WORKDIR/bowtie2-build_' + assemblyName + '.err \\\n",
    "    \"bowtie2-build \\\n",
    "    --threads 16 ' + assembly + ' $WORKDIR/' + assemblyName + '\"')\n",
    "    \n",
    "f.close()\n",
    "\n",
    "EOF"
   ]
  },
  {
   "cell_type": "code",
   "execution_count": 19,
   "metadata": {},
   "outputs": [
    {
     "name": "stdout",
     "output_type": "stream",
     "text": [
      "Job <376324> is submitted to default queue <normal>.\n",
      "Job <376325> is submitted to default queue <normal>.\n"
     ]
    }
   ],
   "source": [
    "python << EOF\n",
    "\n",
    "import sys, os\n",
    "\n",
    "f = open('$WORKDIR/assemblies.txt', 'r')\n",
    "\n",
    "for line in f:\n",
    "    assemblyName = line.split('/')[-1].split('.fasta')[0]\n",
    "    os.system('bsub -J mapping \\\n",
    "                -n 20 \\\n",
    "                -o $WORKDIR/bowtie2_' + assemblyName + '.out \\\n",
    "                -e $WORKDIR/bowtie2_' + assemblyName + '.err \\\n",
    "                \"bowtie2 \\\n",
    "                -p 20 \\\n",
    "                -x $WORKDIR/' + assemblyName + ' \\\n",
    "                -1 $R1 \\\n",
    "                -2 $R2 | \\\n",
    "                samtools view -bS - > $WORKDIR/' + assemblyName + '.bam\"')\n",
    "\n",
    "\n",
    "EOF"
   ]
  },
  {
   "cell_type": "code",
   "execution_count": 20,
   "metadata": {},
   "outputs": [
    {
     "name": "stdout",
     "output_type": "stream",
     "text": [
      "Job <376491> is submitted to default queue <normal>.\n",
      "Job <376492> is submitted to default queue <normal>.\n"
     ]
    }
   ],
   "source": [
    "python << EOF\n",
    "\n",
    "import sys, os\n",
    "\n",
    "f = open('$WORKDIR/assemblies.txt', 'r')\n",
    "\n",
    "for line in f:\n",
    "    assemblyName = line.split('/')[-1].split('.fasta')[0]\n",
    "\n",
    "    os.system('bsub -J sorting \\\n",
    "    -n 10 \\\n",
    "    -o $WORKDIR/sort_' + assemblyName + '.out \\\n",
    "    -e $WORKDIR/sort_' + assemblyName + '.err \\\n",
    "    \"samtools sort \\\n",
    "    -@ 10 \\\n",
    "    -o $WORKDIR/' + assemblyName + '.sorted.bam \\\n",
    "    $WORKDIR/' + assemblyName + '.bam\"')\n",
    "\n",
    "\n",
    "EOF"
   ]
  },
  {
   "cell_type": "code",
   "execution_count": 21,
   "metadata": {},
   "outputs": [
    {
     "name": "stdout",
     "output_type": "stream",
     "text": [
      "Job <376518> is submitted to default queue <normal>.\n",
      "Job <376519> is submitted to default queue <normal>.\n"
     ]
    }
   ],
   "source": [
    "python << EOF\n",
    "\n",
    "import sys, os\n",
    "\n",
    "f = open('$WORKDIR/assemblies.txt', 'r')\n",
    "\n",
    "for line in f:\n",
    "    assemblyName = line.split('/')[-1].split('.fasta')[0]\n",
    "\n",
    "    os.system('bsub -J indexing \\\n",
    "    -o $WORKDIR/index_' + assemblyName + '.out \\\n",
    "    -e $WORKDIR/index_' + assemblyName + '.err \\\n",
    "    \"samtools index $WORKDIR/' + assemblyName + '.sorted.bam\"')\n",
    "\n",
    "\n",
    "EOF"
   ]
  },
  {
   "cell_type": "code",
   "execution_count": 22,
   "metadata": {},
   "outputs": [
    {
     "name": "stdout",
     "output_type": "stream",
     "text": [
      "Job <376528> is submitted to default queue <normal>.\n",
      "Job <376529> is submitted to default queue <normal>.\n"
     ]
    }
   ],
   "source": [
    "python << EOF\n",
    "\n",
    "import sys, os\n",
    "\n",
    "f = open('$WORKDIR/assemblies.txt', 'r')\n",
    "\n",
    "for line in f:\n",
    "    assembly = line.split('\\n')[0]\n",
    "    assemblyName = line.split('/')[-1].split('.fasta')[0]\n",
    "\n",
    "    os.system('bsub -J pilon \\\n",
    "    -m wkoppb50 \\\n",
    "    -n 60 \\\n",
    "    -o $WORKDIR/' + assemblyName + '_pilon-i3.out \\\n",
    "    -e $WORKDIR/' + assemblyName + '_pilon-i3.err \\\n",
    "    \"taskset -a -c 0-60 java -Xmx1500G -jar /software/bioinformatics/pilon-1.23/pilon-1.23.jar \\\n",
    "     --genome ' + assembly + ' \\\n",
    "     --frags $WORKDIR/' + assemblyName + '.sorted.bam \\\n",
    "     --output ' + assemblyName + '_pilon-i3_corrected \\\n",
    "     --outdir $WORKDIR/ \\\n",
    "     --changes \\\n",
    "     --diploid \\\n",
    "     --fix all \\\n",
    "     --threads 60 \\\n",
    "     --flank 5\"')\n",
    "     \n",
    "f.close()\n",
    "\n",
    "EOF"
   ]
  }
 ],
 "metadata": {
  "kernelspec": {
   "display_name": "Bash",
   "language": "bash",
   "name": "bash"
  },
  "language_info": {
   "codemirror_mode": "shell",
   "file_extension": ".sh",
   "mimetype": "text/x-sh",
   "name": "bash"
  }
 },
 "nbformat": 4,
 "nbformat_minor": 4
}
