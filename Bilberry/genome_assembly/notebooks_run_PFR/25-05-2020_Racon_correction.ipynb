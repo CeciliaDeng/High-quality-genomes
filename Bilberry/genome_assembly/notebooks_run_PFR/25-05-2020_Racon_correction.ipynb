{
 "cells": [
  {
   "cell_type": "markdown",
   "metadata": {},
   "source": [
    "# Long reads to correct assembly\n",
    "\n",
    "* Long read correction is recommended to correct the assembly before short read correction\n",
    "* Program: RACON\n",
    "* Input file is Shasta and Flye contig sets\n",
    "* Ann did four rounds of RACON corrections, how many we need? Do we need other correctors as well?"
   ]
  },
  {
   "cell_type": "markdown",
   "metadata": {},
   "source": [
    "## 1. input file paths"
   ]
  },
  {
   "cell_type": "code",
   "execution_count": 36,
   "metadata": {},
   "outputs": [],
   "source": [
    "ONT=/output/genomic/plant/Vaccinium/myrtillus/Genome/ONT/CleanReads/All_AdapterRemoved.fastq\n",
    "SHASTA_CTG=/workspace/hraczw/github/GA/Bilberry_genome/100.all.assemblies/Shasta_all_v0.2.0.assembly.ml1000.fasta.fasta\n",
    "FLYE_CTG=/workspace/hraczw/github/GA/Bilberry_genome/100.all.assemblies/Flye_all_trimmed_i1.assembly.ml1000.fasta.fasta"
   ]
  },
  {
   "cell_type": "code",
   "execution_count": 3,
   "metadata": {},
   "outputs": [],
   "source": [
    "mkdir 150.RACON.correction"
   ]
  },
  {
   "cell_type": "code",
   "execution_count": 37,
   "metadata": {},
   "outputs": [],
   "source": [
    "WORKDIR=/workspace/hraczw/github/GA/Bilberry_genome/150.RACON.correction"
   ]
  },
  {
   "cell_type": "markdown",
   "metadata": {},
   "source": [
    "## 2. aligning long reads to contigs"
   ]
  },
  {
   "cell_type": "markdown",
   "metadata": {},
   "source": [
    "### 2.1 BWA"
   ]
  },
  {
   "cell_type": "code",
   "execution_count": 2,
   "metadata": {},
   "outputs": [
    {
     "name": "stdout",
     "output_type": "stream",
     "text": [
      "Currently Loaded Modulefiles:\n",
      "  1) powerPlant/core    4) git/2.21.0         7) asub/2.1\n",
      "  2) texlive/20151117   5) perlbrew/0.76      8) bwa/0.7.17\n",
      "  3) pandoc/1.19.2      6) perl/5.28.0\n"
     ]
    }
   ],
   "source": [
    "module load bwa\n",
    "module list"
   ]
  },
  {
   "cell_type": "code",
   "execution_count": 7,
   "metadata": {},
   "outputs": [
    {
     "name": "stdout",
     "output_type": "stream",
     "text": [
      "\n",
      "Usage:   bwa index [options] <in.fasta>\n",
      "\n",
      "Options: -a STR    BWT construction algorithm: bwtsw, is or rb2 [auto]\n",
      "         -p STR    prefix of the index [same as fasta name]\n",
      "         -b INT    block size for the bwtsw algorithm (effective with -a bwtsw) [10000000]\n",
      "         -6        index files named as <in.fasta>.64.* instead of <in.fasta>.* \n",
      "\n",
      "Warning: `-a bwtsw' does not work for short genomes, while `-a is' and\n",
      "         `-a div' do not work not for long genomes.\n",
      "\n"
     ]
    },
    {
     "ename": "",
     "evalue": "1",
     "output_type": "error",
     "traceback": []
    }
   ],
   "source": [
    "bwa index "
   ]
  },
  {
   "cell_type": "code",
   "execution_count": 8,
   "metadata": {},
   "outputs": [
    {
     "name": "stdout",
     "output_type": "stream",
     "text": [
      "Job <739023> is submitted to default queue <lowpriority>.\n"
     ]
    }
   ],
   "source": [
    "bsub -J index \\\n",
    "-o $WORKDIR/index_shasta.out \\\n",
    "-e $WORKDIR/index_shasta.err \\\n",
    "\"bwa index $SHASTA_CTG\""
   ]
  },
  {
   "cell_type": "code",
   "execution_count": 9,
   "metadata": {},
   "outputs": [
    {
     "name": "stdout",
     "output_type": "stream",
     "text": [
      "Job <739024> is submitted to default queue <lowpriority>.\n"
     ]
    }
   ],
   "source": [
    "bsub -J index \\\n",
    "-o $WORKDIR/index_flye.out \\\n",
    "-e $WORKDIR/index_flye.err \\\n",
    "\"bwa index $FLYE_CTG\""
   ]
  },
  {
   "cell_type": "code",
   "execution_count": 10,
   "metadata": {},
   "outputs": [
    {
     "name": "stdout",
     "output_type": "stream",
     "text": [
      "Job <739135> is submitted to default queue <lowpriority>.\n"
     ]
    }
   ],
   "source": [
    "bsub -J mapping \\\n",
    "-n 20 \\\n",
    "-o $WORKDIR/mapping_shasta.out \\\n",
    "-e $WORKDIR/mapping_shasta.err \\\n",
    "\"bwa mem \\\n",
    "-t 20 \\\n",
    "-x ont2d \\\n",
    "$SHASTA_CTG \\\n",
    "$ONT >\\\n",
    "$WORKDIR/ONT_to_shasta.sam\""
   ]
  },
  {
   "cell_type": "code",
   "execution_count": 11,
   "metadata": {},
   "outputs": [
    {
     "name": "stdout",
     "output_type": "stream",
     "text": [
      "Job <739136> is submitted to default queue <lowpriority>.\n"
     ]
    }
   ],
   "source": [
    "bsub -J mapping \\\n",
    "-n 20 \\\n",
    "-o $WORKDIR/mapping_flye.out \\\n",
    "-e $WORKDIR/mapping_flye.err \\\n",
    "\"bwa mem \\\n",
    "-t 20 \\\n",
    "-x ont2d \\\n",
    "$FLYE_CTG \\\n",
    "$ONT >\\\n",
    "$WORKDIR/ONT_to_flye.sam\""
   ]
  },
  {
   "cell_type": "markdown",
   "metadata": {},
   "source": [
    "NOTE: mapping is very slow and sam output doesn't work with Racon. There are no empty lines in the assembly or the read files, not sure why.\n",
    "\n",
    "Error message:\n",
    "[racon::Polisher::initialize] loaded target sequences 7.202108 s\n",
    "[racon::Polisher::initialize] loaded sequences 1127.074367 s\n",
    "terminate called after throwing an instance of 'std::invalid_argument'\n",
    "  what():  [bioparser::SamParser] error: invalid file format!\n",
    "/home/hraczw/.lsbatch/1590894810.744722: line 8: 41504 Aborted                 /workspace/hraegb/singularity/racon-1.4.7.sif /output/genomic/plant/Vaccinium/myrtillus/Genome/ONT/CleanReads/All_AdapterRemoved.fastq.gz /workspace/hraczw/github/GA/Bilberry_genome/150.RACON.correction/ONT_to_flye.sam /workspace/hraczw/github/GA/Bilberry_genome/100.all.assemblies/Flye_all_trimmed_i1.assembly.fasta\n",
    "\n",
    "TRY other mappers!"
   ]
  },
  {
   "cell_type": "markdown",
   "metadata": {},
   "source": [
    "### 2.2 minimap2"
   ]
  },
  {
   "cell_type": "code",
   "execution_count": 23,
   "metadata": {},
   "outputs": [
    {
     "name": "stdout",
     "output_type": "stream",
     "text": [
      "Currently Loaded Modulefiles:\n",
      "  1) powerPlant/core    4) git/2.21.0         7) asub/2.1\n",
      "  2) texlive/20151117   5) perlbrew/0.76      8) minimap2/2.9\n",
      "  3) pandoc/1.19.2      6) perl/5.28.0        9) singularity/3\n"
     ]
    }
   ],
   "source": [
    "module load minimap2\n",
    "module list"
   ]
  },
  {
   "cell_type": "code",
   "execution_count": 3,
   "metadata": {
    "collapsed": true,
    "jupyter": {
     "outputs_hidden": true
    }
   },
   "outputs": [
    {
     "name": "stdout",
     "output_type": "stream",
     "text": [
      "Usage: minimap2 [options] <target.fa>|<target.idx> [query.fa] [...]\n",
      "Options:\n",
      "  Indexing:\n",
      "    -H           use homopolymer-compressed k-mer\n",
      "    -k INT       k-mer size (no larger than 28) [15]\n",
      "    -w INT       minizer window size [10]\n",
      "    -I NUM       split index for every ~NUM input bases [4G]\n",
      "    -d FILE      dump index to FILE []\n",
      "  Mapping:\n",
      "    -f FLOAT     filter out top FLOAT fraction of repetitive minimizers [0.0002]\n",
      "    -g NUM       stop chain enlongation if there are no minimizers in INT-bp [5000]\n",
      "    -G NUM       max intron length (effective with -xsplice; changing -r) [200k]\n",
      "    -F NUM       max fragment length (effective with -xsr or in the fragment mode) [800]\n",
      "    -r NUM       bandwidth used in chaining and DP-based alignment [500]\n",
      "    -n INT       minimal number of minimizers on a chain [3]\n",
      "    -m INT       minimal chaining score (matching bases minus log gap penalty) [40]\n",
      "    -X           skip self and dual mappings (for the all-vs-all mode)\n",
      "    -p FLOAT     min secondary-to-primary score ratio [0.8]\n",
      "    -N INT       retain at most INT secondary alignments [5]\n",
      "  Alignment:\n",
      "    -A INT       matching score [2]\n",
      "    -B INT       mismatch penalty [4]\n",
      "    -O INT[,INT] gap open penalty [4,24]\n",
      "    -E INT[,INT] gap extension penalty; a k-long gap costs min{O1+k*E1,O2+k*E2} [2,1]\n",
      "    -z INT[,INT] Z-drop score and inversion Z-drop score [400,200]\n",
      "    -s INT       minimal peak DP alignment score [80]\n",
      "    -u CHAR      how to find GT-AG. f:transcript strand, b:both strands, n:don't match GT-AG [n]\n",
      "  Input/Output:\n",
      "    -a           output in the SAM format (PAF by default)\n",
      "    -Q           don't output base quality in SAM\n",
      "    -L           write CIGAR with >65535 ops at the CG tag\n",
      "    -R STR       SAM read group line in a format like '@RG\\tID:foo\\tSM:bar' []\n",
      "    -c           output CIGAR in PAF\n",
      "    --cs[=STR]   output the cs tag; STR is 'short' (if absent) or 'long' [none]\n",
      "    -Y           use soft clipping for supplementary alignments\n",
      "    -t INT       number of threads [3]\n",
      "    -K NUM       minibatch size for mapping [500M]\n",
      "    --version    show version number\n",
      "  Preset:\n",
      "    -x STR       preset (always applied before other options) []\n",
      "                 map-pb: -Hk19 (PacBio vs reference mapping)\n",
      "                 map-ont: -k15 (Oxford Nanopore vs reference mapping)\n",
      "                 asm5: -k19 -w19 -A1 -B19 -O39,81 -E3,1 -s200 -z200 (asm to ref mapping; break at 5% div.)\n",
      "                 asm10: -k19 -w19 -A1 -B9 -O16,41 -E2,1 -s200 -z200 (asm to ref mapping; break at 10% div.)\n",
      "                 ava-pb: -Hk19 -Xw5 -m100 -g10000 --max-chain-skip 25 (PacBio read overlap)\n",
      "                 ava-ont: -k15 -Xw5 -m100 -g10000 --max-chain-skip 25 (ONT read overlap)\n",
      "                 splice: long-read spliced alignment (see minimap2.1 for details)\n",
      "                 sr: short single-end reads without splicing (see minimap2.1 for details)\n",
      "\n",
      "See `man ./minimap2.1' for detailed description of command-line options.\n"
     ]
    }
   ],
   "source": [
    "minimap2 -h"
   ]
  },
  {
   "cell_type": "code",
   "execution_count": 6,
   "metadata": {},
   "outputs": [
    {
     "name": "stdout",
     "output_type": "stream",
     "text": [
      "Job <746066> is submitted to default queue <lowpriority>.\n"
     ]
    }
   ],
   "source": [
    "bsub -J minimap2 \\\n",
    "-n 20 \\\n",
    "-o $WORKDIR/mapping_minimap2_flye.out \\\n",
    "-e $WORKDIR/mapping_minimap2_flye.err \\\n",
    "\"minimap2 \\\n",
    "-x map-ont \\\n",
    "-t 20 \\\n",
    "$FLYE_CTG \\\n",
    "$ONT \\\n",
    "> $WORKDIR/ONT_to_flye.minimap2.paf\""
   ]
  },
  {
   "cell_type": "code",
   "execution_count": 7,
   "metadata": {},
   "outputs": [
    {
     "name": "stdout",
     "output_type": "stream",
     "text": [
      "Job <746067> is submitted to default queue <lowpriority>.\n"
     ]
    }
   ],
   "source": [
    "bsub -J minimap2 \\\n",
    "-n 20 \\\n",
    "-o $WORKDIR/mapping_minimap2_shasta.out \\\n",
    "-e $WORKDIR/mapping_minimap2_shasta.err \\\n",
    "\"minimap2 \\\n",
    "-x map-ont \\\n",
    "-t 20 \\\n",
    "$SHASTA_CTG \\\n",
    "$ONT \\\n",
    "> $WORKDIR/ONT_to_shasta.minimap2.paf\""
   ]
  },
  {
   "cell_type": "markdown",
   "metadata": {},
   "source": [
    "NOTE: mapping is way faster than BWA mem showing above and Racon-gpu works with .paf file"
   ]
  },
  {
   "cell_type": "code",
   "execution_count": 12,
   "metadata": {},
   "outputs": [],
   "source": [
    "rm $WORKDIR/ONT_to_flye.sam $WORKDIR/ONT_to_shasta.sam"
   ]
  },
  {
   "cell_type": "markdown",
   "metadata": {},
   "source": [
    "## 3. Racon-gpu"
   ]
  },
  {
   "cell_type": "code",
   "execution_count": 8,
   "metadata": {},
   "outputs": [],
   "source": [
    "module load singularity\n",
    "export SINGULARITY_NV=true"
   ]
  },
  {
   "cell_type": "code",
   "execution_count": 9,
   "metadata": {},
   "outputs": [
    {
     "name": "stdout",
     "output_type": "stream",
     "text": [
      "usage: racon [options ...] <sequences> <overlaps> <target sequences>\n",
      "\n",
      "    <sequences>\n",
      "        input file in FASTA/FASTQ format (can be compressed with gzip)\n",
      "        containing sequences used for correction\n",
      "    <overlaps>\n",
      "        input file in MHAP/PAF/SAM format (can be compressed with gzip)\n",
      "        containing overlaps between sequences and target sequences\n",
      "    <target sequences>\n",
      "        input file in FASTA/FASTQ format (can be compressed with gzip)\n",
      "        containing sequences which will be corrected\n",
      "\n",
      "    options:\n",
      "        -u, --include-unpolished\n",
      "            output unpolished target sequences\n",
      "        -f, --fragment-correction\n",
      "            perform fragment correction instead of contig polishing\n",
      "            (overlaps file should contain dual/self overlaps!)\n",
      "        -w, --window-length <int>\n",
      "            default: 500\n",
      "            size of window on which POA is performed\n",
      "        -q, --quality-threshold <float>\n",
      "            default: 10.0\n",
      "            threshold for average base quality of windows used in POA\n",
      "        -e, --error-threshold <float>\n",
      "            default: 0.3\n",
      "            maximum allowed error rate used for filtering overlaps\n",
      "        --no-trimming\n",
      "            disables consensus trimming at window ends\n",
      "        -m, --match <int>\n",
      "            default: 3\n",
      "            score for matching bases\n",
      "        -x, --mismatch <int>\n",
      "            default: -5\n",
      "            score for mismatching bases\n",
      "        -g, --gap <int>\n",
      "            default: -4\n",
      "            gap penalty (must be negative)\n",
      "        -t, --threads <int>\n",
      "            default: 1\n",
      "            number of threads\n",
      "        --version\n",
      "            prints the version number\n",
      "        -h, --help\n",
      "            prints the usage\n",
      "        -c, --cudapoa-batches\n",
      "            default: 1\n",
      "            number of batches for CUDA accelerated polishing\n",
      "        -b, --cuda-banded-alignment\n",
      "            use banding approximation for alignment on GPU\n",
      "        --cudaaligner-batches\n",
      "            Number of batches for CUDA accelerated alignment\n"
     ]
    }
   ],
   "source": [
    "/workspace/hraegb/singularity/racon-1.4.7.sif -h"
   ]
  },
  {
   "cell_type": "markdown",
   "metadata": {},
   "source": [
    "**NOTE:** in order to run racon on GPU you need to specify the number of batches for the POA part and optionally the number of batches for the alignment part. You can also use banded approach on the GPU if you want to. Bellow are the options you need to set. I have updated the README as some of them were incomplete. POA batches take around 2.2GB of memory so you have to set that accordingly with your GPU. For the alignment batches I am not sure. Maybe @tijyojwad and @vellamike can help out.\n",
    "\n",
    "-c, --cudapoa-batches <int>\n",
    "    default: 0\n",
    "    number of batches for CUDA accelerated polishing\n",
    "-b, --cuda-banded-alignment\n",
    "    use banding approximation for polishing on GPU. Only applicable when -c is used.\n",
    "--cudaaligner-batches <int>\n",
    "    default: 0\n",
    "    number of batches for CUDA accelerated alignment\n",
    "    \n",
    "Setting -c and --cudaaligner-batches to non-zero will enable GPU acceleration for those steps accordingly.\n",
    "\n",
    "For accelerated POA racon uses 90% of available memory and then distributes that within the specified batches.\n",
    "For accelerated alignment each batch takes up a fixed amount of memory, so memory scales up as more batches are added.\n",
    "    \n",
    "The batch size for alignment on the GPU is currently hard coded, so each batch will take around 700MB irrespective of the properties of the data.\n",
    "The CUDA accelerated alignment I'd say is still in beta phase, and undergoing some significant improvements. We'll update the racon integration to be more aware of the coverage levels and average read lengths, but for now it's static.\n",
    "The batch size can be updated in code (https://github.com/lbcb-sci/racon/blob/master/src/cuda/cudapolisher.cpp#L91) and the upper limit on read length per batch is specified at https://github.com/lbcb-sci/racon/blob/master/src/cuda/cudapolisher.cpp#L169"
   ]
  },
  {
   "cell_type": "markdown",
   "metadata": {},
   "source": [
    "### 3.1 round 1"
   ]
  },
  {
   "cell_type": "code",
   "execution_count": 21,
   "metadata": {},
   "outputs": [
    {
     "name": "stdout",
     "output_type": "stream",
     "text": [
      "Job <746094> is submitted to default queue <lowpriority>.\n"
     ]
    }
   ],
   "source": [
    "bsub -J racon-gpu \\\n",
    "-m wkoppg31 \\\n",
    "-o $WORKDIR/racon_i1_flye_gpu.out \\\n",
    "-e $WORKDIR/racon_i1_flye_gpu.err \\\n",
    "-R gpu \\\n",
    "\"/workspace/hraegb/singularity/racon-1.4.7.sif \\\n",
    "--include-unpolished \\\n",
    "-c 2 \\\n",
    "-b \\\n",
    "--cudaaligner-batches 2 \\\n",
    "$ONT \\\n",
    "$WORKDIR/ONT_to_flye.minimap2.paf \\\n",
    "$FLYE_CTG > $WORKDIR/Flye_all_trimmed_i1.assembly.racon_i1.includeUnpolished.gpu.fasta\""
   ]
  },
  {
   "cell_type": "markdown",
   "metadata": {},
   "source": [
    "45250.67 sec"
   ]
  },
  {
   "cell_type": "code",
   "execution_count": 14,
   "metadata": {},
   "outputs": [
    {
     "name": "stdout",
     "output_type": "stream",
     "text": [
      "Job <746078> is submitted to default queue <lowpriority>.\n"
     ]
    }
   ],
   "source": [
    "bsub -J racon-cpu \\\n",
    "-n 40 \\\n",
    "-o $WORKDIR/racon_i1_flye_cpu.out \\\n",
    "-e $WORKDIR/racon_i1_flye_cpu.err \\\n",
    "-R gpu \\\n",
    "\"/workspace/hraegb/singularity/racon-1.4.7.sif \\\n",
    "--include-unpolished \\\n",
    "-t 40 \\\n",
    "$ONT \\\n",
    "$WORKDIR/ONT_to_flye.minimap2.paf \\\n",
    "$FLYE_CTG > $WORKDIR/Flye_all_trimmed_i1.assembly.racon_i1.includeUnpolished.cpu.fasta\""
   ]
  },
  {
   "cell_type": "markdown",
   "metadata": {},
   "source": [
    "175840.97 sec"
   ]
  },
  {
   "cell_type": "code",
   "execution_count": 22,
   "metadata": {},
   "outputs": [
    {
     "name": "stdout",
     "output_type": "stream",
     "text": [
      "Job <746095> is submitted to default queue <lowpriority>.\n"
     ]
    }
   ],
   "source": [
    "bsub -J racon-gpu \\\n",
    "-o $WORKDIR/racon_i1_shasta_gpu.out \\\n",
    "-e $WORKDIR/racon_i1_shasta_gpu.err \\\n",
    "-m wkoppg34 \\\n",
    "-R gpu \\\n",
    "\"/workspace/hraegb/singularity/racon-1.4.7.sif \\\n",
    "--include-unpolished \\\n",
    "-c 2 \\\n",
    "-b \\\n",
    "--cudaaligner-batches 2 \\\n",
    "$ONT \\\n",
    "$WORKDIR/ONT_to_shasta.minimap2.paf \\\n",
    "$SHASTA_CTG > $WORKDIR/Shasta_all_v0.2.0.assembly.racon_i1.includeUnpolished.gpu.fasta\""
   ]
  },
  {
   "cell_type": "markdown",
   "metadata": {},
   "source": [
    "42705.11"
   ]
  },
  {
   "cell_type": "code",
   "execution_count": 24,
   "metadata": {},
   "outputs": [],
   "source": [
    "FLYE_CTG_RACON_I1_GPU=$WORKDIR/Flye_all_trimmed_i1.assembly.racon_i1.includeUnpolished.gpu.fasta\n",
    "FLYE_CTG_RACON_I1_CPU=$WORKDIR/Flye_all_trimmed_i1.assembly.racon_i1.includeUnpolished.cpu.fasta\n",
    "SHASTA_CTG_RACON_I1_GPU=$WORKDIR/Shasta_all_v0.2.0.assembly.racon_i1.includeUnpolished.gpu.fasta"
   ]
  },
  {
   "cell_type": "markdown",
   "metadata": {},
   "source": [
    "### 3.2 round 2"
   ]
  },
  {
   "cell_type": "markdown",
   "metadata": {},
   "source": [
    "#### 3.2.1 mapping"
   ]
  },
  {
   "cell_type": "code",
   "execution_count": 25,
   "metadata": {},
   "outputs": [
    {
     "name": "stdout",
     "output_type": "stream",
     "text": [
      "Job <746100> is submitted to default queue <lowpriority>.\n"
     ]
    }
   ],
   "source": [
    "bsub -J minimap2 \\\n",
    "-n 20 \\\n",
    "-o $WORKDIR/mapping_minimap2_flye_i1_gpu.out \\\n",
    "-e $WORKDIR/mapping_minimap2_flye_i1_gpu.err \\\n",
    "\"minimap2 \\\n",
    "-x map-ont \\\n",
    "-t 20 \\\n",
    "$FLYE_CTG_RACON_I1_GPU \\\n",
    "$ONT \\\n",
    "> $WORKDIR/ONT_to_flye_i1_gpu.minimap2.paf\""
   ]
  },
  {
   "cell_type": "code",
   "execution_count": 26,
   "metadata": {},
   "outputs": [
    {
     "name": "stdout",
     "output_type": "stream",
     "text": [
      "Job <746101> is submitted to default queue <lowpriority>.\n"
     ]
    }
   ],
   "source": [
    "bsub -J minimap2 \\\n",
    "-n 20 \\\n",
    "-o $WORKDIR/mapping_minimap2_flye_i1_cpu.out \\\n",
    "-e $WORKDIR/mapping_minimap2_flye_i1_cpu.err \\\n",
    "\"minimap2 \\\n",
    "-x map-ont \\\n",
    "-t 20 \\\n",
    "$FLYE_CTG_RACON_I1_CPU \\\n",
    "$ONT \\\n",
    "> $WORKDIR/ONT_to_flye_i1_cpu.minimap2.paf\""
   ]
  },
  {
   "cell_type": "code",
   "execution_count": 27,
   "metadata": {},
   "outputs": [
    {
     "name": "stdout",
     "output_type": "stream",
     "text": [
      "Job <746102> is submitted to default queue <lowpriority>.\n"
     ]
    }
   ],
   "source": [
    "bsub -J minimap2 \\\n",
    "-n 20 \\\n",
    "-o $WORKDIR/mapping_minimap2_shasta_i1_gpu.out \\\n",
    "-e $WORKDIR/mapping_minimap2_shasta_i1_gpu.err \\\n",
    "\"minimap2 \\\n",
    "-x map-ont \\\n",
    "-t 20 \\\n",
    "$SHASTA_CTG_RACON_I1_GPU \\\n",
    "$ONT \\\n",
    "> $WORKDIR/ONT_to_shasta_i1_gpu.minimap2.paf\""
   ]
  },
  {
   "cell_type": "markdown",
   "metadata": {},
   "source": [
    "#### 3.2.2 racon"
   ]
  },
  {
   "cell_type": "code",
   "execution_count": 28,
   "metadata": {},
   "outputs": [
    {
     "name": "stdout",
     "output_type": "stream",
     "text": [
      "Job <746106> is submitted to default queue <lowpriority>.\n"
     ]
    }
   ],
   "source": [
    "bsub -J racon-gpu \\\n",
    "-m wkoppg31 \\\n",
    "-o $WORKDIR/racon_i2_flye_gpu.out \\\n",
    "-e $WORKDIR/racon_i2_flye_gpu.err \\\n",
    "-R gpu \\\n",
    "\"/workspace/hraegb/singularity/racon-1.4.7.sif \\\n",
    "--include-unpolished \\\n",
    "-c 2 \\\n",
    "-b \\\n",
    "--cudaaligner-batches 2 \\\n",
    "$ONT \\\n",
    "$WORKDIR/ONT_to_flye_i1_gpu.minimap2.paf \\\n",
    "$FLYE_CTG_RACON_I1_GPU > $WORKDIR/Flye_all_trimmed_i1.assembly.racon_i2.includeUnpolished.gpu.fasta\""
   ]
  },
  {
   "cell_type": "code",
   "execution_count": 31,
   "metadata": {},
   "outputs": [
    {
     "name": "stdout",
     "output_type": "stream",
     "text": [
      "bash: /workspace/hraczw/github/GA/Bilberry_genome/150.RACON.correction: Is a directory\n"
     ]
    },
    {
     "ename": "",
     "evalue": "126",
     "output_type": "error",
     "traceback": []
    }
   ],
   "source": [
    "$WORKDIR"
   ]
  },
  {
   "cell_type": "markdown",
   "metadata": {},
   "source": [
    "43856.73 sec"
   ]
  },
  {
   "cell_type": "code",
   "execution_count": 29,
   "metadata": {},
   "outputs": [
    {
     "name": "stdout",
     "output_type": "stream",
     "text": [
      "Job <746107> is submitted to default queue <lowpriority>.\n"
     ]
    }
   ],
   "source": [
    "bsub -J racon-cpu \\\n",
    "-n 40 \\\n",
    "-m wkoppg32 \\\n",
    "-o $WORKDIR/racon_i2_flye_cpu.out \\\n",
    "-e $WORKDIR/racon_i2_flye_cpu.err \\\n",
    "-R gpu \\\n",
    "\"/workspace/hraegb/singularity/racon-1.4.7.sif \\\n",
    "--include-unpolished \\\n",
    "-t 40 \\\n",
    "$ONT \\\n",
    "$WORKDIR/ONT_to_flye_i1_cpu.minimap2.paf \\\n",
    "$FLYE_CTG_RACON_I1_CPU > $WORKDIR/Flye_all_trimmed_i1.assembly.racon_i2.includeUnpolished.cpu.fasta\""
   ]
  },
  {
   "cell_type": "markdown",
   "metadata": {},
   "source": [
    "176357.41 sec"
   ]
  },
  {
   "cell_type": "code",
   "execution_count": 30,
   "metadata": {},
   "outputs": [
    {
     "name": "stdout",
     "output_type": "stream",
     "text": [
      "Job <746108> is submitted to default queue <lowpriority>.\n"
     ]
    }
   ],
   "source": [
    "bsub -J racon-gpu \\\n",
    "-o $WORKDIR/racon_i2_shasta_gpu.out \\\n",
    "-e $WORKDIR/racon_i2_shasta_gpu.err \\\n",
    "-m wkoppg34 \\\n",
    "-R gpu \\\n",
    "\"/workspace/hraegb/singularity/racon-1.4.7.sif \\\n",
    "--include-unpolished \\\n",
    "-c 2 \\\n",
    "-b \\\n",
    "--cudaaligner-batches 2 \\\n",
    "$ONT \\\n",
    "$WORKDIR/ONT_to_shasta_i1_gpu.minimap2.paf \\\n",
    "$SHASTA_CTG_RACON_I1_GPU > $WORKDIR/Shasta_all_v0.2.0.assembly.racon_i2.includeUnpolished.gpu.fasta\""
   ]
  },
  {
   "cell_type": "markdown",
   "metadata": {},
   "source": [
    "41914.85 sec"
   ]
  },
  {
   "cell_type": "markdown",
   "metadata": {},
   "source": [
    "### 3.3 round 3"
   ]
  },
  {
   "cell_type": "markdown",
   "metadata": {},
   "source": [
    "#### 3.3.1 mapping"
   ]
  },
  {
   "cell_type": "code",
   "execution_count": 41,
   "metadata": {},
   "outputs": [],
   "source": [
    "FLYE_CTG_RACON_I2_GPU=$WORKDIR/Flye_all_trimmed_i1.assembly.racon_i2.includeUnpolished.gpu.fasta\n",
    "FLYE_CTG_RACON_I2_CPU=$WORKDIR/Flye_all_trimmed_i1.assembly.racon_i2.includeUnpolished.cpu.fasta\n",
    "SHASTA_CTG_RACON_I2_GPU=$WORKDIR/Shasta_all_v0.2.0.assembly.racon_i2.includeUnpolished.gpu.fasta"
   ]
  },
  {
   "cell_type": "code",
   "execution_count": 33,
   "metadata": {},
   "outputs": [
    {
     "name": "stdout",
     "output_type": "stream",
     "text": [
      "Job <746443> is submitted to default queue <lowpriority>.\n"
     ]
    }
   ],
   "source": [
    "bsub -J minimap2 \\\n",
    "-n 20 \\\n",
    "-o $WORKDIR/mapping_minimap2_flye_i2_gpu.out \\\n",
    "-e $WORKDIR/mapping_minimap2_flye_i2_gpu.err \\\n",
    "\"minimap2 \\\n",
    "-x map-ont \\\n",
    "-t 20 \n",
    "$FLYE_CTG_RACON_I2_GPU \\\n",
    "$ONT \\\n",
    "> $WORKDIR/ONT_to_flye_i2_gpu.minimap2.paf\""
   ]
  },
  {
   "cell_type": "code",
   "execution_count": 34,
   "metadata": {},
   "outputs": [
    {
     "name": "stdout",
     "output_type": "stream",
     "text": [
      "Job <746444> is submitted to default queue <lowpriority>.\n"
     ]
    }
   ],
   "source": [
    "bsub -J minimap2 \\\n",
    "-n 20 \\\n",
    "-o $WORKDIR/mapping_minimap2_flye_i2_cpu.out \\\n",
    "-e $WORKDIR/mapping_minimap2_flye_i2_cpu.err \\\n",
    "\"minimap2 \\\n",
    "-x map-ont \\\n",
    "-t 20 \\\n",
    "$FLYE_CTG_RACON_I2_CPU \\\n",
    "$ONT \\\n",
    "> $WORKDIR/ONT_to_flye_i2_cpu.minimap2.paf\""
   ]
  },
  {
   "cell_type": "code",
   "execution_count": 35,
   "metadata": {},
   "outputs": [
    {
     "name": "stdout",
     "output_type": "stream",
     "text": [
      "Job <746445> is submitted to default queue <lowpriority>.\n"
     ]
    }
   ],
   "source": [
    "bsub -J minimap2 \\\n",
    "-n 20 \\\n",
    "-o $WORKDIR/mapping_minimap2_shasta_i2_gpu.out \\\n",
    "-e $WORKDIR/mapping_minimap2_shasta_i2_gpu.err \\\n",
    "\"minimap2 \\\n",
    "-x map-ont \\\n",
    "-t 20 \\\n",
    "$SHASTA_CTG_RACON_I2_GPU \\\n",
    "$ONT \\\n",
    "> $WORKDIR/ONT_to_shasta_i2_gpu.minimap2.paf\""
   ]
  },
  {
   "cell_type": "markdown",
   "metadata": {},
   "source": [
    "#### 3.3.2 racon"
   ]
  },
  {
   "cell_type": "code",
   "execution_count": 42,
   "metadata": {},
   "outputs": [
    {
     "name": "stdout",
     "output_type": "stream",
     "text": [
      "Job <747317> is submitted to default queue <lowpriority>.\n"
     ]
    }
   ],
   "source": [
    "bsub -J racon-gpu \\\n",
    "-m wkoppg31 \\\n",
    "-o $WORKDIR/racon_i3_flye_gpu.out \\\n",
    "-e $WORKDIR/racon_i3_flye_gpu.err \\\n",
    "-R gpu \\\n",
    "\"/workspace/hraegb/singularity/racon-1.4.7.sif \\\n",
    "--include-unpolished \\\n",
    "-c 2 \\\n",
    "-b \\\n",
    "--cudaaligner-batches 2 \\\n",
    "$ONT \\\n",
    "$WORKDIR/ONT_to_flye_i2_gpu.minimap2.paf \\\n",
    "$FLYE_CTG_RACON_I2_GPU > $WORKDIR/Flye_all_trimmed_i1.assembly.racon_i3.includeUnpolished.gpu.fasta\""
   ]
  },
  {
   "cell_type": "code",
   "execution_count": 43,
   "metadata": {},
   "outputs": [
    {
     "name": "stdout",
     "output_type": "stream",
     "text": [
      "Job <747318> is submitted to default queue <lowpriority>.\n"
     ]
    }
   ],
   "source": [
    "bsub -J racon-cpu \\\n",
    "-n 40 \\\n",
    "-m wkoppg32 \\\n",
    "-o $WORKDIR/racon_i3_flye_cpu.out \\\n",
    "-e $WORKDIR/racon_i3_flye_cpu.err \\\n",
    "-R gpu \\\n",
    "\"/workspace/hraegb/singularity/racon-1.4.7.sif \\\n",
    "--include-unpolished \\\n",
    "-t 40 \\\n",
    "$ONT \\\n",
    "$WORKDIR/ONT_to_flye_i2_cpu.minimap2.paf \\\n",
    "$FLYE_CTG_RACON_I2_CPU > $WORKDIR/Flye_all_trimmed_i1.assembly.racon_i3.includeUnpolished.cpu.fasta\""
   ]
  },
  {
   "cell_type": "code",
   "execution_count": 44,
   "metadata": {},
   "outputs": [
    {
     "name": "stdout",
     "output_type": "stream",
     "text": [
      "Job <747319> is submitted to default queue <lowpriority>.\n"
     ]
    }
   ],
   "source": [
    "bsub -J racon-gpu \\\n",
    "-o $WORKDIR/racon_i3_shasta_gpu.out \\\n",
    "-e $WORKDIR/racon_i3_shasta_gpu.err \\\n",
    "-m wkoppg34 \\\n",
    "-R gpu \\\n",
    "\"/workspace/hraegb/singularity/racon-1.4.7.sif \\\n",
    "--include-unpolished \\\n",
    "-c 2 \\\n",
    "-b \\\n",
    "--cudaaligner-batches 2 \\\n",
    "$ONT \\\n",
    "$WORKDIR/ONT_to_shasta_i2_gpu.minimap2.paf \\\n",
    "$SHASTA_CTG_RACON_I2_GPU > $WORKDIR/Shasta_all_v0.2.0.assembly.racon_i3.includeUnpolished.gpu.fasta\""
   ]
  }
 ],
 "metadata": {
  "kernelspec": {
   "display_name": "Bash",
   "language": "bash",
   "name": "bash"
  },
  "language_info": {
   "codemirror_mode": "shell",
   "file_extension": ".sh",
   "mimetype": "text/x-sh",
   "name": "bash"
  }
 },
 "nbformat": 4,
 "nbformat_minor": 4
}
