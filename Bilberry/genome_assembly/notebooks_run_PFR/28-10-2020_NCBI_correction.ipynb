{
 "cells": [
  {
   "cell_type": "markdown",
   "metadata": {},
   "source": [
    "# NCBI correction\n",
    "\n",
    "\n",
    "```\n",
    "Exclude:\n",
    "Sequence name, length, apparent source\n",
    "10270_pilon_pilon\t1139\tmitochondrion\n",
    "10546_pilon_pilon\t875\tmitochondrion\n",
    "11878_pilon_pilon\t1052\tmitochondrion\n",
    "12876_pilon_pilon\t1159\tmitochondrion\n",
    "1750_pilon_pilon\t2155\tmitochondrion\n",
    "26328_pilon_pilon\t1016\tmitochondrion\n",
    "31030_pilon_pilon\t1110\tmitochondrion\n",
    "31922_pilon_pilon\t1094\tmitochondrion\n",
    "35702_pilon_pilon\t1281\tmitochondrion\n",
    "37564_pilon_pilon\t1184\tmitochondrion\n",
    "376_pilon_pilon\t1070\tmitochondrion\n",
    "41026_pilon_pilon\t1056\tmitochondrion\n",
    "41262_pilon_pilon\t1291\tmitochondrion\n",
    "42682_pilon_pilon\t1037\tmitochondrion\n",
    "43122_pilon_pilon\t1215\tmitochondrion\n",
    "43254_pilon_pilon\t1137\tmitochondrion\n",
    "44694_pilon_pilon\t1256\tmitochondrion\n",
    "45000_pilon_pilon\t1198\tmitochondrion\n",
    "45732_pilon_pilon\t1018\tmitochondrion\n",
    "48648_pilon_pilon\t1238\tmitochondrion\n",
    "50090_pilon_pilon\t1113\tmitochondrion\n",
    "54808_pilon_pilon\t1041\tmitochondrion\n",
    "5600_pilon_pilon\t1065\tmitochondrion\n",
    "59244_pilon_pilon\t1187\tmitochondrion\n",
    "60012_pilon_pilon\t1095\tmitochondrion\n",
    "\n",
    "\n",
    "Trim:\n",
    "Sequence name, length, span(s), apparent source\n",
    "26712_pilon_pilon\t4474\t1..107\tBos taurus\n",
    "\n",
    "```"
   ]
  },
  {
   "cell_type": "markdown",
   "metadata": {},
   "source": [
    "## filtered seqs using script\n",
    "\n",
    "\"filter_fasta_by_list_of_headers.py\""
   ]
  },
  {
   "cell_type": "markdown",
   "metadata": {},
   "source": [
    "## trimming "
   ]
  },
  {
   "cell_type": "code",
   "execution_count": 1,
   "metadata": {},
   "outputs": [
    {
     "name": "stdout",
     "output_type": "stream",
     "text": [
      "Currently Loaded Modulefiles:\n",
      "  1) powerPlant/core    4) git/2.21.0         7) asub/2.1\n",
      "  2) texlive/20151117   5) perlbrew/0.76      8) bedtools/2.27.1\n",
      "  3) pandoc/1.19.2      6) perl/5.28.0\n"
     ]
    }
   ],
   "source": [
    "module load bedtools\n",
    "module list"
   ]
  },
  {
   "cell_type": "code",
   "execution_count": 2,
   "metadata": {},
   "outputs": [],
   "source": [
    "cd 018.NCBI.correction"
   ]
  },
  {
   "cell_type": "code",
   "execution_count": 3,
   "metadata": {},
   "outputs": [],
   "source": [
    "bedtools maskfasta \\\n",
    "-mc E \\\n",
    "-fi bilberry_chr01-12_plusUnanchoredSeqs.filtered.fasta \\\n",
    "-bed trim.bed \\\n",
    "-fo bilberry_chr01-12_plusUnanchoredSeqs.filtered.masked.fasta"
   ]
  },
  {
   "cell_type": "code",
   "execution_count": null,
   "metadata": {},
   "outputs": [],
   "source": [
    "sed -i -e 's/E//g' bilberry_chr01-12_plusUnanchoredSeqs.filtered.masked.fasta"
   ]
  },
  {
   "cell_type": "code",
   "execution_count": 4,
   "metadata": {},
   "outputs": [
    {
     "name": "stdout",
     "output_type": "stream",
     "text": [
      "Currently Loaded Modulefiles:\n",
      "  1) powerPlant/core        4) git/2.21.0             7) asub/2.1\n",
      "  2) texlive/20151117       5) perlbrew/0.76          8) bedtools/2.27.1\n",
      "  3) pandoc/1.19.2          6) perl/5.28.0            9) fastx_toolkit/0.0.13\n"
     ]
    }
   ],
   "source": [
    "module load fastx_toolkit/0.0.13\n",
    "module list"
   ]
  },
  {
   "cell_type": "code",
   "execution_count": 5,
   "metadata": {},
   "outputs": [
    {
     "name": "stdout",
     "output_type": "stream",
     "text": [
      "usage: fasta_formatter [-h] [-i INFILE] [-o OUTFILE] [-w N] [-t] [-e]\n",
      "Part of FASTX Toolkit 0.0.13 by gordon@cshl.edu\n",
      "\n",
      "   [-h]         = This helpful help screen.\n",
      "   [-i INFILE]  = FASTA/Q input file. default is STDIN.\n",
      "   [-o OUTFILE] = FASTA/Q output file. default is STDOUT.\n",
      "   [-w N]       = max. sequence line width for output FASTA file.\n",
      "                  When ZERO (the default), sequence lines will NOT be wrapped -\n",
      "                  all nucleotides of each sequences will appear on a single \n",
      "                  line (good for scripting).\n",
      "   [-t]         = Output tabulated format (instead of FASTA format).\n",
      "                  Sequence-Identifiers will be on first column,\n",
      "                  Nucleotides will appear on second column (as single line).\n",
      "   [-e]         = Output empty sequences (default is to discard them).\n",
      "                  Empty sequences are ones who have only a sequence identifier,\n",
      "                  but not actual nucleotides.\n",
      "\n",
      "Input Example:\n",
      "   >MY-ID\n",
      "   AAAAAGGGGG\n",
      "   CCCCCTTTTT\n",
      "   AGCTN\n",
      "\n",
      "Output example with unlimited line width [-w 0]:\n",
      "   >MY-ID\n",
      "   AAAAAGGGGGCCCCCTTTTTAGCTN\n",
      "\n",
      "Output example with max. line width=7 [-w 7]:\n",
      "   >MY-ID\n",
      "   AAAAAGG\n",
      "   GGGTTTT\n",
      "   TCCCCCA\n",
      "   GCTN\n",
      "\n",
      "Output example with tabular output [-t]:\n",
      "   MY-ID\tAAAAAGGGGGCCCCCTTTTAGCTN\n",
      "\n",
      "example of empty sequence:\n",
      "(will be discarded unless [-e] is used)\n",
      "  >REGULAR-SEQUENCE-1\n",
      "  AAAGGGTTTCCC\n",
      "  >EMPTY-SEQUENCE\n",
      "  >REGULAR-SEQUENCE-2\n",
      "  AAGTAGTAGTAGTAGT\n",
      "  GTATTTTATAT\n",
      "\n",
      "\n"
     ]
    }
   ],
   "source": [
    "fasta_formatter -h"
   ]
  },
  {
   "cell_type": "code",
   "execution_count": 6,
   "metadata": {},
   "outputs": [],
   "source": [
    "fasta_formatter -i bilberry_chr01-12_plusUnanchoredSeqs.filtered.masked.fasta \\\n",
    "-o bilberry_chr01-12_plusUnanchoredSeqs.NCBI.fasta -w 60 "
   ]
  }
 ],
 "metadata": {
  "kernelspec": {
   "display_name": "Bash",
   "language": "bash",
   "name": "bash"
  },
  "language_info": {
   "codemirror_mode": "shell",
   "file_extension": ".sh",
   "mimetype": "text/x-sh",
   "name": "bash"
  }
 },
 "nbformat": 4,
 "nbformat_minor": 4
}
