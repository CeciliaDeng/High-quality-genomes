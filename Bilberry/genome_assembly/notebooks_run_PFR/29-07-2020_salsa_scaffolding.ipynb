{
 "cells": [
  {
   "cell_type": "markdown",
   "metadata": {},
   "source": [
    "# Salsa scaffolding using HiC data"
   ]
  },
  {
   "cell_type": "code",
   "execution_count": 4,
   "metadata": {},
   "outputs": [],
   "source": [
    "mkdir 0121.HiC.salsa"
   ]
  },
  {
   "cell_type": "code",
   "execution_count": 22,
   "metadata": {},
   "outputs": [],
   "source": [
    "WORKDIR=0121.HiC.salsa"
   ]
  },
  {
   "cell_type": "code",
   "execution_count": 1,
   "metadata": {},
   "outputs": [
    {
     "name": "stdout",
     "output_type": "stream",
     "text": [
      "Currently Loaded Modulefiles:\n",
      "  1) powerPlant/core    4) git/2.21.0         7) asub/2.1\n",
      "  2) texlive/20151117   5) perlbrew/0.76      8) singularity/3\n",
      "  3) pandoc/1.19.2      6) perl/5.28.0        9) salsa/v2.2\n"
     ]
    }
   ],
   "source": [
    "module load salsa\n",
    "module list"
   ]
  },
  {
   "cell_type": "code",
   "execution_count": 15,
   "metadata": {},
   "outputs": [
    {
     "name": "stdout",
     "output_type": "stream",
     "text": [
      "Currently Loaded Modulefiles:\n",
      "  1) powerPlant/core    5) perlbrew/0.76      9) salsa/v2.2\n",
      "  2) texlive/20151117   6) perl/5.28.0       10) bedtools/2.27.1\n",
      "  3) pandoc/1.19.2      7) asub/2.1\n",
      "  4) git/2.21.0         8) singularity/3\n"
     ]
    }
   ],
   "source": [
    "module load bedtools\n",
    "module list"
   ]
  },
  {
   "cell_type": "code",
   "execution_count": 16,
   "metadata": {},
   "outputs": [
    {
     "name": "stdout",
     "output_type": "stream",
     "text": [
      "Job <255269> is submitted to default queue <lowpriority>.\n"
     ]
    }
   ],
   "source": [
    "bsub -J bamToBed \\\n",
    "-o $WORKDIR/bamToBed.out \\\n",
    "-e $WORKDIR/bamToBed.err \\\n",
    "\"bamToBed -i \\\n",
    "/workspace/hraczw/github/GA/Bilberry_genome/012.HiC.ALLHIC/mapped_shasta_i3.REduced.paired_only.bam \\\n",
    "> $WORKDIR/mapped_shasta_i3.REduced.paired_only.bed\""
   ]
  },
  {
   "cell_type": "code",
   "execution_count": 21,
   "metadata": {},
   "outputs": [
    {
     "name": "stdout",
     "output_type": "stream",
     "text": [
      "Job <256026> is submitted to default queue <lowpriority>.\n"
     ]
    }
   ],
   "source": [
    "bsub -J bedsort \\\n",
    "-o $WORKDIR/bedsort.out \\\n",
    "-e $WORKDIR/bedsort.err \\\n",
    "\"sort -k 4 -T $WORKDIR/tmp $WORKDIR/mapped_shasta_i3.REduced.paired_only.bed\" \n",
    "#> tmp && mv tmp $WORKDIR/mapped_shasta_i3.REduced.paired_only.bed\""
   ]
  },
  {
   "cell_type": "code",
   "execution_count": 11,
   "metadata": {},
   "outputs": [],
   "source": [
    "FAIFILE=/workspace/hraczw/github/GA/Bilberry_genome/0101.Contamination.analysis/Shasta_racon_i3_pilon-2.noBacteria.ml1000.fasta.fai"
   ]
  },
  {
   "cell_type": "code",
   "execution_count": 12,
   "metadata": {},
   "outputs": [],
   "source": [
    "GENOME=/workspace/hraczw/github/GA/Bilberry_genome/0101.Contamination.analysis/Shasta_racon_i3_pilon-2.noBacteria.ml1000.fasta"
   ]
  },
  {
   "cell_type": "code",
   "execution_count": 23,
   "metadata": {},
   "outputs": [
    {
     "name": "stdout",
     "output_type": "stream",
     "text": [
      "Job <259953> is submitted to default queue <lowpriority>.\n"
     ]
    }
   ],
   "source": [
    "bsub -J salsa \\\n",
    "-o $WORKDIR/salsa2.out \\\n",
    "-e $WORKDIR/salsa2.err \\\n",
    "\"run_pipeline.py \\\n",
    "-a $GENOME \\\n",
    "-l $FAIFILE \\\n",
    "-b $WORKDIR/mapped_shasta_i3.REduced.paired_only.sorted.bed \\\n",
    "-c 1000 \\\n",
    "-e GATC \\\n",
    "-i 3 \\\n",
    "-s 600000000 \\\n",
    "-o $WORKDIR/Shasta_racon_i3_pilon-2.noBacteria.ml1000.Scaffolds \\\n",
    "-m yes \\\n",
    "-p yes\""
   ]
  }
 ],
 "metadata": {
  "kernelspec": {
   "display_name": "Bash",
   "language": "bash",
   "name": "bash"
  },
  "language_info": {
   "codemirror_mode": "shell",
   "file_extension": ".sh",
   "mimetype": "text/x-sh",
   "name": "bash"
  }
 },
 "nbformat": 4,
 "nbformat_minor": 4
}
