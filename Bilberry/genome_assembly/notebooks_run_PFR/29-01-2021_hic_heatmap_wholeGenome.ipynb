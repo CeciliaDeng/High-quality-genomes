{
 "cells": [
  {
   "cell_type": "markdown",
   "metadata": {},
   "source": [
    "# generating HiC heatmap on the whole genome\n",
    "\n",
    "* using Juicebox to generate the graph for the publication\n",
    "* instructions: https://github.com/phasegenomics/juicebox_scripts"
   ]
  },
  {
   "cell_type": "markdown",
   "metadata": {},
   "source": [
    "## 1. generating mapping bam file"
   ]
  },
  {
   "cell_type": "code",
   "execution_count": 33,
   "metadata": {},
   "outputs": [],
   "source": [
    "REF=/output/genomic/plant/Vaccinium/myrtillus/Genome/Assembly/bilberry_chr01-12_plusUnanchoredSeqs.NCBI.fasta"
   ]
  },
  {
   "cell_type": "code",
   "execution_count": 34,
   "metadata": {},
   "outputs": [],
   "source": [
    "HICR1_RAW=/workspace/hraczw/github/GA/Bilberry_genome/002.Fastp.trimming/R1.cleaned.specifiedAdapter.short.Q15.fq.gz\n",
    "HICR2_RAW=/workspace/hraczw/github/GA/Bilberry_genome/002.Fastp.trimming/R2.cleaned.specifiedAdapter.short.Q15.fq.gz"
   ]
  },
  {
   "cell_type": "code",
   "execution_count": 3,
   "metadata": {},
   "outputs": [
    {
     "name": "stdout",
     "output_type": "stream",
     "text": [
      "Currently Loaded Modulefiles:\n",
      "  1) powerPlant/core    4) git/2.21.0         7) asub/2.2\n",
      "  2) texlive/20151117   5) perlbrew/0.76      8) ncbi-blast/2.6.0\n",
      "  3) pandoc/1.19.2      6) perl/5.28.0\n"
     ]
    }
   ],
   "source": [
    "module load ncbi-blast\n",
    "module list"
   ]
  },
  {
   "cell_type": "code",
   "execution_count": 4,
   "metadata": {},
   "outputs": [],
   "source": [
    "mkdir 022.JuiceBox_visualisation"
   ]
  },
  {
   "cell_type": "code",
   "execution_count": 4,
   "metadata": {},
   "outputs": [],
   "source": [
    "WDR=022.JuiceBox_visualisation"
   ]
  },
  {
   "cell_type": "code",
   "execution_count": null,
   "metadata": {},
   "outputs": [],
   "source": [
    "# make a list of chrs i want to extract into a file called chrs.txt under $WDR\n",
    "Chr01\n",
    "Chr02\n",
    "Chr03\n",
    "Chr04\n",
    "Chr05\n",
    "Chr06\n",
    "Chr07\n",
    "Chr08\n",
    "Chr09\n",
    "Chr10\n",
    "Chr11\n",
    "Chr12"
   ]
  },
  {
   "cell_type": "code",
   "execution_count": 9,
   "metadata": {},
   "outputs": [
    {
     "name": "stdout",
     "output_type": "stream",
     "text": [
      "\n",
      "\n",
      "Building a new DB, current time: 01/29/2021 11:21:19\n",
      "New DB name:   /powerplant/workspace/hraczw/github/GA/Bilberry_genome/022.JuiceBox_visualisation/bilberryGenome\n",
      "New DB title:  /output/genomic/plant/Vaccinium/myrtillus/Genome/Assembly/bilberry_chr01-12_plusUnanchoredSeqs.NCBI.fasta\n",
      "Sequence type: Nucleotide\n",
      "Keep MBits: T\n",
      "Maximum file size: 1000000000B\n",
      "Adding sequences from FASTA; added 1418 sequences in 7.87916 seconds.\n"
     ]
    }
   ],
   "source": [
    "makeblastdb -in $REF -dbtype nucl -parse_seqids -out $WDR/bilberryGenome"
   ]
  },
  {
   "cell_type": "code",
   "execution_count": 11,
   "metadata": {},
   "outputs": [],
   "source": [
    "blastdbcmd -db $WDR/bilberryGenome -dbtype nucl -entry_batch $WDR/chrs.txt -out $WDR/BilberryGenome_chrs.fasta"
   ]
  },
  {
   "cell_type": "code",
   "execution_count": 12,
   "metadata": {
    "collapsed": true,
    "jupyter": {
     "outputs_hidden": true
    }
   },
   "outputs": [
    {
     "name": "stdout",
     "output_type": "stream",
     "text": [
      ">Chr01 \n",
      ">Chr02 \n",
      ">Chr03 \n",
      ">Chr04 \n",
      ">Chr05 \n",
      ">Chr06 \n",
      ">Chr07 \n",
      ">Chr08 \n",
      ">Chr09 \n",
      ">Chr10 \n",
      ">Chr11 \n",
      ">Chr12 \n"
     ]
    }
   ],
   "source": [
    "grep '>' $WDR/BilberryGenome_chrs.fasta"
   ]
  },
  {
   "cell_type": "code",
   "execution_count": 14,
   "metadata": {},
   "outputs": [],
   "source": [
    "REF_CHRS=$WDR/BilberryGenome_chrs.fasta"
   ]
  },
  {
   "cell_type": "code",
   "execution_count": 37,
   "metadata": {},
   "outputs": [
    {
     "name": "stdout",
     "output_type": "stream",
     "text": [
      "Currently Loaded Modulefiles:\n",
      "  1) powerPlant/core    5) perlbrew/0.76      9) bedtools/2.27.1\n",
      "  2) texlive/20151117   6) perl/5.28.0       10) bwa/0.7.17\n",
      "  3) pandoc/1.19.2      7) asub/2.2\n",
      "  4) git/2.21.0         8) samtools/1.9\n"
     ]
    }
   ],
   "source": [
    "# mapping following in steps on ALLHIC wiki\n",
    "\n",
    "module load bwa\n",
    "module list"
   ]
  },
  {
   "cell_type": "code",
   "execution_count": 15,
   "metadata": {},
   "outputs": [
    {
     "name": "stdout",
     "output_type": "stream",
     "text": [
      "Job <886530> is submitted to default queue <lowpriority>.\n"
     ]
    }
   ],
   "source": [
    "bsub -J bwa \\\n",
    "-o $WDR/bwa_index.out \\\n",
    "-e $WDR/bwa_index.err \\\n",
    "\"bwa index $REF_CHRS\""
   ]
  },
  {
   "cell_type": "code",
   "execution_count": 38,
   "metadata": {},
   "outputs": [
    {
     "name": "stdout",
     "output_type": "stream",
     "text": [
      "Currently Loaded Modulefiles:\n",
      "  1) powerPlant/core    5) perlbrew/0.76      9) bedtools/2.27.1\n",
      "  2) texlive/20151117   6) perl/5.28.0       10) bwa/0.7.17\n",
      "  3) pandoc/1.19.2      7) asub/2.2\n",
      "  4) git/2.21.0         8) samtools/1.9\n"
     ]
    }
   ],
   "source": [
    "module load samtools\n",
    "module list"
   ]
  },
  {
   "cell_type": "code",
   "execution_count": 39,
   "metadata": {},
   "outputs": [
    {
     "name": "stdout",
     "output_type": "stream",
     "text": [
      "Job <887510> is submitted to default queue <lowpriority>.\n"
     ]
    }
   ],
   "source": [
    "bsub -J map \\\n",
    "-m wkoppg31 \\\n",
    "-n 40 \\\n",
    "-o $WDR/map_pg.out \\\n",
    "-e $WDR/map_pg.err \\\n",
    "\"bwa mem -5SP \\\n",
    "-t 40 \\\n",
    "$REF_CHRS \\\n",
    "$HICR1_RAW \\\n",
    "$HICR2_RAW | \\\n",
    "samtools view -S -h -b -F 2316 > $WDR/mapped_pg.bam\""
   ]
  },
  {
   "cell_type": "markdown",
   "metadata": {},
   "source": [
    "## 2. generating .hic file for juicerbox\n",
    "\n",
    "* using phasegenomics scripts: https://github.com/phasegenomics/juicebox_scripts"
   ]
  },
  {
   "cell_type": "code",
   "execution_count": 23,
   "metadata": {},
   "outputs": [],
   "source": [
    "python /workspace/hraczw/github/programs/juicebox_scripts/juicebox_scripts/makeAgpFromFasta.py $REF_CHRS $WDR/bilberry_chrs.agp"
   ]
  },
  {
   "cell_type": "code",
   "execution_count": 31,
   "metadata": {},
   "outputs": [],
   "source": [
    "python /workspace/hraczw/github/programs/juicebox_scripts/juicebox_scripts/agp2assembly.py $WDR/bilberry_chrs.agp $WDR/bilberry_chrs.assembly"
   ]
  },
  {
   "cell_type": "code",
   "execution_count": 1,
   "metadata": {},
   "outputs": [],
   "source": [
    "export PATH=/workspace/hraczw/github/programs/matlock/bin/:$PATH"
   ]
  },
  {
   "cell_type": "code",
   "execution_count": 5,
   "metadata": {},
   "outputs": [
    {
     "name": "stdout",
     "output_type": "stream",
     "text": [
      "Job <887654> is submitted to default queue <lowpriority>.\n"
     ]
    }
   ],
   "source": [
    "bsub -J convert -m wkoppb50 -o $WDR/matlock_convert.out -e $WDR/matlock_convert.err \\\n",
    "\"matlock bam2 juicer $WDR/mapped_pg.bam $WDR/out.links.txt\""
   ]
  },
  {
   "cell_type": "code",
   "execution_count": 6,
   "metadata": {},
   "outputs": [
    {
     "name": "stdout",
     "output_type": "stream",
     "text": [
      "Job <887665> is submitted to default queue <lowpriority>.\n"
     ]
    }
   ],
   "source": [
    "bsub -J sort -o $WDR/sort.out -e $WDR/sort.err \\\n",
    "\"sort -k2,2 -k6,6 $WDR/out.links.txt > $WDR/out.sorted.links.txt\""
   ]
  },
  {
   "cell_type": "code",
   "execution_count": 7,
   "metadata": {},
   "outputs": [
    {
     "name": "stdout",
     "output_type": "stream",
     "text": [
      "Job <887666> is submitted to default queue <lowpriority>.\n"
     ]
    }
   ],
   "source": [
    "bsub -J convertToHic -o $WDR/convertToHic.out -e $WDR/convertToHic.err \\\n",
    "\"bash /workspace/hraczw/github/programs/3d-dna/visualize/run-assembly-visualizer.sh -p false $WDR/bilberry_chrs.assembly $WDR/out.sorted.links.txt\""
   ]
  }
 ],
 "metadata": {
  "kernelspec": {
   "display_name": "Bash",
   "language": "bash",
   "name": "bash"
  },
  "language_info": {
   "codemirror_mode": "shell",
   "file_extension": ".sh",
   "mimetype": "text/x-sh",
   "name": "bash"
  }
 },
 "nbformat": 4,
 "nbformat_minor": 4
}
