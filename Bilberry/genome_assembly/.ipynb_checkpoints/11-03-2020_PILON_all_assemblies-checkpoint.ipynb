{
 "cells": [
  {
   "cell_type": "markdown",
   "metadata": {},
   "source": [
    "# PILON polishing all assemblies"
   ]
  },
  {
   "cell_type": "code",
   "execution_count": 13,
   "metadata": {},
   "outputs": [],
   "source": [
    "WORKDIR=/workspace/hraczw/github/GA/Bilberry_genome/200.Pilon.correction"
   ]
  },
  {
   "cell_type": "code",
   "execution_count": 3,
   "metadata": {},
   "outputs": [],
   "source": [
    "ASSEMBLY_PATH=/workspace/hraczw/github/GA/Bilberry_genome/100.all.assemblies"
   ]
  },
  {
   "cell_type": "code",
   "execution_count": 8,
   "metadata": {},
   "outputs": [],
   "source": [
    "readlink -f $ASSEMBLY_PATH/*.fasta > $ASSEMBLY_PATH/assemblies.txt\n",
    "\n",
    "# edit assemblies.txt to only include those for analysis"
   ]
  },
  {
   "cell_type": "code",
   "execution_count": 4,
   "metadata": {},
   "outputs": [
    {
     "name": "stdout",
     "output_type": "stream",
     "text": [
      "/workspace/hraczw/github/GA/Bilberry_genome/200.Pilon.correction/Shasta_all_v0.2.0.assembly.racon_i1.includeUnpolished.gpu_pilon-1_corrected.fasta\n",
      "/workspace/hraczw/github/GA/Bilberry_genome/200.Pilon.correction/Shasta_all_v0.2.0.assembly.racon_i2.includeUnpolished.gpu_pilon-1_corrected.fasta\n",
      "/workspace/hraczw/github/GA/Bilberry_genome/200.Pilon.correction/Shasta_all_v0.2.0.assembly.racon_i3.includeUnpolished.gpu_pilon-1_corrected.fasta\n",
      "/workspace/hraczw/github/GA/Bilberry_genome/200.Pilon.correction/Flye_all_trimmed_i1.assembly.racon_i1.includeUnpolished.gpu_pilon-1_corrected.fasta\n",
      "/workspace/hraczw/github/GA/Bilberry_genome/200.Pilon.correction/Flye_all_trimmed_i1.assembly.racon_i2.includeUnpolished.gpu_pilon-1_corrected.fasta\n",
      "/workspace/hraczw/github/GA/Bilberry_genome/200.Pilon.correction/Flye_all_trimmed_i1.assembly.racon_i3.includeUnpolished.gpu_pilon-1_corrected.fasta\n"
     ]
    }
   ],
   "source": [
    "cat $ASSEMBLY_PATH/assemblies.txt"
   ]
  },
  {
   "cell_type": "code",
   "execution_count": 5,
   "metadata": {},
   "outputs": [],
   "source": [
    "R1=/input/genomic/plant/Vaccinium/myrtillus/Genome/AGRF_CAGRF20139_HMHTHDSXX/Clean_Billbery_HMHTHDSXX_CTAGCGCT-GTGTAGAC_L001_R1.fastq.gz\n",
    "R2=/input/genomic/plant/Vaccinium/myrtillus/Genome/AGRF_CAGRF20139_HMHTHDSXX/Clean_Billbery_HMHTHDSXX_CTAGCGCT-GTGTAGAC_L001_R2.fastq.gz"
   ]
  },
  {
   "cell_type": "markdown",
   "metadata": {},
   "source": [
    "## 1. Mapping reads to assemblies"
   ]
  },
  {
   "cell_type": "code",
   "execution_count": 15,
   "metadata": {},
   "outputs": [
    {
     "name": "stdout",
     "output_type": "stream",
     "text": [
      "Currently Loaded Modulefiles:\n",
      "  1) powerPlant/core    4) git/2.21.0         7) asub/2.1\n",
      "  2) texlive/20151117   5) perlbrew/0.76      8) bowtie2/2.3.4.3\n",
      "  3) pandoc/1.19.2      6) perl/5.28.0        9) samtools/1.9\n"
     ]
    }
   ],
   "source": [
    "module load bowtie2\n",
    "module list"
   ]
  },
  {
   "cell_type": "code",
   "execution_count": 16,
   "metadata": {},
   "outputs": [
    {
     "name": "stdout",
     "output_type": "stream",
     "text": [
      "Job <908611> is submitted to default queue <lowpriority>.\n",
      "Job <908612> is submitted to default queue <lowpriority>.\n",
      "Job <908613> is submitted to default queue <lowpriority>.\n",
      "Job <908614> is submitted to default queue <lowpriority>.\n",
      "Job <908615> is submitted to default queue <lowpriority>.\n",
      "Job <908616> is submitted to default queue <lowpriority>.\n"
     ]
    }
   ],
   "source": [
    "python << EOF\n",
    "\n",
    "import sys, os\n",
    "\n",
    "f = open('$ASSEMBLY_PATH/assemblies.txt', 'r')\n",
    "\n",
    "for line in f:\n",
    "    assembly = line.split('\\n')[0]\n",
    "    assemblyName = line.split('/')[-1].split('.fa')[0]\n",
    "    os.system('bsub -J bowtie2-build \\\n",
    "    -n 8 \\\n",
    "    -o $WORKDIR/bowtie2-build_' + assemblyName + '.out \\\n",
    "    -e $WORKDIR/bowtie2-build_' + assemblyName + '.err \\\n",
    "    \"bowtie2-build \\\n",
    "    --threads 8 ' + assembly + ' $WORKDIR/' + assemblyName + '\"')\n",
    "    \n",
    "f.close()\n",
    "\n",
    "EOF"
   ]
  },
  {
   "cell_type": "code",
   "execution_count": 6,
   "metadata": {},
   "outputs": [
    {
     "name": "stdout",
     "output_type": "stream",
     "text": [
      "Currently Loaded Modulefiles:\n",
      "  1) powerPlant/core    4) git/2.21.0         7) asub/2.1\n",
      "  2) texlive/20151117   5) perlbrew/0.76      8) samtools/1.9\n",
      "  3) pandoc/1.19.2      6) perl/5.28.0\n"
     ]
    }
   ],
   "source": [
    "module load samtools\n",
    "module list"
   ]
  },
  {
   "cell_type": "code",
   "execution_count": 19,
   "metadata": {},
   "outputs": [
    {
     "name": "stdout",
     "output_type": "stream",
     "text": [
      "Job <945753> is submitted to default queue <lowpriority>.\n",
      "Job <945755> is submitted to default queue <lowpriority>.\n",
      "Job <945757> is submitted to default queue <lowpriority>.\n",
      "Job <945758> is submitted to default queue <lowpriority>.\n",
      "Job <945759> is submitted to default queue <lowpriority>.\n",
      "Job <945760> is submitted to default queue <lowpriority>.\n"
     ]
    }
   ],
   "source": [
    "python << EOF\n",
    "\n",
    "import sys, os\n",
    "\n",
    "f = open('$ASSEMBLY_PATH/assemblies.txt', 'r')\n",
    "\n",
    "for line in f:\n",
    "    assemblyName = line.split('/')[-1].split('.fa')[0]\n",
    "    os.system('bsub -J mapping \\\n",
    "                -n 10 \\\n",
    "                -o $WORKDIR/bowtie2_' + assemblyName + '.out \\\n",
    "                -e $WORKDIR/bowtie2_' + assemblyName + '.err \\\n",
    "                \"bowtie2 \\\n",
    "                -p 10 \\\n",
    "                -x $WORKDIR/' + assemblyName + ' \\\n",
    "                -1 $R1 \\\n",
    "                -2 $R2 | \\\n",
    "                samtools view -bS - > $WORKDIR/' + assemblyName + '.bam\"')\n",
    "\n",
    "\n",
    "EOF"
   ]
  },
  {
   "cell_type": "code",
   "execution_count": 14,
   "metadata": {},
   "outputs": [
    {
     "name": "stdout",
     "output_type": "stream",
     "text": [
      "436662782 reads; of these:\n",
      "  436662782 (100.00%) were paired; of these:\n",
      "    102531638 (23.48%) aligned concordantly 0 times\n",
      "    189934077 (43.50%) aligned concordantly exactly 1 time\n",
      "    144197067 (33.02%) aligned concordantly >1 times\n",
      "    ----\n",
      "    102531638 pairs aligned concordantly 0 times; of these:\n",
      "      25844923 (25.21%) aligned discordantly 1 time\n",
      "    ----\n",
      "    76686715 pairs aligned 0 times concordantly or discordantly; of these:\n",
      "      153373430 mates make up the pairs; of these:\n",
      "        39742172 (25.91%) aligned 0 times\n",
      "        26706105 (17.41%) aligned exactly 1 time\n",
      "        86925153 (56.68%) aligned >1 times\n",
      "95.45% overall alignment rate\n"
     ]
    }
   ],
   "source": [
    "cat $WORKDIR/bowtie2_Flye.err"
   ]
  },
  {
   "cell_type": "code",
   "execution_count": 15,
   "metadata": {},
   "outputs": [
    {
     "name": "stdout",
     "output_type": "stream",
     "text": [
      "436662782 reads; of these:\n",
      "  436662782 (100.00%) were paired; of these:\n",
      "    92219202 (21.12%) aligned concordantly 0 times\n",
      "    104836093 (24.01%) aligned concordantly exactly 1 time\n",
      "    239607487 (54.87%) aligned concordantly >1 times\n",
      "    ----\n",
      "    92219202 pairs aligned concordantly 0 times; of these:\n",
      "      12547150 (13.61%) aligned discordantly 1 time\n",
      "    ----\n",
      "    79672052 pairs aligned 0 times concordantly or discordantly; of these:\n",
      "      159344104 mates make up the pairs; of these:\n",
      "        39690849 (24.91%) aligned 0 times\n",
      "        14799630 (9.29%) aligned exactly 1 time\n",
      "        104853625 (65.80%) aligned >1 times\n",
      "95.46% overall alignment rate\n"
     ]
    }
   ],
   "source": [
    "cat $WORKDIR/bowtie2_necat.err"
   ]
  },
  {
   "cell_type": "code",
   "execution_count": 16,
   "metadata": {},
   "outputs": [
    {
     "name": "stdout",
     "output_type": "stream",
     "text": [
      "436662782 reads; of these:\n",
      "  436662782 (100.00%) were paired; of these:\n",
      "    188571521 (43.18%) aligned concordantly 0 times\n",
      "    181776150 (41.63%) aligned concordantly exactly 1 time\n",
      "    66315111 (15.19%) aligned concordantly >1 times\n",
      "    ----\n",
      "    188571521 pairs aligned concordantly 0 times; of these:\n",
      "      32207634 (17.08%) aligned discordantly 1 time\n",
      "    ----\n",
      "    156363887 pairs aligned 0 times concordantly or discordantly; of these:\n",
      "      312727774 mates make up the pairs; of these:\n",
      "        159624943 (51.04%) aligned 0 times\n",
      "        70745763 (22.62%) aligned exactly 1 time\n",
      "        82357068 (26.34%) aligned >1 times\n",
      "81.72% overall alignment rate\n"
     ]
    }
   ],
   "source": [
    "cat $WORKDIR/bowtie2_Shasta.err"
   ]
  },
  {
   "cell_type": "code",
   "execution_count": 17,
   "metadata": {},
   "outputs": [
    {
     "name": "stdout",
     "output_type": "stream",
     "text": [
      "436662782 reads; of these:\n",
      "  436662782 (100.00%) were paired; of these:\n",
      "    170451144 (39.03%) aligned concordantly 0 times\n",
      "    162653267 (37.25%) aligned concordantly exactly 1 time\n",
      "    103558371 (23.72%) aligned concordantly >1 times\n",
      "    ----\n",
      "    170451144 pairs aligned concordantly 0 times; of these:\n",
      "      25185364 (14.78%) aligned discordantly 1 time\n",
      "    ----\n",
      "    145265780 pairs aligned 0 times concordantly or discordantly; of these:\n",
      "      290531560 mates make up the pairs; of these:\n",
      "        152009067 (52.32%) aligned 0 times\n",
      "        58889329 (20.27%) aligned exactly 1 time\n",
      "        79633164 (27.41%) aligned >1 times\n",
      "82.59% overall alignment rate\n"
     ]
    }
   ],
   "source": [
    "cat $WORKDIR/bowtie2_wtdbg2.err"
   ]
  },
  {
   "cell_type": "code",
   "execution_count": 7,
   "metadata": {},
   "outputs": [
    {
     "name": "stdout",
     "output_type": "stream",
     "text": [
      "Shasta_all_v0.2.0.assembly.racon_i1.includeUnpolished.gpu_pilon-1_corrected\t\n",
      "    133481895 (30.57%)\t\n",
      "    203412078 (46.58%)\t\n",
      "    99768809 (22.85%)\t\n",
      "    133481895 pairs\t\n",
      "89.36%\n",
      "\n",
      "Shasta_all_v0.2.0.assembly.racon_i2.includeUnpolished.gpu_pilon-1_corrected\t\n",
      "    127468370 (29.19%)\t\n",
      "    207227003 (47.46%)\t\n",
      "    101967409 (23.35%)\t\n",
      "    127468370 pairs\t\n",
      "90.14%\n",
      "\n",
      "Shasta_all_v0.2.0.assembly.racon_i3.includeUnpolished.gpu_pilon-1_corrected\t\n",
      "    124679412 (28.55%)\t\n",
      "    209107652 (47.89%)\t\n",
      "    102875718 (23.56%)\t\n",
      "    124679412 pairs\t\n",
      "90.67%\n",
      "\n",
      "Flye_all_trimmed_i1.assembly.racon_i1.includeUnpolished.gpu_pilon-1_corrected\t\n",
      "    95688432 (21.91%)\t\n",
      "    187786668 (43.00%)\t\n",
      "    153187682 (35.08%)\t\n",
      "    95688432 pairs\t\n",
      "95.98%\n",
      "\n",
      "Flye_all_trimmed_i1.assembly.racon_i2.includeUnpolished.gpu_pilon-1_corrected\t\n",
      "    95696698 (21.92%)\t\n",
      "    188787936 (43.23%)\t\n",
      "    152178148 (34.85%)\t\n",
      "    95696698 pairs\t\n",
      "95.95%\n",
      "\n",
      "Flye_all_trimmed_i1.assembly.racon_i3.includeUnpolished.gpu_pilon-1_corrected\t\n",
      "    95154019 (21.79%)\t\n",
      "    189639970 (43.43%)\t\n",
      "    151868793 (34.78%)\t\n",
      "    95154019 pairs\t\n",
      "96.01%\n",
      "\n"
     ]
    }
   ],
   "source": [
    "python << EOF\n",
    "\n",
    "\n",
    "import sys, os\n",
    "\n",
    "f = open('$ASSEMBLY_PATH/assemblies.txt', 'r')\n",
    "\n",
    "for line in f:\n",
    "    assemblyName = line.split('/')[-1].split('.fa')[0]\n",
    "    f1 = open('$WORKDIR/bowtie2_' + assemblyName + '.err', 'r')\n",
    "    print (assemblyName + '\\t')\n",
    "    for line1 in f1:\n",
    "        if ' aligned concordantly 0 times' in line1:\n",
    "            print (line1.split(' aligned concordantly 0 times')[0] + '\\t')\n",
    "        if ' aligned concordantly exactly 1 time' in line1:\n",
    "            print (line1.split(' aligned concordantly exactly 1 time')[0] + '\\t')\n",
    "        if ' aligned concordantly >1 times' in line1:\n",
    "            print (line1.split(' aligned concordantly >1 times')[0] + '\\t')\n",
    "        if ' overall alignment rate' in line1:\n",
    "            print (line1.split(' overall alignment rate')[0] + '\\n')\n",
    "    f1.close()\n",
    "f.close()\n",
    "\n",
    "EOF"
   ]
  },
  {
   "cell_type": "code",
   "execution_count": 8,
   "metadata": {},
   "outputs": [
    {
     "name": "stdout",
     "output_type": "stream",
     "text": [
      "Currently Loaded Modulefiles:\n",
      "  1) powerPlant/core    4) git/2.21.0         7) asub/2.1\n",
      "  2) texlive/20151117   5) perlbrew/0.76      8) samtools/1.9\n",
      "  3) pandoc/1.19.2      6) perl/5.28.0\n"
     ]
    }
   ],
   "source": [
    "module load samtools\n",
    "module list"
   ]
  },
  {
   "cell_type": "code",
   "execution_count": 9,
   "metadata": {},
   "outputs": [
    {
     "name": "stdout",
     "output_type": "stream",
     "text": [
      "Job <210022> is submitted to default queue <lowpriority>.\n",
      "Job <210023> is submitted to default queue <lowpriority>.\n",
      "Job <210024> is submitted to default queue <lowpriority>.\n",
      "Job <210025> is submitted to default queue <lowpriority>.\n",
      "Job <210026> is submitted to default queue <lowpriority>.\n",
      "Job <210027> is submitted to default queue <lowpriority>.\n"
     ]
    }
   ],
   "source": [
    "python << EOF\n",
    "\n",
    "import sys, os\n",
    "\n",
    "f = open('$ASSEMBLY_PATH/assemblies.txt', 'r')\n",
    "\n",
    "for line in f:\n",
    "    assemblyName = line.split('/')[-1].split('.fa')[0]\n",
    "\n",
    "    os.system('bsub -J sorting \\\n",
    "    -n 10 \\\n",
    "    -o $WORKDIR/sort_' + assemblyName + '.out \\\n",
    "    -e $WORKDIR/sort_' + assemblyName + '.err \\\n",
    "    \"samtools sort \\\n",
    "    -@ 10 \\\n",
    "    -o $WORKDIR/' + assemblyName + '.sorted.bam \\\n",
    "    $WORKDIR/' + assemblyName + '.bam\"')\n",
    "\n",
    "\n",
    "EOF"
   ]
  },
  {
   "cell_type": "code",
   "execution_count": 11,
   "metadata": {},
   "outputs": [
    {
     "name": "stdout",
     "output_type": "stream",
     "text": [
      "Job <210035> is submitted to default queue <lowpriority>.\n",
      "Job <210036> is submitted to default queue <lowpriority>.\n",
      "Job <210037> is submitted to default queue <lowpriority>.\n",
      "Job <210038> is submitted to default queue <lowpriority>.\n",
      "Job <210039> is submitted to default queue <lowpriority>.\n",
      "Job <210040> is submitted to default queue <lowpriority>.\n"
     ]
    }
   ],
   "source": [
    "python << EOF\n",
    "\n",
    "import sys, os\n",
    "\n",
    "f = open('$ASSEMBLY_PATH/assemblies.txt', 'r')\n",
    "\n",
    "for line in f:\n",
    "    assemblyName = line.split('/')[-1].split('.fa')[0]\n",
    "\n",
    "    os.system('bsub -J indexing \\\n",
    "    -o $WORKDIR/index_' + assemblyName + '.out \\\n",
    "    -e $WORKDIR/index_' + assemblyName + '.err \\\n",
    "    \"samtools index $WORKDIR/' + assemblyName + '.sorted.bam\"')\n",
    "\n",
    "\n",
    "EOF"
   ]
  },
  {
   "cell_type": "code",
   "execution_count": 56,
   "metadata": {},
   "outputs": [],
   "source": [
    "# remove bam files\n",
    "\n",
    "rm $WORKDIR/Flye.bam\n",
    "rm $WORKDIR/necat.bam\n",
    "rm $WORKDIR/Shasta.bam\n",
    "rm $WORKDIR/wtdbg2.bam"
   ]
  },
  {
   "cell_type": "code",
   "execution_count": 12,
   "metadata": {},
   "outputs": [
    {
     "name": "stdout",
     "output_type": "stream",
     "text": [
      "Job <210115> is submitted to default queue <lowpriority>.\n",
      "Job <210116> is submitted to default queue <lowpriority>.\n",
      "Job <210117> is submitted to default queue <lowpriority>.\n",
      "Job <210118> is submitted to default queue <lowpriority>.\n",
      "Job <210119> is submitted to default queue <lowpriority>.\n",
      "Job <210120> is submitted to default queue <lowpriority>.\n"
     ]
    }
   ],
   "source": [
    "python << EOF\n",
    "\n",
    "import sys, os\n",
    "\n",
    "f = open('$ASSEMBLY_PATH/assemblies.txt', 'r')\n",
    "\n",
    "for line in f:\n",
    "    assembly = line.split('\\n')[0]\n",
    "    assemblyName = line.split('/')[-1].split('.fa')[0]\n",
    "\n",
    "    os.system('bsub -J pilon \\\n",
    "    -m wkoppb50 \\\n",
    "    -n 60 \\\n",
    "    -o $WORKDIR/' + assemblyName + '_pilon-2.out \\\n",
    "    -e $WORKDIR/' + assemblyName + '_pilon-2.err \\\n",
    "    \"taskset -a -c 0-60 java -Xmx1500G -jar /software/bioinformatics/pilon-1.23/pilon-1.23.jar \\\n",
    "     --genome ' + assembly + ' \\\n",
    "     --frags $WORKDIR/' + assemblyName + '.sorted.bam \\\n",
    "     --output ' + assemblyName + '_pilon-2_corrected \\\n",
    "     --outdir $WORKDIR/ \\\n",
    "     --changes \\\n",
    "     --diploid \\\n",
    "     --fix all \\\n",
    "     --threads 60 \\\n",
    "     --flank 5\"')\n",
    "     \n",
    "f.close()\n",
    "\n",
    "EOF"
   ]
  },
  {
   "cell_type": "code",
   "execution_count": 59,
   "metadata": {},
   "outputs": [
    {
     "name": "stdout",
     "output_type": "stream",
     "text": [
      "bash: /workspace/hraczw/github/GA/Bilberry_genome/200.Pilon.correction: Is a directory\n"
     ]
    },
    {
     "ename": "",
     "evalue": "126",
     "output_type": "error",
     "traceback": []
    }
   ],
   "source": [
    "$WORKDIR"
   ]
  },
  {
   "cell_type": "code",
   "execution_count": 58,
   "metadata": {},
   "outputs": [
    {
     "name": "stdout",
     "output_type": "stream",
     "text": [
      "No unfinished job found\n"
     ]
    },
    {
     "ename": "",
     "evalue": "255",
     "output_type": "error",
     "traceback": []
    }
   ],
   "source": [
    "bjobs"
   ]
  }
 ],
 "metadata": {
  "kernelspec": {
   "display_name": "Bash",
   "language": "bash",
   "name": "bash"
  },
  "language_info": {
   "codemirror_mode": "shell",
   "file_extension": ".sh",
   "mimetype": "text/x-sh",
   "name": "bash"
  }
 },
 "nbformat": 4,
 "nbformat_minor": 4
}
