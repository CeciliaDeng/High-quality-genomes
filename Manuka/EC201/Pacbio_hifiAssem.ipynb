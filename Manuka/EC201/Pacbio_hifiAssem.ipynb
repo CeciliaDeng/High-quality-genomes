{
 "cells": [
  {
   "cell_type": "markdown",
   "id": "8ce57fab",
   "metadata": {},
   "source": [
    "# Pacbio hifi assembly"
   ]
  },
  {
   "cell_type": "markdown",
   "id": "be995064",
   "metadata": {},
   "source": [
    "Here we will see how the pacbio-hifi data go with EC201 assembly. One full smrtcell of data was generated for this."
   ]
  },
  {
   "cell_type": "code",
   "execution_count": 1,
   "id": "9ba7acf7",
   "metadata": {},
   "outputs": [
    {
     "name": "stdout",
     "output_type": "stream",
     "text": [
      "/powerplant/workspace/hraaxt/bioinf_manuka_v2/Genome/Pacbio_Assembly\n"
     ]
    }
   ],
   "source": [
    "pwd"
   ]
  },
  {
   "cell_type": "code",
   "execution_count": 5,
   "id": "63ac9279",
   "metadata": {},
   "outputs": [],
   "source": [
    "RAWDATA=\"/input/genomic/plant/Leptospermum/scoparium/EC_Genome/ExperimentRequestor10923/Leptosperum_scorparium/SMRTcell1/CCS_Data/\""
   ]
  },
  {
   "cell_type": "markdown",
   "id": "740c079e",
   "metadata": {},
   "source": [
    "# QC"
   ]
  },
  {
   "cell_type": "markdown",
   "id": "512811db",
   "metadata": {},
   "source": [
    "Look to use smrtlink qc tool to generate QC report. There appears to be a xml file - so lets try using that and see if it will work"
   ]
  },
  {
   "cell_type": "code",
   "execution_count": 22,
   "id": "048f619c",
   "metadata": {},
   "outputs": [],
   "source": [
    "SMRTLINK=\"/workspace/hraaxt/Tools/smrtLink11.0/smrtcmds/bin\""
   ]
  },
  {
   "cell_type": "code",
   "execution_count": 10,
   "id": "d86bcba8",
   "metadata": {},
   "outputs": [],
   "source": [
    "mkdir -p 00.QC/runqc_EC201"
   ]
  },
  {
   "cell_type": "code",
   "execution_count": null,
   "id": "8848a353",
   "metadata": {},
   "outputs": [],
   "source": [
    "${SMRTLINK}/runqc-reports -h"
   ]
  },
  {
   "cell_type": "code",
   "execution_count": 13,
   "id": "9d4f04c1",
   "metadata": {},
   "outputs": [
    {
     "name": "stdout",
     "output_type": "stream",
     "text": [
      "/powerplant/workspace/hraaxt/Tools/smrtLink11.0/install/smrtlink-release_11.0.0.146107/bundles/smrttools/install/smrttools-release_11.0.0.146107/private/thirdparty/python3/python3_3.9.6/site-packages/pbreports/plot/runqc.py:245: UserWarning: FixedFormatter should only be used together with FixedLocator\n",
      "  ax.set_xticklabels([\"{:g}\".format(t/1000) for t in xticks])\n",
      "/powerplant/workspace/hraaxt/Tools/smrtLink11.0/install/smrtlink-release_11.0.0.146107/bundles/smrttools/install/smrttools-release_11.0.0.146107/private/thirdparty/python3/python3_3.9.6/site-packages/pbreports/plot/runqc.py:77: UserWarning: FixedFormatter should only be used together with FixedLocator\n",
      "  axes.set_xticklabels([\"{:g}\".format(t/scale_xaxis) for t in xticks])\n",
      "/powerplant/workspace/hraaxt/Tools/smrtLink11.0/install/smrtlink-release_11.0.0.146107/bundles/smrttools/install/smrttools-release_11.0.0.146107/private/thirdparty/python3/python3_3.9.6/site-packages/pbreports/plot/runqc.py:213: UserWarning: FixedFormatter should only be used together with FixedLocator\n",
      "  axes.set_xticklabels([\"{:g}\".format(t/1000) for t in xticks])\n",
      "\n",
      "SUMMARY METRICS:\n",
      "    Adapter Report (00.QC/runqc_EC201/adapter.report.json):\n",
      "        Adapter Dimers (0-10bp) % : 0.0\n",
      "        Short Inserts (11-100bp) %: 0.0\n",
      "        Local Base Rate           : 2.7731\n",
      "    Loading Report (00.QC/runqc_EC201/loading.report.json):\n",
      "        Productive ZMWs: 8010893\n",
      "        Productivity 0 : 1751726\n",
      "        Productivity 1 : 6035917\n",
      "        Productivity 2 : 227028\n",
      "    Control Report (00.QC/runqc_EC201/control.report.json):\n",
      "        Number of Control Reads      : 3778\n",
      "        Control Read Length Mean     : 62179\n",
      "        Control Read Concordance Mean: 0.854259\n",
      "        Control Read Concordance Mode: 0.89\n",
      "    Raw Data Report (00.QC/runqc_EC201/raw_data.report.json):\n",
      "        Polymerase Read Bases        : 632223527084\n",
      "        Polymerase Reads             : 6032113\n",
      "        Polymerase Read Length (mean): 104809\n",
      "        Polymerase Read N50          : 218498\n",
      "        Subread Length (mean)        : 10273\n",
      "        Subread N50                  : 11903\n",
      "        Longest Subread Length (mean): 15971\n",
      "        Longest Subread N50          : 19288\n",
      "        Unique Molecular Yield       : 83150872576\n",
      "\n"
     ]
    }
   ],
   "source": [
    "${SMRTLINK}/runqc-reports -o 00.QC/runqc_EC201 /input/genomic/plant/Leptospermum/scoparium/EC_Genome/ExperimentRequestor10923/Leptosperum_scorparium/SMRTcell1/Raw_Data/m64136_220922_174629.subreadset.xml"
   ]
  },
  {
   "cell_type": "code",
   "execution_count": 27,
   "id": "d99aa093",
   "metadata": {},
   "outputs": [],
   "source": [
    "OUT=00.QC/runqc_EC201ccs"
   ]
  },
  {
   "cell_type": "code",
   "execution_count": 28,
   "id": "0ab150b6",
   "metadata": {},
   "outputs": [
    {
     "name": "stdout",
     "output_type": "stream",
     "text": [
      "ccs_processing.report.json  final.consensusreadset.xml\n",
      "ccs.report.csv.zip\t    m64136_220922_174629.hifi_reads.bam\n",
      "ccs.report.json\t\t    m64136_220922_174629.hifi_reads.fasta.gz\n",
      "ccs_tasks_report.json\t    m64136_220922_174629.hifi_reads.fastq.gz\n",
      "ccs_zmws.json.gz\t    reads.bam\n"
     ]
    }
   ],
   "source": [
    "ls ${RAWDATA}/"
   ]
  },
  {
   "cell_type": "code",
   "execution_count": 33,
   "id": "ce29d08b",
   "metadata": {},
   "outputs": [],
   "source": [
    "ln -s ${RAWDATA}/m64136_220922_174629.hifi_reads.bam ${OUT}/m64136_220922_174629.hifi_reads.bam"
   ]
  },
  {
   "cell_type": "code",
   "execution_count": 34,
   "id": "0b193802",
   "metadata": {},
   "outputs": [
    {
     "name": "stdout",
     "output_type": "stream",
     "text": [
      "total 120\n",
      "-rw-rw-r--. 1 hraaxt powerplant 3207 Oct 12 13:24 578026.err\n",
      "-rw-rw-r--. 1 hraaxt powerplant 2940 Oct 12 13:24 578026.out\n",
      "lrwxrwxrwx. 1 hraaxt powerplant  157 Oct 12 13:34 m64136_220922_174629.hifi_reads.bam -> /input/genomic/plant/Leptospermum/scoparium/EC_Genome/ExperimentRequestor10923/Leptosperum_scorparium/SMRTcell1/CCS_Data//m64136_220922_174629.hifi_reads.bam\n"
     ]
    }
   ],
   "source": [
    "ll $OUT"
   ]
  },
  {
   "cell_type": "code",
   "execution_count": 35,
   "id": "8fdd484e",
   "metadata": {},
   "outputs": [
    {
     "name": "stdout",
     "output_type": "stream",
     "text": [
      "Submitted batch job 578029\n"
     ]
    }
   ],
   "source": [
    "sbatch << EOF\n",
    "#!/bin/bash\n",
    "#SBATCH -J smrtlink\n",
    "#SBATCH -o ${OUT}/%J.out\n",
    "#SBATCH -e ${OUT}/%J.err\n",
    "#SBATCH --cpus-per-task=2\n",
    "#SBATCH --mem=100G\n",
    "#SBATCH --time=01:00:00\n",
    "\n",
    "${SMRTLINK}/dataset create --type ConsensusReadSet --generateIndices ${OUT}/m64136_220922_174629.hifi_reads.xml ${OUT}/m64136_220922_174629.hifi_reads.bam\n",
    "\n",
    "EOF"
   ]
  },
  {
   "cell_type": "code",
   "execution_count": 2,
   "id": "8baf58c9",
   "metadata": {},
   "outputs": [
    {
     "name": "stdout",
     "output_type": "stream",
     "text": [
      "JobID           JobName  Partition    Account  AllocCPUS      State ExitCode \n",
      "------------ ---------- ---------- ---------- ---------- ---------- -------- \n",
      "578029         smrtlink       fast powerplant          2  COMPLETED      0:0 \n",
      "578029.batch      batch            powerplant          2  COMPLETED      0:0 \n",
      "578029.exte+     extern            powerplant          2  COMPLETED      0:0 \n"
     ]
    }
   ],
   "source": [
    "sacct -j 578029"
   ]
  },
  {
   "cell_type": "code",
   "execution_count": 19,
   "id": "ad35cc7c",
   "metadata": {},
   "outputs": [
    {
     "name": "stdout",
     "output_type": "stream",
     "text": [
      "[WARNING] 2022-10-11 00:59:44,101Z [pbcore.io.dataset.DataSetIO openDataSet 75] Resource /gscmnt/gc13036/production/smrtlink_jobs_root/cromwell-executions/pb_ccs/a88d8526-dbd2-47b6-9229-8da429efa5ea/call-consolidate_reads_bam/execution/reads.bam not found: trying again with symlinks resolved\n",
      "Resource /gscmnt/gc13036/production/smrtlink_jobs_root/cromwell-executions/pb_ccs/a88d8526-dbd2-47b6-9229-8da429efa5ea/call-consolidate_reads_bam/execution/reads.bam not found\n",
      "Traceback (most recent call last):\n",
      "  File \"/powerplant/workspace/hraaxt/Tools/smrtLink11.0/install/smrtlink-release_11.0.0.146107/bundles/smrttools/install/smrttools-release_11.0.0.146107/private/thirdparty/python3/python3_3.9.6/site-packages/pbcore/io/dataset/DataSetIO.py\", line 71, in openDataSet\n",
      "    return _openDataSet(*files, **kwargs)\n",
      "  File \"/powerplant/workspace/hraaxt/Tools/smrtLink11.0/install/smrtlink-release_11.0.0.146107/bundles/smrttools/install/smrttools-release_11.0.0.146107/private/thirdparty/python3/python3_3.9.6/site-packages/pbcore/io/dataset/DataSetIO.py\", line 89, in _openDataSet\n",
      "    return tbrType(*files, **kwargs)\n",
      "  File \"/powerplant/workspace/hraaxt/Tools/smrtLink11.0/install/smrtlink-release_11.0.0.146107/bundles/smrttools/install/smrttools-release_11.0.0.146107/private/thirdparty/python3/python3_3.9.6/site-packages/pbcore/io/dataset/DataSetIO.py\", line 2084, in __init__\n",
      "    super().__init__(*files, **kwargs)\n",
      "  File \"/powerplant/workspace/hraaxt/Tools/smrtLink11.0/install/smrtlink-release_11.0.0.146107/bundles/smrttools/install/smrttools-release_11.0.0.146107/private/thirdparty/python3/python3_3.9.6/site-packages/pbcore/io/dataset/DataSetIO.py\", line 454, in __init__\n",
      "    self._modResources(_fileExists)\n",
      "  File \"/powerplant/workspace/hraaxt/Tools/smrtLink11.0/install/smrtlink-release_11.0.0.146107/bundles/smrttools/install/smrttools-release_11.0.0.146107/private/thirdparty/python3/python3_3.9.6/site-packages/pbcore/io/dataset/DataSetIO.py\", line 1331, in _modResources\n",
      "    func(item)\n",
      "  File \"/powerplant/workspace/hraaxt/Tools/smrtLink11.0/install/smrtlink-release_11.0.0.146107/bundles/smrttools/install/smrttools-release_11.0.0.146107/private/thirdparty/python3/python3_3.9.6/site-packages/pbcore/io/dataset/DataSetIO.py\", line 304, in _fileExists\n",
      "    raise MissingFileError(\"Resource {f} not found\".format(f=fname))\n",
      "pbcore.io.dataset.DataSetIO.MissingFileError: Resource /gscmnt/gc13036/production/smrtlink_jobs_root/cromwell-executions/pb_ccs/a88d8526-dbd2-47b6-9229-8da429efa5ea/call-consolidate_reads_bam/execution/reads.bam not found\n",
      "\n",
      "During handling of the above exception, another exception occurred:\n",
      "\n",
      "Traceback (most recent call last):\n",
      "  File \"/powerplant/workspace/hraaxt/Tools/smrtLink11.0/install/smrtlink-release_11.0.0.146107/bundles/smrttools/install/smrttools-release_11.0.0.146107/private/thirdparty/python3/python3_3.9.6/site-packages/pbcommand/cli/core.py\", line 175, in _pacbio_main_runner\n",
      "    return_code = exe_main_func(*args, **kwargs)\n",
      "  File \"/powerplant/workspace/hraaxt/Tools/smrtLink11.0/install/smrtlink-release_11.0.0.146107/bundles/smrttools/install/smrttools-release_11.0.0.146107/private/thirdparty/python3/python3_3.9.6/site-packages/pbreports/tasks/import_dataset_reports.py\", line 129, in args_runner\n",
      "    n_reports = to_reports(args.dataset_xml, args.output_dir)\n",
      "  File \"/powerplant/workspace/hraaxt/Tools/smrtLink11.0/install/smrtlink-release_11.0.0.146107/bundles/smrttools/install/smrttools-release_11.0.0.146107/private/thirdparty/python3/python3_3.9.6/site-packages/pbreports/tasks/import_dataset_reports.py\", line 91, in to_reports\n",
      "    ds = openDataSet(dataset_xml, strict=False, trustCounts=True)\n",
      "  File \"/powerplant/workspace/hraaxt/Tools/smrtLink11.0/install/smrtlink-release_11.0.0.146107/bundles/smrttools/install/smrttools-release_11.0.0.146107/private/thirdparty/python3/python3_3.9.6/site-packages/pbcore/io/dataset/DataSetIO.py\", line 82, in openDataSet\n",
      "    return _openDataSet(*rfiles, **kwargs)\n",
      "  File \"/powerplant/workspace/hraaxt/Tools/smrtLink11.0/install/smrtlink-release_11.0.0.146107/bundles/smrttools/install/smrttools-release_11.0.0.146107/private/thirdparty/python3/python3_3.9.6/site-packages/pbcore/io/dataset/DataSetIO.py\", line 89, in _openDataSet\n",
      "    return tbrType(*files, **kwargs)\n",
      "  File \"/powerplant/workspace/hraaxt/Tools/smrtLink11.0/install/smrtlink-release_11.0.0.146107/bundles/smrttools/install/smrttools-release_11.0.0.146107/private/thirdparty/python3/python3_3.9.6/site-packages/pbcore/io/dataset/DataSetIO.py\", line 2084, in __init__\n",
      "    super().__init__(*files, **kwargs)\n",
      "  File \"/powerplant/workspace/hraaxt/Tools/smrtLink11.0/install/smrtlink-release_11.0.0.146107/bundles/smrttools/install/smrttools-release_11.0.0.146107/private/thirdparty/python3/python3_3.9.6/site-packages/pbcore/io/dataset/DataSetIO.py\", line 454, in __init__\n",
      "    self._modResources(_fileExists)\n",
      "  File \"/powerplant/workspace/hraaxt/Tools/smrtLink11.0/install/smrtlink-release_11.0.0.146107/bundles/smrttools/install/smrttools-release_11.0.0.146107/private/thirdparty/python3/python3_3.9.6/site-packages/pbcore/io/dataset/DataSetIO.py\", line 1331, in _modResources\n",
      "    func(item)\n",
      "  File \"/powerplant/workspace/hraaxt/Tools/smrtLink11.0/install/smrtlink-release_11.0.0.146107/bundles/smrttools/install/smrttools-release_11.0.0.146107/private/thirdparty/python3/python3_3.9.6/site-packages/pbcore/io/dataset/DataSetIO.py\", line 304, in _fileExists\n",
      "    raise MissingFileError(\"Resource {f} not found\".format(f=fname))\n",
      "pbcore.io.dataset.DataSetIO.MissingFileError: Resource /gscmnt/gc13036/production/smrtlink_jobs_root/cromwell-executions/pb_ccs/a88d8526-dbd2-47b6-9229-8da429efa5ea/call-consolidate_reads_bam/execution/reads.bam not found\n",
      "[ERROR] 2022-10-11 00:59:44,105Z [pbreports.tasks.import_dataset_reports _pacbio_main_runner 180] Resource /gscmnt/gc13036/production/smrtlink_jobs_root/cromwell-executions/pb_ccs/a88d8526-dbd2-47b6-9229-8da429efa5ea/call-consolidate_reads_bam/execution/reads.bam not found\n",
      "Traceback (most recent call last):\n",
      "  File \"/powerplant/workspace/hraaxt/Tools/smrtLink11.0/install/smrtlink-release_11.0.0.146107/bundles/smrttools/install/smrttools-release_11.0.0.146107/private/thirdparty/python3/python3_3.9.6/site-packages/pbcore/io/dataset/DataSetIO.py\", line 71, in openDataSet\n",
      "    return _openDataSet(*files, **kwargs)\n",
      "  File \"/powerplant/workspace/hraaxt/Tools/smrtLink11.0/install/smrtlink-release_11.0.0.146107/bundles/smrttools/install/smrttools-release_11.0.0.146107/private/thirdparty/python3/python3_3.9.6/site-packages/pbcore/io/dataset/DataSetIO.py\", line 89, in _openDataSet\n",
      "    return tbrType(*files, **kwargs)\n",
      "  File \"/powerplant/workspace/hraaxt/Tools/smrtLink11.0/install/smrtlink-release_11.0.0.146107/bundles/smrttools/install/smrttools-release_11.0.0.146107/private/thirdparty/python3/python3_3.9.6/site-packages/pbcore/io/dataset/DataSetIO.py\", line 2084, in __init__\n",
      "    super().__init__(*files, **kwargs)\n",
      "  File \"/powerplant/workspace/hraaxt/Tools/smrtLink11.0/install/smrtlink-release_11.0.0.146107/bundles/smrttools/install/smrttools-release_11.0.0.146107/private/thirdparty/python3/python3_3.9.6/site-packages/pbcore/io/dataset/DataSetIO.py\", line 454, in __init__\n",
      "    self._modResources(_fileExists)\n",
      "  File \"/powerplant/workspace/hraaxt/Tools/smrtLink11.0/install/smrtlink-release_11.0.0.146107/bundles/smrttools/install/smrttools-release_11.0.0.146107/private/thirdparty/python3/python3_3.9.6/site-packages/pbcore/io/dataset/DataSetIO.py\", line 1331, in _modResources\n",
      "    func(item)\n",
      "  File \"/powerplant/workspace/hraaxt/Tools/smrtLink11.0/install/smrtlink-release_11.0.0.146107/bundles/smrttools/install/smrttools-release_11.0.0.146107/private/thirdparty/python3/python3_3.9.6/site-packages/pbcore/io/dataset/DataSetIO.py\", line 304, in _fileExists\n",
      "    raise MissingFileError(\"Resource {f} not found\".format(f=fname))\n",
      "pbcore.io.dataset.DataSetIO.MissingFileError: Resource /gscmnt/gc13036/production/smrtlink_jobs_root/cromwell-executions/pb_ccs/a88d8526-dbd2-47b6-9229-8da429efa5ea/call-consolidate_reads_bam/execution/reads.bam not found\n",
      "\n",
      "During handling of the above exception, another exception occurred:\n",
      "\n",
      "Traceback (most recent call last):\n",
      "  File \"/powerplant/workspace/hraaxt/Tools/smrtLink11.0/install/smrtlink-release_11.0.0.146107/bundles/smrttools/install/smrttools-release_11.0.0.146107/private/thirdparty/python3/python3_3.9.6/site-packages/pbcommand/cli/core.py\", line 175, in _pacbio_main_runner\n"
     ]
    },
    {
     "name": "stdout",
     "output_type": "stream",
     "text": [
      "    return_code = exe_main_func(*args, **kwargs)\n",
      "  File \"/powerplant/workspace/hraaxt/Tools/smrtLink11.0/install/smrtlink-release_11.0.0.146107/bundles/smrttools/install/smrttools-release_11.0.0.146107/private/thirdparty/python3/python3_3.9.6/site-packages/pbreports/tasks/import_dataset_reports.py\", line 129, in args_runner\n",
      "    n_reports = to_reports(args.dataset_xml, args.output_dir)\n",
      "  File \"/powerplant/workspace/hraaxt/Tools/smrtLink11.0/install/smrtlink-release_11.0.0.146107/bundles/smrttools/install/smrttools-release_11.0.0.146107/private/thirdparty/python3/python3_3.9.6/site-packages/pbreports/tasks/import_dataset_reports.py\", line 91, in to_reports\n",
      "    ds = openDataSet(dataset_xml, strict=False, trustCounts=True)\n",
      "  File \"/powerplant/workspace/hraaxt/Tools/smrtLink11.0/install/smrtlink-release_11.0.0.146107/bundles/smrttools/install/smrttools-release_11.0.0.146107/private/thirdparty/python3/python3_3.9.6/site-packages/pbcore/io/dataset/DataSetIO.py\", line 82, in openDataSet\n",
      "    return _openDataSet(*rfiles, **kwargs)\n",
      "  File \"/powerplant/workspace/hraaxt/Tools/smrtLink11.0/install/smrtlink-release_11.0.0.146107/bundles/smrttools/install/smrttools-release_11.0.0.146107/private/thirdparty/python3/python3_3.9.6/site-packages/pbcore/io/dataset/DataSetIO.py\", line 89, in _openDataSet\n",
      "    return tbrType(*files, **kwargs)\n",
      "  File \"/powerplant/workspace/hraaxt/Tools/smrtLink11.0/install/smrtlink-release_11.0.0.146107/bundles/smrttools/install/smrttools-release_11.0.0.146107/private/thirdparty/python3/python3_3.9.6/site-packages/pbcore/io/dataset/DataSetIO.py\", line 2084, in __init__\n",
      "    super().__init__(*files, **kwargs)\n",
      "  File \"/powerplant/workspace/hraaxt/Tools/smrtLink11.0/install/smrtlink-release_11.0.0.146107/bundles/smrttools/install/smrttools-release_11.0.0.146107/private/thirdparty/python3/python3_3.9.6/site-packages/pbcore/io/dataset/DataSetIO.py\", line 454, in __init__\n",
      "    self._modResources(_fileExists)\n",
      "  File \"/powerplant/workspace/hraaxt/Tools/smrtLink11.0/install/smrtlink-release_11.0.0.146107/bundles/smrttools/install/smrttools-release_11.0.0.146107/private/thirdparty/python3/python3_3.9.6/site-packages/pbcore/io/dataset/DataSetIO.py\", line 1331, in _modResources\n",
      "    func(item)\n",
      "  File \"/powerplant/workspace/hraaxt/Tools/smrtLink11.0/install/smrtlink-release_11.0.0.146107/bundles/smrttools/install/smrttools-release_11.0.0.146107/private/thirdparty/python3/python3_3.9.6/site-packages/pbcore/io/dataset/DataSetIO.py\", line 304, in _fileExists\n",
      "    raise MissingFileError(\"Resource {f} not found\".format(f=fname))\n",
      "pbcore.io.dataset.DataSetIO.MissingFileError: Resource /gscmnt/gc13036/production/smrtlink_jobs_root/cromwell-executions/pb_ccs/a88d8526-dbd2-47b6-9229-8da429efa5ea/call-consolidate_reads_bam/execution/reads.bam not found\n"
     ]
    },
    {
     "ename": "",
     "evalue": "2",
     "output_type": "error",
     "traceback": []
    }
   ],
   "source": [
    "mkdir -p 00.QC/runqc_EC201ccs\n",
    "${SMRTLINK}/runqc-reports -o 00.QC/runqc_EC201ccs ${RAWDATA}/final.consensusreadset.xml"
   ]
  },
  {
   "cell_type": "markdown",
   "id": "271c9f46",
   "metadata": {},
   "source": [
    "# Long read assembly"
   ]
  },
  {
   "cell_type": "code",
   "execution_count": 6,
   "id": "b39e0895",
   "metadata": {},
   "outputs": [],
   "source": [
    "#no change in version since last install\n",
    "HIFIASM=\"/workspace/hraaxt/Tools/hifiasm-meta\""
   ]
  },
  {
   "cell_type": "code",
   "execution_count": 7,
   "id": "16e996da",
   "metadata": {},
   "outputs": [
    {
     "name": "stdout",
     "output_type": "stream",
     "text": [
      "Usage: hifiasm_meta 0.2-r058 (hifiasm code base 0.13-r308)\n",
      "Options:\n",
      "  Input/Output:\n",
      "    -o STR      prefix of output files [hifiasm_meta.asm]\n",
      "    -B STR      prefix of bin files, if it's different from -o [hifiasm_meta.asm]\n",
      "    -i          ignore saved read correction and overlaps\n",
      "    -t INT      number of threads [1]\n",
      "    -z INT      length of adapters that should be removed [0]\n",
      "    --version   show version number\n",
      "  Read selection:\n",
      "    --force-preovec\n",
      "                enable and force read selection.\n",
      "    --lowq-10\n",
      "                lower 10% runtime kmer frequency threshold. [50]\n",
      "    --lowq-5\n",
      "                lower 5% runtime kmer frequency threshold. [50]\n",
      "    --lowq-3\n",
      "                lower 3% runtime kmer frequency threshold. [10]\n",
      "  Overlap/Error correction:\n",
      "    -k INT      k-mer length (must be <64) [51]\n",
      "    -w INT      minimizer window size [51]\n",
      "    -f INT      number of bits for bloom filter; 0 to disable [37]\n",
      "    -D FLOAT    drop k-mers occurring >FLOAT*coverage times [5.0]\n",
      "    -N INT      consider up to max(-D*coverage,-N) overlaps for each oriented read [100]\n",
      "    -r INT      round of correction [3]\n",
      "  Assembly:\n",
      "    -a INT      round of assembly cleaning [4]\n",
      "    -n INT      remove tip unitigs composed of <=INT reads [3]\n",
      "    -x FLOAT    max overlap drop ratio [0.8]\n",
      "    -y FLOAT    min overlap drop ratio [0.2]\n",
      "  Auxiliary:\n",
      "    -e          ban assembly, i.e. terminate before generating string graph\n",
      "    --write-paf dump overlaps (paf).\n",
      "    --dump-all-ovlp\n",
      "                dump all overlaps ever calculated in the final overlapping (paf).\n",
      "    --write-ec\n",
      "                dump error corrected reads (fasta).\n",
      "Example: ./hifiasm_meta -o asm -t 32 asm.fq.gz 2>log\n",
      "See `man ./hifiasm_meta.1` for detailed descriptions command-line options.\n"
     ]
    },
    {
     "ename": "",
     "evalue": "1",
     "output_type": "error",
     "traceback": []
    }
   ],
   "source": [
    "${HIFIASM}/hifiasm_meta "
   ]
  },
  {
   "cell_type": "code",
   "execution_count": 11,
   "id": "ecebf6f1",
   "metadata": {},
   "outputs": [],
   "source": [
    "OUT=03.hifiasm_meta\n",
    "LOGS=03.hifiasm_meta/logs\n",
    "mkdir -p $OUT $LOGS"
   ]
  },
  {
   "cell_type": "code",
   "execution_count": 12,
   "id": "ebb1e2bc",
   "metadata": {},
   "outputs": [
    {
     "name": "stdout",
     "output_type": "stream",
     "text": [
      "Submitted batch job 578016\n",
      "             JOBID PARTITION     NAME     USER ST       TIME  NODES NODELIST(REASON)\n",
      "            578016     short hifimeta   hraaxt PD       0:00      1 (None)\n"
     ]
    }
   ],
   "source": [
    "sbatch << EOF\n",
    "#!/bin/bash\n",
    "#SBATCH -J hifimeta\n",
    "#SBATCH -o ${OUT}/%J.out\n",
    "#SBATCH -e ${OUT}/%J.err\n",
    "#SBATCH --cpus-per-task=30\n",
    "#SBATCH --mem=200G\n",
    "#SBATCH --time=1-00:00:00\n",
    "\n",
    "\n",
    "${HIFIASM}/hifiasm_meta -o ${OUT}/EC201_hifi_asm_meta -t 30 ${RAWDATA}/m64136_220922_174629.hifi_reads.fastq.gz\n",
    "\n",
    "EOF\n",
    "squeue -u hraaxt"
   ]
  },
  {
   "cell_type": "code",
   "execution_count": 1,
   "id": "e51fbee9",
   "metadata": {},
   "outputs": [
    {
     "name": "stdout",
     "output_type": "stream",
     "text": [
      "JobID           JobName  Partition    Account  AllocCPUS      State ExitCode \n",
      "------------ ---------- ---------- ---------- ---------- ---------- -------- \n",
      "578016         hifimeta      short powerplant         30  COMPLETED      0:0 \n",
      "578016.batch      batch            powerplant         30  COMPLETED      0:0 \n",
      "578016.exte+     extern            powerplant         30  COMPLETED      0:0 \n"
     ]
    }
   ],
   "source": [
    "sacct -j 578016"
   ]
  },
  {
   "cell_type": "code",
   "execution_count": 4,
   "id": "812e7368",
   "metadata": {},
   "outputs": [
    {
     "name": "stdout",
     "output_type": "stream",
     "text": [
      "575755.err\t\t\t     EC201_hifi_asm_meta.ovecinfo.bin\n",
      "575755.out\t\t\t     EC201_hifi_asm_meta.ovlp.reverse.bin\n",
      "575816.err\t\t\t     EC201_hifi_asm_meta.ovlp.source.bin\n",
      "575816.out\t\t\t     EC201_hifi_asm_meta.p_ctg.gfa\n",
      "578016.err\t\t\t     EC201_hifi_asm_meta.p_ctg.noseq.gfa\n",
      "578016.out\t\t\t     EC201_hifi_asm_meta.p_utg.gfa\n",
      "EC201_hifi_asm_meta.a_ctg.gfa\t     EC201_hifi_asm_meta.p_utg.noseq.gfa\n",
      "EC201_hifi_asm_meta.a_ctg.noseq.gfa  EC201_hifi_asm_meta.r_utg.gfa\n",
      "EC201_hifi_asm_meta.cmd\t\t     EC201_hifi_asm_meta.r_utg.noseq.gfa\n",
      "EC201_hifi_asm_meta.ec.bin\t     logs\n",
      "EC201_hifi_asm_meta.ec.mt.bin\n"
     ]
    }
   ],
   "source": [
    "ls 03.hifiasm_meta"
   ]
  },
  {
   "cell_type": "code",
   "execution_count": 5,
   "id": "bdb6d8a0",
   "metadata": {},
   "outputs": [],
   "source": [
    "awk '/^S/{print \">\"$2;print $3}' 03.hifiasm_meta/EC201_hifi_asm_meta.p_ctg.gfa > 03.hifiasm_meta/EC201_hifi_asm_meta.p_ctg.fasta"
   ]
  },
  {
   "cell_type": "code",
   "execution_count": 6,
   "id": "de5065ef",
   "metadata": {},
   "outputs": [
    {
     "name": "stdout",
     "output_type": "stream",
     "text": [
      "Loading \u001b[1massemblathon_stats/14dfdab\u001b[22m\n",
      "  \u001b[94mLoading requirement\u001b[0m: geneid/v1.4.4 wise/2.4.1 hmmer/3.1b2 ncbi-blast/2.2.25\n",
      "    cegma/v2.5\n"
     ]
    }
   ],
   "source": [
    "module load assemblathon_stats/14dfdab"
   ]
  },
  {
   "cell_type": "code",
   "execution_count": 7,
   "id": "6649fb0c",
   "metadata": {},
   "outputs": [
    {
     "name": "stdout",
     "output_type": "stream",
     "text": [
      "\n",
      "---------------- Information for assembly '03.hifiasm_meta/EC201_hifi_asm_meta.p_ctg.fasta' ----------------\n",
      "\n",
      "\n",
      "                                         Number of scaffolds       1314\n",
      "                                     Total size of scaffolds  645488309\n",
      "                                            Longest scaffold   21587734\n",
      "                                           Shortest scaffold       5424\n",
      "                                 Number of scaffolds > 1K nt       1314 100.0%\n",
      "                                Number of scaffolds > 10K nt       1277  97.2%\n",
      "                               Number of scaffolds > 100K nt        157  11.9%\n",
      "                                 Number of scaffolds > 1M nt        119   9.1%\n",
      "                                Number of scaffolds > 10M nt         16   1.2%\n",
      "                                          Mean scaffold size     491239\n",
      "                                        Median scaffold size      24000\n",
      "                                         N50 scaffold length    6400380\n",
      "                                          L50 scaffold count         31\n",
      "                                                 scaffold %A      29.80\n",
      "                                                 scaffold %C      20.19\n",
      "                                                 scaffold %G      20.26\n",
      "                                                 scaffold %T      29.75\n",
      "                                                 scaffold %N       0.00\n",
      "                                         scaffold %non-ACGTN       0.00\n",
      "                             Number of scaffold non-ACGTN nt          0\n",
      "\n",
      "                Percentage of assembly in scaffolded contigs       0.0%\n",
      "              Percentage of assembly in unscaffolded contigs     100.0%\n",
      "                      Average number of contigs per scaffold        1.0\n",
      "  Mean length of breaks (>=25Ns) between contigs in scaffold          0\n",
      "\n",
      "                                           Number of contigs       1314\n",
      "                              Number of contigs in scaffolds          0\n",
      "                          Number of contigs not in scaffolds       1314\n",
      "                                       Total size of contigs  645488309\n",
      "                                              Longest contig   21587734\n",
      "                                             Shortest contig       5424\n",
      "                                   Number of contigs > 1K nt       1314 100.0%\n",
      "                                  Number of contigs > 10K nt       1277  97.2%\n",
      "                                 Number of contigs > 100K nt        157  11.9%\n",
      "                                   Number of contigs > 1M nt        119   9.1%\n",
      "                                  Number of contigs > 10M nt         16   1.2%\n",
      "                                            Mean contig size     491239\n",
      "                                          Median contig size      24000\n",
      "                                           N50 contig length    6400380\n",
      "                                            L50 contig count         31\n",
      "                                                   contig %A      29.80\n",
      "                                                   contig %C      20.19\n",
      "                                                   contig %G      20.26\n",
      "                                                   contig %T      29.75\n",
      "                                                   contig %N       0.00\n",
      "                                           contig %non-ACGTN       0.00\n",
      "                               Number of contig non-ACGTN nt          0\n"
     ]
    }
   ],
   "source": [
    "assemblathon_stats.pl 03.hifiasm_meta/EC201_hifi_asm_meta.p_ctg.fasta"
   ]
  },
  {
   "cell_type": "code",
   "execution_count": 8,
   "id": "39cc8fa4",
   "metadata": {},
   "outputs": [
    {
     "name": "stdout",
     "output_type": "stream",
     "text": [
      "Loading \u001b[1mBUSCO/v3.0.2\u001b[22m\n",
      "  \u001b[94mLoading requirement\u001b[0m: pfr-python3/3.6.1 boost/1_61_0 bamtools/2.4.0\n",
      "    perl/bio-extras augustus/3.2.2 emboss/6.5.7\n"
     ]
    }
   ],
   "source": [
    "#run the same version as ONT runs to compare\n",
    "module unload perl\n",
    "module load BUSCO/v3.0.2"
   ]
  },
  {
   "cell_type": "code",
   "execution_count": 5,
   "id": "38fdf4d0",
   "metadata": {},
   "outputs": [],
   "source": [
    "#august config issue solution\n",
    "export AUGUSTUS_CONFIG_PATH=\"/workspace/ComparativeDataSources/augustus-3.2.2/config\""
   ]
  },
  {
   "cell_type": "code",
   "execution_count": 10,
   "id": "7474930e",
   "metadata": {},
   "outputs": [],
   "source": [
    "cp ../ONT_Assembly/flye.norm.config.ini hifiasm.meta.config.ini\n",
    "mkdir -p 07.BUSCO_3.0.2 07.BUSCO_3.0.2/logs"
   ]
  },
  {
   "cell_type": "code",
   "execution_count": 11,
   "id": "8433219b",
   "metadata": {},
   "outputs": [
    {
     "name": "stdout",
     "output_type": "stream",
     "text": [
      "/powerplant/workspace/hraaxt/bioinf_manuka_v2/Genome/Pacbio_Assembly\n"
     ]
    }
   ],
   "source": [
    "pwd"
   ]
  },
  {
   "cell_type": "code",
   "execution_count": 12,
   "id": "1a637bcd",
   "metadata": {},
   "outputs": [
    {
     "name": "stdout",
     "output_type": "stream",
     "text": [
      "Submitted batch job 584520\n"
     ]
    }
   ],
   "source": [
    "export BUSCO_CONFIG_FILE=`pwd`/hifiasm.meta.config.ini\n",
    "sbatch << EOF\n",
    "#!/bin/bash\n",
    "#SBATCH -J hifiasm\n",
    "#SBATCH -o 07.BUSCO_3.0.2/%J.out\n",
    "#SBATCH -e 07.BUSCO_3.0.2/%J.err\n",
    "#SBATCH --cpus-per-task=12\n",
    "#SBATCH --mem=80G\n",
    "#SBATCH --time=02:00:00\n",
    "\n",
    "run_BUSCO.py -i 03.hifiasm_meta/EC201_hifi_asm_meta.p_ctg.fasta -m genome\n",
    "EOF"
   ]
  },
  {
   "cell_type": "code",
   "execution_count": 13,
   "id": "e1f41392",
   "metadata": {},
   "outputs": [
    {
     "name": "stdout",
     "output_type": "stream",
     "text": [
      "JobID           JobName  Partition    Account  AllocCPUS      State ExitCode \n",
      "------------ ---------- ---------- ---------- ---------- ---------- -------- \n",
      "584520          hifiasm       fast powerplant         12    RUNNING      0:0 \n",
      "584520.batch      batch            powerplant         12    RUNNING      0:0 \n",
      "584520.exte+     extern            powerplant         12    RUNNING      0:0 \n"
     ]
    }
   ],
   "source": [
    "sacct -j 584520"
   ]
  },
  {
   "cell_type": "code",
   "execution_count": 8,
   "id": "480ef307",
   "metadata": {},
   "outputs": [],
   "source": [
    "module unload BUSCO/v3.0.2"
   ]
  },
  {
   "cell_type": "code",
   "execution_count": 9,
   "id": "2f6b55eb",
   "metadata": {},
   "outputs": [
    {
     "name": "stdout",
     "output_type": "stream",
     "text": [
      "Loading \u001b[1mBUSCO/v5.1.2\u001b[22m\n",
      "  \u001b[94mLoading requirement\u001b[0m: singularity/3\n"
     ]
    }
   ],
   "source": [
    "module load BUSCO/v5.1.2"
   ]
  },
  {
   "cell_type": "code",
   "execution_count": 11,
   "id": "a2db2f9d",
   "metadata": {},
   "outputs": [
    {
     "name": "stdout",
     "output_type": "stream",
     "text": [
      "BUSCO 5.1.2\n"
     ]
    }
   ],
   "source": [
    "busco -v"
   ]
  },
  {
   "cell_type": "code",
   "execution_count": 12,
   "id": "aab59d4c",
   "metadata": {},
   "outputs": [
    {
     "name": "stdout",
     "output_type": "stream",
     "text": [
      "Submitted batch job 584617\n",
      "             JOBID PARTITION     NAME     USER ST       TIME  NODES NODELIST(REASON)\n",
      "            584617      fast hifiasm_   hraaxt PD       0:00      1 (None)\n",
      "            584614      fast norm_bus   hraaxt  R       1:09      1 aklppb30\n",
      "            584520      fast  hifiasm   hraaxt  R      26:33      1 aklppb30\n"
     ]
    }
   ],
   "source": [
    "#to cross compare to other lepto assemblies\n",
    "OUTB=07b.Busco_v5.1.2\n",
    "mkdir -p $OUTB\n",
    "\n",
    "sbatch << EOF\n",
    "#!/bin/bash\n",
    "#SBATCH -J hifiasm_busco5.1.2\n",
    "#SBATCH -o ${OUTB}/%J.out\n",
    "#SBATCH -e ${OUTB}/%J.err\n",
    "#SBATCH --cpus-per-task=24\n",
    "#SBATCH --mem=50G\n",
    "#SBATCH --time=02:00:00\n",
    "\n",
    "busco -c 24 -i 03.hifiasm_meta/EC201_hifi_asm_meta.p_ctg.fasta --out_path ${OUTB} \\\n",
    "-o EC201_phifi_hifiasm_meta_B5.1.2 -l embryophyta_odb10 -m genome\n",
    "\n",
    "EOF\n",
    "squeue -u hraaxt"
   ]
  },
  {
   "cell_type": "code",
   "execution_count": 3,
   "id": "ddd9b8c5",
   "metadata": {},
   "outputs": [],
   "source": [
    "module unload BUSCO/v5.1.2"
   ]
  },
  {
   "cell_type": "code",
   "execution_count": 1,
   "id": "f531cf0e",
   "metadata": {},
   "outputs": [
    {
     "name": "stdout",
     "output_type": "stream",
     "text": [
      "JobID           JobName  Partition    Account  AllocCPUS      State ExitCode \n",
      "------------ ---------- ---------- ---------- ---------- ---------- -------- \n",
      "584533            ec201       fast powerplant         24     FAILED    127:0 \n",
      "584533.batch      batch            powerplant         24     FAILED    127:0 \n",
      "584533.exte+     extern            powerplant         24  COMPLETED      0:0 \n"
     ]
    }
   ],
   "source": [
    "sacct -j 584533"
   ]
  },
  {
   "cell_type": "markdown",
   "id": "1e4b724b",
   "metadata": {},
   "source": [
    "## Hifiasm (normal mode)"
   ]
  },
  {
   "cell_type": "code",
   "execution_count": 15,
   "id": "ac830a73",
   "metadata": {},
   "outputs": [],
   "source": [
    "HIFIASMNorm=\"/powerplant/workspace/cflcyd/git/hifiasm\""
   ]
  },
  {
   "cell_type": "code",
   "execution_count": 16,
   "id": "4a036107",
   "metadata": {},
   "outputs": [
    {
     "name": "stdout",
     "output_type": "stream",
     "text": [
      "0.15.4-r343\n"
     ]
    }
   ],
   "source": [
    "$HIFIASMNorm/hifiasm -v"
   ]
  },
  {
   "cell_type": "code",
   "execution_count": 17,
   "id": "697ae4ec",
   "metadata": {},
   "outputs": [
    {
     "name": "stdout",
     "output_type": "stream",
     "text": [
      "/input/genomic/plant/Leptospermum/scoparium/EC_Genome/ExperimentRequestor10923/Leptosperum_scorparium/SMRTcell1/CCS_Data//m64136_220922_174629.hifi_reads.fastq.gz\n"
     ]
    }
   ],
   "source": [
    "echo ${RAWDATA}/m64136_220922_174629.hifi_reads.fastq.gz"
   ]
  },
  {
   "cell_type": "code",
   "execution_count": 18,
   "id": "cd051f34",
   "metadata": {},
   "outputs": [
    {
     "name": "stdout",
     "output_type": "stream",
     "text": [
      "Submitted batch job 578018\n"
     ]
    }
   ],
   "source": [
    "OUT_HN=05.EC201_hifi_asmNorm\n",
    "mkdir -p $OUT_HN\n",
    "\n",
    "sbatch << EOF\n",
    "#!/bin/bash\n",
    "#SBATCH -J hifiasm\n",
    "#SBATCH -o ${OUT_HN}/%J.out\n",
    "#SBATCH -e ${OUT_HN}/%J.err\n",
    "#SBATCH --cpus-per-task=24\n",
    "#SBATCH --mem=200G\n",
    "#SBATCH --time=1-00:00:00\n",
    "\n",
    "$HIFIASMNorm/hifiasm -o ${OUT_HN}/EC201_hifi_norm -t 24 ${RAWDATA}/m64136_220922_174629.hifi_reads.fastq.gz\n",
    "\n",
    "EOF"
   ]
  },
  {
   "cell_type": "code",
   "execution_count": 1,
   "id": "f63ed746",
   "metadata": {},
   "outputs": [
    {
     "name": "stdout",
     "output_type": "stream",
     "text": [
      "JobID           JobName  Partition    Account  AllocCPUS      State ExitCode \n",
      "------------ ---------- ---------- ---------- ---------- ---------- -------- \n",
      "578018          hifiasm      short powerplant         24  COMPLETED      0:0 \n",
      "578018.batch      batch            powerplant         24  COMPLETED      0:0 \n",
      "578018.exte+     extern            powerplant         24  COMPLETED      0:0 \n"
     ]
    }
   ],
   "source": [
    "sacct -j 578018"
   ]
  },
  {
   "cell_type": "code",
   "execution_count": 4,
   "id": "b71b664d",
   "metadata": {},
   "outputs": [
    {
     "name": "stdout",
     "output_type": "stream",
     "text": [
      "Job ID: 576931\n",
      "Cluster: powerplant\n",
      "User/Group: hraaxt/hraaxt\n",
      "State: TIMEOUT (exit code 0)\n",
      "Nodes: 1\n",
      "Cores per node: 24\n",
      "CPU Utilized: 3-09:38:54\n",
      "CPU Efficiency: 84.94% of 4-00:07:12 core-walltime\n",
      "Job Wall-clock time: 04:00:18\n",
      "Memory Utilized: 54.59 GB\n",
      "Memory Efficiency: 27.29% of 200.00 GB\n"
     ]
    }
   ],
   "source": [
    "#first round died due to time limit\n",
    "seff 576931"
   ]
  },
  {
   "cell_type": "code",
   "execution_count": 19,
   "id": "659941e1",
   "metadata": {},
   "outputs": [
    {
     "name": "stdout",
     "output_type": "stream",
     "text": [
      "Job ID: 578018\n",
      "Cluster: powerplant\n",
      "User/Group: hraaxt/hraaxt\n",
      "State: COMPLETED (exit code 0)\n",
      "Nodes: 1\n",
      "Cores per node: 24\n",
      "CPU Utilized: 4-03:04:00\n",
      "CPU Efficiency: 86.25% of 4-18:51:36 core-walltime\n",
      "Job Wall-clock time: 04:47:09\n",
      "Memory Utilized: 62.93 GB\n",
      "Memory Efficiency: 31.46% of 200.00 GB\n"
     ]
    }
   ],
   "source": [
    "seff 578018"
   ]
  },
  {
   "cell_type": "code",
   "execution_count": 20,
   "id": "b400b206",
   "metadata": {},
   "outputs": [
    {
     "name": "stdout",
     "output_type": "stream",
     "text": [
      "578018.err\t\t\t\t EC201_hifi_norm.bp.p_ctg.noseq.gfa\n",
      "578018.out\t\t\t\t EC201_hifi_norm.bp.p_utg.gfa\n",
      "EC201_hifi_norm.bp.hap1.p_ctg.gfa\t EC201_hifi_norm.bp.p_utg.lowQ.bed\n",
      "EC201_hifi_norm.bp.hap1.p_ctg.lowQ.bed\t EC201_hifi_norm.bp.p_utg.noseq.gfa\n",
      "EC201_hifi_norm.bp.hap1.p_ctg.noseq.gfa  EC201_hifi_norm.bp.r_utg.gfa\n",
      "EC201_hifi_norm.bp.hap2.p_ctg.gfa\t EC201_hifi_norm.bp.r_utg.lowQ.bed\n",
      "EC201_hifi_norm.bp.hap2.p_ctg.lowQ.bed\t EC201_hifi_norm.bp.r_utg.noseq.gfa\n",
      "EC201_hifi_norm.bp.hap2.p_ctg.noseq.gfa  EC201_hifi_norm.ec.bin\n",
      "EC201_hifi_norm.bp.p_ctg.gfa\t\t EC201_hifi_norm.ovlp.reverse.bin\n",
      "EC201_hifi_norm.bp.p_ctg.lowQ.bed\t EC201_hifi_norm.ovlp.source.bin\n"
     ]
    }
   ],
   "source": [
    "ls 05.EC201_hifi_asmNorm"
   ]
  },
  {
   "cell_type": "code",
   "execution_count": 21,
   "id": "d3074174",
   "metadata": {},
   "outputs": [],
   "source": [
    "awk '/^S/{print \">\"$2;print $3}' 05.EC201_hifi_asmNorm/EC201_hifi_norm.bp.p_ctg.gfa > 05.EC201_hifi_asmNorm/EC201_hifi_norm.bp.p_ctg.fasta\n",
    "#get the haplotypes too\n",
    "awk '/^S/{print \">\"$2;print $3}' 05.EC201_hifi_asmNorm/EC201_hifi_norm.bp.hap1.p_ctg.gfa > 05.EC201_hifi_asmNorm/EC201_hifi_norm.bp.hap1.p_ctg.fasta\n",
    "awk '/^S/{print \">\"$2;print $3}' 05.EC201_hifi_asmNorm/EC201_hifi_norm.bp.hap2.p_ctg.gfa > 05.EC201_hifi_asmNorm/EC201_hifi_norm.bp.hap2.p_ctg.fasta"
   ]
  },
  {
   "cell_type": "code",
   "execution_count": 23,
   "id": "19251296",
   "metadata": {},
   "outputs": [],
   "source": [
    "module load assemblathon_stats/14dfdab"
   ]
  },
  {
   "cell_type": "code",
   "execution_count": 24,
   "id": "f9e7d0b1",
   "metadata": {},
   "outputs": [
    {
     "name": "stdout",
     "output_type": "stream",
     "text": [
      "\n",
      "---------------- Information for assembly '05.EC201_hifi_asmNorm/EC201_hifi_norm.bp.p_ctg.fasta' ----------------\n",
      "\n",
      "\n",
      "                                         Number of scaffolds       1235\n",
      "                                     Total size of scaffolds  369649699\n",
      "                                            Longest scaffold   36507894\n",
      "                                           Shortest scaffold      12849\n",
      "                                 Number of scaffolds > 1K nt       1235 100.0%\n",
      "                                Number of scaffolds > 10K nt       1235 100.0%\n",
      "                               Number of scaffolds > 100K nt         41   3.3%\n",
      "                                 Number of scaffolds > 1M nt         17   1.4%\n",
      "                                Number of scaffolds > 10M nt         16   1.3%\n",
      "                                          Mean scaffold size     299311\n",
      "                                        Median scaffold size      30002\n",
      "                                         N50 scaffold length   19478867\n",
      "                                          L50 scaffold count          7\n",
      "                                                 scaffold %A      29.76\n",
      "                                                 scaffold %C      20.19\n",
      "                                                 scaffold %G      20.21\n",
      "                                                 scaffold %T      29.84\n",
      "                                                 scaffold %N       0.00\n",
      "                                         scaffold %non-ACGTN       0.00\n",
      "                             Number of scaffold non-ACGTN nt          0\n",
      "\n",
      "                Percentage of assembly in scaffolded contigs       0.0%\n",
      "              Percentage of assembly in unscaffolded contigs     100.0%\n",
      "                      Average number of contigs per scaffold        1.0\n",
      "  Mean length of breaks (>=25Ns) between contigs in scaffold          0\n",
      "\n",
      "                                           Number of contigs       1235\n",
      "                              Number of contigs in scaffolds          0\n",
      "                          Number of contigs not in scaffolds       1235\n",
      "                                       Total size of contigs  369649699\n",
      "                                              Longest contig   36507894\n",
      "                                             Shortest contig      12849\n",
      "                                   Number of contigs > 1K nt       1235 100.0%\n",
      "                                  Number of contigs > 10K nt       1235 100.0%\n",
      "                                 Number of contigs > 100K nt         41   3.3%\n",
      "                                   Number of contigs > 1M nt         17   1.4%\n",
      "                                  Number of contigs > 10M nt         16   1.3%\n",
      "                                            Mean contig size     299311\n",
      "                                          Median contig size      30002\n",
      "                                           N50 contig length   19478867\n",
      "                                            L50 contig count          7\n",
      "                                                   contig %A      29.76\n",
      "                                                   contig %C      20.19\n",
      "                                                   contig %G      20.21\n",
      "                                                   contig %T      29.84\n",
      "                                                   contig %N       0.00\n",
      "                                           contig %non-ACGTN       0.00\n",
      "                               Number of contig non-ACGTN nt          0\n"
     ]
    }
   ],
   "source": [
    "assemblathon_stats.pl 05.EC201_hifi_asmNorm/EC201_hifi_norm.bp.p_ctg.fasta"
   ]
  },
  {
   "cell_type": "code",
   "execution_count": 25,
   "id": "66c6f0a4",
   "metadata": {},
   "outputs": [
    {
     "name": "stdout",
     "output_type": "stream",
     "text": [
      "\n",
      "---------------- Information for assembly '05.EC201_hifi_asmNorm/EC201_hifi_norm.bp.hap1.p_ctg.fasta' ----------------\n",
      "\n",
      "\n",
      "                                         Number of scaffolds       1307\n",
      "                                     Total size of scaffolds  358517379\n",
      "                                            Longest scaffold   34022237\n",
      "                                           Shortest scaffold       8715\n",
      "                                 Number of scaffolds > 1K nt       1307 100.0%\n",
      "                                Number of scaffolds > 10K nt       1305  99.8%\n",
      "                               Number of scaffolds > 100K nt         37   2.8%\n",
      "                                 Number of scaffolds > 1M nt         23   1.8%\n",
      "                                Number of scaffolds > 10M nt         18   1.4%\n",
      "                                          Mean scaffold size     274306\n",
      "                                        Median scaffold size      29789\n",
      "                                         N50 scaffold length   14643578\n",
      "                                          L50 scaffold count          9\n",
      "                                                 scaffold %A      29.82\n",
      "                                                 scaffold %C      20.10\n",
      "                                                 scaffold %G      20.15\n",
      "                                                 scaffold %T      29.94\n",
      "                                                 scaffold %N       0.00\n",
      "                                         scaffold %non-ACGTN       0.00\n",
      "                             Number of scaffold non-ACGTN nt          0\n",
      "\n",
      "                Percentage of assembly in scaffolded contigs       0.0%\n",
      "              Percentage of assembly in unscaffolded contigs     100.0%\n",
      "                      Average number of contigs per scaffold        1.0\n",
      "  Mean length of breaks (>=25Ns) between contigs in scaffold          0\n",
      "\n",
      "                                           Number of contigs       1307\n",
      "                              Number of contigs in scaffolds          0\n",
      "                          Number of contigs not in scaffolds       1307\n",
      "                                       Total size of contigs  358517379\n",
      "                                              Longest contig   34022237\n",
      "                                             Shortest contig       8715\n",
      "                                   Number of contigs > 1K nt       1307 100.0%\n",
      "                                  Number of contigs > 10K nt       1305  99.8%\n",
      "                                 Number of contigs > 100K nt         37   2.8%\n",
      "                                   Number of contigs > 1M nt         23   1.8%\n",
      "                                  Number of contigs > 10M nt         18   1.4%\n",
      "                                            Mean contig size     274306\n",
      "                                          Median contig size      29789\n",
      "                                           N50 contig length   14643578\n",
      "                                            L50 contig count          9\n",
      "                                                   contig %A      29.82\n",
      "                                                   contig %C      20.10\n",
      "                                                   contig %G      20.15\n",
      "                                                   contig %T      29.94\n",
      "                                                   contig %N       0.00\n",
      "                                           contig %non-ACGTN       0.00\n",
      "                               Number of contig non-ACGTN nt          0\n"
     ]
    }
   ],
   "source": [
    "#haplotype 1\n",
    "assemblathon_stats.pl 05.EC201_hifi_asmNorm/EC201_hifi_norm.bp.hap1.p_ctg.fasta"
   ]
  },
  {
   "cell_type": "code",
   "execution_count": 26,
   "id": "b7234049",
   "metadata": {},
   "outputs": [
    {
     "name": "stdout",
     "output_type": "stream",
     "text": [
      "\n",
      "---------------- Information for assembly '05.EC201_hifi_asmNorm/EC201_hifi_norm.bp.hap2.p_ctg.fasta' ----------------\n",
      "\n",
      "\n",
      "                                         Number of scaffolds        315\n",
      "                                     Total size of scaffolds  329053757\n",
      "                                            Longest scaffold   25579841\n",
      "                                           Shortest scaffold      19227\n",
      "                                 Number of scaffolds > 1K nt        315 100.0%\n",
      "                                Number of scaffolds > 10K nt        315 100.0%\n",
      "                               Number of scaffolds > 100K nt         54  17.1%\n",
      "                                 Number of scaffolds > 1M nt         39  12.4%\n",
      "                                Number of scaffolds > 10M nt         15   4.8%\n",
      "                                          Mean scaffold size    1044615\n",
      "                                        Median scaffold size      43801\n",
      "                                         N50 scaffold length   13249496\n",
      "                                          L50 scaffold count         11\n",
      "                                                 scaffold %A      29.67\n",
      "                                                 scaffold %C      20.34\n",
      "                                                 scaffold %G      20.19\n",
      "                                                 scaffold %T      29.81\n",
      "                                                 scaffold %N       0.00\n",
      "                                         scaffold %non-ACGTN       0.00\n",
      "                             Number of scaffold non-ACGTN nt          0\n",
      "\n",
      "                Percentage of assembly in scaffolded contigs       0.0%\n",
      "              Percentage of assembly in unscaffolded contigs     100.0%\n",
      "                      Average number of contigs per scaffold        1.0\n",
      "  Mean length of breaks (>=25Ns) between contigs in scaffold          0\n",
      "\n",
      "                                           Number of contigs        315\n",
      "                              Number of contigs in scaffolds          0\n",
      "                          Number of contigs not in scaffolds        315\n",
      "                                       Total size of contigs  329053757\n",
      "                                              Longest contig   25579841\n",
      "                                             Shortest contig      19227\n",
      "                                   Number of contigs > 1K nt        315 100.0%\n",
      "                                  Number of contigs > 10K nt        315 100.0%\n",
      "                                 Number of contigs > 100K nt         54  17.1%\n",
      "                                   Number of contigs > 1M nt         39  12.4%\n",
      "                                  Number of contigs > 10M nt         15   4.8%\n",
      "                                            Mean contig size    1044615\n",
      "                                          Median contig size      43801\n",
      "                                           N50 contig length   13249496\n",
      "                                            L50 contig count         11\n",
      "                                                   contig %A      29.67\n",
      "                                                   contig %C      20.34\n",
      "                                                   contig %G      20.19\n",
      "                                                   contig %T      29.81\n",
      "                                                   contig %N       0.00\n",
      "                                           contig %non-ACGTN       0.00\n",
      "                               Number of contig non-ACGTN nt          0\n"
     ]
    }
   ],
   "source": [
    "assemblathon_stats.pl 05.EC201_hifi_asmNorm/EC201_hifi_norm.bp.hap2.p_ctg.fasta"
   ]
  },
  {
   "cell_type": "code",
   "execution_count": 4,
   "id": "114e3e3a",
   "metadata": {},
   "outputs": [
    {
     "name": "stdout",
     "output_type": "stream",
     "text": [
      "Loading \u001b[1mBUSCO/v3.0.2\u001b[22m\n",
      "  \u001b[94mLoading requirement\u001b[0m: pfr-python3/3.6.1 boost/1_61_0 bamtools/2.4.0\n",
      "    perl/bio-extras augustus/3.2.2 emboss/6.5.7 hmmer/3.1b2 ncbi-blast/2.2.30\n"
     ]
    }
   ],
   "source": [
    "#run the same version as ONT runs to compare\n",
    "module unload perl\n",
    "module load BUSCO/v3.0.2"
   ]
  },
  {
   "cell_type": "code",
   "execution_count": 6,
   "id": "f97a8c39",
   "metadata": {},
   "outputs": [],
   "source": [
    "cp hifiasm.meta.config.ini hifiasm.config.ini \n",
    "OUTB=07.BUSCO_3.0.2"
   ]
  },
  {
   "cell_type": "code",
   "execution_count": 7,
   "id": "91a55110",
   "metadata": {},
   "outputs": [
    {
     "name": "stdout",
     "output_type": "stream",
     "text": [
      "Submitted batch job 584614\n"
     ]
    }
   ],
   "source": [
    "export BUSCO_CONFIG_FILE=`pwd`/hifiasm.config.ini \n",
    "sbatch << EOF\n",
    "#!/bin/bash\n",
    "#SBATCH -J norm_busco\n",
    "#SBATCH -o 07.BUSCO_3.0.2/%J.out\n",
    "#SBATCH -e 07.BUSCO_3.0.2/%J.err\n",
    "#SBATCH --cpus-per-task=12\n",
    "#SBATCH --mem=50G\n",
    "#SBATCH --time=02:00:00\n",
    "\n",
    "run_BUSCO.py -i 05.EC201_hifi_asmNorm/EC201_hifi_norm.bp.p_ctg.fasta  -m genome\n",
    "EOF"
   ]
  },
  {
   "cell_type": "code",
   "execution_count": 13,
   "id": "13632837",
   "metadata": {},
   "outputs": [],
   "source": [
    "module unload BUSCO\n",
    "module load BUSCO/v5.1.2"
   ]
  },
  {
   "cell_type": "code",
   "execution_count": 14,
   "id": "35b23f21",
   "metadata": {},
   "outputs": [
    {
     "name": "stdout",
     "output_type": "stream",
     "text": [
      "Submitted batch job 585607\n",
      "             JOBID PARTITION     NAME     USER ST       TIME  NODES NODELIST(REASON)\n",
      "            585607      fast hifiasm_   hraaxt PD       0:00      1 (None)\n",
      "            584614      fast norm_bus   hraaxt  R    1:00:27      1 aklppb30\n",
      "            584520      fast  hifiasm   hraaxt  R    1:25:51      1 aklppb30\n"
     ]
    }
   ],
   "source": [
    "OUTB=07b.Busco_v5.1.2\n",
    "\n",
    "sbatch << EOF\n",
    "#!/bin/bash\n",
    "#SBATCH -J hifiasm_busco5.1.2\n",
    "#SBATCH -o ${OUTB}/%J.out\n",
    "#SBATCH -e ${OUTB}/%J.err\n",
    "#SBATCH --cpus-per-task=24\n",
    "#SBATCH --mem=50G\n",
    "#SBATCH --time=02:00:00\n",
    "\n",
    "busco -c 24 -i 05.EC201_hifi_asmNorm/EC201_hifi_norm.bp.p_ctg.fasta --out_path ${OUTB} \\\n",
    "-o EC201_phifi_hifiasm_norm_B5.1.2 -l embryophyta_odb10 -m genome\n",
    "\n",
    "EOF\n",
    "squeue -u hraaxt"
   ]
  },
  {
   "cell_type": "code",
   "execution_count": 1,
   "id": "9d882ad4",
   "metadata": {},
   "outputs": [
    {
     "name": "stdout",
     "output_type": "stream",
     "text": [
      "JobID           JobName  Partition    Account  AllocCPUS      State ExitCode \n",
      "------------ ---------- ---------- ---------- ---------- ---------- -------- \n",
      "585607       hifiasm_b+       fast powerplant         24  COMPLETED      0:0 \n",
      "585607.batch      batch            powerplant         24  COMPLETED      0:0 \n",
      "585607.exte+     extern            powerplant         24  COMPLETED      0:0 \n"
     ]
    }
   ],
   "source": [
    "sacct -j 585607"
   ]
  },
  {
   "cell_type": "markdown",
   "id": "07828acc",
   "metadata": {},
   "source": [
    "Based on the assembly metrics it appears the normal mode of hifiasm works better for host. So we will look to freeze that as the EC201 assembly v2."
   ]
  },
  {
   "cell_type": "markdown",
   "id": "34f6f6b8",
   "metadata": {},
   "source": [
    "## Assembly contaminants"
   ]
  },
  {
   "cell_type": "markdown",
   "id": "93b53695",
   "metadata": {},
   "source": [
    "Given the metagenomic nature of manuka - its good to check for contaminants and make sure only plant goes through - we will use mmseq2 for this"
   ]
  },
  {
   "cell_type": "code",
   "execution_count": 6,
   "id": "c2c45e22",
   "metadata": {},
   "outputs": [
    {
     "name": "stdout",
     "output_type": "stream",
     "text": [
      "(/workspace/appscratch/miniconda/hraaxt_mmseq2) "
     ]
    },
    {
     "ename": "",
     "evalue": "1",
     "output_type": "error",
     "traceback": []
    }
   ],
   "source": [
    "#starting with mmseq2\n",
    "module load conda\n",
    "conda activate hraaxt_mmseq2"
   ]
  },
  {
   "cell_type": "code",
   "execution_count": 5,
   "id": "cfec3999",
   "metadata": {},
   "outputs": [],
   "source": [
    "NR_DB=\"/powerplant/workspace/hraaxt/bioinf_radula_genome/GenomeAssembly_taketwo/ncbi_nr\""
   ]
  },
  {
   "cell_type": "code",
   "execution_count": 6,
   "id": "fc8504c0",
   "metadata": {},
   "outputs": [
    {
     "name": "stdout",
     "output_type": "stream",
     "text": [
      "00.QC\t\t\t   busco_downloads\n",
      "03.hifiasm_meta\t\t   EC201_hifi_asmNorm\n",
      "05.EC201_hifi_asmNorm\t   hifiasm.config.ini\n",
      "07b.Busco_v5.1.2\t   hifiasm.meta.config.ini\n",
      "07.BUSCO_3.0.2\t\t   Pacbio_hifiAssem.ipynb\n",
      "09.mmseq_classify\t   TaxClassify_LeptoHIFIReads.ipynb\n",
      "11.mmseq_classify_contigs  tmp\n",
      "busco_673370923.log\t   tmp2\n",
      "busco_89072638.log\t   tmp3\n",
      "(/workspace/appscratch/miniconda/hraaxt_mmseq2) "
     ]
    },
    {
     "ename": "",
     "evalue": "1",
     "output_type": "error",
     "traceback": []
    }
   ],
   "source": [
    "ls"
   ]
  },
  {
   "cell_type": "code",
   "execution_count": 2,
   "id": "fe77c3d3",
   "metadata": {},
   "outputs": [],
   "source": [
    "OUT=11.mmseq_classify_contigs\n",
    "LOGS=11.mmseq_classify_contigs/logs\n",
    "mkdir -p $OUT $LOGS"
   ]
  },
  {
   "cell_type": "code",
   "execution_count": 3,
   "id": "fc29cd59",
   "metadata": {},
   "outputs": [
    {
     "name": "stdout",
     "output_type": "stream",
     "text": [
      "05.EC201_hifi_asmNorm/EC201_hifi_norm.bp.hap1.p_ctg.fasta\n",
      "05.EC201_hifi_asmNorm/EC201_hifi_norm.bp.hap2.p_ctg.fasta\n",
      "05.EC201_hifi_asmNorm/EC201_hifi_norm.bp.p_ctg.fasta\n"
     ]
    }
   ],
   "source": [
    "ls 05.EC201_hifi_asmNorm/*fasta"
   ]
  },
  {
   "cell_type": "code",
   "execution_count": null,
   "id": "5ab0f25d",
   "metadata": {},
   "outputs": [],
   "source": []
  },
  {
   "cell_type": "code",
   "execution_count": 11,
   "id": "51473fdd",
   "metadata": {},
   "outputs": [
    {
     "name": "stdout",
     "output_type": "stream",
     "text": [
      "Submitted batch job 605794\n",
      "(/workspace/appscratch/miniconda/hraaxt_mmseq2) "
     ]
    },
    {
     "ename": "",
     "evalue": "1",
     "output_type": "error",
     "traceback": []
    }
   ],
   "source": [
    "sbatch << EOF\n",
    "#!/bin/bash\n",
    "#SBATCH -J createdb\n",
    "#SBATCH -o ${LOGS}/%J.out\n",
    "#SBATCH -e ${LOGS}/%J.err\n",
    "#SBATCH --cpus-per-task=4\n",
    "#SBATCH --mem=50G\n",
    "#SBATCH --time=02:00:00\n",
    "\n",
    "mmseqs createdb 05.EC201_hifi_asmNorm/EC201_hifi_norm.bp.p_ctg.fasta ${OUT}/EC201_hifi_norm_p --createdb-mode 1 --shuffle 0\n",
    "\n",
    "EOF"
   ]
  },
  {
   "cell_type": "code",
   "execution_count": 16,
   "id": "cd4bd2b9",
   "metadata": {},
   "outputs": [
    {
     "name": "stdout",
     "output_type": "stream",
     "text": [
      "Submitted batch job 605817\n",
      "(/workspace/appscratch/miniconda/hraaxt_mmseq2) "
     ]
    },
    {
     "ename": "",
     "evalue": "1",
     "output_type": "error",
     "traceback": []
    }
   ],
   "source": [
    "sbatch << EOF\n",
    "#!/bin/bash\n",
    "#SBATCH -J mmseq\n",
    "#SBATCH -o ${LOGS}/%J.out\n",
    "#SBATCH -e ${LOGS}/%J.err\n",
    "#SBATCH --cpus-per-task=20\n",
    "#SBATCH --mem=150G\n",
    "#SBATCH --time=04:00:00\n",
    "\n",
    "mmseqs taxonomy ${OUT}/EC201_hifi_norm_p $NR_DB ${OUT}/EC201_hifi_norm_p_results tmp --threads 20\n",
    "\n",
    "EOF"
   ]
  },
  {
   "cell_type": "code",
   "execution_count": 1,
   "id": "2c8ef1e0",
   "metadata": {},
   "outputs": [
    {
     "name": "stdout",
     "output_type": "stream",
     "text": [
      "Job ID: 605817\n",
      "Cluster: powerplant\n",
      "User/Group: hraaxt/hraaxt\n",
      "State: TIMEOUT (exit code 0)\n",
      "Nodes: 1\n",
      "Cores per node: 20\n",
      "CPU Utilized: 2-22:53:44\n",
      "CPU Efficiency: 88.49% of 3-08:07:00 core-walltime\n",
      "Job Wall-clock time: 04:00:21\n",
      "Memory Utilized: 1.02 TB\n",
      "Memory Efficiency: 698.49% of 150.00 GB\n"
     ]
    }
   ],
   "source": [
    "seff 605817"
   ]
  },
  {
   "cell_type": "code",
   "execution_count": 3,
   "id": "33678317",
   "metadata": {},
   "outputs": [
    {
     "name": "stdout",
     "output_type": "stream",
     "text": [
      "11.mmseq_classify_contigs\n"
     ]
    }
   ],
   "source": [
    "echo $OUT"
   ]
  },
  {
   "cell_type": "code",
   "execution_count": 7,
   "id": "114c0e6a",
   "metadata": {},
   "outputs": [
    {
     "name": "stdout",
     "output_type": "stream",
     "text": [
      "(/workspace/appscratch/miniconda/hraaxt_mmseq2) sbatch: slurm_job_submit: Large memory node requested\n",
      "Submitted batch job 606767\n",
      "(/workspace/appscratch/miniconda/hraaxt_mmseq2) "
     ]
    },
    {
     "ename": "",
     "evalue": "1",
     "output_type": "error",
     "traceback": []
    }
   ],
   "source": [
    "#retry with more memory and cpu and time\n",
    "sbatch << EOF\n",
    "#!/bin/bash\n",
    "#SBATCH -J mmseq\n",
    "#SBATCH -o ${LOGS}/%J.out\n",
    "#SBATCH -e ${LOGS}/%J.err\n",
    "#SBATCH --cpus-per-task=30\n",
    "#SBATCH --mem=1000000\n",
    "#SBATCH --time=1-00:00:00\n",
    "\n",
    "mmseqs taxonomy ${OUT}/EC201_hifi_norm_p $NR_DB ${OUT}/EC201_hifi_norm_p_results2 tmp --threads 30\n",
    "\n",
    "EOF"
   ]
  },
  {
   "cell_type": "code",
   "execution_count": 1,
   "id": "602f8a90",
   "metadata": {},
   "outputs": [
    {
     "name": "stdout",
     "output_type": "stream",
     "text": [
      "JobID           JobName  Partition    Account  AllocCPUS      State ExitCode \n",
      "------------ ---------- ---------- ---------- ---------- ---------- -------- \n",
      "606767            mmseq      short powerplant         30  COMPLETED      0:0 \n",
      "606767.batch      batch            powerplant         30  COMPLETED      0:0 \n",
      "606767.exte+     extern            powerplant         30  COMPLETED      0:0 \n"
     ]
    }
   ],
   "source": [
    "sacct -j 606767"
   ]
  },
  {
   "cell_type": "code",
   "execution_count": 4,
   "id": "d15755f0",
   "metadata": {},
   "outputs": [
    {
     "name": "stdout",
     "output_type": "stream",
     "text": [
      "EC201_hifi_norm_p\t       EC201_hifi_norm_p_results2.21\n",
      "EC201_hifi_norm_p.dbtype       EC201_hifi_norm_p_results2.22\n",
      "EC201_hifi_norm_p_h\t       EC201_hifi_norm_p_results2.23\n",
      "EC201_hifi_norm_p_h.dbtype     EC201_hifi_norm_p_results2.24\n",
      "EC201_hifi_norm_p_h.index      EC201_hifi_norm_p_results2.25\n",
      "EC201_hifi_norm_p.index        EC201_hifi_norm_p_results2.26\n",
      "EC201_hifi_norm_p.lookup       EC201_hifi_norm_p_results2.27\n",
      "EC201_hifi_norm_p_results2.0   EC201_hifi_norm_p_results2.28\n",
      "EC201_hifi_norm_p_results2.1   EC201_hifi_norm_p_results2.29\n",
      "EC201_hifi_norm_p_results2.10  EC201_hifi_norm_p_results2.3\n",
      "EC201_hifi_norm_p_results2.11  EC201_hifi_norm_p_results2.4\n",
      "EC201_hifi_norm_p_results2.12  EC201_hifi_norm_p_results2.5\n",
      "EC201_hifi_norm_p_results2.13  EC201_hifi_norm_p_results2.6\n",
      "EC201_hifi_norm_p_results2.14  EC201_hifi_norm_p_results2.7\n",
      "EC201_hifi_norm_p_results2.15  EC201_hifi_norm_p_results2.8\n",
      "EC201_hifi_norm_p_results2.16  EC201_hifi_norm_p_results2.9\n",
      "EC201_hifi_norm_p_results2.17  EC201_hifi_norm_p_results2.dbtype\n",
      "EC201_hifi_norm_p_results2.18  EC201_hifi_norm_p_results2.index\n",
      "EC201_hifi_norm_p_results2.19  EC201_hifi_norm_p.source\n",
      "EC201_hifi_norm_p_results2.2   logs\n",
      "EC201_hifi_norm_p_results2.20\n"
     ]
    }
   ],
   "source": [
    "ls $OUT"
   ]
  },
  {
   "cell_type": "code",
   "execution_count": 7,
   "id": "7de884df",
   "metadata": {},
   "outputs": [
    {
     "name": "stdout",
     "output_type": "stream",
     "text": [
      "taxonomyreport /powerplant/workspace/hraaxt/bioinf_radula_genome/GenomeAssembly_taketwo/ncbi_nr 11.mmseq_classify_contigs/EC201_hifi_norm_p_results2 11.mmseq_classify_contigs/EC201_hifi_norm_p_results2_krona.html --report-mode 1 \n",
      "\n",
      "MMseqs Version:\t13.45111\n",
      "Report mode\t1\n",
      "Threads    \t10\n",
      "Verbosity  \t3\n",
      "\n",
      "[=================================================================] 100.00% 1.24K 0s 203ms    \n",
      "Found 6 different taxa for 1235 different reads\n",
      "0 reads are unclassified\n",
      "Calculating clade counts ...  Done\n",
      "Time for processing: 0h 0m 2s 674ms\n",
      "(/workspace/appscratch/miniconda/hraaxt_mmseq2) "
     ]
    },
    {
     "ename": "",
     "evalue": "1",
     "output_type": "error",
     "traceback": []
    }
   ],
   "source": [
    "mmseqs taxonomyreport $NR_DB ${OUT}/EC201_hifi_norm_p_results2  ${OUT}/EC201_hifi_norm_p_results2_krona.html --report-mode 1"
   ]
  },
  {
   "cell_type": "code",
   "execution_count": 8,
   "id": "6ea65f94",
   "metadata": {},
   "outputs": [
    {
     "name": "stdout",
     "output_type": "stream",
     "text": [
      "taxonomyreport /powerplant/workspace/hraaxt/bioinf_radula_genome/GenomeAssembly_taketwo/ncbi_nr 11.mmseq_classify_contigs/EC201_hifi_norm_p_results2 11.mmseq_classify_contigs/EC201_hifi_norm_p_results2_kraken.report --report-mode 0 \n",
      "\n",
      "MMseqs Version:\t13.45111\n",
      "Report mode\t0\n",
      "Threads    \t10\n",
      "Verbosity  \t3\n",
      "\n",
      "[=================================================================] 100.00% 1.24K 0s 6ms      \n",
      "Found 6 different taxa for 1235 different reads\n",
      "0 reads are unclassified\n",
      "Calculating clade counts ...  Done\n",
      "Time for processing: 0h 0m 0s 219ms\n",
      "(/workspace/appscratch/miniconda/hraaxt_mmseq2) "
     ]
    },
    {
     "ename": "",
     "evalue": "1",
     "output_type": "error",
     "traceback": []
    }
   ],
   "source": [
    "mmseqs taxonomyreport $NR_DB ${OUT}/EC201_hifi_norm_p_results2  ${OUT}/EC201_hifi_norm_p_results2_kraken.report --report-mode 0"
   ]
  },
  {
   "cell_type": "code",
   "execution_count": 9,
   "id": "03d7cb7c",
   "metadata": {},
   "outputs": [
    {
     "name": "stdout",
     "output_type": "stream",
     "text": [
      "createtsv 11.mmseq_classify_contigs/EC201_hifi_norm_p 11.mmseq_classify_contigs/EC201_hifi_norm_p_results2 11.mmseq_classify_contigs/EC201_hifi_norm_p_results2_taxonomyResult.tsv \n",
      "\n",
      "MMseqs Version:                 \t13.45111\n",
      "First sequence as representative\tfalse\n",
      "Target column                   \t1\n",
      "Add full header                 \tfalse\n",
      "Sequence source                 \t0\n",
      "Database output                 \tfalse\n",
      "Threads                         \t10\n",
      "Compressed                      \t0\n",
      "Verbosity                       \t3\n",
      "\n",
      "Time for merging to EC201_hifi_norm_p_results2_taxonomyResult.tsv: 0h 0m 0s 289ms\n",
      "Time for processing: 0h 0m 3s 10ms\n",
      "(/workspace/appscratch/miniconda/hraaxt_mmseq2) "
     ]
    },
    {
     "ename": "",
     "evalue": "1",
     "output_type": "error",
     "traceback": []
    }
   ],
   "source": [
    "mmseqs createtsv ${OUT}/EC201_hifi_norm_p ${OUT}/EC201_hifi_norm_p_results2  ${OUT}/EC201_hifi_norm_p_results2_taxonomyResult.tsv"
   ]
  },
  {
   "cell_type": "code",
   "execution_count": null,
   "id": "10f9b5aa",
   "metadata": {},
   "outputs": [],
   "source": []
  }
 ],
 "metadata": {
  "kernelspec": {
   "display_name": "Bash",
   "language": "bash",
   "name": "bash"
  },
  "language_info": {
   "codemirror_mode": "shell",
   "file_extension": ".sh",
   "mimetype": "text/x-sh",
   "name": "bash"
  }
 },
 "nbformat": 4,
 "nbformat_minor": 5
}
