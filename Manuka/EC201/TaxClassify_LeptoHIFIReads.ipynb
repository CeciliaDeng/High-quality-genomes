{
 "cells": [
  {
   "cell_type": "markdown",
   "id": "e3af44ea",
   "metadata": {},
   "source": [
    "# Taxonomic Classification (at read level)"
   ]
  },
  {
   "cell_type": "markdown",
   "id": "e7804ccc",
   "metadata": {},
   "source": [
    "Based on recent publication for long read taxonomic classification - Megan6/mmseq is recommended. Given higher accuracy - we can use mmseq. MMseq has already been installed with nr database set-up few months as part of radula project, so we will use that to classify all three Leptospermum pacbio data sets we recieved. Note: While Leptospermum scoparium was total genomic content, the other two were nuclear genome. "
   ]
  },
  {
   "cell_type": "code",
   "execution_count": 2,
   "id": "74a2909d",
   "metadata": {},
   "outputs": [
    {
     "name": "stdout",
     "output_type": "stream",
     "text": [
      "/powerplant/workspace/hraaxt/bioinf_manuka_v2/Genome/Pacbio_Assembly\n"
     ]
    }
   ],
   "source": [
    "#workspace\n",
    "pwd"
   ]
  },
  {
   "cell_type": "code",
   "execution_count": 4,
   "id": "934e4020",
   "metadata": {},
   "outputs": [
    {
     "name": "stdout",
     "output_type": "stream",
     "text": [
      "(/workspace/appscratch/miniconda/hraaxt_mmseq2) "
     ]
    },
    {
     "ename": "",
     "evalue": "1",
     "output_type": "error",
     "traceback": []
    }
   ],
   "source": [
    "NR_DB=\"/powerplant/workspace/hraaxt/bioinf_radula_genome/GenomeAssembly_taketwo/ncbi_nr\""
   ]
  },
  {
   "cell_type": "code",
   "execution_count": 1,
   "id": "079d4b11",
   "metadata": {},
   "outputs": [],
   "source": [
    "module load conda"
   ]
  },
  {
   "cell_type": "code",
   "execution_count": 2,
   "id": "71fbfc10",
   "metadata": {},
   "outputs": [
    {
     "name": "stdout",
     "output_type": "stream",
     "text": [
      "(/workspace/appscratch/miniconda/hraaxt_mmseq2) "
     ]
    },
    {
     "ename": "",
     "evalue": "1",
     "output_type": "error",
     "traceback": []
    }
   ],
   "source": [
    "conda activate hraaxt_mmseq2"
   ]
  },
  {
   "cell_type": "code",
   "execution_count": 3,
   "id": "fe04dab9",
   "metadata": {},
   "outputs": [
    {
     "name": "stdout",
     "output_type": "stream",
     "text": [
      "MMseqs2 (Many against Many sequence searching) is an open-source software suite for very fast, \n",
      "parallelized protein sequence searches and clustering of huge protein sequence data sets.\n",
      "\n",
      "Please cite: M. Steinegger and J. Soding. MMseqs2 enables sensitive protein sequence searching for the analysis of massive data sets. Nature Biotechnology, doi:10.1038/nbt.3988 (2017).\n",
      "\n",
      "MMseqs2 Version: 13.45111\n",
      "© Martin Steinegger (martin.steinegger@snu.ac.kr)\n",
      "\n",
      "usage: mmseqs <command> [<args>]\n",
      "\n",
      "Easy workflows for plain text input/output\n",
      "  easy-search       \tSensitive homology search\n",
      "  easy-cluster      \tSlower, sensitive clustering\n",
      "  easy-linclust     \tFast linear time cluster, less sensitive clustering\n",
      "  easy-taxonomy     \tTaxonomic classification\n",
      "  easy-rbh          \tFind reciprocal best hit\n",
      "\n",
      "Main workflows for database input/output\n",
      "  search            \tSensitive homology search\n",
      "  map               \tMap nearly identical sequences\n",
      "  rbh               \tReciprocal best hit search\n",
      "  linclust          \tFast, less sensitive clustering\n",
      "  cluster           \tSlower, sensitive clustering\n",
      "  clusterupdate     \tUpdate previous clustering with new sequences\n",
      "  taxonomy          \tTaxonomic classification\n",
      "\n",
      "Input database creation\n",
      "  databases         \tList and download databases\n",
      "  createdb          \tConvert FASTA/Q file(s) to a sequence DB\n",
      "  createindex       \tStore precomputed index on disk to reduce search overhead\n",
      "  convertmsa        \tConvert Stockholm/PFAM MSA file to a MSA DB\n",
      "  msa2profile       \tConvert a MSA DB to a profile DB\n",
      "\n",
      "Format conversion for downstream processing\n",
      "  convertalis       \tConvert alignment DB to BLAST-tab, SAM or custom format\n",
      "  createtsv         \tConvert result DB to tab-separated flat file\n",
      "  convert2fasta     \tConvert sequence DB to FASTA format\n",
      "  taxonomyreport    \tCreate a taxonomy report in Kraken or Krona format\n",
      "\n",
      "An extended list of all modules can be obtained by calling 'mmseqs -h'.\n",
      "\n",
      "Bash completion for modules and parameters can be installed by adding \"source MMSEQS_HOME/util/bash-completion.sh\" to your \"$HOME/.bash_profile\".\n",
      "Include the location of the MMseqs2 binary in your \"$PATH\" environment variable.\n",
      "(/workspace/appscratch/miniconda/hraaxt_mmseq2) "
     ]
    },
    {
     "ename": "",
     "evalue": "1",
     "output_type": "error",
     "traceback": []
    }
   ],
   "source": [
    "mmseqs"
   ]
  },
  {
   "cell_type": "code",
   "execution_count": 8,
   "id": "a98ceb95",
   "metadata": {},
   "outputs": [
    {
     "name": "stdout",
     "output_type": "stream",
     "text": [
      "(/workspace/appscratch/miniconda/hraaxt_mmseq2) (/workspace/appscratch/miniconda/hraaxt_mmseq2) (/workspace/appscratch/miniconda/hraaxt_mmseq2) "
     ]
    },
    {
     "ename": "",
     "evalue": "1",
     "output_type": "error",
     "traceback": []
    }
   ],
   "source": [
    "OUT_MM=09.mmseq_classify\n",
    "LOGS=09.mmseq_classify/logs\n",
    "mkdir -p $OUT_MM $LOGS"
   ]
  },
  {
   "cell_type": "code",
   "execution_count": 9,
   "id": "f5dd6f7c",
   "metadata": {},
   "outputs": [
    {
     "name": "stdout",
     "output_type": "stream",
     "text": [
      "(/workspace/appscratch/miniconda/hraaxt_mmseq2) (/workspace/appscratch/miniconda/hraaxt_mmseq2) "
     ]
    },
    {
     "ename": "",
     "evalue": "1",
     "output_type": "error",
     "traceback": []
    }
   ],
   "source": [
    "#Manuka\n",
    "MINPUT=\"/input/genomic/plant/Leptospermum/scoparium/EC_Genome/ExperimentRequestor10923/Leptosperum_scorparium/SMRTcell1/CCS_Data/m64136_220922_174629.hifi_reads.fasta.gz\""
   ]
  },
  {
   "cell_type": "code",
   "execution_count": 10,
   "id": "9ba65121",
   "metadata": {},
   "outputs": [
    {
     "name": "stdout",
     "output_type": "stream",
     "text": [
      "Submitted batch job 600615\n",
      "(/workspace/appscratch/miniconda/hraaxt_mmseq2) "
     ]
    },
    {
     "ename": "",
     "evalue": "1",
     "output_type": "error",
     "traceback": []
    }
   ],
   "source": [
    "sbatch << EOF\n",
    "#!/bin/bash\n",
    "#SBATCH -J mmseq_M\n",
    "#SBATCH -o ${LOGS}/%J.out\n",
    "#SBATCH -e ${LOGS}/%J.err\n",
    "#SBATCH --cpus-per-task=45\n",
    "#SBATCH --mem=200G\n",
    "#SBATCH --time=2-00:00:00\n",
    "\n",
    "mmseqs easy-taxonomy $MINPUT $NR_DB $OUT_MM/Lscoparium_hifi tmp --threads 45\n",
    "EOF"
   ]
  },
  {
   "cell_type": "code",
   "execution_count": 11,
   "id": "d63d5761",
   "metadata": {},
   "outputs": [
    {
     "name": "stdout",
     "output_type": "stream",
     "text": [
      "JobID           JobName  Partition    Account  AllocCPUS      State ExitCode \n",
      "------------ ---------- ---------- ---------- ---------- ---------- -------- \n",
      "600615          mmseq_M     medium powerplant         45    RUNNING      0:0 \n",
      "600615.batch      batch            powerplant         45    RUNNING      0:0 \n",
      "600615.exte+     extern            powerplant         45    RUNNING      0:0 \n",
      "(/workspace/appscratch/miniconda/hraaxt_mmseq2) "
     ]
    },
    {
     "ename": "",
     "evalue": "1",
     "output_type": "error",
     "traceback": []
    }
   ],
   "source": [
    "sacct -j 600615"
   ]
  },
  {
   "cell_type": "code",
   "execution_count": 14,
   "id": "88a74e12",
   "metadata": {},
   "outputs": [
    {
     "name": "stdout",
     "output_type": "stream",
     "text": [
      "(/workspace/appscratch/miniconda/hraaxt_mmseq2) "
     ]
    },
    {
     "ename": "",
     "evalue": "1",
     "output_type": "error",
     "traceback": []
    }
   ],
   "source": [
    "LMORI=\"/input/genomic/plant/Leptospermum/ExperimentRequestor10924/Leptosperum_morrisonii_laevigatum/SMRTcell1/CCS_Data/demultiplex.bc1021_BAK8B_OA--bc1021_BAK8B_OA.hifi_reads.fasta.gz\""
   ]
  },
  {
   "cell_type": "code",
   "execution_count": 13,
   "id": "becda720",
   "metadata": {},
   "outputs": [
    {
     "name": "stdout",
     "output_type": "stream",
     "text": [
      "Submitted batch job 600616\n",
      "(/workspace/appscratch/miniconda/hraaxt_mmseq2) "
     ]
    },
    {
     "ename": "",
     "evalue": "1",
     "output_type": "error",
     "traceback": []
    }
   ],
   "source": [
    "sbatch << EOF\n",
    "#!/bin/bash\n",
    "#SBATCH -J mmseq_M\n",
    "#SBATCH -o ${LOGS}/%J.out\n",
    "#SBATCH -e ${LOGS}/%J.err\n",
    "#SBATCH --cpus-per-task=30\n",
    "#SBATCH --mem=200G\n",
    "#SBATCH --time=2-00:00:00\n",
    "\n",
    "mmseqs easy-taxonomy $LMORI $NR_DB $OUT_MM/LMori_hifi tmp2 --threads 30\n",
    "EOF"
   ]
  },
  {
   "cell_type": "code",
   "execution_count": 15,
   "id": "14d78d3b",
   "metadata": {},
   "outputs": [
    {
     "name": "stdout",
     "output_type": "stream",
     "text": [
      "(/workspace/appscratch/miniconda/hraaxt_mmseq2) "
     ]
    },
    {
     "ename": "",
     "evalue": "1",
     "output_type": "error",
     "traceback": []
    }
   ],
   "source": [
    "LLAE=\"/input/genomic/plant/Leptospermum/ExperimentRequestor10924/Leptosperum_morrisonii_laevigatum/SMRTcell1/CCS_Data/demultiplex.bc1022_BAK8B_OA--bc1022_BAK8B_OA.hifi_reads.fasta.gz\""
   ]
  },
  {
   "cell_type": "code",
   "execution_count": 16,
   "id": "2af1ac57",
   "metadata": {},
   "outputs": [
    {
     "name": "stdout",
     "output_type": "stream",
     "text": [
      "Submitted batch job 600617\n",
      "(/workspace/appscratch/miniconda/hraaxt_mmseq2) "
     ]
    },
    {
     "ename": "",
     "evalue": "1",
     "output_type": "error",
     "traceback": []
    }
   ],
   "source": [
    "sbatch << EOF\n",
    "#!/bin/bash\n",
    "#SBATCH -J mmseq_LL\n",
    "#SBATCH -o ${LOGS}/%J.out\n",
    "#SBATCH -e ${LOGS}/%J.err\n",
    "#SBATCH --cpus-per-task=30\n",
    "#SBATCH --mem=200G\n",
    "#SBATCH --time=2-00:00:00\n",
    "\n",
    "mmseqs easy-taxonomy $LLAE $NR_DB $OUT_MM/Llaevigatum_hifi tmp3 --threads 30\n",
    "EOF"
   ]
  },
  {
   "cell_type": "code",
   "execution_count": 17,
   "id": "f2cef23f",
   "metadata": {},
   "outputs": [
    {
     "name": "stdout",
     "output_type": "stream",
     "text": [
      "             JOBID PARTITION     NAME     USER ST       TIME  NODES NODELIST(REASON)\n",
      "            600617    medium mmseq_LL   hraaxt  R       0:10      1 wkoppg31\n",
      "            600616    medium  mmseq_M   hraaxt  R       2:19      1 aklppb30\n",
      "            600615    medium  mmseq_M   hraaxt  R       7:54      1 aklppb30\n",
      "(/workspace/appscratch/miniconda/hraaxt_mmseq2) "
     ]
    },
    {
     "ename": "",
     "evalue": "1",
     "output_type": "error",
     "traceback": []
    }
   ],
   "source": [
    "squeue -u hraaxt"
   ]
  },
  {
   "cell_type": "code",
   "execution_count": 6,
   "id": "4544ed4b",
   "metadata": {},
   "outputs": [
    {
     "name": "stdout",
     "output_type": "stream",
     "text": [
      "(/workspace/appscratch/miniconda/hraaxt_mmseq2) JobID           JobName  Partition    Account  AllocCPUS      State ExitCode \n",
      "------------ ---------- ---------- ---------- ---------- ---------- -------- \n",
      "600617         mmseq_LL     medium powerplant         30  COMPLETED      0:0 \n",
      "600617.batch      batch            powerplant         30  COMPLETED      0:0 \n",
      "600617.exte+     extern            powerplant         30  COMPLETED      0:0 \n",
      "(/workspace/appscratch/miniconda/hraaxt_mmseq2) "
     ]
    },
    {
     "ename": "",
     "evalue": "1",
     "output_type": "error",
     "traceback": []
    }
   ],
   "source": [
    "#sanity check\n",
    "sacct -j 600617 "
   ]
  },
  {
   "cell_type": "code",
   "execution_count": 7,
   "id": "8c448584",
   "metadata": {},
   "outputs": [
    {
     "name": "stdout",
     "output_type": "stream",
     "text": [
      "JobID           JobName  Partition    Account  AllocCPUS      State ExitCode \n",
      "------------ ---------- ---------- ---------- ---------- ---------- -------- \n",
      "600616          mmseq_M     medium powerplant         30  COMPLETED      0:0 \n",
      "600616.batch      batch            powerplant         30  COMPLETED      0:0 \n",
      "600616.exte+     extern            powerplant         30  COMPLETED      0:0 \n",
      "(/workspace/appscratch/miniconda/hraaxt_mmseq2) "
     ]
    },
    {
     "ename": "",
     "evalue": "1",
     "output_type": "error",
     "traceback": []
    }
   ],
   "source": [
    "sacct -j 600616"
   ]
  },
  {
   "cell_type": "code",
   "execution_count": 8,
   "id": "61df5f8e",
   "metadata": {},
   "outputs": [
    {
     "name": "stdout",
     "output_type": "stream",
     "text": [
      "JobID           JobName  Partition    Account  AllocCPUS      State ExitCode \n",
      "------------ ---------- ---------- ---------- ---------- ---------- -------- \n",
      "600615          mmseq_M     medium powerplant         45  COMPLETED      0:0 \n",
      "600615.batch      batch            powerplant         45  COMPLETED      0:0 \n",
      "600615.exte+     extern            powerplant         45  COMPLETED      0:0 \n",
      "(/workspace/appscratch/miniconda/hraaxt_mmseq2) "
     ]
    },
    {
     "ename": "",
     "evalue": "1",
     "output_type": "error",
     "traceback": []
    }
   ],
   "source": [
    "sacct -j 600615"
   ]
  },
  {
   "cell_type": "code",
   "execution_count": 14,
   "id": "dceeed07",
   "metadata": {},
   "outputs": [
    {
     "name": "stdout",
     "output_type": "stream",
     "text": [
      "(/workspace/appscratch/miniconda/hraaxt_mmseq2) taxonomyreport /powerplant/workspace/hraaxt/bioinf_radula_genome/GenomeAssembly_taketwo/ncbi_nr 09.mmseq_classify/Llaevigatum_hifi_report 09.mmseq_classify/LMori_hifi_report 09.mmseq_classify/Lepto_hifi_report.html --report-mode 1 \n",
      "\n",
      "MMseqs Version:\t13.45111\n",
      "Report mode\t1\n",
      "Threads    \t10\n",
      "Verbosity  \t3\n",
      "\n",
      "\u001b[31mInput database \"09.mmseq_classify/Llaevigatum_hifi_report\" has the wrong type (Generic)\n",
      "Allowed input:\n",
      "\u001b[39m\u001b[31m- Alignment\n",
      "\u001b[39m\u001b[31m- Prefilter\n",
      "\u001b[39m\u001b[31m- Bi-directional prefilter\n",
      "\u001b[39m\u001b[31m- Clustering\n",
      "\u001b[39m\u001b[31m- Taxonomy\n",
      "\u001b[39m\u001b[31m- Nucleotide\n",
      "\u001b[39m\u001b[31m- Profile\n",
      "\u001b[39m\u001b[31m- Aminoacid\n",
      "\u001b[39m(/workspace/appscratch/miniconda/hraaxt_mmseq2) "
     ]
    },
    {
     "ename": "",
     "evalue": "1",
     "output_type": "error",
     "traceback": []
    }
   ],
   "source": [
    "#generate krona plot\n",
    " mmseqs taxonomyreport $NR_DB 09.mmseq_classify/Llaevigatum_hifi_report 09.mmseq_classify/LMori_hifi_report 09.mmseq_classify/Lepto_hifi_report.html \\\n",
    "  --report-mode 1"
   ]
  },
  {
   "cell_type": "code",
   "execution_count": 10,
   "id": "38bd7329",
   "metadata": {},
   "outputs": [
    {
     "name": "stdout",
     "output_type": "stream",
     "text": [
      "usage: mmseqs taxonomyreport <i:seqTaxDB> <i:taxResultDB/resultDB/sequenceDB> <o:taxonomyReport> [options]\n",
      "options:                    \n",
      " --report-mode INT   Taxonomy report mode 0: Kraken 1: Krona [0]\n",
      "                   \n",
      " --threads INT       Number of CPU-cores used (all by default) [10]\n",
      " -v INT              Verbosity level: 0: quiet, 1: +errors, 2: +warnings, 3: +info [3]\n",
      "\n",
      "references:\n",
      " - Mirdita M, Steinegger M, Breitwieser F, Soding J, Levy Karin E: Fast and sensitive taxonomic assignment to metagenomic contigs. bioRxiv, 2020.11.27.401018 (2020)\n",
      "\u001b[31mNot enough input paths provided. \u001b[39m\u001b[31m3 paths are required.\n",
      "\u001b[39m(/workspace/appscratch/miniconda/hraaxt_mmseq2) "
     ]
    },
    {
     "ename": "",
     "evalue": "1",
     "output_type": "error",
     "traceback": []
    }
   ],
   "source": [
    " mmseqs taxonomyreport"
   ]
  },
  {
   "cell_type": "code",
   "execution_count": 1,
   "id": "8ac9d491",
   "metadata": {},
   "outputs": [
    {
     "name": "stdout",
     "output_type": "stream",
     "text": [
      "   [ WARNING ]  Score column already in use; not reading scores.\n",
      "Loading taxonomy...\n",
      "Importing 09.mmseq_classify/Llaevigatum_hifi_report...\n",
      "Importing 09.mmseq_classify/LMori_hifi_report...\n",
      "Importing 09.mmseq_classify/Lscoparium_hifi_report...\n",
      "Writing 09.mmseq_classify/Lhifi.krona.html...\n"
     ]
    }
   ],
   "source": [
    "#use krona plot\n",
    "/workspace/hraaxt/Tools/KronaTools-2.8.1/bin/ktImportTaxonomy -m 3 -t 5 09.mmseq_classify/*_hifi_report -o 09.mmseq_classify/Lhifi.krona.html"
   ]
  },
  {
   "cell_type": "code",
   "execution_count": null,
   "id": "ccec6123",
   "metadata": {},
   "outputs": [],
   "source": []
  }
 ],
 "metadata": {
  "kernelspec": {
   "display_name": "Bash",
   "language": "bash",
   "name": "bash"
  },
  "language_info": {
   "codemirror_mode": "shell",
   "file_extension": ".sh",
   "mimetype": "text/x-sh",
   "name": "bash"
  }
 },
 "nbformat": 4,
 "nbformat_minor": 5
}
