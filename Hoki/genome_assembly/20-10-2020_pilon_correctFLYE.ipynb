{
 "cells": [
  {
   "cell_type": "markdown",
   "metadata": {},
   "source": [
    "# pilon correct FLYE assembly\n",
    "\n",
    "* This was done twice to achieve results from two rounds of error correction.\n",
    "* current scripts are from the second round of error correction."
   ]
  },
  {
   "cell_type": "markdown",
   "metadata": {},
   "source": [
    "## 1. mapping"
   ]
  },
  {
   "cell_type": "code",
   "execution_count": 5,
   "metadata": {},
   "outputs": [],
   "source": [
    "CTG_PFR_AGRF=/workspace/hraczw/github/hoki_genomics/Flye_All_plusP/assembly.ml1000.fasta\n",
    "CTG_PFR_AGRF_P1=/workspace/hraczw/github/hoki_genomics/005.pilon_correctFLYE/FlyeAssembly_PFR_AGRF_plusP_pilon-1_corrected.fasta\n",
    "R1=/input/genomic/fish/Macruronus/novaezelandiae/Illumina/AGRF_CAGRF20062892_J9Y9G/HHP2_J9Y9G_AACGTTCC-GGAGTACT_L001_R1.fastq.gz\n",
    "R2=/input/genomic/fish/Macruronus/novaezelandiae/Illumina/AGRF_CAGRF20062892_J9Y9G/HHP2_J9Y9G_AACGTTCC-GGAGTACT_L001_R2.fastq.gz"
   ]
  },
  {
   "cell_type": "code",
   "execution_count": 2,
   "metadata": {},
   "outputs": [
    {
     "name": "stdout",
     "output_type": "stream",
     "text": [
      "Currently Loaded Modulefiles:\n",
      "  1) powerPlant/core    4) git/2.21.0         7) asub/2.2\n",
      "  2) texlive/20151117   5) perlbrew/0.76      8) samtools/1.9\n",
      "  3) pandoc/1.19.2      6) perl/5.28.0        9) bowtie2/2.3.4.3\n"
     ]
    }
   ],
   "source": [
    "module load bowtie2\n",
    "module list"
   ]
  },
  {
   "cell_type": "code",
   "execution_count": 3,
   "metadata": {},
   "outputs": [],
   "source": [
    "mkdir 005.pilon_correctFLYE"
   ]
  },
  {
   "cell_type": "code",
   "execution_count": 6,
   "metadata": {},
   "outputs": [],
   "source": [
    "WORKDIR=005.pilon_correctFLYE"
   ]
  },
  {
   "cell_type": "code",
   "execution_count": 20,
   "metadata": {},
   "outputs": [
    {
     "name": "stdout",
     "output_type": "stream",
     "text": [
      "Job <35828> is submitted to default queue <lowpriority>.\n"
     ]
    }
   ],
   "source": [
    "bsub -J bowtie2-build \\\n",
    "    -n 8 \\\n",
    "    -o $WORKDIR/bowtie2-build_PFR_AGRF_plusP_P1.out \\\n",
    "    -e $WORKDIR/bowtie2-build_PFR_AGRF_plusP_P1.err \\\n",
    "    \"bowtie2-build \\\n",
    "    --threads 8 $CTG_PFR_AGRF_P1 $WORKDIR/FlyeAssembly_PFR_AGRF_plusP_P1\""
   ]
  },
  {
   "cell_type": "code",
   "execution_count": 7,
   "metadata": {},
   "outputs": [
    {
     "name": "stdout",
     "output_type": "stream",
     "text": [
      "Currently Loaded Modulefiles:\n",
      "  1) powerPlant/core    4) git/2.21.0         7) asub/2.2\n",
      "  2) texlive/20151117   5) perlbrew/0.76      8) bowtie2/2.3.4.3\n",
      "  3) pandoc/1.19.2      6) perl/5.28.0\n"
     ]
    }
   ],
   "source": [
    "module list"
   ]
  },
  {
   "cell_type": "code",
   "execution_count": 1,
   "metadata": {},
   "outputs": [
    {
     "name": "stdout",
     "output_type": "stream",
     "text": [
      "Currently Loaded Modulefiles:\n",
      "  1) powerPlant/core    4) git/2.21.0         7) asub/2.2\n",
      "  2) texlive/20151117   5) perlbrew/0.76      8) samtools/1.9\n",
      "  3) pandoc/1.19.2      6) perl/5.28.0\n"
     ]
    }
   ],
   "source": [
    "module load samtools\n",
    "module list"
   ]
  },
  {
   "cell_type": "code",
   "execution_count": 22,
   "metadata": {},
   "outputs": [
    {
     "name": "stdout",
     "output_type": "stream",
     "text": [
      "Job <35829> is submitted to default queue <lowpriority>.\n"
     ]
    }
   ],
   "source": [
    "bsub -J mapping \\\n",
    "                -n 36 \\\n",
    "                -o $WORKDIR/bowtie2_PFR_AGRF_plusP_P1.out \\\n",
    "                -e $WORKDIR/bowtie2_PFR_AGRF_plusP_P1.err \\\n",
    "                \"bowtie2 \\\n",
    "                -p 36 \\\n",
    "                -x $WORKDIR/FlyeAssembly_PFR_AGRF_plusP_P1 \\\n",
    "                -1 $R1 \\\n",
    "                -2 $R2 | \\\n",
    "                samtools view -bS - > $WORKDIR/FlyeAssembly_PFR_AGRF_plusP_P1.bam\""
   ]
  },
  {
   "cell_type": "code",
   "execution_count": 7,
   "metadata": {},
   "outputs": [
    {
     "name": "stdout",
     "output_type": "stream",
     "text": [
      "Job <37583> is submitted to default queue <lowpriority>.\n"
     ]
    }
   ],
   "source": [
    "bsub -J sorting \\\n",
    "    -n 10 \\\n",
    "    -o $WORKDIR/sort_PFR_AGRF_plusP_P1.out \\\n",
    "    -e $WORKDIR/sort_PFR_AGRF_plusP_P1.err \\\n",
    "    \"samtools sort \\\n",
    "    -@ 10 \\\n",
    "    -o $WORKDIR/FlyeAssembly_PFR_AGRF_plusP_P1.sorted.bam \\\n",
    "    $WORKDIR/FlyeAssembly_PFR_AGRF_plusP_P1.bam\""
   ]
  },
  {
   "cell_type": "code",
   "execution_count": 8,
   "metadata": {},
   "outputs": [
    {
     "name": "stdout",
     "output_type": "stream",
     "text": [
      "Job <37658> is submitted to default queue <lowpriority>.\n"
     ]
    }
   ],
   "source": [
    "bsub -J indexing \\\n",
    "    -o $WORKDIR/index_PFR_AGRF_plusP_P1.out \\\n",
    "    -e $WORKDIR/index_PFR_AGRF_plusP_P1.err \\\n",
    "    \"samtools index $WORKDIR/FlyeAssembly_PFR_AGRF_plusP_P1.sorted.bam\""
   ]
  },
  {
   "cell_type": "markdown",
   "metadata": {},
   "source": [
    "## 2. pilon correction"
   ]
  },
  {
   "cell_type": "code",
   "execution_count": 9,
   "metadata": {},
   "outputs": [
    {
     "name": "stdout",
     "output_type": "stream",
     "text": [
      "Job <37662> is submitted to default queue <lowpriority>.\n"
     ]
    }
   ],
   "source": [
    "bsub -J pilon \\\n",
    "    -m wkoppb50 \\\n",
    "    -n 60 \\\n",
    "    -o $WORKDIR/pilon-1_PFR_AGRF_plusP_P1.out \\\n",
    "    -e $WORKDIR/pilon-1_PFR_AGRF_plusP_P1.err \\\n",
    "    \"taskset -a -c 0-60 java -Xmx1500G -jar /software/bioinformatics/pilon-1.23/pilon-1.23.jar \\\n",
    "     --genome $CTG_PFR_AGRF_P1 \\\n",
    "     --frags $WORKDIR/FlyeAssembly_PFR_AGRF_plusP_P1.sorted.bam \\\n",
    "     --output FlyeAssembly_PFR_AGRF_plusP_P1_pilon-2_corrected \\\n",
    "     --outdir $WORKDIR/ \\\n",
    "     --changes \\\n",
    "     --diploid \\\n",
    "     --fix all \\\n",
    "     --threads 60 \\\n",
    "     --flank 5\""
   ]
  }
 ],
 "metadata": {
  "kernelspec": {
   "display_name": "Bash",
   "language": "bash",
   "name": "bash"
  },
  "language_info": {
   "codemirror_mode": "shell",
   "file_extension": ".sh",
   "mimetype": "text/x-sh",
   "name": "bash"
  }
 },
 "nbformat": 4,
 "nbformat_minor": 4
}
