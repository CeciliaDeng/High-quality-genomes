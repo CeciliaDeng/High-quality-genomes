{
 "cells": [
  {
   "cell_type": "markdown",
   "metadata": {},
   "source": [
    "# Hoki ONT reads and assembly\n",
    "\n",
    "* **project background**: This is for Hoki population genetics study. There were two rounds of analysis. First round was analysed from 360 fish and the genome was assembled from inhouse MiNION data only. The second round was analysed from 510 fish and the genome was assembled from inhouse MiNION data plus AGRF MiNION data.\n",
    "* **Scientists**: Emily Koot, Maren Wellenreuther and David Chagne.\n",
    "* **Lab Scientist**: Elena Hilario\n",
    "* **Data download**: Roy Storey\n",
    "* **Variant calling**: Chen Wu"
   ]
  },
  {
   "cell_type": "markdown",
   "metadata": {},
   "source": [
    "## 1. Data preparation\n",
    "\n",
    "### 1.1 basecalling the inhouse MiNION data produced by Elena Hilario"
   ]
  },
  {
   "cell_type": "code",
   "execution_count": 31,
   "metadata": {},
   "outputs": [],
   "source": [
    "HOKI_Heart_short=/input/genomic/fish/Macruronus/novaezelandiae/ONT/GA_HOKI_Heart_short/20200918_0444_MN19482_FAO33682_c5967de7/fast5\n",
    "HOKI_LIVER_QGT100=/input/genomic/fish/Macruronus/novaezelandiae/ONT/GA_HOKI_LIVER_QGT100/20200928_0347_MN19482_FAO09986_5229a3d6/fast5\n",
    "HOKI_LIVER_QGT100_2nd_LIB=/input/genomic/fish/Macruronus/novaezelandiae/ONT/GA_HOKI_LIVER_QGT100_2nd_LIB/20200929_0355_MN19482_FAO33717_202f38df/fast5\n",
    "HOKI_LIVER_BBLOB_30G=/input/genomic/fish/Macruronus/novaezelandiae/ONT/GA_HOKI_LIVER_BBLOB_30G/20201005_0430_MN19482_FAO33717_b24b075c/fast5\n",
    "HOKI_LIVER_BBLOB30G_dsFragmentase=/input/genomic/fish/Macruronus/novaezelandiae/ONT/GA_HOKI_LIVER_BBLOB30G-dsFragmentase/20201007_0510_MN19482_FAO09986_955392c0/fast5"
   ]
  },
  {
   "cell_type": "code",
   "execution_count": 32,
   "metadata": {},
   "outputs": [],
   "source": [
    "export HOKI_Heart_short\n",
    "export HOKI_LIVER_QGT100\n",
    "export HOKI_LIVER_QGT100_2nd_LIB\n",
    "export HOKI_LIVER_BBLOB_30G\n",
    "export HOKI_LIVER_BBLOB30G_dsFragmentase"
   ]
  },
  {
   "cell_type": "code",
   "execution_count": 19,
   "metadata": {},
   "outputs": [
    {
     "name": "stdout",
     "output_type": "stream",
     "text": [
      "Currently Loaded Modulefiles:\n",
      "  1) powerPlant/core    4) git/2.21.0         7) asub/2.1\n",
      "  2) texlive/20151117   5) perlbrew/0.76      8) singularity/3\n",
      "  3) pandoc/1.19.2      6) perl/5.28.0        9) guppy/4.2.2\n"
     ]
    }
   ],
   "source": [
    "module load guppy/4.2.2\n",
    "module list"
   ]
  },
  {
   "cell_type": "code",
   "execution_count": 4,
   "metadata": {},
   "outputs": [],
   "source": [
    "mkdir 001.baseCalling"
   ]
  },
  {
   "cell_type": "code",
   "execution_count": 3,
   "metadata": {},
   "outputs": [],
   "source": [
    "WORKDIR=001.baseCalling"
   ]
  },
  {
   "cell_type": "code",
   "execution_count": 33,
   "metadata": {},
   "outputs": [
    {
     "name": "stdout",
     "output_type": "stream",
     "text": [
      "Job <415565> is submitted to default queue <lowpriority>.\n"
     ]
    }
   ],
   "source": [
    "python << EOF\n",
    "\n",
    "import sys, os\n",
    "\n",
    "filename = '$WORKDIR/samples.txt'\n",
    "f = open(filename,'r')\n",
    "\n",
    "for line in f:\n",
    "    sampleName = line.split('\\n')[0]\n",
    "    os.system('bsub -J guppy_' + sampleName + ' \\\n",
    "               -o $WORKDIR/' + sampleName + '_guppy4.2.2.out \\\n",
    "               -e $WORKDIR/' + sampleName + '_guppy4.2.2.err \\\n",
    "               -R gpu \\\n",
    "               guppy_basecaller \\\n",
    "               --compress_fastq \\\n",
    "               --input_path ' + os.environ[sampleName] + ' \\\n",
    "               --save_path $WORKDIR/' + sampleName + ' \\\n",
    "               --flowcell FLO-MIN106 --kit SQK-LSK109 -x \"cuda:0\"')\n",
    "\n",
    "f.close()\n",
    "\n",
    "EOF"
   ]
  },
  {
   "cell_type": "code",
   "execution_count": 18,
   "metadata": {},
   "outputs": [
    {
     "name": "stdout",
     "output_type": "stream",
     "text": [
      "Currently Loaded Modulefiles:\n",
      "  1) powerPlant/core    4) git/2.21.0         7) asub/2.1\n",
      "  2) texlive/20151117   5) perlbrew/0.76      8) pycoqc/2.5.0.21\n",
      "  3) pandoc/1.19.2      6) perl/5.28.0\n"
     ]
    }
   ],
   "source": [
    "module load pycoqc\n",
    "module list"
   ]
  },
  {
   "cell_type": "code",
   "execution_count": 25,
   "metadata": {},
   "outputs": [
    {
     "name": "stdout",
     "output_type": "stream",
     "text": [
      "Checking arguments values\n",
      "Check input data files\n",
      "Parse data files\n",
      "Merge data\n",
      "Cleaning data\n",
      "\tDiscarding lines containing NA values\n",
      "\t\t0 reads discarded\n",
      "\tFiltering out zero length reads\n",
      "\t\t0 reads discarded\n",
      "\tSorting run IDs by decreasing throughput\n",
      "\t\tRun-id order ['015cc04062d5b433207361dc0578bf20b04010b2', '4c14a006972263ab1bb814630fac2cbc501726a8', 'b8e5a956557d82be8c97c2ee66254101001e0214', '9365aae54ec542733282cc010dadb3b4e17dad34', '236fcb04aa138cf1feea0a0cda7783405e53a5fe']\n",
      "\tReordering runids\n",
      "\t\tProcessing reads with Run_ID 015cc04062d5b433207361dc0578bf20b04010b2 / time offset: 0\n",
      "\t\tProcessing reads with Run_ID 4c14a006972263ab1bb814630fac2cbc501726a8 / time offset: 68689.9965\n",
      "\t\tProcessing reads with Run_ID b8e5a956557d82be8c97c2ee66254101001e0214 / time offset: 151180.41175\n",
      "\t\tProcessing reads with Run_ID 9365aae54ec542733282cc010dadb3b4e17dad34 / time offset: 296202.4565\n",
      "\t\tProcessing reads with Run_ID 236fcb04aa138cf1feea0a0cda7783405e53a5fe / time offset: 371726.99049999996\n",
      "\tCast value to appropriate type\n",
      "\tReindexing dataframe by read_ids\n",
      "\t\t552,635 Final valid reads\n",
      "Loading plotting interface\n",
      "\tFound 552,635 total reads\n",
      "\tFound 488,042 pass reads (qual >= 7.0 and length >= 0)\n",
      "Generating HTML report\n",
      "\tParsing html config file\n",
      "\tRunning method run_summary\n",
      "\t\tComputing plot\n",
      "\tRunning method basecall_summary\n",
      "\t\tComputing plot\n",
      "\tRunning method alignment_summary\n",
      "\t\tNo Alignment information available\n",
      "\tRunning method read_len_1D\n",
      "\t\tComputing plot\n",
      "\tRunning method align_len_1D\n",
      "\t\tNo Alignment information available\n",
      "\tRunning method read_qual_1D\n",
      "\t\tComputing plot\n",
      "\tRunning method identity_freq_1D\n",
      "\t\tNo identity frequency information available\n",
      "\tRunning method read_len_read_qual_2D\n",
      "\t\tComputing plot\n",
      "\tRunning method read_len_align_len_2D\n",
      "\t\tNo Alignment information available\n",
      "\tRunning method align_len_identity_freq_2D\n",
      "\t\tNo identity frequency information available\n",
      "\tRunning method read_qual_identity_freq_2D\n",
      "\t\tNo identity frequency information available\n",
      "\tRunning method output_over_time\n",
      "\t\tComputing plot\n",
      "\tRunning method read_len_over_time\n",
      "\t\tComputing plot\n",
      "\tRunning method read_qual_over_time\n",
      "\t\tComputing plot\n",
      "\tRunning method align_len_over_time\n",
      "\t\tNo Alignment information available\n",
      "\tRunning method identity_freq_over_time\n",
      "\t\tNo identity frequency information available\n",
      "\tRunning method barcode_counts\n",
      "\t\tNo barcode information available\n",
      "\tRunning method channels_activity\n",
      "\t\tComputing plot\n",
      "\tRunning method alignment_reads_status\n",
      "\t\tNo Alignment information available\n",
      "\tRunning method alignment_rate\n",
      "\t\tNo identity frequency information available\n",
      "\tRunning method alignment_coverage\n",
      "\t\tNo Alignment information available\n",
      "\tLoading HTML template\n",
      "\tRendering plots in d3js\n",
      "\tWriting to HTML file\n"
     ]
    }
   ],
   "source": [
    "pycoQC -f \\\n",
    "001.baseCalling/HOKI_Heart_short/sequencing_summary.txt \\\n",
    "001.baseCalling/HOKI_LIVER_QGT100/sequencing_summary.txt \\\n",
    "001.baseCalling/HOKI_LIVER_QGT100_2nd_LIB/sequencing_summary.txt \\\n",
    "001.baseCalling/HOKI_LIVER_BBLOB_30G/sequencing_summary.txt \\\n",
    "001.baseCalling/HOKI_LIVER_BBLOB30G_dsFragmentase/sequencing_summary.txt \\\n",
    "-o pycoQC_HOKI_summary_run"
   ]
  },
  {
   "cell_type": "markdown",
   "metadata": {},
   "source": [
    "### 1.2 AGRF MiNION data\n",
    "\n",
    "* **Notes from Christopher Noune**: Library prep was completed with LSK109. Sequencing using an R9.4.1 MinION flow-cell. Guppy basecalling version 4.4.0 for fast-accuracy and version 4.4.1 for high accuracy."
   ]
  },
  {
   "cell_type": "code",
   "execution_count": 1,
   "metadata": {},
   "outputs": [],
   "source": [
    "AGRF_CAGRF20062892_Blobblob=/input/genomic/fish/Macruronus/novaezelandiae/ONT/AGRF_CAGRF20062892_Blobblob/fast5_pass"
   ]
  },
  {
   "cell_type": "markdown",
   "metadata": {},
   "source": [
    "### 1.3. merging all fastq files from inhouse and AGRF MiNION data"
   ]
  },
  {
   "cell_type": "code",
   "execution_count": 1,
   "metadata": {},
   "outputs": [
    {
     "name": "stdout",
     "output_type": "stream",
     "text": [
      "total 80\n",
      "drwxrwsr-x. 9 hraczw powerplant  846 Oct  8 15:39 001.baseCalling\n",
      "-rw-rw-r--. 1 hraczw powerplant 3851 Oct 12 11:11 03-10-2020_baseCalling.ipynb\n"
     ]
    }
   ],
   "source": [
    "ll "
   ]
  },
  {
   "cell_type": "code",
   "execution_count": 4,
   "metadata": {},
   "outputs": [
    {
     "name": "stdout",
     "output_type": "stream",
     "text": [
      "Job <417748> is submitted to default queue <lowpriority>.\n"
     ]
    }
   ],
   "source": [
    "bsub -J merge -o merge.out -e merge.err \"cat $WORKDIR/HOKI_Heart_short/*.fastq.gz \\\n",
    "$WORKDIR/HOKI_LIVER_QGT100/*.fastq.gz \\\n",
    "$WORKDIR/HOKI_LIVER_QGT100_2nd_LIB/*.fastq.gz \\\n",
    "$WORKDIR/HOKI_LIVER_BBLOB_30G/*.fastq.gz \\\n",
    "$WORKDIR/HOKI_LIVER_BBLOB30G_dsFragmentase/*.fastq.gz > HOKI_ont.fastq.gz\""
   ]
  },
  {
   "cell_type": "code",
   "execution_count": 9,
   "metadata": {},
   "outputs": [
    {
     "name": "stdout",
     "output_type": "stream",
     "text": [
      "Job <417749> is submitted to default queue <lowpriority>.\n"
     ]
    }
   ],
   "source": [
    "bsub -J unzip -o unzip.out -e unzip.err \"gunzip HOKI_ont.fastq.gz\""
   ]
  },
  {
   "cell_type": "code",
   "execution_count": 1,
   "metadata": {},
   "outputs": [
    {
     "name": "stdout",
     "output_type": "stream",
     "text": [
      "Job <820028> is submitted to default queue <lowpriority>.\n"
     ]
    }
   ],
   "source": [
    "# merge with AGRF minion fastq_pass files\n",
    "AGRF_CAGRF20062892_Blobblob_fastq=/input/genomic/fish/Macruronus/novaezelandiae/ONT/AGRF_CAGRF20062892_Blobblob/fastq_pass\n",
    "bsub -J merge -o merge_agrf.out -e merge_agrf.err \"cat $AGRF_CAGRF20062892_Blobblob_fastq/*.fastq | gzip > AGRF_HOKI_ont.fastq.gz\""
   ]
  },
  {
   "cell_type": "code",
   "execution_count": 2,
   "metadata": {},
   "outputs": [
    {
     "name": "stdout",
     "output_type": "stream",
     "text": [
      "Job <820060> is submitted to default queue <lowpriority>.\n"
     ]
    }
   ],
   "source": [
    "bsub -J merge -o merge_all.out -e merge_all.err \"cat HOKI_ont.fastq.gz AGRF_HOKI_ont.fastq.gz > ALL_HOKI_ont.fastq.gz\""
   ]
  },
  {
   "cell_type": "markdown",
   "metadata": {},
   "source": [
    "## 2. genome assembly"
   ]
  },
  {
   "cell_type": "markdown",
   "metadata": {},
   "source": [
    "### 2.1 Shasta\n",
    "\n",
    "* using the inhouse MiNION data only shows Shasta assembly is worse than Flye, so Shasta was not used for the second round of analysis."
   ]
  },
  {
   "cell_type": "code",
   "execution_count": 7,
   "metadata": {},
   "outputs": [],
   "source": [
    "mkdir 002.Shasta"
   ]
  },
  {
   "cell_type": "code",
   "execution_count": 8,
   "metadata": {},
   "outputs": [],
   "source": [
    "WORKDIR=002.Shasta"
   ]
  },
  {
   "cell_type": "code",
   "execution_count": 11,
   "metadata": {},
   "outputs": [
    {
     "name": "stdout",
     "output_type": "stream",
     "text": [
      "total 3872248\n",
      "drwxrwsr-x. 9 hraczw powerplant        846 Oct  8 15:39 001.baseCalling\n",
      "drwxrwsr-x. 2 hraczw powerplant          0 Oct 12 11:22 002.Shasta\n",
      "-rw-rw-r--. 1 hraczw powerplant      34009 Oct 12 11:27 03-10-2020_baseCalling.ipynb\n",
      "-rw-rw-r--. 1 hraczw powerplant 3297951666 Oct 12 11:15 HOKI_ont.fastq\n",
      "-rw-rw-r--. 1 hraczw powerplant        336 Oct 12 11:13 merge.err\n",
      "-rw-rw-r--. 1 hraczw powerplant       2268 Oct 12 11:15 merge.out\n",
      "-rw-rw-r--. 1 hraczw powerplant          0 Oct 12 11:25 unzip.err\n",
      "-rw-rw-r--. 1 hraczw powerplant        920 Oct 12 11:26 unzip.out\n"
     ]
    }
   ],
   "source": [
    "ll"
   ]
  },
  {
   "cell_type": "code",
   "execution_count": 5,
   "metadata": {},
   "outputs": [],
   "source": [
    "export PATH=/workspace/hraczw/github/programs/Shasta/:$PATH"
   ]
  },
  {
   "cell_type": "code",
   "execution_count": 16,
   "metadata": {},
   "outputs": [
    {
     "name": "stdout",
     "output_type": "stream",
     "text": [
      "Job <417755> is submitted to default queue <lowpriority>.\n"
     ]
    }
   ],
   "source": [
    "bsub -J shasta -n 36 -m wkoppb50 -o shasta.out -e shasta.err \\\n",
    "\"shasta-Linux-0.6.0 \\\n",
    "--input HOKI_ont.fastq \\\n",
    "--assemblyDirectory $WORKDIR/shasta \\\n",
    "--threads 36\""
   ]
  },
  {
   "cell_type": "code",
   "execution_count": 14,
   "metadata": {
    "collapsed": true,
    "jupyter": {
     "outputs_hidden": true
    }
   },
   "outputs": [
    {
     "name": "stdout",
     "output_type": "stream",
     "text": [
      "Shasta Release 0.6.0\n",
      "\n",
      "To run an assembly, use the \"--input\" option to specify the input files. Use the \"--help\" option for a description of the other options and parameters.\n",
      "\n",
      "Default values of assembly parameters are not recommended for any specific application and mostly reflect approximate compatibility with previous releases.See the shasta/conf or shasta-install/conf directory for sample configuration files containing assembly parameters for specific applications.\n",
      "\n",
      "For more information about the Shasta assembler, see\n",
      "https://github.com/chanzuckerberg/shasta\n",
      "\n",
      "Complete documentation for the latest version of Shasta is available here:\n",
      "https://chanzuckerberg.github.io/shasta\n",
      "\n",
      "Options allowed only on the command line:\n",
      "  -h [ --help ]                         Write a help message.\n",
      "  -v [ --version ]                      Identify the Shasta version.\n",
      "  --config arg                          Configuration file name.\n",
      "  --input arg                           Names of input files containing reads. \n",
      "                                        Specify at least one.\n",
      "  --assemblyDirectory arg (=ShastaRun)  Name of the output directory. If \n",
      "                                        command is assemble, this directory \n",
      "                                        must not exist.\n",
      "  --command arg (=assemble)             Command to run. Must be one of: \n",
      "                                        assemble, saveBinaryData, \n",
      "                                        cleanupBinaryData, explore, \n",
      "                                        createBashCompletionScript\n",
      "  --memoryMode arg (=anonymous)         Specify whether allocated memory is \n",
      "                                        anonymous or backed by a filesystem. \n",
      "                                        Allowed values: anonymous, filesystem.\n",
      "  --memoryBacking arg (=4K)             Specify the type of pages used to back \n",
      "                                        memory.\n",
      "                                        Allowed values: disk, 4K , 2M (for best\n",
      "                                        performance). All combinations \n",
      "                                        (memoryMode, memoryBacking) are allowed\n",
      "                                        except for (anonymous, disk).\n",
      "                                        Some combinations require root \n",
      "                                        privilege, which is obtained using sudo\n",
      "                                        and may result in a password prompting \n",
      "                                        depending on your sudo set up.\n",
      "  --threads arg (=0)                    Number of threads, or 0 to use one \n",
      "                                        thread per virtual processor.\n",
      "  --exploreAccess arg (=user)           Specify allowed access for --command \n",
      "                                        explore. Allowed values: user, local, \n",
      "                                        unrestricted. DO NOT CHANGE FROM \n",
      "                                        DEFAULT VALUE WITHOUT UNDERSTANDING THE\n",
      "                                        SECURITY IMPLICATIONS.\n",
      "  --port arg (=17100)                   Port to be used by the http server \n",
      "                                        (command --explore).\n",
      "\n",
      "Options allowed on the command line and in the config file:\n",
      "  --Reads.minReadLength arg (=10000)    Read length cutoff. Shorter reads are \n",
      "                                        discarded.\n",
      "  --Reads.desiredCoverage arg (=0)      Reduce coverage to desired value. If \n",
      "                                        not zero, specifies desired coverage \n",
      "                                        (number of bases). The read length \n",
      "                                        cutoff specified via \n",
      "                                        --Reads.minReadLength is increased to \n",
      "                                        reduce coverage to the specified value.\n",
      "                                        Power of 10 multipliers can be used, \n",
      "                                        for example 120Gb to request 120 Gb of \n",
      "                                        coverage.\n",
      "  --Reads.noCache                       If set, skip the Linux cache when \n",
      "                                        loading reads. This is done by \n",
      "                                        specifying the O_DIRECT flag when \n",
      "                                        opening input files containing reads.\n",
      "  --Reads.palindromicReads.skipFlagging \n",
      "                                        Skip flagging palindromic reads. Oxford\n",
      "                                        Nanopore reads should be flagged for \n",
      "                                        better results.\n",
      "  --Reads.palindromicReads.maxSkip arg (=100)\n",
      "                                        Used for palindromic read detection.\n",
      "  --Reads.palindromicReads.maxDrift arg (=100)\n",
      "                                        Used for palindromic read detection.\n",
      "  --Reads.palindromicReads.maxMarkerFrequency arg (=10)\n",
      "                                        Used for palindromic read detection.\n",
      "  --Reads.palindromicReads.alignedFractionThreshold arg (=0.1)\n",
      "                                        Used for palindromic read detection.\n",
      "  --Reads.palindromicReads.nearDiagonalFractionThreshold arg (=0.1)\n",
      "                                        Used for palindromic read detection.\n",
      "  --Reads.palindromicReads.deltaThreshold arg (=100)\n",
      "                                        Used for palindromic read detection.\n",
      "  --Kmers.generationMethod arg (=0)     Method to generate marker k-mers: 0 = \n",
      "                                        random, 1 = random, excluding globally \n",
      "                                        overenriched,2 = random, excluding \n",
      "                                        overenriched even in a single read,3 = \n",
      "                                        read from file.\n",
      "  --Kmers.k arg (=10)                   Length of marker k-mers (in run-length \n",
      "                                        space).\n",
      "  --Kmers.probability arg (=0.1)        Fraction k-mers used as a marker.\n",
      "  --Kmers.enrichmentThreshold arg (=100.)\n",
      "                                        Enrichment threshold for \n",
      "                                        Kmers.generationMethod 1 and 2.\n",
      "  --Kmers.file arg                      The absolute path of a file containing \n",
      "                                        the k-mers to be used as markers, one \n",
      "                                        per line. A relative path is not \n",
      "                                        accepted. Only used if \n",
      "                                        Kmers.generationMethod is 3.\n",
      "  --MinHash.version arg (=0)            Controls the version of the LowHash \n",
      "                                        algorithm to use. Can be 0 (default) or\n",
      "                                        1.(experimental).\n",
      "  --MinHash.m arg (=4)                  The number of consecutive markers that \n",
      "                                        define a MinHash/LowHash feature.\n",
      "  --MinHash.hashFraction arg (=0.01)    Defines how low a hash has to be to be \n",
      "                                        used with the LowHash algorithm.\n",
      "  --MinHash.minHashIterationCount arg (=10)\n",
      "                                        The number of MinHash/LowHash \n",
      "                                        iterations, or 0 to let \n",
      "                                        --MinHash.alignmentCandidatesPerRead \n",
      "                                        control the number of iterations.\n",
      "  --MinHash.alignmentCandidatesPerRead arg (=20)\n",
      "                                        If --MinHash.minHashIterationCount is \n",
      "                                        0, MinHash iteration is stopped when \n",
      "                                        the average number of alignment \n",
      "                                        candidates that each read is involved \n",
      "                                        in reaches this value. If \n",
      "                                        --MinHash.minHashIterationCount is not \n",
      "                                        0, this is not used.\n",
      "  --MinHash.minBucketSize arg (=0)      The minimum bucket size to be used by \n",
      "                                        the LowHash algoritm.\n",
      "  --MinHash.maxBucketSize arg (=10)     The maximum bucket size to be used by \n",
      "                                        the LowHash algoritm.\n",
      "  --MinHash.minFrequency arg (=2)       The minimum number of times a pair of \n",
      "                                        reads must be found by the \n",
      "                                        MinHash/LowHash algorithm in order to \n",
      "                                        be considered a candidate alignment.\n",
      "  --MinHash.allPairs                    Skip the MinHash algorithm and mark all\n",
      "                                        pairs of reads as alignmentcandidates \n",
      "                                        with both orientation. This should only\n",
      "                                        be used for experimentation on very \n",
      "                                        small runs because it is very time \n",
      "                                        consuming.\n",
      "  --Align.alignMethod arg (=3)          The alignment method to be used to \n",
      "                                        create the read graph & the marker \n",
      "                                        graph. 0 = old Shasta method, 1 = SeqAn\n",
      "                                        (slow), 3 = banded SeqAn.\n",
      "  --Align.maxSkip arg (=30)             The maximum number of markers that an \n",
      "                                        alignment is allowed to skip.\n",
      "  --Align.maxDrift arg (=30)            The maximum amount of marker drift that\n",
      "                                        an alignment is allowed to tolerate \n",
      "                                        between successive markers.\n",
      "  --Align.maxTrim arg (=30)             The maximum number of unaligned markers\n",
      "                                        tolerated at the beginning and end of \n",
      "                                        an alignment.\n",
      "  --Align.maxMarkerFrequency arg (=10)  Marker frequency threshold. Markers \n",
      "                                        more frequent than this value in either\n",
      "                                        of two oriented reads being aligned are\n",
      "                                        discarded and not used to compute the \n",
      "                                        alignment.\n",
      "  --Align.minAlignedMarkerCount arg (=100)\n",
      "                                        The minimum number of aligned markers \n",
      "                                        for an alignment to be used.\n",
      "  --Align.minAlignedFraction arg (=0)   The minimum fraction of aligned markers\n",
      "                                        for an alignment to be used.\n",
      "  --Align.matchScore arg (=6)           Match score for marker alignments (only\n",
      "                                        used for alignment methods 1 and 3).\n",
      "  --Align.mismatchScore arg (=-1)       Mismatch score for marker alignments \n",
      "                                        (only used for alignment methods 1 and \n",
      "                                        3).\n",
      "  --Align.gapScore arg (=-1)            Gap score for marker alignments (only \n",
      "                                        used for alignment methods 1 and 3).\n",
      "  --Align.downsamplingFactor arg (=0.10000000000000001)\n",
      "                                        Downsampling factor (only used for \n",
      "                                        alignment method 3).\n",
      "  --Align.bandExtend arg (=10)          Amount to extend the downsampled band \n",
      "                                        (only used for alignment method 3).\n",
      "  --Align.maxBand arg (=1000)           Maximum alignment band (only used for \n",
      "                                        alignment method 3).\n",
      "  --Align.sameChannelReadAlignment.suppressDeltaThreshold arg (=0)\n",
      "                                        If not zero, alignments between reads \n",
      "                                        from the same nanopore channel and \n",
      "                                        close in time are suppressed. The \n",
      "                                        \"read\" meta data fields from the FASTA \n",
      "                                        or FASTQ header are checked. If their \n",
      "                                        difference, in absolute value, is less \n",
      "                                        than the value of this option, the \n",
      "                                        alignment is suppressed. This can help \n",
      "                                        avoid assembly artifact. This check is \n",
      "                                        only done if the two reads have \n",
      "                                        identical meta data fields \"runid\", \n",
      "                                        \"sampleid\", and \"ch\". If any of these \n",
      "                                        meta data fields are missing, this \n",
      "                                        check is suppressed and this option has\n",
      "                                        no effect.\n",
      "  --Align.suppressContainments          Suppress containment alignments, that \n",
      "                                        is alignments in which one read is \n",
      "                                        entirely contained in another read, \n",
      "                                        except possibly for up to maxTrim \n",
      "                                        markers at the beginning and end.\n",
      "  --ReadGraph.creationMethod arg (=0)   The method used to create the read \n",
      "                                        graph (0 default, 1 or 2 experimental).\n",
      "  --ReadGraph.maxAlignmentCount arg (=6)\n",
      "                                        The maximum number of alignments to be \n",
      "                                        kept for each read.\n",
      "  --ReadGraph.minComponentSize arg (=100)\n",
      "                                        The minimum size (number of oriented \n",
      "                                        reads) of a connected component of the \n",
      "                                        read graph to be kept. This is \n",
      "                                        currently ignored.\n",
      "  --ReadGraph.maxChimericReadDistance arg (=2)\n",
      "                                        Used for chimeric read detection.\n",
      "  --ReadGraph.crossStrandMaxDistance arg (=6)\n",
      "                                        Maximum distance (edges) for \n",
      "                                        flagCrossStrandReadGraphEdges. Set this\n",
      "                                        to zero to entirely suppress \n",
      "                                        flagCrossStrandReadGraphEdges.\n",
      "  --ReadGraph.containedNeighborCount arg (=6)\n",
      "                                        Maximum number of alignments to be kept\n",
      "                                        for each contained read (only used when\n",
      "                                        creationMethod is 1).\n",
      "  --ReadGraph.uncontainedNeighborCountPerDirection arg (=3)\n",
      "                                        Maximum number of alignments to be kept\n",
      "                                        in each direction (forward, backward) \n",
      "                                        for each uncontained read (only used \n",
      "                                        when creationMethod is 1).\n",
      "  --ReadGraph.removeConflicts           Remove conflicts from the read graph. \n",
      "                                        Experimental - do not use.\n",
      "  --ReadGraph.markerCountPercentile arg (=0.015)\n",
      "                                        Percentile for markerCount (only used \n",
      "                                        when creationMethod is 2).\n",
      "  --ReadGraph.alignedFractionPercentile arg (=0.12)\n",
      "                                        Percentile for alignedFraction (only \n",
      "                                        used when creationMethod is 2).\n",
      "  --ReadGraph.maxSkipPercentile arg (=0.12)\n",
      "                                        Percentile for maxSkip (only used when \n",
      "                                        creationMethod is 2).\n",
      "  --ReadGraph.maxDriftPercentile arg (=0.12)\n",
      "                                        Percentile for maxDrift (only used when\n",
      "                                        creationMethod is 2).\n",
      "  --ReadGraph.maxTrimPercentile arg (=0.015)\n",
      "                                        Percentile for maxTrim (only used when \n",
      "                                        creationMethod is 2).\n",
      "  --MarkerGraph.minCoverage arg (=10)   Minimum coverage (number of supporting \n",
      "                                        oriented reads) for a marker graph \n",
      "                                        vertex to be created.Specifying 0 \n",
      "                                        causes a suitable value of this \n",
      "                                        parameter to be selected automatically.\n",
      "  --MarkerGraph.maxCoverage arg (=100)  Maximum coverage (number of supporting \n",
      "                                        oriented reads) for a marker graph \n",
      "                                        vertex.\n",
      "  --MarkerGraph.minCoveragePerStrand arg (=0)\n",
      "                                        Minimum coverage (number of supporting \n",
      "                                        oriented reads) for each strand for a \n",
      "                                        marker graph vertex.\n",
      "  --MarkerGraph.lowCoverageThreshold arg (=0)\n",
      "                                        Used during approximate transitive \n",
      "                                        reduction. Marker graph edges with \n",
      "                                        coverage lower than this value are \n",
      "                                        always marked as removed regardless of \n",
      "                                        reachability.\n",
      "  --MarkerGraph.highCoverageThreshold arg (=256)\n",
      "                                        Used during approximate transitive \n",
      "                                        reduction. Marker graph edges with \n",
      "                                        coverage higher than this value are \n",
      "                                        never marked as removed regardless of \n",
      "                                        reachability.\n",
      "  --MarkerGraph.maxDistance arg (=30)   Used during approximate transitive \n",
      "                                        reduction.\n",
      "  --MarkerGraph.edgeMarkerSkipThreshold arg (=100)\n",
      "                                        Used during approximate transitive \n",
      "                                        reduction.\n",
      "  --MarkerGraph.pruneIterationCount arg (=6)\n",
      "                                        Number of prune iterations.\n",
      "  --MarkerGraph.simplifyMaxLength arg (=10,100,1000)\n",
      "                                        Maximum lengths (in markers) used at \n",
      "                                        each iteration of simplifyMarkerGraph.\n",
      "  --MarkerGraph.crossEdgeCoverageThreshold arg (=0)\n",
      "                                        Experimental. Cross edge coverage \n",
      "                                        threshold. If this is not zero, \n",
      "                                        assembly graph cross-edges with average\n",
      "                                        edge coverage less than this value are \n",
      "                                        removed, together with the \n",
      "                                        corresponding marker graph edges. A \n",
      "                                        cross edge is defined as an edge v0->v1\n",
      "                                        with out-degree(v0)>1, in-degree(v1)>1.\n",
      "  --MarkerGraph.refineThreshold arg (=0)\n",
      "                                        Experimental. Length threshold, in \n",
      "                                        markers, for the marker graph \n",
      "                                        refinement step, or 0 to turn off the \n",
      "                                        refinement step.\n",
      "  --MarkerGraph.reverseTransitiveReduction \n",
      "                                        Perform approximate reverse transitive \n",
      "                                        reduction of the marker graph.\n",
      "  --MarkerGraph.peakFinder.minAreaFraction arg (=0.080000000000000002)\n",
      "                                        Used in the automatic selection of \n",
      "                                        --MarkerGraph.minCoverage when \n",
      "                                        --MarkerGraph.minCoverage is set to 0.\n",
      "  --MarkerGraph.peakFinder.areaStartIndex arg (=2)\n",
      "                                        Used in the automatic selection of \n",
      "                                        --MarkerGraph.minCoverage when \n",
      "                                        --MarkerGraph.minCoverage is set to 0.\n",
      "  --Assembly.crossEdgeCoverageThreshold arg (=3)\n",
      "                                        Maximum average edge coverage for a \n",
      "                                        cross edge of the assembly graph to be \n",
      "                                        removed.\n",
      "  --Assembly.markerGraphEdgeLengthThresholdForConsensus arg (=1000)\n",
      "                                        Controls assembly of long marker graph \n",
      "                                        edges.\n",
      "  --Assembly.consensusCaller arg (=Bayesian:guppy-2.3.5-a)\n",
      "                                        Selects the consensus caller for repeat\n",
      "                                        counts. See the documentation for \n",
      "                                        available choices.\n",
      "  --Assembly.storeCoverageData          Used to request storing coverage data \n",
      "                                        in binary format.\n",
      "  --Assembly.storeCoverageDataCsvLengthThreshold arg (=0)\n",
      "                                        Used to specify the minimum length of \n",
      "                                        an assembled segment for which coverage\n",
      "                                        data in csv format should be stored. If\n",
      "                                        0, no coverage data in csv format is \n",
      "                                        stored.\n",
      "  --Assembly.writeReadsByAssembledSegment \n",
      "                                        Used to request writing the reads that \n",
      "                                        contributed to assembling each segment.\n",
      "  --Assembly.detangleMethod arg (=0)    Specify the method used to detangle the\n",
      "                                        assembly graph. 0 = no detangling, 1 = \n",
      "                                        strict detangling, 2 = less strict \n",
      "                                        detangling, controlled by \n",
      "                                        Assembly.detangle.* options \n",
      "                                        (experimental).\n",
      "  --Assembly.detangle.diagonalReadCountMin arg (=1)\n",
      "                                        Minimum number of reads on detangle \n",
      "                                        matrix diagonal elements required for \n",
      "                                        detangling.\n",
      "  --Assembly.detangle.offDiagonalReadCountMax arg (=2)\n",
      "                                        Maximum number of reads on detangle \n",
      "                                        matrix off-diagonal elements allowed \n",
      "                                        for detangling.\n",
      "  --Assembly.detangle.offDiagonalRatio arg (=0.29999999999999999)\n",
      "                                        Maximum ratio of total off-diagonal \n",
      "                                        elements over diagonal element allowed \n",
      "                                        for detangling.\n",
      "  --Assembly.iterative                  Used to request iterative assembly \n",
      "                                        (experimental).\n",
      "  --Assembly.iterative.iterationCount arg (=3)\n",
      "                                        Number of iterations for iterative \n",
      "                                        assembly (experimental).\n",
      "  --Assembly.iterative.pseudoPathAlignMatchScore arg (=1)\n",
      "                                        Pseudopath alignment match score for \n",
      "                                        iterative assembly (experimental).\n",
      "  --Assembly.iterative.pseudoPathAlignMismatchScore arg (=-1)\n",
      "                                        Pseudopath alignment mismatch score for\n",
      "                                        iterative assembly (experimental).\n",
      "  --Assembly.iterative.pseudoPathAlignGapScore arg (=-1)\n",
      "                                        Pseudopath alignment gap score for \n",
      "                                        iterative assembly (experimental).\n",
      "  --Assembly.iterative.mismatchSquareFactor arg (=3)\n",
      "                                        Mismatch square factor for iterative \n",
      "                                        assembly (experimental).\n",
      "  --Assembly.iterative.minScore arg (=0)\n",
      "                                        Minimum pseudo-alignment score for \n",
      "                                        iterative assembly (experimental).\n",
      "  --Assembly.iterative.maxAlignmentCount arg (=6)\n",
      "                                        Maximum number of read graph neighbors \n",
      "                                        for iterative assembly (experimental).\n",
      "  --Assembly.iterative.bridgeRemovalIterationCount arg (=3)\n",
      "                                        Number of read graph bridge removal \n",
      "                                        iterations for iterative assembly \n",
      "                                        (experimental).\n",
      "  --Assembly.iterative.bridgeRemovalMaxDistance arg (=2)\n",
      "                                        Maximum distance for read graph bridge \n",
      "                                        removal for iterative assembly \n",
      "                                        (experimental).\n",
      "\n",
      "2020-Oct-12 11:46:50.020407 Terminated after catching a runtime error exception:\n",
      "Specify at least one input file using command line option \"--input\".\n"
     ]
    },
    {
     "ename": "",
     "evalue": "2",
     "output_type": "error",
     "traceback": []
    }
   ],
   "source": [
    "shasta-Linux-0.6.0"
   ]
  },
  {
   "cell_type": "markdown",
   "metadata": {},
   "source": [
    "### 2.2. Flye"
   ]
  },
  {
   "cell_type": "code",
   "execution_count": 5,
   "metadata": {},
   "outputs": [],
   "source": [
    "export PATH=/workspace/hraczw/github/programs/FLYE_2-8-1/Flye/bin/:$PATH"
   ]
  },
  {
   "cell_type": "markdown",
   "metadata": {},
   "source": [
    "#### 2.2.1 inhouse MiNION data only"
   ]
  },
  {
   "cell_type": "code",
   "execution_count": 23,
   "metadata": {},
   "outputs": [
    {
     "name": "stdout",
     "output_type": "stream",
     "text": [
      "Job <418171> is submitted to default queue <lowpriority>.\n"
     ]
    }
   ],
   "source": [
    "bsub -J flye -n 36 -m wkoppb50 \\\n",
    "-o flye.out -e flye.err \\\n",
    "\"flye --nano-raw HOKI_ont.fastq \\\n",
    "--genome-size 700m \\\n",
    "-o Flye_All -t 36 -i 1\""
   ]
  },
  {
   "cell_type": "code",
   "execution_count": 3,
   "metadata": {},
   "outputs": [],
   "source": [
    "module load assemblathon_stats/14dfdab"
   ]
  },
  {
   "cell_type": "code",
   "execution_count": 4,
   "metadata": {},
   "outputs": [
    {
     "name": "stdout",
     "output_type": "stream",
     "text": [
      "\n",
      "---------------- Information for assembly 'Flye_All/assembly.fasta' ----------------\n",
      "\n",
      "\n",
      "                                         Number of scaffolds       3339\n",
      "                                     Total size of scaffolds  105375225\n",
      "                                            Longest scaffold     180552\n",
      "                                           Shortest scaffold        163\n",
      "                                 Number of scaffolds > 1K nt       3166  94.8%\n",
      "                                Number of scaffolds > 10K nt       2832  84.8%\n",
      "                               Number of scaffolds > 100K nt         20   0.6%\n",
      "                                 Number of scaffolds > 1M nt          0   0.0%\n",
      "                                Number of scaffolds > 10M nt          0   0.0%\n",
      "                                          Mean scaffold size      31559\n",
      "                                        Median scaffold size      29688\n",
      "                                         N50 scaffold length      40544\n",
      "                                          L50 scaffold count        925\n",
      "                                                 scaffold %A      26.62\n",
      "                                                 scaffold %C      23.37\n",
      "                                                 scaffold %G      23.40\n",
      "                                                 scaffold %T      26.61\n",
      "                                                 scaffold %N       0.00\n",
      "                                         scaffold %non-ACGTN       0.00\n",
      "                             Number of scaffold non-ACGTN nt          0\n",
      "\n",
      "                Percentage of assembly in scaffolded contigs       0.3%\n",
      "              Percentage of assembly in unscaffolded contigs      99.7%\n",
      "                      Average number of contigs per scaffold        1.0\n",
      "  Mean length of breaks (>=25Ns) between contigs in scaffold        100\n",
      "\n",
      "                                           Number of contigs       3344\n",
      "                              Number of contigs in scaffolds         10\n",
      "                          Number of contigs not in scaffolds       3334\n",
      "                                       Total size of contigs  105374725\n",
      "                                              Longest contig     180552\n",
      "                                             Shortest contig        163\n",
      "                                   Number of contigs > 1K nt       3171  94.8%\n",
      "                                  Number of contigs > 10K nt       2835  84.8%\n",
      "                                 Number of contigs > 100K nt         20   0.6%\n",
      "                                   Number of contigs > 1M nt          0   0.0%\n",
      "                                  Number of contigs > 10M nt          0   0.0%\n",
      "                                            Mean contig size      31512\n",
      "                                          Median contig size      29664\n",
      "                                           N50 contig length      40440\n",
      "                                            L50 contig count        927\n",
      "                                                   contig %A      26.62\n",
      "                                                   contig %C      23.37\n",
      "                                                   contig %G      23.40\n",
      "                                                   contig %T      26.61\n",
      "                                                   contig %N       0.00\n",
      "                                           contig %non-ACGTN       0.00\n",
      "                               Number of contig non-ACGTN nt          0\n"
     ]
    }
   ],
   "source": [
    "assemblathon_stats.pl Flye_All/assembly.fasta"
   ]
  },
  {
   "cell_type": "markdown",
   "metadata": {},
   "source": [
    "#### 2.2.2 inhouse plus AGRF MiNION data"
   ]
  },
  {
   "cell_type": "code",
   "execution_count": 7,
   "metadata": {},
   "outputs": [],
   "source": [
    "module load pfr-python3"
   ]
  },
  {
   "cell_type": "code",
   "execution_count": 8,
   "metadata": {},
   "outputs": [
    {
     "name": "stdout",
     "output_type": "stream",
     "text": [
      "Job <820400> is submitted to queue <priority>.\n"
     ]
    }
   ],
   "source": [
    "# assembly with PFR and AGRF data\n",
    "\n",
    "bsub -q priority -P P/536002/01 -J flye -n 36 -m wkoppb50 \\\n",
    "-o flye_PFR_AGRF.out -e flye_PFR_AGRF.err \\\n",
    "\"flye --nano-raw ALL_HOKI_ont.fastq.gz \\\n",
    "--genome-size 700m \\\n",
    "-o Flye_PFR_AGRF -t 36 -i 1\""
   ]
  },
  {
   "cell_type": "markdown",
   "metadata": {},
   "source": [
    "#### 2.2.3 inhouse plus AGRF MiNION and Promethon data"
   ]
  },
  {
   "cell_type": "code",
   "execution_count": 1,
   "metadata": {},
   "outputs": [],
   "source": [
    "AGRF_CAGRF20062892_Blobblob_PromethION_fastq=/input/genomic/fish/Macruronus/novaezelandiae/ONT/AGRF_CAGRF20062892_Blobblob_PromethION/fastq_pass"
   ]
  },
  {
   "cell_type": "code",
   "execution_count": 3,
   "metadata": {},
   "outputs": [
    {
     "name": "stdout",
     "output_type": "stream",
     "text": [
      "Job <33259> is submitted to default queue <lowpriority>.\n"
     ]
    }
   ],
   "source": [
    "bsub -J merge -o merge_agrf_p.out -e merge_agrf_p.err \"cat $AGRF_CAGRF20062892_Blobblob_PromethION_fastq/*.fastq.gz > AGRF_HOKI_ont_P.fastq.gz\""
   ]
  },
  {
   "cell_type": "code",
   "execution_count": 4,
   "metadata": {},
   "outputs": [
    {
     "name": "stdout",
     "output_type": "stream",
     "text": [
      "Job <33260> is submitted to default queue <lowpriority>.\n"
     ]
    }
   ],
   "source": [
    "bsub -J merge -o merge_all_plusP.out -e merge_all_plusP.err \"cat ALL_HOKI_ont.fastq.gz AGRF_HOKI_ont_P.fastq.gz > ALL_HOKI_ont_plusP.fastq.gz\""
   ]
  },
  {
   "cell_type": "code",
   "execution_count": 8,
   "metadata": {},
   "outputs": [
    {
     "name": "stdout",
     "output_type": "stream",
     "text": [
      "Job <33262> is submitted to default queue <lowpriority>.\n"
     ]
    }
   ],
   "source": [
    "bsub -J flye -n 36 -m wkoppb50 \\\n",
    "-o flye_all_plusP.out -e flye_all_plusP.err \\\n",
    "\"flye --nano-raw ALL_HOKI_ont_plusP.fastq.gz \\\n",
    "--genome-size 700m \\\n",
    "-o Flye_All_plusP -t 36 -i 1\""
   ]
  },
  {
   "cell_type": "code",
   "execution_count": null,
   "metadata": {},
   "outputs": [],
   "source": [
    "bsub -q priority -P P/536002/01 -J flye -n 36 -m wkoppb50 \\\n",
    "-o flye_all_plusP_m1500.out -e flye_all_plusP_m1500.err \\\n",
    "\"flye --nano-raw ALL_HOKI_ont_plusP.fastq.gz \\\n",
    "--genome-size 700m \\\n",
    "-m 1500 \\\n",
    "--keep-haplotypes \\\n",
    "-o Flye_All_plusP_m1500 -t 36 -i 1\""
   ]
  },
  {
   "cell_type": "code",
   "execution_count": null,
   "metadata": {},
   "outputs": [],
   "source": [
    "bsub -q priority -P P/536002/01 -J flye -n 36 -m wkoppb50 \\\n",
    "-o flye_all_plusP_m2000.out -e flye_all_plusP_m2000.err \\\n",
    "\"flye --nano-raw ALL_HOKI_ont_plusP.fastq.gz \\\n",
    "--genome-size 700m \\\n",
    "-m 2000 \\\n",
    "--keep-haplotypes \\\n",
    "-o Flye_All_plusP_m2000 -t 36 -i 1\""
   ]
  }
 ],
 "metadata": {
  "kernelspec": {
   "display_name": "Bash",
   "language": "bash",
   "name": "bash"
  },
  "language_info": {
   "codemirror_mode": "shell",
   "file_extension": ".sh",
   "mimetype": "text/x-sh",
   "name": "bash"
  }
 },
 "nbformat": 4,
 "nbformat_minor": 4
}
