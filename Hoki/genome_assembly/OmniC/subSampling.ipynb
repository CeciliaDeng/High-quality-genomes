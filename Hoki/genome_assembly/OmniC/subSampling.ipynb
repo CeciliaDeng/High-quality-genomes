{
 "cells": [
  {
   "cell_type": "markdown",
   "metadata": {},
   "source": [
    "# Sub-sample from the 1Billion OminC data"
   ]
  },
  {
   "cell_type": "markdown",
   "metadata": {},
   "source": [
    "## Sub-sample for 2 million pairs of data for testing purpose"
   ]
  },
  {
   "cell_type": "code",
   "execution_count": 3,
   "metadata": {},
   "outputs": [],
   "source": [
    "baseDir=/workspace/hrachd/Fish/2021/HiC\n",
    "RAW=/input/genomic/fish/Macruronus/novaezelandiae/reference_genome/HIC/\n",
    "REF=/output/genomic/fish/Macruronus/novaezelandiae/Assembly/Mno_genome.FLYE.PILON.noBac.fasta\n",
    "R1=HH_Hi-C_S1_R1_001.fastq.gz\n",
    "R2=HH_Hi-C_S1_R2_001.fastq.gz\n",
    "\n",
    "workDir=$baseDir/10_2M_data\n",
    "workDir2=$baseDir/11_200M_data\n",
    "logDir=$workDir/.log\n",
    "logDir2=$workDir2/.log\n",
    "#mkdir -p $logDir $logDir2\n"
   ]
  },
  {
   "cell_type": "code",
   "execution_count": 4,
   "metadata": {},
   "outputs": [
    {
     "name": "stdout",
     "output_type": "stream",
     "text": [
      "Job <94052> is submitted to queue <priority>.\n",
      "Job <94053> is submitted to queue <priority>.\n"
     ]
    }
   ],
   "source": [
    "module load seqtk/1.2\n",
    "cd $RAW\n",
    "\n",
    "m2R1=HH_HiC2M_R1.fastq\n",
    "m2R2=HH_HiC2M_R2.fastq\n",
    "\n",
    "# 569125006*0.005 = 2,845,625 reads\n",
    "bsub -q priority -P P/952006/04 -o $logDir/01_subsampleR1.log -e $logDir/01_subsampleR1.err -J 2MR1 \"seqtk sample -s100 $R1 0.005 > $workDir/$m2R1\"\n",
    "bsub -q priority -P P/952006/04 -o $logDir/01_subsampleR2.log -e $logDir/01_subsampleR2.err -J 2MR2 \"seqtk sample -s100 $R2 0.005 > $workDir/$m2R2\"\n"
   ]
  },
  {
   "cell_type": "code",
   "execution_count": 5,
   "metadata": {},
   "outputs": [
    {
     "name": "stdout",
     "output_type": "stream",
     "text": [
      "JOBID   USER    STAT  QUEUE      FROM_HOST   EXEC_HOST   JOB_NAME   SUBMIT_TIME\n",
      "90980   hrachd  SSUSP priority   aklppf31    wkoppb30    Hoki       Jul  7 09:59\n",
      "                                             wkoppb30\n",
      "                                             wkoppb30\n",
      "                                             wkoppb30\n",
      "                                             wkoppb30\n",
      "                                             wkoppb30\n",
      "                                             wkoppb30\n",
      "                                             wkoppb30\n",
      "                                             wkoppb30\n",
      "                                             wkoppb30\n",
      "                                             wkoppb30\n",
      "                                             wkoppb30\n",
      "                                             wkoppb30\n",
      "                                             wkoppb30\n",
      "                                             wkoppb30\n",
      "                                             wkoppb30\n",
      "                                             wkoppb30\n",
      "                                             wkoppb30\n",
      "                                             wkoppb30\n",
      "                                             wkoppb30\n",
      "89858   hrachd  RUN   priority   aklppb34    aklppb34    VB         Jul  5 10:48\n",
      "                                             aklppb34\n",
      "                                             aklppb34\n",
      "                                             aklppb34\n",
      "                                             aklppb34\n",
      "                                             aklppb34\n",
      "                                             aklppb34\n",
      "                                             aklppb34\n",
      "                                             aklppb34\n",
      "                                             aklppb34\n",
      "                                             aklppb34\n",
      "                                             aklppb34\n",
      "                                             aklppb34\n",
      "                                             aklppb34\n",
      "                                             aklppb34\n",
      "                                             aklppb34\n",
      "                                             aklppb34\n",
      "                                             aklppb34\n",
      "                                             aklppb34\n",
      "                                             aklppb34\n",
      "                                             aklppb34\n",
      "                                             aklppb34\n",
      "                                             aklppb34\n",
      "                                             aklppb34\n",
      "                                             aklppb34\n",
      "                                             aklppb34\n",
      "                                             aklppb34\n",
      "                                             aklppb34\n",
      "                                             aklppb34\n",
      "                                             aklppb34\n",
      "94052   hrachd  RUN   priority   aklppj31    wkoppg32    2MR1       Jul  9 10:58\n",
      "94053   hrachd  RUN   priority   aklppj31    wkoppg32    2MR2       Jul  9 10:58\n",
      "90539   hrachd  PEND  lowpriorit aklppb34                *ene.gff3) Jul  6 10:46\n",
      "90540   hrachd  PEND  lowpriorit aklppb34                *BI.fasta) Jul  6 10:46\n",
      "90541   hrachd  PEND  lowpriorit aklppb34                *meta.csv) Jul  6 10:47\n"
     ]
    }
   ],
   "source": [
    "bjobs "
   ]
  },
  {
   "cell_type": "markdown",
   "metadata": {},
   "source": [
    "## Also create ~200 million read pairs for actual run"
   ]
  },
  {
   "cell_type": "code",
   "execution_count": 7,
   "metadata": {},
   "outputs": [
    {
     "name": "stdout",
     "output_type": "stream",
     "text": [
      "Job <94056> is submitted to queue <priority>.\n",
      "Job <94057> is submitted to queue <priority>.\n"
     ]
    }
   ],
   "source": [
    "m200R1=HH_HiC200M_R1.fastq\n",
    "m200R2=HH_HiC200M_R1.fastq\n",
    "# 569125006*0.4 = 227,650,002 reads\n",
    "bsub -q priority -P P/952006/04 -o $logDir2/01_subsampleR1.log -e $logDir2/01_subsampleR1.err -J 200MR1 \"seqtk sample -s80 $R1 0.4 > $workDir2/$m200R1\"\n",
    "bsub -q priority -P P/952006/04 -o $logDir2/01_subsampleR2.log -e $logDir2/01_subsampleR2.err -J 200MR2 \"seqtk sample -s80 $R2 0.4 > $workDir2/$m200R2\""
   ]
  },
  {
   "cell_type": "markdown",
   "metadata": {},
   "source": [
    "## Prepare reference genome"
   ]
  },
  {
   "cell_type": "code",
   "execution_count": 8,
   "metadata": {},
   "outputs": [
    {
     "name": "stdout",
     "output_type": "stream",
     "text": [
      "Job <94062> is submitted to default queue <lowpriority>.\n"
     ]
    }
   ],
   "source": [
    "assembly=/output/genomic/fish/Macruronus/novaezelandiae/Assembly/Mno_genome.FLYE.PILON.noBac.fasta\n",
    "genome=Hoki_Mno.fasta\n",
    "faiFile=$genome'.fai'\n",
    "genomeFile=Hoki_Mno.genome\n",
    "genomeDir=/workspace/hrachd/Fish/2021/HiC/00_genome\n",
    "mkdir -p $genomeDir/.log\n",
    "\n",
    "cd $genomeDir\n",
    "ln -s $assembly $genome\n",
    "module load samtools\n",
    "bsub -o .log/01.fai.log -e .log/01.fai.err -J fai \"samtools faidx $genome; cut -f1,2 $faiFile > $genomeFile\""
   ]
  },
  {
   "cell_type": "code",
   "execution_count": 10,
   "metadata": {},
   "outputs": [
    {
     "name": "stdout",
     "output_type": "stream",
     "text": [
      "Job <94071> is submitted to queue <priority>.\n"
     ]
    }
   ],
   "source": [
    "module load bwa/0.7.17\n",
    "bsub -o .log/02.idx.log -e .log/02.idx.err -J idx -q priority -P P/952006/04 \"bwa index $genome\""
   ]
  },
  {
   "cell_type": "code",
   "execution_count": 11,
   "metadata": {},
   "outputs": [
    {
     "name": "stdout",
     "output_type": "stream",
     "text": [
      "90980   hrachd  SSUSP priority   aklppf31    wkoppb30    Hoki       Jul  7 09:59\n",
      "89858   hrachd  RUN   priority   aklppb34    aklppb34    VB         Jul  5 10:48\n",
      "94056   hrachd  RUN   priority   aklppj31    aklppb39    200MR1     Jul  9 11:22\n",
      "94057   hrachd  RUN   priority   aklppj31    aklppb39    200MR2     Jul  9 11:22\n",
      "94071   hrachd  RUN   priority   aklppj31    aklppg32    idx        Jul  9 11:33\n",
      "90539   hrachd  PEND  lowpriorit aklppb34                *ene.gff3) Jul  6 10:46\n",
      "90540   hrachd  PEND  lowpriorit aklppb34                *BI.fasta) Jul  6 10:46\n",
      "90541   hrachd  PEND  lowpriorit aklppb34                *meta.csv) Jul  6 10:47\n"
     ]
    }
   ],
   "source": [
    "bjobs | grep hrachd"
   ]
  },
  {
   "cell_type": "markdown",
   "metadata": {},
   "source": [
    "## From FastQ to Valid paris: 2M pairs of TEST reads\n",
    "\n",
    "Refer to [Omni-C, the latest doc](https://omni-c.readthedocs.io/en/latest/fastq_to_bam.html)"
   ]
  },
  {
   "cell_type": "markdown",
   "metadata": {},
   "source": [
    "Requested to [install the latest OmniC Tools](https://github.com/powerPlant/powerPlant/issues/2737). It's not available yet. Hence try Amali's old installation."
   ]
  },
  {
   "cell_type": "code",
   "execution_count": 13,
   "metadata": {},
   "outputs": [
    {
     "name": "stdout",
     "output_type": "stream",
     "text": [
      "/workspace/hrachd/Fish/2021/HiC/10_2M_data/.log\n",
      "/workspace/hrachd/Fish/2021/HiC/10_2M_data\n"
     ]
    }
   ],
   "source": [
    "echo $logDir\n",
    "echo $workDir"
   ]
  },
  {
   "cell_type": "code",
   "execution_count": 24,
   "metadata": {},
   "outputs": [
    {
     "name": "stdout",
     "output_type": "stream",
     "text": [
      "(/workspace/appscratch/miniconda/hraaxt_pairtools) (/workspace/appscratch/miniconda/hraaxt_pairtools) (/workspace/appscratch/miniconda/hraaxt_pairtools) (/workspace/appscratch/miniconda/hraaxt_pairtools) (/workspace/appscratch/miniconda/hraaxt_pairtools) (/workspace/appscratch/miniconda/hraaxt_pairtools) (/workspace/appscratch/miniconda/hraaxt_pairtools) (/workspace/appscratch/miniconda/hraaxt_pairtools) (/workspace/appscratch/miniconda/hraaxt_pairtools) (/workspace/appscratch/miniconda/hraaxt_pairtools) (/workspace/appscratch/miniconda/hraaxt_pairtools) (/workspace/appscratch/miniconda/hraaxt_pairtools) (/workspace/appscratch/miniconda/hraaxt_pairtools) (/workspace/appscratch/miniconda/hraaxt_pairtools) (/workspace/appscratch/miniconda/hraaxt_pairtools) (/workspace/appscratch/miniconda/hraaxt_pairtools) (/workspace/appscratch/miniconda/hraaxt_pairtools) (/workspace/appscratch/miniconda/hraaxt_pairtools) (/workspace/appscratch/miniconda/hraaxt_pairtools) (/workspace/appscratch/miniconda/hraaxt_pairtools) Job <95029> is submitted to queue <priority>.\n",
      "(/workspace/appscratch/miniconda/hraaxt_pairtools) "
     ]
    },
    {
     "ename": "",
     "evalue": "1",
     "output_type": "error",
     "traceback": []
    }
   ],
   "source": [
    "referenceGenome=$genomeDir/$genome\n",
    "thread=10\n",
    "tmpDir=/workspace/hrachd/tmp/hoki/m2test\n",
    "#mkdir -p $tmpDir\n",
    "m2R1=HH_HiC2M_R1.fastq\n",
    "m2R2=HH_HiC2M_R2.fastq\n",
    "\n",
    "statsFile=test.2MReads.stats.txt\n",
    "pairsFile=test.2MReads.mapped.pairs\n",
    "mappedFile=test.2MReads.mapped.PT.bam\n",
    "\n",
    "## Use Amali's old installation\n",
    "module load conda\n",
    "conda activate hraaxt_pairtools\n",
    "export PATH=/workspace/hraaxt/Tools/samblaster:/workspace/hraaxt/Tools/preseq_v2.0/:$PATH\n",
    "module load bwa/0.7.17\n",
    "module load samtools/1.12\n",
    "\n",
    "cd $workDir\n",
    "\n",
    "bsub << EOF\n",
    "#!/bin/bash\n",
    "#BSUB -J M2Bwa\n",
    "#BSUB -o $logDir/03_bwa.log\n",
    "#BSUB -e $logDir/03_bwa.err\n",
    "#BSUB -n $thread\n",
    "#BSUB -q priority \n",
    "#BSUB -P P/952006/04\n",
    "#BSUB -R \"span[hosts=1] rusage[mem=200000]\" \n",
    "\n",
    "bwa mem -5SP -T0 -t $thread $referenceGenome $m2R1 $m2R2| \\\n",
    "pairtools parse --min-mapq 40 --walks-policy 5unique \\\n",
    "--max-inter-align-gap 30 --nproc-in $thread --nproc-out $thread --chroms-path $genomeDir/$genomeFile | \\\n",
    "pairtools sort --tmpdir=$tmpDir --nproc $thread | pairtools dedup --nproc-in $thread \\\n",
    "--nproc-out $thread --mark-dups --output-stats $statsFile | pairtools split --nproc-in $thread \\\n",
    "--nproc-out $thread --output-pairs $pairsFile --output-sam -|samtools view -bS -@ $thread | \\\n",
    "samtools sort -@ $thread -o $mappedFile; samtools index $mappedFile\n",
    "\n",
    "EOF"
   ]
  },
  {
   "cell_type": "code",
   "execution_count": 25,
   "metadata": {},
   "outputs": [
    {
     "name": "stdout",
     "output_type": "stream",
     "text": [
      "90980   hrachd  SSUSP priority   aklppf31    wkoppb30    Hoki       Jul  7 09:59\n",
      "89858   hrachd  RUN   priority   aklppb34    aklppb34    VB         Jul  5 10:48\n",
      "95029   hrachd  RUN   priority   aklppj31    aklppb34    M2Bwa      Jul  9 14:48\n",
      "90539   hrachd  PEND  lowpriorit aklppb34                *ene.gff3) Jul  6 10:46\n",
      "90540   hrachd  PEND  lowpriorit aklppb34                *BI.fasta) Jul  6 10:46\n",
      "90541   hrachd  PEND  lowpriorit aklppb34                *meta.csv) Jul  6 10:47\n",
      "(/workspace/appscratch/miniconda/hraaxt_pairtools) "
     ]
    },
    {
     "ename": "",
     "evalue": "1",
     "output_type": "error",
     "traceback": []
    }
   ],
   "source": [
    "bjobs | grep hrachd"
   ]
  },
  {
   "cell_type": "code",
   "execution_count": 26,
   "metadata": {},
   "outputs": [
    {
     "name": "stdout",
     "output_type": "stream",
     "text": [
      "total 192\n",
      "-rw-rw-r-- 1 hrachd powerplant    0 Jul  9 10:58 01_subsampleR1.err\n",
      "-rw-rw-r-- 1 hrachd powerplant 1024 Jul  9 11:14 01_subsampleR1.log\n",
      "-rw-rw-r-- 1 hrachd powerplant    0 Jul  9 10:58 01_subsampleR2.err\n",
      "-rw-rw-r-- 1 hrachd powerplant 1024 Jul  9 11:18 01_subsampleR2.log\n",
      "-rw-rw-r-- 1 hrachd powerplant    0 Jul  9 14:48 03_bwa.err\n",
      "-rw-rw-r-- 1 hrachd powerplant    0 Jul  9 14:48 03_bwa.log\n",
      "(/workspace/appscratch/miniconda/hraaxt_pairtools) "
     ]
    },
    {
     "ename": "",
     "evalue": "1",
     "output_type": "error",
     "traceback": []
    }
   ],
   "source": [
    "ls -l $logDir/"
   ]
  },
  {
   "cell_type": "code",
   "execution_count": 27,
   "metadata": {},
   "outputs": [
    {
     "name": "stdout",
     "output_type": "stream",
     "text": [
      "90980   hrachd  SSUSP priority   aklppf31    wkoppb30    Hoki       Jul  7 09:59\n",
      "89858   hrachd  RUN   priority   aklppb34    aklppb34    VB         Jul  5 10:48\n",
      "95029   hrachd  RUN   priority   aklppj31    aklppb34    M2Bwa      Jul  9 14:48\n",
      "90539   hrachd  PEND  lowpriorit aklppb34                *ene.gff3) Jul  6 10:46\n",
      "90540   hrachd  PEND  lowpriorit aklppb34                *BI.fasta) Jul  6 10:46\n",
      "90541   hrachd  PEND  lowpriorit aklppb34                *meta.csv) Jul  6 10:47\n",
      "(/workspace/appscratch/miniconda/hraaxt_pairtools) "
     ]
    },
    {
     "ename": "",
     "evalue": "1",
     "output_type": "error",
     "traceback": []
    }
   ],
   "source": [
    "bjobs | grep hrachd"
   ]
  },
  {
   "cell_type": "code",
   "execution_count": null,
   "metadata": {},
   "outputs": [],
   "source": []
  }
 ],
 "metadata": {
  "kernelspec": {
   "display_name": "Bash",
   "language": "bash",
   "name": "bash"
  },
  "language_info": {
   "codemirror_mode": "shell",
   "file_extension": ".sh",
   "mimetype": "text/x-sh",
   "name": "bash"
  }
 },
 "nbformat": 4,
 "nbformat_minor": 4
}
