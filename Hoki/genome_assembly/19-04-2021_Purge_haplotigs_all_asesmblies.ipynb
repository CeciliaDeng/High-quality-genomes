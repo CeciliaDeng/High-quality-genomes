{
 "cells": [
  {
   "cell_type": "markdown",
   "metadata": {},
   "source": [
    "# Coverage profile and haplotype purging\n",
    "\n",
    "Assemblies were generated from long reads and corrected using short reads for one iteration on PILON"
   ]
  },
  {
   "cell_type": "code",
   "execution_count": 1,
   "metadata": {},
   "outputs": [],
   "source": [
    "mkdir 009.Purge_haplotigs"
   ]
  },
  {
   "cell_type": "code",
   "execution_count": 4,
   "metadata": {},
   "outputs": [],
   "source": [
    "WORKDIR=/workspace/hraczw/github/hoki_genomics/009.Purge_haplotigs\n",
    "ASSEMBLY_PATH=/workspace/hraczw/github/hoki_genomics/009.Purge_haplotigs\n",
    "ONT=/workspace/hraczw/github/hoki_genomics/ALL_HOKI_ont_plusP.fastq.gz"
   ]
  },
  {
   "cell_type": "code",
   "execution_count": 5,
   "metadata": {},
   "outputs": [
    {
     "name": "stdout",
     "output_type": "stream",
     "text": [
      "/workspace/hraczw/github/hoki_genomics/005.pilon_correctFLYE/FlyeAssembly_PFR_AGRF_plusP_P1_pilon-2_corrected.noBacteria.fasta\n"
     ]
    }
   ],
   "source": [
    "cat $ASSEMBLY_PATH/assemblies.txt"
   ]
  },
  {
   "cell_type": "code",
   "execution_count": 6,
   "metadata": {},
   "outputs": [
    {
     "name": "stdout",
     "output_type": "stream",
     "text": [
      "(base) (/workspace/appscratch/miniconda/purge_haplotigs_env) "
     ]
    },
    {
     "ename": "",
     "evalue": "1",
     "output_type": "error",
     "traceback": []
    }
   ],
   "source": [
    "module unload perl/5.28.0\n",
    "module load perl/5.28.0-thread-multi\n",
    "module load bedtools/2.27.1\n",
    "module load R/3.6.1\n",
    "export PATH=$PATH:/workspace/hrarnc/GitHub/minimap2\n",
    "module load conda/4.5.1\n",
    "conda activate purge_haplotigs_env"
   ]
  },
  {
   "cell_type": "code",
   "execution_count": 7,
   "metadata": {},
   "outputs": [
    {
     "name": "stdout",
     "output_type": "stream",
     "text": [
      "(/workspace/appscratch/miniconda/purge_haplotigs_env) Currently Loaded Modulefiles:\n",
      "  1) powerPlant/core            9) unixODBC/2.3.0\n",
      "  2) texlive/20151117          10) JAGS/4.2.0\n",
      "  3) pandoc/1.19.2             11) gdal/2.4.0\n",
      "  4) git/2.21.0                12) proj/5.2.0\n",
      "  5) perlbrew/0.76             13) R/3.6.1\n",
      "  6) asub/2.2                  14) conda/4.5.1\n",
      "  7) perl/5.28.0-thread-multi  15) samtools/1.9\n",
      "  8) bedtools/2.27.1\n",
      "(/workspace/appscratch/miniconda/purge_haplotigs_env) "
     ]
    },
    {
     "ename": "",
     "evalue": "1",
     "output_type": "error",
     "traceback": []
    }
   ],
   "source": [
    "module load samtools\n",
    "module list"
   ]
  },
  {
   "cell_type": "code",
   "execution_count": 8,
   "metadata": {},
   "outputs": [
    {
     "name": "stdout",
     "output_type": "stream",
     "text": [
      "Job <301923> is submitted to default queue <lowpriority>.\n",
      "(/workspace/appscratch/miniconda/purge_haplotigs_env) "
     ]
    },
    {
     "ename": "",
     "evalue": "1",
     "output_type": "error",
     "traceback": []
    }
   ],
   "source": [
    "python << EOF\n",
    "\n",
    "import sys, os\n",
    "\n",
    "f = open('$ASSEMBLY_PATH/assemblies.txt', 'r')\n",
    "\n",
    "for line in f:\n",
    "    assembly = line.split('\\n')[0]\n",
    "    assemblyName = line.split('/')[-1].split('.fa')[0]\n",
    "    os.system('bsub -J minimap2 \\\n",
    "            -m wkoppg32 \\\n",
    "            -n 20 \\\n",
    "            -o $WORKDIR/' + assemblyName + '_minimap2.out \\\n",
    "            -e $WORKDIR/' + assemblyName + '_minimap2.err \\\n",
    "            \"minimap2 -t 20 --secondary=no -ax map-ont ' + assembly + ' $ONT | \\\n",
    "            samtools sort -@ 20 -o $WORKDIR/' + assemblyName + '.ONT.aligned.sorted.bam -\"')\n",
    "\n",
    "\n",
    "f.close()\n",
    "\n",
    "EOF"
   ]
  },
  {
   "cell_type": "code",
   "execution_count": 9,
   "metadata": {},
   "outputs": [
    {
     "name": "stdout",
     "output_type": "stream",
     "text": [
      "(/workspace/appscratch/miniconda/purge_haplotigs_env) "
     ]
    },
    {
     "ename": "",
     "evalue": "1",
     "output_type": "error",
     "traceback": []
    }
   ],
   "source": [
    "export PATH=/workspace/appscratch/miniconda/purge_haplotigs_env/bin/:$PATH"
   ]
  },
  {
   "cell_type": "code",
   "execution_count": 10,
   "metadata": {},
   "outputs": [
    {
     "name": "stdout",
     "output_type": "stream",
     "text": [
      "[20-04-2021 10:17:28] bedtools OK!\n",
      "[20-04-2021 10:17:28] Rscript OK!\n",
      "[20-04-2021 10:17:28] samtools OK!\n",
      "[20-04-2021 10:17:28] ALL DEPENDENCIES OK\n",
      "\n",
      "\n",
      "\n",
      "USAGE:\n",
      "purge_haplotigs  hist  -b aligned.bam  -g genome.fasta  [ -t threads ]\n",
      "\n",
      "REQUIRED:\n",
      "-b / -bam       BAM file of aligned and sorted reads/subreads to the reference\n",
      "-g / -genome    Reference FASTA for the BAM file.\n",
      "\n",
      "OPTIONAL:\n",
      "-t / -threads   Number of worker threads to use, DEFAULT = 4, MINIMUM = 2\n",
      "-d / -depth     Maximum cutoff for depth. DEFAULT = 200, increase if needed,\n",
      "                set much higher than your expected average coverage.\n",
      "(/workspace/appscratch/miniconda/purge_haplotigs_env) "
     ]
    },
    {
     "ename": "",
     "evalue": "1",
     "output_type": "error",
     "traceback": []
    }
   ],
   "source": [
    "purge_haplotigs hist"
   ]
  },
  {
   "cell_type": "code",
   "execution_count": 11,
   "metadata": {},
   "outputs": [
    {
     "name": "stdout",
     "output_type": "stream",
     "text": [
      "(/workspace/appscratch/miniconda/purge_haplotigs_env) (/workspace/appscratch/miniconda/purge_haplotigs_env) (/workspace/appscratch/miniconda/purge_haplotigs_env) (/workspace/appscratch/miniconda/purge_haplotigs_env) bsub -J hist     -m wkoppg32     -n 20     -o /workspace/hraczw/github/hoki_genomics/009.Purge_haplotigs/FlyeAssembly_PFR_AGRF_plusP_P1_pilon-2_corrected.noBacteria_hist.out     -e /workspace/hraczw/github/hoki_genomics/009.Purge_haplotigs/FlyeAssembly_PFR_AGRF_plusP_P1_pilon-2_corrected.noBacteria_hist.err     \"purge_haplotigs hist     -b /workspace/hraczw/github/hoki_genomics/009.Purge_haplotigs/FlyeAssembly_PFR_AGRF_plusP_P1_pilon-2_corrected.noBacteria.ONT.aligned.sorted.bam     -g /workspace/hraczw/github/hoki_genomics/005.pilon_correctFLYE/FlyeAssembly_PFR_AGRF_plusP_P1_pilon-2_corrected.noBacteria.fasta -t 20 -d 300\"\n",
      "(/workspace/appscratch/miniconda/purge_haplotigs_env) "
     ]
    },
    {
     "ename": "",
     "evalue": "1",
     "output_type": "error",
     "traceback": []
    }
   ],
   "source": [
    "# this step will generate a temp folder and running multiple jobs with the same folder generating can collapse\n",
    "# better to create different subfolders and then run each job under different folder\n",
    "\n",
    "\n",
    "python << EOF\n",
    "\n",
    "f = open('$ASSEMBLY_PATH/assemblies.txt', 'r')\n",
    "\n",
    "\n",
    "for line in f:\n",
    "    assembly = line.split('\\n')[0]\n",
    "    assemblyName = line.split('/')[-1].split('.fa')[0]\n",
    "    command = 'bsub -J hist \\\n",
    "    -m wkoppg32 \\\n",
    "    -n 20 \\\n",
    "    -o $WORKDIR/' + assemblyName + '_hist.out \\\n",
    "    -e $WORKDIR/' + assemblyName + '_hist.err \\\n",
    "    \"purge_haplotigs hist \\\n",
    "    -b $WORKDIR/' + assemblyName + '.ONT.aligned.sorted.bam \\\n",
    "    -g ' + assembly + ' -t 20 -d 300\"'\n",
    "    print (command)\n",
    "\n",
    "f.close()\n",
    "\n",
    "EOF"
   ]
  },
  {
   "cell_type": "code",
   "execution_count": 13,
   "metadata": {},
   "outputs": [
    {
     "name": "stdout",
     "output_type": "stream",
     "text": [
      "Job <304282> is submitted to default queue <lowpriority>.\n",
      "(/workspace/appscratch/miniconda/purge_haplotigs_env) "
     ]
    },
    {
     "ename": "",
     "evalue": "1",
     "output_type": "error",
     "traceback": []
    }
   ],
   "source": [
    "bsub -J hist     -m wkoppg32     -n 20     -o /workspace/hraczw/github/hoki_genomics/009.Purge_haplotigs/FlyeAssembly_PFR_AGRF_plusP_P1_pilon-2_corrected.noBacteria_hist.out     -e /workspace/hraczw/github/hoki_genomics/009.Purge_haplotigs/FlyeAssembly_PFR_AGRF_plusP_P1_pilon-2_corrected.noBacteria_hist.err     \"purge_haplotigs hist     -b /workspace/hraczw/github/hoki_genomics/009.Purge_haplotigs/FlyeAssembly_PFR_AGRF_plusP_P1_pilon-2_corrected.noBacteria.ONT.aligned.sorted.bam     -g /workspace/hraczw/github/hoki_genomics/005.pilon_correctFLYE/FlyeAssembly_PFR_AGRF_plusP_P1_pilon-2_corrected.noBacteria.fasta -t 20 -d 300\""
   ]
  },
  {
   "cell_type": "code",
   "execution_count": 15,
   "metadata": {},
   "outputs": [
    {
     "name": "stdout",
     "output_type": "stream",
     "text": [
      "(/workspace/appscratch/miniconda/purge_haplotigs_env) "
     ]
    },
    {
     "ename": "",
     "evalue": "1",
     "output_type": "error",
     "traceback": []
    }
   ],
   "source": [
    "mv FlyeAssembly_PFR_AGRF_plusP_P1_pilon-2_corrected.noBacteria.ONT.aligned.sorted* 009.Purge_haplotigs"
   ]
  },
  {
   "cell_type": "code",
   "execution_count": 16,
   "metadata": {},
   "outputs": [
    {
     "name": "stdout",
     "output_type": "stream",
     "text": [
      "assemblies.txt\n",
      "FlyeAssembly_PFR_AGRF_plusP_P1_pilon-2_corrected.noBacteria_hist.err\n",
      "FlyeAssembly_PFR_AGRF_plusP_P1_pilon-2_corrected.noBacteria_hist.out\n",
      "FlyeAssembly_PFR_AGRF_plusP_P1_pilon-2_corrected.noBacteria_minimap2.err\n",
      "FlyeAssembly_PFR_AGRF_plusP_P1_pilon-2_corrected.noBacteria_minimap2.out\n",
      "FlyeAssembly_PFR_AGRF_plusP_P1_pilon-2_corrected.noBacteria.ONT.aligned.sorted.bam\n",
      "FlyeAssembly_PFR_AGRF_plusP_P1_pilon-2_corrected.noBacteria.ONT.aligned.sorted.bam.bai\n",
      "FlyeAssembly_PFR_AGRF_plusP_P1_pilon-2_corrected.noBacteria.ONT.aligned.sorted.bam.gencov\n",
      "FlyeAssembly_PFR_AGRF_plusP_P1_pilon-2_corrected.noBacteria.ONT.aligned.sorted.bam.histogram.png\n",
      "(/workspace/appscratch/miniconda/purge_haplotigs_env) "
     ]
    },
    {
     "ename": "",
     "evalue": "1",
     "output_type": "error",
     "traceback": []
    }
   ],
   "source": [
    "ls 009.Purge_haplotigs/"
   ]
  },
  {
   "cell_type": "code",
   "execution_count": 17,
   "metadata": {},
   "outputs": [
    {
     "name": "stdout",
     "output_type": "stream",
     "text": []
    },
    {
     "data": {
      "image/png": "[encoded data removed]"
     },
     "metadata": {},
     "output_type": "display_data"
    },
    {
     "name": "stdout",
     "output_type": "stream",
     "text": [
      "(/workspace/appscratch/miniconda/purge_haplotigs_env) "
     ]
    },
    {
     "ename": "",
     "evalue": "1",
     "output_type": "error",
     "traceback": []
    }
   ],
   "source": [
    "cat 009.Purge_haplotigs/FlyeAssembly_PFR_AGRF_plusP_P1_pilon-2_corrected.noBacteria.ONT.aligned.sorted.bam.histogram.png | display"
   ]
  }
 ],
 "metadata": {
  "kernelspec": {
   "display_name": "Bash",
   "language": "bash",
   "name": "bash"
  },
  "language_info": {
   "codemirror_mode": "shell",
   "file_extension": ".sh",
   "mimetype": "text/x-sh",
   "name": "bash"
  }
 },
 "nbformat": 4,
 "nbformat_minor": 4
}
