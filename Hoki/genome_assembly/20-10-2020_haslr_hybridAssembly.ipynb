{
 "cells": [
  {
   "cell_type": "markdown",
   "metadata": {},
   "source": [
    "# Hybrid assembly using HASLR\n",
    "\n",
    "* This was used to try a hybrid assembly from inhouse MiNION data and short read WGS data.\n",
    "* The result is not as good as using the inhouse MiNION data only."
   ]
  },
  {
   "cell_type": "code",
   "execution_count": 1,
   "metadata": {},
   "outputs": [],
   "source": [
    "mkdir 004.haslr_hybridAssembly"
   ]
  },
  {
   "cell_type": "code",
   "execution_count": 1,
   "metadata": {},
   "outputs": [],
   "source": [
    "WORKDIR=004.haslr_hybridAssembly"
   ]
  },
  {
   "cell_type": "code",
   "execution_count": 2,
   "metadata": {},
   "outputs": [],
   "source": [
    "export PATH=/workspace/hraczw/github/programs/haslr/bin/:$PATH"
   ]
  },
  {
   "cell_type": "code",
   "execution_count": 3,
   "metadata": {},
   "outputs": [],
   "source": [
    "R1=/input/genomic/fish/Macruronus/novaezelandiae/Illumina/AGRF_CAGRF20062892_J9Y9G/HHP2_J9Y9G_AACGTTCC-GGAGTACT_L001_R1.fastq.gz\n",
    "R2=/input/genomic/fish/Macruronus/novaezelandiae/Illumina/AGRF_CAGRF20062892_J9Y9G/HHP2_J9Y9G_AACGTTCC-GGAGTACT_L001_R2.fastq.gz"
   ]
  },
  {
   "cell_type": "code",
   "execution_count": 4,
   "metadata": {},
   "outputs": [],
   "source": [
    "ONT=HOKI_ont.fastq.gz"
   ]
  },
  {
   "cell_type": "code",
   "execution_count": 5,
   "metadata": {},
   "outputs": [
    {
     "name": "stdout",
     "output_type": "stream",
     "text": [
      "usage: haslr.py [-t THREADS] -o OUT_DIR -g GENOME_SIZE -l LONG [LONG ...] -x LONG_TYPE -s SHORT [SHORT ...]\n",
      "\n",
      "required arguments:\n",
      "  -o, --out OUT_DIR              output directory\n",
      "  -g, --genome GENOME_SIZE       estimated genome size; accepted suffixes are k,m,g\n",
      "  -l, --long LONG [LONG ...]     long read file\n",
      "  -x, --type LONG_TYPE           type of long reads chosen from {pacbio, nanopore, corrected}\n",
      "  -s, --short SHORT [SHORT ...]  short read file. Required if --contig is not given\n",
      "  -c, --contig CONTIG            pre-assembled short read contigs. If given, no need to pass --short\n",
      "\n",
      "optional arguments:\n",
      "  -t, --threads THREADS          number of CPU threads to use [1]\n",
      "  --cov-lr COV_LR                amount of long read coverage to use for assembly (0 for using all long reads) [25]\n",
      "  --aln-block ALN_BLOCK          minimum length of alignment block [500]\n",
      "  --aln-sim ALN_SIM              minimum alignment similarity [0.85]\n",
      "  --edge-sup EDGE_SUP            minimum number of long read supporting each edge [3]\n",
      "  --minia-kmer MINIA_KMER        kmer size used by minia [49]\n",
      "  --minia-solid MINIA_SOLID      minimum kmer abundance used by minia [3]\n",
      "  --minia-asm MINIA_ASM          type of minia assembly chosen from {contigs,unitigs} [contigs]\n",
      "  --min-src MIN_SRC              minimum length of short read contigs to be used [250]\n",
      "  --short-fofn                   SHORT is a file of file names\n",
      "  --long-fofn                    LONG is a file of file names\n",
      "  -v, --version                  print version\n",
      "  -h, --help                     show this help message and exit\n"
     ]
    }
   ],
   "source": [
    "haslr.py -h"
   ]
  },
  {
   "cell_type": "code",
   "execution_count": 6,
   "metadata": {},
   "outputs": [
    {
     "name": "stdout",
     "output_type": "stream",
     "text": [
      "Currently Loaded Modulefiles:\n",
      "  1) powerPlant/core    4) git/2.21.0         7) asub/2.1\n",
      "  2) texlive/20151117   5) perlbrew/0.76\n",
      "  3) pandoc/1.19.2      6) perl/5.28.0\n"
     ]
    }
   ],
   "source": [
    "module list"
   ]
  },
  {
   "cell_type": "code",
   "execution_count": 9,
   "metadata": {},
   "outputs": [],
   "source": [
    "module load pfr-python3"
   ]
  },
  {
   "cell_type": "code",
   "execution_count": 10,
   "metadata": {},
   "outputs": [
    {
     "name": "stdout",
     "output_type": "stream",
     "text": [
      "Job <434787> is submitted to default queue <lowpriority>.\n"
     ]
    }
   ],
   "source": [
    "bsub -J haslr -n 8 -m wkoppg32 -o $WORKDIR/haslr.out -e $WORKDIR/haslr.err \\\n",
    "\"haslr.py -t 8 -o $WORKDIR -g 700m -l $ONT -x nanopore -s $R1 $R2 -t 8 --cov-lr 0\""
   ]
  }
 ],
 "metadata": {
  "kernelspec": {
   "display_name": "Bash",
   "language": "bash",
   "name": "bash"
  },
  "language_info": {
   "codemirror_mode": "shell",
   "file_extension": ".sh",
   "mimetype": "text/x-sh",
   "name": "bash"
  }
 },
 "nbformat": 4,
 "nbformat_minor": 4
}
