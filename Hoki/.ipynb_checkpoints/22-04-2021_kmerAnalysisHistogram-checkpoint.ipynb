{
 "cells": [
  {
   "cell_type": "markdown",
   "metadata": {},
   "source": [
    "# Kmer analysis - histogram"
   ]
  },
  {
   "cell_type": "code",
   "execution_count": 1,
   "metadata": {},
   "outputs": [
    {
     "data": {
      "text/html": [
       "'/powerplant/workspace/hraczw/github/hoki_genomics'"
      ],
      "text/latex": [
       "'/powerplant/workspace/hraczw/github/hoki\\_genomics'"
      ],
      "text/markdown": [
       "'/powerplant/workspace/hraczw/github/hoki_genomics'"
      ],
      "text/plain": [
       "[1] \"/powerplant/workspace/hraczw/github/hoki_genomics\""
      ]
     },
     "metadata": {},
     "output_type": "display_data"
    }
   ],
   "source": [
    "getwd()"
   ]
  },
  {
   "cell_type": "code",
   "execution_count": 47,
   "metadata": {},
   "outputs": [],
   "source": [
    "df = read.table(\"010.kmerAnalysis/reads.histo\", header = FALSE)"
   ]
  },
  {
   "cell_type": "code",
   "execution_count": 48,
   "metadata": {},
   "outputs": [
    {
     "data": {
      "text/html": [
       "<table>\n",
       "<caption>A data.frame: 6 × 2</caption>\n",
       "<thead>\n",
       "\t<tr><th scope=col>V1</th><th scope=col>V2</th></tr>\n",
       "\t<tr><th scope=col>&lt;int&gt;</th><th scope=col>&lt;dbl&gt;</th></tr>\n",
       "</thead>\n",
       "<tbody>\n",
       "\t<tr><td>1</td><td>2814280393</td></tr>\n",
       "\t<tr><td>2</td><td> 100843975</td></tr>\n",
       "\t<tr><td>3</td><td>  27804267</td></tr>\n",
       "\t<tr><td>4</td><td>  18467025</td></tr>\n",
       "\t<tr><td>5</td><td>  16157992</td></tr>\n",
       "\t<tr><td>6</td><td>  15625333</td></tr>\n",
       "</tbody>\n",
       "</table>\n"
      ],
      "text/latex": [
       "A data.frame: 6 × 2\n",
       "\\begin{tabular}{r|ll}\n",
       " V1 & V2\\\\\n",
       " <int> & <dbl>\\\\\n",
       "\\hline\n",
       "\t 1 & 2814280393\\\\\n",
       "\t 2 &  100843975\\\\\n",
       "\t 3 &   27804267\\\\\n",
       "\t 4 &   18467025\\\\\n",
       "\t 5 &   16157992\\\\\n",
       "\t 6 &   15625333\\\\\n",
       "\\end{tabular}\n"
      ],
      "text/markdown": [
       "\n",
       "A data.frame: 6 × 2\n",
       "\n",
       "| V1 &lt;int&gt; | V2 &lt;dbl&gt; |\n",
       "|---|---|\n",
       "| 1 | 2814280393 |\n",
       "| 2 |  100843975 |\n",
       "| 3 |   27804267 |\n",
       "| 4 |   18467025 |\n",
       "| 5 |   16157992 |\n",
       "| 6 |   15625333 |\n",
       "\n"
      ],
      "text/plain": [
       "  V1 V2        \n",
       "1 1  2814280393\n",
       "2 2   100843975\n",
       "3 3    27804267\n",
       "4 4    18467025\n",
       "5 5    16157992\n",
       "6 6    15625333"
      ]
     },
     "metadata": {},
     "output_type": "display_data"
    }
   ],
   "source": [
    "head(df)"
   ]
  },
  {
   "cell_type": "code",
   "execution_count": 49,
   "metadata": {},
   "outputs": [],
   "source": [
    "library(ggplot2)"
   ]
  },
  {
   "cell_type": "code",
   "execution_count": 50,
   "metadata": {},
   "outputs": [],
   "source": [
    "library(ggthemes)"
   ]
  },
  {
   "cell_type": "code",
   "execution_count": 51,
   "metadata": {},
   "outputs": [
    {
     "name": "stderr",
     "output_type": "stream",
     "text": [
      "Saving 6.67 x 6.67 in image\n",
      "Warning message:\n",
      "\"Removed 9570 row(s) containing missing values (geom_path).\"Warning message:\n",
      "\"Removed 9570 row(s) containing missing values (geom_path).\""
     ]
    }
   ],
   "source": [
    "p = ggplot(data = df, aes(x=V1, y=V2)) + \n",
    "geom_line() +\n",
    "#scale_x_continuous(expand = c(0, 0), limits = c(0,NA)) + \n",
    "#scale_y_continuous(expand = c(0, 0), limits = c(0, NA)) +\n",
    "xlim(0, 100) + ylim(0, 2e+7) +\n",
    "xlab(\"Coverage\") + ylab(\"Frequency\") +\n",
    "geom_line(color=\"black\", size = 0.2) +\n",
    "theme_classic() +\n",
    "theme(panel.border = element_blank(),\n",
    "  panel.grid.major = element_blank(),\n",
    "  panel.grid.minor = element_blank(),axis.line = element_line(colour = \"black\", size = 0.2)) +\n",
    "#geom_vline(xintercept = 12, linetype = \"dashed\", color = \"blue\", size = 0.2) +\n",
    "#geom_vline(xintercept = 25, linetype = \"dashed\", color = \"blue\", size = 0.2) +\n",
    "#geom_vline(xintercept = 43, linetype = \"dashed\", color = \"red\", size = 0.2) +\n",
    "#geom_vline(xintercept = 140, linetype = \"dashed\", color = \"green\", size = 0.2) +\n",
    "geom_segment(x = 12, y = -2000000, xend = 12, yend = 16993373, linetype = \"dashed\", color = \"magenta\", size = 0.2) +\n",
    "geom_segment(x = 25, y = -2000000, xend = 25, yend = 14010230, linetype = \"dashed\", color = \"blue\", size = 0.2) #+\n",
    "#geom_segment(x = 43, y = -2000000, xend = 43, yend = 2594012, linetype = \"dashed\", color = \"red\", size = 0.2) +\n",
    "#geom_segment(x = 140, y = -2000000, xend = 140, yend = 1440842, linetype = \"dashed\", color = \"green\", size = 0.2)\n",
    "#expand_limits(x = 0, y = 0)\n",
    "ggsave(filename = \"010.kmerAnalysis/kmer_distribution.png\", p, dpi = 300, units = \"in\", device='png')"
   ]
  }
 ],
 "metadata": {
  "kernelspec": {
   "display_name": "R-3.6.1",
   "language": "R",
   "name": "ir3.6.1"
  },
  "language_info": {
   "codemirror_mode": "r",
   "file_extension": ".r",
   "mimetype": "text/x-r-source",
   "name": "R",
   "pygments_lexer": "r",
   "version": "3.6.1"
  }
 },
 "nbformat": 4,
 "nbformat_minor": 4
}
